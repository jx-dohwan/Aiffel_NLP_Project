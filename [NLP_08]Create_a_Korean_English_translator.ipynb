{
  "nbformat": 4,
  "nbformat_minor": 0,
  "metadata": {
    "colab": {
      "provenance": [],
      "collapsed_sections": [],
      "machine_shape": "hm",
      "mount_file_id": "1ZPC-nK0u3Y54sh2cDcr35Wq5PsXYliEz",
      "authorship_tag": "ABX9TyNzjzW60G8iXVp4T0j2CpMo",
      "include_colab_link": true
    },
    "kernelspec": {
      "name": "python3",
      "display_name": "Python 3"
    },
    "language_info": {
      "name": "python"
    },
    "accelerator": "GPU",
    "gpuClass": "premium"
  },
  "cells": [
    {
      "cell_type": "markdown",
      "metadata": {
        "id": "view-in-github",
        "colab_type": "text"
      },
      "source": [
        "<a href=\"https://colab.research.google.com/github/jx-dohwan/Aiffel_NLP_Project/blob/main/%5BNLP_08%5DCreate_a_Korean_English_translator.ipynb\" target=\"_parent\"><img src=\"https://colab.research.google.com/assets/colab-badge.svg\" alt=\"Open In Colab\"/></a>"
      ]
    },
    {
      "cell_type": "markdown",
      "source": [
        "# [NLP_08]Create a Korean-English translator"
      ],
      "metadata": {
        "id": "R-YV2EsbTHp6"
      }
    },
    {
      "cell_type": "markdown",
      "source": [
        "## 1. import 및 라이브러리 로드"
      ],
      "metadata": {
        "id": "asyP2WqzDhbb"
      }
    },
    {
      "cell_type": "code",
      "source": [
        "!sudo apt-get install -y fonts-nanum\n",
        "!sudo fc-cache -fv\n",
        "!rm ~/.cache/matplotlib -rf"
      ],
      "metadata": {
        "colab": {
          "base_uri": "https://localhost:8080/"
        },
        "id": "ZedciL65lVNp",
        "outputId": "d7b33796-cd74-4d90-b1d1-ddf5d34392d2"
      },
      "execution_count": 1,
      "outputs": [
        {
          "output_type": "stream",
          "name": "stdout",
          "text": [
            "Reading package lists... Done\n",
            "Building dependency tree       \n",
            "Reading state information... Done\n",
            "fonts-nanum is already the newest version (20170925-1).\n",
            "The following package was automatically installed and is no longer required:\n",
            "  libnvidia-common-460\n",
            "Use 'sudo apt autoremove' to remove it.\n",
            "0 upgraded, 0 newly installed, 0 to remove and 12 not upgraded.\n",
            "/usr/share/fonts: caching, new cache contents: 0 fonts, 1 dirs\n",
            "/usr/share/fonts/truetype: caching, new cache contents: 0 fonts, 3 dirs\n",
            "/usr/share/fonts/truetype/humor-sans: caching, new cache contents: 1 fonts, 0 dirs\n",
            "/usr/share/fonts/truetype/liberation: caching, new cache contents: 16 fonts, 0 dirs\n",
            "/usr/share/fonts/truetype/nanum: caching, new cache contents: 10 fonts, 0 dirs\n",
            "/usr/local/share/fonts: caching, new cache contents: 0 fonts, 0 dirs\n",
            "/root/.local/share/fonts: skipping, no such directory\n",
            "/root/.fonts: skipping, no such directory\n",
            "/var/cache/fontconfig: cleaning cache directory\n",
            "/root/.cache/fontconfig: not cleaning non-existent cache directory\n",
            "/root/.fontconfig: not cleaning non-existent cache directory\n",
            "fc-cache: succeeded\n"
          ]
        }
      ]
    },
    {
      "cell_type": "code",
      "source": [
        "!curl -s https://raw.githubusercontent.com/teddylee777/machine-learning/master/99-Misc/01-Colab/mecab-colab.sh | bash"
      ],
      "metadata": {
        "colab": {
          "base_uri": "https://localhost:8080/"
        },
        "id": "6R5rxrL61Fuz",
        "outputId": "81100a19-fbc0-4779-cb6e-5ce1f796ece7"
      },
      "execution_count": 2,
      "outputs": [
        {
          "output_type": "stream",
          "name": "stdout",
          "text": [
            "--2022-10-14 04:34:47--  https://www.dropbox.com/s/9xls0tgtf3edgns/mecab-0.996-ko-0.9.2.tar.gz?dl=1\n",
            "Resolving www.dropbox.com (www.dropbox.com)... 162.125.5.18, 2620:100:601d:18::a27d:512\n",
            "Connecting to www.dropbox.com (www.dropbox.com)|162.125.5.18|:443... connected.\n",
            "HTTP request sent, awaiting response... 302 Found\n",
            "Location: /s/dl/9xls0tgtf3edgns/mecab-0.996-ko-0.9.2.tar.gz [following]\n",
            "--2022-10-14 04:34:48--  https://www.dropbox.com/s/dl/9xls0tgtf3edgns/mecab-0.996-ko-0.9.2.tar.gz\n",
            "Reusing existing connection to www.dropbox.com:443.\n",
            "HTTP request sent, awaiting response... 302 Found\n",
            "Location: https://uc9b925593cb002f9155799224d4.dl.dropboxusercontent.com/cd/0/get/BuwlSoyhiPc00e6_sZX1pDEUmVm2zPWexKovBy93otgjZZ1ncVAMouLPTf8IsDYSoUUpcFT-filHvD__plOMDjVoBlptoIfUOaDnqwvN243dpcW8142aVJ1rlwMuxgbxF_gYjs55Qx11k2Q4gR0jAPJwVIRvL0SEEVH9gDEha_y-EUyEzS_wJ41x2lV3Y2P7JwI/file?dl=1# [following]\n",
            "--2022-10-14 04:34:48--  https://uc9b925593cb002f9155799224d4.dl.dropboxusercontent.com/cd/0/get/BuwlSoyhiPc00e6_sZX1pDEUmVm2zPWexKovBy93otgjZZ1ncVAMouLPTf8IsDYSoUUpcFT-filHvD__plOMDjVoBlptoIfUOaDnqwvN243dpcW8142aVJ1rlwMuxgbxF_gYjs55Qx11k2Q4gR0jAPJwVIRvL0SEEVH9gDEha_y-EUyEzS_wJ41x2lV3Y2P7JwI/file?dl=1\n",
            "Resolving uc9b925593cb002f9155799224d4.dl.dropboxusercontent.com (uc9b925593cb002f9155799224d4.dl.dropboxusercontent.com)... 162.125.5.15, 2620:100:601d:15::a27d:50f\n",
            "Connecting to uc9b925593cb002f9155799224d4.dl.dropboxusercontent.com (uc9b925593cb002f9155799224d4.dl.dropboxusercontent.com)|162.125.5.15|:443... connected.\n",
            "HTTP request sent, awaiting response... 200 OK\n",
            "Length: 1414979 (1.3M) [application/binary]\n",
            "Saving to: ‘mecab-0.996-ko-0.9.2.tar.gz?dl=1.5’\n",
            "\n",
            "mecab-0.996-ko-0.9. 100%[===================>]   1.35M  --.-KB/s    in 0.1s    \n",
            "\n",
            "2022-10-14 04:34:49 (12.4 MB/s) - ‘mecab-0.996-ko-0.9.2.tar.gz?dl=1.5’ saved [1414979/1414979]\n",
            "\n",
            "mecab-0.996-ko-0.9.2/\n",
            "mecab-0.996-ko-0.9.2/example/\n",
            "mecab-0.996-ko-0.9.2/example/example.cpp\n",
            "mecab-0.996-ko-0.9.2/example/example_lattice.cpp\n",
            "mecab-0.996-ko-0.9.2/example/example_lattice.c\n",
            "mecab-0.996-ko-0.9.2/example/example.c\n",
            "mecab-0.996-ko-0.9.2/example/thread_test.cpp\n",
            "mecab-0.996-ko-0.9.2/mecab-config.in\n",
            "mecab-0.996-ko-0.9.2/man/\n",
            "mecab-0.996-ko-0.9.2/man/Makefile.am\n",
            "mecab-0.996-ko-0.9.2/man/mecab.1\n",
            "mecab-0.996-ko-0.9.2/man/Makefile.in\n",
            "mecab-0.996-ko-0.9.2/mecab.iss.in\n",
            "mecab-0.996-ko-0.9.2/config.guess\n",
            "mecab-0.996-ko-0.9.2/README\n",
            "mecab-0.996-ko-0.9.2/COPYING\n",
            "mecab-0.996-ko-0.9.2/CHANGES.md\n",
            "mecab-0.996-ko-0.9.2/README.md\n",
            "mecab-0.996-ko-0.9.2/INSTALL\n",
            "mecab-0.996-ko-0.9.2/config.sub\n",
            "mecab-0.996-ko-0.9.2/configure.in\n",
            "mecab-0.996-ko-0.9.2/swig/\n",
            "mecab-0.996-ko-0.9.2/swig/Makefile\n",
            "mecab-0.996-ko-0.9.2/swig/version.h.in\n",
            "mecab-0.996-ko-0.9.2/swig/version.h\n",
            "mecab-0.996-ko-0.9.2/swig/MeCab.i\n",
            "mecab-0.996-ko-0.9.2/aclocal.m4\n",
            "mecab-0.996-ko-0.9.2/LGPL\n",
            "mecab-0.996-ko-0.9.2/Makefile.am\n",
            "mecab-0.996-ko-0.9.2/configure\n",
            "mecab-0.996-ko-0.9.2/tests/\n",
            "mecab-0.996-ko-0.9.2/tests/autolink/\n",
            "mecab-0.996-ko-0.9.2/tests/autolink/unk.def\n",
            "mecab-0.996-ko-0.9.2/tests/autolink/dicrc\n",
            "mecab-0.996-ko-0.9.2/tests/autolink/dic.csv\n",
            "mecab-0.996-ko-0.9.2/tests/autolink/test\n",
            "mecab-0.996-ko-0.9.2/tests/autolink/char.def\n",
            "mecab-0.996-ko-0.9.2/tests/autolink/matrix.def\n",
            "mecab-0.996-ko-0.9.2/tests/autolink/test.gld\n",
            "mecab-0.996-ko-0.9.2/tests/t9/\n",
            "mecab-0.996-ko-0.9.2/tests/t9/unk.def\n",
            "mecab-0.996-ko-0.9.2/tests/t9/ipadic.pl\n",
            "mecab-0.996-ko-0.9.2/tests/t9/dicrc\n",
            "mecab-0.996-ko-0.9.2/tests/t9/dic.csv\n",
            "mecab-0.996-ko-0.9.2/tests/t9/test\n",
            "mecab-0.996-ko-0.9.2/tests/t9/char.def\n",
            "mecab-0.996-ko-0.9.2/tests/t9/matrix.def\n",
            "mecab-0.996-ko-0.9.2/tests/t9/mkdic.pl\n",
            "mecab-0.996-ko-0.9.2/tests/t9/test.gld\n",
            "mecab-0.996-ko-0.9.2/tests/cost-train/\n",
            "mecab-0.996-ko-0.9.2/tests/cost-train/ipa.train\n",
            "mecab-0.996-ko-0.9.2/tests/cost-train/ipa.test\n",
            "mecab-0.996-ko-0.9.2/tests/cost-train/seed/\n",
            "mecab-0.996-ko-0.9.2/tests/cost-train/seed/rewrite.def\n",
            "mecab-0.996-ko-0.9.2/tests/cost-train/seed/feature.def\n",
            "mecab-0.996-ko-0.9.2/tests/cost-train/seed/unk.def\n",
            "mecab-0.996-ko-0.9.2/tests/cost-train/seed/dicrc\n",
            "mecab-0.996-ko-0.9.2/tests/cost-train/seed/dic.csv\n",
            "mecab-0.996-ko-0.9.2/tests/cost-train/seed/char.def\n",
            "mecab-0.996-ko-0.9.2/tests/cost-train/seed/matrix.def\n",
            "mecab-0.996-ko-0.9.2/tests/run-eval.sh\n",
            "mecab-0.996-ko-0.9.2/tests/run-cost-train.sh\n",
            "mecab-0.996-ko-0.9.2/tests/Makefile.am\n",
            "mecab-0.996-ko-0.9.2/tests/katakana/\n",
            "mecab-0.996-ko-0.9.2/tests/katakana/unk.def\n",
            "mecab-0.996-ko-0.9.2/tests/katakana/dicrc\n",
            "mecab-0.996-ko-0.9.2/tests/katakana/dic.csv\n",
            "mecab-0.996-ko-0.9.2/tests/katakana/test\n",
            "mecab-0.996-ko-0.9.2/tests/katakana/char.def\n",
            "mecab-0.996-ko-0.9.2/tests/katakana/matrix.def\n",
            "mecab-0.996-ko-0.9.2/tests/katakana/test.gld\n",
            "mecab-0.996-ko-0.9.2/tests/eval/\n",
            "mecab-0.996-ko-0.9.2/tests/eval/answer\n",
            "mecab-0.996-ko-0.9.2/tests/eval/system\n",
            "mecab-0.996-ko-0.9.2/tests/eval/test.gld\n",
            "mecab-0.996-ko-0.9.2/tests/shiin/\n",
            "mecab-0.996-ko-0.9.2/tests/shiin/unk.def\n",
            "mecab-0.996-ko-0.9.2/tests/shiin/dicrc\n",
            "mecab-0.996-ko-0.9.2/tests/shiin/dic.csv\n",
            "mecab-0.996-ko-0.9.2/tests/shiin/test\n",
            "mecab-0.996-ko-0.9.2/tests/shiin/char.def\n",
            "mecab-0.996-ko-0.9.2/tests/shiin/matrix.def\n",
            "mecab-0.996-ko-0.9.2/tests/shiin/mkdic.pl\n",
            "mecab-0.996-ko-0.9.2/tests/shiin/test.gld\n",
            "mecab-0.996-ko-0.9.2/tests/latin/\n",
            "mecab-0.996-ko-0.9.2/tests/latin/unk.def\n",
            "mecab-0.996-ko-0.9.2/tests/latin/dicrc\n",
            "mecab-0.996-ko-0.9.2/tests/latin/dic.csv\n",
            "mecab-0.996-ko-0.9.2/tests/latin/test\n",
            "mecab-0.996-ko-0.9.2/tests/latin/char.def\n",
            "mecab-0.996-ko-0.9.2/tests/latin/matrix.def\n",
            "mecab-0.996-ko-0.9.2/tests/latin/test.gld\n",
            "mecab-0.996-ko-0.9.2/tests/chartype/\n",
            "mecab-0.996-ko-0.9.2/tests/chartype/unk.def\n",
            "mecab-0.996-ko-0.9.2/tests/chartype/dicrc\n",
            "mecab-0.996-ko-0.9.2/tests/chartype/dic.csv\n",
            "mecab-0.996-ko-0.9.2/tests/chartype/test\n",
            "mecab-0.996-ko-0.9.2/tests/chartype/char.def\n",
            "mecab-0.996-ko-0.9.2/tests/chartype/matrix.def\n",
            "mecab-0.996-ko-0.9.2/tests/chartype/test.gld\n",
            "mecab-0.996-ko-0.9.2/tests/run-dics.sh\n",
            "mecab-0.996-ko-0.9.2/tests/ngram/\n",
            "mecab-0.996-ko-0.9.2/tests/ngram/unk.def\n",
            "mecab-0.996-ko-0.9.2/tests/ngram/dicrc\n",
            "mecab-0.996-ko-0.9.2/tests/ngram/dic.csv\n",
            "mecab-0.996-ko-0.9.2/tests/ngram/test\n",
            "mecab-0.996-ko-0.9.2/tests/ngram/char.def\n",
            "mecab-0.996-ko-0.9.2/tests/ngram/matrix.def\n",
            "mecab-0.996-ko-0.9.2/tests/ngram/test.gld\n",
            "mecab-0.996-ko-0.9.2/tests/Makefile.in\n",
            "mecab-0.996-ko-0.9.2/ltmain.sh\n",
            "mecab-0.996-ko-0.9.2/config.rpath\n",
            "mecab-0.996-ko-0.9.2/config.h.in\n",
            "mecab-0.996-ko-0.9.2/mecabrc.in\n",
            "mecab-0.996-ko-0.9.2/GPL\n",
            "mecab-0.996-ko-0.9.2/Makefile.train\n",
            "mecab-0.996-ko-0.9.2/ChangeLog\n",
            "mecab-0.996-ko-0.9.2/install-sh\n",
            "mecab-0.996-ko-0.9.2/AUTHORS\n",
            "mecab-0.996-ko-0.9.2/doc/\n",
            "mecab-0.996-ko-0.9.2/doc/bindings.html\n",
            "mecab-0.996-ko-0.9.2/doc/posid.html\n",
            "mecab-0.996-ko-0.9.2/doc/unk.html\n",
            "mecab-0.996-ko-0.9.2/doc/learn.html\n",
            "mecab-0.996-ko-0.9.2/doc/format.html\n",
            "mecab-0.996-ko-0.9.2/doc/libmecab.html\n",
            "mecab-0.996-ko-0.9.2/doc/mecab.css\n",
            "mecab-0.996-ko-0.9.2/doc/feature.html\n",
            "mecab-0.996-ko-0.9.2/doc/Makefile.am\n",
            "mecab-0.996-ko-0.9.2/doc/soft.html\n",
            "mecab-0.996-ko-0.9.2/doc/en/\n",
            "mecab-0.996-ko-0.9.2/doc/en/bindings.html\n",
            "mecab-0.996-ko-0.9.2/doc/dic-detail.html\n",
            "mecab-0.996-ko-0.9.2/doc/flow.png\n",
            "mecab-0.996-ko-0.9.2/doc/mecab.html\n",
            "mecab-0.996-ko-0.9.2/doc/index.html\n",
            "mecab-0.996-ko-0.9.2/doc/result.png\n",
            "mecab-0.996-ko-0.9.2/doc/doxygen/\n",
            "mecab-0.996-ko-0.9.2/doc/doxygen/tab_a.png\n",
            "mecab-0.996-ko-0.9.2/doc/doxygen/globals_eval.html\n",
            "mecab-0.996-ko-0.9.2/doc/doxygen/classMeCab_1_1Tagger-members.html\n",
            "mecab-0.996-ko-0.9.2/doc/doxygen/functions_vars.html\n",
            "mecab-0.996-ko-0.9.2/doc/doxygen/doxygen.css\n",
            "mecab-0.996-ko-0.9.2/doc/doxygen/tab_r.gif\n",
            "mecab-0.996-ko-0.9.2/doc/doxygen/classMeCab_1_1Lattice.html\n",
            "mecab-0.996-ko-0.9.2/doc/doxygen/functions.html\n",
            "mecab-0.996-ko-0.9.2/doc/doxygen/classMeCab_1_1Tagger.html\n",
            "mecab-0.996-ko-0.9.2/doc/doxygen/mecab_8h_source.html\n",
            "mecab-0.996-ko-0.9.2/doc/doxygen/tabs.css\n",
            "mecab-0.996-ko-0.9.2/doc/doxygen/nav_f.png\n",
            "mecab-0.996-ko-0.9.2/doc/doxygen/tab_b.png\n",
            "mecab-0.996-ko-0.9.2/doc/doxygen/globals.html\n",
            "mecab-0.996-ko-0.9.2/doc/doxygen/nav_h.png\n",
            "mecab-0.996-ko-0.9.2/doc/doxygen/tab_h.png\n",
            "mecab-0.996-ko-0.9.2/doc/doxygen/classMeCab_1_1Model.html\n",
            "mecab-0.996-ko-0.9.2/doc/doxygen/globals_func.html\n",
            "mecab-0.996-ko-0.9.2/doc/doxygen/closed.png\n",
            "mecab-0.996-ko-0.9.2/doc/doxygen/tab_l.gif\n",
            "mecab-0.996-ko-0.9.2/doc/doxygen/structmecab__path__t-members.html\n",
            "mecab-0.996-ko-0.9.2/doc/doxygen/functions_func.html\n",
            "mecab-0.996-ko-0.9.2/doc/doxygen/globals_type.html\n",
            "mecab-0.996-ko-0.9.2/doc/doxygen/classMeCab_1_1Lattice-members.html\n",
            "mecab-0.996-ko-0.9.2/doc/doxygen/structmecab__node__t.html\n",
            "mecab-0.996-ko-0.9.2/doc/doxygen/namespacemembers_func.html\n",
            "mecab-0.996-ko-0.9.2/doc/doxygen/tab_s.png\n",
            "mecab-0.996-ko-0.9.2/doc/doxygen/structmecab__dictionary__info__t-members.html\n",
            "mecab-0.996-ko-0.9.2/doc/doxygen/namespacemembers_type.html\n",
            "mecab-0.996-ko-0.9.2/doc/doxygen/classMeCab_1_1Model-members.html\n",
            "mecab-0.996-ko-0.9.2/doc/doxygen/structmecab__dictionary__info__t.html\n",
            "mecab-0.996-ko-0.9.2/doc/doxygen/namespaces.html\n",
            "mecab-0.996-ko-0.9.2/doc/doxygen/namespacemembers.html\n",
            "mecab-0.996-ko-0.9.2/doc/doxygen/namespaceMeCab.html\n",
            "mecab-0.996-ko-0.9.2/doc/doxygen/structmecab__path__t.html\n",
            "mecab-0.996-ko-0.9.2/doc/doxygen/files.html\n",
            "mecab-0.996-ko-0.9.2/doc/doxygen/structmecab__node__t-members.html\n",
            "mecab-0.996-ko-0.9.2/doc/doxygen/index.html\n",
            "mecab-0.996-ko-0.9.2/doc/doxygen/annotated.html\n",
            "mecab-0.996-ko-0.9.2/doc/doxygen/globals_defs.html\n",
            "mecab-0.996-ko-0.9.2/doc/doxygen/classes.html\n",
            "mecab-0.996-ko-0.9.2/doc/doxygen/mecab_8h-source.html\n",
            "mecab-0.996-ko-0.9.2/doc/doxygen/doxygen.png\n",
            "mecab-0.996-ko-0.9.2/doc/doxygen/tab_b.gif\n",
            "mecab-0.996-ko-0.9.2/doc/doxygen/bc_s.png\n",
            "mecab-0.996-ko-0.9.2/doc/doxygen/open.png\n",
            "mecab-0.996-ko-0.9.2/doc/doxygen/mecab_8h.html\n",
            "mecab-0.996-ko-0.9.2/doc/dic.html\n",
            "mecab-0.996-ko-0.9.2/doc/partial.html\n",
            "mecab-0.996-ko-0.9.2/doc/feature.png\n",
            "mecab-0.996-ko-0.9.2/doc/Makefile.in\n",
            "mecab-0.996-ko-0.9.2/missing\n",
            "mecab-0.996-ko-0.9.2/BSD\n",
            "mecab-0.996-ko-0.9.2/NEWS\n",
            "mecab-0.996-ko-0.9.2/mkinstalldirs\n",
            "mecab-0.996-ko-0.9.2/src/\n",
            "mecab-0.996-ko-0.9.2/src/dictionary.h\n",
            "mecab-0.996-ko-0.9.2/src/writer.h\n",
            "mecab-0.996-ko-0.9.2/src/utils.h\n",
            "mecab-0.996-ko-0.9.2/src/string_buffer.cpp\n",
            "mecab-0.996-ko-0.9.2/src/tokenizer.cpp\n",
            "mecab-0.996-ko-0.9.2/src/make.bat\n",
            "mecab-0.996-ko-0.9.2/src/mecab.h\n",
            "mecab-0.996-ko-0.9.2/src/freelist.h\n",
            "mecab-0.996-ko-0.9.2/src/string_buffer.h\n",
            "mecab-0.996-ko-0.9.2/src/learner_tagger.h\n",
            "mecab-0.996-ko-0.9.2/src/dictionary_compiler.cpp\n",
            "mecab-0.996-ko-0.9.2/src/eval.cpp\n",
            "mecab-0.996-ko-0.9.2/src/mecab-system-eval.cpp\n",
            "mecab-0.996-ko-0.9.2/src/darts.h\n",
            "mecab-0.996-ko-0.9.2/src/param.h\n",
            "mecab-0.996-ko-0.9.2/src/char_property.h\n",
            "mecab-0.996-ko-0.9.2/src/learner_node.h\n",
            "mecab-0.996-ko-0.9.2/src/mecab-dict-gen.cpp\n",
            "mecab-0.996-ko-0.9.2/src/mecab-dict-index.cpp\n",
            "mecab-0.996-ko-0.9.2/src/winmain.h\n",
            "mecab-0.996-ko-0.9.2/src/thread.h\n",
            "mecab-0.996-ko-0.9.2/src/context_id.cpp\n",
            "mecab-0.996-ko-0.9.2/src/Makefile.am\n",
            "mecab-0.996-ko-0.9.2/src/connector.h\n",
            "mecab-0.996-ko-0.9.2/src/common.h\n",
            "mecab-0.996-ko-0.9.2/src/dictionary_rewriter.cpp\n",
            "mecab-0.996-ko-0.9.2/src/Makefile.msvc.in\n",
            "mecab-0.996-ko-0.9.2/src/dictionary_rewriter.h\n",
            "mecab-0.996-ko-0.9.2/src/feature_index.h\n",
            "mecab-0.996-ko-0.9.2/src/iconv_utils.cpp\n",
            "mecab-0.996-ko-0.9.2/src/char_property.cpp\n",
            "mecab-0.996-ko-0.9.2/src/mecab-test-gen.cpp\n",
            "mecab-0.996-ko-0.9.2/src/tagger.cpp\n",
            "mecab-0.996-ko-0.9.2/src/mecab-cost-train.cpp\n",
            "mecab-0.996-ko-0.9.2/src/learner.cpp\n",
            "mecab-0.996-ko-0.9.2/src/dictionary.cpp\n",
            "mecab-0.996-ko-0.9.2/src/lbfgs.cpp\n",
            "mecab-0.996-ko-0.9.2/src/ucs.h\n",
            "mecab-0.996-ko-0.9.2/src/writer.cpp\n",
            "mecab-0.996-ko-0.9.2/src/learner_tagger.cpp\n",
            "mecab-0.996-ko-0.9.2/src/lbfgs.h\n",
            "mecab-0.996-ko-0.9.2/src/libmecab.cpp\n",
            "mecab-0.996-ko-0.9.2/src/tokenizer.h\n",
            "mecab-0.996-ko-0.9.2/src/mecab.cpp\n",
            "mecab-0.996-ko-0.9.2/src/utils.cpp\n",
            "mecab-0.996-ko-0.9.2/src/dictionary_generator.cpp\n",
            "mecab-0.996-ko-0.9.2/src/param.cpp\n",
            "mecab-0.996-ko-0.9.2/src/context_id.h\n",
            "mecab-0.996-ko-0.9.2/src/mmap.h\n",
            "mecab-0.996-ko-0.9.2/src/viterbi.h\n",
            "mecab-0.996-ko-0.9.2/src/viterbi.cpp\n",
            "mecab-0.996-ko-0.9.2/src/stream_wrapper.h\n",
            "mecab-0.996-ko-0.9.2/src/feature_index.cpp\n",
            "mecab-0.996-ko-0.9.2/src/nbest_generator.h\n",
            "mecab-0.996-ko-0.9.2/src/ucstable.h\n",
            "mecab-0.996-ko-0.9.2/src/nbest_generator.cpp\n",
            "mecab-0.996-ko-0.9.2/src/iconv_utils.h\n",
            "mecab-0.996-ko-0.9.2/src/connector.cpp\n",
            "mecab-0.996-ko-0.9.2/src/Makefile.in\n",
            "mecab-0.996-ko-0.9.2/src/scoped_ptr.h\n",
            "mecab-0.996-ko-0.9.2/Makefile.in\n",
            "checking for a BSD-compatible install... /usr/bin/install -c\n",
            "checking whether build environment is sane... yes\n",
            "checking for a thread-safe mkdir -p... /bin/mkdir -p\n",
            "checking for gawk... no\n",
            "checking for mawk... mawk\n",
            "checking whether make sets $(MAKE)... yes\n",
            "checking for gcc... gcc\n",
            "checking whether the C compiler works... yes\n",
            "checking for C compiler default output file name... a.out\n",
            "checking for suffix of executables... \n",
            "checking whether we are cross compiling... no\n",
            "checking for suffix of object files... o\n",
            "checking whether we are using the GNU C compiler... yes\n",
            "checking whether gcc accepts -g... yes\n",
            "checking for gcc option to accept ISO C89... none needed\n",
            "checking for style of include used by make... GNU\n",
            "checking dependency style of gcc... none\n",
            "checking for g++... g++\n",
            "checking whether we are using the GNU C++ compiler... yes\n",
            "checking whether g++ accepts -g... yes\n",
            "checking dependency style of g++... none\n",
            "checking how to run the C preprocessor... gcc -E\n",
            "checking for grep that handles long lines and -e... /bin/grep\n",
            "checking for egrep... /bin/grep -E\n",
            "checking whether gcc needs -traditional... no\n",
            "checking whether make sets $(MAKE)... (cached) yes\n",
            "checking build system type... x86_64-unknown-linux-gnu\n",
            "checking host system type... x86_64-unknown-linux-gnu\n",
            "checking how to print strings... printf\n",
            "checking for a sed that does not truncate output... /bin/sed\n",
            "checking for fgrep... /bin/grep -F\n",
            "checking for ld used by gcc... /usr/bin/ld\n",
            "checking if the linker (/usr/bin/ld) is GNU ld... yes\n",
            "checking for BSD- or MS-compatible name lister (nm)... /usr/bin/nm -B\n",
            "checking the name lister (/usr/bin/nm -B) interface... BSD nm\n",
            "checking whether ln -s works... yes\n",
            "checking the maximum length of command line arguments... 1572864\n",
            "checking whether the shell understands some XSI constructs... yes\n",
            "checking whether the shell understands \"+=\"... yes\n",
            "checking how to convert x86_64-unknown-linux-gnu file names to x86_64-unknown-linux-gnu format... func_convert_file_noop\n",
            "checking how to convert x86_64-unknown-linux-gnu file names to toolchain format... func_convert_file_noop\n",
            "checking for /usr/bin/ld option to reload object files... -r\n",
            "checking for objdump... objdump\n",
            "checking how to recognize dependent libraries... pass_all\n",
            "checking for dlltool... dlltool\n",
            "checking how to associate runtime and link libraries... printf %s\\n\n",
            "checking for ar... ar\n",
            "checking for archiver @FILE support... @\n",
            "checking for strip... strip\n",
            "checking for ranlib... ranlib\n",
            "checking command to parse /usr/bin/nm -B output from gcc object... ok\n",
            "checking for sysroot... no\n",
            "./configure: line 7378: /usr/bin/file: No such file or directory\n",
            "checking for mt... no\n",
            "checking if : is a manifest tool... no\n",
            "checking for ANSI C header files... yes\n",
            "checking for sys/types.h... yes\n",
            "checking for sys/stat.h... yes\n",
            "checking for stdlib.h... yes\n",
            "checking for string.h... yes\n",
            "checking for memory.h... yes\n",
            "checking for strings.h... yes\n",
            "checking for inttypes.h... yes\n",
            "checking for stdint.h... yes\n",
            "checking for unistd.h... yes\n",
            "checking for dlfcn.h... yes\n",
            "checking for objdir... .libs\n",
            "checking if gcc supports -fno-rtti -fno-exceptions... no\n",
            "checking for gcc option to produce PIC... -fPIC -DPIC\n",
            "checking if gcc PIC flag -fPIC -DPIC works... yes\n",
            "checking if gcc static flag -static works... yes\n",
            "checking if gcc supports -c -o file.o... yes\n",
            "checking if gcc supports -c -o file.o... (cached) yes\n",
            "checking whether the gcc linker (/usr/bin/ld) supports shared libraries... yes\n",
            "checking whether -lc should be explicitly linked in... no\n",
            "checking dynamic linker characteristics... GNU/Linux ld.so\n",
            "checking how to hardcode library paths into programs... immediate\n",
            "checking whether stripping libraries is possible... yes\n",
            "checking if libtool supports shared libraries... yes\n",
            "checking whether to build shared libraries... yes\n",
            "checking whether to build static libraries... yes\n",
            "checking how to run the C++ preprocessor... g++ -E\n",
            "checking for ld used by g++... /usr/bin/ld\n",
            "checking if the linker (/usr/bin/ld) is GNU ld... yes\n",
            "checking whether the g++ linker (/usr/bin/ld) supports shared libraries... yes\n",
            "checking for g++ option to produce PIC... -fPIC -DPIC\n",
            "checking if g++ PIC flag -fPIC -DPIC works... yes\n",
            "checking if g++ static flag -static works... yes\n",
            "checking if g++ supports -c -o file.o... yes\n",
            "checking if g++ supports -c -o file.o... (cached) yes\n",
            "checking whether the g++ linker (/usr/bin/ld) supports shared libraries... yes\n",
            "checking dynamic linker characteristics... (cached) GNU/Linux ld.so\n",
            "checking how to hardcode library paths into programs... immediate\n",
            "checking for library containing strerror... none required\n",
            "checking whether byte ordering is bigendian... no\n",
            "checking for ld used by GCC... /usr/bin/ld\n",
            "checking if the linker (/usr/bin/ld) is GNU ld... yes\n",
            "checking for shared library run path origin... done\n",
            "checking for iconv... yes\n",
            "checking for working iconv... yes\n",
            "checking for iconv declaration... \n",
            "         extern size_t iconv (iconv_t cd, char * *inbuf, size_t *inbytesleft, char * *outbuf, size_t *outbytesleft);\n",
            "checking for ANSI C header files... (cached) yes\n",
            "checking for an ANSI C-conforming const... yes\n",
            "checking whether byte ordering is bigendian... (cached) no\n",
            "checking for string.h... (cached) yes\n",
            "checking for stdlib.h... (cached) yes\n",
            "checking for unistd.h... (cached) yes\n",
            "checking fcntl.h usability... yes\n",
            "checking fcntl.h presence... yes\n",
            "checking for fcntl.h... yes\n",
            "checking for stdint.h... (cached) yes\n",
            "checking for sys/stat.h... (cached) yes\n",
            "checking sys/mman.h usability... yes\n",
            "checking sys/mman.h presence... yes\n",
            "checking for sys/mman.h... yes\n",
            "checking sys/times.h usability... yes\n",
            "checking sys/times.h presence... yes\n",
            "checking for sys/times.h... yes\n",
            "checking for sys/types.h... (cached) yes\n",
            "checking dirent.h usability... yes\n",
            "checking dirent.h presence... yes\n",
            "checking for dirent.h... yes\n",
            "checking ctype.h usability... yes\n",
            "checking ctype.h presence... yes\n",
            "checking for ctype.h... yes\n",
            "checking for sys/types.h... (cached) yes\n",
            "checking io.h usability... no\n",
            "checking io.h presence... no\n",
            "checking for io.h... no\n",
            "checking windows.h usability... no\n",
            "checking windows.h presence... no\n",
            "checking for windows.h... no\n",
            "checking pthread.h usability... yes\n",
            "checking pthread.h presence... yes\n",
            "checking for pthread.h... yes\n",
            "checking for off_t... yes\n",
            "checking for size_t... yes\n",
            "checking size of char... 1\n",
            "checking size of short... 2\n",
            "checking size of int... 4\n",
            "checking size of long... 8\n",
            "checking size of long long... 8\n",
            "checking size of size_t... 8\n",
            "checking for size_t... (cached) yes\n",
            "checking for unsigned long long int... yes\n",
            "checking for stdlib.h... (cached) yes\n",
            "checking for unistd.h... (cached) yes\n",
            "checking for sys/param.h... yes\n",
            "checking for getpagesize... yes\n",
            "checking for working mmap... yes\n",
            "checking for main in -lstdc++... yes\n",
            "checking for pthread_create in -lpthread... yes\n",
            "checking for pthread_join in -lpthread... yes\n",
            "checking for getenv... yes\n",
            "checking for opendir... yes\n",
            "checking whether make is GNU Make... yes\n",
            "checking if g++ supports stl <vector> (required)... yes\n",
            "checking if g++ supports stl <list> (required)... yes\n",
            "checking if g++ supports stl <map> (required)... yes\n",
            "checking if g++ supports stl <set> (required)... yes\n",
            "checking if g++ supports stl <queue> (required)... yes\n",
            "checking if g++ supports stl <functional> (required)... yes\n",
            "checking if g++ supports stl <algorithm> (required)... yes\n",
            "checking if g++ supports stl <string> (required)... yes\n",
            "checking if g++ supports stl <iostream> (required)... yes\n",
            "checking if g++ supports stl <sstream> (required)... yes\n",
            "checking if g++ supports stl <fstream> (required)... yes\n",
            "checking if g++ supports template <class T> (required)... yes\n",
            "checking if g++ supports const_cast<> (required)... yes\n",
            "checking if g++ supports static_cast<> (required)... yes\n",
            "checking if g++ supports reinterpret_cast<> (required)... yes\n",
            "checking if g++ supports namespaces (required) ... yes\n",
            "checking if g++ supports __thread (optional)... yes\n",
            "checking if g++ supports template <class T> (required)... yes\n",
            "checking if g++ supports GCC native atomic operations (optional)... yes\n",
            "checking if g++ supports OSX native atomic operations (optional)... no\n",
            "checking if g++ environment provides all required features... yes\n",
            "configure: creating ./config.status\n",
            "config.status: creating Makefile\n",
            "config.status: creating src/Makefile\n",
            "config.status: creating src/Makefile.msvc\n",
            "config.status: creating man/Makefile\n",
            "config.status: creating doc/Makefile\n",
            "config.status: creating tests/Makefile\n",
            "config.status: creating swig/version.h\n",
            "config.status: creating mecab.iss\n",
            "config.status: creating mecab-config\n",
            "config.status: creating mecabrc\n",
            "config.status: creating config.h\n",
            "config.status: config.h is unchanged\n",
            "config.status: executing depfiles commands\n",
            "config.status: executing libtool commands\n",
            "config.status: executing default commands\n",
            "make  all-recursive\n",
            "make[1]: Entering directory '/tmp/mecab-0.996-ko-0.9.2'\n",
            "Making all in src\n",
            "make[2]: Entering directory '/tmp/mecab-0.996-ko-0.9.2/src'\n",
            "make[2]: Nothing to be done for 'all'.\n",
            "make[2]: Leaving directory '/tmp/mecab-0.996-ko-0.9.2/src'\n",
            "Making all in man\n",
            "make[2]: Entering directory '/tmp/mecab-0.996-ko-0.9.2/man'\n",
            "make[2]: Nothing to be done for 'all'.\n",
            "make[2]: Leaving directory '/tmp/mecab-0.996-ko-0.9.2/man'\n",
            "Making all in doc\n",
            "make[2]: Entering directory '/tmp/mecab-0.996-ko-0.9.2/doc'\n",
            "make[2]: Nothing to be done for 'all'.\n",
            "make[2]: Leaving directory '/tmp/mecab-0.996-ko-0.9.2/doc'\n",
            "Making all in tests\n",
            "make[2]: Entering directory '/tmp/mecab-0.996-ko-0.9.2/tests'\n",
            "make[2]: Nothing to be done for 'all'.\n",
            "make[2]: Leaving directory '/tmp/mecab-0.996-ko-0.9.2/tests'\n",
            "make[2]: Entering directory '/tmp/mecab-0.996-ko-0.9.2'\n",
            "make[2]: Leaving directory '/tmp/mecab-0.996-ko-0.9.2'\n",
            "make[1]: Leaving directory '/tmp/mecab-0.996-ko-0.9.2'\n",
            "Making check in src\n",
            "make[1]: Entering directory '/tmp/mecab-0.996-ko-0.9.2/src'\n",
            "make[1]: Nothing to be done for 'check'.\n",
            "make[1]: Leaving directory '/tmp/mecab-0.996-ko-0.9.2/src'\n",
            "Making check in man\n",
            "make[1]: Entering directory '/tmp/mecab-0.996-ko-0.9.2/man'\n",
            "make[1]: Nothing to be done for 'check'.\n",
            "make[1]: Leaving directory '/tmp/mecab-0.996-ko-0.9.2/man'\n",
            "Making check in doc\n",
            "make[1]: Entering directory '/tmp/mecab-0.996-ko-0.9.2/doc'\n",
            "make[1]: Nothing to be done for 'check'.\n",
            "make[1]: Leaving directory '/tmp/mecab-0.996-ko-0.9.2/doc'\n",
            "Making check in tests\n",
            "make[1]: Entering directory '/tmp/mecab-0.996-ko-0.9.2/tests'\n",
            "make  check-TESTS\n",
            "make[2]: Entering directory '/tmp/mecab-0.996-ko-0.9.2/tests'\n",
            "./pos-id.def is not found. minimum setting is used\n",
            "reading ./unk.def ... 2\n",
            "emitting double-array: 100% |###########################################| \n",
            "./model.def is not found. skipped.\n",
            "./pos-id.def is not found. minimum setting is used\n",
            "reading ./dic.csv ... 177\n",
            "emitting double-array: 100% |###########################################| \n",
            "reading ./matrix.def ... 178x178\n",
            "emitting matrix      : 100% |###########################################| \n",
            "\n",
            "done!\n",
            "./pos-id.def is not found. minimum setting is used\n",
            "reading ./unk.def ... 2\n",
            "emitting double-array: 100% |###########################################| \n",
            "./model.def is not found. skipped.\n",
            "./pos-id.def is not found. minimum setting is used\n",
            "reading ./dic.csv ... 83\n",
            "emitting double-array: 100% |###########################################| \n",
            "reading ./matrix.def ... 84x84\n",
            "emitting matrix      : 100% |###########################################| \n",
            "\n",
            "done!\n",
            "./pos-id.def is not found. minimum setting is used\n",
            "reading ./unk.def ... 2\n",
            "emitting double-array: 100% |###########################################| \n",
            "./model.def is not found. skipped.\n",
            "./pos-id.def is not found. minimum setting is used\n",
            "reading ./dic.csv ... 450\n",
            "emitting double-array: 100% |###########################################| \n",
            "reading ./matrix.def ... 1x1\n",
            "\n",
            "done!\n",
            "./pos-id.def is not found. minimum setting is used\n",
            "reading ./unk.def ... 2\n",
            "emitting double-array: 100% |###########################################| \n",
            "./model.def is not found. skipped.\n",
            "./pos-id.def is not found. minimum setting is used\n",
            "reading ./dic.csv ... 162\n",
            "emitting double-array: 100% |###########################################| \n",
            "reading ./matrix.def ... 3x3\n",
            "emitting matrix      : 100% |###########################################| \n",
            "\n",
            "done!\n",
            "./pos-id.def is not found. minimum setting is used\n",
            "reading ./unk.def ... 2\n",
            "emitting double-array: 100% |###########################################| \n",
            "./model.def is not found. skipped.\n",
            "./pos-id.def is not found. minimum setting is used\n",
            "reading ./dic.csv ... 4\n",
            "emitting double-array: 100% |###########################################| \n",
            "reading ./matrix.def ... 1x1\n",
            "\n",
            "done!\n",
            "./pos-id.def is not found. minimum setting is used\n",
            "reading ./unk.def ... 11\n",
            "emitting double-array: 100% |###########################################| \n",
            "./model.def is not found. skipped.\n",
            "./pos-id.def is not found. minimum setting is used\n",
            "reading ./dic.csv ... 1\n",
            "reading ./matrix.def ... 1x1\n",
            "\n",
            "done!\n",
            "./pos-id.def is not found. minimum setting is used\n",
            "reading ./unk.def ... 2\n",
            "emitting double-array: 100% |###########################################| \n",
            "./model.def is not found. skipped.\n",
            "./pos-id.def is not found. minimum setting is used\n",
            "reading ./dic.csv ... 1\n",
            "reading ./matrix.def ... 1x1\n",
            "\n",
            "done!\n",
            "PASS: run-dics.sh\n",
            "PASS: run-eval.sh\n",
            "seed/pos-id.def is not found. minimum setting is used\n",
            "reading seed/unk.def ... 40\n",
            "emitting double-array: 100% |###########################################| \n",
            "seed/model.def is not found. skipped.\n",
            "seed/pos-id.def is not found. minimum setting is used\n",
            "reading seed/dic.csv ... 4335\n",
            "emitting double-array: 100% |###########################################| \n",
            "reading seed/matrix.def ... 1x1\n",
            "\n",
            "done!\n",
            "reading corpus ...\n",
            "Number of sentences: 34\n",
            "Number of features:  64108\n",
            "eta:                 0.00005\n",
            "freq:                1\n",
            "eval-size:           6\n",
            "unk-eval-size:       4\n",
            "threads:             1\n",
            "charset:             EUC-JP\n",
            "C(sigma^2):          1.00000\n",
            "\n",
            "iter=0 err=1.00000 F=0.35771 target=2406.28355 diff=1.00000\n",
            "iter=1 err=0.97059 F=0.65652 target=1484.25231 diff=0.38318\n",
            "iter=2 err=0.91176 F=0.79331 target=863.32765 diff=0.41834\n",
            "iter=3 err=0.85294 F=0.89213 target=596.72480 diff=0.30881\n",
            "iter=4 err=0.61765 F=0.95467 target=336.30744 diff=0.43641\n",
            "iter=5 err=0.50000 F=0.96702 target=246.53039 diff=0.26695\n",
            "iter=6 err=0.35294 F=0.95472 target=188.93963 diff=0.23361\n",
            "iter=7 err=0.20588 F=0.99106 target=168.62665 diff=0.10751\n",
            "iter=8 err=0.05882 F=0.99777 target=158.64865 diff=0.05917\n",
            "iter=9 err=0.08824 F=0.99665 target=154.14530 diff=0.02839\n",
            "iter=10 err=0.08824 F=0.99665 target=151.94257 diff=0.01429\n",
            "iter=11 err=0.02941 F=0.99888 target=147.20825 diff=0.03116\n",
            "iter=12 err=0.00000 F=1.00000 target=147.34956 diff=0.00096\n",
            "iter=13 err=0.02941 F=0.99888 target=146.32592 diff=0.00695\n",
            "iter=14 err=0.00000 F=1.00000 target=145.77299 diff=0.00378\n",
            "iter=15 err=0.02941 F=0.99888 target=145.24641 diff=0.00361\n",
            "iter=16 err=0.00000 F=1.00000 target=144.96490 diff=0.00194\n",
            "iter=17 err=0.02941 F=0.99888 target=144.90246 diff=0.00043\n",
            "iter=18 err=0.00000 F=1.00000 target=144.75959 diff=0.00099\n",
            "iter=19 err=0.00000 F=1.00000 target=144.71727 diff=0.00029\n",
            "iter=20 err=0.00000 F=1.00000 target=144.66337 diff=0.00037\n",
            "iter=21 err=0.00000 F=1.00000 target=144.61349 diff=0.00034\n",
            "iter=22 err=0.00000 F=1.00000 target=144.62987 diff=0.00011\n",
            "iter=23 err=0.00000 F=1.00000 target=144.60060 diff=0.00020\n",
            "iter=24 err=0.00000 F=1.00000 target=144.59125 diff=0.00006\n",
            "iter=25 err=0.00000 F=1.00000 target=144.58619 diff=0.00004\n",
            "iter=26 err=0.00000 F=1.00000 target=144.58219 diff=0.00003\n",
            "iter=27 err=0.00000 F=1.00000 target=144.58059 diff=0.00001\n",
            "\n",
            "Done! writing model file ... \n",
            "model-ipadic.c1.0.f1.model is not a binary model. reopen it as text mode...\n",
            "reading seed/unk.def ... 40\n",
            "reading seed/dic.csv ... 4335\n",
            "emitting model-ipadic.c1.0.f1.dic/left-id.def/ model-ipadic.c1.0.f1.dic/right-id.def\n",
            "emitting model-ipadic.c1.0.f1.dic/unk.def ... 40\n",
            "emitting model-ipadic.c1.0.f1.dic/dic.csv ... 4335\n",
            "emitting matrix      : 100% |###########################################| \n",
            "copying seed/char.def to model-ipadic.c1.0.f1.dic/char.def\n",
            "copying seed/rewrite.def to model-ipadic.c1.0.f1.dic/rewrite.def\n",
            "copying seed/dicrc to model-ipadic.c1.0.f1.dic/dicrc\n",
            "copying seed/feature.def to model-ipadic.c1.0.f1.dic/feature.def\n",
            "copying model-ipadic.c1.0.f1.model to model-ipadic.c1.0.f1.dic/model.def\n",
            "\n",
            "done!\n",
            "model-ipadic.c1.0.f1.dic/pos-id.def is not found. minimum setting is used\n",
            "reading model-ipadic.c1.0.f1.dic/unk.def ... 40\n",
            "emitting double-array: 100% |###########################################| \n",
            "model-ipadic.c1.0.f1.dic/pos-id.def is not found. minimum setting is used\n",
            "reading model-ipadic.c1.0.f1.dic/dic.csv ... 4335\n",
            "emitting double-array: 100% |###########################################| \n",
            "reading model-ipadic.c1.0.f1.dic/matrix.def ... 346x346\n",
            "emitting matrix      : 100% |###########################################| \n",
            "\n",
            "done!\n",
            "              precision          recall         F\n",
            "LEVEL 0:    12.8959(57/442) 11.8998(57/479) 12.3779\n",
            "LEVEL 1:    12.2172(54/442) 11.2735(54/479) 11.7264\n",
            "LEVEL 2:    11.7647(52/442) 10.8559(52/479) 11.2921\n",
            "LEVEL 4:    11.7647(52/442) 10.8559(52/479) 11.2921\n",
            "PASS: run-cost-train.sh\n",
            "==================\n",
            "All 3 tests passed\n",
            "==================\n",
            "make[2]: Leaving directory '/tmp/mecab-0.996-ko-0.9.2/tests'\n",
            "make[1]: Leaving directory '/tmp/mecab-0.996-ko-0.9.2/tests'\n",
            "make[1]: Entering directory '/tmp/mecab-0.996-ko-0.9.2'\n",
            "make[1]: Leaving directory '/tmp/mecab-0.996-ko-0.9.2'\n",
            "Making install in src\n",
            "make[1]: Entering directory '/tmp/mecab-0.996-ko-0.9.2/src'\n",
            "make[2]: Entering directory '/tmp/mecab-0.996-ko-0.9.2/src'\n",
            "test -z \"/usr/local/lib\" || /bin/mkdir -p \"/usr/local/lib\"\n",
            " /bin/bash ../libtool   --mode=install /usr/bin/install -c   libmecab.la '/usr/local/lib'\n",
            "libtool: install: /usr/bin/install -c .libs/libmecab.so.2.0.0 /usr/local/lib/libmecab.so.2.0.0\n",
            "libtool: install: (cd /usr/local/lib && { ln -s -f libmecab.so.2.0.0 libmecab.so.2 || { rm -f libmecab.so.2 && ln -s libmecab.so.2.0.0 libmecab.so.2; }; })\n",
            "libtool: install: (cd /usr/local/lib && { ln -s -f libmecab.so.2.0.0 libmecab.so || { rm -f libmecab.so && ln -s libmecab.so.2.0.0 libmecab.so; }; })\n",
            "libtool: install: /usr/bin/install -c .libs/libmecab.lai /usr/local/lib/libmecab.la\n",
            "libtool: install: /usr/bin/install -c .libs/libmecab.a /usr/local/lib/libmecab.a\n",
            "libtool: install: chmod 644 /usr/local/lib/libmecab.a\n",
            "libtool: install: ranlib /usr/local/lib/libmecab.a\n",
            "libtool: finish: PATH=\"/opt/bin:/usr/local/nvidia/bin:/usr/local/cuda/bin:/usr/local/sbin:/usr/local/bin:/usr/sbin:/usr/bin:/sbin:/bin:/tools/node/bin:/tools/google-cloud-sdk/bin:/sbin\" ldconfig -n /usr/local/lib\n",
            "----------------------------------------------------------------------\n",
            "Libraries have been installed in:\n",
            "   /usr/local/lib\n",
            "\n",
            "If you ever happen to want to link against installed libraries\n",
            "in a given directory, LIBDIR, you must either use libtool, and\n",
            "specify the full pathname of the library, or use the `-LLIBDIR'\n",
            "flag during linking and do at least one of the following:\n",
            "   - add LIBDIR to the `LD_LIBRARY_PATH' environment variable\n",
            "     during execution\n",
            "   - add LIBDIR to the `LD_RUN_PATH' environment variable\n",
            "     during linking\n",
            "   - use the `-Wl,-rpath -Wl,LIBDIR' linker flag\n",
            "   - have your system administrator add LIBDIR to `/etc/ld.so.conf'\n",
            "\n",
            "See any operating system documentation about shared libraries for\n",
            "more information, such as the ld(1) and ld.so(8) manual pages.\n",
            "----------------------------------------------------------------------\n",
            "test -z \"/usr/local/bin\" || /bin/mkdir -p \"/usr/local/bin\"\n",
            "  /bin/bash ../libtool   --mode=install /usr/bin/install -c mecab '/usr/local/bin'\n",
            "libtool: install: /usr/bin/install -c .libs/mecab /usr/local/bin/mecab\n",
            "test -z \"/usr/local/libexec/mecab\" || /bin/mkdir -p \"/usr/local/libexec/mecab\"\n",
            "  /bin/bash ../libtool   --mode=install /usr/bin/install -c mecab-dict-index mecab-dict-gen mecab-cost-train mecab-system-eval mecab-test-gen '/usr/local/libexec/mecab'\n",
            "libtool: install: /usr/bin/install -c .libs/mecab-dict-index /usr/local/libexec/mecab/mecab-dict-index\n",
            "libtool: install: /usr/bin/install -c .libs/mecab-dict-gen /usr/local/libexec/mecab/mecab-dict-gen\n",
            "libtool: install: /usr/bin/install -c .libs/mecab-cost-train /usr/local/libexec/mecab/mecab-cost-train\n",
            "libtool: install: /usr/bin/install -c .libs/mecab-system-eval /usr/local/libexec/mecab/mecab-system-eval\n",
            "libtool: install: /usr/bin/install -c .libs/mecab-test-gen /usr/local/libexec/mecab/mecab-test-gen\n",
            "test -z \"/usr/local/include\" || /bin/mkdir -p \"/usr/local/include\"\n",
            " /usr/bin/install -c -m 644 mecab.h '/usr/local/include'\n",
            "make[2]: Leaving directory '/tmp/mecab-0.996-ko-0.9.2/src'\n",
            "make[1]: Leaving directory '/tmp/mecab-0.996-ko-0.9.2/src'\n",
            "Making install in man\n",
            "make[1]: Entering directory '/tmp/mecab-0.996-ko-0.9.2/man'\n",
            "make[2]: Entering directory '/tmp/mecab-0.996-ko-0.9.2/man'\n",
            "make[2]: Nothing to be done for 'install-exec-am'.\n",
            "test -z \"/usr/local/share/man/man1\" || /bin/mkdir -p \"/usr/local/share/man/man1\"\n",
            " /usr/bin/install -c -m 644 mecab.1 '/usr/local/share/man/man1'\n",
            "make[2]: Leaving directory '/tmp/mecab-0.996-ko-0.9.2/man'\n",
            "make[1]: Leaving directory '/tmp/mecab-0.996-ko-0.9.2/man'\n",
            "Making install in doc\n",
            "make[1]: Entering directory '/tmp/mecab-0.996-ko-0.9.2/doc'\n",
            "make[2]: Entering directory '/tmp/mecab-0.996-ko-0.9.2/doc'\n",
            "make[2]: Nothing to be done for 'install-exec-am'.\n",
            "make[2]: Nothing to be done for 'install-data-am'.\n",
            "make[2]: Leaving directory '/tmp/mecab-0.996-ko-0.9.2/doc'\n",
            "make[1]: Leaving directory '/tmp/mecab-0.996-ko-0.9.2/doc'\n",
            "Making install in tests\n",
            "make[1]: Entering directory '/tmp/mecab-0.996-ko-0.9.2/tests'\n",
            "make[2]: Entering directory '/tmp/mecab-0.996-ko-0.9.2/tests'\n",
            "make[2]: Nothing to be done for 'install-exec-am'.\n",
            "make[2]: Nothing to be done for 'install-data-am'.\n",
            "make[2]: Leaving directory '/tmp/mecab-0.996-ko-0.9.2/tests'\n",
            "make[1]: Leaving directory '/tmp/mecab-0.996-ko-0.9.2/tests'\n",
            "make[1]: Entering directory '/tmp/mecab-0.996-ko-0.9.2'\n",
            "make[2]: Entering directory '/tmp/mecab-0.996-ko-0.9.2'\n",
            "test -z \"/usr/local/bin\" || /bin/mkdir -p \"/usr/local/bin\"\n",
            " /usr/bin/install -c mecab-config '/usr/local/bin'\n",
            "test -z \"/usr/local/etc\" || /bin/mkdir -p \"/usr/local/etc\"\n",
            " /usr/bin/install -c -m 644 mecabrc '/usr/local/etc'\n",
            "make[2]: Leaving directory '/tmp/mecab-0.996-ko-0.9.2'\n",
            "make[1]: Leaving directory '/tmp/mecab-0.996-ko-0.9.2'\n",
            "--2022-10-14 04:35:04--  https://www.dropbox.com/s/i8girnk5p80076c/mecab-ko-dic-2.1.1-20180720.tar.gz?dl=1\n",
            "Resolving www.dropbox.com (www.dropbox.com)... 162.125.5.18, 2620:100:601d:18::a27d:512\n",
            "Connecting to www.dropbox.com (www.dropbox.com)|162.125.5.18|:443... connected.\n",
            "HTTP request sent, awaiting response... 302 Found\n",
            "Location: /s/dl/i8girnk5p80076c/mecab-ko-dic-2.1.1-20180720.tar.gz [following]\n",
            "--2022-10-14 04:35:04--  https://www.dropbox.com/s/dl/i8girnk5p80076c/mecab-ko-dic-2.1.1-20180720.tar.gz\n",
            "Reusing existing connection to www.dropbox.com:443.\n",
            "HTTP request sent, awaiting response... 302 Found\n",
            "Location: https://uc38a7190e87fe9cee5ee7937204.dl.dropboxusercontent.com/cd/0/get/BuyU_kjtO9K9JMCOe6PJV5HuVku1ug8O5Veees4AwfKWcLbe30oc6DkRdGTXqg1D1-LeuwbZBdK6r-dStynMKJYnVoTr0QO8D-GQ2hJoRe-9DdPfgu2MzBSx3Uo96y8lNnmvwBxqwYSdTt85SU6Zw7lzyWhiZZn-rwB6B_ziMdlbbqxXafih1dCMWYAJbAw6g9I/file?dl=1# [following]\n",
            "--2022-10-14 04:35:04--  https://uc38a7190e87fe9cee5ee7937204.dl.dropboxusercontent.com/cd/0/get/BuyU_kjtO9K9JMCOe6PJV5HuVku1ug8O5Veees4AwfKWcLbe30oc6DkRdGTXqg1D1-LeuwbZBdK6r-dStynMKJYnVoTr0QO8D-GQ2hJoRe-9DdPfgu2MzBSx3Uo96y8lNnmvwBxqwYSdTt85SU6Zw7lzyWhiZZn-rwB6B_ziMdlbbqxXafih1dCMWYAJbAw6g9I/file?dl=1\n",
            "Resolving uc38a7190e87fe9cee5ee7937204.dl.dropboxusercontent.com (uc38a7190e87fe9cee5ee7937204.dl.dropboxusercontent.com)... 162.125.5.15, 2620:100:601d:15::a27d:50f\n",
            "Connecting to uc38a7190e87fe9cee5ee7937204.dl.dropboxusercontent.com (uc38a7190e87fe9cee5ee7937204.dl.dropboxusercontent.com)|162.125.5.15|:443... connected.\n",
            "HTTP request sent, awaiting response... 200 OK\n",
            "Length: 49775061 (47M) [application/binary]\n",
            "Saving to: ‘mecab-ko-dic-2.1.1-20180720.tar.gz?dl=1.5’\n",
            "\n",
            "mecab-ko-dic-2.1.1- 100%[===================>]  47.47M  78.7MB/s    in 0.6s    \n",
            "\n",
            "2022-10-14 04:35:05 (78.7 MB/s) - ‘mecab-ko-dic-2.1.1-20180720.tar.gz?dl=1.5’ saved [49775061/49775061]\n",
            "\n",
            "Reading package lists... Done\n",
            "Building dependency tree       \n",
            "Reading state information... Done\n",
            "autoconf is already the newest version (2.69-11).\n",
            "The following package was automatically installed and is no longer required:\n",
            "  libnvidia-common-460\n",
            "Use 'apt autoremove' to remove it.\n",
            "0 upgraded, 0 newly installed, 0 to remove and 12 not upgraded.\n",
            "mecab-ko-dic-2.1.1-20180720/\n",
            "mecab-ko-dic-2.1.1-20180720/configure\n",
            "mecab-ko-dic-2.1.1-20180720/COPYING\n",
            "mecab-ko-dic-2.1.1-20180720/autogen.sh\n",
            "mecab-ko-dic-2.1.1-20180720/Place-station.csv\n",
            "mecab-ko-dic-2.1.1-20180720/NNG.csv\n",
            "mecab-ko-dic-2.1.1-20180720/README\n",
            "mecab-ko-dic-2.1.1-20180720/EF.csv\n",
            "mecab-ko-dic-2.1.1-20180720/MAG.csv\n",
            "mecab-ko-dic-2.1.1-20180720/Preanalysis.csv\n",
            "mecab-ko-dic-2.1.1-20180720/NNB.csv\n",
            "mecab-ko-dic-2.1.1-20180720/Person-actor.csv\n",
            "mecab-ko-dic-2.1.1-20180720/VV.csv\n",
            "mecab-ko-dic-2.1.1-20180720/Makefile.in\n",
            "mecab-ko-dic-2.1.1-20180720/matrix.def\n",
            "mecab-ko-dic-2.1.1-20180720/EC.csv\n",
            "mecab-ko-dic-2.1.1-20180720/NNBC.csv\n",
            "mecab-ko-dic-2.1.1-20180720/clean\n",
            "mecab-ko-dic-2.1.1-20180720/ChangeLog\n",
            "mecab-ko-dic-2.1.1-20180720/J.csv\n",
            "mecab-ko-dic-2.1.1-20180720/.keep\n",
            "mecab-ko-dic-2.1.1-20180720/feature.def\n",
            "mecab-ko-dic-2.1.1-20180720/Foreign.csv\n",
            "mecab-ko-dic-2.1.1-20180720/XPN.csv\n",
            "mecab-ko-dic-2.1.1-20180720/EP.csv\n",
            "mecab-ko-dic-2.1.1-20180720/NR.csv\n",
            "mecab-ko-dic-2.1.1-20180720/left-id.def\n",
            "mecab-ko-dic-2.1.1-20180720/Place.csv\n",
            "mecab-ko-dic-2.1.1-20180720/Symbol.csv\n",
            "mecab-ko-dic-2.1.1-20180720/dicrc\n",
            "mecab-ko-dic-2.1.1-20180720/NP.csv\n",
            "mecab-ko-dic-2.1.1-20180720/ETM.csv\n",
            "mecab-ko-dic-2.1.1-20180720/IC.csv\n",
            "mecab-ko-dic-2.1.1-20180720/Place-address.csv\n",
            "mecab-ko-dic-2.1.1-20180720/Group.csv\n",
            "mecab-ko-dic-2.1.1-20180720/model.def\n",
            "mecab-ko-dic-2.1.1-20180720/XSN.csv\n",
            "mecab-ko-dic-2.1.1-20180720/INSTALL\n",
            "mecab-ko-dic-2.1.1-20180720/rewrite.def\n",
            "mecab-ko-dic-2.1.1-20180720/Inflect.csv\n",
            "mecab-ko-dic-2.1.1-20180720/configure.ac\n",
            "mecab-ko-dic-2.1.1-20180720/NNP.csv\n",
            "mecab-ko-dic-2.1.1-20180720/CoinedWord.csv\n",
            "mecab-ko-dic-2.1.1-20180720/XSV.csv\n",
            "mecab-ko-dic-2.1.1-20180720/pos-id.def\n",
            "mecab-ko-dic-2.1.1-20180720/Makefile.am\n",
            "mecab-ko-dic-2.1.1-20180720/unk.def\n",
            "mecab-ko-dic-2.1.1-20180720/missing\n",
            "mecab-ko-dic-2.1.1-20180720/VCP.csv\n",
            "mecab-ko-dic-2.1.1-20180720/install-sh\n",
            "mecab-ko-dic-2.1.1-20180720/Hanja.csv\n",
            "mecab-ko-dic-2.1.1-20180720/MAJ.csv\n",
            "mecab-ko-dic-2.1.1-20180720/XSA.csv\n",
            "mecab-ko-dic-2.1.1-20180720/Wikipedia.csv\n",
            "mecab-ko-dic-2.1.1-20180720/tools/\n",
            "mecab-ko-dic-2.1.1-20180720/tools/add-userdic.sh\n",
            "mecab-ko-dic-2.1.1-20180720/tools/mecab-bestn.sh\n",
            "mecab-ko-dic-2.1.1-20180720/tools/convert_for_using_store.sh\n",
            "mecab-ko-dic-2.1.1-20180720/user-dic/\n",
            "mecab-ko-dic-2.1.1-20180720/user-dic/nnp.csv\n",
            "mecab-ko-dic-2.1.1-20180720/user-dic/place.csv\n",
            "mecab-ko-dic-2.1.1-20180720/user-dic/person.csv\n",
            "mecab-ko-dic-2.1.1-20180720/user-dic/README.md\n",
            "mecab-ko-dic-2.1.1-20180720/NorthKorea.csv\n",
            "mecab-ko-dic-2.1.1-20180720/VX.csv\n",
            "mecab-ko-dic-2.1.1-20180720/right-id.def\n",
            "mecab-ko-dic-2.1.1-20180720/VA.csv\n",
            "mecab-ko-dic-2.1.1-20180720/char.def\n",
            "mecab-ko-dic-2.1.1-20180720/NEWS\n",
            "mecab-ko-dic-2.1.1-20180720/MM.csv\n",
            "mecab-ko-dic-2.1.1-20180720/ETN.csv\n",
            "mecab-ko-dic-2.1.1-20180720/AUTHORS\n",
            "mecab-ko-dic-2.1.1-20180720/Person.csv\n",
            "mecab-ko-dic-2.1.1-20180720/XR.csv\n",
            "mecab-ko-dic-2.1.1-20180720/VCN.csv\n",
            "Looking in current directory for macros.\n",
            "configure.ac:2: warning: AM_INIT_AUTOMAKE: two- and three-arguments forms are deprecated.  For more info, see:\n",
            "configure.ac:2: http://www.gnu.org/software/automake/manual/automake.html#Modernize-AM_005fINIT_005fAUTOMAKE-invocation\n",
            "checking for a BSD-compatible install... /usr/bin/install -c\n",
            "checking whether build environment is sane... yes\n",
            "/tmp/mecab-ko-dic-2.1.1-20180720/missing: Unknown `--is-lightweight' option\n",
            "Try `/tmp/mecab-ko-dic-2.1.1-20180720/missing --help' for more information\n",
            "configure: WARNING: 'missing' script is too old or missing\n",
            "checking for a thread-safe mkdir -p... /bin/mkdir -p\n",
            "checking for gawk... no\n",
            "checking for mawk... mawk\n",
            "checking whether make sets $(MAKE)... yes\n",
            "checking whether make supports nested variables... yes\n",
            "checking for mecab-config... /usr/local/bin/mecab-config\n",
            "checking that generated files are newer than configure... done\n",
            "configure: creating ./config.status\n",
            "config.status: creating Makefile\n",
            "make: Nothing to be done for 'all'.\n",
            "make[1]: Entering directory '/tmp/mecab-ko-dic-2.1.1-20180720'\n",
            "make[1]: Nothing to be done for 'install-exec-am'.\n",
            " /bin/mkdir -p '/usr/local/lib/mecab/dic/mecab-ko-dic'\n",
            " /usr/bin/install -c -m 644 model.bin matrix.bin char.bin sys.dic unk.dic left-id.def right-id.def rewrite.def pos-id.def dicrc '/usr/local/lib/mecab/dic/mecab-ko-dic'\n",
            "make[1]: Leaving directory '/tmp/mecab-ko-dic-2.1.1-20180720'\n",
            "fatal: destination path 'mecab-python-0.996' already exists and is not an empty directory.\n",
            "Looking in indexes: https://pypi.org/simple, https://us-python.pkg.dev/colab-wheels/public/simple/\n",
            "Requirement already satisfied: konlpy in /usr/local/lib/python3.7/dist-packages (0.6.0)\n",
            "Requirement already satisfied: lxml>=4.1.0 in /usr/local/lib/python3.7/dist-packages (from konlpy) (4.9.1)\n",
            "Requirement already satisfied: numpy>=1.6 in /usr/local/lib/python3.7/dist-packages (from konlpy) (1.21.6)\n",
            "Requirement already satisfied: JPype1>=0.7.0 in /usr/local/lib/python3.7/dist-packages (from konlpy) (1.4.0)\n",
            "Requirement already satisfied: typing-extensions in /usr/local/lib/python3.7/dist-packages (from JPype1>=0.7.0->konlpy) (4.1.1)\n"
          ]
        }
      ]
    },
    {
      "cell_type": "code",
      "execution_count": 3,
      "metadata": {
        "id": "8bg9SCMnTBeb"
      },
      "outputs": [],
      "source": [
        "import urllib.request\n",
        "import tensorflow as tf\n",
        "import numpy as np\n",
        "\n",
        "from sklearn.model_selection import train_test_split\n",
        "from konlpy.tag import Mecab\n",
        "import matplotlib.ticker as ticker\n",
        "import matplotlib.pyplot as plt\n",
        "\n",
        "import time\n",
        "import re\n",
        "import os\n",
        "import io\n",
        "mecab = Mecab()\n",
        "plt.rc('font', family='NanumBarunGothic')"
      ]
    },
    {
      "cell_type": "markdown",
      "source": [
        "## 2. 데이터 다운로드"
      ],
      "metadata": {
        "id": "aBDNnI3kOMgb"
      }
    },
    {
      "cell_type": "code",
      "source": [
        "path_train_ko = '/content/drive/MyDrive/인공지능/아이펠/GoingDeeper/제출용/data/translator_ke/korean-english-park.train.ko'\n",
        "path_train_en = '/content/drive/MyDrive/인공지능/아이펠/GoingDeeper/제출용/data/translator_ke/korean-english-park.train.en'"
      ],
      "metadata": {
        "id": "f2Mg_LswOmK8"
      },
      "execution_count": 4,
      "outputs": []
    },
    {
      "cell_type": "code",
      "source": [
        "# with open(path_train_ko, \"r\") as f:\n",
        "#     raw_ko = f.read().splitlines()\n",
        "\n",
        "# print(\"Data Size:\", len(raw_ko))\n",
        "# print(\"Example:\")\n",
        "\n",
        "# for sen in raw_ko[0:100][::20]: print(\">>\", sen)"
      ],
      "metadata": {
        "id": "tb7HnVPiXDZS"
      },
      "execution_count": 5,
      "outputs": []
    },
    {
      "cell_type": "code",
      "source": [
        "# with open(path_train_en, \"r\") as f:\n",
        "#     raw_en = f.read().splitlines()\n",
        "\n",
        "# print(\"Data Size:\", len(raw_en))\n",
        "# print(\"Example:\")\n",
        "\n",
        "# for sen in raw_en[0:100][::20]: print(\">>\", sen)"
      ],
      "metadata": {
        "id": "bmkrZiMJXQcD"
      },
      "execution_count": 6,
      "outputs": []
    },
    {
      "cell_type": "markdown",
      "source": [
        "## 3. 데이터 정제\n",
        "\n",
        "1. set 데이터형이 중복을 허용하지 않는다는 것을 활용해 중복된 데이터를 제거하도록 합니다. 데이터의 병렬 쌍이 흐트러지지 않게 주의하세요! 중복을 제거한 데이터를 cleaned_corpus 에 저장합니다.\n",
        "\n",
        "2. 앞서 정의한 preprocessing() 함수는 한글에서는 동작하지 않습니다. 한글에 적용할 수 있는 정규식을 추가하여 함수를 재정의하세요!\n",
        "\n",
        "3. 타겟 언어인 영문엔 start 토큰과 end 토큰을 추가하고 split() 함수를 이용하여 토큰화합니다. 한글 토큰화는 KoNLPy의 mecab 클래스를 사용합니다.\n",
        "\n",
        "모든 데이터를 사용할 경우 학습에 굉장히 오랜 시간이 걸립니다. cleaned_corpus로부터 토큰의 길이가 40 이하인 데이터를 선별하여 eng_corpus와 kor_corpus를 각각 구축하세요."
      ],
      "metadata": {
        "id": "o89citteDqMI"
      }
    },
    {
      "cell_type": "code",
      "source": [
        "# cleaned_corpus = list(set(zip(raw_ko, raw_en)))"
      ],
      "metadata": {
        "id": "NYJ1qfSHR3o2"
      },
      "execution_count": 7,
      "outputs": []
    },
    {
      "cell_type": "code",
      "source": [
        "def clean_corpus(kor_path, eng_path):\n",
        "    with open(kor_path, \"r\") as f: kor = f.read().splitlines()\n",
        "    with open(eng_path, \"r\") as f: eng = f.read().splitlines()\n",
        "    assert len(kor) == len(eng)\n",
        "\n",
        "    cleaned_corpus = list(set(zip(kor, eng)))\n",
        "\n",
        "    return cleaned_corpus\n",
        "\n",
        "cleaned_corpus = clean_corpus(path_train_ko, path_train_en)"
      ],
      "metadata": {
        "id": "Wa1BunlLanqr"
      },
      "execution_count": 8,
      "outputs": []
    },
    {
      "cell_type": "code",
      "source": [
        "len(cleaned_corpus)"
      ],
      "metadata": {
        "id": "I3cB3okQSUL6",
        "colab": {
          "base_uri": "https://localhost:8080/"
        },
        "outputId": "fc2fa5cd-e9cb-412d-8913-753b3a5778f6"
      },
      "execution_count": 9,
      "outputs": [
        {
          "output_type": "execute_result",
          "data": {
            "text/plain": [
              "78968"
            ]
          },
          "metadata": {},
          "execution_count": 9
        }
      ]
    },
    {
      "cell_type": "markdown",
      "source": [
        "전처리 과정에서 문장의 시작 문자 <start>, 종료 문자 <end> 를 붙여주게 됩니다. 이 작업은 Encoder에 들어갈 입력 문장의 전처리에는 굳이 필요하지 않지만, Decoder의 입력 문장과 라벨로 사용할 출력 문장에는 꼭 필요하게 됩니다. "
      ],
      "metadata": {
        "id": "cdWX4lZB__Bx"
      }
    },
    {
      "cell_type": "code",
      "source": [
        "def preprocess_sentence(sentence, e_token=False):\n",
        "    sentence = sentence.lower().strip()\n",
        "    sentence = re.sub(r\"([?.!,])\", r\" \\1 \", sentence)\n",
        "    sentence = re.sub(r'[\" \"]+', \" \", sentence)\n",
        "    sentence = re.sub(r\"[^가-힣ㄱ-ㅎㅏ-ㅣa-zA-Z?.!,]+\", \" \", sentence)\n",
        "    sentence = sentence.strip()\n",
        "\n",
        "    # 전처리 과정에서 문장의 시작 문자 <start>, 종료 문자 <end> 를 붙여주게 됩니다.   \n",
        "    if e_token == True:\n",
        "        sentence = '<start> ' + sentence\n",
        "        sentence += ' <end>'\n",
        "        sentence = sentence.split()\n",
        "    else: #  Encoder에 들어갈 입력 문장의 전처리에는 굳이 필요하지 않다.\n",
        "        sentence = mecab.morphs(sentence)\n",
        "\n",
        "    \n",
        "    return sentence"
      ],
      "metadata": {
        "id": "uxhCoTzPDrS9"
      },
      "execution_count": 10,
      "outputs": []
    },
    {
      "cell_type": "code",
      "source": [
        "for pair in cleaned_corpus[:10]:\n",
        "    print(pair)\n",
        "    print('pair 0 :',pair[0])\n",
        "    print('pair 1 :',pair[1])"
      ],
      "metadata": {
        "id": "gLqzKgcCUWnX",
        "colab": {
          "base_uri": "https://localhost:8080/"
        },
        "outputId": "8b372bca-0608-46e4-e40e-4969d1e6b842"
      },
      "execution_count": 11,
      "outputs": [
        {
          "output_type": "stream",
          "name": "stdout",
          "text": [
            "('이 이외에도 우리의 미식축구에 대한 깊은 애정 때문도 있습니다.”', 'and besides, our deep love of football.')\n",
            "pair 0 : 이 이외에도 우리의 미식축구에 대한 깊은 애정 때문도 있습니다.”\n",
            "pair 1 : and besides, our deep love of football.\n",
            "('그는 이 “선의의 행동”을 압바스를 비롯하여 이집트와 요르단의 지도자들이 참석한 가운데 이집트에서 열린 정상회담에서 발표하였다.', 'He announced the “goodwill gesture” at a summit in Egypt, attended by Abbas and the leaders of Egypt and Jordan.')\n",
            "pair 0 : 그는 이 “선의의 행동”을 압바스를 비롯하여 이집트와 요르단의 지도자들이 참석한 가운데 이집트에서 열린 정상회담에서 발표하였다.\n",
            "pair 1 : He announced the “goodwill gesture” at a summit in Egypt, attended by Abbas and the leaders of Egypt and Jordan.\n",
            "('이곳의 눈은 98퍼센트의 물과 2퍼센트의 화학물질을 섞어 만들었지만 인체에 전혀 유해하지 않다.', \"It's made from 98 percent water and 2 percent chemical solution that is harmless.\")\n",
            "pair 0 : 이곳의 눈은 98퍼센트의 물과 2퍼센트의 화학물질을 섞어 만들었지만 인체에 전혀 유해하지 않다.\n",
            "pair 1 : It's made from 98 percent water and 2 percent chemical solution that is harmless.\n",
            "('루이스 이나시우 룰라 다 실바 브라질 대통령은 “중남미 국가들간의 강력하고 연합된 중남미기구가 정당화됐다”며 “이는 중남미 대륙 국가들이 처음으로 통제하는 국제 금융기구가 될 것”이라고 말했다.', '\"Only strong and united can South America occupy its rightful place among nations,\" Brazilian President Luiz Inacio Lula da Silva said. \"This will be the first international bank truly controlled by the nations of our continent.')\n",
            "pair 0 : 루이스 이나시우 룰라 다 실바 브라질 대통령은 “중남미 국가들간의 강력하고 연합된 중남미기구가 정당화됐다”며 “이는 중남미 대륙 국가들이 처음으로 통제하는 국제 금융기구가 될 것”이라고 말했다.\n",
            "pair 1 : \"Only strong and united can South America occupy its rightful place among nations,\" Brazilian President Luiz Inacio Lula da Silva said. \"This will be the first international bank truly controlled by the nations of our continent.\n",
            "('그는 그러나 \"현시점에서 공격에 대한 구체적인 음모는 없는 것으로 보인다\"고 덧붙였다.', 'All of those things put together do cause us to be concerned going into the summer but we do not have any specific information about a particular attack at this point.')\n",
            "pair 0 : 그는 그러나 \"현시점에서 공격에 대한 구체적인 음모는 없는 것으로 보인다\"고 덧붙였다.\n",
            "pair 1 : All of those things put together do cause us to be concerned going into the summer but we do not have any specific information about a particular attack at this point.\n",
            "('다비슨 문화원원장은 국제적, 정치적 논쟁에 문화기관인 영국 문화원을 끌어들이는 것은 잘못된 일이라고 말했다.', 'Davison said it was wrong to draw the British Council, a cultural organization, into an international political dispute.')\n",
            "pair 0 : 다비슨 문화원원장은 국제적, 정치적 논쟁에 문화기관인 영국 문화원을 끌어들이는 것은 잘못된 일이라고 말했다.\n",
            "pair 1 : Davison said it was wrong to draw the British Council, a cultural organization, into an international political dispute.\n",
            "('아빠 라이언 모리슨은 \"아이들이 바라던 것보다 너무 빨리 나왔지만 우리는 긍정적으로 보고 있다\"며 \"우리 가족을 위해 기도해준 모든 사람들에게 고맙고 너무 행복하다\"고 발표했다.', 'Thanks to all who are praying for our family. We are very happy to be parents.')\n",
            "pair 0 : 아빠 라이언 모리슨은 \"아이들이 바라던 것보다 너무 빨리 나왔지만 우리는 긍정적으로 보고 있다\"며 \"우리 가족을 위해 기도해준 모든 사람들에게 고맙고 너무 행복하다\"고 발표했다.\n",
            "pair 1 : Thanks to all who are praying for our family. We are very happy to be parents.\n",
            "('영국 정부가 6개월간 성적 이득을 착취당하는 여성을 보호할 수 있는 추가 방안을 마련하기 위한 방안을 검토한 뒤 영국 내무부가 19일 새로운 법안을 내놓았다.', \"Britain's interior ministry, known as the Home Office, introduced the new measures Wednesday after a six-month review that looked at what else the government could do to protect women being exploited for sexual gain.\")\n",
            "pair 0 : 영국 정부가 6개월간 성적 이득을 착취당하는 여성을 보호할 수 있는 추가 방안을 마련하기 위한 방안을 검토한 뒤 영국 내무부가 19일 새로운 법안을 내놓았다.\n",
            "pair 1 : Britain's interior ministry, known as the Home Office, introduced the new measures Wednesday after a six-month review that looked at what else the government could do to protect women being exploited for sexual gain.\n",
            "('페루 대법원은 11일(현지시간) 권력 남용 혐의로 기소된 알베르토 후지모리 전 대통령에 대해 징역 6년을 선고했다.', 'Former President Alberto Fujimori was convicted and sentenced to six years in prison on Tuesday on a charge of abuse of authority stemming from an illegal search he ordered as his government imploded in scandal seven years ago.')\n",
            "pair 0 : 페루 대법원은 11일(현지시간) 권력 남용 혐의로 기소된 알베르토 후지모리 전 대통령에 대해 징역 6년을 선고했다.\n",
            "pair 1 : Former President Alberto Fujimori was convicted and sentenced to six years in prison on Tuesday on a charge of abuse of authority stemming from an illegal search he ordered as his government imploded in scandal seven years ago.\n",
            "('이번 연구는 美 질병 통제 예방 센터의 지원으로 진행되었습니다.', 'The study was funded by the US Centers for Disease Control and Prevention.')\n",
            "pair 0 : 이번 연구는 美 질병 통제 예방 센터의 지원으로 진행되었습니다.\n",
            "pair 1 : The study was funded by the US Centers for Disease Control and Prevention.\n"
          ]
        }
      ]
    },
    {
      "cell_type": "markdown",
      "source": [
        "원활한 학습을 위해 데이터는 상위 2만 개만 사용하도록 하겠습니다."
      ],
      "metadata": {
        "id": "4gDMAqcPAJgO"
      }
    },
    {
      "cell_type": "code",
      "source": [
        "enc_corpus = []\n",
        "dec_corpus = []\n",
        "\n",
        "num_examples = 20000\n",
        "\n",
        "for pair in cleaned_corpus[:num_examples]:\n",
        "    enc_pre = preprocess_sentence(pair[0])\n",
        "    dec_pre = preprocess_sentence(pair[1],  e_token=True)\n",
        "    if len(enc_pre) <= 40 and len(dec_pre) <= 40:\n",
        "        enc_corpus.append(enc_pre)\n",
        "        dec_corpus.append(dec_pre)\n",
        "\n",
        "print(\"한국어:\", enc_corpus[100])   # go away !\n",
        "print(\"영어:\", dec_corpus[100])   # <start> salga de aqu ! <end>"
      ],
      "metadata": {
        "id": "smm6ohyf2WR4",
        "colab": {
          "base_uri": "https://localhost:8080/"
        },
        "outputId": "0003fc09-be7c-4bc6-9db0-01dd322c9170"
      },
      "execution_count": 12,
      "outputs": [
        {
          "output_type": "stream",
          "name": "stdout",
          "text": [
            "한국어: ['그', '는', '위험', '이', '존재', '한다', '고', '말', '했', '다', '.']\n",
            "영어: ['<start>', 'the', 'threat', 'exists', ',', 'he', 'said', '.', '<end>']\n"
          ]
        }
      ]
    },
    {
      "cell_type": "markdown",
      "source": [
        "## 4. 데이터 토큰화\n",
        "앞서 정의한 tokenize() 함수를 사용해 데이터를 텐서로 변환하고 각각의 tokenizer를 얻으세요! 단어의 수는 실험을 통해 적당한 값을 맞춰주도록 합니다! (최소 10,000 이상!)\n",
        "\n",
        "❗ 주의: 난이도에 비해 데이터가 많지 않아 훈련 데이터와 검증 데이터를 따로 나누지는 않습니다."
      ],
      "metadata": {
        "id": "Qxdh1QW8DsG_"
      }
    },
    {
      "cell_type": "markdown",
      "source": [
        "정제된 텍스트를 아래 tokenize() 함수를 사용해 토큰화하고 텐서로 변환하세요. 그리고 변환된 텐서를 80%의 훈련 데이터와 20%의 검증 데이터로 분리한다."
      ],
      "metadata": {
        "id": "DoX8XjuMAQWu"
      }
    },
    {
      "cell_type": "code",
      "source": [
        "def tokenize(corpus):\n",
        "    tokenizer = tf.keras.preprocessing.text.Tokenizer(filters='')\n",
        "    tokenizer.fit_on_texts(corpus)\n",
        "\n",
        "    tensor = tokenizer.texts_to_sequences(corpus)\n",
        "\n",
        "    tensor = tf.keras.preprocessing.sequence.pad_sequences(tensor, padding='post')\n",
        "\n",
        "    return tensor, tokenizer"
      ],
      "metadata": {
        "id": "8Wh__XXcDt21"
      },
      "execution_count": 13,
      "outputs": []
    },
    {
      "cell_type": "code",
      "source": [
        "# 토큰화하기\n",
        "enc_tensor, enc_tokenizer = tokenize(enc_corpus)\n",
        "dec_tensor, dec_tokenizer = tokenize(dec_corpus)\n",
        "\n",
        "# 훈련 데이터와 검증 데이터로 분리하기\n",
        "enc_train, enc_val, dec_train, dec_val = \\\n",
        "train_test_split(enc_tensor, dec_tensor, test_size=0.2)\n",
        "\n",
        "print(\"한국어 Vocab Size:\", len(enc_tokenizer.index_word))\n",
        "print(\"영어 Vocab Size:\", len(dec_tokenizer.index_word))"
      ],
      "metadata": {
        "id": "4d6tlk38WtzX",
        "colab": {
          "base_uri": "https://localhost:8080/"
        },
        "outputId": "4248f840-a55b-439d-884d-e7b39668b3da"
      },
      "execution_count": 14,
      "outputs": [
        {
          "output_type": "stream",
          "name": "stdout",
          "text": [
            "한국어 Vocab Size: 24174\n",
            "영어 Vocab Size: 21741\n"
          ]
        }
      ]
    },
    {
      "cell_type": "markdown",
      "source": [
        "## 5. 모델 설계\n",
        "한국어를 영어로 잘 번역해 줄 멋진 Attention 기반 Seq2seq 모델을 설계하세요! 앞서 만든 모델에 Dropout 모듈을 추가하면 성능이 더 좋아집니다! Embedding Size와 Hidden Size는 실험을 통해 적당한 값을 맞춰 주도록 합니다!"
      ],
      "metadata": {
        "id": "BDm7SKClDuhN"
      }
    },
    {
      "cell_type": "markdown",
      "source": [
        "![image.png](data:image/png;base64,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)"
      ],
      "metadata": {
        "id": "ePBjigxYAaQH"
      }
    },
    {
      "cell_type": "markdown",
      "source": [
        ">Encoder는 모든 Time-Step의 Hidden State를 출력으로 갖고, Decoder는 Encoder의 출력과 Decoder의 t-1 Step의 Hidden State로 Attention을 취하여 t Step의 Hidden State를 만들어낸다.\n",
        "\n",
        ">Decoder에서 t Step의 단어로 예측된 것을 실제 정답과 대조해 Loss를 구하고, 생성된 t Step의 Hidden State는 t+1 Step의 Hidden State를 만들기 위해 다시 Decoder에 전달됩니다.\n",
        "\n",
        ">여기서 't=1 일 때의 Hidden State는 어떻게 정의할 것인가?' 가 궁금하실 수 있는데요, 일반적으로 Encoder의 Final State를 Hidden State로 사용합니다."
      ],
      "metadata": {
        "id": "YpBdL6viAdFB"
      }
    },
    {
      "cell_type": "code",
      "source": [
        "class BahdanauAttention(tf.keras.layers.Layer):\n",
        "    def __init__(self, units):\n",
        "        super(BahdanauAttention, self).__init__()\n",
        "        self.w_dec = tf.keras.layers.Dense(units)\n",
        "        self.w_enc = tf.keras.layers.Dense(units)\n",
        "        self.w_com = tf.keras.layers.Dense(1)\n",
        "    \n",
        "    def call(self, h_enc, h_dec):\n",
        "        # h_enc shape: [batch x length x units]\n",
        "        # h_dec shape: [batch x units]\n",
        "\n",
        "        h_enc = self.w_enc(h_enc)\n",
        "        h_dec = tf.expand_dims(h_dec, 1)\n",
        "        h_dec = self.w_dec(h_dec)\n",
        "\n",
        "        score = self.w_com(tf.nn.tanh(h_dec + h_enc))\n",
        "        \n",
        "        attn = tf.nn.softmax(score, axis=1)\n",
        "\n",
        "        context_vec = attn * h_enc\n",
        "        context_vec = tf.reduce_sum(context_vec, axis=1)\n",
        "\n",
        "        return context_vec, attn"
      ],
      "metadata": {
        "id": "BZyT5iiuDv1O"
      },
      "execution_count": 15,
      "outputs": []
    },
    {
      "cell_type": "code",
      "source": [
        "class Encoder(tf.keras.Model):\n",
        "    def __init__(self, vocab_size, embedding_dim, enc_units):\n",
        "        super(Encoder, self).__init__()\n",
        "        \n",
        "        self.enc_units = enc_units\n",
        "        self.embedding = tf.keras.layers.Embedding(vocab_size, embedding_dim)\n",
        "        self.gru = tf.keras.layers.GRU(enc_units,\n",
        "                                       return_sequences=True)\n",
        "        \n",
        "    def call(self, x):\n",
        "        out = self.embedding(x)\n",
        "        out = self.gru(out)\n",
        "        \n",
        "        return out"
      ],
      "metadata": {
        "id": "O4QE_kNhYXPA"
      },
      "execution_count": 16,
      "outputs": []
    },
    {
      "cell_type": "code",
      "source": [
        "class Decoder(tf.keras.Model):\n",
        "    def __init__(self, vocab_size, embedding_dim, dec_units):\n",
        "        super(Decoder, self).__init__()\n",
        "        self.dec_units = dec_units\n",
        "        self.embedding = tf.keras.layers.Embedding(vocab_size, embedding_dim)\n",
        "        self.gru = tf.keras.layers.GRU(dec_units,\n",
        "                                       return_sequences=True,\n",
        "                                       return_state=True)\n",
        "        self.fc = tf.keras.layers.Dense(vocab_size)\n",
        "\n",
        "        self.attention = BahdanauAttention(self.dec_units)\n",
        "\n",
        "    def call(self, x, h_dec, enc_out):\n",
        "        context_vec, attn = self.attention(enc_out, h_dec)\n",
        "\n",
        "        out = self.embedding(x)\n",
        "        out = tf.concat([tf.expand_dims(context_vec, 1), out], axis=-1)\n",
        "        \n",
        "        out, h_dec = self.gru(out)\n",
        "        out = tf.reshape(out, (-1, out.shape[2]))\n",
        "        out = self.fc(out)\n",
        "\n",
        "        return out, h_dec, attn"
      ],
      "metadata": {
        "id": "QkOVYVA7Ygpy"
      },
      "execution_count": 17,
      "outputs": []
    },
    {
      "cell_type": "code",
      "source": [
        "BATCH_SIZE     = 64\n",
        "SRC_VOCAB_SIZE = len(enc_tokenizer.index_word) + 1\n",
        "TGT_VOCAB_SIZE = len(dec_tokenizer.index_word) + 1\n",
        "\n",
        "units         = 128\n",
        "embedding_dim = 128\n",
        "\n",
        "encoder = Encoder(SRC_VOCAB_SIZE, embedding_dim, units)\n",
        "decoder = Decoder(TGT_VOCAB_SIZE, embedding_dim, units)\n",
        "\n",
        "# sample input\n",
        "sequence_len = 40\n",
        "\n",
        "sample_enc = tf.random.uniform((BATCH_SIZE, sequence_len))\n",
        "sample_output = encoder(sample_enc)\n",
        "\n",
        "print ('Encoder Output:', sample_output.shape)\n",
        "\n",
        "sample_state = tf.random.uniform((BATCH_SIZE, units))\n",
        "\n",
        "sample_logits, h_dec, attn = decoder(tf.random.uniform((BATCH_SIZE, 1)),\n",
        "                                     sample_state, sample_output)\n",
        "\n",
        "print ('Decoder Output:', sample_logits.shape)\n",
        "print ('Decoder Hidden State:', h_dec.shape)\n",
        "print ('Attention:', attn.shape)"
      ],
      "metadata": {
        "id": "UZoJlOw4Yi3x",
        "colab": {
          "base_uri": "https://localhost:8080/"
        },
        "outputId": "903f8d44-57bf-4f97-e888-ac05f5d5b134"
      },
      "execution_count": 18,
      "outputs": [
        {
          "output_type": "stream",
          "name": "stdout",
          "text": [
            "Encoder Output: (64, 40, 128)\n",
            "Decoder Output: (64, 21742)\n",
            "Decoder Hidden State: (64, 128)\n",
            "Attention: (64, 40, 1)\n"
          ]
        }
      ]
    },
    {
      "cell_type": "markdown",
      "source": [
        "## 6. 훈련하기\n",
        "\n",
        "훈련엔 위에서 사용한 코드를 그대로 사용하되, eval_step() 부분이 없음에 유의합니다! 매 스텝 아래의 예문에 대한 번역을 생성하여 본인이 생각하기에 가장 멋지게 번역한 Case를 제출하세요! (Attention Map을 시각화해보는 것도 재밌을 거예요!)\n",
        "\n",
        "❕ 참고: 데이터의 난이도가 높은 편이므로 생각만큼 결과가 잘 안나올 수 있습니다."
      ],
      "metadata": {
        "id": "PIT-CRFWDwnS"
      }
    },
    {
      "cell_type": "markdown",
      "source": [
        ">Optimizer는 모델이 학습할 때에 정답을 찾아가는 방법 정도로 설명할 수 있다.  여기서 fit() 함수를 사용할 수 없는 이유는 바로 Loss 함수 때문입니다. 앞서 설명한 것처럼 Encoder-Decoder 구조는 학습 과정이 일반적이지 않으므로 직접 Loss를 커스텀해서 사용해야 하기 때문이다.\n",
        "\n",
        ">SparseCategoricalCrossentropy() 함수는 모델이 출력한 확률 분포와 (One-hot이 아닌) 정수 인덱스 답안을 비교해 Cross Entropy값을 구해줍니다. CategoricalCrossentropy()라면 [ 0.1, 0.2, 0.7 ] 과 One-hot 인코딩된 라벨 [0, 0, 1] 을 비교하여 점수를 채점하겠지만, SparseCategoricalCrossentropy() 함수라면 [ 0.1, 0.2, 0.7 ] 과 정수 인덱스 답안 2 를 비교하여 점수를 채점하는 거죠. from_logits 는 확률 분포가 Softmax를 거쳐서 들어오는지, 모델의 출력값 그대로 들어오는지를 결정합니다. 우리는 True 로 줬으니 모델의 출력값을 그대로 전달하면 됩니다!\n",
        "\n",
        ">데이터를 한 번에 처리하기 위해 가장 긴 문장을 기준으로 패딩(Padding) 과정을 거친 것을 기억하나요? tokenize() 함수 내부의 pad_sequences() 가 바로 그 역할을 해주는 녀석이다.\n",
        "\n",
        ">고난도의 문제를 풀고 있기 때문에 패딩에 대한 처리를 해주지 않으면 <PAD> 토큰만을 생성할 확률이 굉장히 높아집니다. 이 문제를 방지하기 위해 mask 가 사용됩니다! mask 는 정답지에서 <PAD> 토큰을 찾아내어 그 부분에 대한 Loss는 구하지 않도록 하는 역할을 해주죠. equal() 함수에 정확히는 0 이 아닌 <PAD> 토큰의 인덱스를 전달하는 것이 맞지만 대부분의 경우는 0으로 패딩되기 때문에 편의상 0을 전달하여 처리하도록 하겠습니다."
      ],
      "metadata": {
        "id": "eDL2xjIZAt6X"
      }
    },
    {
      "cell_type": "code",
      "source": [
        "optimizer = tf.keras.optimizers.Adam()\n",
        "loss_object = tf.keras.losses.SparseCategoricalCrossentropy(\n",
        "    from_logits=True, reduction='none')\n",
        "\n",
        "def loss_function(real, pred):\n",
        "    mask = tf.math.logical_not(tf.math.equal(real, 0))\n",
        "    loss = loss_object(real, pred)\n",
        "    \n",
        "    mask = tf.cast(mask, dtype=loss.dtype)\n",
        "    loss *= mask\n",
        "    \n",
        "    return tf.reduce_mean(loss)\n"
      ],
      "metadata": {
        "id": "twvET2fXZLLq"
      },
      "execution_count": 19,
      "outputs": []
    },
    {
      "cell_type": "markdown",
      "source": [
        ">@tf.function 데코레이터는 훈련 외적인 텐서플로우 연산을 GPU에서 동작하게 해 훈련을 가속할 수 있도록 도와줍니다. 첫 번째 Epoch이 다른 Epoch보다 약간의 시간이 더 걸리는 것은 데코레이터가 붙은 함수를 GPU에 등록하는 과정이 포함되어 있기 때문이죠! 실제로 위 예제에서 @tf.function 를 제거할 경우, Epoch당 1.5~2배 이상 더 많은 시간이 소요된답니다!\n",
        "- 오토그래프 공식 문서 :  https://www.tensorflow.org/guide/function?hl=ko\n",
        "\n",
        ">tf.GradientTape()는 학습하며 발생한 모든 연산을 기록하는 테이프 이다.\n",
        "- 그래디언트 및 자동 미분 소개 : https://www.tensorflow.org/guide/autodiff?hl=ko\n",
        "\n",
        ">train_step()의 학습 과정은 아래와 같습니다.\n",
        "1. Encoder에 소스 문장을 전달해 컨텍스트 벡터인 enc_out 을 생성\n",
        "2. t=0일 때, Decoder의 Hidden State는 Encoder의 Final State로 정의. h_dec = enc_out[:, -1]\n",
        "3. Decoder에 입력으로 전달할 start 토큰 문장 생성\n",
        "4. start 문장과 enc_out, Hidden State를 기반으로 다음 단어(t=1)를 예측. pred\n",
        "5. 예측된 단어와 정답 간의 Loss를 구한 후, t=1의 정답 단어를 다음 입력으로 사용 (예측 단어 X)\n",
        "6. 반복!"
      ],
      "metadata": {
        "id": "bRonaa_4BQPT"
      }
    },
    {
      "cell_type": "code",
      "source": [
        "@tf.function\n",
        "def train_step(src, tgt, encoder, decoder, optimizer, dec_tok):\n",
        "    bsz = src.shape[0]\n",
        "    loss = 0\n",
        "\n",
        "    with tf.GradientTape() as tape:\n",
        "        enc_out = encoder(src)\n",
        "        h_dec = enc_out[:, -1]\n",
        "        \n",
        "        dec_src = tf.expand_dims([dec_tok.word_index['<start>']] * bsz, 1)\n",
        "\n",
        "        for t in range(1, tgt.shape[1]):\n",
        "            pred, h_dec, _ = decoder(dec_src, h_dec, enc_out)\n",
        "\n",
        "            loss += loss_function(tgt[:, t], pred)\n",
        "            dec_src = tf.expand_dims(tgt[:, t], 1)\n",
        "        \n",
        "    batch_loss = (loss / int(tgt.shape[1]))\n",
        "\n",
        "    variables = encoder.trainable_variables + decoder.trainable_variables\n",
        "    gradients = tape.gradient(loss, variables)\n",
        "    optimizer.apply_gradients(zip(gradients, variables))\n",
        "    \n",
        "    return batch_loss"
      ],
      "metadata": {
        "id": "UF2tqLZwDyDd"
      },
      "execution_count": 20,
      "outputs": []
    },
    {
      "cell_type": "markdown",
      "source": [
        "tqdm은 훈련의 진행 과정을 한눈에 볼 수 있게 해주는 라이브러리 : https://github.com/tqdm/tqdm"
      ],
      "metadata": {
        "id": "K3LQK0DjB1eZ"
      }
    },
    {
      "cell_type": "code",
      "source": [
        "from tqdm import tqdm    # tqdm\n",
        "import random\n",
        "\n",
        "EPOCHS = 50\n",
        "\n",
        "for epoch in range(EPOCHS):\n",
        "    total_loss = 0\n",
        "    \n",
        "    idx_list = list(range(0, enc_train.shape[0], BATCH_SIZE))\n",
        "    random.shuffle(idx_list)\n",
        "    t = tqdm(idx_list)    # tqdm\n",
        "\n",
        "    for (batch, idx) in enumerate(t):\n",
        "        batch_loss = train_step(enc_train[idx:idx+BATCH_SIZE],\n",
        "                                dec_train[idx:idx+BATCH_SIZE],\n",
        "                                encoder,\n",
        "                                decoder,\n",
        "                                optimizer,\n",
        "                                dec_tokenizer)\n",
        "    \n",
        "        total_loss += batch_loss\n",
        "        \n",
        "        t.set_description_str('Epoch %2d' % (epoch + 1))    # tqdm\n",
        "        t.set_postfix_str('Loss %.4f' % (total_loss.numpy() / (batch + 1)))    # tqdm"
      ],
      "metadata": {
        "id": "XKxNCTnZZR-h",
        "colab": {
          "base_uri": "https://localhost:8080/"
        },
        "outputId": "0fb45fae-bc3e-4d31-e94b-1e64d0120409"
      },
      "execution_count": 21,
      "outputs": [
        {
          "output_type": "stream",
          "name": "stderr",
          "text": [
            "Epoch  1: 100%|██████████| 198/198 [01:33<00:00,  2.12it/s, Loss 4.0239]\n",
            "Epoch  2: 100%|██████████| 198/198 [00:15<00:00, 12.86it/s, Loss 3.8181]\n",
            "Epoch  3: 100%|██████████| 198/198 [00:15<00:00, 12.85it/s, Loss 3.8165]\n",
            "Epoch  4: 100%|██████████| 198/198 [00:15<00:00, 12.91it/s, Loss 3.8170]\n",
            "Epoch  5: 100%|██████████| 198/198 [00:15<00:00, 12.75it/s, Loss 3.8166]\n",
            "Epoch  6: 100%|██████████| 198/198 [00:15<00:00, 12.87it/s, Loss 3.8171]\n",
            "Epoch  7: 100%|██████████| 198/198 [00:15<00:00, 12.86it/s, Loss 3.8171]\n",
            "Epoch  8: 100%|██████████| 198/198 [00:15<00:00, 12.86it/s, Loss 3.8169]\n",
            "Epoch  9: 100%|██████████| 198/198 [00:15<00:00, 12.85it/s, Loss 3.8169]\n",
            "Epoch 10: 100%|██████████| 198/198 [00:15<00:00, 12.85it/s, Loss 3.8163]\n",
            "Epoch 11: 100%|██████████| 198/198 [00:15<00:00, 12.86it/s, Loss 3.8116]\n",
            "Epoch 12: 100%|██████████| 198/198 [00:15<00:00, 12.84it/s, Loss 3.6310]\n",
            "Epoch 13: 100%|██████████| 198/198 [00:15<00:00, 12.77it/s, Loss 3.4940]\n",
            "Epoch 14: 100%|██████████| 198/198 [00:15<00:00, 12.71it/s, Loss 3.3830]\n",
            "Epoch 15: 100%|██████████| 198/198 [00:15<00:00, 12.78it/s, Loss 3.2762]\n",
            "Epoch 16: 100%|██████████| 198/198 [00:15<00:00, 12.83it/s, Loss 3.1843]\n",
            "Epoch 17: 100%|██████████| 198/198 [00:15<00:00, 12.86it/s, Loss 3.0995]\n",
            "Epoch 18: 100%|██████████| 198/198 [00:15<00:00, 12.82it/s, Loss 3.0186]\n",
            "Epoch 19: 100%|██████████| 198/198 [00:15<00:00, 12.84it/s, Loss 2.9415]\n",
            "Epoch 20: 100%|██████████| 198/198 [00:15<00:00, 12.84it/s, Loss 2.8700]\n",
            "Epoch 21: 100%|██████████| 198/198 [00:15<00:00, 12.79it/s, Loss 2.8005]\n",
            "Epoch 22: 100%|██████████| 198/198 [00:15<00:00, 12.85it/s, Loss 2.7329]\n",
            "Epoch 23: 100%|██████████| 198/198 [00:15<00:00, 12.84it/s, Loss 2.6712]\n",
            "Epoch 24: 100%|██████████| 198/198 [00:15<00:00, 12.84it/s, Loss 2.6103]\n",
            "Epoch 25: 100%|██████████| 198/198 [00:15<00:00, 12.84it/s, Loss 2.5534]\n",
            "Epoch 26: 100%|██████████| 198/198 [00:15<00:00, 12.77it/s, Loss 2.4972]\n",
            "Epoch 27: 100%|██████████| 198/198 [00:15<00:00, 12.78it/s, Loss 2.4423]\n",
            "Epoch 28: 100%|██████████| 198/198 [00:15<00:00, 12.82it/s, Loss 2.3893]\n",
            "Epoch 29: 100%|██████████| 198/198 [00:15<00:00, 12.82it/s, Loss 2.3388]\n",
            "Epoch 30: 100%|██████████| 198/198 [00:15<00:00, 12.86it/s, Loss 2.2887]\n",
            "Epoch 31: 100%|██████████| 198/198 [00:15<00:00, 12.79it/s, Loss 2.2407]\n",
            "Epoch 32: 100%|██████████| 198/198 [00:15<00:00, 12.84it/s, Loss 2.1946]\n",
            "Epoch 33: 100%|██████████| 198/198 [00:15<00:00, 12.77it/s, Loss 2.1504]\n",
            "Epoch 34: 100%|██████████| 198/198 [00:15<00:00, 12.73it/s, Loss 2.1060]\n",
            "Epoch 35: 100%|██████████| 198/198 [00:15<00:00, 12.82it/s, Loss 2.0620]\n",
            "Epoch 36: 100%|██████████| 198/198 [00:15<00:00, 12.78it/s, Loss 2.0216]\n",
            "Epoch 37: 100%|██████████| 198/198 [00:15<00:00, 12.81it/s, Loss 1.9808]\n",
            "Epoch 38: 100%|██████████| 198/198 [00:15<00:00, 12.82it/s, Loss 1.9406]\n",
            "Epoch 39: 100%|██████████| 198/198 [00:15<00:00, 12.83it/s, Loss 1.9025]\n",
            "Epoch 40: 100%|██████████| 198/198 [00:15<00:00, 12.86it/s, Loss 1.8649]\n",
            "Epoch 41: 100%|██████████| 198/198 [00:15<00:00, 12.83it/s, Loss 1.8302]\n",
            "Epoch 42: 100%|██████████| 198/198 [00:15<00:00, 12.85it/s, Loss 1.7960]\n",
            "Epoch 43: 100%|██████████| 198/198 [00:15<00:00, 12.81it/s, Loss 1.7620]\n",
            "Epoch 44: 100%|██████████| 198/198 [00:15<00:00, 12.81it/s, Loss 1.7278]\n",
            "Epoch 45: 100%|██████████| 198/198 [00:15<00:00, 12.83it/s, Loss 1.6973]\n",
            "Epoch 46: 100%|██████████| 198/198 [00:15<00:00, 12.82it/s, Loss 1.6673]\n",
            "Epoch 47: 100%|██████████| 198/198 [00:15<00:00, 12.79it/s, Loss 1.6400]\n",
            "Epoch 48: 100%|██████████| 198/198 [00:15<00:00, 12.83it/s, Loss 1.6118]\n",
            "Epoch 49: 100%|██████████| 198/198 [00:15<00:00, 12.79it/s, Loss 1.5844]\n",
            "Epoch 50: 100%|██████████| 198/198 [00:15<00:00, 12.83it/s, Loss 1.5576]\n"
          ]
        }
      ]
    },
    {
      "cell_type": "code",
      "source": [
        "def preprocess_sentence2(sentence):\n",
        "    sentence = sentence.lower().strip()\n",
        "    sentence = re.sub(r\"([?.!,])\", r\" \\1 \", sentence)\n",
        "    sentence = re.sub(r'[\" \"]+', \" \", sentence)\n",
        "    sentence = re.sub(r\"[^가-힣ㄱ-ㅎㅏ-ㅣa-zA-Z?.!,]+\", \" \", sentence)\n",
        "    sentence = sentence.strip()\n",
        "\n",
        "    return sentence\n",
        "\n",
        "def evaluate(sentence, encoder, decoder):\n",
        "    attention = np.zeros((dec_train.shape[-1], enc_train.shape[-1]))\n",
        "    \n",
        "    sentence = preprocess_sentence2(sentence)\n",
        "    inputs = enc_tokenizer.texts_to_sequences([sentence.split()])\n",
        "    inputs = tf.keras.preprocessing.sequence.pad_sequences(inputs,\n",
        "                                                           maxlen=enc_train.shape[-1],\n",
        "                                                           padding='post')\n",
        "\n",
        "    result = ''\n",
        "\n",
        "    enc_out = encoder(inputs)\n",
        "\n",
        "    dec_hidden = enc_out[:, -1]\n",
        "    dec_input = tf.expand_dims([dec_tokenizer.word_index['<start>']], 0)\n",
        "\n",
        "    for t in range(dec_train.shape[-1]):\n",
        "        predictions, dec_hidden, attention_weights = decoder(dec_input,\n",
        "                                                             dec_hidden,\n",
        "                                                             enc_out)\n",
        "\n",
        "        attention_weights = tf.reshape(attention_weights, (-1, ))\n",
        "        attention[t] = attention_weights.numpy()\n",
        "\n",
        "        predicted_id = \\\n",
        "        tf.argmax(tf.math.softmax(predictions, axis=-1)[0]).numpy()\n",
        "\n",
        "        result += dec_tokenizer.index_word[predicted_id] + ' '\n",
        "\n",
        "        if dec_tokenizer.index_word[predicted_id] == '<end>':\n",
        "            return result, sentence, attention\n",
        "\n",
        "        dec_input = tf.expand_dims([predicted_id], 0)\n",
        "\n",
        "    return result, sentence, attention\n",
        "\n",
        "\n",
        "def plot_attention(attention, sentence, predicted_sentence):\n",
        "    fig = plt.figure(figsize=(10,10))\n",
        "    ax = fig.add_subplot(1, 1, 1)\n",
        "    ax.matshow(attention, cmap='viridis')\n",
        "\n",
        "    fontdict = {'fontsize': 14}\n",
        "\n",
        "    ax.set_xticklabels([''] + sentence, fontdict=fontdict, rotation=90)\n",
        "    ax.set_yticklabels([''] + predicted_sentence, fontdict=fontdict)\n",
        "\n",
        "    ax.xaxis.set_major_locator(ticker.MultipleLocator(1))\n",
        "    ax.yaxis.set_major_locator(ticker.MultipleLocator(1))\n",
        "\n",
        "    plt.show()\n",
        "\n",
        "\n",
        "def translate(sentence, encoder, decoder):\n",
        "    result, sentence, attention = evaluate(sentence, encoder, decoder)\n",
        "\n",
        "    print('Input: %s' % (sentence))\n",
        "    print('Predicted translation: {}'.format(result))\n",
        "    \n",
        "    attention = attention[:len(result.split()), :len(sentence.split())]\n",
        "    plot_attention(attention, sentence.split(), result.split(' '))\n",
        "\n",
        "def translate_character(sentence, encoder, decoder):\n",
        "    result, sentence, attention = evaluate(sentence, encoder, decoder)\n",
        "\n",
        "    print('Input: %s' % (sentence))\n",
        "    print('Predicted translation: {}'.format(result))"
      ],
      "metadata": {
        "id": "v0AZOy6cZcQ_"
      },
      "execution_count": 22,
      "outputs": []
    },
    {
      "cell_type": "markdown",
      "source": [
        "## 7. 결과 확인하기"
      ],
      "metadata": {
        "id": "K-BUW4DM-Ckd"
      }
    },
    {
      "cell_type": "code",
      "source": [
        "print(translate_character(\"오바마는 대통령이다.\", encoder, decoder))\n",
        "print('--------------------------------------------')\n",
        "print(translate_character(\"시민들은 도시 속에 산다.\", encoder, decoder))\n",
        "print('--------------------------------------------')\n",
        "print(translate_character(\"커피는 필요 없다.\", encoder, decoder))\n",
        "print('--------------------------------------------')\n",
        "print(translate_character(\"일곱 명의 사망자가 발생했다.\", encoder, decoder))"
      ],
      "metadata": {
        "colab": {
          "base_uri": "https://localhost:8080/"
        },
        "id": "FN1LrDrYSSsP",
        "outputId": "9ecfa5ea-b400-4708-9979-7fe9217b1dc0"
      },
      "execution_count": 23,
      "outputs": [
        {
          "output_type": "stream",
          "name": "stdout",
          "text": [
            "Input: 오바마는 대통령이다 .\n",
            "Predicted translation: they re a lot of the first time . <end> \n",
            "None\n",
            "--------------------------------------------\n",
            "Input: 시민들은 도시 속에 산다 .\n",
            "Predicted translation: the best way as a lot of the best way as a lot of the best way as a lot of the best way as a lot of the best way as a lot of the best way as a \n",
            "None\n",
            "--------------------------------------------\n",
            "Input: 커피는 필요 없다 .\n",
            "Predicted translation: the party s not just a lot that we have always looking by the first time it s not just a lot that we have always looking by the first time it s not just a lot that we have \n",
            "None\n",
            "--------------------------------------------\n",
            "Input: 일곱 명의 사망자가 발생했다 .\n",
            "Predicted translation: according to the first time of violence . <end> \n",
            "None\n"
          ]
        }
      ]
    },
    {
      "cell_type": "code",
      "source": [
        "translate(\"오바마는 대통령이다.\", encoder, decoder)"
      ],
      "metadata": {
        "id": "1KT6KcExumN3",
        "colab": {
          "base_uri": "https://localhost:8080/",
          "height": 685
        },
        "outputId": "cedeeb66-3dd9-486f-b439-0e5752a1beaf"
      },
      "execution_count": 24,
      "outputs": [
        {
          "output_type": "stream",
          "name": "stdout",
          "text": [
            "Input: 오바마는 대통령이다 .\n",
            "Predicted translation: they re a lot of the first time . <end> \n"
          ]
        },
        {
          "output_type": "display_data",
          "data": {
            "text/plain": [
              "<Figure size 720x720 with 1 Axes>"
            ],
            "image/png": "[encoded data removed]"
          },
          "metadata": {
            "needs_background": "light"
          }
        }
      ]
    },
    {
      "cell_type": "code",
      "source": [
        "translate(\"시민들은 도시 속에 산다.\", encoder, decoder)"
      ],
      "metadata": {
        "id": "mzBueWbIzHT5",
        "colab": {
          "base_uri": "https://localhost:8080/",
          "height": 692
        },
        "outputId": "19fff5f4-0b52-4609-da68-327991792205"
      },
      "execution_count": 25,
      "outputs": [
        {
          "output_type": "stream",
          "name": "stdout",
          "text": [
            "Input: 시민들은 도시 속에 산다 .\n",
            "Predicted translation: the best way as a lot of the best way as a lot of the best way as a lot of the best way as a lot of the best way as a lot of the best way as a \n"
          ]
        },
        {
          "output_type": "display_data",
          "data": {
            "text/plain": [
              "<Figure size 720x720 with 1 Axes>"
            ],
            "image/png": "[encoded data removed]"
          },
          "metadata": {
            "needs_background": "light"
          }
        }
      ]
    },
    {
      "cell_type": "code",
      "source": [
        "translate(\"커피는 필요 없다.\", encoder, decoder)"
      ],
      "metadata": {
        "id": "SJF-fzmvzKaM",
        "colab": {
          "base_uri": "https://localhost:8080/",
          "height": 680
        },
        "outputId": "102a4b05-7ff1-49f1-ad47-b6f986223d7f"
      },
      "execution_count": 26,
      "outputs": [
        {
          "output_type": "stream",
          "name": "stdout",
          "text": [
            "Input: 커피는 필요 없다 .\n",
            "Predicted translation: the party s not just a lot that we have always looking by the first time it s not just a lot that we have always looking by the first time it s not just a lot that we have \n"
          ]
        },
        {
          "output_type": "display_data",
          "data": {
            "text/plain": [
              "<Figure size 720x720 with 1 Axes>"
            ],
            "image/png": "[encoded data removed]"
          },
          "metadata": {
            "needs_background": "light"
          }
        }
      ]
    },
    {
      "cell_type": "code",
      "source": [
        "translate(\"일곱 명의 사망자가 발생했다.\", encoder, decoder)"
      ],
      "metadata": {
        "id": "TzJ7uNWpzMi6",
        "colab": {
          "base_uri": "https://localhost:8080/",
          "height": 672
        },
        "outputId": "1276522d-8401-4e4b-e576-d57e08e594ff"
      },
      "execution_count": 27,
      "outputs": [
        {
          "output_type": "stream",
          "name": "stdout",
          "text": [
            "Input: 일곱 명의 사망자가 발생했다 .\n",
            "Predicted translation: according to the first time of violence . <end> \n"
          ]
        },
        {
          "output_type": "display_data",
          "data": {
            "text/plain": [
              "<Figure size 720x720 with 1 Axes>"
            ],
            "image/png": "[encoded data removed]"
          },
          "metadata": {
            "needs_background": "light"
          }
        }
      ]
    },
    {
      "cell_type": "markdown",
      "source": [
        "## 8. 회고\n",
        "- 어려웠던 점\n",
        "  - 번역 결과가 계속해서 좋지 않았다. epoch도 조정해보고, 여러가지의 파라미터도 조정해보았지만 여전히 성능은 좋지 않다.\n",
        "  - LMS와 데이터가 달라서 데이터를 정제하는 데 애를 먹었다. 나는 list(set(zip()))를 사용하였다. 파이썬 기본 문법에 대한 이해도를 높일 필요가 있다.\n",
        "- 루브릭 기준을 맞추기 위하여 시도한 것\n",
        "  - Attentional Seq2Seq가 정상적으로 동작하고 있다. training loss가 점점 줄어들어 최종 결과에서는 0.9까지 떨어졌다.\n",
        "  - 구두점, 대소문자, 띄어쓰기, Mecab를 활용한 전처리를 정상적으로 진행하였다.\n",
        "  - 마지막 루브릭 기준인 의미가 통하는 수준의 번역문은 생성되지 못하였다. 부분 부분적으로 단어의 뜻은 일치하지만 문맥으로 보았을 때는 제대로 번역이 되지 못한 것 같다.\n",
        "- 시도해본 것\n",
        "  - 다양한 파라미터를 조정하였으나 좀 처럼 성능이 오르지 않아 애를 먹었다.\n",
        "- 공부하게 된 것\n",
        "  - 왜 트랜스포머가 나오게 된지 알 것 같다. 추후 트랜스포머와 이를 기반으로한 BERT학습에 혼신을 다해야 겠다."
      ],
      "metadata": {
        "id": "9DwR7jeh-AcU"
      }
    },
    {
      "cell_type": "markdown",
      "source": [
        "## 9. 루브릭 기준\n",
        "|평가항목|상세기준\n",
        "|-------------------|--------------|\n",
        "|1. 번역기 모델 학습에 필요한 텍스트 데이터 전처리가 한국어 포함하여 잘 이루어졌다.|구두점, 대소문자, 띄어쓰기, 한글 형태소분석 등 번역기 모델에 요구되는 전처리가 정상적으로 진행되었다.|\n",
        "|2. Attentional Seq2seq 모델이 정상적으로 구동된다.| seq2seq 모델 훈련 과정에서 training loss가 안정적으로 떨어지면서 학습이 진행됨이 확인되었다.|\n",
        "|3. 테스트 결과 의미가 통하는 수준의 번역문이 생성되었다.|테스트용 디코더 모델이 정상적으로 만들어져서, 정답과 어느 정도 유사한 영어 번역이 진행됨을 확인하였다.|"
      ],
      "metadata": {
        "id": "yrEI63RW-Ip4"
      }
    }
  ]
}