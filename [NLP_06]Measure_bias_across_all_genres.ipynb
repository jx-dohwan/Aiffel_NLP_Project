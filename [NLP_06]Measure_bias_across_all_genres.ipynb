{
  "nbformat": 4,
  "nbformat_minor": 0,
  "metadata": {
    "colab": {
      "provenance": [],
      "machine_shape": "hm",
      "authorship_tag": "ABX9TyNXdkjxbDnv9yp9cgnwqolm",
      "include_colab_link": true
    },
    "kernelspec": {
      "name": "python3",
      "display_name": "Python 3"
    },
    "language_info": {
      "name": "python"
    },
    "accelerator": "GPU",
    "gpuClass": "premium"
  },
  "cells": [
    {
      "cell_type": "markdown",
      "metadata": {
        "id": "view-in-github",
        "colab_type": "text"
      },
      "source": [
        "<a href=\"https://colab.research.google.com/github/jx-dohwan/Aiffel_NLP_Project/blob/main/%5BNLP_06%5DMeasure_bias_across_all_genres.ipynb\" target=\"_parent\"><img src=\"https://colab.research.google.com/assets/colab-badge.svg\" alt=\"Open In Colab\"/></a>"
      ]
    },
    {
      "cell_type": "markdown",
      "source": [
        "# [NLP_06]Measure bias across all genres\n",
        "모든 장르에 대해 영화 구분과의 편향성 정도를 측정해 보겠습니다."
      ],
      "metadata": {
        "id": "w6k3QwClc8y_"
      }
    },
    {
      "cell_type": "code",
      "source": [
        "from google.colab import drive\n",
        "drive.mount('/content/drive')"
      ],
      "metadata": {
        "colab": {
          "base_uri": "https://localhost:8080/"
        },
        "id": "P0VMME9wZVPU",
        "outputId": "afa19af0-edd6-4b8e-8dfe-70cf2b3928e3"
      },
      "execution_count": 1,
      "outputs": [
        {
          "output_type": "stream",
          "name": "stdout",
          "text": [
            "Mounted at /content/drive\n"
          ]
        }
      ]
    },
    {
      "cell_type": "markdown",
      "source": [
        "## 1. import "
      ],
      "metadata": {
        "id": "Nz7UFJl9YsNF"
      }
    },
    {
      "cell_type": "code",
      "source": [
        "import numpy as np\n",
        "from numpy import dot \n",
        "from numpy.linalg import norm\n",
        "from sklearn.decomposition import PCA\n",
        "import matplotlib.pyplot as plt\n",
        "import os \n",
        "from gensim.models import KeyedVectors\n",
        "from konlpy.tag import Okt\n",
        "from gensim.models import Word2Vec\n",
        "import seaborn as sns; \n",
        "from sklearn.feature_extraction.text import TfidfVectorizer\n"
      ],
      "metadata": {
        "id": "qP7tfQcbZXY8"
      },
      "execution_count": null,
      "outputs": []
    },
    {
      "cell_type": "markdown",
      "source": [
        "## 2. 형태소 분석기를 이용하여 품사가 명사인 경우 해당 단어르 추출하기"
      ],
      "metadata": {
        "id": "NyaYouqJYvgL"
      }
    },
    {
      "cell_type": "markdown",
      "source": [
        "## 3. 추출된 결과로 embedding model 만들기"
      ],
      "metadata": {
        "id": "QaXk2kSIY2rN"
      }
    },
    {
      "cell_type": "markdown",
      "source": [
        "## 4. target, attribute 단어 셋 만들기\n",
        "이전 스텝에서는 TF-IDF를 사용해서 단어 셋을 만들었습니다. 이 방법으로도 어느 정도는 대표 단어를 잘 선정할 수 있습니다. 그러나 TF-IDF가 높은 단어를 골랐음에도 불구하고 중복되는 단어가 발생하는 문제가 있었습니다. 개념축을 표현하는 단어가 제대로 선정되지 않은 것은 WEAT 계산 결과에 악영향을 미칩니다.\n",
        "\n",
        "TF-IDF를 적용했을 때의 문제점이 무엇인지 지적 가능하다면 그 문제점을 지적하고 스스로 방법을 개선하여 대표 단어 셋을 구축해 보기 바랍니다. TF-IDF 방식을 쓰더라도 중복된 단어를 잘 제거하면 여전히 유용한 방식이 될 수 있습니다."
      ],
      "metadata": {
        "id": "bYoIT5V3Y54e"
      }
    },
    {
      "cell_type": "markdown",
      "source": [
        "## 5. WEAT score 계산과 시각화\n",
        "\n",
        "영화 구분, 영화 장르에 따른 편향성을 측정하여 WEAT score로 계산해 보고 이를 Heatmap 형태로 시각화해 봅시다. 편향성이 두드러지는 영화장르 attribute 구성에는 어떤 케이스가 있는지 시각적으로 두드러지게 구성되면 좋습니다."
      ],
      "metadata": {
        "id": "2oCpoERpZIUb"
      }
    },
    {
      "cell_type": "code",
      "execution_count": null,
      "metadata": {
        "id": "fPiDjtQ2c3F1"
      },
      "outputs": [],
      "source": []
    }
  ]
}