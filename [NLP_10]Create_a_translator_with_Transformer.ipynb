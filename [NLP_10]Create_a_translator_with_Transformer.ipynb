{
  "nbformat": 4,
  "nbformat_minor": 0,
  "metadata": {
    "colab": {
      "provenance": [],
      "machine_shape": "hm",
      "collapsed_sections": [],
      "mount_file_id": "1O6TxYALkg2ebyz3qAqRcuXa-vlgmpmM6",
      "authorship_tag": "ABX9TyM/G1byd0tvn9h9+MCTsWPM",
      "include_colab_link": true
    },
    "kernelspec": {
      "name": "python3",
      "display_name": "Python 3"
    },
    "language_info": {
      "name": "python"
    },
    "accelerator": "GPU",
    "gpuClass": "premium",
    "widgets": {
      "application/vnd.jupyter.widget-state+json": {
        "5185082a551c4f168b57d12801195845": {
          "model_module": "@jupyter-widgets/controls",
          "model_name": "HBoxModel",
          "model_module_version": "1.5.0",
          "state": {
            "_dom_classes": [],
            "_model_module": "@jupyter-widgets/controls",
            "_model_module_version": "1.5.0",
            "_model_name": "HBoxModel",
            "_view_count": null,
            "_view_module": "@jupyter-widgets/controls",
            "_view_module_version": "1.5.0",
            "_view_name": "HBoxView",
            "box_style": "",
            "children": [
              "IPY_MODEL_4bfa95acc3e14ce8b81a1f36efe75d37",
              "IPY_MODEL_0b793de1ac6640cf89ea7a4fc716cc47",
              "IPY_MODEL_16b6ed23d78b4cb59b68acf6e0e25883"
            ],
            "layout": "IPY_MODEL_0640fd78443a4846ba1ef4585e4a4b2e"
          }
        },
        "4bfa95acc3e14ce8b81a1f36efe75d37": {
          "model_module": "@jupyter-widgets/controls",
          "model_name": "HTMLModel",
          "model_module_version": "1.5.0",
          "state": {
            "_dom_classes": [],
            "_model_module": "@jupyter-widgets/controls",
            "_model_module_version": "1.5.0",
            "_model_name": "HTMLModel",
            "_view_count": null,
            "_view_module": "@jupyter-widgets/controls",
            "_view_module_version": "1.5.0",
            "_view_name": "HTMLView",
            "description": "",
            "description_tooltip": null,
            "layout": "IPY_MODEL_68f3ddf636e449a191b6588c7ade2fff",
            "placeholder": "​",
            "style": "IPY_MODEL_c7e64337cec64be5b537eaf53da2c131",
            "value": "100%"
          }
        },
        "0b793de1ac6640cf89ea7a4fc716cc47": {
          "model_module": "@jupyter-widgets/controls",
          "model_name": "FloatProgressModel",
          "model_module_version": "1.5.0",
          "state": {
            "_dom_classes": [],
            "_model_module": "@jupyter-widgets/controls",
            "_model_module_version": "1.5.0",
            "_model_name": "FloatProgressModel",
            "_view_count": null,
            "_view_module": "@jupyter-widgets/controls",
            "_view_module_version": "1.5.0",
            "_view_name": "ProgressView",
            "bar_style": "success",
            "description": "",
            "description_tooltip": null,
            "layout": "IPY_MODEL_bd7d3e1be5484beaa7767a5dcfb71c08",
            "max": 78968,
            "min": 0,
            "orientation": "horizontal",
            "style": "IPY_MODEL_3a6c4698cda443498e470b7d7a50ecb2",
            "value": 78968
          }
        },
        "16b6ed23d78b4cb59b68acf6e0e25883": {
          "model_module": "@jupyter-widgets/controls",
          "model_name": "HTMLModel",
          "model_module_version": "1.5.0",
          "state": {
            "_dom_classes": [],
            "_model_module": "@jupyter-widgets/controls",
            "_model_module_version": "1.5.0",
            "_model_name": "HTMLModel",
            "_view_count": null,
            "_view_module": "@jupyter-widgets/controls",
            "_view_module_version": "1.5.0",
            "_view_name": "HTMLView",
            "description": "",
            "description_tooltip": null,
            "layout": "IPY_MODEL_8616cbd2f19845b5b876287ccd8463d8",
            "placeholder": "​",
            "style": "IPY_MODEL_2e0860961b9846cf87080efa7e0a1fbe",
            "value": " 78968/78968 [00:04&lt;00:00, 20673.39it/s]"
          }
        },
        "0640fd78443a4846ba1ef4585e4a4b2e": {
          "model_module": "@jupyter-widgets/base",
          "model_name": "LayoutModel",
          "model_module_version": "1.2.0",
          "state": {
            "_model_module": "@jupyter-widgets/base",
            "_model_module_version": "1.2.0",
            "_model_name": "LayoutModel",
            "_view_count": null,
            "_view_module": "@jupyter-widgets/base",
            "_view_module_version": "1.2.0",
            "_view_name": "LayoutView",
            "align_content": null,
            "align_items": null,
            "align_self": null,
            "border": null,
            "bottom": null,
            "display": null,
            "flex": null,
            "flex_flow": null,
            "grid_area": null,
            "grid_auto_columns": null,
            "grid_auto_flow": null,
            "grid_auto_rows": null,
            "grid_column": null,
            "grid_gap": null,
            "grid_row": null,
            "grid_template_areas": null,
            "grid_template_columns": null,
            "grid_template_rows": null,
            "height": null,
            "justify_content": null,
            "justify_items": null,
            "left": null,
            "margin": null,
            "max_height": null,
            "max_width": null,
            "min_height": null,
            "min_width": null,
            "object_fit": null,
            "object_position": null,
            "order": null,
            "overflow": null,
            "overflow_x": null,
            "overflow_y": null,
            "padding": null,
            "right": null,
            "top": null,
            "visibility": null,
            "width": null
          }
        },
        "68f3ddf636e449a191b6588c7ade2fff": {
          "model_module": "@jupyter-widgets/base",
          "model_name": "LayoutModel",
          "model_module_version": "1.2.0",
          "state": {
            "_model_module": "@jupyter-widgets/base",
            "_model_module_version": "1.2.0",
            "_model_name": "LayoutModel",
            "_view_count": null,
            "_view_module": "@jupyter-widgets/base",
            "_view_module_version": "1.2.0",
            "_view_name": "LayoutView",
            "align_content": null,
            "align_items": null,
            "align_self": null,
            "border": null,
            "bottom": null,
            "display": null,
            "flex": null,
            "flex_flow": null,
            "grid_area": null,
            "grid_auto_columns": null,
            "grid_auto_flow": null,
            "grid_auto_rows": null,
            "grid_column": null,
            "grid_gap": null,
            "grid_row": null,
            "grid_template_areas": null,
            "grid_template_columns": null,
            "grid_template_rows": null,
            "height": null,
            "justify_content": null,
            "justify_items": null,
            "left": null,
            "margin": null,
            "max_height": null,
            "max_width": null,
            "min_height": null,
            "min_width": null,
            "object_fit": null,
            "object_position": null,
            "order": null,
            "overflow": null,
            "overflow_x": null,
            "overflow_y": null,
            "padding": null,
            "right": null,
            "top": null,
            "visibility": null,
            "width": null
          }
        },
        "c7e64337cec64be5b537eaf53da2c131": {
          "model_module": "@jupyter-widgets/controls",
          "model_name": "DescriptionStyleModel",
          "model_module_version": "1.5.0",
          "state": {
            "_model_module": "@jupyter-widgets/controls",
            "_model_module_version": "1.5.0",
            "_model_name": "DescriptionStyleModel",
            "_view_count": null,
            "_view_module": "@jupyter-widgets/base",
            "_view_module_version": "1.2.0",
            "_view_name": "StyleView",
            "description_width": ""
          }
        },
        "bd7d3e1be5484beaa7767a5dcfb71c08": {
          "model_module": "@jupyter-widgets/base",
          "model_name": "LayoutModel",
          "model_module_version": "1.2.0",
          "state": {
            "_model_module": "@jupyter-widgets/base",
            "_model_module_version": "1.2.0",
            "_model_name": "LayoutModel",
            "_view_count": null,
            "_view_module": "@jupyter-widgets/base",
            "_view_module_version": "1.2.0",
            "_view_name": "LayoutView",
            "align_content": null,
            "align_items": null,
            "align_self": null,
            "border": null,
            "bottom": null,
            "display": null,
            "flex": null,
            "flex_flow": null,
            "grid_area": null,
            "grid_auto_columns": null,
            "grid_auto_flow": null,
            "grid_auto_rows": null,
            "grid_column": null,
            "grid_gap": null,
            "grid_row": null,
            "grid_template_areas": null,
            "grid_template_columns": null,
            "grid_template_rows": null,
            "height": null,
            "justify_content": null,
            "justify_items": null,
            "left": null,
            "margin": null,
            "max_height": null,
            "max_width": null,
            "min_height": null,
            "min_width": null,
            "object_fit": null,
            "object_position": null,
            "order": null,
            "overflow": null,
            "overflow_x": null,
            "overflow_y": null,
            "padding": null,
            "right": null,
            "top": null,
            "visibility": null,
            "width": null
          }
        },
        "3a6c4698cda443498e470b7d7a50ecb2": {
          "model_module": "@jupyter-widgets/controls",
          "model_name": "ProgressStyleModel",
          "model_module_version": "1.5.0",
          "state": {
            "_model_module": "@jupyter-widgets/controls",
            "_model_module_version": "1.5.0",
            "_model_name": "ProgressStyleModel",
            "_view_count": null,
            "_view_module": "@jupyter-widgets/base",
            "_view_module_version": "1.2.0",
            "_view_name": "StyleView",
            "bar_color": null,
            "description_width": ""
          }
        },
        "8616cbd2f19845b5b876287ccd8463d8": {
          "model_module": "@jupyter-widgets/base",
          "model_name": "LayoutModel",
          "model_module_version": "1.2.0",
          "state": {
            "_model_module": "@jupyter-widgets/base",
            "_model_module_version": "1.2.0",
            "_model_name": "LayoutModel",
            "_view_count": null,
            "_view_module": "@jupyter-widgets/base",
            "_view_module_version": "1.2.0",
            "_view_name": "LayoutView",
            "align_content": null,
            "align_items": null,
            "align_self": null,
            "border": null,
            "bottom": null,
            "display": null,
            "flex": null,
            "flex_flow": null,
            "grid_area": null,
            "grid_auto_columns": null,
            "grid_auto_flow": null,
            "grid_auto_rows": null,
            "grid_column": null,
            "grid_gap": null,
            "grid_row": null,
            "grid_template_areas": null,
            "grid_template_columns": null,
            "grid_template_rows": null,
            "height": null,
            "justify_content": null,
            "justify_items": null,
            "left": null,
            "margin": null,
            "max_height": null,
            "max_width": null,
            "min_height": null,
            "min_width": null,
            "object_fit": null,
            "object_position": null,
            "order": null,
            "overflow": null,
            "overflow_x": null,
            "overflow_y": null,
            "padding": null,
            "right": null,
            "top": null,
            "visibility": null,
            "width": null
          }
        },
        "2e0860961b9846cf87080efa7e0a1fbe": {
          "model_module": "@jupyter-widgets/controls",
          "model_name": "DescriptionStyleModel",
          "model_module_version": "1.5.0",
          "state": {
            "_model_module": "@jupyter-widgets/controls",
            "_model_module_version": "1.5.0",
            "_model_name": "DescriptionStyleModel",
            "_view_count": null,
            "_view_module": "@jupyter-widgets/base",
            "_view_module_version": "1.2.0",
            "_view_name": "StyleView",
            "description_width": ""
          }
        },
        "ea5cf2cee07a4bc0a8b326a9ec0a8e3e": {
          "model_module": "@jupyter-widgets/controls",
          "model_name": "HBoxModel",
          "model_module_version": "1.5.0",
          "state": {
            "_dom_classes": [],
            "_model_module": "@jupyter-widgets/controls",
            "_model_module_version": "1.5.0",
            "_model_name": "HBoxModel",
            "_view_count": null,
            "_view_module": "@jupyter-widgets/controls",
            "_view_module_version": "1.5.0",
            "_view_name": "HBoxView",
            "box_style": "",
            "children": [
              "IPY_MODEL_2597a86b8e8949e3b811305f404f515c",
              "IPY_MODEL_cdb18b60062041d09ab0c12b0022b5ff",
              "IPY_MODEL_dcc9b0b29a624eb5aed9dcc6ac060193"
            ],
            "layout": "IPY_MODEL_12057eb4ad6a49268c30516e31b1b37e"
          }
        },
        "2597a86b8e8949e3b811305f404f515c": {
          "model_module": "@jupyter-widgets/controls",
          "model_name": "HTMLModel",
          "model_module_version": "1.5.0",
          "state": {
            "_dom_classes": [],
            "_model_module": "@jupyter-widgets/controls",
            "_model_module_version": "1.5.0",
            "_model_name": "HTMLModel",
            "_view_count": null,
            "_view_module": "@jupyter-widgets/controls",
            "_view_module_version": "1.5.0",
            "_view_name": "HTMLView",
            "description": "",
            "description_tooltip": null,
            "layout": "IPY_MODEL_8c465efd47084d8b9c5354ef1f24fe83",
            "placeholder": "​",
            "style": "IPY_MODEL_359d1dde89034ea4b6503423497cf959",
            "value": "Epoch  1: 100%"
          }
        },
        "cdb18b60062041d09ab0c12b0022b5ff": {
          "model_module": "@jupyter-widgets/controls",
          "model_name": "FloatProgressModel",
          "model_module_version": "1.5.0",
          "state": {
            "_dom_classes": [],
            "_model_module": "@jupyter-widgets/controls",
            "_model_module_version": "1.5.0",
            "_model_name": "FloatProgressModel",
            "_view_count": null,
            "_view_module": "@jupyter-widgets/controls",
            "_view_module_version": "1.5.0",
            "_view_name": "ProgressView",
            "bar_style": "success",
            "description": "",
            "description_tooltip": null,
            "layout": "IPY_MODEL_0d388a6184bf4306bcd8b6ee4801c733",
            "max": 902,
            "min": 0,
            "orientation": "horizontal",
            "style": "IPY_MODEL_0f959e2118904aa0a5e421461f47c32f",
            "value": 902
          }
        },
        "dcc9b0b29a624eb5aed9dcc6ac060193": {
          "model_module": "@jupyter-widgets/controls",
          "model_name": "HTMLModel",
          "model_module_version": "1.5.0",
          "state": {
            "_dom_classes": [],
            "_model_module": "@jupyter-widgets/controls",
            "_model_module_version": "1.5.0",
            "_model_name": "HTMLModel",
            "_view_count": null,
            "_view_module": "@jupyter-widgets/controls",
            "_view_module_version": "1.5.0",
            "_view_name": "HTMLView",
            "description": "",
            "description_tooltip": null,
            "layout": "IPY_MODEL_0f66d850d5ee4d4eb51d21c03c8487f9",
            "placeholder": "​",
            "style": "IPY_MODEL_0e06015af3c2461a8559294d1f48b32a",
            "value": " 902/902 [05:29&lt;00:00,  2.80it/s, Loss 6.2774]"
          }
        },
        "12057eb4ad6a49268c30516e31b1b37e": {
          "model_module": "@jupyter-widgets/base",
          "model_name": "LayoutModel",
          "model_module_version": "1.2.0",
          "state": {
            "_model_module": "@jupyter-widgets/base",
            "_model_module_version": "1.2.0",
            "_model_name": "LayoutModel",
            "_view_count": null,
            "_view_module": "@jupyter-widgets/base",
            "_view_module_version": "1.2.0",
            "_view_name": "LayoutView",
            "align_content": null,
            "align_items": null,
            "align_self": null,
            "border": null,
            "bottom": null,
            "display": null,
            "flex": null,
            "flex_flow": null,
            "grid_area": null,
            "grid_auto_columns": null,
            "grid_auto_flow": null,
            "grid_auto_rows": null,
            "grid_column": null,
            "grid_gap": null,
            "grid_row": null,
            "grid_template_areas": null,
            "grid_template_columns": null,
            "grid_template_rows": null,
            "height": null,
            "justify_content": null,
            "justify_items": null,
            "left": null,
            "margin": null,
            "max_height": null,
            "max_width": null,
            "min_height": null,
            "min_width": null,
            "object_fit": null,
            "object_position": null,
            "order": null,
            "overflow": null,
            "overflow_x": null,
            "overflow_y": null,
            "padding": null,
            "right": null,
            "top": null,
            "visibility": null,
            "width": null
          }
        },
        "8c465efd47084d8b9c5354ef1f24fe83": {
          "model_module": "@jupyter-widgets/base",
          "model_name": "LayoutModel",
          "model_module_version": "1.2.0",
          "state": {
            "_model_module": "@jupyter-widgets/base",
            "_model_module_version": "1.2.0",
            "_model_name": "LayoutModel",
            "_view_count": null,
            "_view_module": "@jupyter-widgets/base",
            "_view_module_version": "1.2.0",
            "_view_name": "LayoutView",
            "align_content": null,
            "align_items": null,
            "align_self": null,
            "border": null,
            "bottom": null,
            "display": null,
            "flex": null,
            "flex_flow": null,
            "grid_area": null,
            "grid_auto_columns": null,
            "grid_auto_flow": null,
            "grid_auto_rows": null,
            "grid_column": null,
            "grid_gap": null,
            "grid_row": null,
            "grid_template_areas": null,
            "grid_template_columns": null,
            "grid_template_rows": null,
            "height": null,
            "justify_content": null,
            "justify_items": null,
            "left": null,
            "margin": null,
            "max_height": null,
            "max_width": null,
            "min_height": null,
            "min_width": null,
            "object_fit": null,
            "object_position": null,
            "order": null,
            "overflow": null,
            "overflow_x": null,
            "overflow_y": null,
            "padding": null,
            "right": null,
            "top": null,
            "visibility": null,
            "width": null
          }
        },
        "359d1dde89034ea4b6503423497cf959": {
          "model_module": "@jupyter-widgets/controls",
          "model_name": "DescriptionStyleModel",
          "model_module_version": "1.5.0",
          "state": {
            "_model_module": "@jupyter-widgets/controls",
            "_model_module_version": "1.5.0",
            "_model_name": "DescriptionStyleModel",
            "_view_count": null,
            "_view_module": "@jupyter-widgets/base",
            "_view_module_version": "1.2.0",
            "_view_name": "StyleView",
            "description_width": ""
          }
        },
        "0d388a6184bf4306bcd8b6ee4801c733": {
          "model_module": "@jupyter-widgets/base",
          "model_name": "LayoutModel",
          "model_module_version": "1.2.0",
          "state": {
            "_model_module": "@jupyter-widgets/base",
            "_model_module_version": "1.2.0",
            "_model_name": "LayoutModel",
            "_view_count": null,
            "_view_module": "@jupyter-widgets/base",
            "_view_module_version": "1.2.0",
            "_view_name": "LayoutView",
            "align_content": null,
            "align_items": null,
            "align_self": null,
            "border": null,
            "bottom": null,
            "display": null,
            "flex": null,
            "flex_flow": null,
            "grid_area": null,
            "grid_auto_columns": null,
            "grid_auto_flow": null,
            "grid_auto_rows": null,
            "grid_column": null,
            "grid_gap": null,
            "grid_row": null,
            "grid_template_areas": null,
            "grid_template_columns": null,
            "grid_template_rows": null,
            "height": null,
            "justify_content": null,
            "justify_items": null,
            "left": null,
            "margin": null,
            "max_height": null,
            "max_width": null,
            "min_height": null,
            "min_width": null,
            "object_fit": null,
            "object_position": null,
            "order": null,
            "overflow": null,
            "overflow_x": null,
            "overflow_y": null,
            "padding": null,
            "right": null,
            "top": null,
            "visibility": null,
            "width": null
          }
        },
        "0f959e2118904aa0a5e421461f47c32f": {
          "model_module": "@jupyter-widgets/controls",
          "model_name": "ProgressStyleModel",
          "model_module_version": "1.5.0",
          "state": {
            "_model_module": "@jupyter-widgets/controls",
            "_model_module_version": "1.5.0",
            "_model_name": "ProgressStyleModel",
            "_view_count": null,
            "_view_module": "@jupyter-widgets/base",
            "_view_module_version": "1.2.0",
            "_view_name": "StyleView",
            "bar_color": null,
            "description_width": ""
          }
        },
        "0f66d850d5ee4d4eb51d21c03c8487f9": {
          "model_module": "@jupyter-widgets/base",
          "model_name": "LayoutModel",
          "model_module_version": "1.2.0",
          "state": {
            "_model_module": "@jupyter-widgets/base",
            "_model_module_version": "1.2.0",
            "_model_name": "LayoutModel",
            "_view_count": null,
            "_view_module": "@jupyter-widgets/base",
            "_view_module_version": "1.2.0",
            "_view_name": "LayoutView",
            "align_content": null,
            "align_items": null,
            "align_self": null,
            "border": null,
            "bottom": null,
            "display": null,
            "flex": null,
            "flex_flow": null,
            "grid_area": null,
            "grid_auto_columns": null,
            "grid_auto_flow": null,
            "grid_auto_rows": null,
            "grid_column": null,
            "grid_gap": null,
            "grid_row": null,
            "grid_template_areas": null,
            "grid_template_columns": null,
            "grid_template_rows": null,
            "height": null,
            "justify_content": null,
            "justify_items": null,
            "left": null,
            "margin": null,
            "max_height": null,
            "max_width": null,
            "min_height": null,
            "min_width": null,
            "object_fit": null,
            "object_position": null,
            "order": null,
            "overflow": null,
            "overflow_x": null,
            "overflow_y": null,
            "padding": null,
            "right": null,
            "top": null,
            "visibility": null,
            "width": null
          }
        },
        "0e06015af3c2461a8559294d1f48b32a": {
          "model_module": "@jupyter-widgets/controls",
          "model_name": "DescriptionStyleModel",
          "model_module_version": "1.5.0",
          "state": {
            "_model_module": "@jupyter-widgets/controls",
            "_model_module_version": "1.5.0",
            "_model_name": "DescriptionStyleModel",
            "_view_count": null,
            "_view_module": "@jupyter-widgets/base",
            "_view_module_version": "1.2.0",
            "_view_name": "StyleView",
            "description_width": ""
          }
        },
        "68a6de500e8448e68dffb25701938a14": {
          "model_module": "@jupyter-widgets/controls",
          "model_name": "HBoxModel",
          "model_module_version": "1.5.0",
          "state": {
            "_dom_classes": [],
            "_model_module": "@jupyter-widgets/controls",
            "_model_module_version": "1.5.0",
            "_model_name": "HBoxModel",
            "_view_count": null,
            "_view_module": "@jupyter-widgets/controls",
            "_view_module_version": "1.5.0",
            "_view_name": "HBoxView",
            "box_style": "",
            "children": [
              "IPY_MODEL_66b936cc0798410284b4c2e2f39e1796",
              "IPY_MODEL_3198c589cd1b413babcecb20df28809d",
              "IPY_MODEL_97577506fdb343caafd50a027cc5cee2"
            ],
            "layout": "IPY_MODEL_4ffe38f966124eef89c818ffce16fe59"
          }
        },
        "66b936cc0798410284b4c2e2f39e1796": {
          "model_module": "@jupyter-widgets/controls",
          "model_name": "HTMLModel",
          "model_module_version": "1.5.0",
          "state": {
            "_dom_classes": [],
            "_model_module": "@jupyter-widgets/controls",
            "_model_module_version": "1.5.0",
            "_model_name": "HTMLModel",
            "_view_count": null,
            "_view_module": "@jupyter-widgets/controls",
            "_view_module_version": "1.5.0",
            "_view_name": "HTMLView",
            "description": "",
            "description_tooltip": null,
            "layout": "IPY_MODEL_5ceac547cd354fa2a845c989e4f889d9",
            "placeholder": "​",
            "style": "IPY_MODEL_833bb3a6ebe742019b16e1ccc61cf17b",
            "value": "Epoch  2: 100%"
          }
        },
        "3198c589cd1b413babcecb20df28809d": {
          "model_module": "@jupyter-widgets/controls",
          "model_name": "FloatProgressModel",
          "model_module_version": "1.5.0",
          "state": {
            "_dom_classes": [],
            "_model_module": "@jupyter-widgets/controls",
            "_model_module_version": "1.5.0",
            "_model_name": "FloatProgressModel",
            "_view_count": null,
            "_view_module": "@jupyter-widgets/controls",
            "_view_module_version": "1.5.0",
            "_view_name": "ProgressView",
            "bar_style": "success",
            "description": "",
            "description_tooltip": null,
            "layout": "IPY_MODEL_83244ba2e6db4837946a8c1f0ffc96d8",
            "max": 902,
            "min": 0,
            "orientation": "horizontal",
            "style": "IPY_MODEL_96586b0cee664cf791a6869a773ad86a",
            "value": 902
          }
        },
        "97577506fdb343caafd50a027cc5cee2": {
          "model_module": "@jupyter-widgets/controls",
          "model_name": "HTMLModel",
          "model_module_version": "1.5.0",
          "state": {
            "_dom_classes": [],
            "_model_module": "@jupyter-widgets/controls",
            "_model_module_version": "1.5.0",
            "_model_name": "HTMLModel",
            "_view_count": null,
            "_view_module": "@jupyter-widgets/controls",
            "_view_module_version": "1.5.0",
            "_view_name": "HTMLView",
            "description": "",
            "description_tooltip": null,
            "layout": "IPY_MODEL_6e67d8905f344c33a8960b62cf142202",
            "placeholder": "​",
            "style": "IPY_MODEL_e49d9bfa6dce48d0853c809ff3696069",
            "value": " 902/902 [05:22&lt;00:00,  2.80it/s, Loss 4.6618]"
          }
        },
        "4ffe38f966124eef89c818ffce16fe59": {
          "model_module": "@jupyter-widgets/base",
          "model_name": "LayoutModel",
          "model_module_version": "1.2.0",
          "state": {
            "_model_module": "@jupyter-widgets/base",
            "_model_module_version": "1.2.0",
            "_model_name": "LayoutModel",
            "_view_count": null,
            "_view_module": "@jupyter-widgets/base",
            "_view_module_version": "1.2.0",
            "_view_name": "LayoutView",
            "align_content": null,
            "align_items": null,
            "align_self": null,
            "border": null,
            "bottom": null,
            "display": null,
            "flex": null,
            "flex_flow": null,
            "grid_area": null,
            "grid_auto_columns": null,
            "grid_auto_flow": null,
            "grid_auto_rows": null,
            "grid_column": null,
            "grid_gap": null,
            "grid_row": null,
            "grid_template_areas": null,
            "grid_template_columns": null,
            "grid_template_rows": null,
            "height": null,
            "justify_content": null,
            "justify_items": null,
            "left": null,
            "margin": null,
            "max_height": null,
            "max_width": null,
            "min_height": null,
            "min_width": null,
            "object_fit": null,
            "object_position": null,
            "order": null,
            "overflow": null,
            "overflow_x": null,
            "overflow_y": null,
            "padding": null,
            "right": null,
            "top": null,
            "visibility": null,
            "width": null
          }
        },
        "5ceac547cd354fa2a845c989e4f889d9": {
          "model_module": "@jupyter-widgets/base",
          "model_name": "LayoutModel",
          "model_module_version": "1.2.0",
          "state": {
            "_model_module": "@jupyter-widgets/base",
            "_model_module_version": "1.2.0",
            "_model_name": "LayoutModel",
            "_view_count": null,
            "_view_module": "@jupyter-widgets/base",
            "_view_module_version": "1.2.0",
            "_view_name": "LayoutView",
            "align_content": null,
            "align_items": null,
            "align_self": null,
            "border": null,
            "bottom": null,
            "display": null,
            "flex": null,
            "flex_flow": null,
            "grid_area": null,
            "grid_auto_columns": null,
            "grid_auto_flow": null,
            "grid_auto_rows": null,
            "grid_column": null,
            "grid_gap": null,
            "grid_row": null,
            "grid_template_areas": null,
            "grid_template_columns": null,
            "grid_template_rows": null,
            "height": null,
            "justify_content": null,
            "justify_items": null,
            "left": null,
            "margin": null,
            "max_height": null,
            "max_width": null,
            "min_height": null,
            "min_width": null,
            "object_fit": null,
            "object_position": null,
            "order": null,
            "overflow": null,
            "overflow_x": null,
            "overflow_y": null,
            "padding": null,
            "right": null,
            "top": null,
            "visibility": null,
            "width": null
          }
        },
        "833bb3a6ebe742019b16e1ccc61cf17b": {
          "model_module": "@jupyter-widgets/controls",
          "model_name": "DescriptionStyleModel",
          "model_module_version": "1.5.0",
          "state": {
            "_model_module": "@jupyter-widgets/controls",
            "_model_module_version": "1.5.0",
            "_model_name": "DescriptionStyleModel",
            "_view_count": null,
            "_view_module": "@jupyter-widgets/base",
            "_view_module_version": "1.2.0",
            "_view_name": "StyleView",
            "description_width": ""
          }
        },
        "83244ba2e6db4837946a8c1f0ffc96d8": {
          "model_module": "@jupyter-widgets/base",
          "model_name": "LayoutModel",
          "model_module_version": "1.2.0",
          "state": {
            "_model_module": "@jupyter-widgets/base",
            "_model_module_version": "1.2.0",
            "_model_name": "LayoutModel",
            "_view_count": null,
            "_view_module": "@jupyter-widgets/base",
            "_view_module_version": "1.2.0",
            "_view_name": "LayoutView",
            "align_content": null,
            "align_items": null,
            "align_self": null,
            "border": null,
            "bottom": null,
            "display": null,
            "flex": null,
            "flex_flow": null,
            "grid_area": null,
            "grid_auto_columns": null,
            "grid_auto_flow": null,
            "grid_auto_rows": null,
            "grid_column": null,
            "grid_gap": null,
            "grid_row": null,
            "grid_template_areas": null,
            "grid_template_columns": null,
            "grid_template_rows": null,
            "height": null,
            "justify_content": null,
            "justify_items": null,
            "left": null,
            "margin": null,
            "max_height": null,
            "max_width": null,
            "min_height": null,
            "min_width": null,
            "object_fit": null,
            "object_position": null,
            "order": null,
            "overflow": null,
            "overflow_x": null,
            "overflow_y": null,
            "padding": null,
            "right": null,
            "top": null,
            "visibility": null,
            "width": null
          }
        },
        "96586b0cee664cf791a6869a773ad86a": {
          "model_module": "@jupyter-widgets/controls",
          "model_name": "ProgressStyleModel",
          "model_module_version": "1.5.0",
          "state": {
            "_model_module": "@jupyter-widgets/controls",
            "_model_module_version": "1.5.0",
            "_model_name": "ProgressStyleModel",
            "_view_count": null,
            "_view_module": "@jupyter-widgets/base",
            "_view_module_version": "1.2.0",
            "_view_name": "StyleView",
            "bar_color": null,
            "description_width": ""
          }
        },
        "6e67d8905f344c33a8960b62cf142202": {
          "model_module": "@jupyter-widgets/base",
          "model_name": "LayoutModel",
          "model_module_version": "1.2.0",
          "state": {
            "_model_module": "@jupyter-widgets/base",
            "_model_module_version": "1.2.0",
            "_model_name": "LayoutModel",
            "_view_count": null,
            "_view_module": "@jupyter-widgets/base",
            "_view_module_version": "1.2.0",
            "_view_name": "LayoutView",
            "align_content": null,
            "align_items": null,
            "align_self": null,
            "border": null,
            "bottom": null,
            "display": null,
            "flex": null,
            "flex_flow": null,
            "grid_area": null,
            "grid_auto_columns": null,
            "grid_auto_flow": null,
            "grid_auto_rows": null,
            "grid_column": null,
            "grid_gap": null,
            "grid_row": null,
            "grid_template_areas": null,
            "grid_template_columns": null,
            "grid_template_rows": null,
            "height": null,
            "justify_content": null,
            "justify_items": null,
            "left": null,
            "margin": null,
            "max_height": null,
            "max_width": null,
            "min_height": null,
            "min_width": null,
            "object_fit": null,
            "object_position": null,
            "order": null,
            "overflow": null,
            "overflow_x": null,
            "overflow_y": null,
            "padding": null,
            "right": null,
            "top": null,
            "visibility": null,
            "width": null
          }
        },
        "e49d9bfa6dce48d0853c809ff3696069": {
          "model_module": "@jupyter-widgets/controls",
          "model_name": "DescriptionStyleModel",
          "model_module_version": "1.5.0",
          "state": {
            "_model_module": "@jupyter-widgets/controls",
            "_model_module_version": "1.5.0",
            "_model_name": "DescriptionStyleModel",
            "_view_count": null,
            "_view_module": "@jupyter-widgets/base",
            "_view_module_version": "1.2.0",
            "_view_name": "StyleView",
            "description_width": ""
          }
        },
        "27a78b8f75684a1abc371e91fbcf39a4": {
          "model_module": "@jupyter-widgets/controls",
          "model_name": "HBoxModel",
          "model_module_version": "1.5.0",
          "state": {
            "_dom_classes": [],
            "_model_module": "@jupyter-widgets/controls",
            "_model_module_version": "1.5.0",
            "_model_name": "HBoxModel",
            "_view_count": null,
            "_view_module": "@jupyter-widgets/controls",
            "_view_module_version": "1.5.0",
            "_view_name": "HBoxView",
            "box_style": "",
            "children": [
              "IPY_MODEL_7fc26fe61d194612aebf5f415c99885f",
              "IPY_MODEL_9f7ed582d6eb48d8a5cc66686b43fe67",
              "IPY_MODEL_77afdd8092d34f8496ab09588bfb1306"
            ],
            "layout": "IPY_MODEL_a1467cbec69c4cf881c4773df759b6fa"
          }
        },
        "7fc26fe61d194612aebf5f415c99885f": {
          "model_module": "@jupyter-widgets/controls",
          "model_name": "HTMLModel",
          "model_module_version": "1.5.0",
          "state": {
            "_dom_classes": [],
            "_model_module": "@jupyter-widgets/controls",
            "_model_module_version": "1.5.0",
            "_model_name": "HTMLModel",
            "_view_count": null,
            "_view_module": "@jupyter-widgets/controls",
            "_view_module_version": "1.5.0",
            "_view_name": "HTMLView",
            "description": "",
            "description_tooltip": null,
            "layout": "IPY_MODEL_bdcaac5009804847b28fc171cde917a2",
            "placeholder": "​",
            "style": "IPY_MODEL_abb5e9941a7845d6b4c9782bc63f6c46",
            "value": "Epoch  3: 100%"
          }
        },
        "9f7ed582d6eb48d8a5cc66686b43fe67": {
          "model_module": "@jupyter-widgets/controls",
          "model_name": "FloatProgressModel",
          "model_module_version": "1.5.0",
          "state": {
            "_dom_classes": [],
            "_model_module": "@jupyter-widgets/controls",
            "_model_module_version": "1.5.0",
            "_model_name": "FloatProgressModel",
            "_view_count": null,
            "_view_module": "@jupyter-widgets/controls",
            "_view_module_version": "1.5.0",
            "_view_name": "ProgressView",
            "bar_style": "success",
            "description": "",
            "description_tooltip": null,
            "layout": "IPY_MODEL_3a37cb68445a40f29d30bcb87aaa88cf",
            "max": 902,
            "min": 0,
            "orientation": "horizontal",
            "style": "IPY_MODEL_ffa9832bcfed481e9221a4f297fc3f38",
            "value": 902
          }
        },
        "77afdd8092d34f8496ab09588bfb1306": {
          "model_module": "@jupyter-widgets/controls",
          "model_name": "HTMLModel",
          "model_module_version": "1.5.0",
          "state": {
            "_dom_classes": [],
            "_model_module": "@jupyter-widgets/controls",
            "_model_module_version": "1.5.0",
            "_model_name": "HTMLModel",
            "_view_count": null,
            "_view_module": "@jupyter-widgets/controls",
            "_view_module_version": "1.5.0",
            "_view_name": "HTMLView",
            "description": "",
            "description_tooltip": null,
            "layout": "IPY_MODEL_d154618600ac4948bf22e331a85edb39",
            "placeholder": "​",
            "style": "IPY_MODEL_e84069246c2147428363dfc7ae2b1bee",
            "value": " 902/902 [05:22&lt;00:00,  2.80it/s, Loss 4.0218]"
          }
        },
        "a1467cbec69c4cf881c4773df759b6fa": {
          "model_module": "@jupyter-widgets/base",
          "model_name": "LayoutModel",
          "model_module_version": "1.2.0",
          "state": {
            "_model_module": "@jupyter-widgets/base",
            "_model_module_version": "1.2.0",
            "_model_name": "LayoutModel",
            "_view_count": null,
            "_view_module": "@jupyter-widgets/base",
            "_view_module_version": "1.2.0",
            "_view_name": "LayoutView",
            "align_content": null,
            "align_items": null,
            "align_self": null,
            "border": null,
            "bottom": null,
            "display": null,
            "flex": null,
            "flex_flow": null,
            "grid_area": null,
            "grid_auto_columns": null,
            "grid_auto_flow": null,
            "grid_auto_rows": null,
            "grid_column": null,
            "grid_gap": null,
            "grid_row": null,
            "grid_template_areas": null,
            "grid_template_columns": null,
            "grid_template_rows": null,
            "height": null,
            "justify_content": null,
            "justify_items": null,
            "left": null,
            "margin": null,
            "max_height": null,
            "max_width": null,
            "min_height": null,
            "min_width": null,
            "object_fit": null,
            "object_position": null,
            "order": null,
            "overflow": null,
            "overflow_x": null,
            "overflow_y": null,
            "padding": null,
            "right": null,
            "top": null,
            "visibility": null,
            "width": null
          }
        },
        "bdcaac5009804847b28fc171cde917a2": {
          "model_module": "@jupyter-widgets/base",
          "model_name": "LayoutModel",
          "model_module_version": "1.2.0",
          "state": {
            "_model_module": "@jupyter-widgets/base",
            "_model_module_version": "1.2.0",
            "_model_name": "LayoutModel",
            "_view_count": null,
            "_view_module": "@jupyter-widgets/base",
            "_view_module_version": "1.2.0",
            "_view_name": "LayoutView",
            "align_content": null,
            "align_items": null,
            "align_self": null,
            "border": null,
            "bottom": null,
            "display": null,
            "flex": null,
            "flex_flow": null,
            "grid_area": null,
            "grid_auto_columns": null,
            "grid_auto_flow": null,
            "grid_auto_rows": null,
            "grid_column": null,
            "grid_gap": null,
            "grid_row": null,
            "grid_template_areas": null,
            "grid_template_columns": null,
            "grid_template_rows": null,
            "height": null,
            "justify_content": null,
            "justify_items": null,
            "left": null,
            "margin": null,
            "max_height": null,
            "max_width": null,
            "min_height": null,
            "min_width": null,
            "object_fit": null,
            "object_position": null,
            "order": null,
            "overflow": null,
            "overflow_x": null,
            "overflow_y": null,
            "padding": null,
            "right": null,
            "top": null,
            "visibility": null,
            "width": null
          }
        },
        "abb5e9941a7845d6b4c9782bc63f6c46": {
          "model_module": "@jupyter-widgets/controls",
          "model_name": "DescriptionStyleModel",
          "model_module_version": "1.5.0",
          "state": {
            "_model_module": "@jupyter-widgets/controls",
            "_model_module_version": "1.5.0",
            "_model_name": "DescriptionStyleModel",
            "_view_count": null,
            "_view_module": "@jupyter-widgets/base",
            "_view_module_version": "1.2.0",
            "_view_name": "StyleView",
            "description_width": ""
          }
        },
        "3a37cb68445a40f29d30bcb87aaa88cf": {
          "model_module": "@jupyter-widgets/base",
          "model_name": "LayoutModel",
          "model_module_version": "1.2.0",
          "state": {
            "_model_module": "@jupyter-widgets/base",
            "_model_module_version": "1.2.0",
            "_model_name": "LayoutModel",
            "_view_count": null,
            "_view_module": "@jupyter-widgets/base",
            "_view_module_version": "1.2.0",
            "_view_name": "LayoutView",
            "align_content": null,
            "align_items": null,
            "align_self": null,
            "border": null,
            "bottom": null,
            "display": null,
            "flex": null,
            "flex_flow": null,
            "grid_area": null,
            "grid_auto_columns": null,
            "grid_auto_flow": null,
            "grid_auto_rows": null,
            "grid_column": null,
            "grid_gap": null,
            "grid_row": null,
            "grid_template_areas": null,
            "grid_template_columns": null,
            "grid_template_rows": null,
            "height": null,
            "justify_content": null,
            "justify_items": null,
            "left": null,
            "margin": null,
            "max_height": null,
            "max_width": null,
            "min_height": null,
            "min_width": null,
            "object_fit": null,
            "object_position": null,
            "order": null,
            "overflow": null,
            "overflow_x": null,
            "overflow_y": null,
            "padding": null,
            "right": null,
            "top": null,
            "visibility": null,
            "width": null
          }
        },
        "ffa9832bcfed481e9221a4f297fc3f38": {
          "model_module": "@jupyter-widgets/controls",
          "model_name": "ProgressStyleModel",
          "model_module_version": "1.5.0",
          "state": {
            "_model_module": "@jupyter-widgets/controls",
            "_model_module_version": "1.5.0",
            "_model_name": "ProgressStyleModel",
            "_view_count": null,
            "_view_module": "@jupyter-widgets/base",
            "_view_module_version": "1.2.0",
            "_view_name": "StyleView",
            "bar_color": null,
            "description_width": ""
          }
        },
        "d154618600ac4948bf22e331a85edb39": {
          "model_module": "@jupyter-widgets/base",
          "model_name": "LayoutModel",
          "model_module_version": "1.2.0",
          "state": {
            "_model_module": "@jupyter-widgets/base",
            "_model_module_version": "1.2.0",
            "_model_name": "LayoutModel",
            "_view_count": null,
            "_view_module": "@jupyter-widgets/base",
            "_view_module_version": "1.2.0",
            "_view_name": "LayoutView",
            "align_content": null,
            "align_items": null,
            "align_self": null,
            "border": null,
            "bottom": null,
            "display": null,
            "flex": null,
            "flex_flow": null,
            "grid_area": null,
            "grid_auto_columns": null,
            "grid_auto_flow": null,
            "grid_auto_rows": null,
            "grid_column": null,
            "grid_gap": null,
            "grid_row": null,
            "grid_template_areas": null,
            "grid_template_columns": null,
            "grid_template_rows": null,
            "height": null,
            "justify_content": null,
            "justify_items": null,
            "left": null,
            "margin": null,
            "max_height": null,
            "max_width": null,
            "min_height": null,
            "min_width": null,
            "object_fit": null,
            "object_position": null,
            "order": null,
            "overflow": null,
            "overflow_x": null,
            "overflow_y": null,
            "padding": null,
            "right": null,
            "top": null,
            "visibility": null,
            "width": null
          }
        },
        "e84069246c2147428363dfc7ae2b1bee": {
          "model_module": "@jupyter-widgets/controls",
          "model_name": "DescriptionStyleModel",
          "model_module_version": "1.5.0",
          "state": {
            "_model_module": "@jupyter-widgets/controls",
            "_model_module_version": "1.5.0",
            "_model_name": "DescriptionStyleModel",
            "_view_count": null,
            "_view_module": "@jupyter-widgets/base",
            "_view_module_version": "1.2.0",
            "_view_name": "StyleView",
            "description_width": ""
          }
        },
        "b03f68827fb5464b90ff370b59c3d41c": {
          "model_module": "@jupyter-widgets/controls",
          "model_name": "HBoxModel",
          "model_module_version": "1.5.0",
          "state": {
            "_dom_classes": [],
            "_model_module": "@jupyter-widgets/controls",
            "_model_module_version": "1.5.0",
            "_model_name": "HBoxModel",
            "_view_count": null,
            "_view_module": "@jupyter-widgets/controls",
            "_view_module_version": "1.5.0",
            "_view_name": "HBoxView",
            "box_style": "",
            "children": [
              "IPY_MODEL_2692b2bed51d497ca706da82093a7835",
              "IPY_MODEL_91164c30f59947e99051634e89d8edfa",
              "IPY_MODEL_8e59d6a20cd748e08086018418732e0e"
            ],
            "layout": "IPY_MODEL_80ef10ef420d49339da3c4e3413e29d6"
          }
        },
        "2692b2bed51d497ca706da82093a7835": {
          "model_module": "@jupyter-widgets/controls",
          "model_name": "HTMLModel",
          "model_module_version": "1.5.0",
          "state": {
            "_dom_classes": [],
            "_model_module": "@jupyter-widgets/controls",
            "_model_module_version": "1.5.0",
            "_model_name": "HTMLModel",
            "_view_count": null,
            "_view_module": "@jupyter-widgets/controls",
            "_view_module_version": "1.5.0",
            "_view_name": "HTMLView",
            "description": "",
            "description_tooltip": null,
            "layout": "IPY_MODEL_6ce5d0ae65cf4a92bc27000743fc0132",
            "placeholder": "​",
            "style": "IPY_MODEL_39cd5c9458604ce08fea0c9a723f74b9",
            "value": "Epoch  4: 100%"
          }
        },
        "91164c30f59947e99051634e89d8edfa": {
          "model_module": "@jupyter-widgets/controls",
          "model_name": "FloatProgressModel",
          "model_module_version": "1.5.0",
          "state": {
            "_dom_classes": [],
            "_model_module": "@jupyter-widgets/controls",
            "_model_module_version": "1.5.0",
            "_model_name": "FloatProgressModel",
            "_view_count": null,
            "_view_module": "@jupyter-widgets/controls",
            "_view_module_version": "1.5.0",
            "_view_name": "ProgressView",
            "bar_style": "success",
            "description": "",
            "description_tooltip": null,
            "layout": "IPY_MODEL_06aa2202f98a4ae4815a9a6b4f7b9ef9",
            "max": 902,
            "min": 0,
            "orientation": "horizontal",
            "style": "IPY_MODEL_c65fe2eb74f443edb3d895d381741fca",
            "value": 902
          }
        },
        "8e59d6a20cd748e08086018418732e0e": {
          "model_module": "@jupyter-widgets/controls",
          "model_name": "HTMLModel",
          "model_module_version": "1.5.0",
          "state": {
            "_dom_classes": [],
            "_model_module": "@jupyter-widgets/controls",
            "_model_module_version": "1.5.0",
            "_model_name": "HTMLModel",
            "_view_count": null,
            "_view_module": "@jupyter-widgets/controls",
            "_view_module_version": "1.5.0",
            "_view_name": "HTMLView",
            "description": "",
            "description_tooltip": null,
            "layout": "IPY_MODEL_3f73d98cf5bf4c0f95d29dd4ae9a5603",
            "placeholder": "​",
            "style": "IPY_MODEL_e58b9fbb1d8548129b048389db7ee7ba",
            "value": " 902/902 [05:22&lt;00:00,  2.80it/s, Loss 3.5511]"
          }
        },
        "80ef10ef420d49339da3c4e3413e29d6": {
          "model_module": "@jupyter-widgets/base",
          "model_name": "LayoutModel",
          "model_module_version": "1.2.0",
          "state": {
            "_model_module": "@jupyter-widgets/base",
            "_model_module_version": "1.2.0",
            "_model_name": "LayoutModel",
            "_view_count": null,
            "_view_module": "@jupyter-widgets/base",
            "_view_module_version": "1.2.0",
            "_view_name": "LayoutView",
            "align_content": null,
            "align_items": null,
            "align_self": null,
            "border": null,
            "bottom": null,
            "display": null,
            "flex": null,
            "flex_flow": null,
            "grid_area": null,
            "grid_auto_columns": null,
            "grid_auto_flow": null,
            "grid_auto_rows": null,
            "grid_column": null,
            "grid_gap": null,
            "grid_row": null,
            "grid_template_areas": null,
            "grid_template_columns": null,
            "grid_template_rows": null,
            "height": null,
            "justify_content": null,
            "justify_items": null,
            "left": null,
            "margin": null,
            "max_height": null,
            "max_width": null,
            "min_height": null,
            "min_width": null,
            "object_fit": null,
            "object_position": null,
            "order": null,
            "overflow": null,
            "overflow_x": null,
            "overflow_y": null,
            "padding": null,
            "right": null,
            "top": null,
            "visibility": null,
            "width": null
          }
        },
        "6ce5d0ae65cf4a92bc27000743fc0132": {
          "model_module": "@jupyter-widgets/base",
          "model_name": "LayoutModel",
          "model_module_version": "1.2.0",
          "state": {
            "_model_module": "@jupyter-widgets/base",
            "_model_module_version": "1.2.0",
            "_model_name": "LayoutModel",
            "_view_count": null,
            "_view_module": "@jupyter-widgets/base",
            "_view_module_version": "1.2.0",
            "_view_name": "LayoutView",
            "align_content": null,
            "align_items": null,
            "align_self": null,
            "border": null,
            "bottom": null,
            "display": null,
            "flex": null,
            "flex_flow": null,
            "grid_area": null,
            "grid_auto_columns": null,
            "grid_auto_flow": null,
            "grid_auto_rows": null,
            "grid_column": null,
            "grid_gap": null,
            "grid_row": null,
            "grid_template_areas": null,
            "grid_template_columns": null,
            "grid_template_rows": null,
            "height": null,
            "justify_content": null,
            "justify_items": null,
            "left": null,
            "margin": null,
            "max_height": null,
            "max_width": null,
            "min_height": null,
            "min_width": null,
            "object_fit": null,
            "object_position": null,
            "order": null,
            "overflow": null,
            "overflow_x": null,
            "overflow_y": null,
            "padding": null,
            "right": null,
            "top": null,
            "visibility": null,
            "width": null
          }
        },
        "39cd5c9458604ce08fea0c9a723f74b9": {
          "model_module": "@jupyter-widgets/controls",
          "model_name": "DescriptionStyleModel",
          "model_module_version": "1.5.0",
          "state": {
            "_model_module": "@jupyter-widgets/controls",
            "_model_module_version": "1.5.0",
            "_model_name": "DescriptionStyleModel",
            "_view_count": null,
            "_view_module": "@jupyter-widgets/base",
            "_view_module_version": "1.2.0",
            "_view_name": "StyleView",
            "description_width": ""
          }
        },
        "06aa2202f98a4ae4815a9a6b4f7b9ef9": {
          "model_module": "@jupyter-widgets/base",
          "model_name": "LayoutModel",
          "model_module_version": "1.2.0",
          "state": {
            "_model_module": "@jupyter-widgets/base",
            "_model_module_version": "1.2.0",
            "_model_name": "LayoutModel",
            "_view_count": null,
            "_view_module": "@jupyter-widgets/base",
            "_view_module_version": "1.2.0",
            "_view_name": "LayoutView",
            "align_content": null,
            "align_items": null,
            "align_self": null,
            "border": null,
            "bottom": null,
            "display": null,
            "flex": null,
            "flex_flow": null,
            "grid_area": null,
            "grid_auto_columns": null,
            "grid_auto_flow": null,
            "grid_auto_rows": null,
            "grid_column": null,
            "grid_gap": null,
            "grid_row": null,
            "grid_template_areas": null,
            "grid_template_columns": null,
            "grid_template_rows": null,
            "height": null,
            "justify_content": null,
            "justify_items": null,
            "left": null,
            "margin": null,
            "max_height": null,
            "max_width": null,
            "min_height": null,
            "min_width": null,
            "object_fit": null,
            "object_position": null,
            "order": null,
            "overflow": null,
            "overflow_x": null,
            "overflow_y": null,
            "padding": null,
            "right": null,
            "top": null,
            "visibility": null,
            "width": null
          }
        },
        "c65fe2eb74f443edb3d895d381741fca": {
          "model_module": "@jupyter-widgets/controls",
          "model_name": "ProgressStyleModel",
          "model_module_version": "1.5.0",
          "state": {
            "_model_module": "@jupyter-widgets/controls",
            "_model_module_version": "1.5.0",
            "_model_name": "ProgressStyleModel",
            "_view_count": null,
            "_view_module": "@jupyter-widgets/base",
            "_view_module_version": "1.2.0",
            "_view_name": "StyleView",
            "bar_color": null,
            "description_width": ""
          }
        },
        "3f73d98cf5bf4c0f95d29dd4ae9a5603": {
          "model_module": "@jupyter-widgets/base",
          "model_name": "LayoutModel",
          "model_module_version": "1.2.0",
          "state": {
            "_model_module": "@jupyter-widgets/base",
            "_model_module_version": "1.2.0",
            "_model_name": "LayoutModel",
            "_view_count": null,
            "_view_module": "@jupyter-widgets/base",
            "_view_module_version": "1.2.0",
            "_view_name": "LayoutView",
            "align_content": null,
            "align_items": null,
            "align_self": null,
            "border": null,
            "bottom": null,
            "display": null,
            "flex": null,
            "flex_flow": null,
            "grid_area": null,
            "grid_auto_columns": null,
            "grid_auto_flow": null,
            "grid_auto_rows": null,
            "grid_column": null,
            "grid_gap": null,
            "grid_row": null,
            "grid_template_areas": null,
            "grid_template_columns": null,
            "grid_template_rows": null,
            "height": null,
            "justify_content": null,
            "justify_items": null,
            "left": null,
            "margin": null,
            "max_height": null,
            "max_width": null,
            "min_height": null,
            "min_width": null,
            "object_fit": null,
            "object_position": null,
            "order": null,
            "overflow": null,
            "overflow_x": null,
            "overflow_y": null,
            "padding": null,
            "right": null,
            "top": null,
            "visibility": null,
            "width": null
          }
        },
        "e58b9fbb1d8548129b048389db7ee7ba": {
          "model_module": "@jupyter-widgets/controls",
          "model_name": "DescriptionStyleModel",
          "model_module_version": "1.5.0",
          "state": {
            "_model_module": "@jupyter-widgets/controls",
            "_model_module_version": "1.5.0",
            "_model_name": "DescriptionStyleModel",
            "_view_count": null,
            "_view_module": "@jupyter-widgets/base",
            "_view_module_version": "1.2.0",
            "_view_name": "StyleView",
            "description_width": ""
          }
        },
        "81ee64db495b4d77a04a1b2ac396fcac": {
          "model_module": "@jupyter-widgets/controls",
          "model_name": "HBoxModel",
          "model_module_version": "1.5.0",
          "state": {
            "_dom_classes": [],
            "_model_module": "@jupyter-widgets/controls",
            "_model_module_version": "1.5.0",
            "_model_name": "HBoxModel",
            "_view_count": null,
            "_view_module": "@jupyter-widgets/controls",
            "_view_module_version": "1.5.0",
            "_view_name": "HBoxView",
            "box_style": "",
            "children": [
              "IPY_MODEL_2adfd416af13496aa6559b1be4663209",
              "IPY_MODEL_4e62d2c67c4f45e5984bb1e3276bd305",
              "IPY_MODEL_1547f30afcc649579607dba7d6b387fd"
            ],
            "layout": "IPY_MODEL_9bbb9a93093c4301bb55fc2ed473aeb0"
          }
        },
        "2adfd416af13496aa6559b1be4663209": {
          "model_module": "@jupyter-widgets/controls",
          "model_name": "HTMLModel",
          "model_module_version": "1.5.0",
          "state": {
            "_dom_classes": [],
            "_model_module": "@jupyter-widgets/controls",
            "_model_module_version": "1.5.0",
            "_model_name": "HTMLModel",
            "_view_count": null,
            "_view_module": "@jupyter-widgets/controls",
            "_view_module_version": "1.5.0",
            "_view_name": "HTMLView",
            "description": "",
            "description_tooltip": null,
            "layout": "IPY_MODEL_f8f55c15de3d437f9da907c2246dd86e",
            "placeholder": "​",
            "style": "IPY_MODEL_0c6fa237363f4eafacdd8ef8831ed8fc",
            "value": "Epoch  5: 100%"
          }
        },
        "4e62d2c67c4f45e5984bb1e3276bd305": {
          "model_module": "@jupyter-widgets/controls",
          "model_name": "FloatProgressModel",
          "model_module_version": "1.5.0",
          "state": {
            "_dom_classes": [],
            "_model_module": "@jupyter-widgets/controls",
            "_model_module_version": "1.5.0",
            "_model_name": "FloatProgressModel",
            "_view_count": null,
            "_view_module": "@jupyter-widgets/controls",
            "_view_module_version": "1.5.0",
            "_view_name": "ProgressView",
            "bar_style": "success",
            "description": "",
            "description_tooltip": null,
            "layout": "IPY_MODEL_ccbb4ecabd954d0a9227bc2527615ca7",
            "max": 902,
            "min": 0,
            "orientation": "horizontal",
            "style": "IPY_MODEL_c231acc6e03747ae8bc81b7859536050",
            "value": 902
          }
        },
        "1547f30afcc649579607dba7d6b387fd": {
          "model_module": "@jupyter-widgets/controls",
          "model_name": "HTMLModel",
          "model_module_version": "1.5.0",
          "state": {
            "_dom_classes": [],
            "_model_module": "@jupyter-widgets/controls",
            "_model_module_version": "1.5.0",
            "_model_name": "HTMLModel",
            "_view_count": null,
            "_view_module": "@jupyter-widgets/controls",
            "_view_module_version": "1.5.0",
            "_view_name": "HTMLView",
            "description": "",
            "description_tooltip": null,
            "layout": "IPY_MODEL_059276ee983b40bdb7c6cf91669b5387",
            "placeholder": "​",
            "style": "IPY_MODEL_dc1741474f3a484ea5bab36dd29e863d",
            "value": " 902/902 [05:21&lt;00:00,  2.80it/s, Loss 3.1491]"
          }
        },
        "9bbb9a93093c4301bb55fc2ed473aeb0": {
          "model_module": "@jupyter-widgets/base",
          "model_name": "LayoutModel",
          "model_module_version": "1.2.0",
          "state": {
            "_model_module": "@jupyter-widgets/base",
            "_model_module_version": "1.2.0",
            "_model_name": "LayoutModel",
            "_view_count": null,
            "_view_module": "@jupyter-widgets/base",
            "_view_module_version": "1.2.0",
            "_view_name": "LayoutView",
            "align_content": null,
            "align_items": null,
            "align_self": null,
            "border": null,
            "bottom": null,
            "display": null,
            "flex": null,
            "flex_flow": null,
            "grid_area": null,
            "grid_auto_columns": null,
            "grid_auto_flow": null,
            "grid_auto_rows": null,
            "grid_column": null,
            "grid_gap": null,
            "grid_row": null,
            "grid_template_areas": null,
            "grid_template_columns": null,
            "grid_template_rows": null,
            "height": null,
            "justify_content": null,
            "justify_items": null,
            "left": null,
            "margin": null,
            "max_height": null,
            "max_width": null,
            "min_height": null,
            "min_width": null,
            "object_fit": null,
            "object_position": null,
            "order": null,
            "overflow": null,
            "overflow_x": null,
            "overflow_y": null,
            "padding": null,
            "right": null,
            "top": null,
            "visibility": null,
            "width": null
          }
        },
        "f8f55c15de3d437f9da907c2246dd86e": {
          "model_module": "@jupyter-widgets/base",
          "model_name": "LayoutModel",
          "model_module_version": "1.2.0",
          "state": {
            "_model_module": "@jupyter-widgets/base",
            "_model_module_version": "1.2.0",
            "_model_name": "LayoutModel",
            "_view_count": null,
            "_view_module": "@jupyter-widgets/base",
            "_view_module_version": "1.2.0",
            "_view_name": "LayoutView",
            "align_content": null,
            "align_items": null,
            "align_self": null,
            "border": null,
            "bottom": null,
            "display": null,
            "flex": null,
            "flex_flow": null,
            "grid_area": null,
            "grid_auto_columns": null,
            "grid_auto_flow": null,
            "grid_auto_rows": null,
            "grid_column": null,
            "grid_gap": null,
            "grid_row": null,
            "grid_template_areas": null,
            "grid_template_columns": null,
            "grid_template_rows": null,
            "height": null,
            "justify_content": null,
            "justify_items": null,
            "left": null,
            "margin": null,
            "max_height": null,
            "max_width": null,
            "min_height": null,
            "min_width": null,
            "object_fit": null,
            "object_position": null,
            "order": null,
            "overflow": null,
            "overflow_x": null,
            "overflow_y": null,
            "padding": null,
            "right": null,
            "top": null,
            "visibility": null,
            "width": null
          }
        },
        "0c6fa237363f4eafacdd8ef8831ed8fc": {
          "model_module": "@jupyter-widgets/controls",
          "model_name": "DescriptionStyleModel",
          "model_module_version": "1.5.0",
          "state": {
            "_model_module": "@jupyter-widgets/controls",
            "_model_module_version": "1.5.0",
            "_model_name": "DescriptionStyleModel",
            "_view_count": null,
            "_view_module": "@jupyter-widgets/base",
            "_view_module_version": "1.2.0",
            "_view_name": "StyleView",
            "description_width": ""
          }
        },
        "ccbb4ecabd954d0a9227bc2527615ca7": {
          "model_module": "@jupyter-widgets/base",
          "model_name": "LayoutModel",
          "model_module_version": "1.2.0",
          "state": {
            "_model_module": "@jupyter-widgets/base",
            "_model_module_version": "1.2.0",
            "_model_name": "LayoutModel",
            "_view_count": null,
            "_view_module": "@jupyter-widgets/base",
            "_view_module_version": "1.2.0",
            "_view_name": "LayoutView",
            "align_content": null,
            "align_items": null,
            "align_self": null,
            "border": null,
            "bottom": null,
            "display": null,
            "flex": null,
            "flex_flow": null,
            "grid_area": null,
            "grid_auto_columns": null,
            "grid_auto_flow": null,
            "grid_auto_rows": null,
            "grid_column": null,
            "grid_gap": null,
            "grid_row": null,
            "grid_template_areas": null,
            "grid_template_columns": null,
            "grid_template_rows": null,
            "height": null,
            "justify_content": null,
            "justify_items": null,
            "left": null,
            "margin": null,
            "max_height": null,
            "max_width": null,
            "min_height": null,
            "min_width": null,
            "object_fit": null,
            "object_position": null,
            "order": null,
            "overflow": null,
            "overflow_x": null,
            "overflow_y": null,
            "padding": null,
            "right": null,
            "top": null,
            "visibility": null,
            "width": null
          }
        },
        "c231acc6e03747ae8bc81b7859536050": {
          "model_module": "@jupyter-widgets/controls",
          "model_name": "ProgressStyleModel",
          "model_module_version": "1.5.0",
          "state": {
            "_model_module": "@jupyter-widgets/controls",
            "_model_module_version": "1.5.0",
            "_model_name": "ProgressStyleModel",
            "_view_count": null,
            "_view_module": "@jupyter-widgets/base",
            "_view_module_version": "1.2.0",
            "_view_name": "StyleView",
            "bar_color": null,
            "description_width": ""
          }
        },
        "059276ee983b40bdb7c6cf91669b5387": {
          "model_module": "@jupyter-widgets/base",
          "model_name": "LayoutModel",
          "model_module_version": "1.2.0",
          "state": {
            "_model_module": "@jupyter-widgets/base",
            "_model_module_version": "1.2.0",
            "_model_name": "LayoutModel",
            "_view_count": null,
            "_view_module": "@jupyter-widgets/base",
            "_view_module_version": "1.2.0",
            "_view_name": "LayoutView",
            "align_content": null,
            "align_items": null,
            "align_self": null,
            "border": null,
            "bottom": null,
            "display": null,
            "flex": null,
            "flex_flow": null,
            "grid_area": null,
            "grid_auto_columns": null,
            "grid_auto_flow": null,
            "grid_auto_rows": null,
            "grid_column": null,
            "grid_gap": null,
            "grid_row": null,
            "grid_template_areas": null,
            "grid_template_columns": null,
            "grid_template_rows": null,
            "height": null,
            "justify_content": null,
            "justify_items": null,
            "left": null,
            "margin": null,
            "max_height": null,
            "max_width": null,
            "min_height": null,
            "min_width": null,
            "object_fit": null,
            "object_position": null,
            "order": null,
            "overflow": null,
            "overflow_x": null,
            "overflow_y": null,
            "padding": null,
            "right": null,
            "top": null,
            "visibility": null,
            "width": null
          }
        },
        "dc1741474f3a484ea5bab36dd29e863d": {
          "model_module": "@jupyter-widgets/controls",
          "model_name": "DescriptionStyleModel",
          "model_module_version": "1.5.0",
          "state": {
            "_model_module": "@jupyter-widgets/controls",
            "_model_module_version": "1.5.0",
            "_model_name": "DescriptionStyleModel",
            "_view_count": null,
            "_view_module": "@jupyter-widgets/base",
            "_view_module_version": "1.2.0",
            "_view_name": "StyleView",
            "description_width": ""
          }
        },
        "ea174a9f6f7348c3910fb50c4d8c538d": {
          "model_module": "@jupyter-widgets/controls",
          "model_name": "HBoxModel",
          "model_module_version": "1.5.0",
          "state": {
            "_dom_classes": [],
            "_model_module": "@jupyter-widgets/controls",
            "_model_module_version": "1.5.0",
            "_model_name": "HBoxModel",
            "_view_count": null,
            "_view_module": "@jupyter-widgets/controls",
            "_view_module_version": "1.5.0",
            "_view_name": "HBoxView",
            "box_style": "",
            "children": [
              "IPY_MODEL_331aa153341f4fb48697f7e6463a05e2",
              "IPY_MODEL_f217fc2d9b91469398c59e4bddf5bd16",
              "IPY_MODEL_ec317bf655a94e0ebc84f2a901ce6e2f"
            ],
            "layout": "IPY_MODEL_382d37e25aaa4aed93d9982e570536bc"
          }
        },
        "331aa153341f4fb48697f7e6463a05e2": {
          "model_module": "@jupyter-widgets/controls",
          "model_name": "HTMLModel",
          "model_module_version": "1.5.0",
          "state": {
            "_dom_classes": [],
            "_model_module": "@jupyter-widgets/controls",
            "_model_module_version": "1.5.0",
            "_model_name": "HTMLModel",
            "_view_count": null,
            "_view_module": "@jupyter-widgets/controls",
            "_view_module_version": "1.5.0",
            "_view_name": "HTMLView",
            "description": "",
            "description_tooltip": null,
            "layout": "IPY_MODEL_368d14d9347547e9bebf0d37745a571e",
            "placeholder": "​",
            "style": "IPY_MODEL_c931fd4a99364677ad20e839a6be61f1",
            "value": "Epoch  6: 100%"
          }
        },
        "f217fc2d9b91469398c59e4bddf5bd16": {
          "model_module": "@jupyter-widgets/controls",
          "model_name": "FloatProgressModel",
          "model_module_version": "1.5.0",
          "state": {
            "_dom_classes": [],
            "_model_module": "@jupyter-widgets/controls",
            "_model_module_version": "1.5.0",
            "_model_name": "FloatProgressModel",
            "_view_count": null,
            "_view_module": "@jupyter-widgets/controls",
            "_view_module_version": "1.5.0",
            "_view_name": "ProgressView",
            "bar_style": "success",
            "description": "",
            "description_tooltip": null,
            "layout": "IPY_MODEL_e0070cd8297d4d4c99d07111a06cd06a",
            "max": 902,
            "min": 0,
            "orientation": "horizontal",
            "style": "IPY_MODEL_ba6e7b3a61484fa29dccbd4d0b1926e1",
            "value": 902
          }
        },
        "ec317bf655a94e0ebc84f2a901ce6e2f": {
          "model_module": "@jupyter-widgets/controls",
          "model_name": "HTMLModel",
          "model_module_version": "1.5.0",
          "state": {
            "_dom_classes": [],
            "_model_module": "@jupyter-widgets/controls",
            "_model_module_version": "1.5.0",
            "_model_name": "HTMLModel",
            "_view_count": null,
            "_view_module": "@jupyter-widgets/controls",
            "_view_module_version": "1.5.0",
            "_view_name": "HTMLView",
            "description": "",
            "description_tooltip": null,
            "layout": "IPY_MODEL_ef4e6efc6ee9418d8de10efa24c63052",
            "placeholder": "​",
            "style": "IPY_MODEL_e875642be5d24e25b631e75432b932e7",
            "value": " 902/902 [05:21&lt;00:00,  2.81it/s, Loss 2.5611]"
          }
        },
        "382d37e25aaa4aed93d9982e570536bc": {
          "model_module": "@jupyter-widgets/base",
          "model_name": "LayoutModel",
          "model_module_version": "1.2.0",
          "state": {
            "_model_module": "@jupyter-widgets/base",
            "_model_module_version": "1.2.0",
            "_model_name": "LayoutModel",
            "_view_count": null,
            "_view_module": "@jupyter-widgets/base",
            "_view_module_version": "1.2.0",
            "_view_name": "LayoutView",
            "align_content": null,
            "align_items": null,
            "align_self": null,
            "border": null,
            "bottom": null,
            "display": null,
            "flex": null,
            "flex_flow": null,
            "grid_area": null,
            "grid_auto_columns": null,
            "grid_auto_flow": null,
            "grid_auto_rows": null,
            "grid_column": null,
            "grid_gap": null,
            "grid_row": null,
            "grid_template_areas": null,
            "grid_template_columns": null,
            "grid_template_rows": null,
            "height": null,
            "justify_content": null,
            "justify_items": null,
            "left": null,
            "margin": null,
            "max_height": null,
            "max_width": null,
            "min_height": null,
            "min_width": null,
            "object_fit": null,
            "object_position": null,
            "order": null,
            "overflow": null,
            "overflow_x": null,
            "overflow_y": null,
            "padding": null,
            "right": null,
            "top": null,
            "visibility": null,
            "width": null
          }
        },
        "368d14d9347547e9bebf0d37745a571e": {
          "model_module": "@jupyter-widgets/base",
          "model_name": "LayoutModel",
          "model_module_version": "1.2.0",
          "state": {
            "_model_module": "@jupyter-widgets/base",
            "_model_module_version": "1.2.0",
            "_model_name": "LayoutModel",
            "_view_count": null,
            "_view_module": "@jupyter-widgets/base",
            "_view_module_version": "1.2.0",
            "_view_name": "LayoutView",
            "align_content": null,
            "align_items": null,
            "align_self": null,
            "border": null,
            "bottom": null,
            "display": null,
            "flex": null,
            "flex_flow": null,
            "grid_area": null,
            "grid_auto_columns": null,
            "grid_auto_flow": null,
            "grid_auto_rows": null,
            "grid_column": null,
            "grid_gap": null,
            "grid_row": null,
            "grid_template_areas": null,
            "grid_template_columns": null,
            "grid_template_rows": null,
            "height": null,
            "justify_content": null,
            "justify_items": null,
            "left": null,
            "margin": null,
            "max_height": null,
            "max_width": null,
            "min_height": null,
            "min_width": null,
            "object_fit": null,
            "object_position": null,
            "order": null,
            "overflow": null,
            "overflow_x": null,
            "overflow_y": null,
            "padding": null,
            "right": null,
            "top": null,
            "visibility": null,
            "width": null
          }
        },
        "c931fd4a99364677ad20e839a6be61f1": {
          "model_module": "@jupyter-widgets/controls",
          "model_name": "DescriptionStyleModel",
          "model_module_version": "1.5.0",
          "state": {
            "_model_module": "@jupyter-widgets/controls",
            "_model_module_version": "1.5.0",
            "_model_name": "DescriptionStyleModel",
            "_view_count": null,
            "_view_module": "@jupyter-widgets/base",
            "_view_module_version": "1.2.0",
            "_view_name": "StyleView",
            "description_width": ""
          }
        },
        "e0070cd8297d4d4c99d07111a06cd06a": {
          "model_module": "@jupyter-widgets/base",
          "model_name": "LayoutModel",
          "model_module_version": "1.2.0",
          "state": {
            "_model_module": "@jupyter-widgets/base",
            "_model_module_version": "1.2.0",
            "_model_name": "LayoutModel",
            "_view_count": null,
            "_view_module": "@jupyter-widgets/base",
            "_view_module_version": "1.2.0",
            "_view_name": "LayoutView",
            "align_content": null,
            "align_items": null,
            "align_self": null,
            "border": null,
            "bottom": null,
            "display": null,
            "flex": null,
            "flex_flow": null,
            "grid_area": null,
            "grid_auto_columns": null,
            "grid_auto_flow": null,
            "grid_auto_rows": null,
            "grid_column": null,
            "grid_gap": null,
            "grid_row": null,
            "grid_template_areas": null,
            "grid_template_columns": null,
            "grid_template_rows": null,
            "height": null,
            "justify_content": null,
            "justify_items": null,
            "left": null,
            "margin": null,
            "max_height": null,
            "max_width": null,
            "min_height": null,
            "min_width": null,
            "object_fit": null,
            "object_position": null,
            "order": null,
            "overflow": null,
            "overflow_x": null,
            "overflow_y": null,
            "padding": null,
            "right": null,
            "top": null,
            "visibility": null,
            "width": null
          }
        },
        "ba6e7b3a61484fa29dccbd4d0b1926e1": {
          "model_module": "@jupyter-widgets/controls",
          "model_name": "ProgressStyleModel",
          "model_module_version": "1.5.0",
          "state": {
            "_model_module": "@jupyter-widgets/controls",
            "_model_module_version": "1.5.0",
            "_model_name": "ProgressStyleModel",
            "_view_count": null,
            "_view_module": "@jupyter-widgets/base",
            "_view_module_version": "1.2.0",
            "_view_name": "StyleView",
            "bar_color": null,
            "description_width": ""
          }
        },
        "ef4e6efc6ee9418d8de10efa24c63052": {
          "model_module": "@jupyter-widgets/base",
          "model_name": "LayoutModel",
          "model_module_version": "1.2.0",
          "state": {
            "_model_module": "@jupyter-widgets/base",
            "_model_module_version": "1.2.0",
            "_model_name": "LayoutModel",
            "_view_count": null,
            "_view_module": "@jupyter-widgets/base",
            "_view_module_version": "1.2.0",
            "_view_name": "LayoutView",
            "align_content": null,
            "align_items": null,
            "align_self": null,
            "border": null,
            "bottom": null,
            "display": null,
            "flex": null,
            "flex_flow": null,
            "grid_area": null,
            "grid_auto_columns": null,
            "grid_auto_flow": null,
            "grid_auto_rows": null,
            "grid_column": null,
            "grid_gap": null,
            "grid_row": null,
            "grid_template_areas": null,
            "grid_template_columns": null,
            "grid_template_rows": null,
            "height": null,
            "justify_content": null,
            "justify_items": null,
            "left": null,
            "margin": null,
            "max_height": null,
            "max_width": null,
            "min_height": null,
            "min_width": null,
            "object_fit": null,
            "object_position": null,
            "order": null,
            "overflow": null,
            "overflow_x": null,
            "overflow_y": null,
            "padding": null,
            "right": null,
            "top": null,
            "visibility": null,
            "width": null
          }
        },
        "e875642be5d24e25b631e75432b932e7": {
          "model_module": "@jupyter-widgets/controls",
          "model_name": "DescriptionStyleModel",
          "model_module_version": "1.5.0",
          "state": {
            "_model_module": "@jupyter-widgets/controls",
            "_model_module_version": "1.5.0",
            "_model_name": "DescriptionStyleModel",
            "_view_count": null,
            "_view_module": "@jupyter-widgets/base",
            "_view_module_version": "1.2.0",
            "_view_name": "StyleView",
            "description_width": ""
          }
        },
        "9b3ad4910b70443292d466265f5123e9": {
          "model_module": "@jupyter-widgets/controls",
          "model_name": "HBoxModel",
          "model_module_version": "1.5.0",
          "state": {
            "_dom_classes": [],
            "_model_module": "@jupyter-widgets/controls",
            "_model_module_version": "1.5.0",
            "_model_name": "HBoxModel",
            "_view_count": null,
            "_view_module": "@jupyter-widgets/controls",
            "_view_module_version": "1.5.0",
            "_view_name": "HBoxView",
            "box_style": "",
            "children": [
              "IPY_MODEL_18fae623831c4256ba4251756f338863",
              "IPY_MODEL_94243ee35a9b485bb0359e9bd33293ab",
              "IPY_MODEL_0c038806641f4805afd7d39767ae2f19"
            ],
            "layout": "IPY_MODEL_f805171c0b404228b6dd0720b8e04ee1"
          }
        },
        "18fae623831c4256ba4251756f338863": {
          "model_module": "@jupyter-widgets/controls",
          "model_name": "HTMLModel",
          "model_module_version": "1.5.0",
          "state": {
            "_dom_classes": [],
            "_model_module": "@jupyter-widgets/controls",
            "_model_module_version": "1.5.0",
            "_model_name": "HTMLModel",
            "_view_count": null,
            "_view_module": "@jupyter-widgets/controls",
            "_view_module_version": "1.5.0",
            "_view_name": "HTMLView",
            "description": "",
            "description_tooltip": null,
            "layout": "IPY_MODEL_1ab95dd038e24d8aabe0edb625f6d012",
            "placeholder": "​",
            "style": "IPY_MODEL_4cee3c0ffea9419aa472bc4785a7febc",
            "value": "Epoch  7: 100%"
          }
        },
        "94243ee35a9b485bb0359e9bd33293ab": {
          "model_module": "@jupyter-widgets/controls",
          "model_name": "FloatProgressModel",
          "model_module_version": "1.5.0",
          "state": {
            "_dom_classes": [],
            "_model_module": "@jupyter-widgets/controls",
            "_model_module_version": "1.5.0",
            "_model_name": "FloatProgressModel",
            "_view_count": null,
            "_view_module": "@jupyter-widgets/controls",
            "_view_module_version": "1.5.0",
            "_view_name": "ProgressView",
            "bar_style": "success",
            "description": "",
            "description_tooltip": null,
            "layout": "IPY_MODEL_6fa55396e5a24926978e8b38e3b70129",
            "max": 902,
            "min": 0,
            "orientation": "horizontal",
            "style": "IPY_MODEL_2a38922a9247497997bb74d2acd2f67a",
            "value": 902
          }
        },
        "0c038806641f4805afd7d39767ae2f19": {
          "model_module": "@jupyter-widgets/controls",
          "model_name": "HTMLModel",
          "model_module_version": "1.5.0",
          "state": {
            "_dom_classes": [],
            "_model_module": "@jupyter-widgets/controls",
            "_model_module_version": "1.5.0",
            "_model_name": "HTMLModel",
            "_view_count": null,
            "_view_module": "@jupyter-widgets/controls",
            "_view_module_version": "1.5.0",
            "_view_name": "HTMLView",
            "description": "",
            "description_tooltip": null,
            "layout": "IPY_MODEL_2e978533aeda423cbc6762000f965b55",
            "placeholder": "​",
            "style": "IPY_MODEL_4eba124f358143ea9269465dff315206",
            "value": " 902/902 [05:21&lt;00:00,  2.82it/s, Loss 1.9365]"
          }
        },
        "f805171c0b404228b6dd0720b8e04ee1": {
          "model_module": "@jupyter-widgets/base",
          "model_name": "LayoutModel",
          "model_module_version": "1.2.0",
          "state": {
            "_model_module": "@jupyter-widgets/base",
            "_model_module_version": "1.2.0",
            "_model_name": "LayoutModel",
            "_view_count": null,
            "_view_module": "@jupyter-widgets/base",
            "_view_module_version": "1.2.0",
            "_view_name": "LayoutView",
            "align_content": null,
            "align_items": null,
            "align_self": null,
            "border": null,
            "bottom": null,
            "display": null,
            "flex": null,
            "flex_flow": null,
            "grid_area": null,
            "grid_auto_columns": null,
            "grid_auto_flow": null,
            "grid_auto_rows": null,
            "grid_column": null,
            "grid_gap": null,
            "grid_row": null,
            "grid_template_areas": null,
            "grid_template_columns": null,
            "grid_template_rows": null,
            "height": null,
            "justify_content": null,
            "justify_items": null,
            "left": null,
            "margin": null,
            "max_height": null,
            "max_width": null,
            "min_height": null,
            "min_width": null,
            "object_fit": null,
            "object_position": null,
            "order": null,
            "overflow": null,
            "overflow_x": null,
            "overflow_y": null,
            "padding": null,
            "right": null,
            "top": null,
            "visibility": null,
            "width": null
          }
        },
        "1ab95dd038e24d8aabe0edb625f6d012": {
          "model_module": "@jupyter-widgets/base",
          "model_name": "LayoutModel",
          "model_module_version": "1.2.0",
          "state": {
            "_model_module": "@jupyter-widgets/base",
            "_model_module_version": "1.2.0",
            "_model_name": "LayoutModel",
            "_view_count": null,
            "_view_module": "@jupyter-widgets/base",
            "_view_module_version": "1.2.0",
            "_view_name": "LayoutView",
            "align_content": null,
            "align_items": null,
            "align_self": null,
            "border": null,
            "bottom": null,
            "display": null,
            "flex": null,
            "flex_flow": null,
            "grid_area": null,
            "grid_auto_columns": null,
            "grid_auto_flow": null,
            "grid_auto_rows": null,
            "grid_column": null,
            "grid_gap": null,
            "grid_row": null,
            "grid_template_areas": null,
            "grid_template_columns": null,
            "grid_template_rows": null,
            "height": null,
            "justify_content": null,
            "justify_items": null,
            "left": null,
            "margin": null,
            "max_height": null,
            "max_width": null,
            "min_height": null,
            "min_width": null,
            "object_fit": null,
            "object_position": null,
            "order": null,
            "overflow": null,
            "overflow_x": null,
            "overflow_y": null,
            "padding": null,
            "right": null,
            "top": null,
            "visibility": null,
            "width": null
          }
        },
        "4cee3c0ffea9419aa472bc4785a7febc": {
          "model_module": "@jupyter-widgets/controls",
          "model_name": "DescriptionStyleModel",
          "model_module_version": "1.5.0",
          "state": {
            "_model_module": "@jupyter-widgets/controls",
            "_model_module_version": "1.5.0",
            "_model_name": "DescriptionStyleModel",
            "_view_count": null,
            "_view_module": "@jupyter-widgets/base",
            "_view_module_version": "1.2.0",
            "_view_name": "StyleView",
            "description_width": ""
          }
        },
        "6fa55396e5a24926978e8b38e3b70129": {
          "model_module": "@jupyter-widgets/base",
          "model_name": "LayoutModel",
          "model_module_version": "1.2.0",
          "state": {
            "_model_module": "@jupyter-widgets/base",
            "_model_module_version": "1.2.0",
            "_model_name": "LayoutModel",
            "_view_count": null,
            "_view_module": "@jupyter-widgets/base",
            "_view_module_version": "1.2.0",
            "_view_name": "LayoutView",
            "align_content": null,
            "align_items": null,
            "align_self": null,
            "border": null,
            "bottom": null,
            "display": null,
            "flex": null,
            "flex_flow": null,
            "grid_area": null,
            "grid_auto_columns": null,
            "grid_auto_flow": null,
            "grid_auto_rows": null,
            "grid_column": null,
            "grid_gap": null,
            "grid_row": null,
            "grid_template_areas": null,
            "grid_template_columns": null,
            "grid_template_rows": null,
            "height": null,
            "justify_content": null,
            "justify_items": null,
            "left": null,
            "margin": null,
            "max_height": null,
            "max_width": null,
            "min_height": null,
            "min_width": null,
            "object_fit": null,
            "object_position": null,
            "order": null,
            "overflow": null,
            "overflow_x": null,
            "overflow_y": null,
            "padding": null,
            "right": null,
            "top": null,
            "visibility": null,
            "width": null
          }
        },
        "2a38922a9247497997bb74d2acd2f67a": {
          "model_module": "@jupyter-widgets/controls",
          "model_name": "ProgressStyleModel",
          "model_module_version": "1.5.0",
          "state": {
            "_model_module": "@jupyter-widgets/controls",
            "_model_module_version": "1.5.0",
            "_model_name": "ProgressStyleModel",
            "_view_count": null,
            "_view_module": "@jupyter-widgets/base",
            "_view_module_version": "1.2.0",
            "_view_name": "StyleView",
            "bar_color": null,
            "description_width": ""
          }
        },
        "2e978533aeda423cbc6762000f965b55": {
          "model_module": "@jupyter-widgets/base",
          "model_name": "LayoutModel",
          "model_module_version": "1.2.0",
          "state": {
            "_model_module": "@jupyter-widgets/base",
            "_model_module_version": "1.2.0",
            "_model_name": "LayoutModel",
            "_view_count": null,
            "_view_module": "@jupyter-widgets/base",
            "_view_module_version": "1.2.0",
            "_view_name": "LayoutView",
            "align_content": null,
            "align_items": null,
            "align_self": null,
            "border": null,
            "bottom": null,
            "display": null,
            "flex": null,
            "flex_flow": null,
            "grid_area": null,
            "grid_auto_columns": null,
            "grid_auto_flow": null,
            "grid_auto_rows": null,
            "grid_column": null,
            "grid_gap": null,
            "grid_row": null,
            "grid_template_areas": null,
            "grid_template_columns": null,
            "grid_template_rows": null,
            "height": null,
            "justify_content": null,
            "justify_items": null,
            "left": null,
            "margin": null,
            "max_height": null,
            "max_width": null,
            "min_height": null,
            "min_width": null,
            "object_fit": null,
            "object_position": null,
            "order": null,
            "overflow": null,
            "overflow_x": null,
            "overflow_y": null,
            "padding": null,
            "right": null,
            "top": null,
            "visibility": null,
            "width": null
          }
        },
        "4eba124f358143ea9269465dff315206": {
          "model_module": "@jupyter-widgets/controls",
          "model_name": "DescriptionStyleModel",
          "model_module_version": "1.5.0",
          "state": {
            "_model_module": "@jupyter-widgets/controls",
            "_model_module_version": "1.5.0",
            "_model_name": "DescriptionStyleModel",
            "_view_count": null,
            "_view_module": "@jupyter-widgets/base",
            "_view_module_version": "1.2.0",
            "_view_name": "StyleView",
            "description_width": ""
          }
        },
        "f62ee0ead5444fd09eb233c74020da5c": {
          "model_module": "@jupyter-widgets/controls",
          "model_name": "HBoxModel",
          "model_module_version": "1.5.0",
          "state": {
            "_dom_classes": [],
            "_model_module": "@jupyter-widgets/controls",
            "_model_module_version": "1.5.0",
            "_model_name": "HBoxModel",
            "_view_count": null,
            "_view_module": "@jupyter-widgets/controls",
            "_view_module_version": "1.5.0",
            "_view_name": "HBoxView",
            "box_style": "",
            "children": [
              "IPY_MODEL_172d82badf6249a79d3d9f7a74ebd62e",
              "IPY_MODEL_6316de0d94dd40d89d0ee9bb8b72659a",
              "IPY_MODEL_ff6e4674675b4357afaea8ab71ba5144"
            ],
            "layout": "IPY_MODEL_d96162ae3aae4dcb804dd0aa6eb08249"
          }
        },
        "172d82badf6249a79d3d9f7a74ebd62e": {
          "model_module": "@jupyter-widgets/controls",
          "model_name": "HTMLModel",
          "model_module_version": "1.5.0",
          "state": {
            "_dom_classes": [],
            "_model_module": "@jupyter-widgets/controls",
            "_model_module_version": "1.5.0",
            "_model_name": "HTMLModel",
            "_view_count": null,
            "_view_module": "@jupyter-widgets/controls",
            "_view_module_version": "1.5.0",
            "_view_name": "HTMLView",
            "description": "",
            "description_tooltip": null,
            "layout": "IPY_MODEL_6e38ea550f7e40c4acae15cabb6021ac",
            "placeholder": "​",
            "style": "IPY_MODEL_91fa2d270e75497880e0e1631281cca1",
            "value": "Epoch  8:  40%"
          }
        },
        "6316de0d94dd40d89d0ee9bb8b72659a": {
          "model_module": "@jupyter-widgets/controls",
          "model_name": "FloatProgressModel",
          "model_module_version": "1.5.0",
          "state": {
            "_dom_classes": [],
            "_model_module": "@jupyter-widgets/controls",
            "_model_module_version": "1.5.0",
            "_model_name": "FloatProgressModel",
            "_view_count": null,
            "_view_module": "@jupyter-widgets/controls",
            "_view_module_version": "1.5.0",
            "_view_name": "ProgressView",
            "bar_style": "",
            "description": "",
            "description_tooltip": null,
            "layout": "IPY_MODEL_4a58ca7992db4964bb85c9832dd7a4a4",
            "max": 902,
            "min": 0,
            "orientation": "horizontal",
            "style": "IPY_MODEL_0feb5d3706244b0cb2d40a27e2e21502",
            "value": 364
          }
        },
        "ff6e4674675b4357afaea8ab71ba5144": {
          "model_module": "@jupyter-widgets/controls",
          "model_name": "HTMLModel",
          "model_module_version": "1.5.0",
          "state": {
            "_dom_classes": [],
            "_model_module": "@jupyter-widgets/controls",
            "_model_module_version": "1.5.0",
            "_model_name": "HTMLModel",
            "_view_count": null,
            "_view_module": "@jupyter-widgets/controls",
            "_view_module_version": "1.5.0",
            "_view_name": "HTMLView",
            "description": "",
            "description_tooltip": null,
            "layout": "IPY_MODEL_675103ea230e4ea6913a2fc3fc4dbfe0",
            "placeholder": "​",
            "style": "IPY_MODEL_66e373c2cc664be7b68ccf5adfa2ea61",
            "value": " 364/902 [02:09&lt;03:11,  2.81it/s, Loss 1.2184]"
          }
        },
        "d96162ae3aae4dcb804dd0aa6eb08249": {
          "model_module": "@jupyter-widgets/base",
          "model_name": "LayoutModel",
          "model_module_version": "1.2.0",
          "state": {
            "_model_module": "@jupyter-widgets/base",
            "_model_module_version": "1.2.0",
            "_model_name": "LayoutModel",
            "_view_count": null,
            "_view_module": "@jupyter-widgets/base",
            "_view_module_version": "1.2.0",
            "_view_name": "LayoutView",
            "align_content": null,
            "align_items": null,
            "align_self": null,
            "border": null,
            "bottom": null,
            "display": null,
            "flex": null,
            "flex_flow": null,
            "grid_area": null,
            "grid_auto_columns": null,
            "grid_auto_flow": null,
            "grid_auto_rows": null,
            "grid_column": null,
            "grid_gap": null,
            "grid_row": null,
            "grid_template_areas": null,
            "grid_template_columns": null,
            "grid_template_rows": null,
            "height": null,
            "justify_content": null,
            "justify_items": null,
            "left": null,
            "margin": null,
            "max_height": null,
            "max_width": null,
            "min_height": null,
            "min_width": null,
            "object_fit": null,
            "object_position": null,
            "order": null,
            "overflow": null,
            "overflow_x": null,
            "overflow_y": null,
            "padding": null,
            "right": null,
            "top": null,
            "visibility": null,
            "width": null
          }
        },
        "6e38ea550f7e40c4acae15cabb6021ac": {
          "model_module": "@jupyter-widgets/base",
          "model_name": "LayoutModel",
          "model_module_version": "1.2.0",
          "state": {
            "_model_module": "@jupyter-widgets/base",
            "_model_module_version": "1.2.0",
            "_model_name": "LayoutModel",
            "_view_count": null,
            "_view_module": "@jupyter-widgets/base",
            "_view_module_version": "1.2.0",
            "_view_name": "LayoutView",
            "align_content": null,
            "align_items": null,
            "align_self": null,
            "border": null,
            "bottom": null,
            "display": null,
            "flex": null,
            "flex_flow": null,
            "grid_area": null,
            "grid_auto_columns": null,
            "grid_auto_flow": null,
            "grid_auto_rows": null,
            "grid_column": null,
            "grid_gap": null,
            "grid_row": null,
            "grid_template_areas": null,
            "grid_template_columns": null,
            "grid_template_rows": null,
            "height": null,
            "justify_content": null,
            "justify_items": null,
            "left": null,
            "margin": null,
            "max_height": null,
            "max_width": null,
            "min_height": null,
            "min_width": null,
            "object_fit": null,
            "object_position": null,
            "order": null,
            "overflow": null,
            "overflow_x": null,
            "overflow_y": null,
            "padding": null,
            "right": null,
            "top": null,
            "visibility": null,
            "width": null
          }
        },
        "91fa2d270e75497880e0e1631281cca1": {
          "model_module": "@jupyter-widgets/controls",
          "model_name": "DescriptionStyleModel",
          "model_module_version": "1.5.0",
          "state": {
            "_model_module": "@jupyter-widgets/controls",
            "_model_module_version": "1.5.0",
            "_model_name": "DescriptionStyleModel",
            "_view_count": null,
            "_view_module": "@jupyter-widgets/base",
            "_view_module_version": "1.2.0",
            "_view_name": "StyleView",
            "description_width": ""
          }
        },
        "4a58ca7992db4964bb85c9832dd7a4a4": {
          "model_module": "@jupyter-widgets/base",
          "model_name": "LayoutModel",
          "model_module_version": "1.2.0",
          "state": {
            "_model_module": "@jupyter-widgets/base",
            "_model_module_version": "1.2.0",
            "_model_name": "LayoutModel",
            "_view_count": null,
            "_view_module": "@jupyter-widgets/base",
            "_view_module_version": "1.2.0",
            "_view_name": "LayoutView",
            "align_content": null,
            "align_items": null,
            "align_self": null,
            "border": null,
            "bottom": null,
            "display": null,
            "flex": null,
            "flex_flow": null,
            "grid_area": null,
            "grid_auto_columns": null,
            "grid_auto_flow": null,
            "grid_auto_rows": null,
            "grid_column": null,
            "grid_gap": null,
            "grid_row": null,
            "grid_template_areas": null,
            "grid_template_columns": null,
            "grid_template_rows": null,
            "height": null,
            "justify_content": null,
            "justify_items": null,
            "left": null,
            "margin": null,
            "max_height": null,
            "max_width": null,
            "min_height": null,
            "min_width": null,
            "object_fit": null,
            "object_position": null,
            "order": null,
            "overflow": null,
            "overflow_x": null,
            "overflow_y": null,
            "padding": null,
            "right": null,
            "top": null,
            "visibility": null,
            "width": null
          }
        },
        "0feb5d3706244b0cb2d40a27e2e21502": {
          "model_module": "@jupyter-widgets/controls",
          "model_name": "ProgressStyleModel",
          "model_module_version": "1.5.0",
          "state": {
            "_model_module": "@jupyter-widgets/controls",
            "_model_module_version": "1.5.0",
            "_model_name": "ProgressStyleModel",
            "_view_count": null,
            "_view_module": "@jupyter-widgets/base",
            "_view_module_version": "1.2.0",
            "_view_name": "StyleView",
            "bar_color": null,
            "description_width": ""
          }
        },
        "675103ea230e4ea6913a2fc3fc4dbfe0": {
          "model_module": "@jupyter-widgets/base",
          "model_name": "LayoutModel",
          "model_module_version": "1.2.0",
          "state": {
            "_model_module": "@jupyter-widgets/base",
            "_model_module_version": "1.2.0",
            "_model_name": "LayoutModel",
            "_view_count": null,
            "_view_module": "@jupyter-widgets/base",
            "_view_module_version": "1.2.0",
            "_view_name": "LayoutView",
            "align_content": null,
            "align_items": null,
            "align_self": null,
            "border": null,
            "bottom": null,
            "display": null,
            "flex": null,
            "flex_flow": null,
            "grid_area": null,
            "grid_auto_columns": null,
            "grid_auto_flow": null,
            "grid_auto_rows": null,
            "grid_column": null,
            "grid_gap": null,
            "grid_row": null,
            "grid_template_areas": null,
            "grid_template_columns": null,
            "grid_template_rows": null,
            "height": null,
            "justify_content": null,
            "justify_items": null,
            "left": null,
            "margin": null,
            "max_height": null,
            "max_width": null,
            "min_height": null,
            "min_width": null,
            "object_fit": null,
            "object_position": null,
            "order": null,
            "overflow": null,
            "overflow_x": null,
            "overflow_y": null,
            "padding": null,
            "right": null,
            "top": null,
            "visibility": null,
            "width": null
          }
        },
        "66e373c2cc664be7b68ccf5adfa2ea61": {
          "model_module": "@jupyter-widgets/controls",
          "model_name": "DescriptionStyleModel",
          "model_module_version": "1.5.0",
          "state": {
            "_model_module": "@jupyter-widgets/controls",
            "_model_module_version": "1.5.0",
            "_model_name": "DescriptionStyleModel",
            "_view_count": null,
            "_view_module": "@jupyter-widgets/base",
            "_view_module_version": "1.2.0",
            "_view_name": "StyleView",
            "description_width": ""
          }
        }
      }
    }
  },
  "cells": [
    {
      "cell_type": "markdown",
      "metadata": {
        "id": "view-in-github",
        "colab_type": "text"
      },
      "source": [
        "<a href=\"https://colab.research.google.com/github/jx-dohwan/Aiffel_NLP_Project/blob/main/%5BNLP_10%5DCreate_a_translator_with_Transformer.ipynb\" target=\"_parent\"><img src=\"https://colab.research.google.com/assets/colab-badge.svg\" alt=\"Open In Colab\"/></a>"
      ]
    },
    {
      "cell_type": "markdown",
      "source": [
        "# [NLP_10]Create a translator with Transformer"
      ],
      "metadata": {
        "id": "OZN6XI2KaN8R"
      }
    },
    {
      "cell_type": "markdown",
      "source": [
        "시도해볼 것\n",
        "- SentencePiece의 Supported algorithm\n",
        "  - unigram\n",
        "  - bpm\n",
        "  - char\n",
        "  - word\n",
        "\n",
        "- 파라미터 설정 :  N은 2로 고정하라고 노드에서 제시함\n",
        "  - small\n",
        "    - N : 2\n",
        "    - dmodel : 256\n",
        "    - dff : 512\n",
        "    - h : 8\n",
        "    - drop : 0.1\n",
        "  - base\n",
        "    - N : 2\n",
        "    - dmodel : 512\n",
        "    - dff : 2048 \n",
        "    - h : 8\n",
        "    - drop : 0.1\n",
        "  - big\n",
        "    - N : 2\n",
        "    - dmodel : 1024\n",
        "    - dff : 4096\n",
        "    - h : 16\n",
        "    - drop :0.3\n",
        "- epochs 조정 : 빠른 실험을 통해서 낮은 5 epoch를 먼저 돌려보자, 그리고 최종 모델의 선정되었을 시 논문대로 100 epochs를 돌려 결과를 비교해 선정하자\n",
        "- padding \n",
        "  - pre\n",
        "  - post"
      ],
      "metadata": {
        "id": "57wrabZ0k4oH"
      }
    },
    {
      "cell_type": "markdown",
      "source": [
        "## 1. Import 및 라이브러리 다운로드"
      ],
      "metadata": {
        "id": "atEzWNwswXu2"
      }
    },
    {
      "cell_type": "code",
      "source": [
        "!sudo apt-get install -y fonts-nanum\n",
        "!sudo fc-cache -fv\n",
        "!rm ~/.cache/matplotlib -rf"
      ],
      "metadata": {
        "colab": {
          "base_uri": "https://localhost:8080/"
        },
        "id": "YLAP75iryuwy",
        "outputId": "bf8ada8e-224b-4012-81f4-32be4c480c21"
      },
      "execution_count": 41,
      "outputs": [
        {
          "output_type": "stream",
          "name": "stdout",
          "text": [
            "Reading package lists... Done\n",
            "Building dependency tree       \n",
            "Reading state information... Done\n",
            "fonts-nanum is already the newest version (20170925-1).\n",
            "The following package was automatically installed and is no longer required:\n",
            "  libnvidia-common-460\n",
            "Use 'sudo apt autoremove' to remove it.\n",
            "0 upgraded, 0 newly installed, 0 to remove and 12 not upgraded.\n",
            "/usr/share/fonts: caching, new cache contents: 0 fonts, 1 dirs\n",
            "/usr/share/fonts/truetype: caching, new cache contents: 0 fonts, 3 dirs\n",
            "/usr/share/fonts/truetype/humor-sans: caching, new cache contents: 1 fonts, 0 dirs\n",
            "/usr/share/fonts/truetype/liberation: caching, new cache contents: 16 fonts, 0 dirs\n",
            "/usr/share/fonts/truetype/nanum: caching, new cache contents: 10 fonts, 0 dirs\n",
            "/usr/local/share/fonts: caching, new cache contents: 0 fonts, 0 dirs\n",
            "/root/.local/share/fonts: skipping, no such directory\n",
            "/root/.fonts: skipping, no such directory\n",
            "/var/cache/fontconfig: cleaning cache directory\n",
            "/root/.cache/fontconfig: not cleaning non-existent cache directory\n",
            "/root/.fontconfig: not cleaning non-existent cache directory\n",
            "fc-cache: succeeded\n"
          ]
        }
      ]
    },
    {
      "cell_type": "code",
      "source": [
        "! pip install sentencepiece"
      ],
      "metadata": {
        "colab": {
          "base_uri": "https://localhost:8080/"
        },
        "id": "Q3AolEf_0eNr",
        "outputId": "49b3e730-74c6-4bc8-bcff-3283e48c596e"
      },
      "execution_count": 42,
      "outputs": [
        {
          "output_type": "stream",
          "name": "stdout",
          "text": [
            "Looking in indexes: https://pypi.org/simple, https://us-python.pkg.dev/colab-wheels/public/simple/\n",
            "Requirement already satisfied: sentencepiece in /usr/local/lib/python3.7/dist-packages (0.1.97)\n"
          ]
        }
      ]
    },
    {
      "cell_type": "code",
      "execution_count": 43,
      "metadata": {
        "id": "7-21ud_ZaIWA",
        "colab": {
          "base_uri": "https://localhost:8080/"
        },
        "outputId": "cd4c5642-79ef-49eb-ba88-09e03d171cf4"
      },
      "outputs": [
        {
          "output_type": "stream",
          "name": "stdout",
          "text": [
            "2.9.2\n"
          ]
        }
      ],
      "source": [
        "import numpy as np\n",
        "import tensorflow as tf\n",
        "import matplotlib.pyplot as plt\n",
        "import sentencepiece as spm\n",
        "import re\n",
        "import os\n",
        "import io\n",
        "import time\n",
        "import random\n",
        "from sklearn.model_selection import train_test_split\n",
        "from tqdm.notebook import tqdm  \n",
        "import seaborn # Attention 시각화를 위해 필요!\n",
        "plt.rc('font', family='NanumBarunGothic')\n",
        "print(tf.__version__)"
      ]
    },
    {
      "cell_type": "markdown",
      "source": [
        "## 2. 데이터 다운로드"
      ],
      "metadata": {
        "id": "2a4vPdaAwbQa"
      }
    },
    {
      "cell_type": "code",
      "source": [
        "path_train_ko = '/content/drive/MyDrive/인공지능/아이펠/GoingDeeper/제출용/data/transformer_translator/korean-english-park.train.ko'\n",
        "path_train_en = '/content/drive/MyDrive/인공지능/아이펠/GoingDeeper/제출용/data/transformer_translator/korean-english-park.train.en'"
      ],
      "metadata": {
        "id": "cwjKuxmfweMI"
      },
      "execution_count": 44,
      "outputs": []
    },
    {
      "cell_type": "code",
      "source": [
        "# with open(path_train_ko, \"r\") as f:\n",
        "#     raw_ko = f.read().splitlines()\n",
        "\n",
        "# print(\"Data Size:\", len(raw_ko))\n",
        "# print(\"Example:\")\n",
        "\n",
        "# for sen in raw_ko[0:100][::20]: print(\">>\", sen)"
      ],
      "metadata": {
        "id": "9JJWJCLMzLLn"
      },
      "execution_count": 45,
      "outputs": []
    },
    {
      "cell_type": "code",
      "source": [
        "# with open(path_train_en, \"r\") as f:\n",
        "#     raw_en = f.read().splitlines()\n",
        "\n",
        "# print(\"Data Size:\", len(raw_en))\n",
        "# print(\"Example:\")\n",
        "\n",
        "# for sen in raw_en[0:100][::20]: print(\">>\", sen)"
      ],
      "metadata": {
        "id": "5oZuS0B_zM7B"
      },
      "execution_count": 46,
      "outputs": []
    },
    {
      "cell_type": "markdown",
      "source": [
        "## 3. 데이터 정제 및 토큰화\n",
        "\n",
        "1. set 데이터형이 중복을 허용하지 않는다는 것을 활용해 중복된 데이터를 제거하도록 합니다. 데이터의 병렬 쌍이 흐트러지지 않게 주의하세요! 중복을 제거한 데이터를 cleaned_corpus 에 저장합니다.\n",
        "<br><br>\n",
        "\n",
        "2. 정제 함수를 아래 조건을 만족하게 정의하세요.\n",
        "  - 모든 입력을 소문자로 변환합니다.\n",
        "  - 알파벳, 문장부호, 한글만 남기고 모두 제거합니다.\n",
        "  - 문장부호 양옆에 공백을 추가합니다.\n",
        "  - 문장 앞뒤의 불필요한 공백을 제거합니다.\n",
        "<br><Br>\n",
        "\n",
        "3. 한글 말뭉치 kor_corpus 와 영문 말뭉치 eng_corpus 를 각각 분리한 후, 정제하여 토큰화를 진행합니다! 토큰화에는 Sentencepiece를 활용하세요. 첨부된 공식 사이트를 참고해 아래 조건을 만족하는 generate_tokenizer() 함수를 정의합니다. 최종적으로 ko_tokenizer 과 en_tokenizer 를 얻으세요. en_tokenizer에는 set_encode_extra_options(\"bos:eos\") 함수를 실행해 타겟 입력이 문장의 시작 토큰과 끝 토큰을 포함할 수 있게 합니다.\n",
        "  - https://github.com/google/sentencepiece\n",
        "    - 단어 사전을 매개변수로 받아 원하는 크기의 사전을 정의할 수 있게 합니다. (기본: 20,000)\n",
        "    - 학습 후 저장된 model 파일을 SentencePieceProcessor() 클래스에 Load()한 후 반환합니다.\n",
        "    - 특수 토큰의 인덱스를 아래와 동일하게 지정합니다.\n",
        "PAD : 0 / BOS : 1 / EOS : 2 / UNK : 3\n",
        "<br><Br>\n",
        "\n",
        "4. 토크나이저를 활용해 토큰의 길이가 50 이하인 데이터를 선별하여 src_corpus 와 tgt_corpus 를 각각 구축하고, 텐서 enc_train 과 dec_train 으로 변환하세요! (❗모든 데이터를 사용할 경우 학습에 굉장히 오랜 시간이 걸립니다.)"
      ],
      "metadata": {
        "id": "filZHzQSwfMH"
      }
    },
    {
      "cell_type": "markdown",
      "source": [
        "### 1) set 데이터형으로 변환"
      ],
      "metadata": {
        "id": "GYiDM6CU2OoG"
      }
    },
    {
      "cell_type": "code",
      "source": [
        "# 데이터 정제 및 토큰화\n",
        "def clean_corpus(kor_path, eng_path):\n",
        "    with open(kor_path, \"r\") as f: kor = f.read().splitlines()\n",
        "    with open(eng_path, \"r\") as f: eng = f.read().splitlines()\n",
        "    assert len(kor) == len(eng)\n",
        "\n",
        "    cleaned_corpus = list(set(zip(kor, eng)))\n",
        "\n",
        "    return cleaned_corpus\n",
        "\n",
        "cleaned_corpus = clean_corpus(path_train_ko, path_train_en)"
      ],
      "metadata": {
        "id": "BmlqerERcl6R"
      },
      "execution_count": 47,
      "outputs": []
    },
    {
      "cell_type": "code",
      "source": [
        "# cleaned_corpus = list(set(zip(raw_ko, raw_en)))"
      ],
      "metadata": {
        "id": "o_v1KC8ZwgFA"
      },
      "execution_count": 48,
      "outputs": []
    },
    {
      "cell_type": "code",
      "source": [
        "len(cleaned_corpus)"
      ],
      "metadata": {
        "colab": {
          "base_uri": "https://localhost:8080/"
        },
        "id": "W2YX4yxszWbb",
        "outputId": "389564ab-6c00-41f9-9f3c-8e45a0931f7f"
      },
      "execution_count": 49,
      "outputs": [
        {
          "output_type": "execute_result",
          "data": {
            "text/plain": [
              "78968"
            ]
          },
          "metadata": {},
          "execution_count": 49
        }
      ]
    },
    {
      "cell_type": "code",
      "source": [
        "for pair in cleaned_corpus[:10]:\n",
        "    print(pair)\n",
        "    print('pair 0 :',pair[0])\n",
        "    print('pair 1 :',pair[1])"
      ],
      "metadata": {
        "colab": {
          "base_uri": "https://localhost:8080/"
        },
        "id": "xx0ppTEP1mtR",
        "outputId": "fa02bc55-f523-4a8f-aca8-49781de7aa78"
      },
      "execution_count": 50,
      "outputs": [
        {
          "output_type": "stream",
          "name": "stdout",
          "text": [
            "('페리나시 관계자는 트레비 분수 동전 던지기처럼 이 풍습이 유지되길 바란다고 말했다.', 'It\\'s becoming like tossing a coin in the Trevi fountain,\" said Perina.')\n",
            "pair 0 : 페리나시 관계자는 트레비 분수 동전 던지기처럼 이 풍습이 유지되길 바란다고 말했다.\n",
            "pair 1 : It's becoming like tossing a coin in the Trevi fountain,\" said Perina.\n",
            "('황 의원은 그의 보좌관이 중국 대사관의 “경고”라고 말한 이 전화 연락에 대해 강한 유감을 표명하면서 공산국가인 중국에서는 불가능할지라도 한국의 정치인들은 옳다고 생각하는 어떠한 생각이나 의견을 말하고 행동으로 옮길 수 있다고 말했다.', \"Hwang expressed anger at what the aide called a ``warning'' from the Chinese Embassy, arguing that a South Korean politician can articulate any kind of thought or idea and do anything he believes is right.\")\n",
            "pair 0 : 황 의원은 그의 보좌관이 중국 대사관의 “경고”라고 말한 이 전화 연락에 대해 강한 유감을 표명하면서 공산국가인 중국에서는 불가능할지라도 한국의 정치인들은 옳다고 생각하는 어떠한 생각이나 의견을 말하고 행동으로 옮길 수 있다고 말했다.\n",
            "pair 1 : Hwang expressed anger at what the aide called a ``warning'' from the Chinese Embassy, arguing that a South Korean politician can articulate any kind of thought or idea and do anything he believes is right.\n",
            "('반면 반군은 훈련 도중 정부군의 공격으로 단 4명의 해방 호랑이들이 숨졌다고 발표했다.', 'The rebels said only four Sea Tigers were killed when the navy attacked them during a training exercise.')\n",
            "pair 0 : 반면 반군은 훈련 도중 정부군의 공격으로 단 4명의 해방 호랑이들이 숨졌다고 발표했다.\n",
            "pair 1 : The rebels said only four Sea Tigers were killed when the navy attacked them during a training exercise.\n",
            "('이밖에 경찰은 15일 바그다드에서 30발의 총탄을 맞은 시신 몇 구를 바그다드에서 발견했다.', 'Separately, police said 30 bullet-riddled bodies were found by Iraqi police across the capital on Sunday.')\n",
            "pair 0 : 이밖에 경찰은 15일 바그다드에서 30발의 총탄을 맞은 시신 몇 구를 바그다드에서 발견했다.\n",
            "pair 1 : Separately, police said 30 bullet-riddled bodies were found by Iraqi police across the capital on Sunday.\n",
            "('아르헨티나는 경기 시작 30분만에 4-0으로 뒤졌으며 한 시간이 지난 뒤에는 스코어가 8-0으로 벌여져 더 이상 추격이 불가능한 상황까지 몰렸다.', 'Within the hour, the score was 8-0 and the Argentines had buckled for good.')\n",
            "pair 0 : 아르헨티나는 경기 시작 30분만에 4-0으로 뒤졌으며 한 시간이 지난 뒤에는 스코어가 8-0으로 벌여져 더 이상 추격이 불가능한 상황까지 몰렸다.\n",
            "pair 1 : Within the hour, the score was 8-0 and the Argentines had buckled for good.\n",
            "('무어 감독은 자신의 영화를 일종의 “공정하며 균형 감각을 갖춘 저널리즘”으로 가장하려는 노력을 하지 않는다고 밝혔다.', 'He says he\\'s not trying to pretend that it\\'s some sort of \"\"fair and balanced journalism.')\n",
            "pair 0 : 무어 감독은 자신의 영화를 일종의 “공정하며 균형 감각을 갖춘 저널리즘”으로 가장하려는 노력을 하지 않는다고 밝혔다.\n",
            "pair 1 : He says he's not trying to pretend that it's some sort of \"\"fair and balanced journalism.\n",
            "('그는 2006년 12월 31일 자신의 두 번째 5년 재임기간이 끝난 이후 차기 유엔 사무총장 후보인 반기문 외교통상부장관과 회담을 가질 계획이며 코리아 타임스는 코피 아난 사무총장이 차기 유엔 사무총장의 다음 차례는 아시아라는 지역 순환 원칙에 대해 긍정했다고 보도했다.', 'The Korea Times reports Annan has said that an Asian candidate should replace him.')\n",
            "pair 0 : 그는 2006년 12월 31일 자신의 두 번째 5년 재임기간이 끝난 이후 차기 유엔 사무총장 후보인 반기문 외교통상부장관과 회담을 가질 계획이며 코리아 타임스는 코피 아난 사무총장이 차기 유엔 사무총장의 다음 차례는 아시아라는 지역 순환 원칙에 대해 긍정했다고 보도했다.\n",
            "pair 1 : The Korea Times reports Annan has said that an Asian candidate should replace him.\n",
            "('버핏 회장은 성명에서 “컨설팅이나 자세한 연구도 할 필요 없이 제이 프리츠커가 만족할 만한 방법으로 이번 인수가 이루어졌다”며 “5년에서 6년 뒤 동업자로 일할 수 있어 기쁘다”고 밝혔다.', '\"Our transaction was done just the way Jay would have liked it to be done no consultants or studies,\" Buffett said in the statement. \"I am pleased that over the next five to six years, we will be partnering and working ... in continuing to build Marmon.')\n",
            "pair 0 : 버핏 회장은 성명에서 “컨설팅이나 자세한 연구도 할 필요 없이 제이 프리츠커가 만족할 만한 방법으로 이번 인수가 이루어졌다”며 “5년에서 6년 뒤 동업자로 일할 수 있어 기쁘다”고 밝혔다.\n",
            "pair 1 : \"Our transaction was done just the way Jay would have liked it to be done no consultants or studies,\" Buffett said in the statement. \"I am pleased that over the next five to six years, we will be partnering and working ... in continuing to build Marmon.\n",
            "('각종 사이즈의 거북이와 풀을 뜯어먹는 사슴과 거대한 칠면조도 ‘정글 가든스’에서 만날 수 있다.', 'Rabbits freeze in fields, egrets and huge blue herons stalk fish along streams and ponds, deer nibble grass, giant turkey vultures perch in trees, all sizes of turtles sun themselves.')\n",
            "pair 0 : 각종 사이즈의 거북이와 풀을 뜯어먹는 사슴과 거대한 칠면조도 ‘정글 가든스’에서 만날 수 있다.\n",
            "pair 1 : Rabbits freeze in fields, egrets and huge blue herons stalk fish along streams and ponds, deer nibble grass, giant turkey vultures perch in trees, all sizes of turtles sun themselves.\n",
            "('바베나르가 유명인사인 고객이 자신의 예술작품을 샀다는 내용의 루머를 받아 넘기지 않았을 당시 계속 자신의 포트폴리오를 더 진행시켜 나가고 있었고 ‘탄생텐트(Birthingtent)’와 ‘샤워텐트(Showertent)’등 다양한 형태의 텐트를 구상하고 있었다.', \"When he's not fending off rumors about well-heeled customers buying his art, Wapenaar continues to expand his portfolio, exploring different types of tent sculptures including the Birthingtent and the Showertent.\")\n",
            "pair 0 : 바베나르가 유명인사인 고객이 자신의 예술작품을 샀다는 내용의 루머를 받아 넘기지 않았을 당시 계속 자신의 포트폴리오를 더 진행시켜 나가고 있었고 ‘탄생텐트(Birthingtent)’와 ‘샤워텐트(Showertent)’등 다양한 형태의 텐트를 구상하고 있었다.\n",
            "pair 1 : When he's not fending off rumors about well-heeled customers buying his art, Wapenaar continues to expand his portfolio, exploring different types of tent sculptures including the Birthingtent and the Showertent.\n"
          ]
        }
      ]
    },
    {
      "cell_type": "markdown",
      "source": [
        "### 2) 데이터 정제"
      ],
      "metadata": {
        "id": "xnxLErUCzbLL"
      }
    },
    {
      "cell_type": "code",
      "source": [
        "def preprocess_sentence(sentence, e_token=False):\n",
        "    sentence = sentence.lower().strip()\n",
        "    sentence = re.sub(r\"([?.!,])\", r\" \\1 \", sentence)\n",
        "    sentence = re.sub(r'[\" \"]+', \" \", sentence)\n",
        "    sentence = re.sub(r\"[^가-힣ㄱ-ㅎㅏ-ㅣa-zA-Z?.!,]+\", \" \", sentence)\n",
        "    sentence = sentence.strip()\n",
        "\n",
        "    return sentence"
      ],
      "metadata": {
        "id": "0pU-9je5zi_0"
      },
      "execution_count": 51,
      "outputs": []
    },
    {
      "cell_type": "markdown",
      "source": [
        "### 3) SentencePiece\n",
        "- https://github.com/google/sentencepiece"
      ],
      "metadata": {
        "id": "JklnNGeK2Fic"
      }
    },
    {
      "cell_type": "code",
      "source": [
        "eng_corpus = []\n",
        "kor_corpus = []\n",
        "\n",
        "#num_examples = 20000\n",
        "\n",
        "for pair in cleaned_corpus:#[:num_examples]:\n",
        "    kor_corpus.append(preprocess_sentence(pair[0]))\n",
        "    eng_corpus.append(preprocess_sentence(pair[1]))\n",
        "\n",
        "print(\"한국어:\", kor_corpus[100])   # go away !\n",
        "print(\"영어:\", eng_corpus[100])"
      ],
      "metadata": {
        "colab": {
          "base_uri": "https://localhost:8080/"
        },
        "id": "MN3DXp040NwP",
        "outputId": "151d48d5-db18-48da-f18d-d18eb71cddd8"
      },
      "execution_count": 52,
      "outputs": [
        {
          "output_type": "stream",
          "name": "stdout",
          "text": [
            "한국어: 여름방학 중에는 고 생들이 이 곳 한샘학원에서 공부한다 .\n",
            "영어: during summer vacation , high school seniors study at hansamm .\n"
          ]
        }
      ]
    },
    {
      "cell_type": "markdown",
      "source": [
        "- https://paul-hyun.github.io/vocab-with-sentencepiece/\n",
        "- https://www.programcreek.com/python/example/117288/sentencepiece.SentencePieceProcessor"
      ],
      "metadata": {
        "id": "Y_P2UQxgFdoF"
      }
    },
    {
      "cell_type": "code",
      "source": [
        "def generate_tokenizer(corpus, Mtype, vocab_size, ko_en):\n",
        "  temp_file = '/content/drive/MyDrive/인공지능/아이펠/GoingDeeper/제출용/data/transformer_translator/ratings_train_{}.txt.temp'.format(ko_en)\n",
        "  model_prefix = 'spm_{}'.format(ko_en)\n",
        "  with open(temp_file, 'w') as f:\n",
        "      for row in corpus:   # 이전 스텝에서 정제했던 corpus를 활용합니다.\n",
        "          f.write(str(row) + '\\n')\n",
        "\n",
        "  if Mtype == 'bpe' or Mtype == 'unigram' or Mtype == 'char'or Mtype == 'word':\n",
        "    spm.SentencePieceTrainer.Train(\n",
        "        f\"--input={temp_file} --model_prefix={model_prefix} --vocab_size={vocab_size} --model_type={Mtype}\"+\n",
        "        \" --pad_id=0 --pad_piece=[PAD]\" + \n",
        "        \" --unk_id=1 --unk_piece=[UNK]\" + \n",
        "        \" --bos_id=2 --bos_piece=[BOS]\" + \n",
        "        \" --eos_id=3 --eos_piece=[EOS]\".format(temp_file, model_prefix, vocab_size, Mtype)    \n",
        "    )\n",
        "  else:\n",
        "    print(\"Mtype를 잘 못 입력 했습니다 'bpe', 'unigram', 'char', 'word' 중 하나를 입력해주세요\")\n",
        "    if __name__ == \"__main__\": # 참조 : https://www.delftstack.com/ko/howto/python/python-exit-if-statement/\n",
        "      load_data(0)  \n",
        "      print(\"Broken out\")\n",
        "  \n",
        "  #위 Train에서  --model_type = 'unigram'이 디폴트 적용되어 있습니다. --model_type = 'bpe' 로 옵션을 주어 변경할 수 있습니다.\n",
        "\n",
        "  s = spm.SentencePieceProcessor()\n",
        "  s.Load(model_prefix+'.model')\n",
        "  if model_prefix == 'spm_en':\n",
        "    s.set_encode_extra_options(\"bos:eos\")\n",
        "\n",
        "  return s"
      ],
      "metadata": {
        "id": "w0Mmn3cn2bCG"
      },
      "execution_count": 53,
      "outputs": []
    },
    {
      "cell_type": "markdown",
      "source": [
        "- bpe or unigram 선정 \n",
        "  - 참고자료 : https://wikidocs.net/22592"
      ],
      "metadata": {
        "id": "0JaBcS8G6QfD"
      }
    },
    {
      "cell_type": "code",
      "source": [
        "# unigram\n",
        "ko_tokenizer = generate_tokenizer(kor_corpus, 'unigram', 20000, 'ko')\n",
        "en_tokenizer = generate_tokenizer(eng_corpus, 'unigram', 20000, 'en')\n",
        "\n",
        "# bpe\n",
        "# ko_tokenizer = generate_tokenizer(kor_corpus, 'bpe', 20000, 'ko')\n",
        "# en_tokenizer = generate_tokenizer(eng_corpus, 'bpe', 20000, 'en')\n",
        "\n",
        "# char\n",
        "# ko_tokenizer = generate_tokenizer(kor_corpus, 'char', 20000, 'ko')\n",
        "# en_tokenizer = generate_tokenizer(eng_corpus, 'char', 20000, 'en')\n",
        "\n",
        "# word\n",
        "# ko_tokenizer = generate_tokenizer(kor_corpus, 'word', 20000, 'ko')\n",
        "# en_tokenizer = generate_tokenizer(eng_corpus, 'word', 20000, 'en')"
      ],
      "metadata": {
        "id": "q93kMyaN24qT"
      },
      "execution_count": 54,
      "outputs": []
    },
    {
      "cell_type": "code",
      "source": [
        "!ls -l spm_ko*"
      ],
      "metadata": {
        "colab": {
          "base_uri": "https://localhost:8080/"
        },
        "id": "YcxBXwJwAbwe",
        "outputId": "86c24ad9-1c33-403c-ef5a-0b10b0095cea"
      },
      "execution_count": 55,
      "outputs": [
        {
          "output_type": "stream",
          "name": "stdout",
          "text": [
            "-rw-r--r-- 1 root root 623747 Oct 16 11:40 spm_ko.model\n",
            "-rw-r--r-- 1 root root 403547 Oct 16 11:40 spm_ko.vocab\n"
          ]
        }
      ]
    },
    {
      "cell_type": "code",
      "source": [
        "!ls -l spm_en*"
      ],
      "metadata": {
        "colab": {
          "base_uri": "https://localhost:8080/"
        },
        "id": "l8-haG6Z3GvW",
        "outputId": "47c24a8d-93a4-45e3-c647-c06af321aa94"
      },
      "execution_count": 56,
      "outputs": [
        {
          "output_type": "stream",
          "name": "stdout",
          "text": [
            "-rw-r--r-- 1 root root 575645 Oct 16 11:40 spm_en.model\n",
            "-rw-r--r-- 1 root root 355536 Oct 16 11:40 spm_en.vocab\n"
          ]
        }
      ]
    },
    {
      "cell_type": "markdown",
      "source": [
        "### 4) 토큰화\n",
        "- https://lsjsj92.tistory.com/600\n",
        "- https://wikidocs.net/86657"
      ],
      "metadata": {
        "id": "GT3rR4XlL-Sr"
      }
    },
    {
      "cell_type": "markdown",
      "source": [
        "- padding : pre or post\n",
        "  - post는 뒤에 0을 처리한다.\n",
        "  - pre는 앞에 0을 처리한다.\n",
        "  - encoding에서는 뒤에 중요한 정보가 많아야 하기에 pre를 지정해본다.\n",
        "  - decoding에서는 앞에 중요한 정보가 나와야 하기에 post로 지정해본다.\n",
        "  - 그리고 둘다 post로 지정한 결과와 비교해 본다."
      ],
      "metadata": {
        "id": "tEFQ5KlkWuHH"
      }
    },
    {
      "cell_type": "code",
      "source": [
        "src_corpus = []\n",
        "tgt_corpus = []\n",
        "\n",
        "assert len(kor_corpus) == len(eng_corpus)\n",
        "\n",
        "# 토큰의 길이가 50 이하인 문장만 남깁니다. \n",
        "for idx in tqdm(range(len(kor_corpus))):\n",
        "        ko_pair = ko_tokenizer.encode_as_ids(kor_corpus[idx])\n",
        "        en_pair = en_tokenizer.encode_as_ids(eng_corpus[idx])\n",
        "        if len(ko_pair) <= 50 and len(en_pair) <= 50: # 영어는 52로 지정한 이유는 eos, bos가 추가되었기 때문이다.\n",
        "            src_corpus.append(ko_pair)\n",
        "            tgt_corpus.append(en_pair)\n",
        "\n",
        "# 패딩처리를 완료하여 학습용 데이터를 완성합니다. \n",
        "# 둘다 post\n",
        "enc_train = tf.keras.preprocessing.sequence.pad_sequences(src_corpus, padding='post')\n",
        "dec_train = tf.keras.preprocessing.sequence.pad_sequences(tgt_corpus, padding='post')\n",
        "\n",
        "# encoding = pre, decoding = post로 지정\n",
        "# enc_train = tf.keras.preprocessing.sequence.pad_sequences(src_corpus, padding='pre')\n",
        "# dec_train = tf.keras.preprocessing.sequence.pad_sequences(tgt_corpus, padding='post')"
      ],
      "metadata": {
        "colab": {
          "base_uri": "https://localhost:8080/",
          "height": 49,
          "referenced_widgets": [
            "5185082a551c4f168b57d12801195845",
            "4bfa95acc3e14ce8b81a1f36efe75d37",
            "0b793de1ac6640cf89ea7a4fc716cc47",
            "16b6ed23d78b4cb59b68acf6e0e25883",
            "0640fd78443a4846ba1ef4585e4a4b2e",
            "68f3ddf636e449a191b6588c7ade2fff",
            "c7e64337cec64be5b537eaf53da2c131",
            "bd7d3e1be5484beaa7767a5dcfb71c08",
            "3a6c4698cda443498e470b7d7a50ecb2",
            "8616cbd2f19845b5b876287ccd8463d8",
            "2e0860961b9846cf87080efa7e0a1fbe"
          ]
        },
        "id": "2zaWohVtfFHA",
        "outputId": "f9af0c7c-d915-4050-bf93-d2863681a433"
      },
      "execution_count": 57,
      "outputs": [
        {
          "output_type": "display_data",
          "data": {
            "text/plain": [
              "  0%|          | 0/78968 [00:00<?, ?it/s]"
            ],
            "application/vnd.jupyter.widget-view+json": {
              "version_major": 2,
              "version_minor": 0,
              "model_id": "5185082a551c4f168b57d12801195845"
            }
          },
          "metadata": {}
        }
      ]
    },
    {
      "cell_type": "code",
      "source": [
        "# 훈련 데이터와 검증 데이터로 분리하기\n",
        "enc_train, enc_test, dec_train, dec_test = \\\n",
        "train_test_split(enc_train, dec_train, test_size=0.2)\n",
        "\n",
        "enc_train_size = len(enc_train)\n",
        "dec_train_size = len(dec_train)\n",
        "enc_test_size = len(enc_test)\n",
        "dec_test_size = len(dec_test)\n",
        "print(\"한국어 train Size:\", enc_train_size)\n",
        "print(\"영어 train Size:\", dec_train_size)\n",
        "print(\"한국어 test Size:\", enc_test_size)\n",
        "print(\"영어 test Size:\", dec_test_size)\n",
        "print('한국어 shape : ', enc_train.shape)\n",
        "print('영어 shape : ', dec_train.shape)\n"
      ],
      "metadata": {
        "colab": {
          "base_uri": "https://localhost:8080/"
        },
        "id": "0vsbNTj6kIjh",
        "outputId": "3e7427e3-ac1b-4402-f77e-cf05482f67b0"
      },
      "execution_count": 58,
      "outputs": [
        {
          "output_type": "stream",
          "name": "stdout",
          "text": [
            "한국어 train Size: 57714\n",
            "영어 train Size: 57714\n",
            "한국어 test Size: 14429\n",
            "영어 test Size: 14429\n",
            "한국어 shape :  (57714, 50)\n",
            "영어 shape :  (57714, 50)\n"
          ]
        }
      ]
    },
    {
      "cell_type": "code",
      "source": [
        "# src_corpus = []\n",
        "# tgt_corpus = []\n",
        "\n",
        "# num_examples = 20000\n",
        "\n",
        "# for pair in cleaned_corpus[:num_examples]:\n",
        "#     ko_pair = ko_tokenizer.encode_as_pieces(pair[0])\n",
        "#     en_pair = en_tokenizer.encode_as_pieces(pair[1])\n",
        "#     if len(ko_pair) >= 50 or len(en_pair) >= 52:\n",
        "#         src_corpus.append(ko_pair)\n",
        "#         tgt_corpus.append(en_pair)\n",
        "\n",
        "# print(\"한국어:\", src_corpus[100])   # go away !\n",
        "# print(\"영어:\", tgt_corpus[100])"
      ],
      "metadata": {
        "id": "Xg8LNlBnZQ9a"
      },
      "execution_count": 59,
      "outputs": []
    },
    {
      "cell_type": "code",
      "source": [
        "# def tokenize(corpus):\n",
        "#     tokenizer = tf.keras.preprocessing.text.Tokenizer(filters='')\n",
        "#     tokenizer.fit_on_texts(corpus)\n",
        "\n",
        "#     tensor = tokenizer.texts_to_sequences(corpus)\n",
        "\n",
        "#     tensor = tf.keras.preprocessing.sequence.pad_sequences(tensor, padding='post')\n",
        "\n",
        "#     return tensor, tokenizer"
      ],
      "metadata": {
        "id": "LVjipDUDaZ4o"
      },
      "execution_count": 60,
      "outputs": []
    },
    {
      "cell_type": "code",
      "source": [
        "# # 토큰화하기\n",
        "# enc_tensor, enc_tokenizer = tokenize(src_corpus)\n",
        "# dec_tensor, dec_tokenizer = tokenize(tgt_corpus)\n",
        "\n",
        "# # 훈련 데이터와 검증 데이터로 분리하기\n",
        "# enc_train, enc_val, dec_train, dec_val = \\\n",
        "# train_test_split(enc_train, dec_train, test_size=0.2)\n",
        "\n",
        "# print(\"한국어 Vocab Size:\", len(enc_tokenizer.index_word))\n",
        "# print(\"영어 Vocab Size:\", len(dec_tokenizer.index_word))"
      ],
      "metadata": {
        "id": "qJat6LxNaazg"
      },
      "execution_count": 61,
      "outputs": []
    },
    {
      "cell_type": "markdown",
      "source": [
        "## 4. 모델 설계"
      ],
      "metadata": {
        "id": "F2xkL8hAwhzp"
      }
    },
    {
      "cell_type": "code",
      "source": [
        "def positional_encoding(pos, d_model):\n",
        "    def cal_angle(position, i):\n",
        "        return position / np.power(10000, int(i) / d_model)\n",
        "\n",
        "    def get_posi_angle_vec(position):\n",
        "        return [cal_angle(position, i) for i in range(d_model)]\n",
        "\n",
        "    sinusoid_table = np.array([get_posi_angle_vec(pos_i) for pos_i in range(pos)])\n",
        "    sinusoid_table[:, 0::2] = np.sin(sinusoid_table[:, 0::2])\n",
        "    sinusoid_table[:, 1::2] = np.cos(sinusoid_table[:, 1::2])\n",
        "    return sinusoid_table"
      ],
      "metadata": {
        "id": "PclniQ0lwinw"
      },
      "execution_count": 62,
      "outputs": []
    },
    {
      "cell_type": "code",
      "source": [
        "class MultiHeadAttention(tf.keras.layers.Layer):\n",
        "    def __init__(self, d_model, num_heads):\n",
        "        super(MultiHeadAttention, self).__init__()\n",
        "        self.num_heads = num_heads\n",
        "        self.d_model = d_model\n",
        "            \n",
        "        self.depth = d_model // self.num_heads\n",
        "            \n",
        "        self.W_q = tf.keras.layers.Dense(d_model)\n",
        "        self.W_k = tf.keras.layers.Dense(d_model)\n",
        "        self.W_v = tf.keras.layers.Dense(d_model)\n",
        "            \n",
        "        self.linear = tf.keras.layers.Dense(d_model)\n",
        "\n",
        "    def scaled_dot_product_attention(self, Q, K, V, mask):\n",
        "        d_k = tf.cast(K.shape[-1], tf.float32)\n",
        "        QK = tf.matmul(Q, K, transpose_b=True)\n",
        "\n",
        "        scaled_qk = QK / tf.math.sqrt(d_k)\n",
        "\n",
        "        if mask is not None: scaled_qk += (mask * -1e9)  \n",
        "\n",
        "        attentions = tf.nn.softmax(scaled_qk, axis=-1)\n",
        "        out = tf.matmul(attentions, V)\n",
        "\n",
        "        return out, attentions\n",
        "            \n",
        "\n",
        "    def split_heads(self, x):\n",
        "        batch_size = x.shape[0]\n",
        "        split_x = tf.reshape(x, (batch_size, -1, self.num_heads, self.depth))\n",
        "        split_x = tf.transpose(split_x, perm=[0, 2, 1, 3])\n",
        "\n",
        "        return split_x\n",
        "\n",
        "    def combine_heads(self, x):\n",
        "        batch_size = x.shape[0]\n",
        "        combined_x = tf.transpose(x, perm=[0, 2, 1, 3])\n",
        "        combined_x = tf.reshape(combined_x, (batch_size, -1, self.d_model))\n",
        "\n",
        "        return combined_x\n",
        "\n",
        "        \n",
        "    def call(self, Q, K, V, mask):\n",
        "        WQ = self.W_q(Q)\n",
        "        WK = self.W_k(K)\n",
        "        WV = self.W_v(V)\n",
        "        \n",
        "        WQ_splits = self.split_heads(WQ)\n",
        "        WK_splits = self.split_heads(WK)\n",
        "        WV_splits = self.split_heads(WV)\n",
        "            \n",
        "        out, attention_weights = self.scaled_dot_product_attention(\n",
        "            WQ_splits, WK_splits, WV_splits, mask)\n",
        "    \t\t\t\t        \n",
        "        out = self.combine_heads(out)\n",
        "        out = self.linear(out)\n",
        "                \n",
        "        return out, attention_weights"
      ],
      "metadata": {
        "id": "6EDEJBlWb-r4"
      },
      "execution_count": 63,
      "outputs": []
    },
    {
      "cell_type": "code",
      "source": [
        "class PoswiseFeedForwardNet(tf.keras.layers.Layer):\n",
        "    def __init__(self, d_model, d_ff):\n",
        "        super(PoswiseFeedForwardNet, self).__init__()\n",
        "        self.w_1 = tf.keras.layers.Dense(d_ff, activation='relu')\n",
        "        self.w_2 = tf.keras.layers.Dense(d_model)\n",
        "\n",
        "    def call(self, x):\n",
        "        out = self.w_1(x)\n",
        "        out = self.w_2(out)\n",
        "            \n",
        "        return out"
      ],
      "metadata": {
        "id": "LZL55rB5cBMx"
      },
      "execution_count": 64,
      "outputs": []
    },
    {
      "cell_type": "code",
      "source": [
        "class EncoderLayer(tf.keras.layers.Layer):\n",
        "    def __init__(self, d_model, n_heads, d_ff, dropout):\n",
        "        super(EncoderLayer, self).__init__()\n",
        "\n",
        "        self.enc_self_attn = MultiHeadAttention(d_model, n_heads)\n",
        "        self.ffn = PoswiseFeedForwardNet(d_model, d_ff)\n",
        "\n",
        "        self.norm_1 = tf.keras.layers.LayerNormalization(epsilon=1e-6)\n",
        "        self.norm_2 = tf.keras.layers.LayerNormalization(epsilon=1e-6)\n",
        "\n",
        "        self.dropout = tf.keras.layers.Dropout(dropout)\n",
        "        \n",
        "    def call(self, x, mask):\n",
        "\n",
        "        \"\"\"\n",
        "        Multi-Head Attention\n",
        "        \"\"\"\n",
        "        residual = x\n",
        "        out = self.norm_1(x)\n",
        "        out, enc_attn = self.enc_self_attn(out, out, out, mask)\n",
        "        out = self.dropout(out)\n",
        "        out += residual\n",
        "        \n",
        "        \"\"\"\n",
        "        Position-Wise Feed Forward Network\n",
        "        \"\"\"\n",
        "        residual = out\n",
        "        out = self.norm_2(out)\n",
        "        out = self.ffn(out)\n",
        "        out = self.dropout(out)\n",
        "        out += residual\n",
        "        \n",
        "        return out, enc_attn"
      ],
      "metadata": {
        "id": "iyy8GZ4RcC9W"
      },
      "execution_count": 65,
      "outputs": []
    },
    {
      "cell_type": "code",
      "source": [
        "class DecoderLayer(tf.keras.layers.Layer):\n",
        "    def __init__(self, d_model, num_heads, d_ff, dropout):\n",
        "        super(DecoderLayer, self).__init__()\n",
        "\n",
        "        self.dec_self_attn = MultiHeadAttention(d_model, num_heads)\n",
        "        self.enc_dec_attn = MultiHeadAttention(d_model, num_heads)\n",
        "\n",
        "        self.ffn = PoswiseFeedForwardNet(d_model, d_ff)\n",
        "\n",
        "        self.norm_1 = tf.keras.layers.LayerNormalization(epsilon=1e-6)\n",
        "        self.norm_2 = tf.keras.layers.LayerNormalization(epsilon=1e-6)\n",
        "        self.norm_3 = tf.keras.layers.LayerNormalization(epsilon=1e-6)\n",
        "\n",
        "        self.dropout = tf.keras.layers.Dropout(dropout)\n",
        "    \n",
        "    def call(self, x, enc_out, causality_mask, padding_mask):\n",
        "\n",
        "        \"\"\"\n",
        "        Masked Multi-Head Attention\n",
        "        \"\"\"\n",
        "        residual = x\n",
        "        out = self.norm_1(x)\n",
        "        out, dec_attn = self.dec_self_attn(out, out, out, padding_mask)\n",
        "        out = self.dropout(out)\n",
        "        out += residual\n",
        "\n",
        "        \"\"\"\n",
        "        Multi-Head Attention\n",
        "        \"\"\"\n",
        "        residual = out\n",
        "        out = self.norm_2(out)\n",
        "        out, dec_enc_attn = self.enc_dec_attn(out, enc_out, enc_out, causality_mask)\n",
        "        out = self.dropout(out)\n",
        "        out += residual\n",
        "        \n",
        "        \"\"\"\n",
        "        Position-Wise Feed Forward Network\n",
        "        \"\"\"\n",
        "        residual = out\n",
        "        out = self.norm_3(out)\n",
        "        out = self.ffn(out)\n",
        "        out = self.dropout(out)\n",
        "        out += residual\n",
        "\n",
        "        return out, dec_attn, dec_enc_attn\n",
        " "
      ],
      "metadata": {
        "id": "rZqwP2v3cEn8"
      },
      "execution_count": 66,
      "outputs": []
    },
    {
      "cell_type": "code",
      "source": [
        "class Encoder(tf.keras.Model):\n",
        "    def __init__(self,\n",
        "                 n_layers,\n",
        "                 d_model,\n",
        "                 n_heads,\n",
        "                 d_ff,\n",
        "                 dropout):\n",
        "        super(Encoder, self).__init__()\n",
        "        self.n_layers = n_layers\n",
        "        self.enc_layers = [EncoderLayer(d_model, n_heads, d_ff, dropout) \n",
        "                        for _ in range(n_layers)]\n",
        "        \n",
        "    def call(self, x, mask):\n",
        "        out = x\n",
        "    \n",
        "        enc_attns = list()\n",
        "        for i in range(self.n_layers):\n",
        "            out, enc_attn = self.enc_layers[i](out, mask)\n",
        "            enc_attns.append(enc_attn)\n",
        "        \n",
        "        return out, enc_attns"
      ],
      "metadata": {
        "id": "VlVGdecGcGKY"
      },
      "execution_count": 67,
      "outputs": []
    },
    {
      "cell_type": "code",
      "source": [
        "class Decoder(tf.keras.Model):\n",
        "    def __init__(self,\n",
        "                 n_layers,\n",
        "                 d_model,\n",
        "                 n_heads,\n",
        "                 d_ff,\n",
        "                 dropout):\n",
        "        super(Decoder, self).__init__()\n",
        "        self.n_layers = n_layers\n",
        "        self.dec_layers = [DecoderLayer(d_model, n_heads, d_ff, dropout) \n",
        "                            for _ in range(n_layers)]\n",
        "                            \n",
        "                            \n",
        "    def call(self, x, enc_out, causality_mask, padding_mask):\n",
        "        out = x\n",
        "    \n",
        "        dec_attns = list()\n",
        "        dec_enc_attns = list()\n",
        "        for i in range(self.n_layers):\n",
        "            out, dec_attn, dec_enc_attn = \\\n",
        "            self.dec_layers[i](out, enc_out, causality_mask, padding_mask)\n",
        "\n",
        "            dec_attns.append(dec_attn)\n",
        "            dec_enc_attns.append(dec_enc_attn)\n",
        "\n",
        "        return out, dec_attns, dec_enc_attns"
      ],
      "metadata": {
        "id": "jM_9BCGOcHN4"
      },
      "execution_count": 68,
      "outputs": []
    },
    {
      "cell_type": "code",
      "source": [
        "class Transformer(tf.keras.Model):\n",
        "    def __init__(self,\n",
        "                    n_layers,\n",
        "                    d_model,\n",
        "                    n_heads,\n",
        "                    d_ff,\n",
        "                    src_vocab_size,\n",
        "                    tgt_vocab_size,\n",
        "                    pos_len,\n",
        "                    dropout=0.2,\n",
        "                    shared=True):\n",
        "        super(Transformer, self).__init__()\n",
        "        self.d_model = tf.cast(d_model, tf.float32)\n",
        "\n",
        "        self.enc_emb = tf.keras.layers.Embedding(src_vocab_size, d_model)\n",
        "        self.dec_emb = tf.keras.layers.Embedding(tgt_vocab_size, d_model)\n",
        "\n",
        "        self.pos_encoding = positional_encoding(pos_len, d_model)\n",
        "        self.dropout = tf.keras.layers.Dropout(dropout)\n",
        "\n",
        "        self.encoder = Encoder(n_layers, d_model, n_heads, d_ff, dropout)\n",
        "        self.decoder = Decoder(n_layers, d_model, n_heads, d_ff, dropout)\n",
        "\n",
        "        self.fc = tf.keras.layers.Dense(tgt_vocab_size)\n",
        "\n",
        "        self.shared = shared\n",
        "\n",
        "        if shared: self.fc.set_weights(tf.transpose(self.dec_emb.weights))\n",
        "\n",
        "    def embedding(self, emb, x):\n",
        "        seq_len = x.shape[1]\n",
        "        out = emb(x)\n",
        "\n",
        "        if self.shared: out *= tf.math.sqrt(self.d_model)\n",
        "\n",
        "        out += self.pos_encoding[np.newaxis, ...][:, :seq_len, :]\n",
        "        out = self.dropout(out)\n",
        "\n",
        "        return out\n",
        "\n",
        "        \n",
        "    def call(self, enc_in, dec_in, enc_mask, causality_mask, dec_mask):\n",
        "        enc_in = self.embedding(self.enc_emb, enc_in)\n",
        "        dec_in = self.embedding(self.dec_emb, dec_in)\n",
        "\n",
        "        enc_out, enc_attns = self.encoder(enc_in, enc_mask)\n",
        "        \n",
        "        dec_out, dec_attns, dec_enc_attns = \\\n",
        "        self.decoder(dec_in, enc_out, causality_mask, dec_mask)\n",
        "        \n",
        "        logits = self.fc(dec_out)\n",
        "        \n",
        "        return logits, enc_attns, dec_attns, dec_enc_attns"
      ],
      "metadata": {
        "id": "eU0mJOHycIkZ"
      },
      "execution_count": 69,
      "outputs": []
    },
    {
      "cell_type": "code",
      "source": [
        "def generate_padding_mask(seq):\n",
        "    seq = tf.cast(tf.math.equal(seq, 0), tf.float32)\n",
        "    return seq[:, tf.newaxis, tf.newaxis, :]\n",
        "\n",
        "def generate_causality_mask(src_len, tgt_len):\n",
        "    mask = 1 - np.cumsum(np.eye(src_len, tgt_len), 0)\n",
        "    return tf.cast(mask, tf.float32)\n",
        "\n",
        "def generate_masks(src, tgt):\n",
        "    enc_mask = generate_padding_mask(src)\n",
        "    dec_mask = generate_padding_mask(tgt)\n",
        "\n",
        "    dec_enc_causality_mask = generate_causality_mask(tgt.shape[1], src.shape[1])\n",
        "    dec_enc_mask = tf.maximum(enc_mask, dec_enc_causality_mask)\n",
        "\n",
        "    dec_causality_mask = generate_causality_mask(tgt.shape[1], tgt.shape[1])\n",
        "    dec_mask = tf.maximum(dec_mask, dec_causality_mask)\n",
        "\n",
        "    return enc_mask, dec_enc_mask, dec_mask"
      ],
      "metadata": {
        "id": "7UfzccdycKri"
      },
      "execution_count": 70,
      "outputs": []
    },
    {
      "cell_type": "code",
      "source": [
        "import matplotlib.pyplot as plt\n",
        "\n",
        "batch, length = 16, 20\n",
        "src_padding = 5\n",
        "tgt_padding = 15\n",
        "\n",
        "src_pad = tf.zeros(shape=(batch, src_padding))\n",
        "tgt_pad = tf.zeros(shape=(batch, tgt_padding))\n",
        "\n",
        "sample_data = tf.ones(shape=(batch, length))\n",
        "\n",
        "sample_src = tf.concat([sample_data, src_pad], axis=-1)\n",
        "sample_tgt = tf.concat([sample_data, tgt_pad], axis=-1)\n",
        "\n",
        "enc_mask, dec_enc_mask, dec_mask = \\\n",
        "generate_masks(sample_src, sample_tgt)\n",
        "\n",
        "fig = plt.figure(figsize=(7, 7))\n",
        "\n",
        "ax1 = fig.add_subplot(131)\n",
        "ax2 = fig.add_subplot(132)\n",
        "ax3 = fig.add_subplot(133)\n",
        "\n",
        "ax1.set_title('1) Encoder Mask')\n",
        "ax2.set_title('2) Encoder-Decoder Mask')\n",
        "ax3.set_title('3) Decoder Mask')\n",
        "\n",
        "ax1.imshow(enc_mask[:3, 0, 0].numpy(), cmap='Dark2')\n",
        "ax2.imshow(dec_enc_mask[0, 0].numpy(), cmap='Dark2')\n",
        "ax3.imshow(dec_mask[0, 0].numpy(), cmap='Dark2')\n",
        "\n",
        "plt.show()"
      ],
      "metadata": {
        "colab": {
          "base_uri": "https://localhost:8080/",
          "height": 224
        },
        "id": "c727t9chcNJ9",
        "outputId": "01447cf7-eb3d-4b4b-91a3-f0cec73e8940"
      },
      "execution_count": 71,
      "outputs": [
        {
          "output_type": "display_data",
          "data": {
            "text/plain": [
              "<Figure size 504x504 with 3 Axes>"
            ],
            "image/png": "[encoded data removed]"
          },
          "metadata": {
            "needs_background": "light"
          }
        }
      ]
    },
    {
      "cell_type": "code",
      "source": [
        "class LearningRateScheduler(tf.keras.optimizers.schedules.LearningRateSchedule):\n",
        "    def __init__(self, d_model, warmup_steps=4000):\n",
        "        super(LearningRateScheduler, self).__init__()\n",
        "        self.d_model = d_model\n",
        "        self.warmup_steps = warmup_steps\n",
        "    \n",
        "    def __call__(self, step):\n",
        "        arg1 = step ** -0.5\n",
        "        arg2 = step * (self.warmup_steps ** -1.5)\n",
        "        \n",
        "        return (self.d_model ** -0.5) * tf.math.minimum(arg1, arg2)"
      ],
      "metadata": {
        "id": "P7bjhGDHcPfs"
      },
      "execution_count": 72,
      "outputs": []
    },
    {
      "cell_type": "markdown",
      "source": [
        "## 5. 훈련하기\n",
        "\n",
        "1. 2 Layer를 가지는 Transformer를 선언하세요.\n",
        "(하이퍼파라미터는 자유롭게 조절합니다.)\n",
        "<br><br>\n",
        "2. 논문에서 사용한 것과 동일한 Learning Rate Scheduler를 선언하고, 이를 포함하는 Adam Optimizer를 선언하세요. (Optimizer의 파라미터 역시 논문과 동일하게 설정합니다.)\n",
        "<br><br>\n",
        "3. Loss 함수를 정의하세요.\n",
        "Sequence-to-sequence 모델에서 사용했던 Loss와 유사하되, Masking 되지 않은 입력의 개수로 Scaling하는 과정을 추가합니다. (트랜스포머가 모든 입력에 대한 Loss를 한 번에 구하기 때문입니다.)\n",
        "<br><br>\n",
        "4. train_step 함수를 정의하세요.\n",
        "입력 데이터에 알맞은 Mask를 생성하고, 이를 모델에 전달하여 연산에서 사용할 수 있게 합니다.\n",
        "<br><br>\n",
        "5. 학습을 진행합니다.\n",
        "매 Epoch 마다 제시된 예문에 대한 번역을 생성하고, 멋진 번역이 생성되면 그때의 하이퍼파라미터와 생성된 번역을 제출하세요!\n"
      ],
      "metadata": {
        "id": "xp2_SYBDwji9"
      }
    },
    {
      "cell_type": "markdown",
      "source": [
        "### 1) 2 Layer를 가지는 Transformer를 선언\n",
        "- 클래스에 대한 이해가 부족한 것 같음"
      ],
      "metadata": {
        "id": "LfwhACsAFbMF"
      }
    },
    {
      "cell_type": "code",
      "source": [
        "transformer = Transformer(n_layers=2, \n",
        "                          d_model=512,\n",
        "                          n_heads=8,\n",
        "                          d_ff=2048,\n",
        "                          src_vocab_size = enc_train_size,\n",
        "                          tgt_vocab_size = dec_train_size,\n",
        "                          pos_len=50,\n",
        "                          dropout=0.1,\n",
        "                          shared=True)"
      ],
      "metadata": {
        "id": "E4QO8JBIFZ7P"
      },
      "execution_count": 73,
      "outputs": []
    },
    {
      "cell_type": "markdown",
      "source": [
        "### 2) learning rate scheduler & Adam Optimizer 선언"
      ],
      "metadata": {
        "id": "Yvc4x9CVLgGs"
      }
    },
    {
      "cell_type": "code",
      "source": [
        "learning_rate = LearningRateScheduler(512)\n",
        "optimizer = tf.keras.optimizers.Adam(learning_rate,\n",
        "                                     beta_1=0.9,\n",
        "                                     beta_2=0.98, \n",
        "                                     epsilon=1e-9,\n",
        "                                     name='Adam')"
      ],
      "metadata": {
        "id": "EnTvU4KgLrVI"
      },
      "execution_count": 74,
      "outputs": []
    },
    {
      "cell_type": "markdown",
      "source": [
        "### 3) Loss 함수 정의"
      ],
      "metadata": {
        "id": "kE-ZxWDxMf3V"
      }
    },
    {
      "cell_type": "code",
      "source": [
        "loss_object = tf.keras.losses.SparseCategoricalCrossentropy(\n",
        "    from_logits=True, reduction='none')\n",
        "\n",
        "def loss_function(real, pred):\n",
        "    mask = tf.math.logical_not(tf.math.equal(real, 0))\n",
        "    loss_ = loss_object(real, pred)\n",
        "\n",
        "    # Masking 되지 않은 입력의 개수로 Scaling하는 과정\n",
        "    mask = tf.cast(mask, dtype=loss_.dtype)\n",
        "    loss_ *= mask\n",
        "\n",
        "    return tf.reduce_sum(loss_)/tf.reduce_sum(mask)"
      ],
      "metadata": {
        "id": "WOLQ7QHEMfw1"
      },
      "execution_count": 75,
      "outputs": []
    },
    {
      "cell_type": "markdown",
      "source": [
        "### 4) train_step 함수 정의\n",
        "- optimizer.apply_gradients() 사용법\n",
        "  - https://www.tensorflow.org/api_docs/python/tf/keras/optimizers/Optimizer\n",
        "- 해당 오류 해결 방법 : ![image.png](data:image/png;base64,iVBORw0KGgoAAAANSUhEUgAAAsYAAAB+CAYAAAAnbteEAAAAAXNSR0IArs4c6QAAAARnQU1BAACxjwv8YQUAAAAJcEhZcwAADsMAAA7DAcdvqGQAADy9SURBVHhe7Z0JfBfF+f+fXITcQMIN4b4VUBARBa2oeCHeoNZq61H1Z6v+rLUetbb91fvnT61/23pU6320HngCnoBcAqIgch9yhTshIQk5//OZ7843k3X3e+VLCOTzfr0m+e7s7Mw88zwz++zs7G5CrUIIIYQQQghp5iQ6/wkhhBBCCGnW0DEmhBBCCCFEQceYEEIIIYQQBR1jQgghhBBCFHSMCSGEEEIIUYR9K0XRmjXSMjdXUnNynJj4U7ptm1RXVEhWly5OjEjBV19Jh6OOcrb2D7uWLZN9hYXOVoDUVq2kTf/+zlbTZJmqd58+fSQpKcmJaX58++23MnjwYGeLEEIIIaThhHWMp1x1lfQ7/3zpPm6cEyNSsWePbFOOSZfjjnNi6lj1zjvSe8IEZysyFj/9tBRv2iSj/vAHJ0bkMeWI/7qoyNmKjKK1a6WqrExyBw50YkLz71NPFVHit8jODkQo2g0ZIiPvvNPZapqMU7r4z3/+I5mZmU5M8wNOMZxjQgghhJB4EdNSiuING2TO//yPs1WfD372M+dX5OQddph0GjnS2YqdHz75RJa/8YazFRk/efhhOUsdY0JjO8UrVqyQf/7zn/p/pJx77rmSkpLibJFQFBYW6vadOXOmE0MIIYQQ4k3S3Qrn949YN3WqVJaUSOHq1ZI3aJC0yMyU6vJymX777bJ1wQIp3rhRp2vVq5f+/9WDD8p6dcy+oiLZ/s030vnYY3U8WP7665KYnCxLnn1WVr71lnQ/5RRnj0jJpk1SvW9fMB8w9777pGznTl2HPevWSfthw3S8ySctL09vz7zjDskfO1Z2LV8u8//3f2Xn0qWy8/vvJbtbt2AaXeff/U7nhaUTkAUsffFF6TFunKS3a6e3bZC2bMcOWfvBB/L9K69I1zFjdLl7Cwpk2csvS01VlSx45BG9xMQsAUFd1nz4YVSy71BlrF+/XvLz8yXPqW84Fi5cKEOHDpVklSdYs2aN/O1vf5MZM2bo0LlzZ2ndurXe58err74q7du3l4yMDNmn2h7O4zCnjZHHSy+9pP/3799fpwHbt2+XRx99VMeDbqqNDQ899JA+/oEHHpBNSp+HqYudUNh1zsrKkg4dOjh7RO655x4d784HdZ48ebLet2TJErn22mt1/KJFi3T9Ee+WvaysTJYqm8jNza1XX0IIIYQQNyFnjDfPni2ZHTtqJ7hcOakgISlJ2g4erB3CjiNGSJZyRAyIx37E47fNumnTZOrVV0tL5bRgv82OxYt1WW6QDqFKOW7f/OMfOg75wFE2LHz8cf0f9cnp0UM7qTjGXhP90RVXBPMqUsfas8qf3XyzvDtxYjDMUU4ZQH0+uf56XTaOg1wA7fDlH/4gK998U8cbp/pzlU+ucrgRBxlNPiCU7P369ZMrr7xS/48ULKOorKx0tkQ2qgsUOH9DhgzR4YUXXpAtW7Y4e7356KOP9GwqQF7IE8yaNUs73iavhx9+WMrVhQUCfpt4pEFaw/PPPy+/Uxcf2NezZ08n1hvUDXU0eU2ZMkW+Vxcz4JZbbgnGw2F/WV2EAPzHttlnwHE43sS7ZYeTjPYdPXq0E0MIIYQQ4k3USykSU1L0LGtGhw7S78ILtTNowDpk7Ee8vSbZ0Oecc2TAxRfr/ZGAdAht+vaVgvnznVhvUJ8Ow4fr+uAYbBtWv/deMK+0Nm30rLJh0KWXyrAbbgiGPmef7ewR6XbSSXo/joNcBsxGD1aOLuLhjIO1yjnrdeaZOq7TMcfIxunTdbwhWtmjpWvXrnLGGWfosHbtWikpKXH2RMeGDRv0f5PXpUp+LNuoqqrSzrCJByat4bLLLtP7RricfzeoG+po8po0aZKe6QVwck18D9W2i9VFE8B/bJt9Bsxiw8E38Q2RnRBCCCHNm7CO8Re33iobv/jC2WoYuQMGSHJ6urPVeGA5yD/y83WAPDbthg6VTqNGBYP94B6WduAtFW4QZy/7iIQDJXu0jB8/Xv8/9thjdUhLSwu+/QJOp4nH0gU3WN4RC1jikG09ABkt7777brBec+fOdWIJIYQQQqLD1zHGmyLA9Tt3yo1lZTJ54kT9NoqDkZTMTPnlDz/oAHnst18caF577TW99AD/mwLpynm/4YYb5Msvv9ThmmuuCc7AYsbWxH/zzTcyUdlEUwDOvKkXllbgVXaGlStX6va97bbbnBhCCCGEEG9ieisFlhXgQTw8fOd2ljM7ddLxe7dudWJiB/noMpRjhvW5AP+xbfbZpDgPiSG+qrxc/wZYJ23SL3riCZn/8MPOHtH1NPsQ8MBdLGS0by8lW7YE8ti1K/jgXzjgXOJBtMZ2MrH2FksQCgoKZKulK8y+4gE7xCO0atVKEhISdMBvE480SBsLeGgQDrjJ66677grO9OKBQBNfWloqOc5acfzHttlnSE1N1Us9TPx1112nZ7YNcJLRvvfee68TQwghhBDije97jFcrpwcf3jj8iiv09vuXXCKnPPlk0PncohyZz266Se83aQwvjxql196e8dJLTozIXOWY5J94onQ8+mgnpg53WeCNk0+Wyr179W8c85P/+z/9G6BclA9QnwumTdO/weJnntEB6U1ZyAf5gV7jx8vRzuyhnY/BlIU88GAd0tvgXckLH3usXn0Mps7RyB4LN954o3b0sMwB4K0Ms2fPDr6l4c9//rNcfvnlet1xKJCPWSeMtI888oj+/frrrwdnsBFn8kFaHAPgyF9orZfGWmQ8+BYpqDPqCeDMjh07Vv8G5513nv6PpRm///3v9W+A9DgOwLE25X3yySfyhLrgAUgf65IOQgghhDRvwn7ggxBCCCGEkOZATEspCCGEEEIIOdSgY0wIIYQQQoiCjjEhhBBCCCEKOsaEEEIIIYQo6BgTQgghhBCioGNMCCGEEEKIgo4xIYQQQgghCjrGhBBCCCGEKOgYE0IIIYQQoqBjTAghhBBCiIKOMSGEEEIIIQo6xoQQQgghhCjoGBNCCCGEEKKgY0wIIYQQQoiCjjEhhBBCCCEKOsaEEEIIIYQo6BgTQgghhBCioGNMCCGEEEKIgo4xIYQQQgghioRahfO70dm+fbv8/e9/d7bquOaaa6Rt27ayb98+efbZZ/W2Gxz385//XFJTU52Y2DD5PProo/Lb3/7WiQ3N6tWr5fvvv5czzzzTiYkvDzzwQMR1aSiNWVak/PnPf3Z+iRxxxBHBdn755Zd12wPoPVy9YT+Qz3D88cfLmDFjdD4nn3yytjE/TFkow7axr7/+WoqLi3U+Nl62+t577+n0ht///vf6P/JF/oaLL75YevXq5Wx54yc78kc5BrvvxCq7G/TTadOmyYABAzxlj5Zo2nB/4LZ5dxsajL5iIZZ2bgyaYn8nhJCmxAGdMS4sLJS5c+fKUUcdVS+kpaXp/ZWVlfLWW2/p324Qj/0NxeTz4osvOjHh2bRpk3z55ZfOVuwsXbpUXnrpJWerjmjq0lD2d1mQD3JGyn//93/Xs4XNmzfL+++/r/OpqqoKxg8cOLCeA+3FLbfcUi8vOEDQ29SpU7XthQJp4KTZNgY5pkyZIp06dXJi6kBZhx12mLMlus6ou10+ZNuyZYu88MIL9eKxjXg//GQ39bHzeuihh6S8vLxBsrtBehy3YsUKnU9D8csnVH+PF2i3p59+2tkKgPps27atXnshNIRY2tmLxx9/PKRtREtT6++EENLUOOBLKfLy8uTUU0+tFzIzM/U+OMiYyd2fIH+U4+WgGm644QY599xzna3ALOZ1113nbMXOjh07ZMmSJc7WgSGU3PEA8kHOSPn444/r2UJOTo6sWrVK59O9e/dg/GmnnSYXXHCBc5Q3n3/+eb28wMaNG/X/UDzxxBMyfvx46dq1qxMTAHIUFRVJ7969nZg6UNZxxx3nbImuM+pul487EyUlJbJu3bp68dhGvB9+spv62HmhjJSUlKhlR7vDxvHfDdrhrrvukpNOOkkmTpzoxMafxujvaLcWLVo4W3VAp3Z7mTaLFbSX235iYf78+SFtI1qaWn8nhJCmRpNeY4yZrz/96U/OVngmT54sxxxzjA6YiY6E/v37S1JSkhx++OFOTH1uvPFGufTSS+Vvf/ubExOYOcQsnw1uh5uy8duA2SnUyzB27Fj9f82aNTpvU2c7DTB5IY0Nts0+A2Q1cQiRyg7c+dttiIB6gr1799aLt2fdIC/2AyMXMLKbOps0ofjkk0+cX6GBzqC7WDH6Mvqw2bBhg74F3rJlSyemvr7cM47IA7LZevfCz8ZsTPu69WITSnZjz6Hwkv3YY4/VNj59+vQf2Q/aoWfPnpKbmysdOnRwYuOPV3+/5557gm2CYGPbajT9PTFx/w97jz32mL5jYID92HK4+7sXkH3OnDlBfdkYOzTt49VPsc9NpP09HLAdpLdtPlR/t8coW3aTD0Iom48Ue/whhJBYOOCOMU7EmK0xYcaMGc4eESx/3rlzp7MVGuQze/bsYMBJfuXKlc7e6EC5mLlCfc477zwZPny4tG/f3tkbWAuJNZI2qCfWYaLsP/7xj3L55ZfreJwcysrK9G+A9ZoAjsYjjzwiZ511lj4G/22MHJjFu+2223Qc/mPb7Bs8eLCOR31OOOGEYLwte01NzY+Cvazc1MeAuk6aNCmY17XXXqtnrHBMdnZ2MB5yvfbaa/oYyG7yrK6uDt5CvvLKK7VckBPHZGRk6HjgVS8AhxTlGXtYtGiR/PrXv9b7MBtq4ocOHRos0y8vOEB2nC031oCiTu+8846MGzfOiQ3cQUDe7vWvtr4glw2cechmrxsGt99+e7C+CKZewKteKNe0r6134Cf766+/Xq8MLAsAM2fOrBcPLrzwQv3fS3bM1sLG4Zhi3T2O2bNnj97XWEAmd39HP7v//vuD7WJsPp79HcCRtdurobKjD6AvGPC7X79+9eoMGUIB+xk5cmRQXzbop/fee6+uK/bBPgEucEz+WLfunoGPtL+HAjYD20F6jHWwTeDX36EX6MeUgWBkR31MnNvmowV9Cctxdu/eXa9fEUJINBxwxxgOCG47mzB69GhnT/TAWcP6XwTMPsUK1oeCL774QkaMGKF/x0pWVpZUVFRo5xXrGPfnjJsXeOjKHYx8B4q1a9d61gvxAEtpjD3ACYTTArDm18TD8cPt7nnz5nnmBVvAmlo7DseHwsxw2Q58Q8CMnamvkaVPnz56GY5dL8gAcBFg7NftIHrJDuDs2mX86le/0o4NlnXY8QBOdCRgnTJs//zzz3dimibx6u/Q9x133FGvvexlMU0VXDCaix0D1m6bNonHGmcvcAFVUFCgy8ByoXD9CkA/pl6mn8Ub9KXLLrssOCZEUi9CCHHTpJdSRAtuO9500006YMbAvhUeDXgLAh6wQj647WfP+EbLL37xC730ArcSsSTjzTffdPY0DpiBd4f99TaNSOnRo4dnvRAf7cNduHDxygvODoIdB12EAm8mwO1vXLxgbSdO5vF42MyNu85HH320jkdZxn7/8Y9/6LjGBuud8eYC1AGzgk2ZePb3cLZxsICZV9Mm5o5OvHn++ef1Q4wo4+677w7epQjFsmXLgvWCUw2HOt5gXT3qg1lrLHU7VHRKCGlcDinHGOvVMCuGcPPNN0urVq2cPdGDh3SQDx4kgYPg9TonNx999JFOt2DBgqCzA3D7F2vfhg0bJsnJyU7swQdua0M+0xb5+fn6fzzBjE+8gD6iAfLgIggnfgTMuL3yyivO3viANvRbDwvZjf3iNnpj8sMPP2i9wpnCrXHUwbwdJhzRtnO8iFd/h+yhnDvc7v/mm2+craYNXnVn2uSXv/ylExtf4IA+88wzugw4ul5rmd3gbompF2bn7Te7mDEFY6RZKhMLWEaBi0vYLy4QCCEkFg4ZxxhPgLdr106eeuopHXC7GcsXGopZc7d48WInxh/MDCMd0uM4w0UXXaRPJhiw7Vktu86YUQkHlp0gfyOjWcfcWKA9UT4CnHw8MANwEYGn3VGnN954Q8cZ7DpjSUk4IJORDwHLT1CWW3aUF+6tFFiaYOcFzENrqKc7H8iDZRsmYObYfhdwNKDOqLtdPmRDG8I27Xg8lNe6det6skNW2AYusvxkd9s8At4cgbdS4KEoOx6Ekh3rMlEGlmiYdJFyIN6LG8/+Dtk//PDDYF4I9kNleGf5q6++6mw1LngDCd4UgjpFgq132B+IZGxxg75q8rED3myCpSZwjLGNuqGOBq/+DtuGjZs8Pv3003rrmJEeARdiGCtjBWMr1ijDfhuSDyGkeZN0N+49HSDw9HybNm18P26QkJCgb7l5naixdhcfHDBP4GPwxVPzuBWOuAkTJsRtPe+RRx5Zb+0zZn1xUrZnTPF+UDx0glkspDdgrSZmH/HgDWaRbcfYrjPywm+Ah9zMzIldFtanYhaztLRUy2icb3d90tPTpW/fvhHdWrbLAniVVefOnYNtZ9oZDw9hVge3+NEWtuyQd/ny5fo30o8aNSqoU7vOKCfcGxPgnOIkiXQIeDcw1nu6ZcdJNNyFAdr7u+++C+aFB5kwc4X2AeHycduYl94N7nZEGrx7GHU25UNfKLtbt256yYKJN7Zqy47Xs2HJBdod7e0lu9vmES655BK9Rjta2VE+yom2z+DBuNNPPz2qmT63jRm8+jvqiAfL0L7AtHND+rtbVzgOfQUzw6a9MNuK/4iD3eOCw0vvfrj7IPKyxzq3XH7A/rEuF7Oh0J/Brw1tveNY9Buk9RpbgF9/hy5s+zEB9ceDvqa/42FZey26V3932zzGSDw0CPBQHh4uhO3Z7wEnhJADxQH98t2hBB70wknJvVQCsyv4YhlmEPHO5oMVOHlYAoCn3gkx4I0ccHQOVTCzCScQ/ZfEn0PdfgghBx90jAkhhBBCCFEcUg/fEUIIIYQQEit0jAkhhBBCCFHQMSaEEEIIIURBxzgGioqK9BPWkYCn5t2fYbXBPqQhhyZ4P25DPhADYGuwOT/C2diBIhrZFy5c6PzyZsmSJfU+sdyUgIyRfOSCeAO9Qr8NJZwNhdt/IIhG9nDnncayQ9OO0ZwHQxHP8+n+Jh42dLCOdZHKHs4O49XfgV1WPG2DjnEM4GX/kX6ZDO+MxXs7/cA+97t/mzt4p6wX+NIZPpCxP8EbCPDBh3iBjx/g3a8NAbYW6gMT4WzsQBGN7OFevYcPeETqZDc2kDGSj1zEE9ioeWWaDd4eg3em72/8+mgsQK/Qb0MJZ0Ph9h8IopE93HmnsezQtGM058FQxPN86gZ9AX0iXsTDhg7WsS5S2cPZYbz6O7DLiud5kI5xDODjAniRPdk/3Hrrrc6v+vz973/Xn5Pdn+ArbvH8ahbe8Yt37jZHmrPs+xvYqNcXB/EZ83vvvdfZ2n/49dFYwAdpwn2s51ClOcveGKAvoE/EC3ykq7nSnGQ/oB/4aCzuu+8+/ZEIgE+GYuodH1AAeMH8Bx98oGcjTRqAD3Pgi1h4z+Zbb72lP75g3lG8a9cu2bp1q/5ohw3KQXp8Keuoo47ScXj372effaY/3IA87XwAXqKPd6XiAww2f/zjH3V6XBHZL+THh0RQH+zDi/bDYfKxAz6i0LFjRyfFj0Gaf/3rX/r/oEGDJCMjQ39V7C9/+UswD3wAwLQh8JI9FHi381//+tcf1Qf5zJ8/X7exLfu7776rA26XoE2N7HY+CLhowYcUgF1nzDS79eUGtoGPsaxdu1bry8gOcIsG7Y7bQE8++eSP6uwnO/LERxHsfB566KFgfd268NI78p43b56+lYV9br2jPfBRD/sDCbHI7u4XKB+2atfZS++QGWW5bdUtO/DTO8rDl9rcshtg9xMnTtQfpDAgf+gCxzRE7wbYF+Q1+YTD6H3GjBn65Hv22WfreOSDL+WhfLu/+8keCq/+jnwww4Z3pOOrdrbsf/rTn/QMHC4gbdntfLzGOnd/DwV0hfe2o4+6bd60IT4tjnHVq5+6ZUefwhce3fmYNkSwbd5P7/jAEuqEeC+9o972F0kB0kYru90v0KbGVkPpHe0FnaAsu85esgMvva9fv15/Uhufzka8nQ+A7LBFY4cG1NnvHBet7MgHXxRFWbNmzdIfqoFzb+SC3k37gFB6N2OdyQcf0QGhznFeY50fyAf9E+dqjJ+RnN9DjXUA8X5tiBBJf0c7xmus8wN5oDzoFOMhvjhpbAx5eOk91DkOIL0tO/CyedjGs88+Kxs2bNDx7nzwRUzY8aWXXurEBPDTu5/ssB/YO5ZloCzYBuwiHh8KahYzxviykgEnf3RsgM/+4stNUCg+WYqTigFp7rrrLsFrnrEfX2wy4EtU6Mw2OBZ5IC3yRN4GfOEK8Qi/+c1vnFh/brrppmB6lA+DAfhv6oOAdOEwae2Ar7f5gQEcspu0Dz74oD7p48tbU6dODcYjDdKCULJ7sWXLFu2AmrymTJmiP6cN8LU3tDXi8QUuA9qwVatWMmTIEL3PAF3AQTB5IV/kD9DWJh5x+IJZKNAuXbp0CeoLg7UBX/N69NFHdV2xz7RhONnxyVwca8Dvr776KlgvW3Y/vQO0hdkXid6jld3uF+Dtt9/WOofuYQMmL1vvAH3LlGXrC7hlD6V3YOLdsnuB44wuEBqidwP6NOwpEmy9wyYNKAtlmvJNfw8nuxd+/R39ADYKW0U8tg04+cFuEY80BugCX59DvD3W+fX3UEBe00dt2QHa8He/+11wXAXhZIedwd5skA9OqOYYI3sovZs6IUSi91hkN/0CwLbRrsBP7wA2hU/Lm7JsfXnJHmqcx7hj4m3Z/fA7x8Wqdzi+cPZgS5Drpz/9qc4HzhTqg7IisXl7rLPHjVjOcX4gX/QF9AmcV2xQZ/f5PdxYB2xfAhjZzTGR9ncT39Cxzg977LVtLJTekd7rHGdwyx7K5mHjJt4tuxd+eg8lO74Eigse6BE6wHjodtxjRlXmkEcNCM6v2lp1dVP7yCOP6N/qyru2rKxM/y4uLq495ZRT9G+ANOrKsXbPnj1OTB3qyqVWDf7OVoDly5fXVlVV6d/Kyai97LLL9G/kgzINdl2AXR+DncYuC/+xbVBXSs6v+OGuD9oEbePVPkYukwagPdGuoXCnccvlbiMD2hRta+PWhZ3Gzmfnzp21BQUFzpY/bn0ZkOe5555bq65MnZgAfno3uOvsTmPLbuszlN7d7eNVZzuNl4258dM7ZIOMBndZKMfPDt2yh9K7XV+3ToFtY8CdpiF6Vxd8tRMmTKgdNmxY7Yknnqh/792719nrjV0fW6de7QPceocdeY0tNu40kejU3U8NdvvYadz52PYcCrsuNtDJc889FxxXQbj+7lVndxpTHtrD7oN+evdqH3ed3WncNuaFn95hY7A1g10W5Lj66qs97dBLdj+9h7J54LYxsL/0bpeFfJCfKcsrDbB16m4fI5ef3g2mrEjx0ynycZ/fw411IFx9zP7GGuv88NO7ezy0y0J6r3OcwS27n82H0juw62Pw07tbdrSpGVvsfNz23FCaxYwxpvsvuugifSsJ0+5XXXWVju/Ro4deN4NPOasToo6zwRVIVlaWsxWavn37ysknn6zzmjRpkhMbO8gH4YYbbnBiRG6//XZ55ZVXgvtwGyQcJq0d3nnnHWevN7jtYtIqQ3RiI6Nly5a6XUOBNLi9FWl9YgV6N2Xg9lX79u2dPbEBW4BN2MRT79Cnqa+t91hQjl0wr0geyFHOoP4PXaBsHINbbJhJwe0xkxdsw00kdgjirXccb/JC3zZEq/fRo0drufD/xhtv1L/tuwXRgrYz5UMPXkQytiDNnXfeGcxrf2D0bsqArqHzhoD+D10b4ql3tBmWHpi8bL3HQrRjnToBy/jx47VeMR5jhg3AxmBrJi+33nH7N9LxJ956x7iEfOxzXLR6x5iAdGZcicc5zg9TFsL+xN0HIxnrIqWxxjo/YJewT+gL9gq7BbDDyZMnB/Ny27zXOc6PcDYfLV56xxJTLI0w8WhTtC1sGQH1R3wk57hoaBaOcW5urn4lDNba1NTUSHp6uo7HU5a4tYS1KQ19mnHcuHHa4JCXMcKGgHwQsK4U6yUBHJUnnngiuM+9NskLk9YOZlD0AxcOJi3WMGJNV6Soiy19WyMUK1eu1A/SRVqfWEEHN2X07t07eBIzhKtnJMRT79Cnqa+7rtECWzF54dbZr371K2ePNxhsEhMT9W21PXv2SHZ2tl5jh/XvWJdp8jIXlbEQb73jeJMX1upDxyCc3t1AdtwCxriAW4D4DdljBSckU/4K51VCbjAOoa+E4rbbbpPzzjsvmNf+IDU1VduGKQO6hs4NqCPq2hDiqffp06drx8Dk5X42I1qiGeuKi4t12zzzzDP6BH3//ffLzp079ckZAZMvmLhAmDZtWjAe9ohy8OwCjjNLMfyIt94xLiEf3HbGGmEQTu9u0IfQN7B+Hety8/Ly5LnnnnP2xheUZeqF9aWREMl5JxwH41jnB5YhwVGtqqrSSyTMQ9BYClNaWhrMy15uFS3QE+ph8jJrlWPFS+9Yv45+ZeLRpmhb+Gs4V+E3loPgQe+GTibZNAvHGIMdGh0Lwo2TCdC5MbBt2LBBP9QFBxoL0GOhQ4cOOg/khTxRJhb3A/xHPEKnTp10XCg6d+4cTI/XIuFhAID/2Db7kC7eGOM2ZWCBfLgrQVt2GK95Yh0OlsnHBKxLg7GjfUwcHjLAoGROGGgjxLt1YesrEs4444xgGVjwD2fP5ogjjnB+1YE0SItjwp3AQCi9R4utd7QH2gVtCHbs2BHcF4neTRsiYP0WHrYAaFMTb4JpZ5wo4UTjLkqfPn10HBxE9AuTFqB9wq1H9CKc3k084sK9zQLOLI43x2BQxMNJIJze/cDYgFnjSLD1XmC9KcW2HwTUBbhlx4MjWGsO0CdMvAnQO9oAbWHioFNTlt1PbV3Y+orEDt9//329ZtSUgWPtiwI83HLHHXc4W3UYW7Vl9yOc3qPBrXfki35nLjRMfCR69xvrkJeJQ8CDUnBo0c5YdwlnIpaQn5+vL75QX9TPj1B6R/1MPGRH24bCHjNxkfaLX/xCx4fTezzw0jv0B+yxDmObwS37mWee6ewJDZ4zueKKK5ytOkw/jeTZgYNxrDNxdjDna1wEYTyzLy7cNg950T6x4B7rYKemndFmJt7Wux9+escYibHSxEdi83FBDSbNAtWoterE52zVcfPNN9dOnDix9vLLL6+X5o033qhVV8b6txvlPNSqKxdnqw7kgbyQp0mDfBBngrpac1IHQBlI48akd9cZ22bf/sKuM9oEoN6Qy+BuH1t2g1t2BKQDaB8Th3wgl10W4kPpy+DWhVc+CH768gJpcYzJB9i24cZL7wa7PsCdD9LiGIOpL9IY2zD1McGNWxfAT3bka+eFEKo+AHU2aU19TBq/NgRu2QGOM3nZejdtiGDXx4C29eo75hi7zuH0Hi/86mzry66zW3aDnY8JaGeAfE0c8vLqX376cuvd6MIvHwQvffm1IdLb+QDbNmzcsoeqD3DnY9uZW+/GNkwcgledvWzVS3Z3XrfffnvtvHnzatXJXu9vKFjXqpztWuWAe8oOvPRutyGCu51Rf9sODTgW6d3yh9K7F6ad3XVGPu6+bHDr3cbEI7ht1cS7MWW58ZMdoD5esvvlY8pGmlB2CNz5hJLdbh8T76cvtLENjjfH2PUxcXbwq48BdTZpbX2FakPglRfax+SFOiON3YYI7nZ224/BT+9+spv6IM6rvzeEBPxxfGRCCCGEWOBWNGYTMUPmN6uqz6LOrnDzrrjljyfrMcOG5UuEkKYFeyUhhBDiA5ZWwCEO5RRXI9Qgba1e0hEKPOTF+ShCmi50jAkhhJAYgHtbXiWyvhChVrYUl8jWsp1SUR39+mlCSNOAjjEhhBASI+XKB16wtUaWbq+SRdtXydPr/yPz9yyTypoq7TgTQg4u6BgTQgghUQKnt0b92VleKwlVldKmokCKK7bKKyXz5ZltH8rWcrxtIfzSCkJI04KOMSGEEBItyt+tqhZZvSdBdtckSvvWadIrvaX8NHuwDEvvrh3nBDyKF+5pPEJIk4KOMSGEEBILyvvdXiIyb0uy7E7Ok4FJCXJpcQs5N/Mn0qFlnk6gnWNCyEEDHWNCCCEkBrBKorJM5NNVCfKbGSK/X3K4PLz9bCmtbSPJCXj7BJ1iQg426BgTQgghMVBZLVJSqk6klSJLSkReK2ot7du2l45ZSc4r3pyEhJCDBjrGhBBCSAyUV4gU7hVJSRXJzxSZ2FXkgl61kpocmE0mhBx80DEmhBBCYiBFOcBDlTP8syNr5XdDRG4+TKR7DlYVwyumZ0zIwQg/CU0IIYT4sGvXLklOTtafhDbga3hlZWVSUVGlP/BRWV0raS0SJSWx7it5OLXiuLS0tB99+nnDhg3SuXNnfhKakCYIHWNCCCHEB7djjFNmeXm5rFu7VkqVcwwqKyslNTUVe6W6ukaFau0c57ZpI126dpUWLVrobQMdY0KaLuyVhBBCSJTA2W3durXk5uZKdlaWtG7VWvLy2kpOTo7eD0cav5OSAg/iEUIODjhjTAghhPjgtZQCM8IImPGF02v/xjKLiooK7TjjOC+nmDPGhDRd2CsJIYQQHzDjC2cXwYC4lJQU/R/Orf0bznBGRkbAKXbS22DZBR1iQpou7J2EEEKID1g7jBlhzALbN1gxE+wXzH71R/82wLkuKSmR9PT0YDpCSNPigC2lqFYX34s2OxuEEEJIEwXObNfMcsnLbqFnh2PBLLGAk421yZhhJoQ0PQ6YY7y3QuT4vzkbhBBCSBPmwVPLZUjbUqmqqnJiogMzxFh3nJmZSaeYkCYMHWNCCCEkDH89W+SYbs4GIeSQpUmsMR7cUeTY7s7GfiIvQ+TCIc6GA7YRvz+BXLf+pH64cbSzswlzaj+RHm2cDQvEYZ8X8ZKrRbLIFSOcjQYQrj4HQg9edkgCeOndzw4bk1A2Hy8OZZsPRzSyh9NFPPtXY+idENL0aBKOcU81AA1q72xY3HOa88PF1SNFOmQ5GxGS3VJkdA9nwwHbiI8GlIvyIwVyYU5+9vq68NUGZ2cTZnhX7zZGHPZ5cc5hzo8I6NfW/wSWoqxyXF9nowGEq0809Q2Fn5164WWHBzN+skO30HE0eOndzw5D0VI5Wr89wdmIA342H43ew3Gw2Xw8iUb2UOMPiGf/ClcWIeTQpEk4xn74zSIf3kEkvYWzESGbikQe+NzZaAAoF+VHw4rtItPX1IUv1zk7GokuOSIvXiRyZRQzUk/PFfl2i7MRIVe94fyIgDbpIn19HKeySpFbP3A29iPR1DcU+/tuR1PGT3boFjqOhnjpPUmNasO7OBtxAP0A/cFNPPXeWDbfFGmqsvvpnRByaHPAHWOcwAY4s8Wn9Q/8B+9cHnBCp10tcu/pTqTiv8cEjnn6/MA+Gxz/s2GBNNjXrbWzQ4Gr/+tGORsWJh+UZzD5GJ6+IFAXBKRH+TjGTgOQB+KRPhKQD+qKfHCcfTJHXqg/4pHGgLZAHIJNKNm3FIv86m2Rlxc5ERFQoI7BOvBoePBM54eFqQ+CuZhB3e49TdW5XyDe1juoqRVZu8vZiAAcb8qw29DYD4Ldhgav+hpdINhtaHSB4GUbiI9G7yYvt+wm3rZ54Kd3P0xaBLfsqCfibZsPRbSyIw10Cx1jn9E7CGXzLVNE7hjrbFiYfBAMJh8D2sfoy6/vgGhlB+gH6A82frIDlIn6mbIMofTuJTvyMentfECsNu+Fn837YWQHSO8en01eDda731jnjBvufELhp/dQsnvpnRBy6HPAHeOUpMAMD0i1HtSd8JxIqRqYTn5S5DZrNuHh6SLzN4pc+e/APhsc/1/K+V21I7Bv/W5nhwJlZFoDtcHkc/HLIq//NBCHfHA71pCdKvpF7agP0qN8HPP8gsB+gGORB+Lv+TTwoIbhthNFZl1fFz5WgzCA7JOGBv7jOORr6JwTuFWLeMgM7jxJZPJ3gTiEL64NxINQsuPVeLvLAvXfn7RKc344XH20yJqddfWd7JyUULfbPhT5cHkg/sNlgfhYwMMww9TJ0ZRx2XCRnrmBfcZ+EFAP1MfGXd+zBwX0bo558AyRDGUzCPht4qGvswYGjrnyjbpy8DsSjP0goO7mgR7YhYmHnqFv4Na7sZ9QtHBsCsGWHXYJ+0S8bfN+QHZjhwhoH7QT8JMd/QK6hY6xz7a7UDaPPoa+5sbkg2BsHsfbjhf6thlHMHbAxpDe9B0QreyhCKV31Ovxc0T+8klgP8B61UuODGwj2HoHXrIjn7um1B1jZD86X2Rop7r4aGzejZ/Nh8KMh8AeV7FO2Iw/CB9eEYgH0eodY+bbS+ryssc6M24g2LL74ad3t+yw83CyE0IOfQ64YwwwsEa71tePZ+YpJ2Kps9HIwJnt2urHayLvVYPyqMfrwklqEDagrqizG8xWXKIG8Wg4kLJ7sWdf4MEatAnCKU85O5owsENTX5zEvdhf7Qy7MGXbD4XuLlV9RDkOZp9tP/sb2OHlr9WVHY9+6mfzjQH6JuRAX92f3DS5/l0P/MYFvmlHr4v0SJn7g8hjM+vywoxrQ4jE5m0wi9opW508lEebmy6yY28gHjqdsa4uL/f3K6LRO8ZMOPYmr4bipfcS54LNlAE7j/YuGSHk0OOAOsZpakBvlynSOk2kT17gaj1eDvKBAA/83DlW5LJhgZmTpgLaGTNUkdwmjSevLhJJVY4x2gQBM11NnTE96+q7rUSkuhFfZohZQFP2xUc4kYr/N0tkYLu6fUjXWGBG8HirTdA+BzPXjAzIcfMYke+2OpGNAPrguH7x0SHGSMx2mrx6tXF2xEi0Nv/rdwJLEyDTLceL/HFaIL6jcpYvH16Xl30HMFowVl1zTF1eDcVL7x+vDCwzM2XAzs1dB0JI8+WADgMYSE/qI/LL/wRCj1zvt1McLNygThiQ4+b3Am+faCpkpYpMUCfSxnSoAC52Pl9dp9/7XOtmmyLvLa2r70tfi1RVOzssIFc8ZrHcPDqhrmzMCBoO7yjysqqL2Yd0jQVuNeN2vCkb7XMwc7dy4iDHf70l8pmyzcbCPdbNbMADuBgjMVaavBrq4Edi826mrhA5sbfI9LVOhGL8AJG1O+vyKo/tOxiaS4cFHFeTV0Px0jv68LJtdWXAzmHvhJDmTdLdCud3o1KpBt93vgusszNrTDFzgVuOG4sC21hjd1iHwKzyajXgGpKVO494OHr2Z6X7twvMOi/Y5ERYtE6vXxY4vX/ghIXjkN/iApElKiSq/PPVoDlY5X9EZ5Gjuoq89k2gzrg9iPrAWcGdQvNwBuqE+gxV6fHWCqTD2ygwU4s4vBkCeSGgLDzxjIEZ6+Pwpgo3Pz9K5Ln5zoZDksoTr8Aa4tQLdV3oyBpKdtwexMlguapPQ4mmzr1UuuN61NUX5ZtX1eE2LG7H4h3WpZUiO0sD8dFi54MydpWpNtgYeNIdr9XDg3yIx8UBbGXzHudAhbu+br0jXxyDPGA/0DniIdfWEpHtzi1k3H6GjFhHihNtKNx2aNu8yQdltFc2BhlqagJvd8AxXnr3w5bNtg2779g27wds3JYdNoh+CfmL9/nLbtsqHDe0IQhlP1gXjZnQN751IhRoH1yI4Bhbdrfe8VotOGtYS2/XGXJvKAzkZcuOgBnPULKHw0929zgG7HED9d2nnEYsl1mj0sGB9JPdzsfo1MvmYbeQBet842HziMf6XcTZATYPvc9QDvFT54tc96aTkQLHoG8YO0V/hw2EG+u8ZHePdcgLYyiWP+Ddwng+APF2fwde47yf3pEfZomN7GhnrH32mzHH+QJyEEIObQ6oY4z1ZjvVQPuDc+KCA7de/TbrvDBA46RTqAY/kwbA4WyrTio42Sy1Zkv2qTxxa8w4LDYY7OyyQIka4KuU41GhjkOZ/14ciMfxZepkldMysA8OBcrBCQcD8AY1gGLNGpxiUxYGWtz+Q37bldNgBmbkgzzsUK7yWKZkqFRpcetyi3XiMkBmpLFZtztwoscJGfm8uNDZoQglezyJps44IUNHcKRQX8x6GgepqFyd1JQznKv0iBMSjo0FOx+UMUU5R2bNI/aZNv9eOS7mgR+8Y3f8wIAjZc+2ufX+trpwg9MO21mxI3BSRLyxBwMctd7KeYM92RdwXrjt0LZ5kw/KwMNjXyv7R/vhYsJP737YurBtw+47ts374SU72rdQta1dZ7fstq3CqTF6D2U/AI6tnQ/KwDEo25bdrXc4+AhwOO06o66mrGhlD4ef7MjbHseAPW6gvjOVY4kxEGMI6gy8ZLfzMTr1snk4e2hz5GHayrZ5g7uP+tk8lhRg7DV5mYAy3PUxePX37mpMRJpo9e4e65AX1gcjL1xImPrY/R14jfN+eveT3Q86xoQ0D/hJaNLswOwR1rXPWq9OpOqETQgh4eAnoQlpHiQ6/wlpNmB2H7eC6RQTQgghxIaOMSGEEEIIIYoDtpSCEEIIIYSQpgRnjAkhhBBCCFHQMSaEEEIIIURBx5gQQgghhBAFHWNCCCGEEEIUdIwJIYQQQghR0DEmhBBCCCFEQceYEEIIIYQQBR1jQgghhBBCFHSMCSGEEEIIUUT15Tt+JO/QISEhwflFCCGEEEJASMeYjnDzgY4yIYQQQpo7no6xl0NMJ/nQxO0Q00EmhBBCSHPlR46xvWl+e8WRgxvbAcZv9zYhhBBCSHOjnmPsdoDNtvnt3k8OPozTa/+3g8H+TQghhBDSHPB0jPHfhJqamnrbCAb7N2n6GGfXdoTtkJiYqP+bNIQQQgghzYmgY+x2eOEQ206xwf5NDk7cTq9xio1jTOeYEEIIIc2RHznG+I9QXV2tA6CDdGgDPScnJ0tSUlLQSQbUOyGEEEKaE54f+IBjjNniqqoq/Z8c2hg92xdHhBBCCCHNjXqOsZktNsso6Bg3DyoqKvSssXGO6RgTQgghpDni+0loOEfGWSKHNu4ZY0IIIYSQ5oh2jG2HyMwYwlGCY0xn6dDHb7aYuieEEEJIc8J3xhi4HSVyaMLZYkIIIYSQCBxjQgghhBBCmgP6dW3GAcZ/s4QCD2SVlJRIy5YtJS0tTe831FaWyPqv3pWX35kjhe1GyMQLzpIj2/wgrzz4gszcWiiJLVrKhN88Iifnq8QlG+TTeaslrdMgGdG/rSSpqOJ5T8ot/1woCSkZ0nPkeJk44QTJzxQpK1gqn374tny8cINIz/Fy87XjJLtokXy7c4AcNzBdl7194aeyPqe3DOyeL+nITFFdXiRLPn1Z/v3xMknqe4JMOne47Hj1ZXlr6VrZq1MkS17HCfJfd42WqvkLZfWOFjLopOHSNkXvlOKVn8mr/54sCwtSpP/xk+TScZ2lYPMeSc/pJt1bF8mMyQsl7+SxMiA7OXAAqK2QHSu/kg/f/UDmrymUlF5HyyUXXySHZa+WqR9VyknnHi6pTtKSFbNlWUqqbHz2Tfl42w6pUb+Pu+Ivck7HH2TKa4/JR0sTJa3LkXL+RefIiJ65sundG+W+D8pFUltJ3xMvlZ8OyZCSslJpO2CgZOkcq2TrvLfl2Te/kPV7kyX/qHFy7hknS5/q7+XTHxKkb+9+kt9K1XXNO3LLgj5y7wUDJXnfLlm6ap2UpPaSEb1zdC6Gbdu2SVZWltY1Xttm3mkM+Mo2QgghhDQXku5WOL81cI4RjHMMRyklxfEgNbWyd/cWWTR7k/Q982wZ1bGtZLZKk/TEDTJvV185/+yxMuqYkdKncxtJS66RXavXyXdfTpWCnDzp0qGzZCh/rUQ5t7uP/blMOnaAtKzcKCuLcmVAy1Uy+dPFktBlpJw89ngZ1nabbJHe0rpyiSze3lkG5QfczF3fzpR1ySqvdm0lVftuNVK0a7nMmZUgx194qgxs21oylZPXqd8AOXx4PylbWyOnXz1JjhvWR9omF8qGJZ/I1II0yWvfRTrnpEjlmrflgXeK5ZjTJ8hPRgyUzlmlUpGQJrt27lb+dKps/vg92dhpiAztniepScZJVGWumSPT5n4nGYeNk1PHHidHtiuVac/Nk7zjhknt1/+Wbd1GSRdcT1RvlS9n/iDprRNk5ab2cu6kU+XYY0fKgG7tJGnPHikuqpGh51woo1rtkq92tJSeHfNk12dfSftLr5Yzjx4uQ/p2kZSdBbKjqEgyu6qLAZXlnq/+Ifd8mSsTLjhDjh8xRNpVbJXli1ZLet92smbBJslolSvt2qTJ+imvybSFhTJ47DDJ2L1OVqz4Vqo6HCndcurfKNi7d6+kpqYGnWI4w8YhpmNMCCGEkOaC71IKM4v8YxIkLSNb2rUtlK+/Wqsc2e7SvUMbPTvaIq+r9OnbV/r2UQ4tIqp2yfrSPdJm6BjJLq+Vou2B+VuVUjr27Ct9euZLXst9UpNUK6u+LZYO+YPl+NFDZWC/vjLwqNNkZBcneUgSJL1lnnTMXi0LFu+WVt17Sdd27SSvS7707ttLOrbpIL1UnXp0z5GS7WWyp7q/jOmWLbXbNsje2mKZ+W6pjP/5GTJiUG/pN+AwGTxkhPTORb4VsmnGJ7K15zFywvDekp1iOYg1e2R9Qbm0yj1OThk1WPqr/PsPP1WuHLdN3pgv0v2IrjJv+jqpUkkr1n0nRTkZkq0c+eScjk779JH2mZjuTpHMnE7SU8V1zq5VFw21yhGFSlpJN51OyZKX4VLSVpk9NUMuuuxEObJ/H+nXf6CMPO4o6ZSfIss3ZMiAxBIp3Fco5bXrZMb3g+QXIzbK1xuqpXBXuZRtz5HuHa1Zbxf+OieEEEIIOfTxdYxDkZTWRoaefpX8dEyWzHv3Vflg4SbliIlsfOJqOe7o4TJq9G/l013KKdxZKDVFOyRnwDDpX7ZFCoq3Sql++9t6uevU4XL8WTfIrMrj5OzhLWRnWaUk1mZIerJTpcQUSVa+Y+X2dfLW9T+RYcOG6TDh1rdlyeZAkgAJkprdRY6/+BoZ33+3TP3PazJ9+W4JfLPPoqpYCveulh25h8uwbhWypaRIthYWyPrCTOmQ3kICk8H46luy/l29caF8tjNNOnfoIm1auJqpap8US61UZreRtETHYVbHZSuHN3tvjeR0HCY9N38kS4qLZdlykbzUPOnQOkkSJt8pY44ZoRzZMfLCMhy0Waa/faucPuxE+c2UFjJqSH/JS0d+r8nPIO/Ys+T6t9ciocVe2VLVSjqlpzjKU3XOzJRWrXIlpzxZevTZK2u3FUnJ8m9l6/DRcsSQw2TV18tld+VOKWzdXzrbk/+EEEIIISRITI5xbU2V7CuvlsxuI+X8MV0kcd8mwWRwl+uelJlz58usGQ/Iia33ybYtS+TtZ56SP1wxSX7z5BPy4kerpLAY86jd5E8fzZXJT14veSsXy6byFGmTXiv7KvdI8b5q5XKK1FSUSGmFSErb7nLO45/JggULdHjn/rPlsE66GkFqaiqkfF+i5A06VcYP7iKyZ63sqnR2OuwrLpQl770qT913lUy68SF54oWPZFVBuXRqVSTrd5RKFQqtrZGqijLZp6qY1OUoOat/jSpzrqxW++vNpSa3lBzlECftLpCiClNf5bAuXiUpnbIkI6eVdB2YKQumzJE1LWolpWu+ZMDfPet/ZPrseTJn5nS5tD8y6iRjzr5fPvj8KZnQO0W2bd0llfrCYaI8D3k/mSyPn90DERZZkp+2U1YG61wrFbt3ye7CXVLeOl0yex8u+zbukiXTF0mvw3IkqesQ6b54jqzdvFFa9s7Xa7wJIYQQQsiP8XWM/deWKge2dId89+WXMnvOLJm9bLtUJ6RKy2SR8h+Wytw5s2X23LmycNUW2bFzrwy97XV5//335f3J/5KzMvfI1qJiCXwyJEladRogRxxRKQvmbZZ2PdOlYPNi+exzle/suTJv9jT5dptOGIZaKS/ZJAs+m6XLXrhuj9QkZjjrjx1qq2XPjjWyt+P18jrq8v5k+dfP+sqewgQZcEy1fPTWZ8qhn6vKnSVfLVogG/bgoCTJHjBOxrXZKjNnzpY1uy1POzFb8jtmqXLny0efob7zZO4XU+Q/i3vKaYe3kISW2dK+XQ8pmzVDtlW0kO4dnYcXt6+UeXPmqHabK4vW7NJLLTRZveSEIUmybuUq2bynor4TrimVbRu/l/mzVdvO3i09R1fLJ6gz2lrFfT79a9m2K0X6dc8WdbUiR1R8I++u66IuIJIkKaGb5LdeJTNW1kq/ruZxQG+4npgQQgghzZkYHr5LUN50gpRuWyyffzpbtrTsIyOHD5P8nBrZPPtzmfHtElm+aq0UZPSWgenV0mXAQGndQh2WmCW5yZtld1ZnaZtUKTXteknHjFRJS82SlL1bJaXXSDk8t0bWL5olX85fIruzj5Djj+giLWWfVCW3lc5tAnWoLt8r0rqDtM1Rx2k/LkESlCdZvH6OfDpjiZS2HyAjhw2SdulYS1srpcVV0q5HO6neuU6KugyRgXlwDhMlKztFNpdmSo+BI+WojA3yxSefyaLV2yWt6zAZ0itHHZosWZmtpXP/XpKyar6szeonvVubdkiQ1Jz20iFDZPXCmTJnwfeyLbGbnH7J6dI7Ax55kqS2SJCqVsnSqttwGdQuTR1RJXvnT5ep3y5W7bNGtiXny9DebSQpMVEy27WT7NwOkrJpu9S0zZPMmn2S3rOXKDdXU1NZIMsWKyf4qxWyYkW19D5tgoxts0WmT/1YFq4sEOlwuIwZe6zk67JbSmbadlmXe7iM7dlOUpISJKlllexIGypj+ueK1wpjPnxHCCGEEKL8HuUEA72B/5G8ro0cWvB1bYQQQgghIv8fwV3MoIda7UcAAAAASUVORK5CYII=) \n",
        "  - https://stackoverflow.com/questions/62147370/attributeerror-model-object-has-no-attribute-trainable-variables-when-model"
      ],
      "metadata": {
        "id": "UnUAzHxRMmnx"
      }
    },
    {
      "cell_type": "code",
      "source": [
        "# Train Step 함수 정의\n",
        "\n",
        "@tf.function()\n",
        "def train_step(src, tgt, model, optimizer):\n",
        "    gold = tgt[:, 1:]\n",
        "        \n",
        "    enc_mask, dec_enc_mask, dec_mask = generate_masks(src, tgt)\n",
        "\n",
        "    # 계산된 loss에 tf.GradientTape()를 적용해 학습을 진행합니다.\n",
        "    with tf.GradientTape() as tape:\n",
        "        predictions, enc_attns, dec_attns, dec_enc_attns = \\\n",
        "        model(src, tgt, enc_mask, dec_enc_mask, dec_mask)\n",
        "        loss = loss_function(gold, predictions[:, :-1])\n",
        "\n",
        "    # 최종적으로 optimizer.apply_gradients()가 사용됩니다. \n",
        "    variables = model.trainable_variables#enc_attns.trainable_variables + dec_attns.trainable_variables\n",
        "    gradients = tape.gradient(loss, variables)\n",
        "    optimizer.apply_gradients(zip(gradients, variables))\n",
        "    \n",
        "    return loss, enc_attns, dec_attns, dec_enc_attns"
      ],
      "metadata": {
        "id": "YFvfnY4EMrKh"
      },
      "execution_count": 76,
      "outputs": []
    },
    {
      "cell_type": "markdown",
      "source": [
        "### 5) 학습 진행"
      ],
      "metadata": {
        "id": "ltaulz9FVs2u"
      }
    },
    {
      "cell_type": "code",
      "source": [
        "# Attention 시각화 함수\n",
        "\n",
        "def visualize_attention(src, tgt, enc_attns, dec_attns, dec_enc_attns):\n",
        "    def draw(data, ax, x=\"auto\", y=\"auto\"):\n",
        "        import seaborn\n",
        "        seaborn.heatmap(data, \n",
        "                        square=True,\n",
        "                        vmin=0.0, vmax=1.0, \n",
        "                        cbar=False, ax=ax,\n",
        "                        xticklabels=x,\n",
        "                        yticklabels=y)\n",
        "        \n",
        "    for layer in range(0, 2, 1):\n",
        "        fig, axs = plt.subplots(1, 4, figsize=(20, 10))\n",
        "        print(\"Encoder Layer\", layer + 1)\n",
        "        for h in range(4):\n",
        "            draw(enc_attns[layer][0, h, :len(src), :len(src)], axs[h], src, src)\n",
        "        plt.show()\n",
        "        \n",
        "    for layer in range(0, 2, 1):\n",
        "        fig, axs = plt.subplots(1, 4, figsize=(20, 10))\n",
        "        print(\"Decoder Self Layer\", layer+1)\n",
        "        for h in range(4):\n",
        "            draw(dec_attns[layer][0, h, :len(tgt), :len(tgt)], axs[h], tgt, tgt)\n",
        "        plt.show()\n",
        "\n",
        "        print(\"Decoder Src Layer\", layer+1)\n",
        "        fig, axs = plt.subplots(1, 4, figsize=(20, 10))\n",
        "        for h in range(4):\n",
        "            draw(dec_enc_attns[layer][0, h, :len(tgt), :len(src)], axs[h], src, tgt)\n",
        "        plt.show()"
      ],
      "metadata": {
        "id": "m1sZT8QCV3qP"
      },
      "execution_count": 77,
      "outputs": []
    },
    {
      "cell_type": "code",
      "source": [
        "# 번역 생성 함수\n",
        "\n",
        "def evaluate(sentence, model, src_tokenizer, tgt_tokenizer):\n",
        "    sentence = preprocess_sentence(sentence)\n",
        "\n",
        "    pieces = src_tokenizer.encode_as_pieces(sentence)\n",
        "    tokens = src_tokenizer.encode_as_ids(sentence)\n",
        "\n",
        "    _input = tf.keras.preprocessing.sequence.pad_sequences([tokens],\n",
        "                                                           maxlen=enc_train.shape[-1],\n",
        "                                                           padding='post')\n",
        "    \n",
        "    ids = []\n",
        "    output = tf.expand_dims([tgt_tokenizer.bos_id()], 0)\n",
        "    for i in range(dec_train.shape[-1]):\n",
        "        enc_padding_mask, combined_mask, dec_padding_mask = \\\n",
        "        generate_masks(_input, output)\n",
        "\n",
        "        predictions, enc_attns, dec_attns, dec_enc_attns =\\\n",
        "        model(_input, \n",
        "              output,\n",
        "              enc_padding_mask,\n",
        "              combined_mask,\n",
        "              dec_padding_mask)\n",
        "\n",
        "        predicted_id = \\\n",
        "        tf.argmax(tf.math.softmax(predictions, axis=-1)[0, -1]).numpy().item()\n",
        "\n",
        "        if tgt_tokenizer.eos_id() == predicted_id:\n",
        "            result = tgt_tokenizer.decode_ids(ids)\n",
        "            return pieces, result, enc_attns, dec_attns, dec_enc_attns\n",
        "\n",
        "        ids.append(predicted_id)\n",
        "        output = tf.concat([output, tf.expand_dims([predicted_id], 0)], axis=-1)\n",
        "\n",
        "    result = tgt_tokenizer.decode_ids(ids)\n",
        "\n",
        "    return pieces, result, enc_attns, dec_attns, dec_enc_attns"
      ],
      "metadata": {
        "id": "VMe9Qiy8V41f"
      },
      "execution_count": 78,
      "outputs": []
    },
    {
      "cell_type": "code",
      "source": [
        "# 번역 생성 및 Attention 시각화 결합\n",
        "\n",
        "def translate(sentence, model, src_tokenizer, tgt_tokenizer, plot_attention=False):\n",
        "    pieces, result, enc_attns, dec_attns, dec_enc_attns = \\\n",
        "    evaluate(sentence, model, src_tokenizer, tgt_tokenizer)\n",
        "    \n",
        "    print('Input: %s' % (sentence))\n",
        "    print('Predicted translation: {}'.format(result))\n",
        "\n",
        "    if plot_attention:\n",
        "        visualize_attention(pieces, result.split(), enc_attns, dec_attns, dec_enc_attns)"
      ],
      "metadata": {
        "id": "n_TlUXoPV6E8"
      },
      "execution_count": 79,
      "outputs": []
    },
    {
      "cell_type": "code",
      "source": [
        "# 학습\n",
        "\n",
        "from tqdm import tqdm_notebook \n",
        "\n",
        "BATCH_SIZE = 64\n",
        "EPOCHS = 100\n",
        "\n",
        "examples = [\n",
        "            \"오바마는 대통령이다.\",\n",
        "            \"시민들은 도시 속에 산다.\",\n",
        "            \"커피는 필요 없다.\",\n",
        "            \"일곱 명의 사망자가 발생했다.\"\n",
        "]\n",
        "\n",
        "for epoch in range(EPOCHS):\n",
        "    total_loss = 0\n",
        "    \n",
        "    idx_list = list(range(0, enc_train.shape[0], BATCH_SIZE))\n",
        "    random.shuffle(idx_list)\n",
        "    t = tqdm_notebook(idx_list)\n",
        "\n",
        "    for (batch, idx) in enumerate(t):\n",
        "        batch_loss, enc_attns, dec_attns, dec_enc_attns = \\\n",
        "        train_step(enc_train[idx:idx+BATCH_SIZE],\n",
        "                    dec_train[idx:idx+BATCH_SIZE],\n",
        "                    transformer,\n",
        "                    optimizer)\n",
        "\n",
        "        total_loss += batch_loss\n",
        "        \n",
        "        t.set_description_str('Epoch %2d' % (epoch + 1))\n",
        "        t.set_postfix_str('Loss %.4f' % (total_loss.numpy() / (batch + 1)))\n",
        "\n",
        "    for example in examples:\n",
        "        translate(example, transformer, ko_tokenizer, en_tokenizer)"
      ],
      "metadata": {
        "colab": {
          "base_uri": "https://localhost:8080/",
          "height": 1000,
          "referenced_widgets": [
            "ea5cf2cee07a4bc0a8b326a9ec0a8e3e",
            "2597a86b8e8949e3b811305f404f515c",
            "cdb18b60062041d09ab0c12b0022b5ff",
            "dcc9b0b29a624eb5aed9dcc6ac060193",
            "12057eb4ad6a49268c30516e31b1b37e",
            "8c465efd47084d8b9c5354ef1f24fe83",
            "359d1dde89034ea4b6503423497cf959",
            "0d388a6184bf4306bcd8b6ee4801c733",
            "0f959e2118904aa0a5e421461f47c32f",
            "0f66d850d5ee4d4eb51d21c03c8487f9",
            "0e06015af3c2461a8559294d1f48b32a",
            "68a6de500e8448e68dffb25701938a14",
            "66b936cc0798410284b4c2e2f39e1796",
            "3198c589cd1b413babcecb20df28809d",
            "97577506fdb343caafd50a027cc5cee2",
            "4ffe38f966124eef89c818ffce16fe59",
            "5ceac547cd354fa2a845c989e4f889d9",
            "833bb3a6ebe742019b16e1ccc61cf17b",
            "83244ba2e6db4837946a8c1f0ffc96d8",
            "96586b0cee664cf791a6869a773ad86a",
            "6e67d8905f344c33a8960b62cf142202",
            "e49d9bfa6dce48d0853c809ff3696069",
            "27a78b8f75684a1abc371e91fbcf39a4",
            "7fc26fe61d194612aebf5f415c99885f",
            "9f7ed582d6eb48d8a5cc66686b43fe67",
            "77afdd8092d34f8496ab09588bfb1306",
            "a1467cbec69c4cf881c4773df759b6fa",
            "bdcaac5009804847b28fc171cde917a2",
            "abb5e9941a7845d6b4c9782bc63f6c46",
            "3a37cb68445a40f29d30bcb87aaa88cf",
            "ffa9832bcfed481e9221a4f297fc3f38",
            "d154618600ac4948bf22e331a85edb39",
            "e84069246c2147428363dfc7ae2b1bee",
            "b03f68827fb5464b90ff370b59c3d41c",
            "2692b2bed51d497ca706da82093a7835",
            "91164c30f59947e99051634e89d8edfa",
            "8e59d6a20cd748e08086018418732e0e",
            "80ef10ef420d49339da3c4e3413e29d6",
            "6ce5d0ae65cf4a92bc27000743fc0132",
            "39cd5c9458604ce08fea0c9a723f74b9",
            "06aa2202f98a4ae4815a9a6b4f7b9ef9",
            "c65fe2eb74f443edb3d895d381741fca",
            "3f73d98cf5bf4c0f95d29dd4ae9a5603",
            "e58b9fbb1d8548129b048389db7ee7ba",
            "81ee64db495b4d77a04a1b2ac396fcac",
            "2adfd416af13496aa6559b1be4663209",
            "4e62d2c67c4f45e5984bb1e3276bd305",
            "1547f30afcc649579607dba7d6b387fd",
            "9bbb9a93093c4301bb55fc2ed473aeb0",
            "f8f55c15de3d437f9da907c2246dd86e",
            "0c6fa237363f4eafacdd8ef8831ed8fc",
            "ccbb4ecabd954d0a9227bc2527615ca7",
            "c231acc6e03747ae8bc81b7859536050",
            "059276ee983b40bdb7c6cf91669b5387",
            "dc1741474f3a484ea5bab36dd29e863d",
            "ea174a9f6f7348c3910fb50c4d8c538d",
            "331aa153341f4fb48697f7e6463a05e2",
            "f217fc2d9b91469398c59e4bddf5bd16",
            "ec317bf655a94e0ebc84f2a901ce6e2f",
            "382d37e25aaa4aed93d9982e570536bc",
            "368d14d9347547e9bebf0d37745a571e",
            "c931fd4a99364677ad20e839a6be61f1",
            "e0070cd8297d4d4c99d07111a06cd06a",
            "ba6e7b3a61484fa29dccbd4d0b1926e1",
            "ef4e6efc6ee9418d8de10efa24c63052",
            "e875642be5d24e25b631e75432b932e7",
            "9b3ad4910b70443292d466265f5123e9",
            "18fae623831c4256ba4251756f338863",
            "94243ee35a9b485bb0359e9bd33293ab",
            "0c038806641f4805afd7d39767ae2f19",
            "f805171c0b404228b6dd0720b8e04ee1",
            "1ab95dd038e24d8aabe0edb625f6d012",
            "4cee3c0ffea9419aa472bc4785a7febc",
            "6fa55396e5a24926978e8b38e3b70129",
            "2a38922a9247497997bb74d2acd2f67a",
            "2e978533aeda423cbc6762000f965b55",
            "4eba124f358143ea9269465dff315206",
            "f62ee0ead5444fd09eb233c74020da5c",
            "172d82badf6249a79d3d9f7a74ebd62e",
            "6316de0d94dd40d89d0ee9bb8b72659a",
            "ff6e4674675b4357afaea8ab71ba5144",
            "d96162ae3aae4dcb804dd0aa6eb08249",
            "6e38ea550f7e40c4acae15cabb6021ac",
            "91fa2d270e75497880e0e1631281cca1",
            "4a58ca7992db4964bb85c9832dd7a4a4",
            "0feb5d3706244b0cb2d40a27e2e21502",
            "675103ea230e4ea6913a2fc3fc4dbfe0",
            "66e373c2cc664be7b68ccf5adfa2ea61"
          ]
        },
        "id": "Fz6rBnedV6AX",
        "outputId": "3838101b-49de-4cb6-dda5-889f04ffb328"
      },
      "execution_count": null,
      "outputs": [
        {
          "output_type": "stream",
          "name": "stderr",
          "text": [
            "/usr/local/lib/python3.7/dist-packages/ipykernel_launcher.py:20: TqdmDeprecationWarning: This function will be removed in tqdm==5.0.0\n",
            "Please use `tqdm.notebook.tqdm` instead of `tqdm.tqdm_notebook`\n"
          ]
        },
        {
          "output_type": "display_data",
          "data": {
            "text/plain": [
              "  0%|          | 0/902 [00:00<?, ?it/s]"
            ],
            "application/vnd.jupyter.widget-view+json": {
              "version_major": 2,
              "version_minor": 0,
              "model_id": "ea5cf2cee07a4bc0a8b326a9ec0a8e3e"
            }
          },
          "metadata": {}
        },
        {
          "output_type": "stream",
          "name": "stdout",
          "text": [
            "Input: 오바마는 대통령이다.\n",
            "Predicted translation: obama has also also won the first time .\n",
            "Input: 시민들은 도시 속에 산다.\n",
            "Predicted translation: the couple is a lot of the world .\n",
            "Input: 커피는 필요 없다.\n",
            "Predicted translation: it is not to be a lot of the\n",
            "Input: 일곱 명의 사망자가 발생했다.\n",
            "Predicted translation: the two people were injured .\n"
          ]
        },
        {
          "output_type": "display_data",
          "data": {
            "text/plain": [
              "  0%|          | 0/902 [00:00<?, ?it/s]"
            ],
            "application/vnd.jupyter.widget-view+json": {
              "version_major": 2,
              "version_minor": 0,
              "model_id": "68a6de500e8448e68dffb25701938a14"
            }
          },
          "metadata": {}
        },
        {
          "output_type": "stream",
          "name": "stdout",
          "text": [
            "Input: 오바마는 대통령이다.\n",
            "Predicted translation: obama is a president elected president obama .\n",
            "Input: 시민들은 도시 속에 산다.\n",
            "Predicted translation: the city s .\n",
            "Input: 커피는 필요 없다.\n",
            "Predicted translation: it is not a good thing .\n",
            "Input: 일곱 명의 사망자가 발생했다.\n",
            "Predicted translation: the death toll was killed in the death toll , the death toll in the death toll , the death toll in the death toll .\n"
          ]
        },
        {
          "output_type": "display_data",
          "data": {
            "text/plain": [
              "  0%|          | 0/902 [00:00<?, ?it/s]"
            ],
            "application/vnd.jupyter.widget-view+json": {
              "version_major": 2,
              "version_minor": 0,
              "model_id": "27a78b8f75684a1abc371e91fbcf39a4"
            }
          },
          "metadata": {}
        },
        {
          "output_type": "stream",
          "name": "stdout",
          "text": [
            "Input: 오바마는 대통령이다.\n",
            "Predicted translation: obama is the president elect .\n",
            "Input: 시민들은 도시 속에 산다.\n",
            "Predicted translation: the city of the mountainous mountainous mountainous mountain .\n",
            "Input: 커피는 필요 없다.\n",
            "Predicted translation: not to be ability to need .\n",
            "Input: 일곱 명의 사망자가 발생했다.\n",
            "Predicted translation: the death toll from the death toll .\n"
          ]
        },
        {
          "output_type": "display_data",
          "data": {
            "text/plain": [
              "  0%|          | 0/902 [00:00<?, ?it/s]"
            ],
            "application/vnd.jupyter.widget-view+json": {
              "version_major": 2,
              "version_minor": 0,
              "model_id": "b03f68827fb5464b90ff370b59c3d41c"
            }
          },
          "metadata": {}
        },
        {
          "output_type": "stream",
          "name": "stdout",
          "text": [
            "Input: 오바마는 대통령이다.\n",
            "Predicted translation: obama is the first president obama .\n",
            "Input: 시민들은 도시 속에 산다.\n",
            "Predicted translation: the mountain is the mountainous .\n",
            "Input: 커피는 필요 없다.\n",
            "Predicted translation: no needs to need no need .\n",
            "Input: 일곱 명의 사망자가 발생했다.\n",
            "Predicted translation: the death toll from the death toll\n"
          ]
        },
        {
          "output_type": "display_data",
          "data": {
            "text/plain": [
              "  0%|          | 0/902 [00:00<?, ?it/s]"
            ],
            "application/vnd.jupyter.widget-view+json": {
              "version_major": 2,
              "version_minor": 0,
              "model_id": "81ee64db495b4d77a04a1b2ac396fcac"
            }
          },
          "metadata": {}
        },
        {
          "output_type": "stream",
          "name": "stdout",
          "text": [
            "Input: 오바마는 대통령이다.\n",
            "Predicted translation: obama is the country .\n",
            "Input: 시민들은 도시 속에 산다.\n",
            "Predicted translation: it s a lot of people here .\n",
            "Input: 커피는 필요 없다.\n",
            "Predicted translation: you don t need to need .\n",
            "Input: 일곱 명의 사망자가 발생했다.\n",
            "Predicted translation: the death toll from the dead killed sunday .\n"
          ]
        },
        {
          "output_type": "display_data",
          "data": {
            "text/plain": [
              "  0%|          | 0/902 [00:00<?, ?it/s]"
            ],
            "application/vnd.jupyter.widget-view+json": {
              "version_major": 2,
              "version_minor": 0,
              "model_id": "ea174a9f6f7348c3910fb50c4d8c538d"
            }
          },
          "metadata": {}
        },
        {
          "output_type": "stream",
          "name": "stdout",
          "text": [
            "Input: 오바마는 대통령이다.\n",
            "Predicted translation: he is the president .\n",
            "Input: 시민들은 도시 속에 산다.\n",
            "Predicted translation: the city is true .\n",
            "Input: 커피는 필요 없다.\n",
            "Predicted translation: no .\n",
            "Input: 일곱 명의 사망자가 발생했다.\n",
            "Predicted translation: seven people died from the injured .\n"
          ]
        },
        {
          "output_type": "display_data",
          "data": {
            "text/plain": [
              "  0%|          | 0/902 [00:00<?, ?it/s]"
            ],
            "application/vnd.jupyter.widget-view+json": {
              "version_major": 2,
              "version_minor": 0,
              "model_id": "9b3ad4910b70443292d466265f5123e9"
            }
          },
          "metadata": {}
        },
        {
          "output_type": "stream",
          "name": "stdout",
          "text": [
            "Input: 오바마는 대통령이다.\n",
            "Predicted translation: obama is the way .\n",
            "Input: 시민들은 도시 속에 산다.\n",
            "Predicted translation: the citizens were up at the city .\n",
            "Input: 커피는 필요 없다.\n",
            "Predicted translation: need to need for a zoo .\n",
            "Input: 일곱 명의 사망자가 발생했다.\n",
            "Predicted translation: seven people were killed and seven were injured .\n"
          ]
        },
        {
          "output_type": "display_data",
          "data": {
            "text/plain": [
              "  0%|          | 0/902 [00:00<?, ?it/s]"
            ],
            "application/vnd.jupyter.widget-view+json": {
              "version_major": 2,
              "version_minor": 0,
              "model_id": "f62ee0ead5444fd09eb233c74020da5c"
            }
          },
          "metadata": {}
        }
      ]
    },
    {
      "cell_type": "markdown",
      "source": [],
      "metadata": {
        "id": "2ViUqr8LfIMP"
      }
    },
    {
      "cell_type": "markdown",
      "source": [
        "## 6. 실험"
      ],
      "metadata": {
        "id": "usbQ6cELVzDC"
      }
    },
    {
      "cell_type": "markdown",
      "source": [
        "### 1) base 파라미터, big 파라미터 & unigram, bpm 비교"
      ],
      "metadata": {
        "id": "sDZP5DmVV6qq"
      }
    },
    {
      "cell_type": "markdown",
      "source": [
        "- 첫 번째 시도 : 논문 base 파라미터, unigram, 5 epoch\n",
        "  - ![image.png](data:image/png;base64,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)\n",
        "- 두번째 시도 : big 파라미터, unigram, 5 epochs\n",
        "  - ![image.png](data:image/png;base64,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)\n",
        "- 세번째 시도 : base 파라미터, bpe, 5 epochs\n",
        "  - ![image.png](data:image/png;base64,iVBORw0KGgoAAAANSUhEUgAAAqQAAAC3CAYAAADEm0y1AAAAAXNSR0IArs4c6QAAAARnQU1BAACxjwv8YQUAAAAJcEhZcwAADsMAAA7DAcdvqGQAACObSURBVHhe7d3NqhzXtcDxyn0HQQYJWOLgBxAGg8lABsM9BAIJHMQdGiF7YDyOhR5AyB4LD2whMrwIQQKBoAsGaxAMAqMHMAdhSAYGPURure5ap1cv7a/a9dnd/x8UXbW/d3V31eqq7nN+9Z9WAwAAACzkv7pHAAAAYBEEpAAAAFgUASkAAAAWxXdIV+QPf/tTtwYA6/b3P/61WwOA4bhCCgAAgEURkAIAAGBRBKQAAABYFAEpAAAAFrXOgPTHB82Nh6+6DQAAgCFeNQ9u3Gge/NhtYnUKAtI3zdM7N5ob7RO5Wx60T+2abF9odoz9X3RtG3eetrPd9+qhadcFyW+e3dnl2bq/PG3uBOvIvrzTPP2l2wSAI5M6Zu6kgoNUnjmG2uPsjfhxdXOcDhzbN+TiR+58tikjfWi5/fONH2fZ/HcGjy8kuW/S499JlSttw3PxRGT/yD4paTNZrt13d57ZvXqzuf/6dXP/vW5T9lFsv2/mVxvnbOdYvk/GE41JnHS5Ic+7ze/239VrMR/7FF8hvfv0dfO6fTK3y/32qV2ZWw+bl1fjMy+6AtsDyEXzuNtW8qRdNM+6Nl82D3+62L3A2xf7+/84v+rz2bv3mvc3b672xXj/eXP+g9Z5dPUkvHn2RXP52ZPm9q+32wBwTPaPme1xsd3aDwq23jx79NbxVqXymh+/be69+3l7DG1PfB/ocbZdfjhvnn8QCiBeNd/++UW37rXH6q+jPe259dXLth8570mwcdE0ej784WFzeXt3ok2eM4LGGF+7L/aCCrdvnp419672TXr8O6lypW0E/Ph90zzo6rXLW6+PLnh5P7pPOslyXVB0u+y5DZHX4OVXn6wvzkl61XzffLnbt1cxiZcql3t9XzbnXb23n3fZ76bu6/P2+W6Tf327eSL9fLotlTLwlr0MoH2hX32CbBcXbe9F4u3iI2qb79+49pNm8tPGL5fNZbfqbdtPfNJpX9iPfmqD2Xbn3uqStt403/+jaR5+rC/Ja83tz+42L/7x/WZ+r7573Nz97HabunXz47b+N8/bfv7VjuW8+XATdF5rPvx901z+u11t+/ni8vNegTIAHA5/zNweF5vumHlFjoV/Pmvuhk5QqbzWq+8ut+3/+Lx5/KkEpl1Ge9L7/NPHzXN3nnj18KK5/PSuO7ZvyQWCe+/ebe5220V++b553jxsPtHj+KbfF83zf8oMU+cMOdG35zIXIAwd3/Yc2QafT3bnorf2zXufNA9vdfsmNf7NebwLMFLlkvsg473bexdkbn7U7p/Lf3Vb7Xz+cq85awOaXPCSKrcNJl82L7/ye7WLV2RV5vrBvebFizYYeyv2kOfxrPn8YrtHbYwyxlXPvSvo7qphrK9dnVTgf7O53Y1ZyL4NS5Vr45cXd5vzq+f2w+bc7MZrF7d3QbrL0/2+i3FuNjev1suM8B3Sx83Fd+ddROyibbmK2B5cnnV5b0fbd/auMn7Zxu1Xb9dvLprnH3X1nt5tHn8dv/y80b2wNk+aedNfu3jStpG4otu+mZ7YN/MVeWLOmjN7NfM3Z82tF5dtzpvm8qdbzdlvunTx67ZsG4pe/vLb9vF58/1mjtsD1Nlv2oPR/cvm83vRUQDA8ZHj4uaYqeTqnQQT99uP7V4qr7W5eKAf9t/227NbzeXPu7OEnF8ufnrYfPnxWZdi6LnpXrCnuH9fNi/ePds7X0i/26Aqdc5og9Mn7bnMnAMGjW8TPN7ozpH757c3P182t85+222Ja83Zu81236TG/979tq3uDl6qXHIf9CMXduxYb94ru7uZKifn/Ccm4AqSucpFqO7O6l75zVX48+0+lefhKkZ52Zz9vP+Boi99zq/u5tqr15G+NnWurrp/3jQlgX9rc9Hso3zMsV/uZnNuP9jJhw//mlabDyb6ftzGOufvfG++KpK4EBhRHJA+vq2d7Ad8Tfv57Zl5k92896y5u7lS2AZhX7cTbQ8uV7lt8PflV83+p8kHu2BwL/r+9NnuBffeeXN376DmSFCpT3DRbZICctX11llj39bboFMEDjxtyfY92ZJPxfIik331fvP89182H/5TbtXfbyer+zD1KQcADtH2jtC9v+zOD3IF0N443VwR3LuKspPKE2/++bw507tSck74Zvd1qO2VVXP7trvS+ix4saENfG9fNg9/6P/Vs7eDvXbW73QBZfKc4QwY3+ZqWXcRKLSv/nX5ojl7Z79VCRhFcvxGqlxpGzlXAXkueJzZ1VV4IR8otmut9tx+0fcVY8nXM/ZjHgmMn2kAGOlrf9/uX930ZJ9qnCYfVqLvpUQ5CfbPv+tilQ8um8/3PvDIVeYurw1pvtx7/b5o7n3dpnWx2MuvLpsLd0cgp+47pMVX+txVxJbs3OinyVF0t0kqPq3teeuTfevqgCPBp1wN7dI3zHw2nzS3++rJ777f3qpvHuw+5cj3ne5nrvgCwIGRq1PyvUA92T06e9jc7YI0OQk+OnsZvHqVytuSk/nZ7lZie4q8v/ne6O7Eef5Ve77ZBGJypdWfSJXcOn/UnP1Q913+3flr5ypAS54zrGHjk4Dh9UfPN/MO3UKW4NNeKRYapCbHb6TKlbYRt/36whfyPcZgQL4gfxVeLnZ9dtndfe1/xe9tb8c8V89XrK82nnh59mj7Ok/8UEls7whvY49NUBkpHy+3DTiv7k6/bt9je6+z7Q/DNnkPmuaLvbxb7gLj593FyXIj3LJ39t6AL7bfnzT2X7g+qFuTQNB5datCboG4uQUPPLtb9TLvq8visU/NAHDgNgFTd9J68s5l83hzzNz+eOfFn9/fnljb5eKb7s7bw/9N5HWns833IrvbqGrvztgnTbP5elR71N38KOpxc9G1tfuu4J3m6f9929x78aK7gyWLXMHdli36fqBcxfrpcu8kv7simTpn7Iwyvu6ix/ZK1n6g9HbAaL5ilhy/kSpX2kaQBDxfbH7YlL2tvgC5Ct/8/sO95+vqAtMPZ82jTECY93bMs7fvIn1dBZASsBZeddzcrU7dWe7sldu8z8zdaQlA5SuT3wX63Nzxth9+SmKitFG+Q/rI3B6XLxtvn9DtlcrHt82bZXObomnOfyc7X76r0L7xzJXCN8+e9oqm1ZtnD8wt8PYFf7vsuxNp/vZT9xWErl35IrD9Xutu3jvbX9VvPwXLQeLqSZUnyh2kAODg/fjUHYv19qe5stIt8oOUzZ23e/+TyJO6cuw1t1E32rRnu7PF9gdA2x/y2Ks/m+Xqu4JPmtv/vbt7tV3ak7F87axdj93e3CM/5GjuNd9qcChX1L7RH4GkzxlqzPFtg//z5rkNlPzXGeQ7kfpdv+T4jVS50jYC5GsZzdO6q9PT216F1x8zbey9nlsFAV7czeaTr9rXh707+uOD9sNXt+8ifb0VF7kPA1dc/c0Hn1BAmConHzb2rmpuX8Pbi4j777nt/tJgWl77t7IxUU7dd0j3vgPZ7szmi6s8uS199clHLjXL9wi03uZPUexejPJm2vwIqsv/ovlwE7z1de3ivLk0nyjt95C235Wou9R+7eLLzfdRt+3K90HN95vaudmx781byBeU7a/qpbzeypLbNcVfewCAA/HemTkW198a37P34wnVngCb7jZmu8ixtvyrZENca24/kB/ndnPcnNN2t97j54z2ZB74lf042mB/79a3XNXS3zG0y+3GfFc1Mf7ND6X03J6aZ3ofvHqY/o3EfizRLiVXHffGNpIusJZz+OY3J6Gr8O992DT3u3F2P7iTfIkrclfU9+e5jUHkw4iNGzbPjX51I9LXtYuzzW3zbfn2g5n9Dqpl67fL5gdS+rzb/ZcqJ3cdnja7mK17DW9jm/Z5f2f7VZHtsv0TTxrj+Lm9FRMV+NV/Wt16Bbn83r4Yg9+FQV9/+NufujUAWLe///Gv3dq05OT/7TtPdh/u59aezO/8/MkqbzGvTxsT3LlsPlnbd0MLSCB9+XHJByj5cPFtc/aEuKePkv07/ndIAQAYhf8x0zK232+tu9N2Un583lz2vE27CvK1g8SfFNsjV+z1z0Ihr9238qeg5HvhOVwhXRGukAI4FHNdIQVwGgZeIZUvqhOMAgAAoB637AEAALCogbfsAQAAgGG4QgoAAIBFEZACAABgUQSkAAAAWBQBKQAAABZFQAoAAIBFEZACAABgUQSkAAAAWBR/h3SgGzduNK9fv+62yoXq1bZVw/YV61fSc2y9WPmx5jl3PQAAMI+igPRYTuilAZOIzdmnh7ZjUvVErM8h/Hi0fdvX1GPxYxChtm25WH5onCG23JhzAQAA41vdLftYgDGUBiWhZew+Q30sITTnPqR+bimVG4O0ZcuUtO3r2AUAAByOg/sOaZ8gSGngEiN5Ne0eOxvgxRZP9qNfQuWsUBnZlnQAAHD8qgNSG3D4wEG3U3mWLa+PoXLHToOw3DKHmrHIttTzi+aF6gAAAAy6QmqDjlRwUhqESFl91HUvlj4FDaDsEpLKSwnV07mnlrHkxh3qN5RWoqbOmHJzBQAAy5nslr0NPGR9yWAg17/khQIlSfNLSCovpbbeWMbuX9rSwC+2LGXpfQ0AAOIO7juktVLB0hoCldC4UsuUQv3JEsuzNPCLLQAAAN5J/KhJ+cBoTUGSHVvJMqVQf6mlr5o6AADgeJ3MFdJDMCTYnoK9ChpaYkJl7QIAAGBNFpDawEPWY1fF+gYoXF2bhz5nqSX03NXUC6VpO1MKjR8AAMyv+j81+TS7ret6wg/VVVrOtyV8vRq2rxKhcVihueTqKF8u19YYYnOwfdWOZcx6QtJVLD/UX4yWTfUXSgcAAPOa5H/Zn9KJvnauqSApZ4x9a/uvHUtsHLX1cmLjzKmtBwAA5jFJQAoAAACU4kdNAAAAWBQBKQAAABZFQAoAAIBFEZACAABgUQSkAAAAWBQBKQAAABaVDEjl7zf6ZQq+3an6KbFk30NMMe6174s1jm+uMU3dj7Qf6mNN+3yMsaxpPgBwyrJXSOUPittlrQfwucd1DCcyTsbrt8RzJH3q+31qvAYBAGKVt+znOBEib4rn4dgDkGN/7fLeBABMIfmfmvRKiWXTdF2DDFvWBx6hdoTW93V9eWXb1TKlfalYvqSn+lYl7WlbwubburF0EWrTivXp1fYnYm0KrT9mmymx/mQ7lCfseHw9oXVL65UItSdsm6Kk3VQdnydS+aXzyNWT/FBbmq71S8aS6ysnNRaVypc8bSPUVqx9z/Ynxqhj822epktaaHw1YwGAVZCANOb69evd2o5Nk/VcGeXrqVAbofoiVa60jojVk/VYO16qXKwdn2a3++SJVHmVKxOqY8XybXpsXeTaL5XqL5VnhfL8o0jVKxEqX5oWEiuXanNIfyJVNpYn6aX92rRYeyVK+ktty7pu+3IilOaNVc9ul+T5R+HriVAaAKxR9pa9fOK2i//E3fcTuG+jtP4YfXu1YykRamvq9r0x+1OhfSZpU8n1F8uz6X3U1utrrn7mVDqnKeeeajv0WlKybl9XvmwftfXU0PoAcIh6/6iplBzQ7bKktY6llOz32rHX9HcsaudeWy9myPNXy85hzn69pec+tanmVzsHW69vXQBY0mQ/apIDtV+WspaxyAmidgxap8+JZkh/U5nrJFk796n2mbYn7c+xD+wcdFmK9j/H3Md4/rSNUtrXWPMbMgdbr6Y+ACxllb+yR5yeZMY48WF+p/z8rX3uQ8d2ys8tAAw1W0CqB2l/wC49eIcO9LUH/qFjGUOfvsYY11hzC+0zSSvVp6zI9VcyFlumj9p63ljtDLHUGJacu+879FoK6fManXp+Q9vvU3/quQBAyiQBqR747WIP8ja/z8Hftxtr0/J1ZInVs+k5sf5SQn2V1Lf1fP2UXH82v49Qu1NK9RfLC6XLek5tvRTbpm87x9YtNaS/seXGUjO/FNue9mPbDuUPYdsbq93QGGU9Z4qxAMBckn+HFABOgQZ8BHAAsAwCUgAAACyKHzUBAABgUQSkAAAAWBQBKQAAABZFQAoAAIBF8aOmjv8TKfqr2xBfLvTL3FR9VVNvTb8Cjs29jyFt2LpjtWPVtjlkLAAAnKKigPSYTrClwceQcrG6OSX1atqWOjmpNmN91s7TKp2zsmVt3SFjidUNpduxWLFxAQCAvNXdso+d8FFHg6PcMjcZl45N10P8+GPl5uDHYhcAAFDv4L5DumRAUkoCFBlnbjk1du42kNN1mz+XOfsCAABh1QGpDR78SV23U3mWLa+PoXKHRIOs1OJJms49toTqHYrQ3GVOKpQ/B+nPjsPS/Q4AAKYz6AqpDSD8SVu2Y3kxUlYfdd2Lpa+FBjCli6dzjy0YL0iUNnSfymPq+ehrrDECAHAKqn/U5NPsdqp8rq1Q/lhKxyBkO8aXm2q8Y0nNRcXmoPMLzbPP3EvGYGm7vg+7HVsvESufarO0j75jAQDg1BGQdmr7jbWVU1PHqhlrDZ1fbJ5Tj8P3Ybdj6zmlZVN9p/QZCwAAOKEfNdkgQR5r2ykh7ecW33+oTGoZonTuc+6zOQ3dfwAAYFwHF5DOaUgAJnVTSygokvRj5vdBaJnLnH0BAIC0yQJSe8KX9dhVqb6BQc3VrVD/sj1GUBILLCU9tazdFPvMzj+2jPGcjEXGM6Y1zQ0AgDWZLCDV4MIHNjbd5wmbP4ZQH6dC96NfYnlK1teyz3Kvlzn5sfgFAADUmeR/2cvJ+dCCwNiYSwKNNdRbwhTPc582bdmasUy1r6fYLwAAHLNJAlIAAACgFD9qAgAAwKIISAEAALAoAlIAAAAsioAUAAAAiyIgBQAAwKKSAan8+Rq/TMG3O1U/JZbse4gpxr32fbHU+A71NWId+xz6zm/M/bHGfbvUmNa4L/o6hjkAhyB7hVT+nqJd1vrmnHtcHGjnwzjncwxzOBRT7GveK/PhvQKMa5W37Pmj4uswxfNwDAfxY3h9Hvt7jGPIOvBeAVAq+YfxJXjwb0abpusaZNiyPvAItSO0vq/ryyvbrpYp7UvF8iU91bcqaU/bEjbf1o2li1CbVqxPr7Y/EWtTaP0x2wxJtenzRN/xxNi6vl5oDrlxlrQRkmo3x9Yt6T/VV6x8n/HU6DsHFRuvkHSfr9u2jKXpqk/bIbn2RGwsMak2fZ5I5Zf2KWxdX0/yQmmWH0dJGyGpdnNs3ZL+U33FyvcZD3CSJCCNuX79ere2Y9NkPVdG+Xoq1EaovkiVK60jYvVkPdaOlyoXa8en2e0+eSJVXuXKhOpYsXybHlsXufZLlYxDaVoqL8eXy22rPumxslZtPeHL5bZVn/RY2bHkxpzqPzVe/yhk3W8ru65SZUPlQ1LlYu3nxMqG0jUtlZfjy+W2VZ/0WFmrtp7w5XLbqk96rCyAnewte/lkZxf/Ka/vpz7fRmn9Mfr2asdSItTW1O17Y/anQvtM0o7FFK8zv49CfZQqqbf2OZSYYg45tn0/3xg/zjHGGGqzZCxzm+I58nMN9VGqpN7a5wCckt4/aiolb0K7LGmtYykl+7127DX9HQs790Oc/5DnHeOyr6NjfD4OfX68V4DDN9mPmjSAtctS1jIWOVjWjkHr9DnoDulvKnOeMOzc17IP9DkppePu87xPre8cjoE+D3Y5JmucH+8V4LSs8lf2iLMHXRyOoc/ZGp53XneYA+8V4DTNFpDqm9O/UUvftKE3eO0bfuhYxtCnrzHGNdbcQvtM0kr1KTu2kn0w5usspM/8a/td0xxU3/6nnkOIbV/WU/PUsn6cY4wx1GbNPh+iZB5TP0d95lzb75rmoMbsHzgkvf/sk5XK928qX07z9YBg80vbTbVp2ToiVS/Vt5fqL9aG78uu2zqhbcu378sr34euq1CairUpYm2ltoco6U/YNK2j+ozF1k314Wm9UH6qXswxzEEMqaf6ziFW3j/6PBGqa8Xyfbs5sf5EKi8lVC80JpumdVSfPm3dVB+e1gvlp+rFHMMcRG094NAlA1IAw6VOWodiyBw4waLUqb9XgFNGQAoAAIBF8aMmAAAALIqAFAAAAIsiIAUAAMCiCEgBAACwKAJSAAAALIpf2Xdq/zRNqN7Yf+ZG/4xIjPY1dr8pdkyhPmvHMuccAADAOhQFpIceJNjgSfn5+DmG6ihfLtfWGELj69Ov5IXUjLN2LCVjCNUDAADHbXUB6Vx9+X5q+w3Vm2IOJeON9ZsaT9+xlvaR247pOx4AAHD4Du47pBKwzMX3NWffY8kFeJI31rykHV0AAABKVQekNvjwAYhup/IsW14fQ+UOhQZ5uaUPGzjK4xqvIsqYdAEAACg16AqpDUB8gKVBUygvRsrqo657sfQY6Tu0+Lyx6RxSSyk/Zn206XORcfs+ZbvPfHKWmBcAAFjOZLfsbYASCmLmIn2HFp+3ZnacoUXZdSVpqX1fE0xqm7r0rZ8j7Y3dJgAAWK+T/DukUwRRygZqJUupUF2/xPgA0i61+0GDxlj92nYBAMDp4UdNI7OBWslSKlTXL7l948vX8v3ktgEAAFJO7gqpBEtDgrESUwVk0m5qmXpeAAAAU5gsIJUASaWCJVuuRG3QVRO0SVkdX9+6Y9P+U8ucdH/q/pnaXP0AAID5Vf9hfJ9mt3Vdg4hQXaXlfFvC16tR2lZsDDFa1tcTobShatrMzcErbd+PxW7remi8qfH4+l4sHQAAHL5J/pf9IQYPtWNOBVA5ffubos1adizSp27b/mP7JqWmDgAAOGyTBKQAAABAqZP8s08AAABYDwJSAAAALIqAFAAAAIsiIAUAAMCiCEgB4ACU/JUNADhUyYBUDoB+mYJvd6p+SizZ9xBTjPtQ98VaHPv+Y37TOJR+j/35L8E+AMaTvUIqfxPSLmt9A849rmM4EHEwXYdjfx6Y32Gbe37HsD+P/TUBTGGVt+z5w+jrMMXzwIEaWCeOu/2xz4DxJP8wvgQP/g1n03Rdgwxb1gceoXaE1vd1fXll29UypX2pWL6kp/pWJe1pW8Lm27qxdBFq04r16dX2J2JtCq0/ZpshWt4/qpI+vVydVH5pXUmX9dx4cu0J22aJ0jEqm19aV9JlPTemXHvCtlmidIzK5pfWlXRZz40p156wbZbQfn09n65K2rV17aMVS7Nsvs8Tsfq+XqzvVH85tm5pvaFjidW3bH6qP+DkSUAac/369W5tx6bJeq6M8vVUqI1QfZEqV1pHxOrJeqwdL1Uu1o5Ps9t98kSqvMqVCdWxYvk2PbYucu2X0Db8owi1X9KnL1PaZipP+PVQ+ZBUuVj7Kb5crg1NS+UJvx4qH5IqF2s/xZfLtaFpqTzh10PlQ1LlYu2n+L513aerUJpn27CPVqydPuk2rWRd5fJzfJ3SNlJjKWkz1k+f9FhZ4NRkb9nLpze7+E9yfT/Z+TZK64/Rt1c7lhKhtqZu3xuzPxXaZ5J26qZ4La1pXzO//obMr7beWgyZew3b15r5/eD3E3DKev+oqZS80eyypLWOpZTs99qx1/R3SOz8xppjqs1U3qFIzSGVdyhSc0jlHYpjmMMU2CfAYZvsR00+kJVlKWsZixwoa8egdfoccIf0N5WxTxZ2fmPNM9VmKu9QpOaQyjsUqTmk8g7FMcxhbGs81uXomAFsrfJX9ojTA+7Ygd1a6VztI4B+eB+thz4HAPbNFpDqG9C/GUvfmKE3ce2beuhYxtCnrzHGNdbcQvtM0kr1KVtjrHlaqTY1b4rX0tB9XSo1Vs1jfv0NmV+femOMdWx95j72+Ie0N+e+LH0tWHOOD5hb7z/7ZKXy/RvHl9N8SfftlLabatOydUSqXqpvL9VfrA3fl123dULblm/fl1e+D11XoTQVa1PE2kpt19J2Qu3pOFRJf7lxptrM9af5ku7bTbH1vFReiO83tG2V5gk7Ft9uiq3npfJCfL+hbas0T9ix+HZTbD0vlRei/fp6Pl3VtBuqE0sX2qfND5X3aaF6QtOF5JXWS7F1+tSPjUUfld8WoTSl7YbyU/VSausBhyAZkAIA1oFg5PClglTg1PEdUgAAZiCBKMEoEMYVUgAAACyKK6QAAABYFAEpAAAAFkVACgAAgEWdzHdI9deNIvSl8tAvWG2dmD5fUI+1F+q35ovvtfVSfJtrnUOferGyPj3VZqpsqJ6kqT71StTWAwBgLYqukNqT6SHSE7YupfOxdWJL333j6ytpR5eU0nJ99WkvNoccO3a/xITKynJoavaXCM1dFgAAjsnqbtmPfbKV9nwQINtrO6mXBCw6F10OLTCxYw9th9gydhk6d6nvl6mE+pIlR8qE5i4LAADH5OC+Q1pyIp/K0n37QES2lxxTjoxtreOzwZ0uIaE5yLaUD6X7NOH70UXF6gEAcCqqA1I9iYZOprqdyrNseX0MlashJ37flmzbgKDWWO0InbMf6yHzgdch6jOHVNnU89unDwAAjtGgK6R6IpXFn2hlO5YXI2X1Ude9WHqKjkGXmjZCxmpHSFu6rI3ut7Hk2qrtr7Se7GMta5eSfW/LaTs5WkeXkjp9SZtTtAsAwBwmu2WvJ20x1Um4DxsQhPh0PcHbJZYuS6naeqF9KNux+fSh7cTGI3m2Hylnlxp9+ivVp56WtYvn02S8oXJrEJsDAACHoOjPPoVOxD7NbqfK59oK5Q8lbeaM3ecQqX1g55Laj31ovVD9oW2GDO2vtp4l5XP6tGfFxqdi7fp6pXMqLQcAwFqdxI+a5GSdW0LtlvRVM54cGU+MHfMYbDAjj2PNJza+qfrrS/rOLbVjk7qebTcmlQcAwDE7uIC0lgQXqWXOYCDUv10OQWjcdpmKtD3Wc+XH7JdYP6GydsnxZUrqAABwzCa7ZS/sdmhdpMqOpbZNHVtOn7ZLxuLLlIxDyvedZ6y8TQ+VKemnT71cf0LSRazfWL2YvuVVSb1cGZ8fK186xqH1AQBY2qQ/apIToj8p2vTQCdPmr4GMJ7XMIdSvX/oK7fsp1fanr4Xaea6NzkUeQ9uWpscWAACOxST/y15OlmsLHkpO4KEx5+rVzHOKNsUU+z3W5trmUFMvNwcx1ty1js3zYw6VKeHbAQDg0EwSkAIAAAClTuZHTQAAAFgnAlIAAAAsioAUAAAAiyIgBQAAwKIISAEAALAoAlIAAAAsKhmQyt839MsUfLtT9VNiyb6HmGLch7ovTsmxPkcl80qVqc0rdaz7HQCWkr1CKn9w2y5rPRDPPa5jOCFxUgUAAGuwylv2/NeZdZjieSAIxlg4TgDA8RgUkGpwIY8+0NC0UJ6IpYtYutB6toyu+3Sl6bn8Ulo21Z4++nxNS6X7PJHLj4nV0e1Qnoqli1A9TQvlDZFqN5YXKmfZOjYvlp6jZWP1ND2Xb+l2rE6K1ulTV8v5R6Vt6WLpdizPLrVC7Y7JjjHUdiwdADAC+dehMdevX+/WdmyarOfKKF9PhdoI1RepcqV1RKyerMfa8VLlYu34NLvdJ0+kyqtcmVAdK5Zv02PrItd+iVAbmtYnz27X1kuRcrZsbF2VlJX1WJ4akuZpGf8ocm3Keq6MCqV5vkzfdvrm5dL8eqg8AKBe9gqpvWIgi79N1ve2mW+jtP4YfXu1YykRamvq9r0x+1OhfSZpc5piXmOo2S+5/VnT5lLsWMfk99HcQs8RAGBcvX/UVEoO4nZZ0lrHUkr2e+3Ya/pbk9zc7fxiZUJq69U6hv5q26ytJ6R8n+POEEPGCQAYZrIfNWkAa5elrGUsenKtGYPW6XOyHNLfVGpO9Km52/npoulaVveDZcvrMqVj6K+2zdp6Na+VIWrHCQAYbpW/skecnijnPlmvwSnPfQ66b+3jkni+AeB0zBaQ6knFn2BKTzahE1PtiWroWMbQp68xxjXW3EL7TNJK9Skr+o7bltexlvTZt58Q20auXy2rY1S+Xp82U2w7Y6lts289v4/mon2GnqM+lhg7AByaX8kvm7r1t8iBNHUCTOX7g7Avp/l6sLf5pe2m2rRsHZGql+rbS/UXa8P3ZddtndC25dv35ZXvQ9dVKE3F2hSxtlLbtbQv5fuwfH+xMcTq+fKx+p6W03Z9nVh/KlQv16bQMl6uvxjbp6+TajM2DlEzllj/ffrsmyfpVqh/Iemp9r0+ZQHgVCUDUgBlpgg6CGQAAKeCgBQAAACL4kdNAAAAWBQBKQAAABZFQAoAAIBFEZACAABgUQSkAAAAWBQBKQAAABZFQAoAAIBFEZACAABgQU3z/3QNlBSXMq+bAAAAAElFTkSuQmCC)\n",
        "- 네번째 시도 : big 파라미터, bpe, 5 epochs\n",
        "  - ![image.png](data:image/png;base64,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)\n"
      ],
      "metadata": {
        "id": "ikEuUTng4P7t"
      }
    },
    {
      "cell_type": "markdown",
      "source": [
        "> - 현재까지는 big 파라미터 모델보다 base 파라미터 모델이 더 좋은 성능을 보여주고 있다. 아무래도 데이터셋의 크기가 작기 때문이것 같다.\n",
        "- bpe보다 unigram이 더 좋은 성능을 보여주고 있다.\n",
        "- 일단 파라미터는 base로 선택하고 나머지 char, word를 진행해보도록 하겠다."
      ],
      "metadata": {
        "id": "Tz99lzGbClzM"
      }
    },
    {
      "cell_type": "markdown",
      "source": [
        "### 2) char, word 비교"
      ],
      "metadata": {
        "id": "XAha7OrJWFHJ"
      }
    },
    {
      "cell_type": "markdown",
      "source": [
        "- 다섯 번째 시도 : base 파라미터, char, 5 epochs\n",
        "  - ![image.png](data:image/png;base64,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)\n",
        "- 여섯 번째 시도 : base 파라미터, word, 5 epochs\n",
        "  - ![image.png](data:image/png;base64,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)"
      ],
      "metadata": {
        "id": "JbuNu-r2D4rA"
      }
    },
    {
      "cell_type": "markdown",
      "source": [
        "### 3) small 파라미터, base 파라미터 비교"
      ],
      "metadata": {
        "id": "1n9Sw-bhWIS9"
      }
    },
    {
      "cell_type": "markdown",
      "source": [
        "> 현재까지 최적의 선택안은 base 파라미터, unigram이다. 여기까지 모델을 pick하고  마지막으로 small 모델 파라미터 값을 적용하여 5 epochs를 돌려 확인해 보고 최종 결정하겠다.\n",
        "- small 파라미터\n",
        "  - ![image.png](data:image/png;base64,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)"
      ],
      "metadata": {
        "id": "lub1ACzBFMFt"
      }
    },
    {
      "cell_type": "markdown",
      "source": [
        "### 4) padding 지정 : encoding - pre, decoding - post or 둘다 post를 비교\n",
        "- encoding : pre, decoding : post\n",
        "  - ![image.png](data:image/png;base64,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)\n",
        "  - 성능이 완전 별로이다."
      ],
      "metadata": {
        "id": "eeZ04YigXzpJ"
      }
    },
    {
      "cell_type": "markdown",
      "source": [
        "### 5) 최종결정\n",
        "> 최종 결정은 base 파라미터, unigram, padding은 둘다 post이다.\n",
        "- small 파라미터와 거의 유사한 성능을 보이곤 있으나 small 파라미터는 유사한 문장이 2개, base 파라미터는 유사한 문장이 3개 이므로 base 파라미터를 선택하기 되었다. \n",
        "- 이것으로 논문에 나와있는대로 100 epochs를 돌려 최종 결과를 출력하도록 하겠다."
      ],
      "metadata": {
        "id": "2rBIOraqIniP"
      }
    },
    {
      "cell_type": "markdown",
      "source": [
        "![image.png](data:image/png;base64,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)"
      ],
      "metadata": {
        "id": "8NXPz-kNmnXC"
      }
    },
    {
      "cell_type": "code",
      "source": [
        "for example in examples:\n",
        "        translate(example, transformer, ko_tokenizer, en_tokenizer)"
      ],
      "metadata": {
        "id": "dsKLPspSga8b"
      },
      "execution_count": null,
      "outputs": []
    },
    {
      "cell_type": "code",
      "source": [
        "for example in examples:\n",
        "        translate(example, transformer, ko_tokenizer, en_tokenizer, True)"
      ],
      "metadata": {
        "id": "UBZRGU5Dgoqe"
      },
      "execution_count": null,
      "outputs": []
    },
    {
      "cell_type": "markdown",
      "source": [
        "## 6. 회고"
      ],
      "metadata": {
        "id": "DPFeI0yKyG2J"
      }
    },
    {
      "cell_type": "markdown",
      "source": [
        "## 7.루브릭 기준"
      ],
      "metadata": {
        "id": "7H63NMbbyJUK"
      }
    },
    {
      "cell_type": "markdown",
      "source": [
        "1. 번역기 모델 학습에 필요한 텍스트 데이터 전처리가 잘 이루어졌다.\n",
        "    - 데이터 정제, SentencePiece를 활용한 토큰화 및 데이터셋 구축의 과정이 지시대로 진행되었다.\n",
        "\n",
        "2. Transformer 번역기 모델이 정상적으로 구동된다.\n",
        "    - Transformer 모델의 학습과 추론 과정이 정상적으로 진행되어, 한-영 번역기능이 정상 동작한다.\n",
        "    \n",
        "3. 테스트 결과 의미가 통하는 수준의 번역문이 생성되었다.\n",
        "    - 제시된 문장에 대한 그럴듯한 영어 번역문이 생성되며, 시각화된 Attention Map으로 결과를 뒷받침한다."
      ],
      "metadata": {
        "id": "eoGSNBUFyMa0"
      }
    }
  ]
}