{
  "nbformat": 4,
  "nbformat_minor": 0,
  "metadata": {
    "colab": {
      "provenance": [],
      "machine_shape": "hm",
      "mount_file_id": "1O6TxYALkg2ebyz3qAqRcuXa-vlgmpmM6",
      "authorship_tag": "ABX9TyO+h/MEJ8SfuLAI2db/ELYN",
      "include_colab_link": true
    },
    "kernelspec": {
      "name": "python3",
      "display_name": "Python 3"
    },
    "language_info": {
      "name": "python"
    },
    "accelerator": "GPU",
    "gpuClass": "premium",
    "widgets": {
      "application/vnd.jupyter.widget-state+json": {
        "f9fe94a3dad44f7e921193c32bb0a9b5": {
          "model_module": "@jupyter-widgets/controls",
          "model_name": "HBoxModel",
          "model_module_version": "1.5.0",
          "state": {
            "_dom_classes": [],
            "_model_module": "@jupyter-widgets/controls",
            "_model_module_version": "1.5.0",
            "_model_name": "HBoxModel",
            "_view_count": null,
            "_view_module": "@jupyter-widgets/controls",
            "_view_module_version": "1.5.0",
            "_view_name": "HBoxView",
            "box_style": "",
            "children": [
              "IPY_MODEL_a0d051739b1f40fcb78d27c896b2a68d",
              "IPY_MODEL_74b867d58a2e417e9cf4c28e1cb10b26",
              "IPY_MODEL_7824cba08d094559a3d89483ef945f7d"
            ],
            "layout": "IPY_MODEL_6dc171b5ef914a03986a24f13537c3a0"
          }
        },
        "a0d051739b1f40fcb78d27c896b2a68d": {
          "model_module": "@jupyter-widgets/controls",
          "model_name": "HTMLModel",
          "model_module_version": "1.5.0",
          "state": {
            "_dom_classes": [],
            "_model_module": "@jupyter-widgets/controls",
            "_model_module_version": "1.5.0",
            "_model_name": "HTMLModel",
            "_view_count": null,
            "_view_module": "@jupyter-widgets/controls",
            "_view_module_version": "1.5.0",
            "_view_name": "HTMLView",
            "description": "",
            "description_tooltip": null,
            "layout": "IPY_MODEL_7de144d9a851417cb87541da503b13df",
            "placeholder": "​",
            "style": "IPY_MODEL_f2167333ef4149ba926b26be2c4fb27d",
            "value": "100%"
          }
        },
        "74b867d58a2e417e9cf4c28e1cb10b26": {
          "model_module": "@jupyter-widgets/controls",
          "model_name": "FloatProgressModel",
          "model_module_version": "1.5.0",
          "state": {
            "_dom_classes": [],
            "_model_module": "@jupyter-widgets/controls",
            "_model_module_version": "1.5.0",
            "_model_name": "FloatProgressModel",
            "_view_count": null,
            "_view_module": "@jupyter-widgets/controls",
            "_view_module_version": "1.5.0",
            "_view_name": "ProgressView",
            "bar_style": "success",
            "description": "",
            "description_tooltip": null,
            "layout": "IPY_MODEL_03b613f0d01447c199ef597b9be708cc",
            "max": 78968,
            "min": 0,
            "orientation": "horizontal",
            "style": "IPY_MODEL_2dbc719533fd4200a1b8049edd176ba6",
            "value": 78968
          }
        },
        "7824cba08d094559a3d89483ef945f7d": {
          "model_module": "@jupyter-widgets/controls",
          "model_name": "HTMLModel",
          "model_module_version": "1.5.0",
          "state": {
            "_dom_classes": [],
            "_model_module": "@jupyter-widgets/controls",
            "_model_module_version": "1.5.0",
            "_model_name": "HTMLModel",
            "_view_count": null,
            "_view_module": "@jupyter-widgets/controls",
            "_view_module_version": "1.5.0",
            "_view_name": "HTMLView",
            "description": "",
            "description_tooltip": null,
            "layout": "IPY_MODEL_3e6dddb172cc41bfae2df9fd8a3072a0",
            "placeholder": "​",
            "style": "IPY_MODEL_3b27d52433164ca08927f04a7b4e9bb1",
            "value": " 78968/78968 [00:04&lt;00:00, 14093.60it/s]"
          }
        },
        "6dc171b5ef914a03986a24f13537c3a0": {
          "model_module": "@jupyter-widgets/base",
          "model_name": "LayoutModel",
          "model_module_version": "1.2.0",
          "state": {
            "_model_module": "@jupyter-widgets/base",
            "_model_module_version": "1.2.0",
            "_model_name": "LayoutModel",
            "_view_count": null,
            "_view_module": "@jupyter-widgets/base",
            "_view_module_version": "1.2.0",
            "_view_name": "LayoutView",
            "align_content": null,
            "align_items": null,
            "align_self": null,
            "border": null,
            "bottom": null,
            "display": null,
            "flex": null,
            "flex_flow": null,
            "grid_area": null,
            "grid_auto_columns": null,
            "grid_auto_flow": null,
            "grid_auto_rows": null,
            "grid_column": null,
            "grid_gap": null,
            "grid_row": null,
            "grid_template_areas": null,
            "grid_template_columns": null,
            "grid_template_rows": null,
            "height": null,
            "justify_content": null,
            "justify_items": null,
            "left": null,
            "margin": null,
            "max_height": null,
            "max_width": null,
            "min_height": null,
            "min_width": null,
            "object_fit": null,
            "object_position": null,
            "order": null,
            "overflow": null,
            "overflow_x": null,
            "overflow_y": null,
            "padding": null,
            "right": null,
            "top": null,
            "visibility": null,
            "width": null
          }
        },
        "7de144d9a851417cb87541da503b13df": {
          "model_module": "@jupyter-widgets/base",
          "model_name": "LayoutModel",
          "model_module_version": "1.2.0",
          "state": {
            "_model_module": "@jupyter-widgets/base",
            "_model_module_version": "1.2.0",
            "_model_name": "LayoutModel",
            "_view_count": null,
            "_view_module": "@jupyter-widgets/base",
            "_view_module_version": "1.2.0",
            "_view_name": "LayoutView",
            "align_content": null,
            "align_items": null,
            "align_self": null,
            "border": null,
            "bottom": null,
            "display": null,
            "flex": null,
            "flex_flow": null,
            "grid_area": null,
            "grid_auto_columns": null,
            "grid_auto_flow": null,
            "grid_auto_rows": null,
            "grid_column": null,
            "grid_gap": null,
            "grid_row": null,
            "grid_template_areas": null,
            "grid_template_columns": null,
            "grid_template_rows": null,
            "height": null,
            "justify_content": null,
            "justify_items": null,
            "left": null,
            "margin": null,
            "max_height": null,
            "max_width": null,
            "min_height": null,
            "min_width": null,
            "object_fit": null,
            "object_position": null,
            "order": null,
            "overflow": null,
            "overflow_x": null,
            "overflow_y": null,
            "padding": null,
            "right": null,
            "top": null,
            "visibility": null,
            "width": null
          }
        },
        "f2167333ef4149ba926b26be2c4fb27d": {
          "model_module": "@jupyter-widgets/controls",
          "model_name": "DescriptionStyleModel",
          "model_module_version": "1.5.0",
          "state": {
            "_model_module": "@jupyter-widgets/controls",
            "_model_module_version": "1.5.0",
            "_model_name": "DescriptionStyleModel",
            "_view_count": null,
            "_view_module": "@jupyter-widgets/base",
            "_view_module_version": "1.2.0",
            "_view_name": "StyleView",
            "description_width": ""
          }
        },
        "03b613f0d01447c199ef597b9be708cc": {
          "model_module": "@jupyter-widgets/base",
          "model_name": "LayoutModel",
          "model_module_version": "1.2.0",
          "state": {
            "_model_module": "@jupyter-widgets/base",
            "_model_module_version": "1.2.0",
            "_model_name": "LayoutModel",
            "_view_count": null,
            "_view_module": "@jupyter-widgets/base",
            "_view_module_version": "1.2.0",
            "_view_name": "LayoutView",
            "align_content": null,
            "align_items": null,
            "align_self": null,
            "border": null,
            "bottom": null,
            "display": null,
            "flex": null,
            "flex_flow": null,
            "grid_area": null,
            "grid_auto_columns": null,
            "grid_auto_flow": null,
            "grid_auto_rows": null,
            "grid_column": null,
            "grid_gap": null,
            "grid_row": null,
            "grid_template_areas": null,
            "grid_template_columns": null,
            "grid_template_rows": null,
            "height": null,
            "justify_content": null,
            "justify_items": null,
            "left": null,
            "margin": null,
            "max_height": null,
            "max_width": null,
            "min_height": null,
            "min_width": null,
            "object_fit": null,
            "object_position": null,
            "order": null,
            "overflow": null,
            "overflow_x": null,
            "overflow_y": null,
            "padding": null,
            "right": null,
            "top": null,
            "visibility": null,
            "width": null
          }
        },
        "2dbc719533fd4200a1b8049edd176ba6": {
          "model_module": "@jupyter-widgets/controls",
          "model_name": "ProgressStyleModel",
          "model_module_version": "1.5.0",
          "state": {
            "_model_module": "@jupyter-widgets/controls",
            "_model_module_version": "1.5.0",
            "_model_name": "ProgressStyleModel",
            "_view_count": null,
            "_view_module": "@jupyter-widgets/base",
            "_view_module_version": "1.2.0",
            "_view_name": "StyleView",
            "bar_color": null,
            "description_width": ""
          }
        },
        "3e6dddb172cc41bfae2df9fd8a3072a0": {
          "model_module": "@jupyter-widgets/base",
          "model_name": "LayoutModel",
          "model_module_version": "1.2.0",
          "state": {
            "_model_module": "@jupyter-widgets/base",
            "_model_module_version": "1.2.0",
            "_model_name": "LayoutModel",
            "_view_count": null,
            "_view_module": "@jupyter-widgets/base",
            "_view_module_version": "1.2.0",
            "_view_name": "LayoutView",
            "align_content": null,
            "align_items": null,
            "align_self": null,
            "border": null,
            "bottom": null,
            "display": null,
            "flex": null,
            "flex_flow": null,
            "grid_area": null,
            "grid_auto_columns": null,
            "grid_auto_flow": null,
            "grid_auto_rows": null,
            "grid_column": null,
            "grid_gap": null,
            "grid_row": null,
            "grid_template_areas": null,
            "grid_template_columns": null,
            "grid_template_rows": null,
            "height": null,
            "justify_content": null,
            "justify_items": null,
            "left": null,
            "margin": null,
            "max_height": null,
            "max_width": null,
            "min_height": null,
            "min_width": null,
            "object_fit": null,
            "object_position": null,
            "order": null,
            "overflow": null,
            "overflow_x": null,
            "overflow_y": null,
            "padding": null,
            "right": null,
            "top": null,
            "visibility": null,
            "width": null
          }
        },
        "3b27d52433164ca08927f04a7b4e9bb1": {
          "model_module": "@jupyter-widgets/controls",
          "model_name": "DescriptionStyleModel",
          "model_module_version": "1.5.0",
          "state": {
            "_model_module": "@jupyter-widgets/controls",
            "_model_module_version": "1.5.0",
            "_model_name": "DescriptionStyleModel",
            "_view_count": null,
            "_view_module": "@jupyter-widgets/base",
            "_view_module_version": "1.2.0",
            "_view_name": "StyleView",
            "description_width": ""
          }
        },
        "527bffb21fcc4e0bab8f66fb329d36e7": {
          "model_module": "@jupyter-widgets/controls",
          "model_name": "HBoxModel",
          "model_module_version": "1.5.0",
          "state": {
            "_dom_classes": [],
            "_model_module": "@jupyter-widgets/controls",
            "_model_module_version": "1.5.0",
            "_model_name": "HBoxModel",
            "_view_count": null,
            "_view_module": "@jupyter-widgets/controls",
            "_view_module_version": "1.5.0",
            "_view_name": "HBoxView",
            "box_style": "",
            "children": [
              "IPY_MODEL_41171eb4d7f94a48b43a99ae7814d987",
              "IPY_MODEL_9e34afcf6e004c268ea874b6fe511b1f",
              "IPY_MODEL_8de902549c7f467fb747d448ee878515"
            ],
            "layout": "IPY_MODEL_9ea29e11fe5e426d9bf06050bc00e585"
          }
        },
        "41171eb4d7f94a48b43a99ae7814d987": {
          "model_module": "@jupyter-widgets/controls",
          "model_name": "HTMLModel",
          "model_module_version": "1.5.0",
          "state": {
            "_dom_classes": [],
            "_model_module": "@jupyter-widgets/controls",
            "_model_module_version": "1.5.0",
            "_model_name": "HTMLModel",
            "_view_count": null,
            "_view_module": "@jupyter-widgets/controls",
            "_view_module_version": "1.5.0",
            "_view_name": "HTMLView",
            "description": "",
            "description_tooltip": null,
            "layout": "IPY_MODEL_9480cabaf956459490438a218b325f72",
            "placeholder": "​",
            "style": "IPY_MODEL_ed6054e6c9b145b7ae7cd6d2167dd03f",
            "value": "Epoch  1: 100%"
          }
        },
        "9e34afcf6e004c268ea874b6fe511b1f": {
          "model_module": "@jupyter-widgets/controls",
          "model_name": "FloatProgressModel",
          "model_module_version": "1.5.0",
          "state": {
            "_dom_classes": [],
            "_model_module": "@jupyter-widgets/controls",
            "_model_module_version": "1.5.0",
            "_model_name": "FloatProgressModel",
            "_view_count": null,
            "_view_module": "@jupyter-widgets/controls",
            "_view_module_version": "1.5.0",
            "_view_name": "ProgressView",
            "bar_style": "success",
            "description": "",
            "description_tooltip": null,
            "layout": "IPY_MODEL_d3480dcd7ada4a059b8c63275c21a15f",
            "max": 902,
            "min": 0,
            "orientation": "horizontal",
            "style": "IPY_MODEL_0f2bb4b87da9478db783274d7bf2a181",
            "value": 902
          }
        },
        "8de902549c7f467fb747d448ee878515": {
          "model_module": "@jupyter-widgets/controls",
          "model_name": "HTMLModel",
          "model_module_version": "1.5.0",
          "state": {
            "_dom_classes": [],
            "_model_module": "@jupyter-widgets/controls",
            "_model_module_version": "1.5.0",
            "_model_name": "HTMLModel",
            "_view_count": null,
            "_view_module": "@jupyter-widgets/controls",
            "_view_module_version": "1.5.0",
            "_view_name": "HTMLView",
            "description": "",
            "description_tooltip": null,
            "layout": "IPY_MODEL_00fdd3c9a92c46f6a91960f4f8b34a82",
            "placeholder": "​",
            "style": "IPY_MODEL_331f2204b6bc4997b581649be60f486d",
            "value": " 902/902 [00:49&lt;00:00, 21.58it/s, Loss 6.2609]"
          }
        },
        "9ea29e11fe5e426d9bf06050bc00e585": {
          "model_module": "@jupyter-widgets/base",
          "model_name": "LayoutModel",
          "model_module_version": "1.2.0",
          "state": {
            "_model_module": "@jupyter-widgets/base",
            "_model_module_version": "1.2.0",
            "_model_name": "LayoutModel",
            "_view_count": null,
            "_view_module": "@jupyter-widgets/base",
            "_view_module_version": "1.2.0",
            "_view_name": "LayoutView",
            "align_content": null,
            "align_items": null,
            "align_self": null,
            "border": null,
            "bottom": null,
            "display": null,
            "flex": null,
            "flex_flow": null,
            "grid_area": null,
            "grid_auto_columns": null,
            "grid_auto_flow": null,
            "grid_auto_rows": null,
            "grid_column": null,
            "grid_gap": null,
            "grid_row": null,
            "grid_template_areas": null,
            "grid_template_columns": null,
            "grid_template_rows": null,
            "height": null,
            "justify_content": null,
            "justify_items": null,
            "left": null,
            "margin": null,
            "max_height": null,
            "max_width": null,
            "min_height": null,
            "min_width": null,
            "object_fit": null,
            "object_position": null,
            "order": null,
            "overflow": null,
            "overflow_x": null,
            "overflow_y": null,
            "padding": null,
            "right": null,
            "top": null,
            "visibility": null,
            "width": null
          }
        },
        "9480cabaf956459490438a218b325f72": {
          "model_module": "@jupyter-widgets/base",
          "model_name": "LayoutModel",
          "model_module_version": "1.2.0",
          "state": {
            "_model_module": "@jupyter-widgets/base",
            "_model_module_version": "1.2.0",
            "_model_name": "LayoutModel",
            "_view_count": null,
            "_view_module": "@jupyter-widgets/base",
            "_view_module_version": "1.2.0",
            "_view_name": "LayoutView",
            "align_content": null,
            "align_items": null,
            "align_self": null,
            "border": null,
            "bottom": null,
            "display": null,
            "flex": null,
            "flex_flow": null,
            "grid_area": null,
            "grid_auto_columns": null,
            "grid_auto_flow": null,
            "grid_auto_rows": null,
            "grid_column": null,
            "grid_gap": null,
            "grid_row": null,
            "grid_template_areas": null,
            "grid_template_columns": null,
            "grid_template_rows": null,
            "height": null,
            "justify_content": null,
            "justify_items": null,
            "left": null,
            "margin": null,
            "max_height": null,
            "max_width": null,
            "min_height": null,
            "min_width": null,
            "object_fit": null,
            "object_position": null,
            "order": null,
            "overflow": null,
            "overflow_x": null,
            "overflow_y": null,
            "padding": null,
            "right": null,
            "top": null,
            "visibility": null,
            "width": null
          }
        },
        "ed6054e6c9b145b7ae7cd6d2167dd03f": {
          "model_module": "@jupyter-widgets/controls",
          "model_name": "DescriptionStyleModel",
          "model_module_version": "1.5.0",
          "state": {
            "_model_module": "@jupyter-widgets/controls",
            "_model_module_version": "1.5.0",
            "_model_name": "DescriptionStyleModel",
            "_view_count": null,
            "_view_module": "@jupyter-widgets/base",
            "_view_module_version": "1.2.0",
            "_view_name": "StyleView",
            "description_width": ""
          }
        },
        "d3480dcd7ada4a059b8c63275c21a15f": {
          "model_module": "@jupyter-widgets/base",
          "model_name": "LayoutModel",
          "model_module_version": "1.2.0",
          "state": {
            "_model_module": "@jupyter-widgets/base",
            "_model_module_version": "1.2.0",
            "_model_name": "LayoutModel",
            "_view_count": null,
            "_view_module": "@jupyter-widgets/base",
            "_view_module_version": "1.2.0",
            "_view_name": "LayoutView",
            "align_content": null,
            "align_items": null,
            "align_self": null,
            "border": null,
            "bottom": null,
            "display": null,
            "flex": null,
            "flex_flow": null,
            "grid_area": null,
            "grid_auto_columns": null,
            "grid_auto_flow": null,
            "grid_auto_rows": null,
            "grid_column": null,
            "grid_gap": null,
            "grid_row": null,
            "grid_template_areas": null,
            "grid_template_columns": null,
            "grid_template_rows": null,
            "height": null,
            "justify_content": null,
            "justify_items": null,
            "left": null,
            "margin": null,
            "max_height": null,
            "max_width": null,
            "min_height": null,
            "min_width": null,
            "object_fit": null,
            "object_position": null,
            "order": null,
            "overflow": null,
            "overflow_x": null,
            "overflow_y": null,
            "padding": null,
            "right": null,
            "top": null,
            "visibility": null,
            "width": null
          }
        },
        "0f2bb4b87da9478db783274d7bf2a181": {
          "model_module": "@jupyter-widgets/controls",
          "model_name": "ProgressStyleModel",
          "model_module_version": "1.5.0",
          "state": {
            "_model_module": "@jupyter-widgets/controls",
            "_model_module_version": "1.5.0",
            "_model_name": "ProgressStyleModel",
            "_view_count": null,
            "_view_module": "@jupyter-widgets/base",
            "_view_module_version": "1.2.0",
            "_view_name": "StyleView",
            "bar_color": null,
            "description_width": ""
          }
        },
        "00fdd3c9a92c46f6a91960f4f8b34a82": {
          "model_module": "@jupyter-widgets/base",
          "model_name": "LayoutModel",
          "model_module_version": "1.2.0",
          "state": {
            "_model_module": "@jupyter-widgets/base",
            "_model_module_version": "1.2.0",
            "_model_name": "LayoutModel",
            "_view_count": null,
            "_view_module": "@jupyter-widgets/base",
            "_view_module_version": "1.2.0",
            "_view_name": "LayoutView",
            "align_content": null,
            "align_items": null,
            "align_self": null,
            "border": null,
            "bottom": null,
            "display": null,
            "flex": null,
            "flex_flow": null,
            "grid_area": null,
            "grid_auto_columns": null,
            "grid_auto_flow": null,
            "grid_auto_rows": null,
            "grid_column": null,
            "grid_gap": null,
            "grid_row": null,
            "grid_template_areas": null,
            "grid_template_columns": null,
            "grid_template_rows": null,
            "height": null,
            "justify_content": null,
            "justify_items": null,
            "left": null,
            "margin": null,
            "max_height": null,
            "max_width": null,
            "min_height": null,
            "min_width": null,
            "object_fit": null,
            "object_position": null,
            "order": null,
            "overflow": null,
            "overflow_x": null,
            "overflow_y": null,
            "padding": null,
            "right": null,
            "top": null,
            "visibility": null,
            "width": null
          }
        },
        "331f2204b6bc4997b581649be60f486d": {
          "model_module": "@jupyter-widgets/controls",
          "model_name": "DescriptionStyleModel",
          "model_module_version": "1.5.0",
          "state": {
            "_model_module": "@jupyter-widgets/controls",
            "_model_module_version": "1.5.0",
            "_model_name": "DescriptionStyleModel",
            "_view_count": null,
            "_view_module": "@jupyter-widgets/base",
            "_view_module_version": "1.2.0",
            "_view_name": "StyleView",
            "description_width": ""
          }
        },
        "df0d79f8a4e54f8bae7c4719503e987f": {
          "model_module": "@jupyter-widgets/controls",
          "model_name": "HBoxModel",
          "model_module_version": "1.5.0",
          "state": {
            "_dom_classes": [],
            "_model_module": "@jupyter-widgets/controls",
            "_model_module_version": "1.5.0",
            "_model_name": "HBoxModel",
            "_view_count": null,
            "_view_module": "@jupyter-widgets/controls",
            "_view_module_version": "1.5.0",
            "_view_name": "HBoxView",
            "box_style": "",
            "children": [
              "IPY_MODEL_af517fd65ad14a0bae8ba0c2ccb52df4",
              "IPY_MODEL_8b350186ec184121a6a59970f3143e38",
              "IPY_MODEL_09058a7a3ce64cc29d0011d9a9d31bae"
            ],
            "layout": "IPY_MODEL_a26fdd6679834fcabcc1a65fb2b026ca"
          }
        },
        "af517fd65ad14a0bae8ba0c2ccb52df4": {
          "model_module": "@jupyter-widgets/controls",
          "model_name": "HTMLModel",
          "model_module_version": "1.5.0",
          "state": {
            "_dom_classes": [],
            "_model_module": "@jupyter-widgets/controls",
            "_model_module_version": "1.5.0",
            "_model_name": "HTMLModel",
            "_view_count": null,
            "_view_module": "@jupyter-widgets/controls",
            "_view_module_version": "1.5.0",
            "_view_name": "HTMLView",
            "description": "",
            "description_tooltip": null,
            "layout": "IPY_MODEL_0d92b839215e4c95b7085c48ffccb62f",
            "placeholder": "​",
            "style": "IPY_MODEL_48402d8e8eb442c7b0adb4205b5fb209",
            "value": "Epoch  2: 100%"
          }
        },
        "8b350186ec184121a6a59970f3143e38": {
          "model_module": "@jupyter-widgets/controls",
          "model_name": "FloatProgressModel",
          "model_module_version": "1.5.0",
          "state": {
            "_dom_classes": [],
            "_model_module": "@jupyter-widgets/controls",
            "_model_module_version": "1.5.0",
            "_model_name": "FloatProgressModel",
            "_view_count": null,
            "_view_module": "@jupyter-widgets/controls",
            "_view_module_version": "1.5.0",
            "_view_name": "ProgressView",
            "bar_style": "success",
            "description": "",
            "description_tooltip": null,
            "layout": "IPY_MODEL_f69058df591745bca95f299d0dd53341",
            "max": 902,
            "min": 0,
            "orientation": "horizontal",
            "style": "IPY_MODEL_937e9801fdfa4041b5fc29b0dca70efb",
            "value": 902
          }
        },
        "09058a7a3ce64cc29d0011d9a9d31bae": {
          "model_module": "@jupyter-widgets/controls",
          "model_name": "HTMLModel",
          "model_module_version": "1.5.0",
          "state": {
            "_dom_classes": [],
            "_model_module": "@jupyter-widgets/controls",
            "_model_module_version": "1.5.0",
            "_model_name": "HTMLModel",
            "_view_count": null,
            "_view_module": "@jupyter-widgets/controls",
            "_view_module_version": "1.5.0",
            "_view_name": "HTMLView",
            "description": "",
            "description_tooltip": null,
            "layout": "IPY_MODEL_6b5dcc5240fa4e068b0404b72e3e52f1",
            "placeholder": "​",
            "style": "IPY_MODEL_f3a6e637e1db4e719add7c6da727787a",
            "value": " 902/902 [00:41&lt;00:00, 21.74it/s, Loss 4.6588]"
          }
        },
        "a26fdd6679834fcabcc1a65fb2b026ca": {
          "model_module": "@jupyter-widgets/base",
          "model_name": "LayoutModel",
          "model_module_version": "1.2.0",
          "state": {
            "_model_module": "@jupyter-widgets/base",
            "_model_module_version": "1.2.0",
            "_model_name": "LayoutModel",
            "_view_count": null,
            "_view_module": "@jupyter-widgets/base",
            "_view_module_version": "1.2.0",
            "_view_name": "LayoutView",
            "align_content": null,
            "align_items": null,
            "align_self": null,
            "border": null,
            "bottom": null,
            "display": null,
            "flex": null,
            "flex_flow": null,
            "grid_area": null,
            "grid_auto_columns": null,
            "grid_auto_flow": null,
            "grid_auto_rows": null,
            "grid_column": null,
            "grid_gap": null,
            "grid_row": null,
            "grid_template_areas": null,
            "grid_template_columns": null,
            "grid_template_rows": null,
            "height": null,
            "justify_content": null,
            "justify_items": null,
            "left": null,
            "margin": null,
            "max_height": null,
            "max_width": null,
            "min_height": null,
            "min_width": null,
            "object_fit": null,
            "object_position": null,
            "order": null,
            "overflow": null,
            "overflow_x": null,
            "overflow_y": null,
            "padding": null,
            "right": null,
            "top": null,
            "visibility": null,
            "width": null
          }
        },
        "0d92b839215e4c95b7085c48ffccb62f": {
          "model_module": "@jupyter-widgets/base",
          "model_name": "LayoutModel",
          "model_module_version": "1.2.0",
          "state": {
            "_model_module": "@jupyter-widgets/base",
            "_model_module_version": "1.2.0",
            "_model_name": "LayoutModel",
            "_view_count": null,
            "_view_module": "@jupyter-widgets/base",
            "_view_module_version": "1.2.0",
            "_view_name": "LayoutView",
            "align_content": null,
            "align_items": null,
            "align_self": null,
            "border": null,
            "bottom": null,
            "display": null,
            "flex": null,
            "flex_flow": null,
            "grid_area": null,
            "grid_auto_columns": null,
            "grid_auto_flow": null,
            "grid_auto_rows": null,
            "grid_column": null,
            "grid_gap": null,
            "grid_row": null,
            "grid_template_areas": null,
            "grid_template_columns": null,
            "grid_template_rows": null,
            "height": null,
            "justify_content": null,
            "justify_items": null,
            "left": null,
            "margin": null,
            "max_height": null,
            "max_width": null,
            "min_height": null,
            "min_width": null,
            "object_fit": null,
            "object_position": null,
            "order": null,
            "overflow": null,
            "overflow_x": null,
            "overflow_y": null,
            "padding": null,
            "right": null,
            "top": null,
            "visibility": null,
            "width": null
          }
        },
        "48402d8e8eb442c7b0adb4205b5fb209": {
          "model_module": "@jupyter-widgets/controls",
          "model_name": "DescriptionStyleModel",
          "model_module_version": "1.5.0",
          "state": {
            "_model_module": "@jupyter-widgets/controls",
            "_model_module_version": "1.5.0",
            "_model_name": "DescriptionStyleModel",
            "_view_count": null,
            "_view_module": "@jupyter-widgets/base",
            "_view_module_version": "1.2.0",
            "_view_name": "StyleView",
            "description_width": ""
          }
        },
        "f69058df591745bca95f299d0dd53341": {
          "model_module": "@jupyter-widgets/base",
          "model_name": "LayoutModel",
          "model_module_version": "1.2.0",
          "state": {
            "_model_module": "@jupyter-widgets/base",
            "_model_module_version": "1.2.0",
            "_model_name": "LayoutModel",
            "_view_count": null,
            "_view_module": "@jupyter-widgets/base",
            "_view_module_version": "1.2.0",
            "_view_name": "LayoutView",
            "align_content": null,
            "align_items": null,
            "align_self": null,
            "border": null,
            "bottom": null,
            "display": null,
            "flex": null,
            "flex_flow": null,
            "grid_area": null,
            "grid_auto_columns": null,
            "grid_auto_flow": null,
            "grid_auto_rows": null,
            "grid_column": null,
            "grid_gap": null,
            "grid_row": null,
            "grid_template_areas": null,
            "grid_template_columns": null,
            "grid_template_rows": null,
            "height": null,
            "justify_content": null,
            "justify_items": null,
            "left": null,
            "margin": null,
            "max_height": null,
            "max_width": null,
            "min_height": null,
            "min_width": null,
            "object_fit": null,
            "object_position": null,
            "order": null,
            "overflow": null,
            "overflow_x": null,
            "overflow_y": null,
            "padding": null,
            "right": null,
            "top": null,
            "visibility": null,
            "width": null
          }
        },
        "937e9801fdfa4041b5fc29b0dca70efb": {
          "model_module": "@jupyter-widgets/controls",
          "model_name": "ProgressStyleModel",
          "model_module_version": "1.5.0",
          "state": {
            "_model_module": "@jupyter-widgets/controls",
            "_model_module_version": "1.5.0",
            "_model_name": "ProgressStyleModel",
            "_view_count": null,
            "_view_module": "@jupyter-widgets/base",
            "_view_module_version": "1.2.0",
            "_view_name": "StyleView",
            "bar_color": null,
            "description_width": ""
          }
        },
        "6b5dcc5240fa4e068b0404b72e3e52f1": {
          "model_module": "@jupyter-widgets/base",
          "model_name": "LayoutModel",
          "model_module_version": "1.2.0",
          "state": {
            "_model_module": "@jupyter-widgets/base",
            "_model_module_version": "1.2.0",
            "_model_name": "LayoutModel",
            "_view_count": null,
            "_view_module": "@jupyter-widgets/base",
            "_view_module_version": "1.2.0",
            "_view_name": "LayoutView",
            "align_content": null,
            "align_items": null,
            "align_self": null,
            "border": null,
            "bottom": null,
            "display": null,
            "flex": null,
            "flex_flow": null,
            "grid_area": null,
            "grid_auto_columns": null,
            "grid_auto_flow": null,
            "grid_auto_rows": null,
            "grid_column": null,
            "grid_gap": null,
            "grid_row": null,
            "grid_template_areas": null,
            "grid_template_columns": null,
            "grid_template_rows": null,
            "height": null,
            "justify_content": null,
            "justify_items": null,
            "left": null,
            "margin": null,
            "max_height": null,
            "max_width": null,
            "min_height": null,
            "min_width": null,
            "object_fit": null,
            "object_position": null,
            "order": null,
            "overflow": null,
            "overflow_x": null,
            "overflow_y": null,
            "padding": null,
            "right": null,
            "top": null,
            "visibility": null,
            "width": null
          }
        },
        "f3a6e637e1db4e719add7c6da727787a": {
          "model_module": "@jupyter-widgets/controls",
          "model_name": "DescriptionStyleModel",
          "model_module_version": "1.5.0",
          "state": {
            "_model_module": "@jupyter-widgets/controls",
            "_model_module_version": "1.5.0",
            "_model_name": "DescriptionStyleModel",
            "_view_count": null,
            "_view_module": "@jupyter-widgets/base",
            "_view_module_version": "1.2.0",
            "_view_name": "StyleView",
            "description_width": ""
          }
        },
        "d70ef2295ef34ac589852048a5c36757": {
          "model_module": "@jupyter-widgets/controls",
          "model_name": "HBoxModel",
          "model_module_version": "1.5.0",
          "state": {
            "_dom_classes": [],
            "_model_module": "@jupyter-widgets/controls",
            "_model_module_version": "1.5.0",
            "_model_name": "HBoxModel",
            "_view_count": null,
            "_view_module": "@jupyter-widgets/controls",
            "_view_module_version": "1.5.0",
            "_view_name": "HBoxView",
            "box_style": "",
            "children": [
              "IPY_MODEL_9ee84fab28be48748e564888b5056563",
              "IPY_MODEL_61a208b6622b406d898af4a285ee2f90",
              "IPY_MODEL_01e551e9d39c4084b97362f02b8b55bc"
            ],
            "layout": "IPY_MODEL_fd8e7dffee574904a2e19cd5f24ad736"
          }
        },
        "9ee84fab28be48748e564888b5056563": {
          "model_module": "@jupyter-widgets/controls",
          "model_name": "HTMLModel",
          "model_module_version": "1.5.0",
          "state": {
            "_dom_classes": [],
            "_model_module": "@jupyter-widgets/controls",
            "_model_module_version": "1.5.0",
            "_model_name": "HTMLModel",
            "_view_count": null,
            "_view_module": "@jupyter-widgets/controls",
            "_view_module_version": "1.5.0",
            "_view_name": "HTMLView",
            "description": "",
            "description_tooltip": null,
            "layout": "IPY_MODEL_e8ec09d6457d415e9fe0baec51def407",
            "placeholder": "​",
            "style": "IPY_MODEL_fe81e001e86544fe96627aca64b09e2b",
            "value": "Epoch  3: 100%"
          }
        },
        "61a208b6622b406d898af4a285ee2f90": {
          "model_module": "@jupyter-widgets/controls",
          "model_name": "FloatProgressModel",
          "model_module_version": "1.5.0",
          "state": {
            "_dom_classes": [],
            "_model_module": "@jupyter-widgets/controls",
            "_model_module_version": "1.5.0",
            "_model_name": "FloatProgressModel",
            "_view_count": null,
            "_view_module": "@jupyter-widgets/controls",
            "_view_module_version": "1.5.0",
            "_view_name": "ProgressView",
            "bar_style": "success",
            "description": "",
            "description_tooltip": null,
            "layout": "IPY_MODEL_fab49b28feca4ffca581bac93cd94749",
            "max": 902,
            "min": 0,
            "orientation": "horizontal",
            "style": "IPY_MODEL_8d540a7d3a224d5abfcb72820fa82c41",
            "value": 902
          }
        },
        "01e551e9d39c4084b97362f02b8b55bc": {
          "model_module": "@jupyter-widgets/controls",
          "model_name": "HTMLModel",
          "model_module_version": "1.5.0",
          "state": {
            "_dom_classes": [],
            "_model_module": "@jupyter-widgets/controls",
            "_model_module_version": "1.5.0",
            "_model_name": "HTMLModel",
            "_view_count": null,
            "_view_module": "@jupyter-widgets/controls",
            "_view_module_version": "1.5.0",
            "_view_name": "HTMLView",
            "description": "",
            "description_tooltip": null,
            "layout": "IPY_MODEL_44086fc771da44c8a38cbb48c441d695",
            "placeholder": "​",
            "style": "IPY_MODEL_efcfd826f5124b2c9ff7b4443cbbc4ae",
            "value": " 902/902 [00:41&lt;00:00, 21.38it/s, Loss 4.0095]"
          }
        },
        "fd8e7dffee574904a2e19cd5f24ad736": {
          "model_module": "@jupyter-widgets/base",
          "model_name": "LayoutModel",
          "model_module_version": "1.2.0",
          "state": {
            "_model_module": "@jupyter-widgets/base",
            "_model_module_version": "1.2.0",
            "_model_name": "LayoutModel",
            "_view_count": null,
            "_view_module": "@jupyter-widgets/base",
            "_view_module_version": "1.2.0",
            "_view_name": "LayoutView",
            "align_content": null,
            "align_items": null,
            "align_self": null,
            "border": null,
            "bottom": null,
            "display": null,
            "flex": null,
            "flex_flow": null,
            "grid_area": null,
            "grid_auto_columns": null,
            "grid_auto_flow": null,
            "grid_auto_rows": null,
            "grid_column": null,
            "grid_gap": null,
            "grid_row": null,
            "grid_template_areas": null,
            "grid_template_columns": null,
            "grid_template_rows": null,
            "height": null,
            "justify_content": null,
            "justify_items": null,
            "left": null,
            "margin": null,
            "max_height": null,
            "max_width": null,
            "min_height": null,
            "min_width": null,
            "object_fit": null,
            "object_position": null,
            "order": null,
            "overflow": null,
            "overflow_x": null,
            "overflow_y": null,
            "padding": null,
            "right": null,
            "top": null,
            "visibility": null,
            "width": null
          }
        },
        "e8ec09d6457d415e9fe0baec51def407": {
          "model_module": "@jupyter-widgets/base",
          "model_name": "LayoutModel",
          "model_module_version": "1.2.0",
          "state": {
            "_model_module": "@jupyter-widgets/base",
            "_model_module_version": "1.2.0",
            "_model_name": "LayoutModel",
            "_view_count": null,
            "_view_module": "@jupyter-widgets/base",
            "_view_module_version": "1.2.0",
            "_view_name": "LayoutView",
            "align_content": null,
            "align_items": null,
            "align_self": null,
            "border": null,
            "bottom": null,
            "display": null,
            "flex": null,
            "flex_flow": null,
            "grid_area": null,
            "grid_auto_columns": null,
            "grid_auto_flow": null,
            "grid_auto_rows": null,
            "grid_column": null,
            "grid_gap": null,
            "grid_row": null,
            "grid_template_areas": null,
            "grid_template_columns": null,
            "grid_template_rows": null,
            "height": null,
            "justify_content": null,
            "justify_items": null,
            "left": null,
            "margin": null,
            "max_height": null,
            "max_width": null,
            "min_height": null,
            "min_width": null,
            "object_fit": null,
            "object_position": null,
            "order": null,
            "overflow": null,
            "overflow_x": null,
            "overflow_y": null,
            "padding": null,
            "right": null,
            "top": null,
            "visibility": null,
            "width": null
          }
        },
        "fe81e001e86544fe96627aca64b09e2b": {
          "model_module": "@jupyter-widgets/controls",
          "model_name": "DescriptionStyleModel",
          "model_module_version": "1.5.0",
          "state": {
            "_model_module": "@jupyter-widgets/controls",
            "_model_module_version": "1.5.0",
            "_model_name": "DescriptionStyleModel",
            "_view_count": null,
            "_view_module": "@jupyter-widgets/base",
            "_view_module_version": "1.2.0",
            "_view_name": "StyleView",
            "description_width": ""
          }
        },
        "fab49b28feca4ffca581bac93cd94749": {
          "model_module": "@jupyter-widgets/base",
          "model_name": "LayoutModel",
          "model_module_version": "1.2.0",
          "state": {
            "_model_module": "@jupyter-widgets/base",
            "_model_module_version": "1.2.0",
            "_model_name": "LayoutModel",
            "_view_count": null,
            "_view_module": "@jupyter-widgets/base",
            "_view_module_version": "1.2.0",
            "_view_name": "LayoutView",
            "align_content": null,
            "align_items": null,
            "align_self": null,
            "border": null,
            "bottom": null,
            "display": null,
            "flex": null,
            "flex_flow": null,
            "grid_area": null,
            "grid_auto_columns": null,
            "grid_auto_flow": null,
            "grid_auto_rows": null,
            "grid_column": null,
            "grid_gap": null,
            "grid_row": null,
            "grid_template_areas": null,
            "grid_template_columns": null,
            "grid_template_rows": null,
            "height": null,
            "justify_content": null,
            "justify_items": null,
            "left": null,
            "margin": null,
            "max_height": null,
            "max_width": null,
            "min_height": null,
            "min_width": null,
            "object_fit": null,
            "object_position": null,
            "order": null,
            "overflow": null,
            "overflow_x": null,
            "overflow_y": null,
            "padding": null,
            "right": null,
            "top": null,
            "visibility": null,
            "width": null
          }
        },
        "8d540a7d3a224d5abfcb72820fa82c41": {
          "model_module": "@jupyter-widgets/controls",
          "model_name": "ProgressStyleModel",
          "model_module_version": "1.5.0",
          "state": {
            "_model_module": "@jupyter-widgets/controls",
            "_model_module_version": "1.5.0",
            "_model_name": "ProgressStyleModel",
            "_view_count": null,
            "_view_module": "@jupyter-widgets/base",
            "_view_module_version": "1.2.0",
            "_view_name": "StyleView",
            "bar_color": null,
            "description_width": ""
          }
        },
        "44086fc771da44c8a38cbb48c441d695": {
          "model_module": "@jupyter-widgets/base",
          "model_name": "LayoutModel",
          "model_module_version": "1.2.0",
          "state": {
            "_model_module": "@jupyter-widgets/base",
            "_model_module_version": "1.2.0",
            "_model_name": "LayoutModel",
            "_view_count": null,
            "_view_module": "@jupyter-widgets/base",
            "_view_module_version": "1.2.0",
            "_view_name": "LayoutView",
            "align_content": null,
            "align_items": null,
            "align_self": null,
            "border": null,
            "bottom": null,
            "display": null,
            "flex": null,
            "flex_flow": null,
            "grid_area": null,
            "grid_auto_columns": null,
            "grid_auto_flow": null,
            "grid_auto_rows": null,
            "grid_column": null,
            "grid_gap": null,
            "grid_row": null,
            "grid_template_areas": null,
            "grid_template_columns": null,
            "grid_template_rows": null,
            "height": null,
            "justify_content": null,
            "justify_items": null,
            "left": null,
            "margin": null,
            "max_height": null,
            "max_width": null,
            "min_height": null,
            "min_width": null,
            "object_fit": null,
            "object_position": null,
            "order": null,
            "overflow": null,
            "overflow_x": null,
            "overflow_y": null,
            "padding": null,
            "right": null,
            "top": null,
            "visibility": null,
            "width": null
          }
        },
        "efcfd826f5124b2c9ff7b4443cbbc4ae": {
          "model_module": "@jupyter-widgets/controls",
          "model_name": "DescriptionStyleModel",
          "model_module_version": "1.5.0",
          "state": {
            "_model_module": "@jupyter-widgets/controls",
            "_model_module_version": "1.5.0",
            "_model_name": "DescriptionStyleModel",
            "_view_count": null,
            "_view_module": "@jupyter-widgets/base",
            "_view_module_version": "1.2.0",
            "_view_name": "StyleView",
            "description_width": ""
          }
        },
        "6784a3c3abb1470f9301c88599ab4283": {
          "model_module": "@jupyter-widgets/controls",
          "model_name": "HBoxModel",
          "model_module_version": "1.5.0",
          "state": {
            "_dom_classes": [],
            "_model_module": "@jupyter-widgets/controls",
            "_model_module_version": "1.5.0",
            "_model_name": "HBoxModel",
            "_view_count": null,
            "_view_module": "@jupyter-widgets/controls",
            "_view_module_version": "1.5.0",
            "_view_name": "HBoxView",
            "box_style": "",
            "children": [
              "IPY_MODEL_c53eb5eacf2046fb88a52f058462e8a9",
              "IPY_MODEL_2fa9b0e491fd4990b030a5d8b94073ac",
              "IPY_MODEL_ae717e19b2084e708b38bf1efdeb0ecd"
            ],
            "layout": "IPY_MODEL_21ba3b00ee204d69961a140040cc763c"
          }
        },
        "c53eb5eacf2046fb88a52f058462e8a9": {
          "model_module": "@jupyter-widgets/controls",
          "model_name": "HTMLModel",
          "model_module_version": "1.5.0",
          "state": {
            "_dom_classes": [],
            "_model_module": "@jupyter-widgets/controls",
            "_model_module_version": "1.5.0",
            "_model_name": "HTMLModel",
            "_view_count": null,
            "_view_module": "@jupyter-widgets/controls",
            "_view_module_version": "1.5.0",
            "_view_name": "HTMLView",
            "description": "",
            "description_tooltip": null,
            "layout": "IPY_MODEL_6df2632ad7904751aac72d9547dea27f",
            "placeholder": "​",
            "style": "IPY_MODEL_ae7d362eff7a47c480a905f82d75ae36",
            "value": "Epoch  4: 100%"
          }
        },
        "2fa9b0e491fd4990b030a5d8b94073ac": {
          "model_module": "@jupyter-widgets/controls",
          "model_name": "FloatProgressModel",
          "model_module_version": "1.5.0",
          "state": {
            "_dom_classes": [],
            "_model_module": "@jupyter-widgets/controls",
            "_model_module_version": "1.5.0",
            "_model_name": "FloatProgressModel",
            "_view_count": null,
            "_view_module": "@jupyter-widgets/controls",
            "_view_module_version": "1.5.0",
            "_view_name": "ProgressView",
            "bar_style": "success",
            "description": "",
            "description_tooltip": null,
            "layout": "IPY_MODEL_ce4c8f663422437b85dde2418e4d1865",
            "max": 902,
            "min": 0,
            "orientation": "horizontal",
            "style": "IPY_MODEL_ea4bfb5506dd4db4b1c4460adc401bfd",
            "value": 902
          }
        },
        "ae717e19b2084e708b38bf1efdeb0ecd": {
          "model_module": "@jupyter-widgets/controls",
          "model_name": "HTMLModel",
          "model_module_version": "1.5.0",
          "state": {
            "_dom_classes": [],
            "_model_module": "@jupyter-widgets/controls",
            "_model_module_version": "1.5.0",
            "_model_name": "HTMLModel",
            "_view_count": null,
            "_view_module": "@jupyter-widgets/controls",
            "_view_module_version": "1.5.0",
            "_view_name": "HTMLView",
            "description": "",
            "description_tooltip": null,
            "layout": "IPY_MODEL_cad05fb8a06648638b97800cff29c23a",
            "placeholder": "​",
            "style": "IPY_MODEL_94751f2a69e14666a0376c2b53103053",
            "value": " 902/902 [00:41&lt;00:00, 21.68it/s, Loss 3.5327]"
          }
        },
        "21ba3b00ee204d69961a140040cc763c": {
          "model_module": "@jupyter-widgets/base",
          "model_name": "LayoutModel",
          "model_module_version": "1.2.0",
          "state": {
            "_model_module": "@jupyter-widgets/base",
            "_model_module_version": "1.2.0",
            "_model_name": "LayoutModel",
            "_view_count": null,
            "_view_module": "@jupyter-widgets/base",
            "_view_module_version": "1.2.0",
            "_view_name": "LayoutView",
            "align_content": null,
            "align_items": null,
            "align_self": null,
            "border": null,
            "bottom": null,
            "display": null,
            "flex": null,
            "flex_flow": null,
            "grid_area": null,
            "grid_auto_columns": null,
            "grid_auto_flow": null,
            "grid_auto_rows": null,
            "grid_column": null,
            "grid_gap": null,
            "grid_row": null,
            "grid_template_areas": null,
            "grid_template_columns": null,
            "grid_template_rows": null,
            "height": null,
            "justify_content": null,
            "justify_items": null,
            "left": null,
            "margin": null,
            "max_height": null,
            "max_width": null,
            "min_height": null,
            "min_width": null,
            "object_fit": null,
            "object_position": null,
            "order": null,
            "overflow": null,
            "overflow_x": null,
            "overflow_y": null,
            "padding": null,
            "right": null,
            "top": null,
            "visibility": null,
            "width": null
          }
        },
        "6df2632ad7904751aac72d9547dea27f": {
          "model_module": "@jupyter-widgets/base",
          "model_name": "LayoutModel",
          "model_module_version": "1.2.0",
          "state": {
            "_model_module": "@jupyter-widgets/base",
            "_model_module_version": "1.2.0",
            "_model_name": "LayoutModel",
            "_view_count": null,
            "_view_module": "@jupyter-widgets/base",
            "_view_module_version": "1.2.0",
            "_view_name": "LayoutView",
            "align_content": null,
            "align_items": null,
            "align_self": null,
            "border": null,
            "bottom": null,
            "display": null,
            "flex": null,
            "flex_flow": null,
            "grid_area": null,
            "grid_auto_columns": null,
            "grid_auto_flow": null,
            "grid_auto_rows": null,
            "grid_column": null,
            "grid_gap": null,
            "grid_row": null,
            "grid_template_areas": null,
            "grid_template_columns": null,
            "grid_template_rows": null,
            "height": null,
            "justify_content": null,
            "justify_items": null,
            "left": null,
            "margin": null,
            "max_height": null,
            "max_width": null,
            "min_height": null,
            "min_width": null,
            "object_fit": null,
            "object_position": null,
            "order": null,
            "overflow": null,
            "overflow_x": null,
            "overflow_y": null,
            "padding": null,
            "right": null,
            "top": null,
            "visibility": null,
            "width": null
          }
        },
        "ae7d362eff7a47c480a905f82d75ae36": {
          "model_module": "@jupyter-widgets/controls",
          "model_name": "DescriptionStyleModel",
          "model_module_version": "1.5.0",
          "state": {
            "_model_module": "@jupyter-widgets/controls",
            "_model_module_version": "1.5.0",
            "_model_name": "DescriptionStyleModel",
            "_view_count": null,
            "_view_module": "@jupyter-widgets/base",
            "_view_module_version": "1.2.0",
            "_view_name": "StyleView",
            "description_width": ""
          }
        },
        "ce4c8f663422437b85dde2418e4d1865": {
          "model_module": "@jupyter-widgets/base",
          "model_name": "LayoutModel",
          "model_module_version": "1.2.0",
          "state": {
            "_model_module": "@jupyter-widgets/base",
            "_model_module_version": "1.2.0",
            "_model_name": "LayoutModel",
            "_view_count": null,
            "_view_module": "@jupyter-widgets/base",
            "_view_module_version": "1.2.0",
            "_view_name": "LayoutView",
            "align_content": null,
            "align_items": null,
            "align_self": null,
            "border": null,
            "bottom": null,
            "display": null,
            "flex": null,
            "flex_flow": null,
            "grid_area": null,
            "grid_auto_columns": null,
            "grid_auto_flow": null,
            "grid_auto_rows": null,
            "grid_column": null,
            "grid_gap": null,
            "grid_row": null,
            "grid_template_areas": null,
            "grid_template_columns": null,
            "grid_template_rows": null,
            "height": null,
            "justify_content": null,
            "justify_items": null,
            "left": null,
            "margin": null,
            "max_height": null,
            "max_width": null,
            "min_height": null,
            "min_width": null,
            "object_fit": null,
            "object_position": null,
            "order": null,
            "overflow": null,
            "overflow_x": null,
            "overflow_y": null,
            "padding": null,
            "right": null,
            "top": null,
            "visibility": null,
            "width": null
          }
        },
        "ea4bfb5506dd4db4b1c4460adc401bfd": {
          "model_module": "@jupyter-widgets/controls",
          "model_name": "ProgressStyleModel",
          "model_module_version": "1.5.0",
          "state": {
            "_model_module": "@jupyter-widgets/controls",
            "_model_module_version": "1.5.0",
            "_model_name": "ProgressStyleModel",
            "_view_count": null,
            "_view_module": "@jupyter-widgets/base",
            "_view_module_version": "1.2.0",
            "_view_name": "StyleView",
            "bar_color": null,
            "description_width": ""
          }
        },
        "cad05fb8a06648638b97800cff29c23a": {
          "model_module": "@jupyter-widgets/base",
          "model_name": "LayoutModel",
          "model_module_version": "1.2.0",
          "state": {
            "_model_module": "@jupyter-widgets/base",
            "_model_module_version": "1.2.0",
            "_model_name": "LayoutModel",
            "_view_count": null,
            "_view_module": "@jupyter-widgets/base",
            "_view_module_version": "1.2.0",
            "_view_name": "LayoutView",
            "align_content": null,
            "align_items": null,
            "align_self": null,
            "border": null,
            "bottom": null,
            "display": null,
            "flex": null,
            "flex_flow": null,
            "grid_area": null,
            "grid_auto_columns": null,
            "grid_auto_flow": null,
            "grid_auto_rows": null,
            "grid_column": null,
            "grid_gap": null,
            "grid_row": null,
            "grid_template_areas": null,
            "grid_template_columns": null,
            "grid_template_rows": null,
            "height": null,
            "justify_content": null,
            "justify_items": null,
            "left": null,
            "margin": null,
            "max_height": null,
            "max_width": null,
            "min_height": null,
            "min_width": null,
            "object_fit": null,
            "object_position": null,
            "order": null,
            "overflow": null,
            "overflow_x": null,
            "overflow_y": null,
            "padding": null,
            "right": null,
            "top": null,
            "visibility": null,
            "width": null
          }
        },
        "94751f2a69e14666a0376c2b53103053": {
          "model_module": "@jupyter-widgets/controls",
          "model_name": "DescriptionStyleModel",
          "model_module_version": "1.5.0",
          "state": {
            "_model_module": "@jupyter-widgets/controls",
            "_model_module_version": "1.5.0",
            "_model_name": "DescriptionStyleModel",
            "_view_count": null,
            "_view_module": "@jupyter-widgets/base",
            "_view_module_version": "1.2.0",
            "_view_name": "StyleView",
            "description_width": ""
          }
        },
        "36348cd874504d98ac547f5498fdec12": {
          "model_module": "@jupyter-widgets/controls",
          "model_name": "HBoxModel",
          "model_module_version": "1.5.0",
          "state": {
            "_dom_classes": [],
            "_model_module": "@jupyter-widgets/controls",
            "_model_module_version": "1.5.0",
            "_model_name": "HBoxModel",
            "_view_count": null,
            "_view_module": "@jupyter-widgets/controls",
            "_view_module_version": "1.5.0",
            "_view_name": "HBoxView",
            "box_style": "",
            "children": [
              "IPY_MODEL_7eb7c35564694614b7c19efa8d117bf1",
              "IPY_MODEL_c003b5fd2f0c4227ac0da8551e5b14d3",
              "IPY_MODEL_dc638982263e4fb3837fb0d84c5a4418"
            ],
            "layout": "IPY_MODEL_67e754a703c748ec8ebcb34b6e54158e"
          }
        },
        "7eb7c35564694614b7c19efa8d117bf1": {
          "model_module": "@jupyter-widgets/controls",
          "model_name": "HTMLModel",
          "model_module_version": "1.5.0",
          "state": {
            "_dom_classes": [],
            "_model_module": "@jupyter-widgets/controls",
            "_model_module_version": "1.5.0",
            "_model_name": "HTMLModel",
            "_view_count": null,
            "_view_module": "@jupyter-widgets/controls",
            "_view_module_version": "1.5.0",
            "_view_name": "HTMLView",
            "description": "",
            "description_tooltip": null,
            "layout": "IPY_MODEL_086c1c616db14225bf5dd819ad559e02",
            "placeholder": "​",
            "style": "IPY_MODEL_9b4a396404c94f66a9562b29060f848c",
            "value": "Epoch  5: 100%"
          }
        },
        "c003b5fd2f0c4227ac0da8551e5b14d3": {
          "model_module": "@jupyter-widgets/controls",
          "model_name": "FloatProgressModel",
          "model_module_version": "1.5.0",
          "state": {
            "_dom_classes": [],
            "_model_module": "@jupyter-widgets/controls",
            "_model_module_version": "1.5.0",
            "_model_name": "FloatProgressModel",
            "_view_count": null,
            "_view_module": "@jupyter-widgets/controls",
            "_view_module_version": "1.5.0",
            "_view_name": "ProgressView",
            "bar_style": "success",
            "description": "",
            "description_tooltip": null,
            "layout": "IPY_MODEL_ee7a277b92824914b26f2f2cb9757093",
            "max": 902,
            "min": 0,
            "orientation": "horizontal",
            "style": "IPY_MODEL_cd2b76472f9145d69ca7c6f5ece34535",
            "value": 902
          }
        },
        "dc638982263e4fb3837fb0d84c5a4418": {
          "model_module": "@jupyter-widgets/controls",
          "model_name": "HTMLModel",
          "model_module_version": "1.5.0",
          "state": {
            "_dom_classes": [],
            "_model_module": "@jupyter-widgets/controls",
            "_model_module_version": "1.5.0",
            "_model_name": "HTMLModel",
            "_view_count": null,
            "_view_module": "@jupyter-widgets/controls",
            "_view_module_version": "1.5.0",
            "_view_name": "HTMLView",
            "description": "",
            "description_tooltip": null,
            "layout": "IPY_MODEL_6d12941f681a4edca62423c6c79a606a",
            "placeholder": "​",
            "style": "IPY_MODEL_ca49d11c341b49868cfbec1645e793a9",
            "value": " 902/902 [00:41&lt;00:00, 21.79it/s, Loss 3.1341]"
          }
        },
        "67e754a703c748ec8ebcb34b6e54158e": {
          "model_module": "@jupyter-widgets/base",
          "model_name": "LayoutModel",
          "model_module_version": "1.2.0",
          "state": {
            "_model_module": "@jupyter-widgets/base",
            "_model_module_version": "1.2.0",
            "_model_name": "LayoutModel",
            "_view_count": null,
            "_view_module": "@jupyter-widgets/base",
            "_view_module_version": "1.2.0",
            "_view_name": "LayoutView",
            "align_content": null,
            "align_items": null,
            "align_self": null,
            "border": null,
            "bottom": null,
            "display": null,
            "flex": null,
            "flex_flow": null,
            "grid_area": null,
            "grid_auto_columns": null,
            "grid_auto_flow": null,
            "grid_auto_rows": null,
            "grid_column": null,
            "grid_gap": null,
            "grid_row": null,
            "grid_template_areas": null,
            "grid_template_columns": null,
            "grid_template_rows": null,
            "height": null,
            "justify_content": null,
            "justify_items": null,
            "left": null,
            "margin": null,
            "max_height": null,
            "max_width": null,
            "min_height": null,
            "min_width": null,
            "object_fit": null,
            "object_position": null,
            "order": null,
            "overflow": null,
            "overflow_x": null,
            "overflow_y": null,
            "padding": null,
            "right": null,
            "top": null,
            "visibility": null,
            "width": null
          }
        },
        "086c1c616db14225bf5dd819ad559e02": {
          "model_module": "@jupyter-widgets/base",
          "model_name": "LayoutModel",
          "model_module_version": "1.2.0",
          "state": {
            "_model_module": "@jupyter-widgets/base",
            "_model_module_version": "1.2.0",
            "_model_name": "LayoutModel",
            "_view_count": null,
            "_view_module": "@jupyter-widgets/base",
            "_view_module_version": "1.2.0",
            "_view_name": "LayoutView",
            "align_content": null,
            "align_items": null,
            "align_self": null,
            "border": null,
            "bottom": null,
            "display": null,
            "flex": null,
            "flex_flow": null,
            "grid_area": null,
            "grid_auto_columns": null,
            "grid_auto_flow": null,
            "grid_auto_rows": null,
            "grid_column": null,
            "grid_gap": null,
            "grid_row": null,
            "grid_template_areas": null,
            "grid_template_columns": null,
            "grid_template_rows": null,
            "height": null,
            "justify_content": null,
            "justify_items": null,
            "left": null,
            "margin": null,
            "max_height": null,
            "max_width": null,
            "min_height": null,
            "min_width": null,
            "object_fit": null,
            "object_position": null,
            "order": null,
            "overflow": null,
            "overflow_x": null,
            "overflow_y": null,
            "padding": null,
            "right": null,
            "top": null,
            "visibility": null,
            "width": null
          }
        },
        "9b4a396404c94f66a9562b29060f848c": {
          "model_module": "@jupyter-widgets/controls",
          "model_name": "DescriptionStyleModel",
          "model_module_version": "1.5.0",
          "state": {
            "_model_module": "@jupyter-widgets/controls",
            "_model_module_version": "1.5.0",
            "_model_name": "DescriptionStyleModel",
            "_view_count": null,
            "_view_module": "@jupyter-widgets/base",
            "_view_module_version": "1.2.0",
            "_view_name": "StyleView",
            "description_width": ""
          }
        },
        "ee7a277b92824914b26f2f2cb9757093": {
          "model_module": "@jupyter-widgets/base",
          "model_name": "LayoutModel",
          "model_module_version": "1.2.0",
          "state": {
            "_model_module": "@jupyter-widgets/base",
            "_model_module_version": "1.2.0",
            "_model_name": "LayoutModel",
            "_view_count": null,
            "_view_module": "@jupyter-widgets/base",
            "_view_module_version": "1.2.0",
            "_view_name": "LayoutView",
            "align_content": null,
            "align_items": null,
            "align_self": null,
            "border": null,
            "bottom": null,
            "display": null,
            "flex": null,
            "flex_flow": null,
            "grid_area": null,
            "grid_auto_columns": null,
            "grid_auto_flow": null,
            "grid_auto_rows": null,
            "grid_column": null,
            "grid_gap": null,
            "grid_row": null,
            "grid_template_areas": null,
            "grid_template_columns": null,
            "grid_template_rows": null,
            "height": null,
            "justify_content": null,
            "justify_items": null,
            "left": null,
            "margin": null,
            "max_height": null,
            "max_width": null,
            "min_height": null,
            "min_width": null,
            "object_fit": null,
            "object_position": null,
            "order": null,
            "overflow": null,
            "overflow_x": null,
            "overflow_y": null,
            "padding": null,
            "right": null,
            "top": null,
            "visibility": null,
            "width": null
          }
        },
        "cd2b76472f9145d69ca7c6f5ece34535": {
          "model_module": "@jupyter-widgets/controls",
          "model_name": "ProgressStyleModel",
          "model_module_version": "1.5.0",
          "state": {
            "_model_module": "@jupyter-widgets/controls",
            "_model_module_version": "1.5.0",
            "_model_name": "ProgressStyleModel",
            "_view_count": null,
            "_view_module": "@jupyter-widgets/base",
            "_view_module_version": "1.2.0",
            "_view_name": "StyleView",
            "bar_color": null,
            "description_width": ""
          }
        },
        "6d12941f681a4edca62423c6c79a606a": {
          "model_module": "@jupyter-widgets/base",
          "model_name": "LayoutModel",
          "model_module_version": "1.2.0",
          "state": {
            "_model_module": "@jupyter-widgets/base",
            "_model_module_version": "1.2.0",
            "_model_name": "LayoutModel",
            "_view_count": null,
            "_view_module": "@jupyter-widgets/base",
            "_view_module_version": "1.2.0",
            "_view_name": "LayoutView",
            "align_content": null,
            "align_items": null,
            "align_self": null,
            "border": null,
            "bottom": null,
            "display": null,
            "flex": null,
            "flex_flow": null,
            "grid_area": null,
            "grid_auto_columns": null,
            "grid_auto_flow": null,
            "grid_auto_rows": null,
            "grid_column": null,
            "grid_gap": null,
            "grid_row": null,
            "grid_template_areas": null,
            "grid_template_columns": null,
            "grid_template_rows": null,
            "height": null,
            "justify_content": null,
            "justify_items": null,
            "left": null,
            "margin": null,
            "max_height": null,
            "max_width": null,
            "min_height": null,
            "min_width": null,
            "object_fit": null,
            "object_position": null,
            "order": null,
            "overflow": null,
            "overflow_x": null,
            "overflow_y": null,
            "padding": null,
            "right": null,
            "top": null,
            "visibility": null,
            "width": null
          }
        },
        "ca49d11c341b49868cfbec1645e793a9": {
          "model_module": "@jupyter-widgets/controls",
          "model_name": "DescriptionStyleModel",
          "model_module_version": "1.5.0",
          "state": {
            "_model_module": "@jupyter-widgets/controls",
            "_model_module_version": "1.5.0",
            "_model_name": "DescriptionStyleModel",
            "_view_count": null,
            "_view_module": "@jupyter-widgets/base",
            "_view_module_version": "1.2.0",
            "_view_name": "StyleView",
            "description_width": ""
          }
        },
        "79ec1e39bd634ced82ed356c3aad998c": {
          "model_module": "@jupyter-widgets/controls",
          "model_name": "HBoxModel",
          "model_module_version": "1.5.0",
          "state": {
            "_dom_classes": [],
            "_model_module": "@jupyter-widgets/controls",
            "_model_module_version": "1.5.0",
            "_model_name": "HBoxModel",
            "_view_count": null,
            "_view_module": "@jupyter-widgets/controls",
            "_view_module_version": "1.5.0",
            "_view_name": "HBoxView",
            "box_style": "",
            "children": [
              "IPY_MODEL_c798e50dfdcc45d3bb80402dfa272890",
              "IPY_MODEL_b45f842a779a4084852ab676cced703b",
              "IPY_MODEL_88ab3040a15b4d1b8f25218003f6e91e"
            ],
            "layout": "IPY_MODEL_6d42e769173a479bac466d02496be431"
          }
        },
        "c798e50dfdcc45d3bb80402dfa272890": {
          "model_module": "@jupyter-widgets/controls",
          "model_name": "HTMLModel",
          "model_module_version": "1.5.0",
          "state": {
            "_dom_classes": [],
            "_model_module": "@jupyter-widgets/controls",
            "_model_module_version": "1.5.0",
            "_model_name": "HTMLModel",
            "_view_count": null,
            "_view_module": "@jupyter-widgets/controls",
            "_view_module_version": "1.5.0",
            "_view_name": "HTMLView",
            "description": "",
            "description_tooltip": null,
            "layout": "IPY_MODEL_4aedb149cd3444f0b04818951fe1e7fc",
            "placeholder": "​",
            "style": "IPY_MODEL_319edd07760042cf8b24c166db2eee1b",
            "value": "Epoch  6: 100%"
          }
        },
        "b45f842a779a4084852ab676cced703b": {
          "model_module": "@jupyter-widgets/controls",
          "model_name": "FloatProgressModel",
          "model_module_version": "1.5.0",
          "state": {
            "_dom_classes": [],
            "_model_module": "@jupyter-widgets/controls",
            "_model_module_version": "1.5.0",
            "_model_name": "FloatProgressModel",
            "_view_count": null,
            "_view_module": "@jupyter-widgets/controls",
            "_view_module_version": "1.5.0",
            "_view_name": "ProgressView",
            "bar_style": "success",
            "description": "",
            "description_tooltip": null,
            "layout": "IPY_MODEL_5576593ac45e41cd9d01e86fad3fdcd6",
            "max": 902,
            "min": 0,
            "orientation": "horizontal",
            "style": "IPY_MODEL_94fa4e7420a042dfbd66ea8c9b98d72b",
            "value": 902
          }
        },
        "88ab3040a15b4d1b8f25218003f6e91e": {
          "model_module": "@jupyter-widgets/controls",
          "model_name": "HTMLModel",
          "model_module_version": "1.5.0",
          "state": {
            "_dom_classes": [],
            "_model_module": "@jupyter-widgets/controls",
            "_model_module_version": "1.5.0",
            "_model_name": "HTMLModel",
            "_view_count": null,
            "_view_module": "@jupyter-widgets/controls",
            "_view_module_version": "1.5.0",
            "_view_name": "HTMLView",
            "description": "",
            "description_tooltip": null,
            "layout": "IPY_MODEL_4b40d490c49c4efe8064c67ff987f9df",
            "placeholder": "​",
            "style": "IPY_MODEL_f283ff4583ac40bcbb4d258447a1777a",
            "value": " 902/902 [00:41&lt;00:00, 21.75it/s, Loss 2.5454]"
          }
        },
        "6d42e769173a479bac466d02496be431": {
          "model_module": "@jupyter-widgets/base",
          "model_name": "LayoutModel",
          "model_module_version": "1.2.0",
          "state": {
            "_model_module": "@jupyter-widgets/base",
            "_model_module_version": "1.2.0",
            "_model_name": "LayoutModel",
            "_view_count": null,
            "_view_module": "@jupyter-widgets/base",
            "_view_module_version": "1.2.0",
            "_view_name": "LayoutView",
            "align_content": null,
            "align_items": null,
            "align_self": null,
            "border": null,
            "bottom": null,
            "display": null,
            "flex": null,
            "flex_flow": null,
            "grid_area": null,
            "grid_auto_columns": null,
            "grid_auto_flow": null,
            "grid_auto_rows": null,
            "grid_column": null,
            "grid_gap": null,
            "grid_row": null,
            "grid_template_areas": null,
            "grid_template_columns": null,
            "grid_template_rows": null,
            "height": null,
            "justify_content": null,
            "justify_items": null,
            "left": null,
            "margin": null,
            "max_height": null,
            "max_width": null,
            "min_height": null,
            "min_width": null,
            "object_fit": null,
            "object_position": null,
            "order": null,
            "overflow": null,
            "overflow_x": null,
            "overflow_y": null,
            "padding": null,
            "right": null,
            "top": null,
            "visibility": null,
            "width": null
          }
        },
        "4aedb149cd3444f0b04818951fe1e7fc": {
          "model_module": "@jupyter-widgets/base",
          "model_name": "LayoutModel",
          "model_module_version": "1.2.0",
          "state": {
            "_model_module": "@jupyter-widgets/base",
            "_model_module_version": "1.2.0",
            "_model_name": "LayoutModel",
            "_view_count": null,
            "_view_module": "@jupyter-widgets/base",
            "_view_module_version": "1.2.0",
            "_view_name": "LayoutView",
            "align_content": null,
            "align_items": null,
            "align_self": null,
            "border": null,
            "bottom": null,
            "display": null,
            "flex": null,
            "flex_flow": null,
            "grid_area": null,
            "grid_auto_columns": null,
            "grid_auto_flow": null,
            "grid_auto_rows": null,
            "grid_column": null,
            "grid_gap": null,
            "grid_row": null,
            "grid_template_areas": null,
            "grid_template_columns": null,
            "grid_template_rows": null,
            "height": null,
            "justify_content": null,
            "justify_items": null,
            "left": null,
            "margin": null,
            "max_height": null,
            "max_width": null,
            "min_height": null,
            "min_width": null,
            "object_fit": null,
            "object_position": null,
            "order": null,
            "overflow": null,
            "overflow_x": null,
            "overflow_y": null,
            "padding": null,
            "right": null,
            "top": null,
            "visibility": null,
            "width": null
          }
        },
        "319edd07760042cf8b24c166db2eee1b": {
          "model_module": "@jupyter-widgets/controls",
          "model_name": "DescriptionStyleModel",
          "model_module_version": "1.5.0",
          "state": {
            "_model_module": "@jupyter-widgets/controls",
            "_model_module_version": "1.5.0",
            "_model_name": "DescriptionStyleModel",
            "_view_count": null,
            "_view_module": "@jupyter-widgets/base",
            "_view_module_version": "1.2.0",
            "_view_name": "StyleView",
            "description_width": ""
          }
        },
        "5576593ac45e41cd9d01e86fad3fdcd6": {
          "model_module": "@jupyter-widgets/base",
          "model_name": "LayoutModel",
          "model_module_version": "1.2.0",
          "state": {
            "_model_module": "@jupyter-widgets/base",
            "_model_module_version": "1.2.0",
            "_model_name": "LayoutModel",
            "_view_count": null,
            "_view_module": "@jupyter-widgets/base",
            "_view_module_version": "1.2.0",
            "_view_name": "LayoutView",
            "align_content": null,
            "align_items": null,
            "align_self": null,
            "border": null,
            "bottom": null,
            "display": null,
            "flex": null,
            "flex_flow": null,
            "grid_area": null,
            "grid_auto_columns": null,
            "grid_auto_flow": null,
            "grid_auto_rows": null,
            "grid_column": null,
            "grid_gap": null,
            "grid_row": null,
            "grid_template_areas": null,
            "grid_template_columns": null,
            "grid_template_rows": null,
            "height": null,
            "justify_content": null,
            "justify_items": null,
            "left": null,
            "margin": null,
            "max_height": null,
            "max_width": null,
            "min_height": null,
            "min_width": null,
            "object_fit": null,
            "object_position": null,
            "order": null,
            "overflow": null,
            "overflow_x": null,
            "overflow_y": null,
            "padding": null,
            "right": null,
            "top": null,
            "visibility": null,
            "width": null
          }
        },
        "94fa4e7420a042dfbd66ea8c9b98d72b": {
          "model_module": "@jupyter-widgets/controls",
          "model_name": "ProgressStyleModel",
          "model_module_version": "1.5.0",
          "state": {
            "_model_module": "@jupyter-widgets/controls",
            "_model_module_version": "1.5.0",
            "_model_name": "ProgressStyleModel",
            "_view_count": null,
            "_view_module": "@jupyter-widgets/base",
            "_view_module_version": "1.2.0",
            "_view_name": "StyleView",
            "bar_color": null,
            "description_width": ""
          }
        },
        "4b40d490c49c4efe8064c67ff987f9df": {
          "model_module": "@jupyter-widgets/base",
          "model_name": "LayoutModel",
          "model_module_version": "1.2.0",
          "state": {
            "_model_module": "@jupyter-widgets/base",
            "_model_module_version": "1.2.0",
            "_model_name": "LayoutModel",
            "_view_count": null,
            "_view_module": "@jupyter-widgets/base",
            "_view_module_version": "1.2.0",
            "_view_name": "LayoutView",
            "align_content": null,
            "align_items": null,
            "align_self": null,
            "border": null,
            "bottom": null,
            "display": null,
            "flex": null,
            "flex_flow": null,
            "grid_area": null,
            "grid_auto_columns": null,
            "grid_auto_flow": null,
            "grid_auto_rows": null,
            "grid_column": null,
            "grid_gap": null,
            "grid_row": null,
            "grid_template_areas": null,
            "grid_template_columns": null,
            "grid_template_rows": null,
            "height": null,
            "justify_content": null,
            "justify_items": null,
            "left": null,
            "margin": null,
            "max_height": null,
            "max_width": null,
            "min_height": null,
            "min_width": null,
            "object_fit": null,
            "object_position": null,
            "order": null,
            "overflow": null,
            "overflow_x": null,
            "overflow_y": null,
            "padding": null,
            "right": null,
            "top": null,
            "visibility": null,
            "width": null
          }
        },
        "f283ff4583ac40bcbb4d258447a1777a": {
          "model_module": "@jupyter-widgets/controls",
          "model_name": "DescriptionStyleModel",
          "model_module_version": "1.5.0",
          "state": {
            "_model_module": "@jupyter-widgets/controls",
            "_model_module_version": "1.5.0",
            "_model_name": "DescriptionStyleModel",
            "_view_count": null,
            "_view_module": "@jupyter-widgets/base",
            "_view_module_version": "1.2.0",
            "_view_name": "StyleView",
            "description_width": ""
          }
        },
        "f57cec84dabd4e1ebc6c2a1897006007": {
          "model_module": "@jupyter-widgets/controls",
          "model_name": "HBoxModel",
          "model_module_version": "1.5.0",
          "state": {
            "_dom_classes": [],
            "_model_module": "@jupyter-widgets/controls",
            "_model_module_version": "1.5.0",
            "_model_name": "HBoxModel",
            "_view_count": null,
            "_view_module": "@jupyter-widgets/controls",
            "_view_module_version": "1.5.0",
            "_view_name": "HBoxView",
            "box_style": "",
            "children": [
              "IPY_MODEL_65a05990ea4a480dba3a1b08751f53bc",
              "IPY_MODEL_8ae420b1bacd40c6a605e43009a88b39",
              "IPY_MODEL_0a2714c75b5f4eb9a37fcc2916085ebb"
            ],
            "layout": "IPY_MODEL_1e1f84c949a54b379a63f5ce5e88f07e"
          }
        },
        "65a05990ea4a480dba3a1b08751f53bc": {
          "model_module": "@jupyter-widgets/controls",
          "model_name": "HTMLModel",
          "model_module_version": "1.5.0",
          "state": {
            "_dom_classes": [],
            "_model_module": "@jupyter-widgets/controls",
            "_model_module_version": "1.5.0",
            "_model_name": "HTMLModel",
            "_view_count": null,
            "_view_module": "@jupyter-widgets/controls",
            "_view_module_version": "1.5.0",
            "_view_name": "HTMLView",
            "description": "",
            "description_tooltip": null,
            "layout": "IPY_MODEL_e266347702044c87840d292135f48669",
            "placeholder": "​",
            "style": "IPY_MODEL_e9bb506ae4bb4ebea1cefa17be99b7fd",
            "value": "Epoch  7: 100%"
          }
        },
        "8ae420b1bacd40c6a605e43009a88b39": {
          "model_module": "@jupyter-widgets/controls",
          "model_name": "FloatProgressModel",
          "model_module_version": "1.5.0",
          "state": {
            "_dom_classes": [],
            "_model_module": "@jupyter-widgets/controls",
            "_model_module_version": "1.5.0",
            "_model_name": "FloatProgressModel",
            "_view_count": null,
            "_view_module": "@jupyter-widgets/controls",
            "_view_module_version": "1.5.0",
            "_view_name": "ProgressView",
            "bar_style": "success",
            "description": "",
            "description_tooltip": null,
            "layout": "IPY_MODEL_5a2709f765414adda630f8bfbafb918f",
            "max": 902,
            "min": 0,
            "orientation": "horizontal",
            "style": "IPY_MODEL_da27d69b002f461ebdc0220cca220f1b",
            "value": 902
          }
        },
        "0a2714c75b5f4eb9a37fcc2916085ebb": {
          "model_module": "@jupyter-widgets/controls",
          "model_name": "HTMLModel",
          "model_module_version": "1.5.0",
          "state": {
            "_dom_classes": [],
            "_model_module": "@jupyter-widgets/controls",
            "_model_module_version": "1.5.0",
            "_model_name": "HTMLModel",
            "_view_count": null,
            "_view_module": "@jupyter-widgets/controls",
            "_view_module_version": "1.5.0",
            "_view_name": "HTMLView",
            "description": "",
            "description_tooltip": null,
            "layout": "IPY_MODEL_38c221a69ae142f2b8d3a4b8e74f998b",
            "placeholder": "​",
            "style": "IPY_MODEL_a46481f5b76f4fa4a6a2300122bd2890",
            "value": " 902/902 [00:41&lt;00:00, 21.65it/s, Loss 1.9157]"
          }
        },
        "1e1f84c949a54b379a63f5ce5e88f07e": {
          "model_module": "@jupyter-widgets/base",
          "model_name": "LayoutModel",
          "model_module_version": "1.2.0",
          "state": {
            "_model_module": "@jupyter-widgets/base",
            "_model_module_version": "1.2.0",
            "_model_name": "LayoutModel",
            "_view_count": null,
            "_view_module": "@jupyter-widgets/base",
            "_view_module_version": "1.2.0",
            "_view_name": "LayoutView",
            "align_content": null,
            "align_items": null,
            "align_self": null,
            "border": null,
            "bottom": null,
            "display": null,
            "flex": null,
            "flex_flow": null,
            "grid_area": null,
            "grid_auto_columns": null,
            "grid_auto_flow": null,
            "grid_auto_rows": null,
            "grid_column": null,
            "grid_gap": null,
            "grid_row": null,
            "grid_template_areas": null,
            "grid_template_columns": null,
            "grid_template_rows": null,
            "height": null,
            "justify_content": null,
            "justify_items": null,
            "left": null,
            "margin": null,
            "max_height": null,
            "max_width": null,
            "min_height": null,
            "min_width": null,
            "object_fit": null,
            "object_position": null,
            "order": null,
            "overflow": null,
            "overflow_x": null,
            "overflow_y": null,
            "padding": null,
            "right": null,
            "top": null,
            "visibility": null,
            "width": null
          }
        },
        "e266347702044c87840d292135f48669": {
          "model_module": "@jupyter-widgets/base",
          "model_name": "LayoutModel",
          "model_module_version": "1.2.0",
          "state": {
            "_model_module": "@jupyter-widgets/base",
            "_model_module_version": "1.2.0",
            "_model_name": "LayoutModel",
            "_view_count": null,
            "_view_module": "@jupyter-widgets/base",
            "_view_module_version": "1.2.0",
            "_view_name": "LayoutView",
            "align_content": null,
            "align_items": null,
            "align_self": null,
            "border": null,
            "bottom": null,
            "display": null,
            "flex": null,
            "flex_flow": null,
            "grid_area": null,
            "grid_auto_columns": null,
            "grid_auto_flow": null,
            "grid_auto_rows": null,
            "grid_column": null,
            "grid_gap": null,
            "grid_row": null,
            "grid_template_areas": null,
            "grid_template_columns": null,
            "grid_template_rows": null,
            "height": null,
            "justify_content": null,
            "justify_items": null,
            "left": null,
            "margin": null,
            "max_height": null,
            "max_width": null,
            "min_height": null,
            "min_width": null,
            "object_fit": null,
            "object_position": null,
            "order": null,
            "overflow": null,
            "overflow_x": null,
            "overflow_y": null,
            "padding": null,
            "right": null,
            "top": null,
            "visibility": null,
            "width": null
          }
        },
        "e9bb506ae4bb4ebea1cefa17be99b7fd": {
          "model_module": "@jupyter-widgets/controls",
          "model_name": "DescriptionStyleModel",
          "model_module_version": "1.5.0",
          "state": {
            "_model_module": "@jupyter-widgets/controls",
            "_model_module_version": "1.5.0",
            "_model_name": "DescriptionStyleModel",
            "_view_count": null,
            "_view_module": "@jupyter-widgets/base",
            "_view_module_version": "1.2.0",
            "_view_name": "StyleView",
            "description_width": ""
          }
        },
        "5a2709f765414adda630f8bfbafb918f": {
          "model_module": "@jupyter-widgets/base",
          "model_name": "LayoutModel",
          "model_module_version": "1.2.0",
          "state": {
            "_model_module": "@jupyter-widgets/base",
            "_model_module_version": "1.2.0",
            "_model_name": "LayoutModel",
            "_view_count": null,
            "_view_module": "@jupyter-widgets/base",
            "_view_module_version": "1.2.0",
            "_view_name": "LayoutView",
            "align_content": null,
            "align_items": null,
            "align_self": null,
            "border": null,
            "bottom": null,
            "display": null,
            "flex": null,
            "flex_flow": null,
            "grid_area": null,
            "grid_auto_columns": null,
            "grid_auto_flow": null,
            "grid_auto_rows": null,
            "grid_column": null,
            "grid_gap": null,
            "grid_row": null,
            "grid_template_areas": null,
            "grid_template_columns": null,
            "grid_template_rows": null,
            "height": null,
            "justify_content": null,
            "justify_items": null,
            "left": null,
            "margin": null,
            "max_height": null,
            "max_width": null,
            "min_height": null,
            "min_width": null,
            "object_fit": null,
            "object_position": null,
            "order": null,
            "overflow": null,
            "overflow_x": null,
            "overflow_y": null,
            "padding": null,
            "right": null,
            "top": null,
            "visibility": null,
            "width": null
          }
        },
        "da27d69b002f461ebdc0220cca220f1b": {
          "model_module": "@jupyter-widgets/controls",
          "model_name": "ProgressStyleModel",
          "model_module_version": "1.5.0",
          "state": {
            "_model_module": "@jupyter-widgets/controls",
            "_model_module_version": "1.5.0",
            "_model_name": "ProgressStyleModel",
            "_view_count": null,
            "_view_module": "@jupyter-widgets/base",
            "_view_module_version": "1.2.0",
            "_view_name": "StyleView",
            "bar_color": null,
            "description_width": ""
          }
        },
        "38c221a69ae142f2b8d3a4b8e74f998b": {
          "model_module": "@jupyter-widgets/base",
          "model_name": "LayoutModel",
          "model_module_version": "1.2.0",
          "state": {
            "_model_module": "@jupyter-widgets/base",
            "_model_module_version": "1.2.0",
            "_model_name": "LayoutModel",
            "_view_count": null,
            "_view_module": "@jupyter-widgets/base",
            "_view_module_version": "1.2.0",
            "_view_name": "LayoutView",
            "align_content": null,
            "align_items": null,
            "align_self": null,
            "border": null,
            "bottom": null,
            "display": null,
            "flex": null,
            "flex_flow": null,
            "grid_area": null,
            "grid_auto_columns": null,
            "grid_auto_flow": null,
            "grid_auto_rows": null,
            "grid_column": null,
            "grid_gap": null,
            "grid_row": null,
            "grid_template_areas": null,
            "grid_template_columns": null,
            "grid_template_rows": null,
            "height": null,
            "justify_content": null,
            "justify_items": null,
            "left": null,
            "margin": null,
            "max_height": null,
            "max_width": null,
            "min_height": null,
            "min_width": null,
            "object_fit": null,
            "object_position": null,
            "order": null,
            "overflow": null,
            "overflow_x": null,
            "overflow_y": null,
            "padding": null,
            "right": null,
            "top": null,
            "visibility": null,
            "width": null
          }
        },
        "a46481f5b76f4fa4a6a2300122bd2890": {
          "model_module": "@jupyter-widgets/controls",
          "model_name": "DescriptionStyleModel",
          "model_module_version": "1.5.0",
          "state": {
            "_model_module": "@jupyter-widgets/controls",
            "_model_module_version": "1.5.0",
            "_model_name": "DescriptionStyleModel",
            "_view_count": null,
            "_view_module": "@jupyter-widgets/base",
            "_view_module_version": "1.2.0",
            "_view_name": "StyleView",
            "description_width": ""
          }
        },
        "ffc16ab5fca64b0cb9f09e61b1a9850c": {
          "model_module": "@jupyter-widgets/controls",
          "model_name": "HBoxModel",
          "model_module_version": "1.5.0",
          "state": {
            "_dom_classes": [],
            "_model_module": "@jupyter-widgets/controls",
            "_model_module_version": "1.5.0",
            "_model_name": "HBoxModel",
            "_view_count": null,
            "_view_module": "@jupyter-widgets/controls",
            "_view_module_version": "1.5.0",
            "_view_name": "HBoxView",
            "box_style": "",
            "children": [
              "IPY_MODEL_4bb90f87469a46f1ba60626e4aabd4ea",
              "IPY_MODEL_0dc650e927f541a0aa943233e9328db2",
              "IPY_MODEL_63045ac260ad439b962e2edb03010f29"
            ],
            "layout": "IPY_MODEL_2e83b35b6f844ba994a7d4d7266ee2af"
          }
        },
        "4bb90f87469a46f1ba60626e4aabd4ea": {
          "model_module": "@jupyter-widgets/controls",
          "model_name": "HTMLModel",
          "model_module_version": "1.5.0",
          "state": {
            "_dom_classes": [],
            "_model_module": "@jupyter-widgets/controls",
            "_model_module_version": "1.5.0",
            "_model_name": "HTMLModel",
            "_view_count": null,
            "_view_module": "@jupyter-widgets/controls",
            "_view_module_version": "1.5.0",
            "_view_name": "HTMLView",
            "description": "",
            "description_tooltip": null,
            "layout": "IPY_MODEL_ab716755bb224712b60604e1b4d1350a",
            "placeholder": "​",
            "style": "IPY_MODEL_7365a3b092364f7187b75bb6f6fb07be",
            "value": "Epoch  8: 100%"
          }
        },
        "0dc650e927f541a0aa943233e9328db2": {
          "model_module": "@jupyter-widgets/controls",
          "model_name": "FloatProgressModel",
          "model_module_version": "1.5.0",
          "state": {
            "_dom_classes": [],
            "_model_module": "@jupyter-widgets/controls",
            "_model_module_version": "1.5.0",
            "_model_name": "FloatProgressModel",
            "_view_count": null,
            "_view_module": "@jupyter-widgets/controls",
            "_view_module_version": "1.5.0",
            "_view_name": "ProgressView",
            "bar_style": "success",
            "description": "",
            "description_tooltip": null,
            "layout": "IPY_MODEL_8a4a9b81df6c4c54b07ee6beb48b7ee1",
            "max": 902,
            "min": 0,
            "orientation": "horizontal",
            "style": "IPY_MODEL_03fb469ccc2b4c85aace90829d0298cd",
            "value": 902
          }
        },
        "63045ac260ad439b962e2edb03010f29": {
          "model_module": "@jupyter-widgets/controls",
          "model_name": "HTMLModel",
          "model_module_version": "1.5.0",
          "state": {
            "_dom_classes": [],
            "_model_module": "@jupyter-widgets/controls",
            "_model_module_version": "1.5.0",
            "_model_name": "HTMLModel",
            "_view_count": null,
            "_view_module": "@jupyter-widgets/controls",
            "_view_module_version": "1.5.0",
            "_view_name": "HTMLView",
            "description": "",
            "description_tooltip": null,
            "layout": "IPY_MODEL_9a2d96082b04441da7082073ea31e7a0",
            "placeholder": "​",
            "style": "IPY_MODEL_2a289b9cb97d4ff2a44d4489f7d1b8d5",
            "value": " 902/902 [00:41&lt;00:00, 21.68it/s, Loss 1.3920]"
          }
        },
        "2e83b35b6f844ba994a7d4d7266ee2af": {
          "model_module": "@jupyter-widgets/base",
          "model_name": "LayoutModel",
          "model_module_version": "1.2.0",
          "state": {
            "_model_module": "@jupyter-widgets/base",
            "_model_module_version": "1.2.0",
            "_model_name": "LayoutModel",
            "_view_count": null,
            "_view_module": "@jupyter-widgets/base",
            "_view_module_version": "1.2.0",
            "_view_name": "LayoutView",
            "align_content": null,
            "align_items": null,
            "align_self": null,
            "border": null,
            "bottom": null,
            "display": null,
            "flex": null,
            "flex_flow": null,
            "grid_area": null,
            "grid_auto_columns": null,
            "grid_auto_flow": null,
            "grid_auto_rows": null,
            "grid_column": null,
            "grid_gap": null,
            "grid_row": null,
            "grid_template_areas": null,
            "grid_template_columns": null,
            "grid_template_rows": null,
            "height": null,
            "justify_content": null,
            "justify_items": null,
            "left": null,
            "margin": null,
            "max_height": null,
            "max_width": null,
            "min_height": null,
            "min_width": null,
            "object_fit": null,
            "object_position": null,
            "order": null,
            "overflow": null,
            "overflow_x": null,
            "overflow_y": null,
            "padding": null,
            "right": null,
            "top": null,
            "visibility": null,
            "width": null
          }
        },
        "ab716755bb224712b60604e1b4d1350a": {
          "model_module": "@jupyter-widgets/base",
          "model_name": "LayoutModel",
          "model_module_version": "1.2.0",
          "state": {
            "_model_module": "@jupyter-widgets/base",
            "_model_module_version": "1.2.0",
            "_model_name": "LayoutModel",
            "_view_count": null,
            "_view_module": "@jupyter-widgets/base",
            "_view_module_version": "1.2.0",
            "_view_name": "LayoutView",
            "align_content": null,
            "align_items": null,
            "align_self": null,
            "border": null,
            "bottom": null,
            "display": null,
            "flex": null,
            "flex_flow": null,
            "grid_area": null,
            "grid_auto_columns": null,
            "grid_auto_flow": null,
            "grid_auto_rows": null,
            "grid_column": null,
            "grid_gap": null,
            "grid_row": null,
            "grid_template_areas": null,
            "grid_template_columns": null,
            "grid_template_rows": null,
            "height": null,
            "justify_content": null,
            "justify_items": null,
            "left": null,
            "margin": null,
            "max_height": null,
            "max_width": null,
            "min_height": null,
            "min_width": null,
            "object_fit": null,
            "object_position": null,
            "order": null,
            "overflow": null,
            "overflow_x": null,
            "overflow_y": null,
            "padding": null,
            "right": null,
            "top": null,
            "visibility": null,
            "width": null
          }
        },
        "7365a3b092364f7187b75bb6f6fb07be": {
          "model_module": "@jupyter-widgets/controls",
          "model_name": "DescriptionStyleModel",
          "model_module_version": "1.5.0",
          "state": {
            "_model_module": "@jupyter-widgets/controls",
            "_model_module_version": "1.5.0",
            "_model_name": "DescriptionStyleModel",
            "_view_count": null,
            "_view_module": "@jupyter-widgets/base",
            "_view_module_version": "1.2.0",
            "_view_name": "StyleView",
            "description_width": ""
          }
        },
        "8a4a9b81df6c4c54b07ee6beb48b7ee1": {
          "model_module": "@jupyter-widgets/base",
          "model_name": "LayoutModel",
          "model_module_version": "1.2.0",
          "state": {
            "_model_module": "@jupyter-widgets/base",
            "_model_module_version": "1.2.0",
            "_model_name": "LayoutModel",
            "_view_count": null,
            "_view_module": "@jupyter-widgets/base",
            "_view_module_version": "1.2.0",
            "_view_name": "LayoutView",
            "align_content": null,
            "align_items": null,
            "align_self": null,
            "border": null,
            "bottom": null,
            "display": null,
            "flex": null,
            "flex_flow": null,
            "grid_area": null,
            "grid_auto_columns": null,
            "grid_auto_flow": null,
            "grid_auto_rows": null,
            "grid_column": null,
            "grid_gap": null,
            "grid_row": null,
            "grid_template_areas": null,
            "grid_template_columns": null,
            "grid_template_rows": null,
            "height": null,
            "justify_content": null,
            "justify_items": null,
            "left": null,
            "margin": null,
            "max_height": null,
            "max_width": null,
            "min_height": null,
            "min_width": null,
            "object_fit": null,
            "object_position": null,
            "order": null,
            "overflow": null,
            "overflow_x": null,
            "overflow_y": null,
            "padding": null,
            "right": null,
            "top": null,
            "visibility": null,
            "width": null
          }
        },
        "03fb469ccc2b4c85aace90829d0298cd": {
          "model_module": "@jupyter-widgets/controls",
          "model_name": "ProgressStyleModel",
          "model_module_version": "1.5.0",
          "state": {
            "_model_module": "@jupyter-widgets/controls",
            "_model_module_version": "1.5.0",
            "_model_name": "ProgressStyleModel",
            "_view_count": null,
            "_view_module": "@jupyter-widgets/base",
            "_view_module_version": "1.2.0",
            "_view_name": "StyleView",
            "bar_color": null,
            "description_width": ""
          }
        },
        "9a2d96082b04441da7082073ea31e7a0": {
          "model_module": "@jupyter-widgets/base",
          "model_name": "LayoutModel",
          "model_module_version": "1.2.0",
          "state": {
            "_model_module": "@jupyter-widgets/base",
            "_model_module_version": "1.2.0",
            "_model_name": "LayoutModel",
            "_view_count": null,
            "_view_module": "@jupyter-widgets/base",
            "_view_module_version": "1.2.0",
            "_view_name": "LayoutView",
            "align_content": null,
            "align_items": null,
            "align_self": null,
            "border": null,
            "bottom": null,
            "display": null,
            "flex": null,
            "flex_flow": null,
            "grid_area": null,
            "grid_auto_columns": null,
            "grid_auto_flow": null,
            "grid_auto_rows": null,
            "grid_column": null,
            "grid_gap": null,
            "grid_row": null,
            "grid_template_areas": null,
            "grid_template_columns": null,
            "grid_template_rows": null,
            "height": null,
            "justify_content": null,
            "justify_items": null,
            "left": null,
            "margin": null,
            "max_height": null,
            "max_width": null,
            "min_height": null,
            "min_width": null,
            "object_fit": null,
            "object_position": null,
            "order": null,
            "overflow": null,
            "overflow_x": null,
            "overflow_y": null,
            "padding": null,
            "right": null,
            "top": null,
            "visibility": null,
            "width": null
          }
        },
        "2a289b9cb97d4ff2a44d4489f7d1b8d5": {
          "model_module": "@jupyter-widgets/controls",
          "model_name": "DescriptionStyleModel",
          "model_module_version": "1.5.0",
          "state": {
            "_model_module": "@jupyter-widgets/controls",
            "_model_module_version": "1.5.0",
            "_model_name": "DescriptionStyleModel",
            "_view_count": null,
            "_view_module": "@jupyter-widgets/base",
            "_view_module_version": "1.2.0",
            "_view_name": "StyleView",
            "description_width": ""
          }
        },
        "bbce03c73bb246acbf388c841e180b6d": {
          "model_module": "@jupyter-widgets/controls",
          "model_name": "HBoxModel",
          "model_module_version": "1.5.0",
          "state": {
            "_dom_classes": [],
            "_model_module": "@jupyter-widgets/controls",
            "_model_module_version": "1.5.0",
            "_model_name": "HBoxModel",
            "_view_count": null,
            "_view_module": "@jupyter-widgets/controls",
            "_view_module_version": "1.5.0",
            "_view_name": "HBoxView",
            "box_style": "",
            "children": [
              "IPY_MODEL_0c5d448de6d64595ac0847e8b830b7cd",
              "IPY_MODEL_ff39394e352e4b62b5a02b2539e7fd76",
              "IPY_MODEL_a739fa9747624f0dbd352048aefab390"
            ],
            "layout": "IPY_MODEL_743e211cb8954536b3f16a87ec8213bc"
          }
        },
        "0c5d448de6d64595ac0847e8b830b7cd": {
          "model_module": "@jupyter-widgets/controls",
          "model_name": "HTMLModel",
          "model_module_version": "1.5.0",
          "state": {
            "_dom_classes": [],
            "_model_module": "@jupyter-widgets/controls",
            "_model_module_version": "1.5.0",
            "_model_name": "HTMLModel",
            "_view_count": null,
            "_view_module": "@jupyter-widgets/controls",
            "_view_module_version": "1.5.0",
            "_view_name": "HTMLView",
            "description": "",
            "description_tooltip": null,
            "layout": "IPY_MODEL_c0eee77a675c43eb88550d71289fdd65",
            "placeholder": "​",
            "style": "IPY_MODEL_349589600f064d7a9e62617b1376e0bf",
            "value": "Epoch  9: 100%"
          }
        },
        "ff39394e352e4b62b5a02b2539e7fd76": {
          "model_module": "@jupyter-widgets/controls",
          "model_name": "FloatProgressModel",
          "model_module_version": "1.5.0",
          "state": {
            "_dom_classes": [],
            "_model_module": "@jupyter-widgets/controls",
            "_model_module_version": "1.5.0",
            "_model_name": "FloatProgressModel",
            "_view_count": null,
            "_view_module": "@jupyter-widgets/controls",
            "_view_module_version": "1.5.0",
            "_view_name": "ProgressView",
            "bar_style": "success",
            "description": "",
            "description_tooltip": null,
            "layout": "IPY_MODEL_047a612d8900410099e5328a8d05f0ee",
            "max": 902,
            "min": 0,
            "orientation": "horizontal",
            "style": "IPY_MODEL_584320dec4fb472299a7ba1e31902047",
            "value": 902
          }
        },
        "a739fa9747624f0dbd352048aefab390": {
          "model_module": "@jupyter-widgets/controls",
          "model_name": "HTMLModel",
          "model_module_version": "1.5.0",
          "state": {
            "_dom_classes": [],
            "_model_module": "@jupyter-widgets/controls",
            "_model_module_version": "1.5.0",
            "_model_name": "HTMLModel",
            "_view_count": null,
            "_view_module": "@jupyter-widgets/controls",
            "_view_module_version": "1.5.0",
            "_view_name": "HTMLView",
            "description": "",
            "description_tooltip": null,
            "layout": "IPY_MODEL_a779011623334d51aac73934fde1d42f",
            "placeholder": "​",
            "style": "IPY_MODEL_d6f9452dc0464f3ea6efaab7812ef538",
            "value": " 902/902 [00:41&lt;00:00, 21.67it/s, Loss 0.9999]"
          }
        },
        "743e211cb8954536b3f16a87ec8213bc": {
          "model_module": "@jupyter-widgets/base",
          "model_name": "LayoutModel",
          "model_module_version": "1.2.0",
          "state": {
            "_model_module": "@jupyter-widgets/base",
            "_model_module_version": "1.2.0",
            "_model_name": "LayoutModel",
            "_view_count": null,
            "_view_module": "@jupyter-widgets/base",
            "_view_module_version": "1.2.0",
            "_view_name": "LayoutView",
            "align_content": null,
            "align_items": null,
            "align_self": null,
            "border": null,
            "bottom": null,
            "display": null,
            "flex": null,
            "flex_flow": null,
            "grid_area": null,
            "grid_auto_columns": null,
            "grid_auto_flow": null,
            "grid_auto_rows": null,
            "grid_column": null,
            "grid_gap": null,
            "grid_row": null,
            "grid_template_areas": null,
            "grid_template_columns": null,
            "grid_template_rows": null,
            "height": null,
            "justify_content": null,
            "justify_items": null,
            "left": null,
            "margin": null,
            "max_height": null,
            "max_width": null,
            "min_height": null,
            "min_width": null,
            "object_fit": null,
            "object_position": null,
            "order": null,
            "overflow": null,
            "overflow_x": null,
            "overflow_y": null,
            "padding": null,
            "right": null,
            "top": null,
            "visibility": null,
            "width": null
          }
        },
        "c0eee77a675c43eb88550d71289fdd65": {
          "model_module": "@jupyter-widgets/base",
          "model_name": "LayoutModel",
          "model_module_version": "1.2.0",
          "state": {
            "_model_module": "@jupyter-widgets/base",
            "_model_module_version": "1.2.0",
            "_model_name": "LayoutModel",
            "_view_count": null,
            "_view_module": "@jupyter-widgets/base",
            "_view_module_version": "1.2.0",
            "_view_name": "LayoutView",
            "align_content": null,
            "align_items": null,
            "align_self": null,
            "border": null,
            "bottom": null,
            "display": null,
            "flex": null,
            "flex_flow": null,
            "grid_area": null,
            "grid_auto_columns": null,
            "grid_auto_flow": null,
            "grid_auto_rows": null,
            "grid_column": null,
            "grid_gap": null,
            "grid_row": null,
            "grid_template_areas": null,
            "grid_template_columns": null,
            "grid_template_rows": null,
            "height": null,
            "justify_content": null,
            "justify_items": null,
            "left": null,
            "margin": null,
            "max_height": null,
            "max_width": null,
            "min_height": null,
            "min_width": null,
            "object_fit": null,
            "object_position": null,
            "order": null,
            "overflow": null,
            "overflow_x": null,
            "overflow_y": null,
            "padding": null,
            "right": null,
            "top": null,
            "visibility": null,
            "width": null
          }
        },
        "349589600f064d7a9e62617b1376e0bf": {
          "model_module": "@jupyter-widgets/controls",
          "model_name": "DescriptionStyleModel",
          "model_module_version": "1.5.0",
          "state": {
            "_model_module": "@jupyter-widgets/controls",
            "_model_module_version": "1.5.0",
            "_model_name": "DescriptionStyleModel",
            "_view_count": null,
            "_view_module": "@jupyter-widgets/base",
            "_view_module_version": "1.2.0",
            "_view_name": "StyleView",
            "description_width": ""
          }
        },
        "047a612d8900410099e5328a8d05f0ee": {
          "model_module": "@jupyter-widgets/base",
          "model_name": "LayoutModel",
          "model_module_version": "1.2.0",
          "state": {
            "_model_module": "@jupyter-widgets/base",
            "_model_module_version": "1.2.0",
            "_model_name": "LayoutModel",
            "_view_count": null,
            "_view_module": "@jupyter-widgets/base",
            "_view_module_version": "1.2.0",
            "_view_name": "LayoutView",
            "align_content": null,
            "align_items": null,
            "align_self": null,
            "border": null,
            "bottom": null,
            "display": null,
            "flex": null,
            "flex_flow": null,
            "grid_area": null,
            "grid_auto_columns": null,
            "grid_auto_flow": null,
            "grid_auto_rows": null,
            "grid_column": null,
            "grid_gap": null,
            "grid_row": null,
            "grid_template_areas": null,
            "grid_template_columns": null,
            "grid_template_rows": null,
            "height": null,
            "justify_content": null,
            "justify_items": null,
            "left": null,
            "margin": null,
            "max_height": null,
            "max_width": null,
            "min_height": null,
            "min_width": null,
            "object_fit": null,
            "object_position": null,
            "order": null,
            "overflow": null,
            "overflow_x": null,
            "overflow_y": null,
            "padding": null,
            "right": null,
            "top": null,
            "visibility": null,
            "width": null
          }
        },
        "584320dec4fb472299a7ba1e31902047": {
          "model_module": "@jupyter-widgets/controls",
          "model_name": "ProgressStyleModel",
          "model_module_version": "1.5.0",
          "state": {
            "_model_module": "@jupyter-widgets/controls",
            "_model_module_version": "1.5.0",
            "_model_name": "ProgressStyleModel",
            "_view_count": null,
            "_view_module": "@jupyter-widgets/base",
            "_view_module_version": "1.2.0",
            "_view_name": "StyleView",
            "bar_color": null,
            "description_width": ""
          }
        },
        "a779011623334d51aac73934fde1d42f": {
          "model_module": "@jupyter-widgets/base",
          "model_name": "LayoutModel",
          "model_module_version": "1.2.0",
          "state": {
            "_model_module": "@jupyter-widgets/base",
            "_model_module_version": "1.2.0",
            "_model_name": "LayoutModel",
            "_view_count": null,
            "_view_module": "@jupyter-widgets/base",
            "_view_module_version": "1.2.0",
            "_view_name": "LayoutView",
            "align_content": null,
            "align_items": null,
            "align_self": null,
            "border": null,
            "bottom": null,
            "display": null,
            "flex": null,
            "flex_flow": null,
            "grid_area": null,
            "grid_auto_columns": null,
            "grid_auto_flow": null,
            "grid_auto_rows": null,
            "grid_column": null,
            "grid_gap": null,
            "grid_row": null,
            "grid_template_areas": null,
            "grid_template_columns": null,
            "grid_template_rows": null,
            "height": null,
            "justify_content": null,
            "justify_items": null,
            "left": null,
            "margin": null,
            "max_height": null,
            "max_width": null,
            "min_height": null,
            "min_width": null,
            "object_fit": null,
            "object_position": null,
            "order": null,
            "overflow": null,
            "overflow_x": null,
            "overflow_y": null,
            "padding": null,
            "right": null,
            "top": null,
            "visibility": null,
            "width": null
          }
        },
        "d6f9452dc0464f3ea6efaab7812ef538": {
          "model_module": "@jupyter-widgets/controls",
          "model_name": "DescriptionStyleModel",
          "model_module_version": "1.5.0",
          "state": {
            "_model_module": "@jupyter-widgets/controls",
            "_model_module_version": "1.5.0",
            "_model_name": "DescriptionStyleModel",
            "_view_count": null,
            "_view_module": "@jupyter-widgets/base",
            "_view_module_version": "1.2.0",
            "_view_name": "StyleView",
            "description_width": ""
          }
        },
        "bb5411d317bf4a7e8fdfd619445d9fc4": {
          "model_module": "@jupyter-widgets/controls",
          "model_name": "HBoxModel",
          "model_module_version": "1.5.0",
          "state": {
            "_dom_classes": [],
            "_model_module": "@jupyter-widgets/controls",
            "_model_module_version": "1.5.0",
            "_model_name": "HBoxModel",
            "_view_count": null,
            "_view_module": "@jupyter-widgets/controls",
            "_view_module_version": "1.5.0",
            "_view_name": "HBoxView",
            "box_style": "",
            "children": [
              "IPY_MODEL_49b64bea40f644b495cf21f30c3c50bc",
              "IPY_MODEL_df5dad57fdb34d3fb3161a016c8e85e8",
              "IPY_MODEL_2d3e405934144dd584eecb2f59948cba"
            ],
            "layout": "IPY_MODEL_4aa9b060a1854f24b24da4ab942b9d94"
          }
        },
        "49b64bea40f644b495cf21f30c3c50bc": {
          "model_module": "@jupyter-widgets/controls",
          "model_name": "HTMLModel",
          "model_module_version": "1.5.0",
          "state": {
            "_dom_classes": [],
            "_model_module": "@jupyter-widgets/controls",
            "_model_module_version": "1.5.0",
            "_model_name": "HTMLModel",
            "_view_count": null,
            "_view_module": "@jupyter-widgets/controls",
            "_view_module_version": "1.5.0",
            "_view_name": "HTMLView",
            "description": "",
            "description_tooltip": null,
            "layout": "IPY_MODEL_617b67c74b03427c817869afc172c21f",
            "placeholder": "​",
            "style": "IPY_MODEL_8fabfb225e6e474190c29acb853308d2",
            "value": "Epoch 10: 100%"
          }
        },
        "df5dad57fdb34d3fb3161a016c8e85e8": {
          "model_module": "@jupyter-widgets/controls",
          "model_name": "FloatProgressModel",
          "model_module_version": "1.5.0",
          "state": {
            "_dom_classes": [],
            "_model_module": "@jupyter-widgets/controls",
            "_model_module_version": "1.5.0",
            "_model_name": "FloatProgressModel",
            "_view_count": null,
            "_view_module": "@jupyter-widgets/controls",
            "_view_module_version": "1.5.0",
            "_view_name": "ProgressView",
            "bar_style": "success",
            "description": "",
            "description_tooltip": null,
            "layout": "IPY_MODEL_a43528ff391742d2939f26e47379ff59",
            "max": 902,
            "min": 0,
            "orientation": "horizontal",
            "style": "IPY_MODEL_feedb5964beb42c1b5f70a1b7a61b751",
            "value": 902
          }
        },
        "2d3e405934144dd584eecb2f59948cba": {
          "model_module": "@jupyter-widgets/controls",
          "model_name": "HTMLModel",
          "model_module_version": "1.5.0",
          "state": {
            "_dom_classes": [],
            "_model_module": "@jupyter-widgets/controls",
            "_model_module_version": "1.5.0",
            "_model_name": "HTMLModel",
            "_view_count": null,
            "_view_module": "@jupyter-widgets/controls",
            "_view_module_version": "1.5.0",
            "_view_name": "HTMLView",
            "description": "",
            "description_tooltip": null,
            "layout": "IPY_MODEL_2188dc0e0dff49df85027139e98f9613",
            "placeholder": "​",
            "style": "IPY_MODEL_22a0fd5a90924a04918842fac5000a62",
            "value": " 902/902 [00:41&lt;00:00, 21.69it/s, Loss 0.7375]"
          }
        },
        "4aa9b060a1854f24b24da4ab942b9d94": {
          "model_module": "@jupyter-widgets/base",
          "model_name": "LayoutModel",
          "model_module_version": "1.2.0",
          "state": {
            "_model_module": "@jupyter-widgets/base",
            "_model_module_version": "1.2.0",
            "_model_name": "LayoutModel",
            "_view_count": null,
            "_view_module": "@jupyter-widgets/base",
            "_view_module_version": "1.2.0",
            "_view_name": "LayoutView",
            "align_content": null,
            "align_items": null,
            "align_self": null,
            "border": null,
            "bottom": null,
            "display": null,
            "flex": null,
            "flex_flow": null,
            "grid_area": null,
            "grid_auto_columns": null,
            "grid_auto_flow": null,
            "grid_auto_rows": null,
            "grid_column": null,
            "grid_gap": null,
            "grid_row": null,
            "grid_template_areas": null,
            "grid_template_columns": null,
            "grid_template_rows": null,
            "height": null,
            "justify_content": null,
            "justify_items": null,
            "left": null,
            "margin": null,
            "max_height": null,
            "max_width": null,
            "min_height": null,
            "min_width": null,
            "object_fit": null,
            "object_position": null,
            "order": null,
            "overflow": null,
            "overflow_x": null,
            "overflow_y": null,
            "padding": null,
            "right": null,
            "top": null,
            "visibility": null,
            "width": null
          }
        },
        "617b67c74b03427c817869afc172c21f": {
          "model_module": "@jupyter-widgets/base",
          "model_name": "LayoutModel",
          "model_module_version": "1.2.0",
          "state": {
            "_model_module": "@jupyter-widgets/base",
            "_model_module_version": "1.2.0",
            "_model_name": "LayoutModel",
            "_view_count": null,
            "_view_module": "@jupyter-widgets/base",
            "_view_module_version": "1.2.0",
            "_view_name": "LayoutView",
            "align_content": null,
            "align_items": null,
            "align_self": null,
            "border": null,
            "bottom": null,
            "display": null,
            "flex": null,
            "flex_flow": null,
            "grid_area": null,
            "grid_auto_columns": null,
            "grid_auto_flow": null,
            "grid_auto_rows": null,
            "grid_column": null,
            "grid_gap": null,
            "grid_row": null,
            "grid_template_areas": null,
            "grid_template_columns": null,
            "grid_template_rows": null,
            "height": null,
            "justify_content": null,
            "justify_items": null,
            "left": null,
            "margin": null,
            "max_height": null,
            "max_width": null,
            "min_height": null,
            "min_width": null,
            "object_fit": null,
            "object_position": null,
            "order": null,
            "overflow": null,
            "overflow_x": null,
            "overflow_y": null,
            "padding": null,
            "right": null,
            "top": null,
            "visibility": null,
            "width": null
          }
        },
        "8fabfb225e6e474190c29acb853308d2": {
          "model_module": "@jupyter-widgets/controls",
          "model_name": "DescriptionStyleModel",
          "model_module_version": "1.5.0",
          "state": {
            "_model_module": "@jupyter-widgets/controls",
            "_model_module_version": "1.5.0",
            "_model_name": "DescriptionStyleModel",
            "_view_count": null,
            "_view_module": "@jupyter-widgets/base",
            "_view_module_version": "1.2.0",
            "_view_name": "StyleView",
            "description_width": ""
          }
        },
        "a43528ff391742d2939f26e47379ff59": {
          "model_module": "@jupyter-widgets/base",
          "model_name": "LayoutModel",
          "model_module_version": "1.2.0",
          "state": {
            "_model_module": "@jupyter-widgets/base",
            "_model_module_version": "1.2.0",
            "_model_name": "LayoutModel",
            "_view_count": null,
            "_view_module": "@jupyter-widgets/base",
            "_view_module_version": "1.2.0",
            "_view_name": "LayoutView",
            "align_content": null,
            "align_items": null,
            "align_self": null,
            "border": null,
            "bottom": null,
            "display": null,
            "flex": null,
            "flex_flow": null,
            "grid_area": null,
            "grid_auto_columns": null,
            "grid_auto_flow": null,
            "grid_auto_rows": null,
            "grid_column": null,
            "grid_gap": null,
            "grid_row": null,
            "grid_template_areas": null,
            "grid_template_columns": null,
            "grid_template_rows": null,
            "height": null,
            "justify_content": null,
            "justify_items": null,
            "left": null,
            "margin": null,
            "max_height": null,
            "max_width": null,
            "min_height": null,
            "min_width": null,
            "object_fit": null,
            "object_position": null,
            "order": null,
            "overflow": null,
            "overflow_x": null,
            "overflow_y": null,
            "padding": null,
            "right": null,
            "top": null,
            "visibility": null,
            "width": null
          }
        },
        "feedb5964beb42c1b5f70a1b7a61b751": {
          "model_module": "@jupyter-widgets/controls",
          "model_name": "ProgressStyleModel",
          "model_module_version": "1.5.0",
          "state": {
            "_model_module": "@jupyter-widgets/controls",
            "_model_module_version": "1.5.0",
            "_model_name": "ProgressStyleModel",
            "_view_count": null,
            "_view_module": "@jupyter-widgets/base",
            "_view_module_version": "1.2.0",
            "_view_name": "StyleView",
            "bar_color": null,
            "description_width": ""
          }
        },
        "2188dc0e0dff49df85027139e98f9613": {
          "model_module": "@jupyter-widgets/base",
          "model_name": "LayoutModel",
          "model_module_version": "1.2.0",
          "state": {
            "_model_module": "@jupyter-widgets/base",
            "_model_module_version": "1.2.0",
            "_model_name": "LayoutModel",
            "_view_count": null,
            "_view_module": "@jupyter-widgets/base",
            "_view_module_version": "1.2.0",
            "_view_name": "LayoutView",
            "align_content": null,
            "align_items": null,
            "align_self": null,
            "border": null,
            "bottom": null,
            "display": null,
            "flex": null,
            "flex_flow": null,
            "grid_area": null,
            "grid_auto_columns": null,
            "grid_auto_flow": null,
            "grid_auto_rows": null,
            "grid_column": null,
            "grid_gap": null,
            "grid_row": null,
            "grid_template_areas": null,
            "grid_template_columns": null,
            "grid_template_rows": null,
            "height": null,
            "justify_content": null,
            "justify_items": null,
            "left": null,
            "margin": null,
            "max_height": null,
            "max_width": null,
            "min_height": null,
            "min_width": null,
            "object_fit": null,
            "object_position": null,
            "order": null,
            "overflow": null,
            "overflow_x": null,
            "overflow_y": null,
            "padding": null,
            "right": null,
            "top": null,
            "visibility": null,
            "width": null
          }
        },
        "22a0fd5a90924a04918842fac5000a62": {
          "model_module": "@jupyter-widgets/controls",
          "model_name": "DescriptionStyleModel",
          "model_module_version": "1.5.0",
          "state": {
            "_model_module": "@jupyter-widgets/controls",
            "_model_module_version": "1.5.0",
            "_model_name": "DescriptionStyleModel",
            "_view_count": null,
            "_view_module": "@jupyter-widgets/base",
            "_view_module_version": "1.2.0",
            "_view_name": "StyleView",
            "description_width": ""
          }
        },
        "38deddf069ff4830915c71c556b34056": {
          "model_module": "@jupyter-widgets/controls",
          "model_name": "HBoxModel",
          "model_module_version": "1.5.0",
          "state": {
            "_dom_classes": [],
            "_model_module": "@jupyter-widgets/controls",
            "_model_module_version": "1.5.0",
            "_model_name": "HBoxModel",
            "_view_count": null,
            "_view_module": "@jupyter-widgets/controls",
            "_view_module_version": "1.5.0",
            "_view_name": "HBoxView",
            "box_style": "",
            "children": [
              "IPY_MODEL_507754d480254a7892da970a0ae932eb",
              "IPY_MODEL_04f3a5c8aa9e414f974a732e58cc4cc3",
              "IPY_MODEL_53d4d9febf764548b45eb9911fd034d9"
            ],
            "layout": "IPY_MODEL_bb57e2592a784e6abc196437f2bd0ccc"
          }
        },
        "507754d480254a7892da970a0ae932eb": {
          "model_module": "@jupyter-widgets/controls",
          "model_name": "HTMLModel",
          "model_module_version": "1.5.0",
          "state": {
            "_dom_classes": [],
            "_model_module": "@jupyter-widgets/controls",
            "_model_module_version": "1.5.0",
            "_model_name": "HTMLModel",
            "_view_count": null,
            "_view_module": "@jupyter-widgets/controls",
            "_view_module_version": "1.5.0",
            "_view_name": "HTMLView",
            "description": "",
            "description_tooltip": null,
            "layout": "IPY_MODEL_0c95c3f388e445d6bfcb7f6c04439657",
            "placeholder": "​",
            "style": "IPY_MODEL_85658a18eb2143af96c51207c40961cc",
            "value": "Epoch 11: 100%"
          }
        },
        "04f3a5c8aa9e414f974a732e58cc4cc3": {
          "model_module": "@jupyter-widgets/controls",
          "model_name": "FloatProgressModel",
          "model_module_version": "1.5.0",
          "state": {
            "_dom_classes": [],
            "_model_module": "@jupyter-widgets/controls",
            "_model_module_version": "1.5.0",
            "_model_name": "FloatProgressModel",
            "_view_count": null,
            "_view_module": "@jupyter-widgets/controls",
            "_view_module_version": "1.5.0",
            "_view_name": "ProgressView",
            "bar_style": "success",
            "description": "",
            "description_tooltip": null,
            "layout": "IPY_MODEL_28b1a403ee74420c899c894f5ec4ad9e",
            "max": 902,
            "min": 0,
            "orientation": "horizontal",
            "style": "IPY_MODEL_2504fc77048548bab5f0772ed2a0f63d",
            "value": 902
          }
        },
        "53d4d9febf764548b45eb9911fd034d9": {
          "model_module": "@jupyter-widgets/controls",
          "model_name": "HTMLModel",
          "model_module_version": "1.5.0",
          "state": {
            "_dom_classes": [],
            "_model_module": "@jupyter-widgets/controls",
            "_model_module_version": "1.5.0",
            "_model_name": "HTMLModel",
            "_view_count": null,
            "_view_module": "@jupyter-widgets/controls",
            "_view_module_version": "1.5.0",
            "_view_name": "HTMLView",
            "description": "",
            "description_tooltip": null,
            "layout": "IPY_MODEL_6552aef946a24715a89b0ac7151d1449",
            "placeholder": "​",
            "style": "IPY_MODEL_3f808960721747878ffa8f4796041f66",
            "value": " 902/902 [00:41&lt;00:00, 21.38it/s, Loss 0.5580]"
          }
        },
        "bb57e2592a784e6abc196437f2bd0ccc": {
          "model_module": "@jupyter-widgets/base",
          "model_name": "LayoutModel",
          "model_module_version": "1.2.0",
          "state": {
            "_model_module": "@jupyter-widgets/base",
            "_model_module_version": "1.2.0",
            "_model_name": "LayoutModel",
            "_view_count": null,
            "_view_module": "@jupyter-widgets/base",
            "_view_module_version": "1.2.0",
            "_view_name": "LayoutView",
            "align_content": null,
            "align_items": null,
            "align_self": null,
            "border": null,
            "bottom": null,
            "display": null,
            "flex": null,
            "flex_flow": null,
            "grid_area": null,
            "grid_auto_columns": null,
            "grid_auto_flow": null,
            "grid_auto_rows": null,
            "grid_column": null,
            "grid_gap": null,
            "grid_row": null,
            "grid_template_areas": null,
            "grid_template_columns": null,
            "grid_template_rows": null,
            "height": null,
            "justify_content": null,
            "justify_items": null,
            "left": null,
            "margin": null,
            "max_height": null,
            "max_width": null,
            "min_height": null,
            "min_width": null,
            "object_fit": null,
            "object_position": null,
            "order": null,
            "overflow": null,
            "overflow_x": null,
            "overflow_y": null,
            "padding": null,
            "right": null,
            "top": null,
            "visibility": null,
            "width": null
          }
        },
        "0c95c3f388e445d6bfcb7f6c04439657": {
          "model_module": "@jupyter-widgets/base",
          "model_name": "LayoutModel",
          "model_module_version": "1.2.0",
          "state": {
            "_model_module": "@jupyter-widgets/base",
            "_model_module_version": "1.2.0",
            "_model_name": "LayoutModel",
            "_view_count": null,
            "_view_module": "@jupyter-widgets/base",
            "_view_module_version": "1.2.0",
            "_view_name": "LayoutView",
            "align_content": null,
            "align_items": null,
            "align_self": null,
            "border": null,
            "bottom": null,
            "display": null,
            "flex": null,
            "flex_flow": null,
            "grid_area": null,
            "grid_auto_columns": null,
            "grid_auto_flow": null,
            "grid_auto_rows": null,
            "grid_column": null,
            "grid_gap": null,
            "grid_row": null,
            "grid_template_areas": null,
            "grid_template_columns": null,
            "grid_template_rows": null,
            "height": null,
            "justify_content": null,
            "justify_items": null,
            "left": null,
            "margin": null,
            "max_height": null,
            "max_width": null,
            "min_height": null,
            "min_width": null,
            "object_fit": null,
            "object_position": null,
            "order": null,
            "overflow": null,
            "overflow_x": null,
            "overflow_y": null,
            "padding": null,
            "right": null,
            "top": null,
            "visibility": null,
            "width": null
          }
        },
        "85658a18eb2143af96c51207c40961cc": {
          "model_module": "@jupyter-widgets/controls",
          "model_name": "DescriptionStyleModel",
          "model_module_version": "1.5.0",
          "state": {
            "_model_module": "@jupyter-widgets/controls",
            "_model_module_version": "1.5.0",
            "_model_name": "DescriptionStyleModel",
            "_view_count": null,
            "_view_module": "@jupyter-widgets/base",
            "_view_module_version": "1.2.0",
            "_view_name": "StyleView",
            "description_width": ""
          }
        },
        "28b1a403ee74420c899c894f5ec4ad9e": {
          "model_module": "@jupyter-widgets/base",
          "model_name": "LayoutModel",
          "model_module_version": "1.2.0",
          "state": {
            "_model_module": "@jupyter-widgets/base",
            "_model_module_version": "1.2.0",
            "_model_name": "LayoutModel",
            "_view_count": null,
            "_view_module": "@jupyter-widgets/base",
            "_view_module_version": "1.2.0",
            "_view_name": "LayoutView",
            "align_content": null,
            "align_items": null,
            "align_self": null,
            "border": null,
            "bottom": null,
            "display": null,
            "flex": null,
            "flex_flow": null,
            "grid_area": null,
            "grid_auto_columns": null,
            "grid_auto_flow": null,
            "grid_auto_rows": null,
            "grid_column": null,
            "grid_gap": null,
            "grid_row": null,
            "grid_template_areas": null,
            "grid_template_columns": null,
            "grid_template_rows": null,
            "height": null,
            "justify_content": null,
            "justify_items": null,
            "left": null,
            "margin": null,
            "max_height": null,
            "max_width": null,
            "min_height": null,
            "min_width": null,
            "object_fit": null,
            "object_position": null,
            "order": null,
            "overflow": null,
            "overflow_x": null,
            "overflow_y": null,
            "padding": null,
            "right": null,
            "top": null,
            "visibility": null,
            "width": null
          }
        },
        "2504fc77048548bab5f0772ed2a0f63d": {
          "model_module": "@jupyter-widgets/controls",
          "model_name": "ProgressStyleModel",
          "model_module_version": "1.5.0",
          "state": {
            "_model_module": "@jupyter-widgets/controls",
            "_model_module_version": "1.5.0",
            "_model_name": "ProgressStyleModel",
            "_view_count": null,
            "_view_module": "@jupyter-widgets/base",
            "_view_module_version": "1.2.0",
            "_view_name": "StyleView",
            "bar_color": null,
            "description_width": ""
          }
        },
        "6552aef946a24715a89b0ac7151d1449": {
          "model_module": "@jupyter-widgets/base",
          "model_name": "LayoutModel",
          "model_module_version": "1.2.0",
          "state": {
            "_model_module": "@jupyter-widgets/base",
            "_model_module_version": "1.2.0",
            "_model_name": "LayoutModel",
            "_view_count": null,
            "_view_module": "@jupyter-widgets/base",
            "_view_module_version": "1.2.0",
            "_view_name": "LayoutView",
            "align_content": null,
            "align_items": null,
            "align_self": null,
            "border": null,
            "bottom": null,
            "display": null,
            "flex": null,
            "flex_flow": null,
            "grid_area": null,
            "grid_auto_columns": null,
            "grid_auto_flow": null,
            "grid_auto_rows": null,
            "grid_column": null,
            "grid_gap": null,
            "grid_row": null,
            "grid_template_areas": null,
            "grid_template_columns": null,
            "grid_template_rows": null,
            "height": null,
            "justify_content": null,
            "justify_items": null,
            "left": null,
            "margin": null,
            "max_height": null,
            "max_width": null,
            "min_height": null,
            "min_width": null,
            "object_fit": null,
            "object_position": null,
            "order": null,
            "overflow": null,
            "overflow_x": null,
            "overflow_y": null,
            "padding": null,
            "right": null,
            "top": null,
            "visibility": null,
            "width": null
          }
        },
        "3f808960721747878ffa8f4796041f66": {
          "model_module": "@jupyter-widgets/controls",
          "model_name": "DescriptionStyleModel",
          "model_module_version": "1.5.0",
          "state": {
            "_model_module": "@jupyter-widgets/controls",
            "_model_module_version": "1.5.0",
            "_model_name": "DescriptionStyleModel",
            "_view_count": null,
            "_view_module": "@jupyter-widgets/base",
            "_view_module_version": "1.2.0",
            "_view_name": "StyleView",
            "description_width": ""
          }
        },
        "e260b05ec64846539b53fe282ffd2df1": {
          "model_module": "@jupyter-widgets/controls",
          "model_name": "HBoxModel",
          "model_module_version": "1.5.0",
          "state": {
            "_dom_classes": [],
            "_model_module": "@jupyter-widgets/controls",
            "_model_module_version": "1.5.0",
            "_model_name": "HBoxModel",
            "_view_count": null,
            "_view_module": "@jupyter-widgets/controls",
            "_view_module_version": "1.5.0",
            "_view_name": "HBoxView",
            "box_style": "",
            "children": [
              "IPY_MODEL_b5797120963348a7b6cc0cadbde3465c",
              "IPY_MODEL_b15dd91e5d424fd799942d90d462b192",
              "IPY_MODEL_052dd1d82e3f414caca8ff252b94e4e1"
            ],
            "layout": "IPY_MODEL_f905f2b031774ded8dbe6d9fb7df3aaa"
          }
        },
        "b5797120963348a7b6cc0cadbde3465c": {
          "model_module": "@jupyter-widgets/controls",
          "model_name": "HTMLModel",
          "model_module_version": "1.5.0",
          "state": {
            "_dom_classes": [],
            "_model_module": "@jupyter-widgets/controls",
            "_model_module_version": "1.5.0",
            "_model_name": "HTMLModel",
            "_view_count": null,
            "_view_module": "@jupyter-widgets/controls",
            "_view_module_version": "1.5.0",
            "_view_name": "HTMLView",
            "description": "",
            "description_tooltip": null,
            "layout": "IPY_MODEL_d77e4c1349174a7786074c5a798ab079",
            "placeholder": "​",
            "style": "IPY_MODEL_970bbcd45d91483aa37e359014cde53b",
            "value": "Epoch 12: 100%"
          }
        },
        "b15dd91e5d424fd799942d90d462b192": {
          "model_module": "@jupyter-widgets/controls",
          "model_name": "FloatProgressModel",
          "model_module_version": "1.5.0",
          "state": {
            "_dom_classes": [],
            "_model_module": "@jupyter-widgets/controls",
            "_model_module_version": "1.5.0",
            "_model_name": "FloatProgressModel",
            "_view_count": null,
            "_view_module": "@jupyter-widgets/controls",
            "_view_module_version": "1.5.0",
            "_view_name": "ProgressView",
            "bar_style": "success",
            "description": "",
            "description_tooltip": null,
            "layout": "IPY_MODEL_040676ac8db04560960efe31f3b0215d",
            "max": 902,
            "min": 0,
            "orientation": "horizontal",
            "style": "IPY_MODEL_66fa0c79681740af91c0a63479da3187",
            "value": 902
          }
        },
        "052dd1d82e3f414caca8ff252b94e4e1": {
          "model_module": "@jupyter-widgets/controls",
          "model_name": "HTMLModel",
          "model_module_version": "1.5.0",
          "state": {
            "_dom_classes": [],
            "_model_module": "@jupyter-widgets/controls",
            "_model_module_version": "1.5.0",
            "_model_name": "HTMLModel",
            "_view_count": null,
            "_view_module": "@jupyter-widgets/controls",
            "_view_module_version": "1.5.0",
            "_view_name": "HTMLView",
            "description": "",
            "description_tooltip": null,
            "layout": "IPY_MODEL_4f284dc691e24589a01d128762a5b60a",
            "placeholder": "​",
            "style": "IPY_MODEL_43a36050f8544bc398cfe7ad591e3f11",
            "value": " 902/902 [00:41&lt;00:00, 21.65it/s, Loss 0.4447]"
          }
        },
        "f905f2b031774ded8dbe6d9fb7df3aaa": {
          "model_module": "@jupyter-widgets/base",
          "model_name": "LayoutModel",
          "model_module_version": "1.2.0",
          "state": {
            "_model_module": "@jupyter-widgets/base",
            "_model_module_version": "1.2.0",
            "_model_name": "LayoutModel",
            "_view_count": null,
            "_view_module": "@jupyter-widgets/base",
            "_view_module_version": "1.2.0",
            "_view_name": "LayoutView",
            "align_content": null,
            "align_items": null,
            "align_self": null,
            "border": null,
            "bottom": null,
            "display": null,
            "flex": null,
            "flex_flow": null,
            "grid_area": null,
            "grid_auto_columns": null,
            "grid_auto_flow": null,
            "grid_auto_rows": null,
            "grid_column": null,
            "grid_gap": null,
            "grid_row": null,
            "grid_template_areas": null,
            "grid_template_columns": null,
            "grid_template_rows": null,
            "height": null,
            "justify_content": null,
            "justify_items": null,
            "left": null,
            "margin": null,
            "max_height": null,
            "max_width": null,
            "min_height": null,
            "min_width": null,
            "object_fit": null,
            "object_position": null,
            "order": null,
            "overflow": null,
            "overflow_x": null,
            "overflow_y": null,
            "padding": null,
            "right": null,
            "top": null,
            "visibility": null,
            "width": null
          }
        },
        "d77e4c1349174a7786074c5a798ab079": {
          "model_module": "@jupyter-widgets/base",
          "model_name": "LayoutModel",
          "model_module_version": "1.2.0",
          "state": {
            "_model_module": "@jupyter-widgets/base",
            "_model_module_version": "1.2.0",
            "_model_name": "LayoutModel",
            "_view_count": null,
            "_view_module": "@jupyter-widgets/base",
            "_view_module_version": "1.2.0",
            "_view_name": "LayoutView",
            "align_content": null,
            "align_items": null,
            "align_self": null,
            "border": null,
            "bottom": null,
            "display": null,
            "flex": null,
            "flex_flow": null,
            "grid_area": null,
            "grid_auto_columns": null,
            "grid_auto_flow": null,
            "grid_auto_rows": null,
            "grid_column": null,
            "grid_gap": null,
            "grid_row": null,
            "grid_template_areas": null,
            "grid_template_columns": null,
            "grid_template_rows": null,
            "height": null,
            "justify_content": null,
            "justify_items": null,
            "left": null,
            "margin": null,
            "max_height": null,
            "max_width": null,
            "min_height": null,
            "min_width": null,
            "object_fit": null,
            "object_position": null,
            "order": null,
            "overflow": null,
            "overflow_x": null,
            "overflow_y": null,
            "padding": null,
            "right": null,
            "top": null,
            "visibility": null,
            "width": null
          }
        },
        "970bbcd45d91483aa37e359014cde53b": {
          "model_module": "@jupyter-widgets/controls",
          "model_name": "DescriptionStyleModel",
          "model_module_version": "1.5.0",
          "state": {
            "_model_module": "@jupyter-widgets/controls",
            "_model_module_version": "1.5.0",
            "_model_name": "DescriptionStyleModel",
            "_view_count": null,
            "_view_module": "@jupyter-widgets/base",
            "_view_module_version": "1.2.0",
            "_view_name": "StyleView",
            "description_width": ""
          }
        },
        "040676ac8db04560960efe31f3b0215d": {
          "model_module": "@jupyter-widgets/base",
          "model_name": "LayoutModel",
          "model_module_version": "1.2.0",
          "state": {
            "_model_module": "@jupyter-widgets/base",
            "_model_module_version": "1.2.0",
            "_model_name": "LayoutModel",
            "_view_count": null,
            "_view_module": "@jupyter-widgets/base",
            "_view_module_version": "1.2.0",
            "_view_name": "LayoutView",
            "align_content": null,
            "align_items": null,
            "align_self": null,
            "border": null,
            "bottom": null,
            "display": null,
            "flex": null,
            "flex_flow": null,
            "grid_area": null,
            "grid_auto_columns": null,
            "grid_auto_flow": null,
            "grid_auto_rows": null,
            "grid_column": null,
            "grid_gap": null,
            "grid_row": null,
            "grid_template_areas": null,
            "grid_template_columns": null,
            "grid_template_rows": null,
            "height": null,
            "justify_content": null,
            "justify_items": null,
            "left": null,
            "margin": null,
            "max_height": null,
            "max_width": null,
            "min_height": null,
            "min_width": null,
            "object_fit": null,
            "object_position": null,
            "order": null,
            "overflow": null,
            "overflow_x": null,
            "overflow_y": null,
            "padding": null,
            "right": null,
            "top": null,
            "visibility": null,
            "width": null
          }
        },
        "66fa0c79681740af91c0a63479da3187": {
          "model_module": "@jupyter-widgets/controls",
          "model_name": "ProgressStyleModel",
          "model_module_version": "1.5.0",
          "state": {
            "_model_module": "@jupyter-widgets/controls",
            "_model_module_version": "1.5.0",
            "_model_name": "ProgressStyleModel",
            "_view_count": null,
            "_view_module": "@jupyter-widgets/base",
            "_view_module_version": "1.2.0",
            "_view_name": "StyleView",
            "bar_color": null,
            "description_width": ""
          }
        },
        "4f284dc691e24589a01d128762a5b60a": {
          "model_module": "@jupyter-widgets/base",
          "model_name": "LayoutModel",
          "model_module_version": "1.2.0",
          "state": {
            "_model_module": "@jupyter-widgets/base",
            "_model_module_version": "1.2.0",
            "_model_name": "LayoutModel",
            "_view_count": null,
            "_view_module": "@jupyter-widgets/base",
            "_view_module_version": "1.2.0",
            "_view_name": "LayoutView",
            "align_content": null,
            "align_items": null,
            "align_self": null,
            "border": null,
            "bottom": null,
            "display": null,
            "flex": null,
            "flex_flow": null,
            "grid_area": null,
            "grid_auto_columns": null,
            "grid_auto_flow": null,
            "grid_auto_rows": null,
            "grid_column": null,
            "grid_gap": null,
            "grid_row": null,
            "grid_template_areas": null,
            "grid_template_columns": null,
            "grid_template_rows": null,
            "height": null,
            "justify_content": null,
            "justify_items": null,
            "left": null,
            "margin": null,
            "max_height": null,
            "max_width": null,
            "min_height": null,
            "min_width": null,
            "object_fit": null,
            "object_position": null,
            "order": null,
            "overflow": null,
            "overflow_x": null,
            "overflow_y": null,
            "padding": null,
            "right": null,
            "top": null,
            "visibility": null,
            "width": null
          }
        },
        "43a36050f8544bc398cfe7ad591e3f11": {
          "model_module": "@jupyter-widgets/controls",
          "model_name": "DescriptionStyleModel",
          "model_module_version": "1.5.0",
          "state": {
            "_model_module": "@jupyter-widgets/controls",
            "_model_module_version": "1.5.0",
            "_model_name": "DescriptionStyleModel",
            "_view_count": null,
            "_view_module": "@jupyter-widgets/base",
            "_view_module_version": "1.2.0",
            "_view_name": "StyleView",
            "description_width": ""
          }
        },
        "6e8279df6dd043d385b5e6a5be111555": {
          "model_module": "@jupyter-widgets/controls",
          "model_name": "HBoxModel",
          "model_module_version": "1.5.0",
          "state": {
            "_dom_classes": [],
            "_model_module": "@jupyter-widgets/controls",
            "_model_module_version": "1.5.0",
            "_model_name": "HBoxModel",
            "_view_count": null,
            "_view_module": "@jupyter-widgets/controls",
            "_view_module_version": "1.5.0",
            "_view_name": "HBoxView",
            "box_style": "",
            "children": [
              "IPY_MODEL_f7f17a09b0094999a68dd509948d731b",
              "IPY_MODEL_8f73d41dbea64d03be34d62ba0068226",
              "IPY_MODEL_fd555126760a488c906e5dbe8563046c"
            ],
            "layout": "IPY_MODEL_2806a324bfbd4b149593395940b4acff"
          }
        },
        "f7f17a09b0094999a68dd509948d731b": {
          "model_module": "@jupyter-widgets/controls",
          "model_name": "HTMLModel",
          "model_module_version": "1.5.0",
          "state": {
            "_dom_classes": [],
            "_model_module": "@jupyter-widgets/controls",
            "_model_module_version": "1.5.0",
            "_model_name": "HTMLModel",
            "_view_count": null,
            "_view_module": "@jupyter-widgets/controls",
            "_view_module_version": "1.5.0",
            "_view_name": "HTMLView",
            "description": "",
            "description_tooltip": null,
            "layout": "IPY_MODEL_5ad6edf2c3864cc6aa331e6c7aca4a10",
            "placeholder": "​",
            "style": "IPY_MODEL_696bdef76da946398ce8891ad8d4d432",
            "value": "Epoch 13: 100%"
          }
        },
        "8f73d41dbea64d03be34d62ba0068226": {
          "model_module": "@jupyter-widgets/controls",
          "model_name": "FloatProgressModel",
          "model_module_version": "1.5.0",
          "state": {
            "_dom_classes": [],
            "_model_module": "@jupyter-widgets/controls",
            "_model_module_version": "1.5.0",
            "_model_name": "FloatProgressModel",
            "_view_count": null,
            "_view_module": "@jupyter-widgets/controls",
            "_view_module_version": "1.5.0",
            "_view_name": "ProgressView",
            "bar_style": "success",
            "description": "",
            "description_tooltip": null,
            "layout": "IPY_MODEL_5d0fe4afa2844b1a9a15558d985abb28",
            "max": 902,
            "min": 0,
            "orientation": "horizontal",
            "style": "IPY_MODEL_a4a7d0f8578942089e8eb324cf427248",
            "value": 902
          }
        },
        "fd555126760a488c906e5dbe8563046c": {
          "model_module": "@jupyter-widgets/controls",
          "model_name": "HTMLModel",
          "model_module_version": "1.5.0",
          "state": {
            "_dom_classes": [],
            "_model_module": "@jupyter-widgets/controls",
            "_model_module_version": "1.5.0",
            "_model_name": "HTMLModel",
            "_view_count": null,
            "_view_module": "@jupyter-widgets/controls",
            "_view_module_version": "1.5.0",
            "_view_name": "HTMLView",
            "description": "",
            "description_tooltip": null,
            "layout": "IPY_MODEL_d9271d2f1c6244d49071416766d20787",
            "placeholder": "​",
            "style": "IPY_MODEL_93aef95818db4f5bb0bf9274f237d5f7",
            "value": " 902/902 [00:41&lt;00:00, 21.62it/s, Loss 0.3679]"
          }
        },
        "2806a324bfbd4b149593395940b4acff": {
          "model_module": "@jupyter-widgets/base",
          "model_name": "LayoutModel",
          "model_module_version": "1.2.0",
          "state": {
            "_model_module": "@jupyter-widgets/base",
            "_model_module_version": "1.2.0",
            "_model_name": "LayoutModel",
            "_view_count": null,
            "_view_module": "@jupyter-widgets/base",
            "_view_module_version": "1.2.0",
            "_view_name": "LayoutView",
            "align_content": null,
            "align_items": null,
            "align_self": null,
            "border": null,
            "bottom": null,
            "display": null,
            "flex": null,
            "flex_flow": null,
            "grid_area": null,
            "grid_auto_columns": null,
            "grid_auto_flow": null,
            "grid_auto_rows": null,
            "grid_column": null,
            "grid_gap": null,
            "grid_row": null,
            "grid_template_areas": null,
            "grid_template_columns": null,
            "grid_template_rows": null,
            "height": null,
            "justify_content": null,
            "justify_items": null,
            "left": null,
            "margin": null,
            "max_height": null,
            "max_width": null,
            "min_height": null,
            "min_width": null,
            "object_fit": null,
            "object_position": null,
            "order": null,
            "overflow": null,
            "overflow_x": null,
            "overflow_y": null,
            "padding": null,
            "right": null,
            "top": null,
            "visibility": null,
            "width": null
          }
        },
        "5ad6edf2c3864cc6aa331e6c7aca4a10": {
          "model_module": "@jupyter-widgets/base",
          "model_name": "LayoutModel",
          "model_module_version": "1.2.0",
          "state": {
            "_model_module": "@jupyter-widgets/base",
            "_model_module_version": "1.2.0",
            "_model_name": "LayoutModel",
            "_view_count": null,
            "_view_module": "@jupyter-widgets/base",
            "_view_module_version": "1.2.0",
            "_view_name": "LayoutView",
            "align_content": null,
            "align_items": null,
            "align_self": null,
            "border": null,
            "bottom": null,
            "display": null,
            "flex": null,
            "flex_flow": null,
            "grid_area": null,
            "grid_auto_columns": null,
            "grid_auto_flow": null,
            "grid_auto_rows": null,
            "grid_column": null,
            "grid_gap": null,
            "grid_row": null,
            "grid_template_areas": null,
            "grid_template_columns": null,
            "grid_template_rows": null,
            "height": null,
            "justify_content": null,
            "justify_items": null,
            "left": null,
            "margin": null,
            "max_height": null,
            "max_width": null,
            "min_height": null,
            "min_width": null,
            "object_fit": null,
            "object_position": null,
            "order": null,
            "overflow": null,
            "overflow_x": null,
            "overflow_y": null,
            "padding": null,
            "right": null,
            "top": null,
            "visibility": null,
            "width": null
          }
        },
        "696bdef76da946398ce8891ad8d4d432": {
          "model_module": "@jupyter-widgets/controls",
          "model_name": "DescriptionStyleModel",
          "model_module_version": "1.5.0",
          "state": {
            "_model_module": "@jupyter-widgets/controls",
            "_model_module_version": "1.5.0",
            "_model_name": "DescriptionStyleModel",
            "_view_count": null,
            "_view_module": "@jupyter-widgets/base",
            "_view_module_version": "1.2.0",
            "_view_name": "StyleView",
            "description_width": ""
          }
        },
        "5d0fe4afa2844b1a9a15558d985abb28": {
          "model_module": "@jupyter-widgets/base",
          "model_name": "LayoutModel",
          "model_module_version": "1.2.0",
          "state": {
            "_model_module": "@jupyter-widgets/base",
            "_model_module_version": "1.2.0",
            "_model_name": "LayoutModel",
            "_view_count": null,
            "_view_module": "@jupyter-widgets/base",
            "_view_module_version": "1.2.0",
            "_view_name": "LayoutView",
            "align_content": null,
            "align_items": null,
            "align_self": null,
            "border": null,
            "bottom": null,
            "display": null,
            "flex": null,
            "flex_flow": null,
            "grid_area": null,
            "grid_auto_columns": null,
            "grid_auto_flow": null,
            "grid_auto_rows": null,
            "grid_column": null,
            "grid_gap": null,
            "grid_row": null,
            "grid_template_areas": null,
            "grid_template_columns": null,
            "grid_template_rows": null,
            "height": null,
            "justify_content": null,
            "justify_items": null,
            "left": null,
            "margin": null,
            "max_height": null,
            "max_width": null,
            "min_height": null,
            "min_width": null,
            "object_fit": null,
            "object_position": null,
            "order": null,
            "overflow": null,
            "overflow_x": null,
            "overflow_y": null,
            "padding": null,
            "right": null,
            "top": null,
            "visibility": null,
            "width": null
          }
        },
        "a4a7d0f8578942089e8eb324cf427248": {
          "model_module": "@jupyter-widgets/controls",
          "model_name": "ProgressStyleModel",
          "model_module_version": "1.5.0",
          "state": {
            "_model_module": "@jupyter-widgets/controls",
            "_model_module_version": "1.5.0",
            "_model_name": "ProgressStyleModel",
            "_view_count": null,
            "_view_module": "@jupyter-widgets/base",
            "_view_module_version": "1.2.0",
            "_view_name": "StyleView",
            "bar_color": null,
            "description_width": ""
          }
        },
        "d9271d2f1c6244d49071416766d20787": {
          "model_module": "@jupyter-widgets/base",
          "model_name": "LayoutModel",
          "model_module_version": "1.2.0",
          "state": {
            "_model_module": "@jupyter-widgets/base",
            "_model_module_version": "1.2.0",
            "_model_name": "LayoutModel",
            "_view_count": null,
            "_view_module": "@jupyter-widgets/base",
            "_view_module_version": "1.2.0",
            "_view_name": "LayoutView",
            "align_content": null,
            "align_items": null,
            "align_self": null,
            "border": null,
            "bottom": null,
            "display": null,
            "flex": null,
            "flex_flow": null,
            "grid_area": null,
            "grid_auto_columns": null,
            "grid_auto_flow": null,
            "grid_auto_rows": null,
            "grid_column": null,
            "grid_gap": null,
            "grid_row": null,
            "grid_template_areas": null,
            "grid_template_columns": null,
            "grid_template_rows": null,
            "height": null,
            "justify_content": null,
            "justify_items": null,
            "left": null,
            "margin": null,
            "max_height": null,
            "max_width": null,
            "min_height": null,
            "min_width": null,
            "object_fit": null,
            "object_position": null,
            "order": null,
            "overflow": null,
            "overflow_x": null,
            "overflow_y": null,
            "padding": null,
            "right": null,
            "top": null,
            "visibility": null,
            "width": null
          }
        },
        "93aef95818db4f5bb0bf9274f237d5f7": {
          "model_module": "@jupyter-widgets/controls",
          "model_name": "DescriptionStyleModel",
          "model_module_version": "1.5.0",
          "state": {
            "_model_module": "@jupyter-widgets/controls",
            "_model_module_version": "1.5.0",
            "_model_name": "DescriptionStyleModel",
            "_view_count": null,
            "_view_module": "@jupyter-widgets/base",
            "_view_module_version": "1.2.0",
            "_view_name": "StyleView",
            "description_width": ""
          }
        },
        "153c577077dc4bd2bcb59c1bd3447ad5": {
          "model_module": "@jupyter-widgets/controls",
          "model_name": "HBoxModel",
          "model_module_version": "1.5.0",
          "state": {
            "_dom_classes": [],
            "_model_module": "@jupyter-widgets/controls",
            "_model_module_version": "1.5.0",
            "_model_name": "HBoxModel",
            "_view_count": null,
            "_view_module": "@jupyter-widgets/controls",
            "_view_module_version": "1.5.0",
            "_view_name": "HBoxView",
            "box_style": "",
            "children": [
              "IPY_MODEL_3eb01cec28294318af2f764401a2c5d3",
              "IPY_MODEL_6bc4dde0fef7461cad77956e385baeab",
              "IPY_MODEL_a47defc8e0f04d69b3c08a486d6a6ecf"
            ],
            "layout": "IPY_MODEL_d22cfc5635a3442f8a66c3d02010b538"
          }
        },
        "3eb01cec28294318af2f764401a2c5d3": {
          "model_module": "@jupyter-widgets/controls",
          "model_name": "HTMLModel",
          "model_module_version": "1.5.0",
          "state": {
            "_dom_classes": [],
            "_model_module": "@jupyter-widgets/controls",
            "_model_module_version": "1.5.0",
            "_model_name": "HTMLModel",
            "_view_count": null,
            "_view_module": "@jupyter-widgets/controls",
            "_view_module_version": "1.5.0",
            "_view_name": "HTMLView",
            "description": "",
            "description_tooltip": null,
            "layout": "IPY_MODEL_82ce558c792b4767b5020fa8237e49cd",
            "placeholder": "​",
            "style": "IPY_MODEL_a94a66bd84cd4044be41d2074d15d906",
            "value": "Epoch 14: 100%"
          }
        },
        "6bc4dde0fef7461cad77956e385baeab": {
          "model_module": "@jupyter-widgets/controls",
          "model_name": "FloatProgressModel",
          "model_module_version": "1.5.0",
          "state": {
            "_dom_classes": [],
            "_model_module": "@jupyter-widgets/controls",
            "_model_module_version": "1.5.0",
            "_model_name": "FloatProgressModel",
            "_view_count": null,
            "_view_module": "@jupyter-widgets/controls",
            "_view_module_version": "1.5.0",
            "_view_name": "ProgressView",
            "bar_style": "success",
            "description": "",
            "description_tooltip": null,
            "layout": "IPY_MODEL_79f986193f7e48bfaeccab06f4b04e32",
            "max": 902,
            "min": 0,
            "orientation": "horizontal",
            "style": "IPY_MODEL_26e57c31fc984ded90f4617fcd309972",
            "value": 902
          }
        },
        "a47defc8e0f04d69b3c08a486d6a6ecf": {
          "model_module": "@jupyter-widgets/controls",
          "model_name": "HTMLModel",
          "model_module_version": "1.5.0",
          "state": {
            "_dom_classes": [],
            "_model_module": "@jupyter-widgets/controls",
            "_model_module_version": "1.5.0",
            "_model_name": "HTMLModel",
            "_view_count": null,
            "_view_module": "@jupyter-widgets/controls",
            "_view_module_version": "1.5.0",
            "_view_name": "HTMLView",
            "description": "",
            "description_tooltip": null,
            "layout": "IPY_MODEL_bb89b4a1c4874065aab476ba4b9ff4be",
            "placeholder": "​",
            "style": "IPY_MODEL_075cc7de8ec44055af3320f9f24513aa",
            "value": " 902/902 [00:41&lt;00:00, 21.81it/s, Loss 0.3135]"
          }
        },
        "d22cfc5635a3442f8a66c3d02010b538": {
          "model_module": "@jupyter-widgets/base",
          "model_name": "LayoutModel",
          "model_module_version": "1.2.0",
          "state": {
            "_model_module": "@jupyter-widgets/base",
            "_model_module_version": "1.2.0",
            "_model_name": "LayoutModel",
            "_view_count": null,
            "_view_module": "@jupyter-widgets/base",
            "_view_module_version": "1.2.0",
            "_view_name": "LayoutView",
            "align_content": null,
            "align_items": null,
            "align_self": null,
            "border": null,
            "bottom": null,
            "display": null,
            "flex": null,
            "flex_flow": null,
            "grid_area": null,
            "grid_auto_columns": null,
            "grid_auto_flow": null,
            "grid_auto_rows": null,
            "grid_column": null,
            "grid_gap": null,
            "grid_row": null,
            "grid_template_areas": null,
            "grid_template_columns": null,
            "grid_template_rows": null,
            "height": null,
            "justify_content": null,
            "justify_items": null,
            "left": null,
            "margin": null,
            "max_height": null,
            "max_width": null,
            "min_height": null,
            "min_width": null,
            "object_fit": null,
            "object_position": null,
            "order": null,
            "overflow": null,
            "overflow_x": null,
            "overflow_y": null,
            "padding": null,
            "right": null,
            "top": null,
            "visibility": null,
            "width": null
          }
        },
        "82ce558c792b4767b5020fa8237e49cd": {
          "model_module": "@jupyter-widgets/base",
          "model_name": "LayoutModel",
          "model_module_version": "1.2.0",
          "state": {
            "_model_module": "@jupyter-widgets/base",
            "_model_module_version": "1.2.0",
            "_model_name": "LayoutModel",
            "_view_count": null,
            "_view_module": "@jupyter-widgets/base",
            "_view_module_version": "1.2.0",
            "_view_name": "LayoutView",
            "align_content": null,
            "align_items": null,
            "align_self": null,
            "border": null,
            "bottom": null,
            "display": null,
            "flex": null,
            "flex_flow": null,
            "grid_area": null,
            "grid_auto_columns": null,
            "grid_auto_flow": null,
            "grid_auto_rows": null,
            "grid_column": null,
            "grid_gap": null,
            "grid_row": null,
            "grid_template_areas": null,
            "grid_template_columns": null,
            "grid_template_rows": null,
            "height": null,
            "justify_content": null,
            "justify_items": null,
            "left": null,
            "margin": null,
            "max_height": null,
            "max_width": null,
            "min_height": null,
            "min_width": null,
            "object_fit": null,
            "object_position": null,
            "order": null,
            "overflow": null,
            "overflow_x": null,
            "overflow_y": null,
            "padding": null,
            "right": null,
            "top": null,
            "visibility": null,
            "width": null
          }
        },
        "a94a66bd84cd4044be41d2074d15d906": {
          "model_module": "@jupyter-widgets/controls",
          "model_name": "DescriptionStyleModel",
          "model_module_version": "1.5.0",
          "state": {
            "_model_module": "@jupyter-widgets/controls",
            "_model_module_version": "1.5.0",
            "_model_name": "DescriptionStyleModel",
            "_view_count": null,
            "_view_module": "@jupyter-widgets/base",
            "_view_module_version": "1.2.0",
            "_view_name": "StyleView",
            "description_width": ""
          }
        },
        "79f986193f7e48bfaeccab06f4b04e32": {
          "model_module": "@jupyter-widgets/base",
          "model_name": "LayoutModel",
          "model_module_version": "1.2.0",
          "state": {
            "_model_module": "@jupyter-widgets/base",
            "_model_module_version": "1.2.0",
            "_model_name": "LayoutModel",
            "_view_count": null,
            "_view_module": "@jupyter-widgets/base",
            "_view_module_version": "1.2.0",
            "_view_name": "LayoutView",
            "align_content": null,
            "align_items": null,
            "align_self": null,
            "border": null,
            "bottom": null,
            "display": null,
            "flex": null,
            "flex_flow": null,
            "grid_area": null,
            "grid_auto_columns": null,
            "grid_auto_flow": null,
            "grid_auto_rows": null,
            "grid_column": null,
            "grid_gap": null,
            "grid_row": null,
            "grid_template_areas": null,
            "grid_template_columns": null,
            "grid_template_rows": null,
            "height": null,
            "justify_content": null,
            "justify_items": null,
            "left": null,
            "margin": null,
            "max_height": null,
            "max_width": null,
            "min_height": null,
            "min_width": null,
            "object_fit": null,
            "object_position": null,
            "order": null,
            "overflow": null,
            "overflow_x": null,
            "overflow_y": null,
            "padding": null,
            "right": null,
            "top": null,
            "visibility": null,
            "width": null
          }
        },
        "26e57c31fc984ded90f4617fcd309972": {
          "model_module": "@jupyter-widgets/controls",
          "model_name": "ProgressStyleModel",
          "model_module_version": "1.5.0",
          "state": {
            "_model_module": "@jupyter-widgets/controls",
            "_model_module_version": "1.5.0",
            "_model_name": "ProgressStyleModel",
            "_view_count": null,
            "_view_module": "@jupyter-widgets/base",
            "_view_module_version": "1.2.0",
            "_view_name": "StyleView",
            "bar_color": null,
            "description_width": ""
          }
        },
        "bb89b4a1c4874065aab476ba4b9ff4be": {
          "model_module": "@jupyter-widgets/base",
          "model_name": "LayoutModel",
          "model_module_version": "1.2.0",
          "state": {
            "_model_module": "@jupyter-widgets/base",
            "_model_module_version": "1.2.0",
            "_model_name": "LayoutModel",
            "_view_count": null,
            "_view_module": "@jupyter-widgets/base",
            "_view_module_version": "1.2.0",
            "_view_name": "LayoutView",
            "align_content": null,
            "align_items": null,
            "align_self": null,
            "border": null,
            "bottom": null,
            "display": null,
            "flex": null,
            "flex_flow": null,
            "grid_area": null,
            "grid_auto_columns": null,
            "grid_auto_flow": null,
            "grid_auto_rows": null,
            "grid_column": null,
            "grid_gap": null,
            "grid_row": null,
            "grid_template_areas": null,
            "grid_template_columns": null,
            "grid_template_rows": null,
            "height": null,
            "justify_content": null,
            "justify_items": null,
            "left": null,
            "margin": null,
            "max_height": null,
            "max_width": null,
            "min_height": null,
            "min_width": null,
            "object_fit": null,
            "object_position": null,
            "order": null,
            "overflow": null,
            "overflow_x": null,
            "overflow_y": null,
            "padding": null,
            "right": null,
            "top": null,
            "visibility": null,
            "width": null
          }
        },
        "075cc7de8ec44055af3320f9f24513aa": {
          "model_module": "@jupyter-widgets/controls",
          "model_name": "DescriptionStyleModel",
          "model_module_version": "1.5.0",
          "state": {
            "_model_module": "@jupyter-widgets/controls",
            "_model_module_version": "1.5.0",
            "_model_name": "DescriptionStyleModel",
            "_view_count": null,
            "_view_module": "@jupyter-widgets/base",
            "_view_module_version": "1.2.0",
            "_view_name": "StyleView",
            "description_width": ""
          }
        },
        "1bf545b6e30940ffbc74e967ad56fc94": {
          "model_module": "@jupyter-widgets/controls",
          "model_name": "HBoxModel",
          "model_module_version": "1.5.0",
          "state": {
            "_dom_classes": [],
            "_model_module": "@jupyter-widgets/controls",
            "_model_module_version": "1.5.0",
            "_model_name": "HBoxModel",
            "_view_count": null,
            "_view_module": "@jupyter-widgets/controls",
            "_view_module_version": "1.5.0",
            "_view_name": "HBoxView",
            "box_style": "",
            "children": [
              "IPY_MODEL_e7edbe3f404d4ae2beb642badafd5014",
              "IPY_MODEL_a0425794af714bb9aea650afb144e55f",
              "IPY_MODEL_0f78c9a91db64e62b7c802a9de19323a"
            ],
            "layout": "IPY_MODEL_be8db71060d44840bc22f444b3151aca"
          }
        },
        "e7edbe3f404d4ae2beb642badafd5014": {
          "model_module": "@jupyter-widgets/controls",
          "model_name": "HTMLModel",
          "model_module_version": "1.5.0",
          "state": {
            "_dom_classes": [],
            "_model_module": "@jupyter-widgets/controls",
            "_model_module_version": "1.5.0",
            "_model_name": "HTMLModel",
            "_view_count": null,
            "_view_module": "@jupyter-widgets/controls",
            "_view_module_version": "1.5.0",
            "_view_name": "HTMLView",
            "description": "",
            "description_tooltip": null,
            "layout": "IPY_MODEL_339186a99f3e4e4b8d1b83a68787a95f",
            "placeholder": "​",
            "style": "IPY_MODEL_370052ffaace472d84e2393f7487a9bb",
            "value": "Epoch 15: 100%"
          }
        },
        "a0425794af714bb9aea650afb144e55f": {
          "model_module": "@jupyter-widgets/controls",
          "model_name": "FloatProgressModel",
          "model_module_version": "1.5.0",
          "state": {
            "_dom_classes": [],
            "_model_module": "@jupyter-widgets/controls",
            "_model_module_version": "1.5.0",
            "_model_name": "FloatProgressModel",
            "_view_count": null,
            "_view_module": "@jupyter-widgets/controls",
            "_view_module_version": "1.5.0",
            "_view_name": "ProgressView",
            "bar_style": "success",
            "description": "",
            "description_tooltip": null,
            "layout": "IPY_MODEL_b9032c0c0b7f4977acf2eda375aced39",
            "max": 902,
            "min": 0,
            "orientation": "horizontal",
            "style": "IPY_MODEL_fd6707d015064a9e9cc961b5d80020af",
            "value": 902
          }
        },
        "0f78c9a91db64e62b7c802a9de19323a": {
          "model_module": "@jupyter-widgets/controls",
          "model_name": "HTMLModel",
          "model_module_version": "1.5.0",
          "state": {
            "_dom_classes": [],
            "_model_module": "@jupyter-widgets/controls",
            "_model_module_version": "1.5.0",
            "_model_name": "HTMLModel",
            "_view_count": null,
            "_view_module": "@jupyter-widgets/controls",
            "_view_module_version": "1.5.0",
            "_view_name": "HTMLView",
            "description": "",
            "description_tooltip": null,
            "layout": "IPY_MODEL_5ad880b4ac484d40a91cdd50d5a12234",
            "placeholder": "​",
            "style": "IPY_MODEL_ada7f1a0053147d9a98a70a7f4088037",
            "value": " 902/902 [00:41&lt;00:00, 21.68it/s, Loss 0.2709]"
          }
        },
        "be8db71060d44840bc22f444b3151aca": {
          "model_module": "@jupyter-widgets/base",
          "model_name": "LayoutModel",
          "model_module_version": "1.2.0",
          "state": {
            "_model_module": "@jupyter-widgets/base",
            "_model_module_version": "1.2.0",
            "_model_name": "LayoutModel",
            "_view_count": null,
            "_view_module": "@jupyter-widgets/base",
            "_view_module_version": "1.2.0",
            "_view_name": "LayoutView",
            "align_content": null,
            "align_items": null,
            "align_self": null,
            "border": null,
            "bottom": null,
            "display": null,
            "flex": null,
            "flex_flow": null,
            "grid_area": null,
            "grid_auto_columns": null,
            "grid_auto_flow": null,
            "grid_auto_rows": null,
            "grid_column": null,
            "grid_gap": null,
            "grid_row": null,
            "grid_template_areas": null,
            "grid_template_columns": null,
            "grid_template_rows": null,
            "height": null,
            "justify_content": null,
            "justify_items": null,
            "left": null,
            "margin": null,
            "max_height": null,
            "max_width": null,
            "min_height": null,
            "min_width": null,
            "object_fit": null,
            "object_position": null,
            "order": null,
            "overflow": null,
            "overflow_x": null,
            "overflow_y": null,
            "padding": null,
            "right": null,
            "top": null,
            "visibility": null,
            "width": null
          }
        },
        "339186a99f3e4e4b8d1b83a68787a95f": {
          "model_module": "@jupyter-widgets/base",
          "model_name": "LayoutModel",
          "model_module_version": "1.2.0",
          "state": {
            "_model_module": "@jupyter-widgets/base",
            "_model_module_version": "1.2.0",
            "_model_name": "LayoutModel",
            "_view_count": null,
            "_view_module": "@jupyter-widgets/base",
            "_view_module_version": "1.2.0",
            "_view_name": "LayoutView",
            "align_content": null,
            "align_items": null,
            "align_self": null,
            "border": null,
            "bottom": null,
            "display": null,
            "flex": null,
            "flex_flow": null,
            "grid_area": null,
            "grid_auto_columns": null,
            "grid_auto_flow": null,
            "grid_auto_rows": null,
            "grid_column": null,
            "grid_gap": null,
            "grid_row": null,
            "grid_template_areas": null,
            "grid_template_columns": null,
            "grid_template_rows": null,
            "height": null,
            "justify_content": null,
            "justify_items": null,
            "left": null,
            "margin": null,
            "max_height": null,
            "max_width": null,
            "min_height": null,
            "min_width": null,
            "object_fit": null,
            "object_position": null,
            "order": null,
            "overflow": null,
            "overflow_x": null,
            "overflow_y": null,
            "padding": null,
            "right": null,
            "top": null,
            "visibility": null,
            "width": null
          }
        },
        "370052ffaace472d84e2393f7487a9bb": {
          "model_module": "@jupyter-widgets/controls",
          "model_name": "DescriptionStyleModel",
          "model_module_version": "1.5.0",
          "state": {
            "_model_module": "@jupyter-widgets/controls",
            "_model_module_version": "1.5.0",
            "_model_name": "DescriptionStyleModel",
            "_view_count": null,
            "_view_module": "@jupyter-widgets/base",
            "_view_module_version": "1.2.0",
            "_view_name": "StyleView",
            "description_width": ""
          }
        },
        "b9032c0c0b7f4977acf2eda375aced39": {
          "model_module": "@jupyter-widgets/base",
          "model_name": "LayoutModel",
          "model_module_version": "1.2.0",
          "state": {
            "_model_module": "@jupyter-widgets/base",
            "_model_module_version": "1.2.0",
            "_model_name": "LayoutModel",
            "_view_count": null,
            "_view_module": "@jupyter-widgets/base",
            "_view_module_version": "1.2.0",
            "_view_name": "LayoutView",
            "align_content": null,
            "align_items": null,
            "align_self": null,
            "border": null,
            "bottom": null,
            "display": null,
            "flex": null,
            "flex_flow": null,
            "grid_area": null,
            "grid_auto_columns": null,
            "grid_auto_flow": null,
            "grid_auto_rows": null,
            "grid_column": null,
            "grid_gap": null,
            "grid_row": null,
            "grid_template_areas": null,
            "grid_template_columns": null,
            "grid_template_rows": null,
            "height": null,
            "justify_content": null,
            "justify_items": null,
            "left": null,
            "margin": null,
            "max_height": null,
            "max_width": null,
            "min_height": null,
            "min_width": null,
            "object_fit": null,
            "object_position": null,
            "order": null,
            "overflow": null,
            "overflow_x": null,
            "overflow_y": null,
            "padding": null,
            "right": null,
            "top": null,
            "visibility": null,
            "width": null
          }
        },
        "fd6707d015064a9e9cc961b5d80020af": {
          "model_module": "@jupyter-widgets/controls",
          "model_name": "ProgressStyleModel",
          "model_module_version": "1.5.0",
          "state": {
            "_model_module": "@jupyter-widgets/controls",
            "_model_module_version": "1.5.0",
            "_model_name": "ProgressStyleModel",
            "_view_count": null,
            "_view_module": "@jupyter-widgets/base",
            "_view_module_version": "1.2.0",
            "_view_name": "StyleView",
            "bar_color": null,
            "description_width": ""
          }
        },
        "5ad880b4ac484d40a91cdd50d5a12234": {
          "model_module": "@jupyter-widgets/base",
          "model_name": "LayoutModel",
          "model_module_version": "1.2.0",
          "state": {
            "_model_module": "@jupyter-widgets/base",
            "_model_module_version": "1.2.0",
            "_model_name": "LayoutModel",
            "_view_count": null,
            "_view_module": "@jupyter-widgets/base",
            "_view_module_version": "1.2.0",
            "_view_name": "LayoutView",
            "align_content": null,
            "align_items": null,
            "align_self": null,
            "border": null,
            "bottom": null,
            "display": null,
            "flex": null,
            "flex_flow": null,
            "grid_area": null,
            "grid_auto_columns": null,
            "grid_auto_flow": null,
            "grid_auto_rows": null,
            "grid_column": null,
            "grid_gap": null,
            "grid_row": null,
            "grid_template_areas": null,
            "grid_template_columns": null,
            "grid_template_rows": null,
            "height": null,
            "justify_content": null,
            "justify_items": null,
            "left": null,
            "margin": null,
            "max_height": null,
            "max_width": null,
            "min_height": null,
            "min_width": null,
            "object_fit": null,
            "object_position": null,
            "order": null,
            "overflow": null,
            "overflow_x": null,
            "overflow_y": null,
            "padding": null,
            "right": null,
            "top": null,
            "visibility": null,
            "width": null
          }
        },
        "ada7f1a0053147d9a98a70a7f4088037": {
          "model_module": "@jupyter-widgets/controls",
          "model_name": "DescriptionStyleModel",
          "model_module_version": "1.5.0",
          "state": {
            "_model_module": "@jupyter-widgets/controls",
            "_model_module_version": "1.5.0",
            "_model_name": "DescriptionStyleModel",
            "_view_count": null,
            "_view_module": "@jupyter-widgets/base",
            "_view_module_version": "1.2.0",
            "_view_name": "StyleView",
            "description_width": ""
          }
        },
        "5dbe1a083dfd403d9e636a370ff56f9f": {
          "model_module": "@jupyter-widgets/controls",
          "model_name": "HBoxModel",
          "model_module_version": "1.5.0",
          "state": {
            "_dom_classes": [],
            "_model_module": "@jupyter-widgets/controls",
            "_model_module_version": "1.5.0",
            "_model_name": "HBoxModel",
            "_view_count": null,
            "_view_module": "@jupyter-widgets/controls",
            "_view_module_version": "1.5.0",
            "_view_name": "HBoxView",
            "box_style": "",
            "children": [
              "IPY_MODEL_0f68c62d2bb646e7b9ef8d6e4f30924d",
              "IPY_MODEL_dcde53144e8a4ff4ade1471dc6763088",
              "IPY_MODEL_72ac7019be9e490a91fc683f89effabe"
            ],
            "layout": "IPY_MODEL_f46569b070504734a31208873415d4fa"
          }
        },
        "0f68c62d2bb646e7b9ef8d6e4f30924d": {
          "model_module": "@jupyter-widgets/controls",
          "model_name": "HTMLModel",
          "model_module_version": "1.5.0",
          "state": {
            "_dom_classes": [],
            "_model_module": "@jupyter-widgets/controls",
            "_model_module_version": "1.5.0",
            "_model_name": "HTMLModel",
            "_view_count": null,
            "_view_module": "@jupyter-widgets/controls",
            "_view_module_version": "1.5.0",
            "_view_name": "HTMLView",
            "description": "",
            "description_tooltip": null,
            "layout": "IPY_MODEL_f5c14fd8ad634f18bb9628c665ad27bc",
            "placeholder": "​",
            "style": "IPY_MODEL_c9a97504796a4ede9ae9b984a4e86e36",
            "value": "Epoch 16: 100%"
          }
        },
        "dcde53144e8a4ff4ade1471dc6763088": {
          "model_module": "@jupyter-widgets/controls",
          "model_name": "FloatProgressModel",
          "model_module_version": "1.5.0",
          "state": {
            "_dom_classes": [],
            "_model_module": "@jupyter-widgets/controls",
            "_model_module_version": "1.5.0",
            "_model_name": "FloatProgressModel",
            "_view_count": null,
            "_view_module": "@jupyter-widgets/controls",
            "_view_module_version": "1.5.0",
            "_view_name": "ProgressView",
            "bar_style": "success",
            "description": "",
            "description_tooltip": null,
            "layout": "IPY_MODEL_f9d47f056c9945658930bdfb0bb9f241",
            "max": 902,
            "min": 0,
            "orientation": "horizontal",
            "style": "IPY_MODEL_0e0daaf74b344b2fb1d85ac01771fc01",
            "value": 902
          }
        },
        "72ac7019be9e490a91fc683f89effabe": {
          "model_module": "@jupyter-widgets/controls",
          "model_name": "HTMLModel",
          "model_module_version": "1.5.0",
          "state": {
            "_dom_classes": [],
            "_model_module": "@jupyter-widgets/controls",
            "_model_module_version": "1.5.0",
            "_model_name": "HTMLModel",
            "_view_count": null,
            "_view_module": "@jupyter-widgets/controls",
            "_view_module_version": "1.5.0",
            "_view_name": "HTMLView",
            "description": "",
            "description_tooltip": null,
            "layout": "IPY_MODEL_23c7fd6468c4475b89cd843253a99750",
            "placeholder": "​",
            "style": "IPY_MODEL_df25a68177f4407eba95f82229aeb019",
            "value": " 902/902 [00:41&lt;00:00, 21.72it/s, Loss 0.2353]"
          }
        },
        "f46569b070504734a31208873415d4fa": {
          "model_module": "@jupyter-widgets/base",
          "model_name": "LayoutModel",
          "model_module_version": "1.2.0",
          "state": {
            "_model_module": "@jupyter-widgets/base",
            "_model_module_version": "1.2.0",
            "_model_name": "LayoutModel",
            "_view_count": null,
            "_view_module": "@jupyter-widgets/base",
            "_view_module_version": "1.2.0",
            "_view_name": "LayoutView",
            "align_content": null,
            "align_items": null,
            "align_self": null,
            "border": null,
            "bottom": null,
            "display": null,
            "flex": null,
            "flex_flow": null,
            "grid_area": null,
            "grid_auto_columns": null,
            "grid_auto_flow": null,
            "grid_auto_rows": null,
            "grid_column": null,
            "grid_gap": null,
            "grid_row": null,
            "grid_template_areas": null,
            "grid_template_columns": null,
            "grid_template_rows": null,
            "height": null,
            "justify_content": null,
            "justify_items": null,
            "left": null,
            "margin": null,
            "max_height": null,
            "max_width": null,
            "min_height": null,
            "min_width": null,
            "object_fit": null,
            "object_position": null,
            "order": null,
            "overflow": null,
            "overflow_x": null,
            "overflow_y": null,
            "padding": null,
            "right": null,
            "top": null,
            "visibility": null,
            "width": null
          }
        },
        "f5c14fd8ad634f18bb9628c665ad27bc": {
          "model_module": "@jupyter-widgets/base",
          "model_name": "LayoutModel",
          "model_module_version": "1.2.0",
          "state": {
            "_model_module": "@jupyter-widgets/base",
            "_model_module_version": "1.2.0",
            "_model_name": "LayoutModel",
            "_view_count": null,
            "_view_module": "@jupyter-widgets/base",
            "_view_module_version": "1.2.0",
            "_view_name": "LayoutView",
            "align_content": null,
            "align_items": null,
            "align_self": null,
            "border": null,
            "bottom": null,
            "display": null,
            "flex": null,
            "flex_flow": null,
            "grid_area": null,
            "grid_auto_columns": null,
            "grid_auto_flow": null,
            "grid_auto_rows": null,
            "grid_column": null,
            "grid_gap": null,
            "grid_row": null,
            "grid_template_areas": null,
            "grid_template_columns": null,
            "grid_template_rows": null,
            "height": null,
            "justify_content": null,
            "justify_items": null,
            "left": null,
            "margin": null,
            "max_height": null,
            "max_width": null,
            "min_height": null,
            "min_width": null,
            "object_fit": null,
            "object_position": null,
            "order": null,
            "overflow": null,
            "overflow_x": null,
            "overflow_y": null,
            "padding": null,
            "right": null,
            "top": null,
            "visibility": null,
            "width": null
          }
        },
        "c9a97504796a4ede9ae9b984a4e86e36": {
          "model_module": "@jupyter-widgets/controls",
          "model_name": "DescriptionStyleModel",
          "model_module_version": "1.5.0",
          "state": {
            "_model_module": "@jupyter-widgets/controls",
            "_model_module_version": "1.5.0",
            "_model_name": "DescriptionStyleModel",
            "_view_count": null,
            "_view_module": "@jupyter-widgets/base",
            "_view_module_version": "1.2.0",
            "_view_name": "StyleView",
            "description_width": ""
          }
        },
        "f9d47f056c9945658930bdfb0bb9f241": {
          "model_module": "@jupyter-widgets/base",
          "model_name": "LayoutModel",
          "model_module_version": "1.2.0",
          "state": {
            "_model_module": "@jupyter-widgets/base",
            "_model_module_version": "1.2.0",
            "_model_name": "LayoutModel",
            "_view_count": null,
            "_view_module": "@jupyter-widgets/base",
            "_view_module_version": "1.2.0",
            "_view_name": "LayoutView",
            "align_content": null,
            "align_items": null,
            "align_self": null,
            "border": null,
            "bottom": null,
            "display": null,
            "flex": null,
            "flex_flow": null,
            "grid_area": null,
            "grid_auto_columns": null,
            "grid_auto_flow": null,
            "grid_auto_rows": null,
            "grid_column": null,
            "grid_gap": null,
            "grid_row": null,
            "grid_template_areas": null,
            "grid_template_columns": null,
            "grid_template_rows": null,
            "height": null,
            "justify_content": null,
            "justify_items": null,
            "left": null,
            "margin": null,
            "max_height": null,
            "max_width": null,
            "min_height": null,
            "min_width": null,
            "object_fit": null,
            "object_position": null,
            "order": null,
            "overflow": null,
            "overflow_x": null,
            "overflow_y": null,
            "padding": null,
            "right": null,
            "top": null,
            "visibility": null,
            "width": null
          }
        },
        "0e0daaf74b344b2fb1d85ac01771fc01": {
          "model_module": "@jupyter-widgets/controls",
          "model_name": "ProgressStyleModel",
          "model_module_version": "1.5.0",
          "state": {
            "_model_module": "@jupyter-widgets/controls",
            "_model_module_version": "1.5.0",
            "_model_name": "ProgressStyleModel",
            "_view_count": null,
            "_view_module": "@jupyter-widgets/base",
            "_view_module_version": "1.2.0",
            "_view_name": "StyleView",
            "bar_color": null,
            "description_width": ""
          }
        },
        "23c7fd6468c4475b89cd843253a99750": {
          "model_module": "@jupyter-widgets/base",
          "model_name": "LayoutModel",
          "model_module_version": "1.2.0",
          "state": {
            "_model_module": "@jupyter-widgets/base",
            "_model_module_version": "1.2.0",
            "_model_name": "LayoutModel",
            "_view_count": null,
            "_view_module": "@jupyter-widgets/base",
            "_view_module_version": "1.2.0",
            "_view_name": "LayoutView",
            "align_content": null,
            "align_items": null,
            "align_self": null,
            "border": null,
            "bottom": null,
            "display": null,
            "flex": null,
            "flex_flow": null,
            "grid_area": null,
            "grid_auto_columns": null,
            "grid_auto_flow": null,
            "grid_auto_rows": null,
            "grid_column": null,
            "grid_gap": null,
            "grid_row": null,
            "grid_template_areas": null,
            "grid_template_columns": null,
            "grid_template_rows": null,
            "height": null,
            "justify_content": null,
            "justify_items": null,
            "left": null,
            "margin": null,
            "max_height": null,
            "max_width": null,
            "min_height": null,
            "min_width": null,
            "object_fit": null,
            "object_position": null,
            "order": null,
            "overflow": null,
            "overflow_x": null,
            "overflow_y": null,
            "padding": null,
            "right": null,
            "top": null,
            "visibility": null,
            "width": null
          }
        },
        "df25a68177f4407eba95f82229aeb019": {
          "model_module": "@jupyter-widgets/controls",
          "model_name": "DescriptionStyleModel",
          "model_module_version": "1.5.0",
          "state": {
            "_model_module": "@jupyter-widgets/controls",
            "_model_module_version": "1.5.0",
            "_model_name": "DescriptionStyleModel",
            "_view_count": null,
            "_view_module": "@jupyter-widgets/base",
            "_view_module_version": "1.2.0",
            "_view_name": "StyleView",
            "description_width": ""
          }
        },
        "f90ec0a3c793478b9ea9fc11dfe80e1f": {
          "model_module": "@jupyter-widgets/controls",
          "model_name": "HBoxModel",
          "model_module_version": "1.5.0",
          "state": {
            "_dom_classes": [],
            "_model_module": "@jupyter-widgets/controls",
            "_model_module_version": "1.5.0",
            "_model_name": "HBoxModel",
            "_view_count": null,
            "_view_module": "@jupyter-widgets/controls",
            "_view_module_version": "1.5.0",
            "_view_name": "HBoxView",
            "box_style": "",
            "children": [
              "IPY_MODEL_bd6e90698cb94efabe3457f6275ff16e",
              "IPY_MODEL_32a6002be7d94314aa9431658385bf15",
              "IPY_MODEL_9a9d08128c1d4e109265fa148117134d"
            ],
            "layout": "IPY_MODEL_7d55059476ff407abb306e4cee799cf5"
          }
        },
        "bd6e90698cb94efabe3457f6275ff16e": {
          "model_module": "@jupyter-widgets/controls",
          "model_name": "HTMLModel",
          "model_module_version": "1.5.0",
          "state": {
            "_dom_classes": [],
            "_model_module": "@jupyter-widgets/controls",
            "_model_module_version": "1.5.0",
            "_model_name": "HTMLModel",
            "_view_count": null,
            "_view_module": "@jupyter-widgets/controls",
            "_view_module_version": "1.5.0",
            "_view_name": "HTMLView",
            "description": "",
            "description_tooltip": null,
            "layout": "IPY_MODEL_240da620ac5941dcbea942cbfb37c16e",
            "placeholder": "​",
            "style": "IPY_MODEL_cf82cd86c39f4463b451be20c3b2b4fa",
            "value": "Epoch 17: 100%"
          }
        },
        "32a6002be7d94314aa9431658385bf15": {
          "model_module": "@jupyter-widgets/controls",
          "model_name": "FloatProgressModel",
          "model_module_version": "1.5.0",
          "state": {
            "_dom_classes": [],
            "_model_module": "@jupyter-widgets/controls",
            "_model_module_version": "1.5.0",
            "_model_name": "FloatProgressModel",
            "_view_count": null,
            "_view_module": "@jupyter-widgets/controls",
            "_view_module_version": "1.5.0",
            "_view_name": "ProgressView",
            "bar_style": "success",
            "description": "",
            "description_tooltip": null,
            "layout": "IPY_MODEL_b8c223a7d50c4518be8944b0fc807254",
            "max": 902,
            "min": 0,
            "orientation": "horizontal",
            "style": "IPY_MODEL_e9979f9fe74e4f74abdb908e72efb201",
            "value": 902
          }
        },
        "9a9d08128c1d4e109265fa148117134d": {
          "model_module": "@jupyter-widgets/controls",
          "model_name": "HTMLModel",
          "model_module_version": "1.5.0",
          "state": {
            "_dom_classes": [],
            "_model_module": "@jupyter-widgets/controls",
            "_model_module_version": "1.5.0",
            "_model_name": "HTMLModel",
            "_view_count": null,
            "_view_module": "@jupyter-widgets/controls",
            "_view_module_version": "1.5.0",
            "_view_name": "HTMLView",
            "description": "",
            "description_tooltip": null,
            "layout": "IPY_MODEL_6af3fa6e64e44c2998aaa154f3386dc8",
            "placeholder": "​",
            "style": "IPY_MODEL_20d7ba9e37a1412c83d99888ea738e04",
            "value": " 902/902 [00:41&lt;00:00, 21.77it/s, Loss 0.2088]"
          }
        },
        "7d55059476ff407abb306e4cee799cf5": {
          "model_module": "@jupyter-widgets/base",
          "model_name": "LayoutModel",
          "model_module_version": "1.2.0",
          "state": {
            "_model_module": "@jupyter-widgets/base",
            "_model_module_version": "1.2.0",
            "_model_name": "LayoutModel",
            "_view_count": null,
            "_view_module": "@jupyter-widgets/base",
            "_view_module_version": "1.2.0",
            "_view_name": "LayoutView",
            "align_content": null,
            "align_items": null,
            "align_self": null,
            "border": null,
            "bottom": null,
            "display": null,
            "flex": null,
            "flex_flow": null,
            "grid_area": null,
            "grid_auto_columns": null,
            "grid_auto_flow": null,
            "grid_auto_rows": null,
            "grid_column": null,
            "grid_gap": null,
            "grid_row": null,
            "grid_template_areas": null,
            "grid_template_columns": null,
            "grid_template_rows": null,
            "height": null,
            "justify_content": null,
            "justify_items": null,
            "left": null,
            "margin": null,
            "max_height": null,
            "max_width": null,
            "min_height": null,
            "min_width": null,
            "object_fit": null,
            "object_position": null,
            "order": null,
            "overflow": null,
            "overflow_x": null,
            "overflow_y": null,
            "padding": null,
            "right": null,
            "top": null,
            "visibility": null,
            "width": null
          }
        },
        "240da620ac5941dcbea942cbfb37c16e": {
          "model_module": "@jupyter-widgets/base",
          "model_name": "LayoutModel",
          "model_module_version": "1.2.0",
          "state": {
            "_model_module": "@jupyter-widgets/base",
            "_model_module_version": "1.2.0",
            "_model_name": "LayoutModel",
            "_view_count": null,
            "_view_module": "@jupyter-widgets/base",
            "_view_module_version": "1.2.0",
            "_view_name": "LayoutView",
            "align_content": null,
            "align_items": null,
            "align_self": null,
            "border": null,
            "bottom": null,
            "display": null,
            "flex": null,
            "flex_flow": null,
            "grid_area": null,
            "grid_auto_columns": null,
            "grid_auto_flow": null,
            "grid_auto_rows": null,
            "grid_column": null,
            "grid_gap": null,
            "grid_row": null,
            "grid_template_areas": null,
            "grid_template_columns": null,
            "grid_template_rows": null,
            "height": null,
            "justify_content": null,
            "justify_items": null,
            "left": null,
            "margin": null,
            "max_height": null,
            "max_width": null,
            "min_height": null,
            "min_width": null,
            "object_fit": null,
            "object_position": null,
            "order": null,
            "overflow": null,
            "overflow_x": null,
            "overflow_y": null,
            "padding": null,
            "right": null,
            "top": null,
            "visibility": null,
            "width": null
          }
        },
        "cf82cd86c39f4463b451be20c3b2b4fa": {
          "model_module": "@jupyter-widgets/controls",
          "model_name": "DescriptionStyleModel",
          "model_module_version": "1.5.0",
          "state": {
            "_model_module": "@jupyter-widgets/controls",
            "_model_module_version": "1.5.0",
            "_model_name": "DescriptionStyleModel",
            "_view_count": null,
            "_view_module": "@jupyter-widgets/base",
            "_view_module_version": "1.2.0",
            "_view_name": "StyleView",
            "description_width": ""
          }
        },
        "b8c223a7d50c4518be8944b0fc807254": {
          "model_module": "@jupyter-widgets/base",
          "model_name": "LayoutModel",
          "model_module_version": "1.2.0",
          "state": {
            "_model_module": "@jupyter-widgets/base",
            "_model_module_version": "1.2.0",
            "_model_name": "LayoutModel",
            "_view_count": null,
            "_view_module": "@jupyter-widgets/base",
            "_view_module_version": "1.2.0",
            "_view_name": "LayoutView",
            "align_content": null,
            "align_items": null,
            "align_self": null,
            "border": null,
            "bottom": null,
            "display": null,
            "flex": null,
            "flex_flow": null,
            "grid_area": null,
            "grid_auto_columns": null,
            "grid_auto_flow": null,
            "grid_auto_rows": null,
            "grid_column": null,
            "grid_gap": null,
            "grid_row": null,
            "grid_template_areas": null,
            "grid_template_columns": null,
            "grid_template_rows": null,
            "height": null,
            "justify_content": null,
            "justify_items": null,
            "left": null,
            "margin": null,
            "max_height": null,
            "max_width": null,
            "min_height": null,
            "min_width": null,
            "object_fit": null,
            "object_position": null,
            "order": null,
            "overflow": null,
            "overflow_x": null,
            "overflow_y": null,
            "padding": null,
            "right": null,
            "top": null,
            "visibility": null,
            "width": null
          }
        },
        "e9979f9fe74e4f74abdb908e72efb201": {
          "model_module": "@jupyter-widgets/controls",
          "model_name": "ProgressStyleModel",
          "model_module_version": "1.5.0",
          "state": {
            "_model_module": "@jupyter-widgets/controls",
            "_model_module_version": "1.5.0",
            "_model_name": "ProgressStyleModel",
            "_view_count": null,
            "_view_module": "@jupyter-widgets/base",
            "_view_module_version": "1.2.0",
            "_view_name": "StyleView",
            "bar_color": null,
            "description_width": ""
          }
        },
        "6af3fa6e64e44c2998aaa154f3386dc8": {
          "model_module": "@jupyter-widgets/base",
          "model_name": "LayoutModel",
          "model_module_version": "1.2.0",
          "state": {
            "_model_module": "@jupyter-widgets/base",
            "_model_module_version": "1.2.0",
            "_model_name": "LayoutModel",
            "_view_count": null,
            "_view_module": "@jupyter-widgets/base",
            "_view_module_version": "1.2.0",
            "_view_name": "LayoutView",
            "align_content": null,
            "align_items": null,
            "align_self": null,
            "border": null,
            "bottom": null,
            "display": null,
            "flex": null,
            "flex_flow": null,
            "grid_area": null,
            "grid_auto_columns": null,
            "grid_auto_flow": null,
            "grid_auto_rows": null,
            "grid_column": null,
            "grid_gap": null,
            "grid_row": null,
            "grid_template_areas": null,
            "grid_template_columns": null,
            "grid_template_rows": null,
            "height": null,
            "justify_content": null,
            "justify_items": null,
            "left": null,
            "margin": null,
            "max_height": null,
            "max_width": null,
            "min_height": null,
            "min_width": null,
            "object_fit": null,
            "object_position": null,
            "order": null,
            "overflow": null,
            "overflow_x": null,
            "overflow_y": null,
            "padding": null,
            "right": null,
            "top": null,
            "visibility": null,
            "width": null
          }
        },
        "20d7ba9e37a1412c83d99888ea738e04": {
          "model_module": "@jupyter-widgets/controls",
          "model_name": "DescriptionStyleModel",
          "model_module_version": "1.5.0",
          "state": {
            "_model_module": "@jupyter-widgets/controls",
            "_model_module_version": "1.5.0",
            "_model_name": "DescriptionStyleModel",
            "_view_count": null,
            "_view_module": "@jupyter-widgets/base",
            "_view_module_version": "1.2.0",
            "_view_name": "StyleView",
            "description_width": ""
          }
        },
        "af0909207ea442ae89b4744d4b4f054c": {
          "model_module": "@jupyter-widgets/controls",
          "model_name": "HBoxModel",
          "model_module_version": "1.5.0",
          "state": {
            "_dom_classes": [],
            "_model_module": "@jupyter-widgets/controls",
            "_model_module_version": "1.5.0",
            "_model_name": "HBoxModel",
            "_view_count": null,
            "_view_module": "@jupyter-widgets/controls",
            "_view_module_version": "1.5.0",
            "_view_name": "HBoxView",
            "box_style": "",
            "children": [
              "IPY_MODEL_e8fb49dcc5334dd0a754305847f2c082",
              "IPY_MODEL_f20e64d1571d4891a73537b045548c1e",
              "IPY_MODEL_8f3c6505e143468a83c508b1a8179b72"
            ],
            "layout": "IPY_MODEL_82a8c446b3554d7cb2b594b600542bf1"
          }
        },
        "e8fb49dcc5334dd0a754305847f2c082": {
          "model_module": "@jupyter-widgets/controls",
          "model_name": "HTMLModel",
          "model_module_version": "1.5.0",
          "state": {
            "_dom_classes": [],
            "_model_module": "@jupyter-widgets/controls",
            "_model_module_version": "1.5.0",
            "_model_name": "HTMLModel",
            "_view_count": null,
            "_view_module": "@jupyter-widgets/controls",
            "_view_module_version": "1.5.0",
            "_view_name": "HTMLView",
            "description": "",
            "description_tooltip": null,
            "layout": "IPY_MODEL_b9ba0590f6154c82bae5662b672a4869",
            "placeholder": "​",
            "style": "IPY_MODEL_393a27464e664118b238eec45314c584",
            "value": "Epoch 18: 100%"
          }
        },
        "f20e64d1571d4891a73537b045548c1e": {
          "model_module": "@jupyter-widgets/controls",
          "model_name": "FloatProgressModel",
          "model_module_version": "1.5.0",
          "state": {
            "_dom_classes": [],
            "_model_module": "@jupyter-widgets/controls",
            "_model_module_version": "1.5.0",
            "_model_name": "FloatProgressModel",
            "_view_count": null,
            "_view_module": "@jupyter-widgets/controls",
            "_view_module_version": "1.5.0",
            "_view_name": "ProgressView",
            "bar_style": "success",
            "description": "",
            "description_tooltip": null,
            "layout": "IPY_MODEL_435f8415ffd84402ae1b5ebd592baaff",
            "max": 902,
            "min": 0,
            "orientation": "horizontal",
            "style": "IPY_MODEL_4cc79abf3d024277b3bece38880fd333",
            "value": 902
          }
        },
        "8f3c6505e143468a83c508b1a8179b72": {
          "model_module": "@jupyter-widgets/controls",
          "model_name": "HTMLModel",
          "model_module_version": "1.5.0",
          "state": {
            "_dom_classes": [],
            "_model_module": "@jupyter-widgets/controls",
            "_model_module_version": "1.5.0",
            "_model_name": "HTMLModel",
            "_view_count": null,
            "_view_module": "@jupyter-widgets/controls",
            "_view_module_version": "1.5.0",
            "_view_name": "HTMLView",
            "description": "",
            "description_tooltip": null,
            "layout": "IPY_MODEL_7bce0fb0683f4fadb89e301572c518e6",
            "placeholder": "​",
            "style": "IPY_MODEL_b68a7b95a8cf4d5d83d0d307a377d78a",
            "value": " 902/902 [00:41&lt;00:00, 21.80it/s, Loss 0.1859]"
          }
        },
        "82a8c446b3554d7cb2b594b600542bf1": {
          "model_module": "@jupyter-widgets/base",
          "model_name": "LayoutModel",
          "model_module_version": "1.2.0",
          "state": {
            "_model_module": "@jupyter-widgets/base",
            "_model_module_version": "1.2.0",
            "_model_name": "LayoutModel",
            "_view_count": null,
            "_view_module": "@jupyter-widgets/base",
            "_view_module_version": "1.2.0",
            "_view_name": "LayoutView",
            "align_content": null,
            "align_items": null,
            "align_self": null,
            "border": null,
            "bottom": null,
            "display": null,
            "flex": null,
            "flex_flow": null,
            "grid_area": null,
            "grid_auto_columns": null,
            "grid_auto_flow": null,
            "grid_auto_rows": null,
            "grid_column": null,
            "grid_gap": null,
            "grid_row": null,
            "grid_template_areas": null,
            "grid_template_columns": null,
            "grid_template_rows": null,
            "height": null,
            "justify_content": null,
            "justify_items": null,
            "left": null,
            "margin": null,
            "max_height": null,
            "max_width": null,
            "min_height": null,
            "min_width": null,
            "object_fit": null,
            "object_position": null,
            "order": null,
            "overflow": null,
            "overflow_x": null,
            "overflow_y": null,
            "padding": null,
            "right": null,
            "top": null,
            "visibility": null,
            "width": null
          }
        },
        "b9ba0590f6154c82bae5662b672a4869": {
          "model_module": "@jupyter-widgets/base",
          "model_name": "LayoutModel",
          "model_module_version": "1.2.0",
          "state": {
            "_model_module": "@jupyter-widgets/base",
            "_model_module_version": "1.2.0",
            "_model_name": "LayoutModel",
            "_view_count": null,
            "_view_module": "@jupyter-widgets/base",
            "_view_module_version": "1.2.0",
            "_view_name": "LayoutView",
            "align_content": null,
            "align_items": null,
            "align_self": null,
            "border": null,
            "bottom": null,
            "display": null,
            "flex": null,
            "flex_flow": null,
            "grid_area": null,
            "grid_auto_columns": null,
            "grid_auto_flow": null,
            "grid_auto_rows": null,
            "grid_column": null,
            "grid_gap": null,
            "grid_row": null,
            "grid_template_areas": null,
            "grid_template_columns": null,
            "grid_template_rows": null,
            "height": null,
            "justify_content": null,
            "justify_items": null,
            "left": null,
            "margin": null,
            "max_height": null,
            "max_width": null,
            "min_height": null,
            "min_width": null,
            "object_fit": null,
            "object_position": null,
            "order": null,
            "overflow": null,
            "overflow_x": null,
            "overflow_y": null,
            "padding": null,
            "right": null,
            "top": null,
            "visibility": null,
            "width": null
          }
        },
        "393a27464e664118b238eec45314c584": {
          "model_module": "@jupyter-widgets/controls",
          "model_name": "DescriptionStyleModel",
          "model_module_version": "1.5.0",
          "state": {
            "_model_module": "@jupyter-widgets/controls",
            "_model_module_version": "1.5.0",
            "_model_name": "DescriptionStyleModel",
            "_view_count": null,
            "_view_module": "@jupyter-widgets/base",
            "_view_module_version": "1.2.0",
            "_view_name": "StyleView",
            "description_width": ""
          }
        },
        "435f8415ffd84402ae1b5ebd592baaff": {
          "model_module": "@jupyter-widgets/base",
          "model_name": "LayoutModel",
          "model_module_version": "1.2.0",
          "state": {
            "_model_module": "@jupyter-widgets/base",
            "_model_module_version": "1.2.0",
            "_model_name": "LayoutModel",
            "_view_count": null,
            "_view_module": "@jupyter-widgets/base",
            "_view_module_version": "1.2.0",
            "_view_name": "LayoutView",
            "align_content": null,
            "align_items": null,
            "align_self": null,
            "border": null,
            "bottom": null,
            "display": null,
            "flex": null,
            "flex_flow": null,
            "grid_area": null,
            "grid_auto_columns": null,
            "grid_auto_flow": null,
            "grid_auto_rows": null,
            "grid_column": null,
            "grid_gap": null,
            "grid_row": null,
            "grid_template_areas": null,
            "grid_template_columns": null,
            "grid_template_rows": null,
            "height": null,
            "justify_content": null,
            "justify_items": null,
            "left": null,
            "margin": null,
            "max_height": null,
            "max_width": null,
            "min_height": null,
            "min_width": null,
            "object_fit": null,
            "object_position": null,
            "order": null,
            "overflow": null,
            "overflow_x": null,
            "overflow_y": null,
            "padding": null,
            "right": null,
            "top": null,
            "visibility": null,
            "width": null
          }
        },
        "4cc79abf3d024277b3bece38880fd333": {
          "model_module": "@jupyter-widgets/controls",
          "model_name": "ProgressStyleModel",
          "model_module_version": "1.5.0",
          "state": {
            "_model_module": "@jupyter-widgets/controls",
            "_model_module_version": "1.5.0",
            "_model_name": "ProgressStyleModel",
            "_view_count": null,
            "_view_module": "@jupyter-widgets/base",
            "_view_module_version": "1.2.0",
            "_view_name": "StyleView",
            "bar_color": null,
            "description_width": ""
          }
        },
        "7bce0fb0683f4fadb89e301572c518e6": {
          "model_module": "@jupyter-widgets/base",
          "model_name": "LayoutModel",
          "model_module_version": "1.2.0",
          "state": {
            "_model_module": "@jupyter-widgets/base",
            "_model_module_version": "1.2.0",
            "_model_name": "LayoutModel",
            "_view_count": null,
            "_view_module": "@jupyter-widgets/base",
            "_view_module_version": "1.2.0",
            "_view_name": "LayoutView",
            "align_content": null,
            "align_items": null,
            "align_self": null,
            "border": null,
            "bottom": null,
            "display": null,
            "flex": null,
            "flex_flow": null,
            "grid_area": null,
            "grid_auto_columns": null,
            "grid_auto_flow": null,
            "grid_auto_rows": null,
            "grid_column": null,
            "grid_gap": null,
            "grid_row": null,
            "grid_template_areas": null,
            "grid_template_columns": null,
            "grid_template_rows": null,
            "height": null,
            "justify_content": null,
            "justify_items": null,
            "left": null,
            "margin": null,
            "max_height": null,
            "max_width": null,
            "min_height": null,
            "min_width": null,
            "object_fit": null,
            "object_position": null,
            "order": null,
            "overflow": null,
            "overflow_x": null,
            "overflow_y": null,
            "padding": null,
            "right": null,
            "top": null,
            "visibility": null,
            "width": null
          }
        },
        "b68a7b95a8cf4d5d83d0d307a377d78a": {
          "model_module": "@jupyter-widgets/controls",
          "model_name": "DescriptionStyleModel",
          "model_module_version": "1.5.0",
          "state": {
            "_model_module": "@jupyter-widgets/controls",
            "_model_module_version": "1.5.0",
            "_model_name": "DescriptionStyleModel",
            "_view_count": null,
            "_view_module": "@jupyter-widgets/base",
            "_view_module_version": "1.2.0",
            "_view_name": "StyleView",
            "description_width": ""
          }
        },
        "d4c5a7668abd43b789ff6ddee4fd3e22": {
          "model_module": "@jupyter-widgets/controls",
          "model_name": "HBoxModel",
          "model_module_version": "1.5.0",
          "state": {
            "_dom_classes": [],
            "_model_module": "@jupyter-widgets/controls",
            "_model_module_version": "1.5.0",
            "_model_name": "HBoxModel",
            "_view_count": null,
            "_view_module": "@jupyter-widgets/controls",
            "_view_module_version": "1.5.0",
            "_view_name": "HBoxView",
            "box_style": "",
            "children": [
              "IPY_MODEL_3c71cc81c90943a08b5e88629efe33c5",
              "IPY_MODEL_c91b7b675321412a88cdcab1774add40",
              "IPY_MODEL_a106c99d1e1e437a9dca358df7f6f884"
            ],
            "layout": "IPY_MODEL_985e6a12d69c4c1f8d9cb7f5b773474f"
          }
        },
        "3c71cc81c90943a08b5e88629efe33c5": {
          "model_module": "@jupyter-widgets/controls",
          "model_name": "HTMLModel",
          "model_module_version": "1.5.0",
          "state": {
            "_dom_classes": [],
            "_model_module": "@jupyter-widgets/controls",
            "_model_module_version": "1.5.0",
            "_model_name": "HTMLModel",
            "_view_count": null,
            "_view_module": "@jupyter-widgets/controls",
            "_view_module_version": "1.5.0",
            "_view_name": "HTMLView",
            "description": "",
            "description_tooltip": null,
            "layout": "IPY_MODEL_8bf730e35c8b46fab9c67cd019ed6e09",
            "placeholder": "​",
            "style": "IPY_MODEL_46abf7ef772544d2b3336919bd1f5977",
            "value": "Epoch 19: 100%"
          }
        },
        "c91b7b675321412a88cdcab1774add40": {
          "model_module": "@jupyter-widgets/controls",
          "model_name": "FloatProgressModel",
          "model_module_version": "1.5.0",
          "state": {
            "_dom_classes": [],
            "_model_module": "@jupyter-widgets/controls",
            "_model_module_version": "1.5.0",
            "_model_name": "FloatProgressModel",
            "_view_count": null,
            "_view_module": "@jupyter-widgets/controls",
            "_view_module_version": "1.5.0",
            "_view_name": "ProgressView",
            "bar_style": "success",
            "description": "",
            "description_tooltip": null,
            "layout": "IPY_MODEL_57c27cb353024cc49db4d6cc769e3b0a",
            "max": 902,
            "min": 0,
            "orientation": "horizontal",
            "style": "IPY_MODEL_9fff114c4fbe420eb57e26dd0854329a",
            "value": 902
          }
        },
        "a106c99d1e1e437a9dca358df7f6f884": {
          "model_module": "@jupyter-widgets/controls",
          "model_name": "HTMLModel",
          "model_module_version": "1.5.0",
          "state": {
            "_dom_classes": [],
            "_model_module": "@jupyter-widgets/controls",
            "_model_module_version": "1.5.0",
            "_model_name": "HTMLModel",
            "_view_count": null,
            "_view_module": "@jupyter-widgets/controls",
            "_view_module_version": "1.5.0",
            "_view_name": "HTMLView",
            "description": "",
            "description_tooltip": null,
            "layout": "IPY_MODEL_ac06ba40688b41a3b439e024410e1102",
            "placeholder": "​",
            "style": "IPY_MODEL_9b4c4536df7c4e59bac324679b0d5429",
            "value": " 902/902 [00:41&lt;00:00, 20.96it/s, Loss 0.1669]"
          }
        },
        "985e6a12d69c4c1f8d9cb7f5b773474f": {
          "model_module": "@jupyter-widgets/base",
          "model_name": "LayoutModel",
          "model_module_version": "1.2.0",
          "state": {
            "_model_module": "@jupyter-widgets/base",
            "_model_module_version": "1.2.0",
            "_model_name": "LayoutModel",
            "_view_count": null,
            "_view_module": "@jupyter-widgets/base",
            "_view_module_version": "1.2.0",
            "_view_name": "LayoutView",
            "align_content": null,
            "align_items": null,
            "align_self": null,
            "border": null,
            "bottom": null,
            "display": null,
            "flex": null,
            "flex_flow": null,
            "grid_area": null,
            "grid_auto_columns": null,
            "grid_auto_flow": null,
            "grid_auto_rows": null,
            "grid_column": null,
            "grid_gap": null,
            "grid_row": null,
            "grid_template_areas": null,
            "grid_template_columns": null,
            "grid_template_rows": null,
            "height": null,
            "justify_content": null,
            "justify_items": null,
            "left": null,
            "margin": null,
            "max_height": null,
            "max_width": null,
            "min_height": null,
            "min_width": null,
            "object_fit": null,
            "object_position": null,
            "order": null,
            "overflow": null,
            "overflow_x": null,
            "overflow_y": null,
            "padding": null,
            "right": null,
            "top": null,
            "visibility": null,
            "width": null
          }
        },
        "8bf730e35c8b46fab9c67cd019ed6e09": {
          "model_module": "@jupyter-widgets/base",
          "model_name": "LayoutModel",
          "model_module_version": "1.2.0",
          "state": {
            "_model_module": "@jupyter-widgets/base",
            "_model_module_version": "1.2.0",
            "_model_name": "LayoutModel",
            "_view_count": null,
            "_view_module": "@jupyter-widgets/base",
            "_view_module_version": "1.2.0",
            "_view_name": "LayoutView",
            "align_content": null,
            "align_items": null,
            "align_self": null,
            "border": null,
            "bottom": null,
            "display": null,
            "flex": null,
            "flex_flow": null,
            "grid_area": null,
            "grid_auto_columns": null,
            "grid_auto_flow": null,
            "grid_auto_rows": null,
            "grid_column": null,
            "grid_gap": null,
            "grid_row": null,
            "grid_template_areas": null,
            "grid_template_columns": null,
            "grid_template_rows": null,
            "height": null,
            "justify_content": null,
            "justify_items": null,
            "left": null,
            "margin": null,
            "max_height": null,
            "max_width": null,
            "min_height": null,
            "min_width": null,
            "object_fit": null,
            "object_position": null,
            "order": null,
            "overflow": null,
            "overflow_x": null,
            "overflow_y": null,
            "padding": null,
            "right": null,
            "top": null,
            "visibility": null,
            "width": null
          }
        },
        "46abf7ef772544d2b3336919bd1f5977": {
          "model_module": "@jupyter-widgets/controls",
          "model_name": "DescriptionStyleModel",
          "model_module_version": "1.5.0",
          "state": {
            "_model_module": "@jupyter-widgets/controls",
            "_model_module_version": "1.5.0",
            "_model_name": "DescriptionStyleModel",
            "_view_count": null,
            "_view_module": "@jupyter-widgets/base",
            "_view_module_version": "1.2.0",
            "_view_name": "StyleView",
            "description_width": ""
          }
        },
        "57c27cb353024cc49db4d6cc769e3b0a": {
          "model_module": "@jupyter-widgets/base",
          "model_name": "LayoutModel",
          "model_module_version": "1.2.0",
          "state": {
            "_model_module": "@jupyter-widgets/base",
            "_model_module_version": "1.2.0",
            "_model_name": "LayoutModel",
            "_view_count": null,
            "_view_module": "@jupyter-widgets/base",
            "_view_module_version": "1.2.0",
            "_view_name": "LayoutView",
            "align_content": null,
            "align_items": null,
            "align_self": null,
            "border": null,
            "bottom": null,
            "display": null,
            "flex": null,
            "flex_flow": null,
            "grid_area": null,
            "grid_auto_columns": null,
            "grid_auto_flow": null,
            "grid_auto_rows": null,
            "grid_column": null,
            "grid_gap": null,
            "grid_row": null,
            "grid_template_areas": null,
            "grid_template_columns": null,
            "grid_template_rows": null,
            "height": null,
            "justify_content": null,
            "justify_items": null,
            "left": null,
            "margin": null,
            "max_height": null,
            "max_width": null,
            "min_height": null,
            "min_width": null,
            "object_fit": null,
            "object_position": null,
            "order": null,
            "overflow": null,
            "overflow_x": null,
            "overflow_y": null,
            "padding": null,
            "right": null,
            "top": null,
            "visibility": null,
            "width": null
          }
        },
        "9fff114c4fbe420eb57e26dd0854329a": {
          "model_module": "@jupyter-widgets/controls",
          "model_name": "ProgressStyleModel",
          "model_module_version": "1.5.0",
          "state": {
            "_model_module": "@jupyter-widgets/controls",
            "_model_module_version": "1.5.0",
            "_model_name": "ProgressStyleModel",
            "_view_count": null,
            "_view_module": "@jupyter-widgets/base",
            "_view_module_version": "1.2.0",
            "_view_name": "StyleView",
            "bar_color": null,
            "description_width": ""
          }
        },
        "ac06ba40688b41a3b439e024410e1102": {
          "model_module": "@jupyter-widgets/base",
          "model_name": "LayoutModel",
          "model_module_version": "1.2.0",
          "state": {
            "_model_module": "@jupyter-widgets/base",
            "_model_module_version": "1.2.0",
            "_model_name": "LayoutModel",
            "_view_count": null,
            "_view_module": "@jupyter-widgets/base",
            "_view_module_version": "1.2.0",
            "_view_name": "LayoutView",
            "align_content": null,
            "align_items": null,
            "align_self": null,
            "border": null,
            "bottom": null,
            "display": null,
            "flex": null,
            "flex_flow": null,
            "grid_area": null,
            "grid_auto_columns": null,
            "grid_auto_flow": null,
            "grid_auto_rows": null,
            "grid_column": null,
            "grid_gap": null,
            "grid_row": null,
            "grid_template_areas": null,
            "grid_template_columns": null,
            "grid_template_rows": null,
            "height": null,
            "justify_content": null,
            "justify_items": null,
            "left": null,
            "margin": null,
            "max_height": null,
            "max_width": null,
            "min_height": null,
            "min_width": null,
            "object_fit": null,
            "object_position": null,
            "order": null,
            "overflow": null,
            "overflow_x": null,
            "overflow_y": null,
            "padding": null,
            "right": null,
            "top": null,
            "visibility": null,
            "width": null
          }
        },
        "9b4c4536df7c4e59bac324679b0d5429": {
          "model_module": "@jupyter-widgets/controls",
          "model_name": "DescriptionStyleModel",
          "model_module_version": "1.5.0",
          "state": {
            "_model_module": "@jupyter-widgets/controls",
            "_model_module_version": "1.5.0",
            "_model_name": "DescriptionStyleModel",
            "_view_count": null,
            "_view_module": "@jupyter-widgets/base",
            "_view_module_version": "1.2.0",
            "_view_name": "StyleView",
            "description_width": ""
          }
        },
        "67b19f8d92eb4639946aadfa8fdac28c": {
          "model_module": "@jupyter-widgets/controls",
          "model_name": "HBoxModel",
          "model_module_version": "1.5.0",
          "state": {
            "_dom_classes": [],
            "_model_module": "@jupyter-widgets/controls",
            "_model_module_version": "1.5.0",
            "_model_name": "HBoxModel",
            "_view_count": null,
            "_view_module": "@jupyter-widgets/controls",
            "_view_module_version": "1.5.0",
            "_view_name": "HBoxView",
            "box_style": "",
            "children": [
              "IPY_MODEL_d5d5133a6e8e457b801734ef3c9170f9",
              "IPY_MODEL_32326ab12e9247e4a520dd6cb140e7ba",
              "IPY_MODEL_a904fc049f9a457a9520b35e6ebc4a77"
            ],
            "layout": "IPY_MODEL_e496ba9bdc594f7abc9c65953b72a5f6"
          }
        },
        "d5d5133a6e8e457b801734ef3c9170f9": {
          "model_module": "@jupyter-widgets/controls",
          "model_name": "HTMLModel",
          "model_module_version": "1.5.0",
          "state": {
            "_dom_classes": [],
            "_model_module": "@jupyter-widgets/controls",
            "_model_module_version": "1.5.0",
            "_model_name": "HTMLModel",
            "_view_count": null,
            "_view_module": "@jupyter-widgets/controls",
            "_view_module_version": "1.5.0",
            "_view_name": "HTMLView",
            "description": "",
            "description_tooltip": null,
            "layout": "IPY_MODEL_274aa174c68a40ac8f046c66c52ae463",
            "placeholder": "​",
            "style": "IPY_MODEL_0aead7743c5c48abb26433b094fa6d62",
            "value": "Epoch 20: 100%"
          }
        },
        "32326ab12e9247e4a520dd6cb140e7ba": {
          "model_module": "@jupyter-widgets/controls",
          "model_name": "FloatProgressModel",
          "model_module_version": "1.5.0",
          "state": {
            "_dom_classes": [],
            "_model_module": "@jupyter-widgets/controls",
            "_model_module_version": "1.5.0",
            "_model_name": "FloatProgressModel",
            "_view_count": null,
            "_view_module": "@jupyter-widgets/controls",
            "_view_module_version": "1.5.0",
            "_view_name": "ProgressView",
            "bar_style": "success",
            "description": "",
            "description_tooltip": null,
            "layout": "IPY_MODEL_2da407d3af354a8195be29d43c80ace0",
            "max": 902,
            "min": 0,
            "orientation": "horizontal",
            "style": "IPY_MODEL_6f5aea926e914f22b3c4151b0a90d2a7",
            "value": 902
          }
        },
        "a904fc049f9a457a9520b35e6ebc4a77": {
          "model_module": "@jupyter-widgets/controls",
          "model_name": "HTMLModel",
          "model_module_version": "1.5.0",
          "state": {
            "_dom_classes": [],
            "_model_module": "@jupyter-widgets/controls",
            "_model_module_version": "1.5.0",
            "_model_name": "HTMLModel",
            "_view_count": null,
            "_view_module": "@jupyter-widgets/controls",
            "_view_module_version": "1.5.0",
            "_view_name": "HTMLView",
            "description": "",
            "description_tooltip": null,
            "layout": "IPY_MODEL_876c4bf9dadc4b989a3e6c2089d5d835",
            "placeholder": "​",
            "style": "IPY_MODEL_948768b0eb2049debcd7e0bb9c6a7748",
            "value": " 902/902 [00:41&lt;00:00, 21.69it/s, Loss 0.1510]"
          }
        },
        "e496ba9bdc594f7abc9c65953b72a5f6": {
          "model_module": "@jupyter-widgets/base",
          "model_name": "LayoutModel",
          "model_module_version": "1.2.0",
          "state": {
            "_model_module": "@jupyter-widgets/base",
            "_model_module_version": "1.2.0",
            "_model_name": "LayoutModel",
            "_view_count": null,
            "_view_module": "@jupyter-widgets/base",
            "_view_module_version": "1.2.0",
            "_view_name": "LayoutView",
            "align_content": null,
            "align_items": null,
            "align_self": null,
            "border": null,
            "bottom": null,
            "display": null,
            "flex": null,
            "flex_flow": null,
            "grid_area": null,
            "grid_auto_columns": null,
            "grid_auto_flow": null,
            "grid_auto_rows": null,
            "grid_column": null,
            "grid_gap": null,
            "grid_row": null,
            "grid_template_areas": null,
            "grid_template_columns": null,
            "grid_template_rows": null,
            "height": null,
            "justify_content": null,
            "justify_items": null,
            "left": null,
            "margin": null,
            "max_height": null,
            "max_width": null,
            "min_height": null,
            "min_width": null,
            "object_fit": null,
            "object_position": null,
            "order": null,
            "overflow": null,
            "overflow_x": null,
            "overflow_y": null,
            "padding": null,
            "right": null,
            "top": null,
            "visibility": null,
            "width": null
          }
        },
        "274aa174c68a40ac8f046c66c52ae463": {
          "model_module": "@jupyter-widgets/base",
          "model_name": "LayoutModel",
          "model_module_version": "1.2.0",
          "state": {
            "_model_module": "@jupyter-widgets/base",
            "_model_module_version": "1.2.0",
            "_model_name": "LayoutModel",
            "_view_count": null,
            "_view_module": "@jupyter-widgets/base",
            "_view_module_version": "1.2.0",
            "_view_name": "LayoutView",
            "align_content": null,
            "align_items": null,
            "align_self": null,
            "border": null,
            "bottom": null,
            "display": null,
            "flex": null,
            "flex_flow": null,
            "grid_area": null,
            "grid_auto_columns": null,
            "grid_auto_flow": null,
            "grid_auto_rows": null,
            "grid_column": null,
            "grid_gap": null,
            "grid_row": null,
            "grid_template_areas": null,
            "grid_template_columns": null,
            "grid_template_rows": null,
            "height": null,
            "justify_content": null,
            "justify_items": null,
            "left": null,
            "margin": null,
            "max_height": null,
            "max_width": null,
            "min_height": null,
            "min_width": null,
            "object_fit": null,
            "object_position": null,
            "order": null,
            "overflow": null,
            "overflow_x": null,
            "overflow_y": null,
            "padding": null,
            "right": null,
            "top": null,
            "visibility": null,
            "width": null
          }
        },
        "0aead7743c5c48abb26433b094fa6d62": {
          "model_module": "@jupyter-widgets/controls",
          "model_name": "DescriptionStyleModel",
          "model_module_version": "1.5.0",
          "state": {
            "_model_module": "@jupyter-widgets/controls",
            "_model_module_version": "1.5.0",
            "_model_name": "DescriptionStyleModel",
            "_view_count": null,
            "_view_module": "@jupyter-widgets/base",
            "_view_module_version": "1.2.0",
            "_view_name": "StyleView",
            "description_width": ""
          }
        },
        "2da407d3af354a8195be29d43c80ace0": {
          "model_module": "@jupyter-widgets/base",
          "model_name": "LayoutModel",
          "model_module_version": "1.2.0",
          "state": {
            "_model_module": "@jupyter-widgets/base",
            "_model_module_version": "1.2.0",
            "_model_name": "LayoutModel",
            "_view_count": null,
            "_view_module": "@jupyter-widgets/base",
            "_view_module_version": "1.2.0",
            "_view_name": "LayoutView",
            "align_content": null,
            "align_items": null,
            "align_self": null,
            "border": null,
            "bottom": null,
            "display": null,
            "flex": null,
            "flex_flow": null,
            "grid_area": null,
            "grid_auto_columns": null,
            "grid_auto_flow": null,
            "grid_auto_rows": null,
            "grid_column": null,
            "grid_gap": null,
            "grid_row": null,
            "grid_template_areas": null,
            "grid_template_columns": null,
            "grid_template_rows": null,
            "height": null,
            "justify_content": null,
            "justify_items": null,
            "left": null,
            "margin": null,
            "max_height": null,
            "max_width": null,
            "min_height": null,
            "min_width": null,
            "object_fit": null,
            "object_position": null,
            "order": null,
            "overflow": null,
            "overflow_x": null,
            "overflow_y": null,
            "padding": null,
            "right": null,
            "top": null,
            "visibility": null,
            "width": null
          }
        },
        "6f5aea926e914f22b3c4151b0a90d2a7": {
          "model_module": "@jupyter-widgets/controls",
          "model_name": "ProgressStyleModel",
          "model_module_version": "1.5.0",
          "state": {
            "_model_module": "@jupyter-widgets/controls",
            "_model_module_version": "1.5.0",
            "_model_name": "ProgressStyleModel",
            "_view_count": null,
            "_view_module": "@jupyter-widgets/base",
            "_view_module_version": "1.2.0",
            "_view_name": "StyleView",
            "bar_color": null,
            "description_width": ""
          }
        },
        "876c4bf9dadc4b989a3e6c2089d5d835": {
          "model_module": "@jupyter-widgets/base",
          "model_name": "LayoutModel",
          "model_module_version": "1.2.0",
          "state": {
            "_model_module": "@jupyter-widgets/base",
            "_model_module_version": "1.2.0",
            "_model_name": "LayoutModel",
            "_view_count": null,
            "_view_module": "@jupyter-widgets/base",
            "_view_module_version": "1.2.0",
            "_view_name": "LayoutView",
            "align_content": null,
            "align_items": null,
            "align_self": null,
            "border": null,
            "bottom": null,
            "display": null,
            "flex": null,
            "flex_flow": null,
            "grid_area": null,
            "grid_auto_columns": null,
            "grid_auto_flow": null,
            "grid_auto_rows": null,
            "grid_column": null,
            "grid_gap": null,
            "grid_row": null,
            "grid_template_areas": null,
            "grid_template_columns": null,
            "grid_template_rows": null,
            "height": null,
            "justify_content": null,
            "justify_items": null,
            "left": null,
            "margin": null,
            "max_height": null,
            "max_width": null,
            "min_height": null,
            "min_width": null,
            "object_fit": null,
            "object_position": null,
            "order": null,
            "overflow": null,
            "overflow_x": null,
            "overflow_y": null,
            "padding": null,
            "right": null,
            "top": null,
            "visibility": null,
            "width": null
          }
        },
        "948768b0eb2049debcd7e0bb9c6a7748": {
          "model_module": "@jupyter-widgets/controls",
          "model_name": "DescriptionStyleModel",
          "model_module_version": "1.5.0",
          "state": {
            "_model_module": "@jupyter-widgets/controls",
            "_model_module_version": "1.5.0",
            "_model_name": "DescriptionStyleModel",
            "_view_count": null,
            "_view_module": "@jupyter-widgets/base",
            "_view_module_version": "1.2.0",
            "_view_name": "StyleView",
            "description_width": ""
          }
        }
      }
    }
  },
  "cells": [
    {
      "cell_type": "markdown",
      "metadata": {
        "id": "view-in-github",
        "colab_type": "text"
      },
      "source": [
        "<a href=\"https://colab.research.google.com/github/jx-dohwan/Aiffel_NLP_Project/blob/main/%5BNLP_10%5DCreate_a_translator_with_Transformer.ipynb\" target=\"_parent\"><img src=\"https://colab.research.google.com/assets/colab-badge.svg\" alt=\"Open In Colab\"/></a>"
      ]
    },
    {
      "cell_type": "markdown",
      "source": [
        "# [NLP_10]Create a translator with Transformer"
      ],
      "metadata": {
        "id": "OZN6XI2KaN8R"
      }
    },
    {
      "cell_type": "markdown",
      "source": [
        "## 1. Import 및 라이브러리 다운로드"
      ],
      "metadata": {
        "id": "atEzWNwswXu2"
      }
    },
    {
      "cell_type": "code",
      "source": [
        "!sudo apt-get install -y fonts-nanum\n",
        "!sudo fc-cache -fv\n",
        "!rm ~/.cache/matplotlib -rf"
      ],
      "metadata": {
        "colab": {
          "base_uri": "https://localhost:8080/"
        },
        "id": "YLAP75iryuwy",
        "outputId": "32f6d16c-59b0-4fc9-f2ff-5c756ed6e1c9"
      },
      "execution_count": 1,
      "outputs": [
        {
          "output_type": "stream",
          "name": "stdout",
          "text": [
            "Reading package lists... Done\n",
            "Building dependency tree       \n",
            "Reading state information... Done\n",
            "fonts-nanum is already the newest version (20170925-1).\n",
            "The following package was automatically installed and is no longer required:\n",
            "  libnvidia-common-460\n",
            "Use 'sudo apt autoremove' to remove it.\n",
            "0 upgraded, 0 newly installed, 0 to remove and 12 not upgraded.\n",
            "/usr/share/fonts: caching, new cache contents: 0 fonts, 1 dirs\n",
            "/usr/share/fonts/truetype: caching, new cache contents: 0 fonts, 3 dirs\n",
            "/usr/share/fonts/truetype/humor-sans: caching, new cache contents: 1 fonts, 0 dirs\n",
            "/usr/share/fonts/truetype/liberation: caching, new cache contents: 16 fonts, 0 dirs\n",
            "/usr/share/fonts/truetype/nanum: caching, new cache contents: 10 fonts, 0 dirs\n",
            "/usr/local/share/fonts: caching, new cache contents: 0 fonts, 0 dirs\n",
            "/root/.local/share/fonts: skipping, no such directory\n",
            "/root/.fonts: skipping, no such directory\n",
            "/var/cache/fontconfig: cleaning cache directory\n",
            "/root/.cache/fontconfig: not cleaning non-existent cache directory\n",
            "/root/.fontconfig: not cleaning non-existent cache directory\n",
            "fc-cache: succeeded\n"
          ]
        }
      ]
    },
    {
      "cell_type": "code",
      "source": [
        "! pip install sentencepiece"
      ],
      "metadata": {
        "colab": {
          "base_uri": "https://localhost:8080/"
        },
        "id": "Q3AolEf_0eNr",
        "outputId": "97faf01e-b2c1-4054-e790-f6403fa041be"
      },
      "execution_count": 2,
      "outputs": [
        {
          "output_type": "stream",
          "name": "stdout",
          "text": [
            "Looking in indexes: https://pypi.org/simple, https://us-python.pkg.dev/colab-wheels/public/simple/\n",
            "Requirement already satisfied: sentencepiece in /usr/local/lib/python3.7/dist-packages (0.1.97)\n"
          ]
        }
      ]
    },
    {
      "cell_type": "code",
      "execution_count": 3,
      "metadata": {
        "id": "7-21ud_ZaIWA",
        "colab": {
          "base_uri": "https://localhost:8080/"
        },
        "outputId": "4037f208-b378-4de5-d419-c3679daab62e"
      },
      "outputs": [
        {
          "output_type": "stream",
          "name": "stdout",
          "text": [
            "2.9.2\n"
          ]
        }
      ],
      "source": [
        "import numpy as np\n",
        "import tensorflow as tf\n",
        "import matplotlib.pyplot as plt\n",
        "import sentencepiece as spm\n",
        "import re\n",
        "import os\n",
        "import io\n",
        "import time\n",
        "import random\n",
        "from sklearn.model_selection import train_test_split\n",
        "from tqdm.notebook import tqdm  \n",
        "import seaborn # Attention 시각화를 위해 필요!\n",
        "plt.rc('font', family='NanumBarunGothic')\n",
        "print(tf.__version__)"
      ]
    },
    {
      "cell_type": "markdown",
      "source": [
        "## 2. 데이터 다운로드"
      ],
      "metadata": {
        "id": "2a4vPdaAwbQa"
      }
    },
    {
      "cell_type": "code",
      "source": [
        "path_train_ko = '/content/drive/MyDrive/인공지능/아이펠/GoingDeeper/제출용/data/transformer_translator/korean-english-park.train.ko'\n",
        "path_train_en = '/content/drive/MyDrive/인공지능/아이펠/GoingDeeper/제출용/data/transformer_translator/korean-english-park.train.en'"
      ],
      "metadata": {
        "id": "cwjKuxmfweMI"
      },
      "execution_count": 4,
      "outputs": []
    },
    {
      "cell_type": "code",
      "source": [
        "# with open(path_train_ko, \"r\") as f:\n",
        "#     raw_ko = f.read().splitlines()\n",
        "\n",
        "# print(\"Data Size:\", len(raw_ko))\n",
        "# print(\"Example:\")\n",
        "\n",
        "# for sen in raw_ko[0:100][::20]: print(\">>\", sen)"
      ],
      "metadata": {
        "id": "9JJWJCLMzLLn"
      },
      "execution_count": 5,
      "outputs": []
    },
    {
      "cell_type": "code",
      "source": [
        "# with open(path_train_en, \"r\") as f:\n",
        "#     raw_en = f.read().splitlines()\n",
        "\n",
        "# print(\"Data Size:\", len(raw_en))\n",
        "# print(\"Example:\")\n",
        "\n",
        "# for sen in raw_en[0:100][::20]: print(\">>\", sen)"
      ],
      "metadata": {
        "id": "5oZuS0B_zM7B"
      },
      "execution_count": 6,
      "outputs": []
    },
    {
      "cell_type": "markdown",
      "source": [
        "## 3. 데이터 정제 및 토큰화\n",
        "\n",
        "1. set 데이터형이 중복을 허용하지 않는다는 것을 활용해 중복된 데이터를 제거하도록 합니다. 데이터의 병렬 쌍이 흐트러지지 않게 주의하세요! 중복을 제거한 데이터를 cleaned_corpus 에 저장합니다.\n",
        "<br><br>\n",
        "\n",
        "2. 정제 함수를 아래 조건을 만족하게 정의하세요.\n",
        "  - 모든 입력을 소문자로 변환합니다.\n",
        "  - 알파벳, 문장부호, 한글만 남기고 모두 제거합니다.\n",
        "  - 문장부호 양옆에 공백을 추가합니다.\n",
        "  - 문장 앞뒤의 불필요한 공백을 제거합니다.\n",
        "<br><Br>\n",
        "\n",
        "3. 한글 말뭉치 kor_corpus 와 영문 말뭉치 eng_corpus 를 각각 분리한 후, 정제하여 토큰화를 진행합니다! 토큰화에는 Sentencepiece를 활용하세요. 첨부된 공식 사이트를 참고해 아래 조건을 만족하는 generate_tokenizer() 함수를 정의합니다. 최종적으로 ko_tokenizer 과 en_tokenizer 를 얻으세요. en_tokenizer에는 set_encode_extra_options(\"bos:eos\") 함수를 실행해 타겟 입력이 문장의 시작 토큰과 끝 토큰을 포함할 수 있게 합니다.\n",
        "  - https://github.com/google/sentencepiece\n",
        "    - 단어 사전을 매개변수로 받아 원하는 크기의 사전을 정의할 수 있게 합니다. (기본: 20,000)\n",
        "    - 학습 후 저장된 model 파일을 SentencePieceProcessor() 클래스에 Load()한 후 반환합니다.\n",
        "    - 특수 토큰의 인덱스를 아래와 동일하게 지정합니다.\n",
        "PAD : 0 / BOS : 1 / EOS : 2 / UNK : 3\n",
        "<br><Br>\n",
        "\n",
        "4. 토크나이저를 활용해 토큰의 길이가 50 이하인 데이터를 선별하여 src_corpus 와 tgt_corpus 를 각각 구축하고, 텐서 enc_train 과 dec_train 으로 변환하세요! (❗모든 데이터를 사용할 경우 학습에 굉장히 오랜 시간이 걸립니다.)"
      ],
      "metadata": {
        "id": "filZHzQSwfMH"
      }
    },
    {
      "cell_type": "markdown",
      "source": [
        "### 1) set 데이터형으로 변환"
      ],
      "metadata": {
        "id": "GYiDM6CU2OoG"
      }
    },
    {
      "cell_type": "code",
      "source": [
        "# 데이터 정제 및 토큰화\n",
        "def clean_corpus(kor_path, eng_path):\n",
        "    with open(kor_path, \"r\") as f: kor = f.read().splitlines()\n",
        "    with open(eng_path, \"r\") as f: eng = f.read().splitlines()\n",
        "    assert len(kor) == len(eng)\n",
        "\n",
        "    cleaned_corpus = list(set(zip(kor, eng)))\n",
        "\n",
        "    return cleaned_corpus\n",
        "\n",
        "cleaned_corpus = clean_corpus(path_train_ko, path_train_en)"
      ],
      "metadata": {
        "id": "BmlqerERcl6R"
      },
      "execution_count": 7,
      "outputs": []
    },
    {
      "cell_type": "code",
      "source": [
        "# cleaned_corpus = list(set(zip(raw_ko, raw_en)))"
      ],
      "metadata": {
        "id": "o_v1KC8ZwgFA"
      },
      "execution_count": 8,
      "outputs": []
    },
    {
      "cell_type": "code",
      "source": [
        "len(cleaned_corpus)"
      ],
      "metadata": {
        "colab": {
          "base_uri": "https://localhost:8080/"
        },
        "id": "W2YX4yxszWbb",
        "outputId": "93a39d6f-dd6e-4c12-9af3-54d2e5bb9bb4"
      },
      "execution_count": 9,
      "outputs": [
        {
          "output_type": "execute_result",
          "data": {
            "text/plain": [
              "78968"
            ]
          },
          "metadata": {},
          "execution_count": 9
        }
      ]
    },
    {
      "cell_type": "code",
      "source": [
        "for pair in cleaned_corpus[:10]:\n",
        "    print(pair)\n",
        "    print('pair 0 :',pair[0])\n",
        "    print('pair 1 :',pair[1])"
      ],
      "metadata": {
        "colab": {
          "base_uri": "https://localhost:8080/"
        },
        "id": "xx0ppTEP1mtR",
        "outputId": "87538249-fa87-4c30-e185-e649ef846507"
      },
      "execution_count": 10,
      "outputs": [
        {
          "output_type": "stream",
          "name": "stdout",
          "text": [
            "('라니에리 감독은 “카모라네시가 물러날 때까지 조직력은 살아있었다”며 “후반전에는 경기가 전혀 안 풀렸다”고 덧붙였다.', 'In the second half, we had trouble.')\n",
            "pair 0 : 라니에리 감독은 “카모라네시가 물러날 때까지 조직력은 살아있었다”며 “후반전에는 경기가 전혀 안 풀렸다”고 덧붙였다.\n",
            "pair 1 : In the second half, we had trouble.\n",
            "('원문기사', 'The body of a fourth person')\n",
            "pair 0 : 원문기사\n",
            "pair 1 : The body of a fourth person\n",
            "('경제학자들과 제조업체들은 세계적으로 밀 가격이 인상돼 파스타 가격이 인상됐다고 말했다.', 'The increase in pasta prices is being driven by rising wheat prices worldwide, economists and producers say.')\n",
            "pair 0 : 경제학자들과 제조업체들은 세계적으로 밀 가격이 인상돼 파스타 가격이 인상됐다고 말했다.\n",
            "pair 1 : The increase in pasta prices is being driven by rising wheat prices worldwide, economists and producers say.\n",
            "('짐 맥테비아 금융구조조정 컨설턴트는 합병 이전 크라이슬러는 불확실한 위치에 서 있었다고 전했다.', 'Jim McTevia, a Detroit restructuring consultant, said Chrysler was in a precarious position before the deal. \"I really believe that had this not taken place, Chrysler would have ultimately been sold off in pieces,\" he said.')\n",
            "pair 0 : 짐 맥테비아 금융구조조정 컨설턴트는 합병 이전 크라이슬러는 불확실한 위치에 서 있었다고 전했다.\n",
            "pair 1 : Jim McTevia, a Detroit restructuring consultant, said Chrysler was in a precarious position before the deal. \"I really believe that had this not taken place, Chrysler would have ultimately been sold off in pieces,\" he said.\n",
            "('그는 “오늘 이 자리에 모인 많은 사람들이 의문을 품고 있다”며 “그가 재판에 회부되지 않은 것은 경찰관, 법의학자, 검찰 모두에게 책임이 있다”고 주장했다.', ', forensic scientists and prosecution lawyers all shared responsibility for the courtroom failure.')\n",
            "pair 0 : 그는 “오늘 이 자리에 모인 많은 사람들이 의문을 품고 있다”며 “그가 재판에 회부되지 않은 것은 경찰관, 법의학자, 검찰 모두에게 책임이 있다”고 주장했다.\n",
            "pair 1 : , forensic scientists and prosecution lawyers all shared responsibility for the courtroom failure.\n",
            "('“오늘 저희 위원회는 클린턴 차기 미 국무장관의 청문회 출석을 진심으로 환영하는 바입니다.”', \"“We are honored to welcome her here today to our committee for confirmation as America's next Secretary of State.”\")\n",
            "pair 0 : “오늘 저희 위원회는 클린턴 차기 미 국무장관의 청문회 출석을 진심으로 환영하는 바입니다.”\n",
            "pair 1 : “We are honored to welcome her here today to our committee for confirmation as America's next Secretary of State.”\n",
            "('조경업체인 유엘트리팜스의 관리자이자 조샤프친환경 조경조합에 속한 ‘Coalition of Environmentally Conscious Growers’의 공동창업자는 “소비자들이 올바른 선택을 하길 바란다”며 “우리는 이를 위한 교육을 지원하고 있다”고 말했다.', '\"Consumers like to do the right thing,\" said Joe Sharp, managing partner of Yule Tree Farms and co-founder of the Coalition of Environmentally Conscious Growers. \"We are just helping with education.')\n",
            "pair 0 : 조경업체인 유엘트리팜스의 관리자이자 조샤프친환경 조경조합에 속한 ‘Coalition of Environmentally Conscious Growers’의 공동창업자는 “소비자들이 올바른 선택을 하길 바란다”며 “우리는 이를 위한 교육을 지원하고 있다”고 말했다.\n",
            "pair 1 : \"Consumers like to do the right thing,\" said Joe Sharp, managing partner of Yule Tree Farms and co-founder of the Coalition of Environmentally Conscious Growers. \"We are just helping with education.\n",
            "('일부에선 남한 정부가 추진하고 있는 친북 전략에 대한 변화를 주장하고 있지만 다른 한편에서는 북한의 움직임이 비난 받아 마땅하지만 정부의 한민족 공존 및 남북한 협력 정신은 흔들리지 말아야 한다며 맞서고 있다.', \"While some urge the government to change its North-friendly policies, others say that although the North deserves criticism, the government's pursuit of a spirit of co-existence and inter-Korean cooperation should not be shaken.\")\n",
            "pair 0 : 일부에선 남한 정부가 추진하고 있는 친북 전략에 대한 변화를 주장하고 있지만 다른 한편에서는 북한의 움직임이 비난 받아 마땅하지만 정부의 한민족 공존 및 남북한 협력 정신은 흔들리지 말아야 한다며 맞서고 있다.\n",
            "pair 1 : While some urge the government to change its North-friendly policies, others say that although the North deserves criticism, the government's pursuit of a spirit of co-existence and inter-Korean cooperation should not be shaken.\n",
            "('1997년 한때 차 안에서든 운동을 하던 중이든 어디서든 셀린 디온이 부른 영화 ‘타이타닉’ 주제곡 ‘마이 하트 윌 고 온(My Heart Will Go On)’이 들려왔다.', 'LOS ANGELES, California (CNN) There was a time around 1997 when no matter where you were in the car, on the StairMaster, at the dentist\\'s office you couldn\\'t help but hear \"My Heart Will Go On,\" the soaring Celine Dion ballad from \"Titanic.')\n",
            "pair 0 : 1997년 한때 차 안에서든 운동을 하던 중이든 어디서든 셀린 디온이 부른 영화 ‘타이타닉’ 주제곡 ‘마이 하트 윌 고 온(My Heart Will Go On)’이 들려왔다.\n",
            "pair 1 : LOS ANGELES, California (CNN) There was a time around 1997 when no matter where you were in the car, on the StairMaster, at the dentist's office you couldn't help but hear \"My Heart Will Go On,\" the soaring Celine Dion ballad from \"Titanic.\n",
            "('사우스웨스트코브 해수욕장을 20년째 이용하고 있는 데이비드 팀슨은 “우리는 아이들을 비롯한 가족들이 이곳을 안전하고 쾌적한 장소로 인식할 수 있도록 노력을 기울인다”며 “누드 해수욕객이 이곳을 장악했다는 소리는 아직 듣지 못했다”고 강조했다.', '\"We try to make it clean, safe and enjoyable for everyone, that includes families with children, that includes anyone from anywhere, and yet we\\'re being accused of dominating the area,\" said David Timson of St. Johnsbury, who has been going to Southwest Cove for 20 years. He is head of a newly formed organization called Friends of Southwest Cove.')\n",
            "pair 0 : 사우스웨스트코브 해수욕장을 20년째 이용하고 있는 데이비드 팀슨은 “우리는 아이들을 비롯한 가족들이 이곳을 안전하고 쾌적한 장소로 인식할 수 있도록 노력을 기울인다”며 “누드 해수욕객이 이곳을 장악했다는 소리는 아직 듣지 못했다”고 강조했다.\n",
            "pair 1 : \"We try to make it clean, safe and enjoyable for everyone, that includes families with children, that includes anyone from anywhere, and yet we're being accused of dominating the area,\" said David Timson of St. Johnsbury, who has been going to Southwest Cove for 20 years. He is head of a newly formed organization called Friends of Southwest Cove.\n"
          ]
        }
      ]
    },
    {
      "cell_type": "markdown",
      "source": [
        "### 2) 데이터 정제"
      ],
      "metadata": {
        "id": "xnxLErUCzbLL"
      }
    },
    {
      "cell_type": "code",
      "source": [
        "def preprocess_sentence(sentence, e_token=False):\n",
        "    sentence = sentence.lower().strip()\n",
        "    sentence = re.sub(r\"([?.!,])\", r\" \\1 \", sentence)\n",
        "    sentence = re.sub(r'[\" \"]+', \" \", sentence)\n",
        "    sentence = re.sub(r\"[^가-힣ㄱ-ㅎㅏ-ㅣa-zA-Z?.!,]+\", \" \", sentence)\n",
        "    sentence = sentence.strip()\n",
        "\n",
        "    return sentence"
      ],
      "metadata": {
        "id": "0pU-9je5zi_0"
      },
      "execution_count": 11,
      "outputs": []
    },
    {
      "cell_type": "markdown",
      "source": [
        "### 3) SentencePiece"
      ],
      "metadata": {
        "id": "JklnNGeK2Fic"
      }
    },
    {
      "cell_type": "code",
      "source": [
        "eng_corpus = []\n",
        "kor_corpus = []\n",
        "\n",
        "#num_examples = 20000\n",
        "\n",
        "for pair in cleaned_corpus:#[:num_examples]:\n",
        "    kor_corpus.append(preprocess_sentence(pair[0]))\n",
        "    eng_corpus.append(preprocess_sentence(pair[1]))\n",
        "\n",
        "print(\"한국어:\", kor_corpus[100])   # go away !\n",
        "print(\"영어:\", eng_corpus[100])"
      ],
      "metadata": {
        "colab": {
          "base_uri": "https://localhost:8080/"
        },
        "id": "MN3DXp040NwP",
        "outputId": "477b98cd-8a1c-4495-884d-35da92e0ea1f"
      },
      "execution_count": 12,
      "outputs": [
        {
          "output_type": "stream",
          "name": "stdout",
          "text": [
            "한국어: 이 변화는 현재의 체계가 항공사들의 재정에 너무 심하게 세금을 물리고 있다는 항공사들의 불만에 대한 답이다 .\n",
            "영어: the change is in response to airline complaints that the current system taxes their finances too heavily .\n"
          ]
        }
      ]
    },
    {
      "cell_type": "markdown",
      "source": [
        "- https://paul-hyun.github.io/vocab-with-sentencepiece/\n",
        "- https://www.programcreek.com/python/example/117288/sentencepiece.SentencePieceProcessor"
      ],
      "metadata": {
        "id": "Y_P2UQxgFdoF"
      }
    },
    {
      "cell_type": "code",
      "source": [
        "def generate_tokenizer(corpus, Mtype, vocab_size, ko_en):\n",
        "  temp_file = '/content/drive/MyDrive/인공지능/아이펠/GoingDeeper/제출용/data/transformer_translator/ratings_train_{}.txt.temp'.format(ko_en)\n",
        "  model_prefix = 'spm_{}'.format(ko_en)\n",
        "  with open(temp_file, 'w') as f:\n",
        "      for row in corpus:   # 이전 스텝에서 정제했던 corpus를 활용합니다.\n",
        "          f.write(str(row) + '\\n')\n",
        "\n",
        "  if Mtype == 'bpe' or Mtype == 'unigram' or Mtype == 'char'or Mtype == 'word':\n",
        "    spm.SentencePieceTrainer.Train(\n",
        "        f\"--input={temp_file} --model_prefix={model_prefix} --vocab_size={vocab_size} --model_type={Mtype}\"+\n",
        "        \" --pad_id=0 --pad_piece=[PAD]\" + \n",
        "        \" --unk_id=1 --unk_piece=[UNK]\" + \n",
        "        \" --bos_id=2 --bos_piece=[BOS]\" + \n",
        "        \" --eos_id=3 --eos_piece=[EOS]\".format(temp_file, model_prefix, vocab_size, Mtype)    \n",
        "    )\n",
        "  else:\n",
        "    print(\"Mtype를 잘 못 입력 했습니다 'bpe', 'unigram', 'char', 'word' 중 하나를 입력해주세요\")\n",
        "    if __name__ == \"__main__\": # 참조 : https://www.delftstack.com/ko/howto/python/python-exit-if-statement/\n",
        "      load_data(0)  \n",
        "      print(\"Broken out\")\n",
        "  \n",
        "  #위 Train에서  --model_type = 'unigram'이 디폴트 적용되어 있습니다. --model_type = 'bpe' 로 옵션을 주어 변경할 수 있습니다.\n",
        "\n",
        "  s = spm.SentencePieceProcessor()\n",
        "  s.Load(model_prefix+'.model')\n",
        "  if model_prefix == 'spm_en':\n",
        "    s.set_encode_extra_options(\"bos:eos\")\n",
        "\n",
        "  return s"
      ],
      "metadata": {
        "id": "w0Mmn3cn2bCG"
      },
      "execution_count": 13,
      "outputs": []
    },
    {
      "cell_type": "code",
      "source": [
        "ko_tokenizer = generate_tokenizer(kor_corpus, 'unigram', 20000, 'ko')\n",
        "en_tokenizer = generate_tokenizer(eng_corpus, 'unigram', 20000, 'en')\n",
        "# SP_model_train('bpe', 8000)\n",
        "# SP_model_train('char', 8000)\n",
        "# SP_model_train('word', 8000)\n",
        "# SP_model_train('char', 16000)"
      ],
      "metadata": {
        "id": "q93kMyaN24qT"
      },
      "execution_count": 14,
      "outputs": []
    },
    {
      "cell_type": "code",
      "source": [
        "!ls -l spm_ko*"
      ],
      "metadata": {
        "colab": {
          "base_uri": "https://localhost:8080/"
        },
        "id": "YcxBXwJwAbwe",
        "outputId": "2eb7631c-8028-4a08-c0a6-028044c28905"
      },
      "execution_count": 15,
      "outputs": [
        {
          "output_type": "stream",
          "name": "stdout",
          "text": [
            "-rw-r--r-- 1 root root 623747 Oct 14 03:01 spm_ko.model\n",
            "-rw-r--r-- 1 root root 403547 Oct 14 03:01 spm_ko.vocab\n"
          ]
        }
      ]
    },
    {
      "cell_type": "code",
      "source": [
        "!ls -l spm_en*"
      ],
      "metadata": {
        "colab": {
          "base_uri": "https://localhost:8080/"
        },
        "id": "l8-haG6Z3GvW",
        "outputId": "cbd9827f-5db3-4a16-c212-840b0f5483c5"
      },
      "execution_count": 16,
      "outputs": [
        {
          "output_type": "stream",
          "name": "stdout",
          "text": [
            "-rw-r--r-- 1 root root 575645 Oct 14 03:02 spm_en.model\n",
            "-rw-r--r-- 1 root root 355536 Oct 14 03:02 spm_en.vocab\n"
          ]
        }
      ]
    },
    {
      "cell_type": "markdown",
      "source": [
        "### 4) 토큰화\n",
        "- https://lsjsj92.tistory.com/600\n",
        "- https://wikidocs.net/86657"
      ],
      "metadata": {
        "id": "GT3rR4XlL-Sr"
      }
    },
    {
      "cell_type": "code",
      "source": [
        "src_corpus = []\n",
        "tgt_corpus = []\n",
        "\n",
        "assert len(kor_corpus) == len(eng_corpus)\n",
        "\n",
        "# 토큰의 길이가 50 이하인 문장만 남깁니다. \n",
        "for idx in tqdm(range(len(kor_corpus))):\n",
        "        ko_pair = ko_tokenizer.encode_as_ids(kor_corpus[idx])\n",
        "        en_pair = en_tokenizer.encode_as_ids(eng_corpus[idx])\n",
        "        if len(ko_pair) <= 50 and len(en_pair) <= 50: # 영어는 52로 지정한 이유는 eos, bos가 추가되었기 때문이다.\n",
        "            src_corpus.append(ko_pair)\n",
        "            tgt_corpus.append(en_pair)\n",
        "\n",
        "# 패딩처리를 완료하여 학습용 데이터를 완성합니다. \n",
        "enc_train = tf.keras.preprocessing.sequence.pad_sequences(src_corpus, padding='post')\n",
        "dec_train = tf.keras.preprocessing.sequence.pad_sequences(tgt_corpus, padding='post')"
      ],
      "metadata": {
        "colab": {
          "base_uri": "https://localhost:8080/",
          "height": 49,
          "referenced_widgets": [
            "f9fe94a3dad44f7e921193c32bb0a9b5",
            "a0d051739b1f40fcb78d27c896b2a68d",
            "74b867d58a2e417e9cf4c28e1cb10b26",
            "7824cba08d094559a3d89483ef945f7d",
            "6dc171b5ef914a03986a24f13537c3a0",
            "7de144d9a851417cb87541da503b13df",
            "f2167333ef4149ba926b26be2c4fb27d",
            "03b613f0d01447c199ef597b9be708cc",
            "2dbc719533fd4200a1b8049edd176ba6",
            "3e6dddb172cc41bfae2df9fd8a3072a0",
            "3b27d52433164ca08927f04a7b4e9bb1"
          ]
        },
        "id": "2zaWohVtfFHA",
        "outputId": "0060a30f-a846-43a7-ecbe-0dc4a8020c25"
      },
      "execution_count": 17,
      "outputs": [
        {
          "output_type": "display_data",
          "data": {
            "text/plain": [
              "  0%|          | 0/78968 [00:00<?, ?it/s]"
            ],
            "application/vnd.jupyter.widget-view+json": {
              "version_major": 2,
              "version_minor": 0,
              "model_id": "f9fe94a3dad44f7e921193c32bb0a9b5"
            }
          },
          "metadata": {}
        }
      ]
    },
    {
      "cell_type": "code",
      "source": [
        "# 훈련 데이터와 검증 데이터로 분리하기\n",
        "enc_train, enc_test, dec_train, dec_test = \\\n",
        "train_test_split(enc_train, dec_train, test_size=0.2)\n",
        "\n",
        "enc_train_size = len(enc_train)\n",
        "dec_train_size = len(dec_train)\n",
        "enc_test_size = len(enc_test)\n",
        "dec_test_size = len(dec_test)\n",
        "print(\"한국어 train Size:\", enc_train_size)\n",
        "print(\"영어 train Size:\", dec_train_size)\n",
        "print(\"한국어 test Size:\", enc_test_size)\n",
        "print(\"영어 test Size:\", dec_test_size)\n",
        "print('한국어 shape : ', enc_train.shape)\n",
        "print('영어 shape : ', dec_train.shape)\n"
      ],
      "metadata": {
        "colab": {
          "base_uri": "https://localhost:8080/"
        },
        "id": "0vsbNTj6kIjh",
        "outputId": "a6ab0ce7-f2da-4d66-b09c-d0bd55f36f23"
      },
      "execution_count": 18,
      "outputs": [
        {
          "output_type": "stream",
          "name": "stdout",
          "text": [
            "한국어 train Size: 57714\n",
            "영어 train Size: 57714\n",
            "한국어 test Size: 14429\n",
            "영어 test Size: 14429\n",
            "한국어 shape :  (57714, 50)\n",
            "영어 shape :  (57714, 50)\n"
          ]
        }
      ]
    },
    {
      "cell_type": "code",
      "source": [
        "# src_corpus = []\n",
        "# tgt_corpus = []\n",
        "\n",
        "# num_examples = 20000\n",
        "\n",
        "# for pair in cleaned_corpus[:num_examples]:\n",
        "#     ko_pair = ko_tokenizer.encode_as_pieces(pair[0])\n",
        "#     en_pair = en_tokenizer.encode_as_pieces(pair[1])\n",
        "#     if len(ko_pair) >= 50 or len(en_pair) >= 52:\n",
        "#         src_corpus.append(ko_pair)\n",
        "#         tgt_corpus.append(en_pair)\n",
        "\n",
        "# print(\"한국어:\", src_corpus[100])   # go away !\n",
        "# print(\"영어:\", tgt_corpus[100])"
      ],
      "metadata": {
        "id": "Xg8LNlBnZQ9a"
      },
      "execution_count": 19,
      "outputs": []
    },
    {
      "cell_type": "code",
      "source": [
        "# def tokenize(corpus):\n",
        "#     tokenizer = tf.keras.preprocessing.text.Tokenizer(filters='')\n",
        "#     tokenizer.fit_on_texts(corpus)\n",
        "\n",
        "#     tensor = tokenizer.texts_to_sequences(corpus)\n",
        "\n",
        "#     tensor = tf.keras.preprocessing.sequence.pad_sequences(tensor, padding='post')\n",
        "\n",
        "#     return tensor, tokenizer"
      ],
      "metadata": {
        "id": "LVjipDUDaZ4o"
      },
      "execution_count": 20,
      "outputs": []
    },
    {
      "cell_type": "code",
      "source": [
        "# # 토큰화하기\n",
        "# enc_tensor, enc_tokenizer = tokenize(src_corpus)\n",
        "# dec_tensor, dec_tokenizer = tokenize(tgt_corpus)\n",
        "\n",
        "# # 훈련 데이터와 검증 데이터로 분리하기\n",
        "# enc_train, enc_val, dec_train, dec_val = \\\n",
        "# train_test_split(enc_train, dec_train, test_size=0.2)\n",
        "\n",
        "# print(\"한국어 Vocab Size:\", len(enc_tokenizer.index_word))\n",
        "# print(\"영어 Vocab Size:\", len(dec_tokenizer.index_word))"
      ],
      "metadata": {
        "id": "qJat6LxNaazg"
      },
      "execution_count": 21,
      "outputs": []
    },
    {
      "cell_type": "markdown",
      "source": [
        "## 4. 모델 설계"
      ],
      "metadata": {
        "id": "F2xkL8hAwhzp"
      }
    },
    {
      "cell_type": "code",
      "source": [
        "def positional_encoding(pos, d_model):\n",
        "    def cal_angle(position, i):\n",
        "        return position / np.power(10000, int(i) / d_model)\n",
        "\n",
        "    def get_posi_angle_vec(position):\n",
        "        return [cal_angle(position, i) for i in range(d_model)]\n",
        "\n",
        "    sinusoid_table = np.array([get_posi_angle_vec(pos_i) for pos_i in range(pos)])\n",
        "    sinusoid_table[:, 0::2] = np.sin(sinusoid_table[:, 0::2])\n",
        "    sinusoid_table[:, 1::2] = np.cos(sinusoid_table[:, 1::2])\n",
        "    return sinusoid_table"
      ],
      "metadata": {
        "id": "PclniQ0lwinw"
      },
      "execution_count": 22,
      "outputs": []
    },
    {
      "cell_type": "code",
      "source": [
        "class MultiHeadAttention(tf.keras.layers.Layer):\n",
        "    def __init__(self, d_model, num_heads):\n",
        "        super(MultiHeadAttention, self).__init__()\n",
        "        self.num_heads = num_heads\n",
        "        self.d_model = d_model\n",
        "            \n",
        "        self.depth = d_model // self.num_heads\n",
        "            \n",
        "        self.W_q = tf.keras.layers.Dense(d_model)\n",
        "        self.W_k = tf.keras.layers.Dense(d_model)\n",
        "        self.W_v = tf.keras.layers.Dense(d_model)\n",
        "            \n",
        "        self.linear = tf.keras.layers.Dense(d_model)\n",
        "\n",
        "    def scaled_dot_product_attention(self, Q, K, V, mask):\n",
        "        d_k = tf.cast(K.shape[-1], tf.float32)\n",
        "        QK = tf.matmul(Q, K, transpose_b=True)\n",
        "\n",
        "        scaled_qk = QK / tf.math.sqrt(d_k)\n",
        "\n",
        "        if mask is not None: scaled_qk += (mask * -1e9)  \n",
        "\n",
        "        attentions = tf.nn.softmax(scaled_qk, axis=-1)\n",
        "        out = tf.matmul(attentions, V)\n",
        "\n",
        "        return out, attentions\n",
        "            \n",
        "\n",
        "    def split_heads(self, x):\n",
        "        batch_size = x.shape[0]\n",
        "        split_x = tf.reshape(x, (batch_size, -1, self.num_heads, self.depth))\n",
        "        split_x = tf.transpose(split_x, perm=[0, 2, 1, 3])\n",
        "\n",
        "        return split_x\n",
        "\n",
        "    def combine_heads(self, x):\n",
        "        batch_size = x.shape[0]\n",
        "        combined_x = tf.transpose(x, perm=[0, 2, 1, 3])\n",
        "        combined_x = tf.reshape(combined_x, (batch_size, -1, self.d_model))\n",
        "\n",
        "        return combined_x\n",
        "\n",
        "        \n",
        "    def call(self, Q, K, V, mask):\n",
        "        WQ = self.W_q(Q)\n",
        "        WK = self.W_k(K)\n",
        "        WV = self.W_v(V)\n",
        "        \n",
        "        WQ_splits = self.split_heads(WQ)\n",
        "        WK_splits = self.split_heads(WK)\n",
        "        WV_splits = self.split_heads(WV)\n",
        "            \n",
        "        out, attention_weights = self.scaled_dot_product_attention(\n",
        "            WQ_splits, WK_splits, WV_splits, mask)\n",
        "    \t\t\t\t        \n",
        "        out = self.combine_heads(out)\n",
        "        out = self.linear(out)\n",
        "                \n",
        "        return out, attention_weights"
      ],
      "metadata": {
        "id": "6EDEJBlWb-r4"
      },
      "execution_count": 23,
      "outputs": []
    },
    {
      "cell_type": "code",
      "source": [
        "class PoswiseFeedForwardNet(tf.keras.layers.Layer):\n",
        "    def __init__(self, d_model, d_ff):\n",
        "        super(PoswiseFeedForwardNet, self).__init__()\n",
        "        self.w_1 = tf.keras.layers.Dense(d_ff, activation='relu')\n",
        "        self.w_2 = tf.keras.layers.Dense(d_model)\n",
        "\n",
        "    def call(self, x):\n",
        "        out = self.w_1(x)\n",
        "        out = self.w_2(out)\n",
        "            \n",
        "        return out"
      ],
      "metadata": {
        "id": "LZL55rB5cBMx"
      },
      "execution_count": 24,
      "outputs": []
    },
    {
      "cell_type": "code",
      "source": [
        "class EncoderLayer(tf.keras.layers.Layer):\n",
        "    def __init__(self, d_model, n_heads, d_ff, dropout):\n",
        "        super(EncoderLayer, self).__init__()\n",
        "\n",
        "        self.enc_self_attn = MultiHeadAttention(d_model, n_heads)\n",
        "        self.ffn = PoswiseFeedForwardNet(d_model, d_ff)\n",
        "\n",
        "        self.norm_1 = tf.keras.layers.LayerNormalization(epsilon=1e-6)\n",
        "        self.norm_2 = tf.keras.layers.LayerNormalization(epsilon=1e-6)\n",
        "\n",
        "        self.dropout = tf.keras.layers.Dropout(dropout)\n",
        "        \n",
        "    def call(self, x, mask):\n",
        "\n",
        "        \"\"\"\n",
        "        Multi-Head Attention\n",
        "        \"\"\"\n",
        "        residual = x\n",
        "        out = self.norm_1(x)\n",
        "        out, enc_attn = self.enc_self_attn(out, out, out, mask)\n",
        "        out = self.dropout(out)\n",
        "        out += residual\n",
        "        \n",
        "        \"\"\"\n",
        "        Position-Wise Feed Forward Network\n",
        "        \"\"\"\n",
        "        residual = out\n",
        "        out = self.norm_2(out)\n",
        "        out = self.ffn(out)\n",
        "        out = self.dropout(out)\n",
        "        out += residual\n",
        "        \n",
        "        return out, enc_attn"
      ],
      "metadata": {
        "id": "iyy8GZ4RcC9W"
      },
      "execution_count": 25,
      "outputs": []
    },
    {
      "cell_type": "code",
      "source": [
        "class DecoderLayer(tf.keras.layers.Layer):\n",
        "    def __init__(self, d_model, num_heads, d_ff, dropout):\n",
        "        super(DecoderLayer, self).__init__()\n",
        "\n",
        "        self.dec_self_attn = MultiHeadAttention(d_model, num_heads)\n",
        "        self.enc_dec_attn = MultiHeadAttention(d_model, num_heads)\n",
        "\n",
        "        self.ffn = PoswiseFeedForwardNet(d_model, d_ff)\n",
        "\n",
        "        self.norm_1 = tf.keras.layers.LayerNormalization(epsilon=1e-6)\n",
        "        self.norm_2 = tf.keras.layers.LayerNormalization(epsilon=1e-6)\n",
        "        self.norm_3 = tf.keras.layers.LayerNormalization(epsilon=1e-6)\n",
        "\n",
        "        self.dropout = tf.keras.layers.Dropout(dropout)\n",
        "    \n",
        "    def call(self, x, enc_out, causality_mask, padding_mask):\n",
        "\n",
        "        \"\"\"\n",
        "        Masked Multi-Head Attention\n",
        "        \"\"\"\n",
        "        residual = x\n",
        "        out = self.norm_1(x)\n",
        "        out, dec_attn = self.dec_self_attn(out, out, out, padding_mask)\n",
        "        out = self.dropout(out)\n",
        "        out += residual\n",
        "\n",
        "        \"\"\"\n",
        "        Multi-Head Attention\n",
        "        \"\"\"\n",
        "        residual = out\n",
        "        out = self.norm_2(out)\n",
        "        out, dec_enc_attn = self.enc_dec_attn(out, enc_out, enc_out, causality_mask)\n",
        "        out = self.dropout(out)\n",
        "        out += residual\n",
        "        \n",
        "        \"\"\"\n",
        "        Position-Wise Feed Forward Network\n",
        "        \"\"\"\n",
        "        residual = out\n",
        "        out = self.norm_3(out)\n",
        "        out = self.ffn(out)\n",
        "        out = self.dropout(out)\n",
        "        out += residual\n",
        "\n",
        "        return out, dec_attn, dec_enc_attn\n",
        " "
      ],
      "metadata": {
        "id": "rZqwP2v3cEn8"
      },
      "execution_count": 26,
      "outputs": []
    },
    {
      "cell_type": "code",
      "source": [
        "class Encoder(tf.keras.Model):\n",
        "    def __init__(self,\n",
        "                 n_layers,\n",
        "                 d_model,\n",
        "                 n_heads,\n",
        "                 d_ff,\n",
        "                 dropout):\n",
        "        super(Encoder, self).__init__()\n",
        "        self.n_layers = n_layers\n",
        "        self.enc_layers = [EncoderLayer(d_model, n_heads, d_ff, dropout) \n",
        "                        for _ in range(n_layers)]\n",
        "        \n",
        "    def call(self, x, mask):\n",
        "        out = x\n",
        "    \n",
        "        enc_attns = list()\n",
        "        for i in range(self.n_layers):\n",
        "            out, enc_attn = self.enc_layers[i](out, mask)\n",
        "            enc_attns.append(enc_attn)\n",
        "        \n",
        "        return out, enc_attns"
      ],
      "metadata": {
        "id": "VlVGdecGcGKY"
      },
      "execution_count": 27,
      "outputs": []
    },
    {
      "cell_type": "code",
      "source": [
        "class Decoder(tf.keras.Model):\n",
        "    def __init__(self,\n",
        "                 n_layers,\n",
        "                 d_model,\n",
        "                 n_heads,\n",
        "                 d_ff,\n",
        "                 dropout):\n",
        "        super(Decoder, self).__init__()\n",
        "        self.n_layers = n_layers\n",
        "        self.dec_layers = [DecoderLayer(d_model, n_heads, d_ff, dropout) \n",
        "                            for _ in range(n_layers)]\n",
        "                            \n",
        "                            \n",
        "    def call(self, x, enc_out, causality_mask, padding_mask):\n",
        "        out = x\n",
        "    \n",
        "        dec_attns = list()\n",
        "        dec_enc_attns = list()\n",
        "        for i in range(self.n_layers):\n",
        "            out, dec_attn, dec_enc_attn = \\\n",
        "            self.dec_layers[i](out, enc_out, causality_mask, padding_mask)\n",
        "\n",
        "            dec_attns.append(dec_attn)\n",
        "            dec_enc_attns.append(dec_enc_attn)\n",
        "\n",
        "        return out, dec_attns, dec_enc_attns"
      ],
      "metadata": {
        "id": "jM_9BCGOcHN4"
      },
      "execution_count": 28,
      "outputs": []
    },
    {
      "cell_type": "code",
      "source": [
        "class Transformer(tf.keras.Model):\n",
        "    def __init__(self,\n",
        "                    n_layers,\n",
        "                    d_model,\n",
        "                    n_heads,\n",
        "                    d_ff,\n",
        "                    src_vocab_size,\n",
        "                    tgt_vocab_size,\n",
        "                    pos_len,\n",
        "                    dropout=0.2,\n",
        "                    shared=True):\n",
        "        super(Transformer, self).__init__()\n",
        "        self.d_model = tf.cast(d_model, tf.float32)\n",
        "\n",
        "        self.enc_emb = tf.keras.layers.Embedding(src_vocab_size, d_model)\n",
        "        self.dec_emb = tf.keras.layers.Embedding(tgt_vocab_size, d_model)\n",
        "\n",
        "        self.pos_encoding = positional_encoding(pos_len, d_model)\n",
        "        self.dropout = tf.keras.layers.Dropout(dropout)\n",
        "\n",
        "        self.encoder = Encoder(n_layers, d_model, n_heads, d_ff, dropout)\n",
        "        self.decoder = Decoder(n_layers, d_model, n_heads, d_ff, dropout)\n",
        "\n",
        "        self.fc = tf.keras.layers.Dense(tgt_vocab_size)\n",
        "\n",
        "        self.shared = shared\n",
        "\n",
        "        if shared: self.fc.set_weights(tf.transpose(self.dec_emb.weights))\n",
        "\n",
        "    def embedding(self, emb, x):\n",
        "        seq_len = x.shape[1]\n",
        "        out = emb(x)\n",
        "\n",
        "        if self.shared: out *= tf.math.sqrt(self.d_model)\n",
        "\n",
        "        out += self.pos_encoding[np.newaxis, ...][:, :seq_len, :]\n",
        "        out = self.dropout(out)\n",
        "\n",
        "        return out\n",
        "\n",
        "        \n",
        "    def call(self, enc_in, dec_in, enc_mask, causality_mask, dec_mask):\n",
        "        enc_in = self.embedding(self.enc_emb, enc_in)\n",
        "        dec_in = self.embedding(self.dec_emb, dec_in)\n",
        "\n",
        "        enc_out, enc_attns = self.encoder(enc_in, enc_mask)\n",
        "        \n",
        "        dec_out, dec_attns, dec_enc_attns = \\\n",
        "        self.decoder(dec_in, enc_out, causality_mask, dec_mask)\n",
        "        \n",
        "        logits = self.fc(dec_out)\n",
        "        \n",
        "        return logits, enc_attns, dec_attns, dec_enc_attns"
      ],
      "metadata": {
        "id": "eU0mJOHycIkZ"
      },
      "execution_count": 29,
      "outputs": []
    },
    {
      "cell_type": "code",
      "source": [
        "def generate_padding_mask(seq):\n",
        "    seq = tf.cast(tf.math.equal(seq, 0), tf.float32)\n",
        "    return seq[:, tf.newaxis, tf.newaxis, :]\n",
        "\n",
        "def generate_causality_mask(src_len, tgt_len):\n",
        "    mask = 1 - np.cumsum(np.eye(src_len, tgt_len), 0)\n",
        "    return tf.cast(mask, tf.float32)\n",
        "\n",
        "def generate_masks(src, tgt):\n",
        "    enc_mask = generate_padding_mask(src)\n",
        "    dec_mask = generate_padding_mask(tgt)\n",
        "\n",
        "    dec_enc_causality_mask = generate_causality_mask(tgt.shape[1], src.shape[1])\n",
        "    dec_enc_mask = tf.maximum(enc_mask, dec_enc_causality_mask)\n",
        "\n",
        "    dec_causality_mask = generate_causality_mask(tgt.shape[1], tgt.shape[1])\n",
        "    dec_mask = tf.maximum(dec_mask, dec_causality_mask)\n",
        "\n",
        "    return enc_mask, dec_enc_mask, dec_mask"
      ],
      "metadata": {
        "id": "7UfzccdycKri"
      },
      "execution_count": 30,
      "outputs": []
    },
    {
      "cell_type": "code",
      "source": [
        "import matplotlib.pyplot as plt\n",
        "\n",
        "batch, length = 16, 20\n",
        "src_padding = 5\n",
        "tgt_padding = 15\n",
        "\n",
        "src_pad = tf.zeros(shape=(batch, src_padding))\n",
        "tgt_pad = tf.zeros(shape=(batch, tgt_padding))\n",
        "\n",
        "sample_data = tf.ones(shape=(batch, length))\n",
        "\n",
        "sample_src = tf.concat([sample_data, src_pad], axis=-1)\n",
        "sample_tgt = tf.concat([sample_data, tgt_pad], axis=-1)\n",
        "\n",
        "enc_mask, dec_enc_mask, dec_mask = \\\n",
        "generate_masks(sample_src, sample_tgt)\n",
        "\n",
        "fig = plt.figure(figsize=(7, 7))\n",
        "\n",
        "ax1 = fig.add_subplot(131)\n",
        "ax2 = fig.add_subplot(132)\n",
        "ax3 = fig.add_subplot(133)\n",
        "\n",
        "ax1.set_title('1) Encoder Mask')\n",
        "ax2.set_title('2) Encoder-Decoder Mask')\n",
        "ax3.set_title('3) Decoder Mask')\n",
        "\n",
        "ax1.imshow(enc_mask[:3, 0, 0].numpy(), cmap='Dark2')\n",
        "ax2.imshow(dec_enc_mask[0, 0].numpy(), cmap='Dark2')\n",
        "ax3.imshow(dec_mask[0, 0].numpy(), cmap='Dark2')\n",
        "\n",
        "plt.show()"
      ],
      "metadata": {
        "colab": {
          "base_uri": "https://localhost:8080/",
          "height": 224
        },
        "id": "c727t9chcNJ9",
        "outputId": "e65502c2-60e0-419d-fdb4-1c66e1d97582"
      },
      "execution_count": 31,
      "outputs": [
        {
          "output_type": "display_data",
          "data": {
            "text/plain": [
              "<Figure size 504x504 with 3 Axes>"
            ],
            "image/png": "[encoded data removed]"
          },
          "metadata": {
            "needs_background": "light"
          }
        }
      ]
    },
    {
      "cell_type": "code",
      "source": [
        "class LearningRateScheduler(tf.keras.optimizers.schedules.LearningRateSchedule):\n",
        "    def __init__(self, d_model, warmup_steps=4000):\n",
        "        super(LearningRateScheduler, self).__init__()\n",
        "        self.d_model = d_model\n",
        "        self.warmup_steps = warmup_steps\n",
        "    \n",
        "    def __call__(self, step):\n",
        "        arg1 = step ** -0.5\n",
        "        arg2 = step * (self.warmup_steps ** -1.5)\n",
        "        \n",
        "        return (self.d_model ** -0.5) * tf.math.minimum(arg1, arg2)"
      ],
      "metadata": {
        "id": "P7bjhGDHcPfs"
      },
      "execution_count": 32,
      "outputs": []
    },
    {
      "cell_type": "markdown",
      "source": [
        "## 5. 훈련하기\n",
        "\n",
        "1. 2 Layer를 가지는 Transformer를 선언하세요.\n",
        "(하이퍼파라미터는 자유롭게 조절합니다.)\n",
        "<br><br>\n",
        "2. 논문에서 사용한 것과 동일한 Learning Rate Scheduler를 선언하고, 이를 포함하는 Adam Optimizer를 선언하세요. (Optimizer의 파라미터 역시 논문과 동일하게 설정합니다.)\n",
        "<br><br>\n",
        "3. Loss 함수를 정의하세요.\n",
        "Sequence-to-sequence 모델에서 사용했던 Loss와 유사하되, Masking 되지 않은 입력의 개수로 Scaling하는 과정을 추가합니다. (트랜스포머가 모든 입력에 대한 Loss를 한 번에 구하기 때문입니다.)\n",
        "<br><br>\n",
        "4. train_step 함수를 정의하세요.\n",
        "입력 데이터에 알맞은 Mask를 생성하고, 이를 모델에 전달하여 연산에서 사용할 수 있게 합니다.\n",
        "<br><br>\n",
        "5. 학습을 진행합니다.\n",
        "매 Epoch 마다 제시된 예문에 대한 번역을 생성하고, 멋진 번역이 생성되면 그때의 하이퍼파라미터와 생성된 번역을 제출하세요!\n"
      ],
      "metadata": {
        "id": "xp2_SYBDwji9"
      }
    },
    {
      "cell_type": "markdown",
      "source": [
        "### 1) 2 Layer를 가지는 Transformer를 선언\n",
        "- 클래스에 대한 이해가 부족한 것 같음\n",
        "\n"
      ],
      "metadata": {
        "id": "LfwhACsAFbMF"
      }
    },
    {
      "cell_type": "code",
      "source": [
        "transformer = Transformer(n_layers=2, \n",
        "                          d_model=512,\n",
        "                          n_heads=8,\n",
        "                          d_ff=2048,\n",
        "                          src_vocab_size = enc_train_size,\n",
        "                          tgt_vocab_size = dec_train_size,\n",
        "                          pos_len=50,\n",
        "                          dropout=0.2,\n",
        "                          shared=True)"
      ],
      "metadata": {
        "id": "E4QO8JBIFZ7P"
      },
      "execution_count": 33,
      "outputs": []
    },
    {
      "cell_type": "markdown",
      "source": [
        "### 2) learning rate scheduler & Adam Optimizer 선언"
      ],
      "metadata": {
        "id": "Yvc4x9CVLgGs"
      }
    },
    {
      "cell_type": "code",
      "source": [
        "learning_rate = LearningRateScheduler(512)\n",
        "optimizer = tf.keras.optimizers.Adam(learning_rate,\n",
        "                                     beta_1=0.9,\n",
        "                                     beta_2=0.98, \n",
        "                                     epsilon=1e-9,\n",
        "                                     name='Adam')"
      ],
      "metadata": {
        "id": "EnTvU4KgLrVI"
      },
      "execution_count": 34,
      "outputs": []
    },
    {
      "cell_type": "markdown",
      "source": [
        "### 3) Loss 함수 정의"
      ],
      "metadata": {
        "id": "kE-ZxWDxMf3V"
      }
    },
    {
      "cell_type": "code",
      "source": [
        "loss_object = tf.keras.losses.SparseCategoricalCrossentropy(\n",
        "    from_logits=True, reduction='none')\n",
        "\n",
        "def loss_function(real, pred):\n",
        "    mask = tf.math.logical_not(tf.math.equal(real, 0))\n",
        "    loss_ = loss_object(real, pred)\n",
        "\n",
        "    # Masking 되지 않은 입력의 개수로 Scaling하는 과정\n",
        "    mask = tf.cast(mask, dtype=loss_.dtype)\n",
        "    loss_ *= mask\n",
        "\n",
        "    return tf.reduce_sum(loss_)/tf.reduce_sum(mask)"
      ],
      "metadata": {
        "id": "WOLQ7QHEMfw1"
      },
      "execution_count": 35,
      "outputs": []
    },
    {
      "cell_type": "markdown",
      "source": [
        "### 4) train_step 함수 정의\n",
        "- optimizer.apply_gradients() 사용법\n",
        "  - https://www.tensorflow.org/api_docs/python/tf/keras/optimizers/Optimizer\n",
        "- 해당 오류 해결 방법 : ![image.png](data:image/png;base64,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) \n",
        "  - https://stackoverflow.com/questions/62147370/attributeerror-model-object-has-no-attribute-trainable-variables-when-model"
      ],
      "metadata": {
        "id": "UnUAzHxRMmnx"
      }
    },
    {
      "cell_type": "code",
      "source": [
        "# Train Step 함수 정의\n",
        "\n",
        "@tf.function()\n",
        "def train_step(src, tgt, model, optimizer):\n",
        "    gold = tgt[:, 1:]\n",
        "        \n",
        "    enc_mask, dec_enc_mask, dec_mask = generate_masks(src, tgt)\n",
        "\n",
        "    # 계산된 loss에 tf.GradientTape()를 적용해 학습을 진행합니다.\n",
        "    with tf.GradientTape() as tape:\n",
        "        predictions, enc_attns, dec_attns, dec_enc_attns = \\\n",
        "        model(src, tgt, enc_mask, dec_enc_mask, dec_mask)\n",
        "        loss = loss_function(gold, predictions[:, :-1])\n",
        "\n",
        "    # 최종적으로 optimizer.apply_gradients()가 사용됩니다. \n",
        "    variables = model.trainable_variables#enc_attns.trainable_variables + dec_attns.trainable_variables\n",
        "    gradients = tape.gradient(loss, variables)\n",
        "    optimizer.apply_gradients(zip(gradients, variables))\n",
        "    \n",
        "    return loss, enc_attns, dec_attns, dec_enc_attns"
      ],
      "metadata": {
        "id": "YFvfnY4EMrKh"
      },
      "execution_count": 36,
      "outputs": []
    },
    {
      "cell_type": "markdown",
      "source": [
        "### 5) 학습 진행"
      ],
      "metadata": {
        "id": "ltaulz9FVs2u"
      }
    },
    {
      "cell_type": "code",
      "source": [
        "# Attention 시각화 함수\n",
        "\n",
        "def visualize_attention(src, tgt, enc_attns, dec_attns, dec_enc_attns):\n",
        "    def draw(data, ax, x=\"auto\", y=\"auto\"):\n",
        "        import seaborn\n",
        "        seaborn.heatmap(data, \n",
        "                        square=True,\n",
        "                        vmin=0.0, vmax=1.0, \n",
        "                        cbar=False, ax=ax,\n",
        "                        xticklabels=x,\n",
        "                        yticklabels=y)\n",
        "        \n",
        "    for layer in range(0, 2, 1):\n",
        "        fig, axs = plt.subplots(1, 4, figsize=(20, 10))\n",
        "        print(\"Encoder Layer\", layer + 1)\n",
        "        for h in range(4):\n",
        "            draw(enc_attns[layer][0, h, :len(src), :len(src)], axs[h], src, src)\n",
        "        plt.show()\n",
        "        \n",
        "    for layer in range(0, 2, 1):\n",
        "        fig, axs = plt.subplots(1, 4, figsize=(20, 10))\n",
        "        print(\"Decoder Self Layer\", layer+1)\n",
        "        for h in range(4):\n",
        "            draw(dec_attns[layer][0, h, :len(tgt), :len(tgt)], axs[h], tgt, tgt)\n",
        "        plt.show()\n",
        "\n",
        "        print(\"Decoder Src Layer\", layer+1)\n",
        "        fig, axs = plt.subplots(1, 4, figsize=(20, 10))\n",
        "        for h in range(4):\n",
        "            draw(dec_enc_attns[layer][0, h, :len(tgt), :len(src)], axs[h], src, tgt)\n",
        "        plt.show()"
      ],
      "metadata": {
        "id": "m1sZT8QCV3qP"
      },
      "execution_count": 37,
      "outputs": []
    },
    {
      "cell_type": "code",
      "source": [
        "# 번역 생성 함수\n",
        "\n",
        "def evaluate(sentence, model, src_tokenizer, tgt_tokenizer):\n",
        "    sentence = preprocess_sentence(sentence)\n",
        "\n",
        "    pieces = src_tokenizer.encode_as_pieces(sentence)\n",
        "    tokens = src_tokenizer.encode_as_ids(sentence)\n",
        "\n",
        "    _input = tf.keras.preprocessing.sequence.pad_sequences([tokens],\n",
        "                                                           maxlen=enc_train.shape[-1],\n",
        "                                                           padding='post')\n",
        "    \n",
        "    ids = []\n",
        "    output = tf.expand_dims([tgt_tokenizer.bos_id()], 0)\n",
        "    for i in range(dec_train.shape[-1]):\n",
        "        enc_padding_mask, combined_mask, dec_padding_mask = \\\n",
        "        generate_masks(_input, output)\n",
        "\n",
        "        predictions, enc_attns, dec_attns, dec_enc_attns =\\\n",
        "        model(_input, \n",
        "              output,\n",
        "              enc_padding_mask,\n",
        "              combined_mask,\n",
        "              dec_padding_mask)\n",
        "\n",
        "        predicted_id = \\\n",
        "        tf.argmax(tf.math.softmax(predictions, axis=-1)[0, -1]).numpy().item()\n",
        "\n",
        "        if tgt_tokenizer.eos_id() == predicted_id:\n",
        "            result = tgt_tokenizer.decode_ids(ids)\n",
        "            return pieces, result, enc_attns, dec_attns, dec_enc_attns\n",
        "\n",
        "        ids.append(predicted_id)\n",
        "        output = tf.concat([output, tf.expand_dims([predicted_id], 0)], axis=-1)\n",
        "\n",
        "    result = tgt_tokenizer.decode_ids(ids)\n",
        "\n",
        "    return pieces, result, enc_attns, dec_attns, dec_enc_attns"
      ],
      "metadata": {
        "id": "VMe9Qiy8V41f"
      },
      "execution_count": 38,
      "outputs": []
    },
    {
      "cell_type": "code",
      "source": [
        "# 번역 생성 및 Attention 시각화 결합\n",
        "\n",
        "def translate(sentence, model, src_tokenizer, tgt_tokenizer, plot_attention=False):\n",
        "    pieces, result, enc_attns, dec_attns, dec_enc_attns = \\\n",
        "    evaluate(sentence, model, src_tokenizer, tgt_tokenizer)\n",
        "    \n",
        "    print('Input: %s' % (sentence))\n",
        "    print('Predicted translation: {}'.format(result))\n",
        "\n",
        "    if plot_attention:\n",
        "        visualize_attention(pieces, result.split(), enc_attns, dec_attns, dec_enc_attns)"
      ],
      "metadata": {
        "id": "n_TlUXoPV6E8"
      },
      "execution_count": 39,
      "outputs": []
    },
    {
      "cell_type": "code",
      "source": [
        "# 학습\n",
        "\n",
        "from tqdm import tqdm_notebook \n",
        "\n",
        "BATCH_SIZE = 64\n",
        "EPOCHS = 20\n",
        "\n",
        "examples = [\n",
        "            \"오바마는 대통령이다.\",\n",
        "            \"시민들은 도시 속에 산다.\",\n",
        "            \"커피는 필요 없다.\",\n",
        "            \"일곱 명의 사망자가 발생했다.\"\n",
        "]\n",
        "\n",
        "for epoch in range(EPOCHS):\n",
        "    total_loss = 0\n",
        "    \n",
        "    idx_list = list(range(0, enc_train.shape[0], BATCH_SIZE))\n",
        "    random.shuffle(idx_list)\n",
        "    t = tqdm_notebook(idx_list)\n",
        "\n",
        "    for (batch, idx) in enumerate(t):\n",
        "        batch_loss, enc_attns, dec_attns, dec_enc_attns = \\\n",
        "        train_step(enc_train[idx:idx+BATCH_SIZE],\n",
        "                    dec_train[idx:idx+BATCH_SIZE],\n",
        "                    transformer,\n",
        "                    optimizer)\n",
        "\n",
        "        total_loss += batch_loss\n",
        "        \n",
        "        t.set_description_str('Epoch %2d' % (epoch + 1))\n",
        "        t.set_postfix_str('Loss %.4f' % (total_loss.numpy() / (batch + 1)))\n",
        "\n",
        "    for example in examples:\n",
        "        translate(example, transformer, ko_tokenizer, en_tokenizer)"
      ],
      "metadata": {
        "colab": {
          "base_uri": "https://localhost:8080/",
          "height": 1000,
          "referenced_widgets": [
            "527bffb21fcc4e0bab8f66fb329d36e7",
            "41171eb4d7f94a48b43a99ae7814d987",
            "9e34afcf6e004c268ea874b6fe511b1f",
            "8de902549c7f467fb747d448ee878515",
            "9ea29e11fe5e426d9bf06050bc00e585",
            "9480cabaf956459490438a218b325f72",
            "ed6054e6c9b145b7ae7cd6d2167dd03f",
            "d3480dcd7ada4a059b8c63275c21a15f",
            "0f2bb4b87da9478db783274d7bf2a181",
            "00fdd3c9a92c46f6a91960f4f8b34a82",
            "331f2204b6bc4997b581649be60f486d",
            "df0d79f8a4e54f8bae7c4719503e987f",
            "af517fd65ad14a0bae8ba0c2ccb52df4",
            "8b350186ec184121a6a59970f3143e38",
            "09058a7a3ce64cc29d0011d9a9d31bae",
            "a26fdd6679834fcabcc1a65fb2b026ca",
            "0d92b839215e4c95b7085c48ffccb62f",
            "48402d8e8eb442c7b0adb4205b5fb209",
            "f69058df591745bca95f299d0dd53341",
            "937e9801fdfa4041b5fc29b0dca70efb",
            "6b5dcc5240fa4e068b0404b72e3e52f1",
            "f3a6e637e1db4e719add7c6da727787a",
            "d70ef2295ef34ac589852048a5c36757",
            "9ee84fab28be48748e564888b5056563",
            "61a208b6622b406d898af4a285ee2f90",
            "01e551e9d39c4084b97362f02b8b55bc",
            "fd8e7dffee574904a2e19cd5f24ad736",
            "e8ec09d6457d415e9fe0baec51def407",
            "fe81e001e86544fe96627aca64b09e2b",
            "fab49b28feca4ffca581bac93cd94749",
            "8d540a7d3a224d5abfcb72820fa82c41",
            "44086fc771da44c8a38cbb48c441d695",
            "efcfd826f5124b2c9ff7b4443cbbc4ae",
            "6784a3c3abb1470f9301c88599ab4283",
            "c53eb5eacf2046fb88a52f058462e8a9",
            "2fa9b0e491fd4990b030a5d8b94073ac",
            "ae717e19b2084e708b38bf1efdeb0ecd",
            "21ba3b00ee204d69961a140040cc763c",
            "6df2632ad7904751aac72d9547dea27f",
            "ae7d362eff7a47c480a905f82d75ae36",
            "ce4c8f663422437b85dde2418e4d1865",
            "ea4bfb5506dd4db4b1c4460adc401bfd",
            "cad05fb8a06648638b97800cff29c23a",
            "94751f2a69e14666a0376c2b53103053",
            "36348cd874504d98ac547f5498fdec12",
            "7eb7c35564694614b7c19efa8d117bf1",
            "c003b5fd2f0c4227ac0da8551e5b14d3",
            "dc638982263e4fb3837fb0d84c5a4418",
            "67e754a703c748ec8ebcb34b6e54158e",
            "086c1c616db14225bf5dd819ad559e02",
            "9b4a396404c94f66a9562b29060f848c",
            "ee7a277b92824914b26f2f2cb9757093",
            "cd2b76472f9145d69ca7c6f5ece34535",
            "6d12941f681a4edca62423c6c79a606a",
            "ca49d11c341b49868cfbec1645e793a9",
            "79ec1e39bd634ced82ed356c3aad998c",
            "c798e50dfdcc45d3bb80402dfa272890",
            "b45f842a779a4084852ab676cced703b",
            "88ab3040a15b4d1b8f25218003f6e91e",
            "6d42e769173a479bac466d02496be431",
            "4aedb149cd3444f0b04818951fe1e7fc",
            "319edd07760042cf8b24c166db2eee1b",
            "5576593ac45e41cd9d01e86fad3fdcd6",
            "94fa4e7420a042dfbd66ea8c9b98d72b",
            "4b40d490c49c4efe8064c67ff987f9df",
            "f283ff4583ac40bcbb4d258447a1777a",
            "f57cec84dabd4e1ebc6c2a1897006007",
            "65a05990ea4a480dba3a1b08751f53bc",
            "8ae420b1bacd40c6a605e43009a88b39",
            "0a2714c75b5f4eb9a37fcc2916085ebb",
            "1e1f84c949a54b379a63f5ce5e88f07e",
            "e266347702044c87840d292135f48669",
            "e9bb506ae4bb4ebea1cefa17be99b7fd",
            "5a2709f765414adda630f8bfbafb918f",
            "da27d69b002f461ebdc0220cca220f1b",
            "38c221a69ae142f2b8d3a4b8e74f998b",
            "a46481f5b76f4fa4a6a2300122bd2890",
            "ffc16ab5fca64b0cb9f09e61b1a9850c",
            "4bb90f87469a46f1ba60626e4aabd4ea",
            "0dc650e927f541a0aa943233e9328db2",
            "63045ac260ad439b962e2edb03010f29",
            "2e83b35b6f844ba994a7d4d7266ee2af",
            "ab716755bb224712b60604e1b4d1350a",
            "7365a3b092364f7187b75bb6f6fb07be",
            "8a4a9b81df6c4c54b07ee6beb48b7ee1",
            "03fb469ccc2b4c85aace90829d0298cd",
            "9a2d96082b04441da7082073ea31e7a0",
            "2a289b9cb97d4ff2a44d4489f7d1b8d5",
            "bbce03c73bb246acbf388c841e180b6d",
            "0c5d448de6d64595ac0847e8b830b7cd",
            "ff39394e352e4b62b5a02b2539e7fd76",
            "a739fa9747624f0dbd352048aefab390",
            "743e211cb8954536b3f16a87ec8213bc",
            "c0eee77a675c43eb88550d71289fdd65",
            "349589600f064d7a9e62617b1376e0bf",
            "047a612d8900410099e5328a8d05f0ee",
            "584320dec4fb472299a7ba1e31902047",
            "a779011623334d51aac73934fde1d42f",
            "d6f9452dc0464f3ea6efaab7812ef538",
            "bb5411d317bf4a7e8fdfd619445d9fc4",
            "49b64bea40f644b495cf21f30c3c50bc",
            "df5dad57fdb34d3fb3161a016c8e85e8",
            "2d3e405934144dd584eecb2f59948cba",
            "4aa9b060a1854f24b24da4ab942b9d94",
            "617b67c74b03427c817869afc172c21f",
            "8fabfb225e6e474190c29acb853308d2",
            "a43528ff391742d2939f26e47379ff59",
            "feedb5964beb42c1b5f70a1b7a61b751",
            "2188dc0e0dff49df85027139e98f9613",
            "22a0fd5a90924a04918842fac5000a62",
            "38deddf069ff4830915c71c556b34056",
            "507754d480254a7892da970a0ae932eb",
            "04f3a5c8aa9e414f974a732e58cc4cc3",
            "53d4d9febf764548b45eb9911fd034d9",
            "bb57e2592a784e6abc196437f2bd0ccc",
            "0c95c3f388e445d6bfcb7f6c04439657",
            "85658a18eb2143af96c51207c40961cc",
            "28b1a403ee74420c899c894f5ec4ad9e",
            "2504fc77048548bab5f0772ed2a0f63d",
            "6552aef946a24715a89b0ac7151d1449",
            "3f808960721747878ffa8f4796041f66",
            "e260b05ec64846539b53fe282ffd2df1",
            "b5797120963348a7b6cc0cadbde3465c",
            "b15dd91e5d424fd799942d90d462b192",
            "052dd1d82e3f414caca8ff252b94e4e1",
            "f905f2b031774ded8dbe6d9fb7df3aaa",
            "d77e4c1349174a7786074c5a798ab079",
            "970bbcd45d91483aa37e359014cde53b",
            "040676ac8db04560960efe31f3b0215d",
            "66fa0c79681740af91c0a63479da3187",
            "4f284dc691e24589a01d128762a5b60a",
            "43a36050f8544bc398cfe7ad591e3f11",
            "6e8279df6dd043d385b5e6a5be111555",
            "f7f17a09b0094999a68dd509948d731b",
            "8f73d41dbea64d03be34d62ba0068226",
            "fd555126760a488c906e5dbe8563046c",
            "2806a324bfbd4b149593395940b4acff",
            "5ad6edf2c3864cc6aa331e6c7aca4a10",
            "696bdef76da946398ce8891ad8d4d432",
            "5d0fe4afa2844b1a9a15558d985abb28",
            "a4a7d0f8578942089e8eb324cf427248",
            "d9271d2f1c6244d49071416766d20787",
            "93aef95818db4f5bb0bf9274f237d5f7",
            "153c577077dc4bd2bcb59c1bd3447ad5",
            "3eb01cec28294318af2f764401a2c5d3",
            "6bc4dde0fef7461cad77956e385baeab",
            "a47defc8e0f04d69b3c08a486d6a6ecf",
            "d22cfc5635a3442f8a66c3d02010b538",
            "82ce558c792b4767b5020fa8237e49cd",
            "a94a66bd84cd4044be41d2074d15d906",
            "79f986193f7e48bfaeccab06f4b04e32",
            "26e57c31fc984ded90f4617fcd309972",
            "bb89b4a1c4874065aab476ba4b9ff4be",
            "075cc7de8ec44055af3320f9f24513aa",
            "1bf545b6e30940ffbc74e967ad56fc94",
            "e7edbe3f404d4ae2beb642badafd5014",
            "a0425794af714bb9aea650afb144e55f",
            "0f78c9a91db64e62b7c802a9de19323a",
            "be8db71060d44840bc22f444b3151aca",
            "339186a99f3e4e4b8d1b83a68787a95f",
            "370052ffaace472d84e2393f7487a9bb",
            "b9032c0c0b7f4977acf2eda375aced39",
            "fd6707d015064a9e9cc961b5d80020af",
            "5ad880b4ac484d40a91cdd50d5a12234",
            "ada7f1a0053147d9a98a70a7f4088037",
            "5dbe1a083dfd403d9e636a370ff56f9f",
            "0f68c62d2bb646e7b9ef8d6e4f30924d",
            "dcde53144e8a4ff4ade1471dc6763088",
            "72ac7019be9e490a91fc683f89effabe",
            "f46569b070504734a31208873415d4fa",
            "f5c14fd8ad634f18bb9628c665ad27bc",
            "c9a97504796a4ede9ae9b984a4e86e36",
            "f9d47f056c9945658930bdfb0bb9f241",
            "0e0daaf74b344b2fb1d85ac01771fc01",
            "23c7fd6468c4475b89cd843253a99750",
            "df25a68177f4407eba95f82229aeb019",
            "f90ec0a3c793478b9ea9fc11dfe80e1f",
            "bd6e90698cb94efabe3457f6275ff16e",
            "32a6002be7d94314aa9431658385bf15",
            "9a9d08128c1d4e109265fa148117134d",
            "7d55059476ff407abb306e4cee799cf5",
            "240da620ac5941dcbea942cbfb37c16e",
            "cf82cd86c39f4463b451be20c3b2b4fa",
            "b8c223a7d50c4518be8944b0fc807254",
            "e9979f9fe74e4f74abdb908e72efb201",
            "6af3fa6e64e44c2998aaa154f3386dc8",
            "20d7ba9e37a1412c83d99888ea738e04",
            "af0909207ea442ae89b4744d4b4f054c",
            "e8fb49dcc5334dd0a754305847f2c082",
            "f20e64d1571d4891a73537b045548c1e",
            "8f3c6505e143468a83c508b1a8179b72",
            "82a8c446b3554d7cb2b594b600542bf1",
            "b9ba0590f6154c82bae5662b672a4869",
            "393a27464e664118b238eec45314c584",
            "435f8415ffd84402ae1b5ebd592baaff",
            "4cc79abf3d024277b3bece38880fd333",
            "7bce0fb0683f4fadb89e301572c518e6",
            "b68a7b95a8cf4d5d83d0d307a377d78a",
            "d4c5a7668abd43b789ff6ddee4fd3e22",
            "3c71cc81c90943a08b5e88629efe33c5",
            "c91b7b675321412a88cdcab1774add40",
            "a106c99d1e1e437a9dca358df7f6f884",
            "985e6a12d69c4c1f8d9cb7f5b773474f",
            "8bf730e35c8b46fab9c67cd019ed6e09",
            "46abf7ef772544d2b3336919bd1f5977",
            "57c27cb353024cc49db4d6cc769e3b0a",
            "9fff114c4fbe420eb57e26dd0854329a",
            "ac06ba40688b41a3b439e024410e1102",
            "9b4c4536df7c4e59bac324679b0d5429",
            "67b19f8d92eb4639946aadfa8fdac28c",
            "d5d5133a6e8e457b801734ef3c9170f9",
            "32326ab12e9247e4a520dd6cb140e7ba",
            "a904fc049f9a457a9520b35e6ebc4a77",
            "e496ba9bdc594f7abc9c65953b72a5f6",
            "274aa174c68a40ac8f046c66c52ae463",
            "0aead7743c5c48abb26433b094fa6d62",
            "2da407d3af354a8195be29d43c80ace0",
            "6f5aea926e914f22b3c4151b0a90d2a7",
            "876c4bf9dadc4b989a3e6c2089d5d835",
            "948768b0eb2049debcd7e0bb9c6a7748"
          ]
        },
        "id": "Fz6rBnedV6AX",
        "outputId": "d4d4a71a-9c0c-4e4a-e4ff-b790a4af91a7"
      },
      "execution_count": 40,
      "outputs": [
        {
          "output_type": "stream",
          "name": "stderr",
          "text": [
            "/usr/local/lib/python3.7/dist-packages/ipykernel_launcher.py:20: TqdmDeprecationWarning: This function will be removed in tqdm==5.0.0\n",
            "Please use `tqdm.notebook.tqdm` instead of `tqdm.tqdm_notebook`\n"
          ]
        },
        {
          "output_type": "display_data",
          "data": {
            "text/plain": [
              "  0%|          | 0/902 [00:00<?, ?it/s]"
            ],
            "application/vnd.jupyter.widget-view+json": {
              "version_major": 2,
              "version_minor": 0,
              "model_id": "527bffb21fcc4e0bab8f66fb329d36e7"
            }
          },
          "metadata": {}
        },
        {
          "output_type": "stream",
          "name": "stdout",
          "text": [
            "Input: 오바마는 대통령이다.\n",
            "Predicted translation: obama s campaign , obama s campaign\n",
            "Input: 시민들은 도시 속에 산다.\n",
            "Predicted translation: the area were still have been a little .\n",
            "Input: 커피는 필요 없다.\n",
            "Predicted translation: we are not not be not because .\n",
            "Input: 일곱 명의 사망자가 발생했다.\n",
            "Predicted translation: the two people were killed in the two people were killed .\n"
          ]
        },
        {
          "output_type": "display_data",
          "data": {
            "text/plain": [
              "  0%|          | 0/902 [00:00<?, ?it/s]"
            ],
            "application/vnd.jupyter.widget-view+json": {
              "version_major": 2,
              "version_minor": 0,
              "model_id": "df0d79f8a4e54f8bae7c4719503e987f"
            }
          },
          "metadata": {}
        },
        {
          "output_type": "stream",
          "name": "stdout",
          "text": [
            "Input: 오바마는 대통령이다.\n",
            "Predicted translation: obama s presidential candidates .\n",
            "Input: 시민들은 도시 속에 산다.\n",
            "Predicted translation: the city of the city s cities .\n",
            "Input: 커피는 필요 없다.\n",
            "Predicted translation: you can be  ⁇ \n",
            "Input: 일곱 명의 사망자가 발생했다.\n",
            "Predicted translation: the death toll was killed .\n"
          ]
        },
        {
          "output_type": "display_data",
          "data": {
            "text/plain": [
              "  0%|          | 0/902 [00:00<?, ?it/s]"
            ],
            "application/vnd.jupyter.widget-view+json": {
              "version_major": 2,
              "version_minor": 0,
              "model_id": "d70ef2295ef34ac589852048a5c36757"
            }
          },
          "metadata": {}
        },
        {
          "output_type": "stream",
          "name": "stdout",
          "text": [
            "Input: 오바마는 대통령이다.\n",
            "Predicted translation: obama s presidential nominee is a presidential nominee .\n",
            "Input: 시민들은 도시 속에 산다.\n",
            "Predicted translation: they are also seeing the city .\n",
            "Input: 커피는 필요 없다.\n",
            "Predicted translation: you don t want you to get your life .\n",
            "Input: 일곱 명의 사망자가 발생했다.\n",
            "Predicted translation: the death toll from the death toll .\n"
          ]
        },
        {
          "output_type": "display_data",
          "data": {
            "text/plain": [
              "  0%|          | 0/902 [00:00<?, ?it/s]"
            ],
            "application/vnd.jupyter.widget-view+json": {
              "version_major": 2,
              "version_minor": 0,
              "model_id": "6784a3c3abb1470f9301c88599ab4283"
            }
          },
          "metadata": {}
        },
        {
          "output_type": "stream",
          "name": "stdout",
          "text": [
            "Input: 오바마는 대통령이다.\n",
            "Predicted translation: obama is a very part of the obama s biggest obama .\n",
            "Input: 시민들은 도시 속에 산다.\n",
            "Predicted translation: the red cross is a mountain .\n",
            "Input: 커피는 필요 없다.\n",
            "Predicted translation: coffee is not a coffee .\n",
            "Input: 일곱 명의 사망자가 발생했다.\n",
            "Predicted translation: the death toll from the death toll was the on the day .\n"
          ]
        },
        {
          "output_type": "display_data",
          "data": {
            "text/plain": [
              "  0%|          | 0/902 [00:00<?, ?it/s]"
            ],
            "application/vnd.jupyter.widget-view+json": {
              "version_major": 2,
              "version_minor": 0,
              "model_id": "36348cd874504d98ac547f5498fdec12"
            }
          },
          "metadata": {}
        },
        {
          "output_type": "stream",
          "name": "stdout",
          "text": [
            "Input: 오바마는 대통령이다.\n",
            "Predicted translation: obama is a bitter partisan class .\n",
            "Input: 시민들은 도시 속에 산다.\n",
            "Predicted translation: the number of cities is about .\n",
            "Input: 커피는 필요 없다.\n",
            "Predicted translation: coffee is not at any coffee .\n",
            "Input: 일곱 명의 사망자가 발생했다.\n",
            "Predicted translation: the death toll occurred at .\n"
          ]
        },
        {
          "output_type": "display_data",
          "data": {
            "text/plain": [
              "  0%|          | 0/902 [00:00<?, ?it/s]"
            ],
            "application/vnd.jupyter.widget-view+json": {
              "version_major": 2,
              "version_minor": 0,
              "model_id": "79ec1e39bd634ced82ed356c3aad998c"
            }
          },
          "metadata": {}
        },
        {
          "output_type": "stream",
          "name": "stdout",
          "text": [
            "Input: 오바마는 대통령이다.\n",
            "Predicted translation: obama is the way .\n",
            "Input: 시민들은 도시 속에 산다.\n",
            "Predicted translation: the drivers of the mountain .\n",
            "Input: 커피는 필요 없다.\n",
            "Predicted translation: no need to be coffee\n",
            "Input: 일곱 명의 사망자가 발생했다.\n",
            "Predicted translation: the deaths occurred when the deaths occurred .\n"
          ]
        },
        {
          "output_type": "display_data",
          "data": {
            "text/plain": [
              "  0%|          | 0/902 [00:00<?, ?it/s]"
            ],
            "application/vnd.jupyter.widget-view+json": {
              "version_major": 2,
              "version_minor": 0,
              "model_id": "f57cec84dabd4e1ebc6c2a1897006007"
            }
          },
          "metadata": {}
        },
        {
          "output_type": "stream",
          "name": "stdout",
          "text": [
            "Input: 오바마는 대통령이다.\n",
            "Predicted translation: obama is the obamas .\n",
            "Input: 시민들은 도시 속에 산다.\n",
            "Predicted translation: the city is cities in the cities .\n",
            "Input: 커피는 필요 없다.\n",
            "Predicted translation: no longer needs you knew you would you your relationship .\n",
            "Input: 일곱 명의 사망자가 발생했다.\n",
            "Predicted translation: the seven death toll stood .\n"
          ]
        },
        {
          "output_type": "display_data",
          "data": {
            "text/plain": [
              "  0%|          | 0/902 [00:00<?, ?it/s]"
            ],
            "application/vnd.jupyter.widget-view+json": {
              "version_major": 2,
              "version_minor": 0,
              "model_id": "ffc16ab5fca64b0cb9f09e61b1a9850c"
            }
          },
          "metadata": {}
        },
        {
          "output_type": "stream",
          "name": "stdout",
          "text": [
            "Input: 오바마는 대통령이다.\n",
            "Predicted translation: obama is the biggest po class class .\n",
            "Input: 시민들은 도시 속에 산다.\n",
            "Predicted translation: the city is urgently available to rest in the cities .\n",
            "Input: 커피는 필요 없다.\n",
            "Predicted translation: no patient needs to be coffee\n",
            "Input: 일곱 명의 사망자가 발생했다.\n",
            "Predicted translation: seven people were confirmed dead .\n"
          ]
        },
        {
          "output_type": "display_data",
          "data": {
            "text/plain": [
              "  0%|          | 0/902 [00:00<?, ?it/s]"
            ],
            "application/vnd.jupyter.widget-view+json": {
              "version_major": 2,
              "version_minor": 0,
              "model_id": "bbce03c73bb246acbf388c841e180b6d"
            }
          },
          "metadata": {}
        },
        {
          "output_type": "stream",
          "name": "stdout",
          "text": [
            "Input: 오바마는 대통령이다.\n",
            "Predicted translation: the illinois senator is a new president .\n",
            "Input: 시민들은 도시 속에 산다.\n",
            "Predicted translation: options such as the mountain country .\n",
            "Input: 커피는 필요 없다.\n",
            "Predicted translation: proceeds from the coffee was taken off .\n",
            "Input: 일곱 명의 사망자가 발생했다.\n",
            "Predicted translation: seven third of seven people were killed monday .\n"
          ]
        },
        {
          "output_type": "display_data",
          "data": {
            "text/plain": [
              "  0%|          | 0/902 [00:00<?, ?it/s]"
            ],
            "application/vnd.jupyter.widget-view+json": {
              "version_major": 2,
              "version_minor": 0,
              "model_id": "bb5411d317bf4a7e8fdfd619445d9fc4"
            }
          },
          "metadata": {}
        },
        {
          "output_type": "stream",
          "name": "stdout",
          "text": [
            "Input: 오바마는 대통령이다.\n",
            "Predicted translation: obama is the president of the presidential nominee .\n",
            "Input: 시민들은 도시 속에 산다.\n",
            "Predicted translation: they are thought to live to the mountain gods .\n",
            "Input: 커피는 필요 없다.\n",
            "Predicted translation: there is no need for coffee\n",
            "Input: 일곱 명의 사망자가 발생했다.\n",
            "Predicted translation: seven people were killed when the seventh round sunday .\n"
          ]
        },
        {
          "output_type": "display_data",
          "data": {
            "text/plain": [
              "  0%|          | 0/902 [00:00<?, ?it/s]"
            ],
            "application/vnd.jupyter.widget-view+json": {
              "version_major": 2,
              "version_minor": 0,
              "model_id": "38deddf069ff4830915c71c556b34056"
            }
          },
          "metadata": {}
        },
        {
          "output_type": "stream",
          "name": "stdout",
          "text": [
            "Input: 오바마는 대통령이다.\n",
            "Predicted translation: obama is the presidential campaign .\n",
            "Input: 시민들은 도시 속에 산다.\n",
            "Predicted translation: the option is far more than one .\n",
            "Input: 커피는 필요 없다.\n",
            "Predicted translation: no coffee has such a cnn .\n",
            "Input: 일곱 명의 사망자가 발생했다.\n",
            "Predicted translation: seven were the highest person without the death toll stood .\n"
          ]
        },
        {
          "output_type": "display_data",
          "data": {
            "text/plain": [
              "  0%|          | 0/902 [00:00<?, ?it/s]"
            ],
            "application/vnd.jupyter.widget-view+json": {
              "version_major": 2,
              "version_minor": 0,
              "model_id": "e260b05ec64846539b53fe282ffd2df1"
            }
          },
          "metadata": {}
        },
        {
          "output_type": "stream",
          "name": "stdout",
          "text": [
            "Input: 오바마는 대통령이다.\n",
            "Predicted translation: obama is the first president of the presidential office .\n",
            "Input: 시민들은 도시 속에 산다.\n",
            "Predicted translation: the option is the city of ten cities\n",
            "Input: 커피는 필요 없다.\n",
            "Predicted translation: no coffee has seen a child .\n",
            "Input: 일곱 명의 사망자가 발생했다.\n",
            "Predicted translation: seven fifth employees were killed monday .\n"
          ]
        },
        {
          "output_type": "display_data",
          "data": {
            "text/plain": [
              "  0%|          | 0/902 [00:00<?, ?it/s]"
            ],
            "application/vnd.jupyter.widget-view+json": {
              "version_major": 2,
              "version_minor": 0,
              "model_id": "6e8279df6dd043d385b5e6a5be111555"
            }
          },
          "metadata": {}
        },
        {
          "output_type": "stream",
          "name": "stdout",
          "text": [
            "Input: 오바마는 대통령이다.\n",
            "Predicted translation: obama is the first person to be obama .\n",
            "Input: 시민들은 도시 속에 산다.\n",
            "Predicted translation: the option of hariri is heated .\n",
            "Input: 커피는 필요 없다.\n",
            "Predicted translation: the coffee has taken away .\n",
            "Input: 일곱 명의 사망자가 발생했다.\n",
            "Predicted translation: seven people were killed monday when the nine earthquake occurred .\n"
          ]
        },
        {
          "output_type": "display_data",
          "data": {
            "text/plain": [
              "  0%|          | 0/902 [00:00<?, ?it/s]"
            ],
            "application/vnd.jupyter.widget-view+json": {
              "version_major": 2,
              "version_minor": 0,
              "model_id": "153c577077dc4bd2bcb59c1bd3447ad5"
            }
          },
          "metadata": {}
        },
        {
          "output_type": "stream",
          "name": "stdout",
          "text": [
            "Input: 오바마는 대통령이다.\n",
            "Predicted translation: obama is the president elect .\n",
            "Input: 시민들은 도시 속에 산다.\n",
            "Predicted translation: the city is locally secured one way of the city citizens .\n",
            "Input: 커피는 필요 없다.\n",
            "Predicted translation: the coffee has taken strength .\n",
            "Input: 일곱 명의 사망자가 발생했다.\n",
            "Predicted translation: seven were killed with seven people monday .\n"
          ]
        },
        {
          "output_type": "display_data",
          "data": {
            "text/plain": [
              "  0%|          | 0/902 [00:00<?, ?it/s]"
            ],
            "application/vnd.jupyter.widget-view+json": {
              "version_major": 2,
              "version_minor": 0,
              "model_id": "1bf545b6e30940ffbc74e967ad56fc94"
            }
          },
          "metadata": {}
        },
        {
          "output_type": "stream",
          "name": "stdout",
          "text": [
            "Input: 오바마는 대통령이다.\n",
            "Predicted translation: obama is the president of illinois .\n",
            "Input: 시민들은 도시 속에 산다.\n",
            "Predicted translation: drivers , cities among cities is nearby .\n",
            "Input: 커피는 필요 없다.\n",
            "Predicted translation: the coffee is necessary .\n",
            "Input: 일곱 명의 사망자가 발생했다.\n",
            "Predicted translation: seven seven astronauts were with seven seven seven seven seven astronauts including seven astronauts .\n"
          ]
        },
        {
          "output_type": "display_data",
          "data": {
            "text/plain": [
              "  0%|          | 0/902 [00:00<?, ?it/s]"
            ],
            "application/vnd.jupyter.widget-view+json": {
              "version_major": 2,
              "version_minor": 0,
              "model_id": "5dbe1a083dfd403d9e636a370ff56f9f"
            }
          },
          "metadata": {}
        },
        {
          "output_type": "stream",
          "name": "stdout",
          "text": [
            "Input: 오바마는 대통령이다.\n",
            "Predicted translation: obama is the presidential nominee .\n",
            "Input: 시민들은 도시 속에 산다.\n",
            "Predicted translation: the city is celebrating a one of the cities .\n",
            "Input: 커피는 필요 없다.\n",
            "Predicted translation: needs to coffee\n",
            "Input: 일곱 명의 사망자가 발생했다.\n",
            "Predicted translation: seven fifth people were killed .\n"
          ]
        },
        {
          "output_type": "display_data",
          "data": {
            "text/plain": [
              "  0%|          | 0/902 [00:00<?, ?it/s]"
            ],
            "application/vnd.jupyter.widget-view+json": {
              "version_major": 2,
              "version_minor": 0,
              "model_id": "f90ec0a3c793478b9ea9fc11dfe80e1f"
            }
          },
          "metadata": {}
        },
        {
          "output_type": "stream",
          "name": "stdout",
          "text": [
            "Input: 오바마는 대통령이다.\n",
            "Predicted translation: obama is the president elect .\n",
            "Input: 시민들은 도시 속에 산다.\n",
            "Predicted translation: the drivers is fine for cities .\n",
            "Input: 커피는 필요 없다.\n",
            "Predicted translation: the coffee has taken ex coffee .\n",
            "Input: 일곱 명의 사망자가 발생했다.\n",
            "Predicted translation: seven were killed with seven of seventh generation commission employees .\n"
          ]
        },
        {
          "output_type": "display_data",
          "data": {
            "text/plain": [
              "  0%|          | 0/902 [00:00<?, ?it/s]"
            ],
            "application/vnd.jupyter.widget-view+json": {
              "version_major": 2,
              "version_minor": 0,
              "model_id": "af0909207ea442ae89b4744d4b4f054c"
            }
          },
          "metadata": {}
        },
        {
          "output_type": "stream",
          "name": "stdout",
          "text": [
            "Input: 오바마는 대통령이다.\n",
            "Predicted translation: he is the president of illinois .\n",
            "Input: 시민들은 도시 속에 산다.\n",
            "Predicted translation: they put the stake in the city .\n",
            "Input: 커피는 필요 없다.\n",
            "Predicted translation: take on coffee such thing . coffee\n",
            "Input: 일곱 명의 사망자가 발생했다.\n",
            "Predicted translation: seven seven of seven astronauts were with the seven death toll stood at .\n"
          ]
        },
        {
          "output_type": "display_data",
          "data": {
            "text/plain": [
              "  0%|          | 0/902 [00:00<?, ?it/s]"
            ],
            "application/vnd.jupyter.widget-view+json": {
              "version_major": 2,
              "version_minor": 0,
              "model_id": "d4c5a7668abd43b789ff6ddee4fd3e22"
            }
          },
          "metadata": {}
        },
        {
          "output_type": "stream",
          "name": "stdout",
          "text": [
            "Input: 오바마는 대통령이다.\n",
            "Predicted translation: obama is the presidential nominee .\n",
            "Input: 시민들은 도시 속에 산다.\n",
            "Predicted translation: they travel to the mountain cities .\n",
            "Input: 커피는 필요 없다.\n",
            "Predicted translation: the coffee is such a cnn don t need\n",
            "Input: 일곱 명의 사망자가 발생했다.\n",
            "Predicted translation: seven seven people were killed .\n"
          ]
        },
        {
          "output_type": "display_data",
          "data": {
            "text/plain": [
              "  0%|          | 0/902 [00:00<?, ?it/s]"
            ],
            "application/vnd.jupyter.widget-view+json": {
              "version_major": 2,
              "version_minor": 0,
              "model_id": "67b19f8d92eb4639946aadfa8fdac28c"
            }
          },
          "metadata": {}
        },
        {
          "output_type": "stream",
          "name": "stdout",
          "text": [
            "Input: 오바마는 대통령이다.\n",
            "Predicted translation: obama is the president .\n",
            "Input: 시민들은 도시 속에 산다.\n",
            "Predicted translation: they normally knocked down .\n",
            "Input: 커피는 필요 없다.\n",
            "Predicted translation: the little need is necessary .\n",
            "Input: 일곱 명의 사망자가 발생했다.\n",
            "Predicted translation: seven seven people were killed .\n"
          ]
        }
      ]
    },
    {
      "cell_type": "code",
      "source": [
        "for example in examples:\n",
        "        translate(example, transformer, ko_tokenizer, en_tokenizer)"
      ],
      "metadata": {
        "colab": {
          "base_uri": "https://localhost:8080/"
        },
        "id": "dsKLPspSga8b",
        "outputId": "dbf07335-c73b-4566-b484-d4e0ca561585"
      },
      "execution_count": 42,
      "outputs": [
        {
          "output_type": "stream",
          "name": "stdout",
          "text": [
            "Input: 오바마는 대통령이다.\n",
            "Predicted translation: obama is the president .\n",
            "Input: 시민들은 도시 속에 산다.\n",
            "Predicted translation: they normally knocked down .\n",
            "Input: 커피는 필요 없다.\n",
            "Predicted translation: the little need is necessary .\n",
            "Input: 일곱 명의 사망자가 발생했다.\n",
            "Predicted translation: seven seven people were killed .\n"
          ]
        }
      ]
    },
    {
      "cell_type": "code",
      "source": [
        "for example in examples:\n",
        "        translate(example, transformer, ko_tokenizer, en_tokenizer, True)"
      ],
      "metadata": {
        "colab": {
          "base_uri": "https://localhost:8080/",
          "height": 1000
        },
        "id": "UBZRGU5Dgoqe",
        "outputId": "deeeac44-caf9-40ba-ba6d-14cf992237fa"
      },
      "execution_count": 43,
      "outputs": [
        {
          "output_type": "stream",
          "name": "stdout",
          "text": [
            "Input: 오바마는 대통령이다.\n",
            "Predicted translation: obama is the president .\n",
            "Encoder Layer 1\n"
          ]
        },
        {
          "output_type": "stream",
          "name": "stderr",
          "text": [
            "/usr/local/lib/python3.7/dist-packages/matplotlib/backends/backend_agg.py:214: RuntimeWarning: Glyph 9601 missing from current font.\n",
            "  font.set_text(s, 0.0, flags=flags)\n",
            "/usr/local/lib/python3.7/dist-packages/matplotlib/backends/backend_agg.py:183: RuntimeWarning: Glyph 9601 missing from current font.\n",
            "  font.set_text(s, 0, flags=flags)\n"
          ]
        },
        {
          "output_type": "display_data",
          "data": {
            "text/plain": [
              "<Figure size 1440x720 with 4 Axes>"
            ],
            "image/png": "[encoded data removed]"
          },
          "metadata": {
            "needs_background": "light"
          }
        },
        {
          "output_type": "stream",
          "name": "stdout",
          "text": [
            "Encoder Layer 2\n"
          ]
        },
        {
          "output_type": "display_data",
          "data": {
            "text/plain": [
              "<Figure size 1440x720 with 4 Axes>"
            ],
            "image/png": "[encoded data removed]"
          },
          "metadata": {
            "needs_background": "light"
          }
        },
        {
          "output_type": "stream",
          "name": "stdout",
          "text": [
            "Decoder Self Layer 1\n"
          ]
        },
        {
          "output_type": "display_data",
          "data": {
            "text/plain": [
              "<Figure size 1440x720 with 4 Axes>"
            ],
            "image/png": "[encoded data removed]"
          },
          "metadata": {
            "needs_background": "light"
          }
        },
        {
          "output_type": "stream",
          "name": "stdout",
          "text": [
            "Decoder Src Layer 1\n"
          ]
        },
        {
          "output_type": "display_data",
          "data": {
            "text/plain": [
              "<Figure size 1440x720 with 4 Axes>"
            ],
            "image/png": "[encoded data removed]"
          },
          "metadata": {
            "needs_background": "light"
          }
        },
        {
          "output_type": "stream",
          "name": "stdout",
          "text": [
            "Decoder Self Layer 2\n"
          ]
        },
        {
          "output_type": "display_data",
          "data": {
            "text/plain": [
              "<Figure size 1440x720 with 4 Axes>"
            ],
            "image/png": "[encoded data removed]"
          },
          "metadata": {
            "needs_background": "light"
          }
        },
        {
          "output_type": "stream",
          "name": "stdout",
          "text": [
            "Decoder Src Layer 2\n"
          ]
        },
        {
          "output_type": "display_data",
          "data": {
            "text/plain": [
              "<Figure size 1440x720 with 4 Axes>"
            ],
            "image/png": "[encoded data removed]"
          },
          "metadata": {
            "needs_background": "light"
          }
        },
        {
          "output_type": "stream",
          "name": "stdout",
          "text": [
            "Input: 시민들은 도시 속에 산다.\n",
            "Predicted translation: they normally knocked down .\n",
            "Encoder Layer 1\n"
          ]
        },
        {
          "output_type": "display_data",
          "data": {
            "text/plain": [
              "<Figure size 1440x720 with 4 Axes>"
            ],
            "image/png": "[encoded data removed]"
          },
          "metadata": {
            "needs_background": "light"
          }
        },
        {
          "output_type": "stream",
          "name": "stdout",
          "text": [
            "Encoder Layer 2\n"
          ]
        },
        {
          "output_type": "display_data",
          "data": {
            "text/plain": [
              "<Figure size 1440x720 with 4 Axes>"
            ],
            "image/png": "[encoded data removed]"
          },
          "metadata": {
            "needs_background": "light"
          }
        },
        {
          "output_type": "stream",
          "name": "stdout",
          "text": [
            "Decoder Self Layer 1\n"
          ]
        },
        {
          "output_type": "display_data",
          "data": {
            "text/plain": [
              "<Figure size 1440x720 with 4 Axes>"
            ],
            "image/png": "[encoded data removed]"
          },
          "metadata": {
            "needs_background": "light"
          }
        },
        {
          "output_type": "stream",
          "name": "stdout",
          "text": [
            "Decoder Src Layer 1\n"
          ]
        },
        {
          "output_type": "display_data",
          "data": {
            "text/plain": [
              "<Figure size 1440x720 with 4 Axes>"
            ],
            "image/png": "[encoded data removed]"
          },
          "metadata": {
            "needs_background": "light"
          }
        },
        {
          "output_type": "stream",
          "name": "stdout",
          "text": [
            "Decoder Self Layer 2\n"
          ]
        },
        {
          "output_type": "display_data",
          "data": {
            "text/plain": [
              "<Figure size 1440x720 with 4 Axes>"
            ],
            "image/png": "[encoded data removed]"
          },
          "metadata": {
            "needs_background": "light"
          }
        },
        {
          "output_type": "stream",
          "name": "stdout",
          "text": [
            "Decoder Src Layer 2\n"
          ]
        },
        {
          "output_type": "display_data",
          "data": {
            "text/plain": [
              "<Figure size 1440x720 with 4 Axes>"
            ],
            "image/png": "[encoded data removed]"
          },
          "metadata": {
            "needs_background": "light"
          }
        },
        {
          "output_type": "stream",
          "name": "stdout",
          "text": [
            "Input: 커피는 필요 없다.\n",
            "Predicted translation: the little need is necessary .\n",
            "Encoder Layer 1\n"
          ]
        },
        {
          "output_type": "display_data",
          "data": {
            "text/plain": [
              "<Figure size 1440x720 with 4 Axes>"
            ],
            "image/png": "[encoded data removed]"
          },
          "metadata": {
            "needs_background": "light"
          }
        },
        {
          "output_type": "stream",
          "name": "stdout",
          "text": [
            "Encoder Layer 2\n"
          ]
        },
        {
          "output_type": "display_data",
          "data": {
            "text/plain": [
              "<Figure size 1440x720 with 4 Axes>"
            ],
            "image/png": "[encoded data removed]"
          },
          "metadata": {
            "needs_background": "light"
          }
        },
        {
          "output_type": "stream",
          "name": "stdout",
          "text": [
            "Decoder Self Layer 1\n"
          ]
        },
        {
          "output_type": "display_data",
          "data": {
            "text/plain": [
              "<Figure size 1440x720 with 4 Axes>"
            ],
            "image/png": "[encoded data removed]"
          },
          "metadata": {
            "needs_background": "light"
          }
        },
        {
          "output_type": "stream",
          "name": "stdout",
          "text": [
            "Decoder Src Layer 1\n"
          ]
        },
        {
          "output_type": "display_data",
          "data": {
            "text/plain": [
              "<Figure size 1440x720 with 4 Axes>"
            ],
            "image/png": "[encoded data removed]"
          },
          "metadata": {
            "needs_background": "light"
          }
        },
        {
          "output_type": "stream",
          "name": "stdout",
          "text": [
            "Decoder Self Layer 2\n"
          ]
        },
        {
          "output_type": "display_data",
          "data": {
            "text/plain": [
              "<Figure size 1440x720 with 4 Axes>"
            ],
            "image/png": "[encoded data removed]"
          },
          "metadata": {
            "needs_background": "light"
          }
        },
        {
          "output_type": "stream",
          "name": "stdout",
          "text": [
            "Decoder Src Layer 2\n"
          ]
        },
        {
          "output_type": "display_data",
          "data": {
            "text/plain": [
              "<Figure size 1440x720 with 4 Axes>"
            ],
            "image/png": "[encoded data removed]"
          },
          "metadata": {
            "needs_background": "light"
          }
        },
        {
          "output_type": "stream",
          "name": "stdout",
          "text": [
            "Input: 일곱 명의 사망자가 발생했다.\n",
            "Predicted translation: seven seven people were killed .\n",
            "Encoder Layer 1\n"
          ]
        },
        {
          "output_type": "display_data",
          "data": {
            "text/plain": [
              "<Figure size 1440x720 with 4 Axes>"
            ],
            "image/png": "[encoded data removed]"
          },
          "metadata": {
            "needs_background": "light"
          }
        },
        {
          "output_type": "stream",
          "name": "stdout",
          "text": [
            "Encoder Layer 2\n"
          ]
        },
        {
          "output_type": "display_data",
          "data": {
            "text/plain": [
              "<Figure size 1440x720 with 4 Axes>"
            ],
            "image/png": "[encoded data removed]"
          },
          "metadata": {
            "needs_background": "light"
          }
        },
        {
          "output_type": "stream",
          "name": "stdout",
          "text": [
            "Decoder Self Layer 1\n"
          ]
        },
        {
          "output_type": "display_data",
          "data": {
            "text/plain": [
              "<Figure size 1440x720 with 4 Axes>"
            ],
            "image/png": "[encoded data removed]"
          },
          "metadata": {
            "needs_background": "light"
          }
        },
        {
          "output_type": "stream",
          "name": "stdout",
          "text": [
            "Decoder Src Layer 1\n"
          ]
        },
        {
          "output_type": "display_data",
          "data": {
            "text/plain": [
              "<Figure size 1440x720 with 4 Axes>"
            ],
            "image/png": "[encoded data removed]"
          },
          "metadata": {
            "needs_background": "light"
          }
        },
        {
          "output_type": "stream",
          "name": "stdout",
          "text": [
            "Decoder Self Layer 2\n"
          ]
        },
        {
          "output_type": "display_data",
          "data": {
            "text/plain": [
              "<Figure size 1440x720 with 4 Axes>"
            ],
            "image/png": "[encoded data removed]"
          },
          "metadata": {
            "needs_background": "light"
          }
        },
        {
          "output_type": "stream",
          "name": "stdout",
          "text": [
            "Decoder Src Layer 2\n"
          ]
        },
        {
          "output_type": "display_data",
          "data": {
            "text/plain": [
              "<Figure size 1440x720 with 4 Axes>"
            ],
            "image/png": "[encoded data removed]"
          },
          "metadata": {
            "needs_background": "light"
          }
        }
      ]
    },
    {
      "cell_type": "markdown",
      "source": [
        "## 6. 회고"
      ],
      "metadata": {
        "id": "DPFeI0yKyG2J"
      }
    },
    {
      "cell_type": "markdown",
      "source": [
        "## 7.루브릭 기준"
      ],
      "metadata": {
        "id": "7H63NMbbyJUK"
      }
    },
    {
      "cell_type": "markdown",
      "source": [
        "![image.png](data:image/png;base64,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)"
      ],
      "metadata": {
        "id": "XmCPAIPYaM1x"
      }
    },
    {
      "cell_type": "markdown",
      "source": [
        "1. 번역기 모델 학습에 필요한 텍스트 데이터 전처리가 잘 이루어졌다.\n",
        "    - 데이터 정제, SentencePiece를 활용한 토큰화 및 데이터셋 구축의 과정이 지시대로 진행되었다.\n",
        "\n",
        "2. Transformer 번역기 모델이 정상적으로 구동된다.\n",
        "    - Transformer 모델의 학습과 추론 과정이 정상적으로 진행되어, 한-영 번역기능이 정상 동작한다.\n",
        "    \n",
        "3. 테스트 결과 의미가 통하는 수준의 번역문이 생성되었다.\n",
        "    - 제시된 문장에 대한 그럴듯한 영어 번역문이 생성되며, 시각화된 Attention Map으로 결과를 뒷받침한다."
      ],
      "metadata": {
        "id": "eoGSNBUFyMa0"
      }
    }
  ]
}