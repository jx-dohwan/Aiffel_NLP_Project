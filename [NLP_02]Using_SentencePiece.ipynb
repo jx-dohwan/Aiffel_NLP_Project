{
  "cells": [
    {
      "cell_type": "markdown",
      "metadata": {
        "id": "view-in-github",
        "colab_type": "text"
      },
      "source": [
        "<a href=\"https://colab.research.google.com/github/jx-dohwan/Aiffel_NLP_Project/blob/main/%5BNLP_02%5DUsing_SentencePiece.ipynb\" target=\"_parent\"><img src=\"https://colab.research.google.com/assets/colab-badge.svg\" alt=\"Open In Colab\"/></a>"
      ]
    },
    {
      "cell_type": "markdown",
      "source": [
        "# [NLP_02]Using SentencePiece"
      ],
      "metadata": {
        "id": "wL8CqBssSdRs"
      }
    },
    {
      "cell_type": "markdown",
      "metadata": {
        "id": "Tdgv1vy-322D"
      },
      "source": [
        "## 1. 라이브러리 설치 및 import "
      ]
    },
    {
      "cell_type": "code",
      "execution_count": 2,
      "metadata": {
        "id": "FSX9Vc_Q3NoE",
        "colab": {
          "base_uri": "https://localhost:8080/"
        },
        "outputId": "802e8062-2050-4b4f-cd4e-38400717a4c5"
      },
      "outputs": [
        {
          "output_type": "stream",
          "name": "stdout",
          "text": [
            "--2022-09-25 11:00:09--  https://www.dropbox.com/s/9xls0tgtf3edgns/mecab-0.996-ko-0.9.2.tar.gz?dl=1\n",
            "Resolving www.dropbox.com (www.dropbox.com)... 162.125.1.18, 2620:100:6016:18::a27d:112\n",
            "Connecting to www.dropbox.com (www.dropbox.com)|162.125.1.18|:443... connected.\n",
            "HTTP request sent, awaiting response... 302 Found\n",
            "Location: /s/dl/9xls0tgtf3edgns/mecab-0.996-ko-0.9.2.tar.gz [following]\n",
            "--2022-09-25 11:00:10--  https://www.dropbox.com/s/dl/9xls0tgtf3edgns/mecab-0.996-ko-0.9.2.tar.gz\n",
            "Reusing existing connection to www.dropbox.com:443.\n",
            "HTTP request sent, awaiting response... 302 Found\n",
            "Location: https://uc9d9988412e14cce961dd0a2783.dl.dropboxusercontent.com/cd/0/get/BtlJNriN1H4u13CCY5BaxbRxBcKzj-sV-MNA7s2dbi3SHZ2Z423Z6mGbxDvvYdsIUiPpMjm99FkL-zUsZTIhzjWysbgaT__J-DxSKtwHaM6VyVXPTqp9fDM2lkAy-wym6s2BzYKkh-R4wXgre1bAkZ0RXO2jWWPzpxxzvWdjpS0uyUtzMAQ05IXIEAwdZYN122Y/file?dl=1# [following]\n",
            "--2022-09-25 11:00:10--  https://uc9d9988412e14cce961dd0a2783.dl.dropboxusercontent.com/cd/0/get/BtlJNriN1H4u13CCY5BaxbRxBcKzj-sV-MNA7s2dbi3SHZ2Z423Z6mGbxDvvYdsIUiPpMjm99FkL-zUsZTIhzjWysbgaT__J-DxSKtwHaM6VyVXPTqp9fDM2lkAy-wym6s2BzYKkh-R4wXgre1bAkZ0RXO2jWWPzpxxzvWdjpS0uyUtzMAQ05IXIEAwdZYN122Y/file?dl=1\n",
            "Resolving uc9d9988412e14cce961dd0a2783.dl.dropboxusercontent.com (uc9d9988412e14cce961dd0a2783.dl.dropboxusercontent.com)... 162.125.1.15, 2620:100:6016:15::a27d:10f\n",
            "Connecting to uc9d9988412e14cce961dd0a2783.dl.dropboxusercontent.com (uc9d9988412e14cce961dd0a2783.dl.dropboxusercontent.com)|162.125.1.15|:443... connected.\n",
            "HTTP request sent, awaiting response... 200 OK\n",
            "Length: 1414979 (1.3M) [application/binary]\n",
            "Saving to: ‘mecab-0.996-ko-0.9.2.tar.gz?dl=1’\n",
            "\n",
            "mecab-0.996-ko-0.9. 100%[===================>]   1.35M  --.-KB/s    in 0.04s   \n",
            "\n",
            "2022-09-25 11:00:10 (35.9 MB/s) - ‘mecab-0.996-ko-0.9.2.tar.gz?dl=1’ saved [1414979/1414979]\n",
            "\n",
            "mecab-0.996-ko-0.9.2/\n",
            "mecab-0.996-ko-0.9.2/example/\n",
            "mecab-0.996-ko-0.9.2/example/example.cpp\n",
            "mecab-0.996-ko-0.9.2/example/example_lattice.cpp\n",
            "mecab-0.996-ko-0.9.2/example/example_lattice.c\n",
            "mecab-0.996-ko-0.9.2/example/example.c\n",
            "mecab-0.996-ko-0.9.2/example/thread_test.cpp\n",
            "mecab-0.996-ko-0.9.2/mecab-config.in\n",
            "mecab-0.996-ko-0.9.2/man/\n",
            "mecab-0.996-ko-0.9.2/man/Makefile.am\n",
            "mecab-0.996-ko-0.9.2/man/mecab.1\n",
            "mecab-0.996-ko-0.9.2/man/Makefile.in\n",
            "mecab-0.996-ko-0.9.2/mecab.iss.in\n",
            "mecab-0.996-ko-0.9.2/config.guess\n",
            "mecab-0.996-ko-0.9.2/README\n",
            "mecab-0.996-ko-0.9.2/COPYING\n",
            "mecab-0.996-ko-0.9.2/CHANGES.md\n",
            "mecab-0.996-ko-0.9.2/README.md\n",
            "mecab-0.996-ko-0.9.2/INSTALL\n",
            "mecab-0.996-ko-0.9.2/config.sub\n",
            "mecab-0.996-ko-0.9.2/configure.in\n",
            "mecab-0.996-ko-0.9.2/swig/\n",
            "mecab-0.996-ko-0.9.2/swig/Makefile\n",
            "mecab-0.996-ko-0.9.2/swig/version.h.in\n",
            "mecab-0.996-ko-0.9.2/swig/version.h\n",
            "mecab-0.996-ko-0.9.2/swig/MeCab.i\n",
            "mecab-0.996-ko-0.9.2/aclocal.m4\n",
            "mecab-0.996-ko-0.9.2/LGPL\n",
            "mecab-0.996-ko-0.9.2/Makefile.am\n",
            "mecab-0.996-ko-0.9.2/configure\n",
            "mecab-0.996-ko-0.9.2/tests/\n",
            "mecab-0.996-ko-0.9.2/tests/autolink/\n",
            "mecab-0.996-ko-0.9.2/tests/autolink/unk.def\n",
            "mecab-0.996-ko-0.9.2/tests/autolink/dicrc\n",
            "mecab-0.996-ko-0.9.2/tests/autolink/dic.csv\n",
            "mecab-0.996-ko-0.9.2/tests/autolink/test\n",
            "mecab-0.996-ko-0.9.2/tests/autolink/char.def\n",
            "mecab-0.996-ko-0.9.2/tests/autolink/matrix.def\n",
            "mecab-0.996-ko-0.9.2/tests/autolink/test.gld\n",
            "mecab-0.996-ko-0.9.2/tests/t9/\n",
            "mecab-0.996-ko-0.9.2/tests/t9/unk.def\n",
            "mecab-0.996-ko-0.9.2/tests/t9/ipadic.pl\n",
            "mecab-0.996-ko-0.9.2/tests/t9/dicrc\n",
            "mecab-0.996-ko-0.9.2/tests/t9/dic.csv\n",
            "mecab-0.996-ko-0.9.2/tests/t9/test\n",
            "mecab-0.996-ko-0.9.2/tests/t9/char.def\n",
            "mecab-0.996-ko-0.9.2/tests/t9/matrix.def\n",
            "mecab-0.996-ko-0.9.2/tests/t9/mkdic.pl\n",
            "mecab-0.996-ko-0.9.2/tests/t9/test.gld\n",
            "mecab-0.996-ko-0.9.2/tests/cost-train/\n",
            "mecab-0.996-ko-0.9.2/tests/cost-train/ipa.train\n",
            "mecab-0.996-ko-0.9.2/tests/cost-train/ipa.test\n",
            "mecab-0.996-ko-0.9.2/tests/cost-train/seed/\n",
            "mecab-0.996-ko-0.9.2/tests/cost-train/seed/rewrite.def\n",
            "mecab-0.996-ko-0.9.2/tests/cost-train/seed/feature.def\n",
            "mecab-0.996-ko-0.9.2/tests/cost-train/seed/unk.def\n",
            "mecab-0.996-ko-0.9.2/tests/cost-train/seed/dicrc\n",
            "mecab-0.996-ko-0.9.2/tests/cost-train/seed/dic.csv\n",
            "mecab-0.996-ko-0.9.2/tests/cost-train/seed/char.def\n",
            "mecab-0.996-ko-0.9.2/tests/cost-train/seed/matrix.def\n",
            "mecab-0.996-ko-0.9.2/tests/run-eval.sh\n",
            "mecab-0.996-ko-0.9.2/tests/run-cost-train.sh\n",
            "mecab-0.996-ko-0.9.2/tests/Makefile.am\n",
            "mecab-0.996-ko-0.9.2/tests/katakana/\n",
            "mecab-0.996-ko-0.9.2/tests/katakana/unk.def\n",
            "mecab-0.996-ko-0.9.2/tests/katakana/dicrc\n",
            "mecab-0.996-ko-0.9.2/tests/katakana/dic.csv\n",
            "mecab-0.996-ko-0.9.2/tests/katakana/test\n",
            "mecab-0.996-ko-0.9.2/tests/katakana/char.def\n",
            "mecab-0.996-ko-0.9.2/tests/katakana/matrix.def\n",
            "mecab-0.996-ko-0.9.2/tests/katakana/test.gld\n",
            "mecab-0.996-ko-0.9.2/tests/eval/\n",
            "mecab-0.996-ko-0.9.2/tests/eval/answer\n",
            "mecab-0.996-ko-0.9.2/tests/eval/system\n",
            "mecab-0.996-ko-0.9.2/tests/eval/test.gld\n",
            "mecab-0.996-ko-0.9.2/tests/shiin/\n",
            "mecab-0.996-ko-0.9.2/tests/shiin/unk.def\n",
            "mecab-0.996-ko-0.9.2/tests/shiin/dicrc\n",
            "mecab-0.996-ko-0.9.2/tests/shiin/dic.csv\n",
            "mecab-0.996-ko-0.9.2/tests/shiin/test\n",
            "mecab-0.996-ko-0.9.2/tests/shiin/char.def\n",
            "mecab-0.996-ko-0.9.2/tests/shiin/matrix.def\n",
            "mecab-0.996-ko-0.9.2/tests/shiin/mkdic.pl\n",
            "mecab-0.996-ko-0.9.2/tests/shiin/test.gld\n",
            "mecab-0.996-ko-0.9.2/tests/latin/\n",
            "mecab-0.996-ko-0.9.2/tests/latin/unk.def\n",
            "mecab-0.996-ko-0.9.2/tests/latin/dicrc\n",
            "mecab-0.996-ko-0.9.2/tests/latin/dic.csv\n",
            "mecab-0.996-ko-0.9.2/tests/latin/test\n",
            "mecab-0.996-ko-0.9.2/tests/latin/char.def\n",
            "mecab-0.996-ko-0.9.2/tests/latin/matrix.def\n",
            "mecab-0.996-ko-0.9.2/tests/latin/test.gld\n",
            "mecab-0.996-ko-0.9.2/tests/chartype/\n",
            "mecab-0.996-ko-0.9.2/tests/chartype/unk.def\n",
            "mecab-0.996-ko-0.9.2/tests/chartype/dicrc\n",
            "mecab-0.996-ko-0.9.2/tests/chartype/dic.csv\n",
            "mecab-0.996-ko-0.9.2/tests/chartype/test\n",
            "mecab-0.996-ko-0.9.2/tests/chartype/char.def\n",
            "mecab-0.996-ko-0.9.2/tests/chartype/matrix.def\n",
            "mecab-0.996-ko-0.9.2/tests/chartype/test.gld\n",
            "mecab-0.996-ko-0.9.2/tests/run-dics.sh\n",
            "mecab-0.996-ko-0.9.2/tests/ngram/\n",
            "mecab-0.996-ko-0.9.2/tests/ngram/unk.def\n",
            "mecab-0.996-ko-0.9.2/tests/ngram/dicrc\n",
            "mecab-0.996-ko-0.9.2/tests/ngram/dic.csv\n",
            "mecab-0.996-ko-0.9.2/tests/ngram/test\n",
            "mecab-0.996-ko-0.9.2/tests/ngram/char.def\n",
            "mecab-0.996-ko-0.9.2/tests/ngram/matrix.def\n",
            "mecab-0.996-ko-0.9.2/tests/ngram/test.gld\n",
            "mecab-0.996-ko-0.9.2/tests/Makefile.in\n",
            "mecab-0.996-ko-0.9.2/ltmain.sh\n",
            "mecab-0.996-ko-0.9.2/config.rpath\n",
            "mecab-0.996-ko-0.9.2/config.h.in\n",
            "mecab-0.996-ko-0.9.2/mecabrc.in\n",
            "mecab-0.996-ko-0.9.2/GPL\n",
            "mecab-0.996-ko-0.9.2/Makefile.train\n",
            "mecab-0.996-ko-0.9.2/ChangeLog\n",
            "mecab-0.996-ko-0.9.2/install-sh\n",
            "mecab-0.996-ko-0.9.2/AUTHORS\n",
            "mecab-0.996-ko-0.9.2/doc/\n",
            "mecab-0.996-ko-0.9.2/doc/bindings.html\n",
            "mecab-0.996-ko-0.9.2/doc/posid.html\n",
            "mecab-0.996-ko-0.9.2/doc/unk.html\n",
            "mecab-0.996-ko-0.9.2/doc/learn.html\n",
            "mecab-0.996-ko-0.9.2/doc/format.html\n",
            "mecab-0.996-ko-0.9.2/doc/libmecab.html\n",
            "mecab-0.996-ko-0.9.2/doc/mecab.css\n",
            "mecab-0.996-ko-0.9.2/doc/feature.html\n",
            "mecab-0.996-ko-0.9.2/doc/Makefile.am\n",
            "mecab-0.996-ko-0.9.2/doc/soft.html\n",
            "mecab-0.996-ko-0.9.2/doc/en/\n",
            "mecab-0.996-ko-0.9.2/doc/en/bindings.html\n",
            "mecab-0.996-ko-0.9.2/doc/dic-detail.html\n",
            "mecab-0.996-ko-0.9.2/doc/flow.png\n",
            "mecab-0.996-ko-0.9.2/doc/mecab.html\n",
            "mecab-0.996-ko-0.9.2/doc/index.html\n",
            "mecab-0.996-ko-0.9.2/doc/result.png\n",
            "mecab-0.996-ko-0.9.2/doc/doxygen/\n",
            "mecab-0.996-ko-0.9.2/doc/doxygen/tab_a.png\n",
            "mecab-0.996-ko-0.9.2/doc/doxygen/globals_eval.html\n",
            "mecab-0.996-ko-0.9.2/doc/doxygen/classMeCab_1_1Tagger-members.html\n",
            "mecab-0.996-ko-0.9.2/doc/doxygen/functions_vars.html\n",
            "mecab-0.996-ko-0.9.2/doc/doxygen/doxygen.css\n",
            "mecab-0.996-ko-0.9.2/doc/doxygen/tab_r.gif\n",
            "mecab-0.996-ko-0.9.2/doc/doxygen/classMeCab_1_1Lattice.html\n",
            "mecab-0.996-ko-0.9.2/doc/doxygen/functions.html\n",
            "mecab-0.996-ko-0.9.2/doc/doxygen/classMeCab_1_1Tagger.html\n",
            "mecab-0.996-ko-0.9.2/doc/doxygen/mecab_8h_source.html\n",
            "mecab-0.996-ko-0.9.2/doc/doxygen/tabs.css\n",
            "mecab-0.996-ko-0.9.2/doc/doxygen/nav_f.png\n",
            "mecab-0.996-ko-0.9.2/doc/doxygen/tab_b.png\n",
            "mecab-0.996-ko-0.9.2/doc/doxygen/globals.html\n",
            "mecab-0.996-ko-0.9.2/doc/doxygen/nav_h.png\n",
            "mecab-0.996-ko-0.9.2/doc/doxygen/tab_h.png\n",
            "mecab-0.996-ko-0.9.2/doc/doxygen/classMeCab_1_1Model.html\n",
            "mecab-0.996-ko-0.9.2/doc/doxygen/globals_func.html\n",
            "mecab-0.996-ko-0.9.2/doc/doxygen/closed.png\n",
            "mecab-0.996-ko-0.9.2/doc/doxygen/tab_l.gif\n",
            "mecab-0.996-ko-0.9.2/doc/doxygen/structmecab__path__t-members.html\n",
            "mecab-0.996-ko-0.9.2/doc/doxygen/functions_func.html\n",
            "mecab-0.996-ko-0.9.2/doc/doxygen/globals_type.html\n",
            "mecab-0.996-ko-0.9.2/doc/doxygen/classMeCab_1_1Lattice-members.html\n",
            "mecab-0.996-ko-0.9.2/doc/doxygen/structmecab__node__t.html\n",
            "mecab-0.996-ko-0.9.2/doc/doxygen/namespacemembers_func.html\n",
            "mecab-0.996-ko-0.9.2/doc/doxygen/tab_s.png\n",
            "mecab-0.996-ko-0.9.2/doc/doxygen/structmecab__dictionary__info__t-members.html\n",
            "mecab-0.996-ko-0.9.2/doc/doxygen/namespacemembers_type.html\n",
            "mecab-0.996-ko-0.9.2/doc/doxygen/classMeCab_1_1Model-members.html\n",
            "mecab-0.996-ko-0.9.2/doc/doxygen/structmecab__dictionary__info__t.html\n",
            "mecab-0.996-ko-0.9.2/doc/doxygen/namespaces.html\n",
            "mecab-0.996-ko-0.9.2/doc/doxygen/namespacemembers.html\n",
            "mecab-0.996-ko-0.9.2/doc/doxygen/namespaceMeCab.html\n",
            "mecab-0.996-ko-0.9.2/doc/doxygen/structmecab__path__t.html\n",
            "mecab-0.996-ko-0.9.2/doc/doxygen/files.html\n",
            "mecab-0.996-ko-0.9.2/doc/doxygen/structmecab__node__t-members.html\n",
            "mecab-0.996-ko-0.9.2/doc/doxygen/index.html\n",
            "mecab-0.996-ko-0.9.2/doc/doxygen/annotated.html\n",
            "mecab-0.996-ko-0.9.2/doc/doxygen/globals_defs.html\n",
            "mecab-0.996-ko-0.9.2/doc/doxygen/classes.html\n",
            "mecab-0.996-ko-0.9.2/doc/doxygen/mecab_8h-source.html\n",
            "mecab-0.996-ko-0.9.2/doc/doxygen/doxygen.png\n",
            "mecab-0.996-ko-0.9.2/doc/doxygen/tab_b.gif\n",
            "mecab-0.996-ko-0.9.2/doc/doxygen/bc_s.png\n",
            "mecab-0.996-ko-0.9.2/doc/doxygen/open.png\n",
            "mecab-0.996-ko-0.9.2/doc/doxygen/mecab_8h.html\n",
            "mecab-0.996-ko-0.9.2/doc/dic.html\n",
            "mecab-0.996-ko-0.9.2/doc/partial.html\n",
            "mecab-0.996-ko-0.9.2/doc/feature.png\n",
            "mecab-0.996-ko-0.9.2/doc/Makefile.in\n",
            "mecab-0.996-ko-0.9.2/missing\n",
            "mecab-0.996-ko-0.9.2/BSD\n",
            "mecab-0.996-ko-0.9.2/NEWS\n",
            "mecab-0.996-ko-0.9.2/mkinstalldirs\n",
            "mecab-0.996-ko-0.9.2/src/\n",
            "mecab-0.996-ko-0.9.2/src/dictionary.h\n",
            "mecab-0.996-ko-0.9.2/src/writer.h\n",
            "mecab-0.996-ko-0.9.2/src/utils.h\n",
            "mecab-0.996-ko-0.9.2/src/string_buffer.cpp\n",
            "mecab-0.996-ko-0.9.2/src/tokenizer.cpp\n",
            "mecab-0.996-ko-0.9.2/src/make.bat\n",
            "mecab-0.996-ko-0.9.2/src/mecab.h\n",
            "mecab-0.996-ko-0.9.2/src/freelist.h\n",
            "mecab-0.996-ko-0.9.2/src/string_buffer.h\n",
            "mecab-0.996-ko-0.9.2/src/learner_tagger.h\n",
            "mecab-0.996-ko-0.9.2/src/dictionary_compiler.cpp\n",
            "mecab-0.996-ko-0.9.2/src/eval.cpp\n",
            "mecab-0.996-ko-0.9.2/src/mecab-system-eval.cpp\n",
            "mecab-0.996-ko-0.9.2/src/darts.h\n",
            "mecab-0.996-ko-0.9.2/src/param.h\n",
            "mecab-0.996-ko-0.9.2/src/char_property.h\n",
            "mecab-0.996-ko-0.9.2/src/learner_node.h\n",
            "mecab-0.996-ko-0.9.2/src/mecab-dict-gen.cpp\n",
            "mecab-0.996-ko-0.9.2/src/mecab-dict-index.cpp\n",
            "mecab-0.996-ko-0.9.2/src/winmain.h\n",
            "mecab-0.996-ko-0.9.2/src/thread.h\n",
            "mecab-0.996-ko-0.9.2/src/context_id.cpp\n",
            "mecab-0.996-ko-0.9.2/src/Makefile.am\n",
            "mecab-0.996-ko-0.9.2/src/connector.h\n",
            "mecab-0.996-ko-0.9.2/src/common.h\n",
            "mecab-0.996-ko-0.9.2/src/dictionary_rewriter.cpp\n",
            "mecab-0.996-ko-0.9.2/src/Makefile.msvc.in\n",
            "mecab-0.996-ko-0.9.2/src/dictionary_rewriter.h\n",
            "mecab-0.996-ko-0.9.2/src/feature_index.h\n",
            "mecab-0.996-ko-0.9.2/src/iconv_utils.cpp\n",
            "mecab-0.996-ko-0.9.2/src/char_property.cpp\n",
            "mecab-0.996-ko-0.9.2/src/mecab-test-gen.cpp\n",
            "mecab-0.996-ko-0.9.2/src/tagger.cpp\n",
            "mecab-0.996-ko-0.9.2/src/mecab-cost-train.cpp\n",
            "mecab-0.996-ko-0.9.2/src/learner.cpp\n",
            "mecab-0.996-ko-0.9.2/src/dictionary.cpp\n",
            "mecab-0.996-ko-0.9.2/src/lbfgs.cpp\n",
            "mecab-0.996-ko-0.9.2/src/ucs.h\n",
            "mecab-0.996-ko-0.9.2/src/writer.cpp\n",
            "mecab-0.996-ko-0.9.2/src/learner_tagger.cpp\n",
            "mecab-0.996-ko-0.9.2/src/lbfgs.h\n",
            "mecab-0.996-ko-0.9.2/src/libmecab.cpp\n",
            "mecab-0.996-ko-0.9.2/src/tokenizer.h\n",
            "mecab-0.996-ko-0.9.2/src/mecab.cpp\n",
            "mecab-0.996-ko-0.9.2/src/utils.cpp\n",
            "mecab-0.996-ko-0.9.2/src/dictionary_generator.cpp\n",
            "mecab-0.996-ko-0.9.2/src/param.cpp\n",
            "mecab-0.996-ko-0.9.2/src/context_id.h\n",
            "mecab-0.996-ko-0.9.2/src/mmap.h\n",
            "mecab-0.996-ko-0.9.2/src/viterbi.h\n",
            "mecab-0.996-ko-0.9.2/src/viterbi.cpp\n",
            "mecab-0.996-ko-0.9.2/src/stream_wrapper.h\n",
            "mecab-0.996-ko-0.9.2/src/feature_index.cpp\n",
            "mecab-0.996-ko-0.9.2/src/nbest_generator.h\n",
            "mecab-0.996-ko-0.9.2/src/ucstable.h\n",
            "mecab-0.996-ko-0.9.2/src/nbest_generator.cpp\n",
            "mecab-0.996-ko-0.9.2/src/iconv_utils.h\n",
            "mecab-0.996-ko-0.9.2/src/connector.cpp\n",
            "mecab-0.996-ko-0.9.2/src/Makefile.in\n",
            "mecab-0.996-ko-0.9.2/src/scoped_ptr.h\n",
            "mecab-0.996-ko-0.9.2/Makefile.in\n",
            "checking for a BSD-compatible install... /usr/bin/install -c\n",
            "checking whether build environment is sane... yes\n",
            "checking for a thread-safe mkdir -p... /bin/mkdir -p\n",
            "checking for gawk... no\n",
            "checking for mawk... mawk\n",
            "checking whether make sets $(MAKE)... yes\n",
            "checking for gcc... gcc\n",
            "checking whether the C compiler works... yes\n",
            "checking for C compiler default output file name... a.out\n",
            "checking for suffix of executables... \n",
            "checking whether we are cross compiling... no\n",
            "checking for suffix of object files... o\n",
            "checking whether we are using the GNU C compiler... yes\n",
            "checking whether gcc accepts -g... yes\n",
            "checking for gcc option to accept ISO C89... none needed\n",
            "checking for style of include used by make... GNU\n",
            "checking dependency style of gcc... none\n",
            "checking for g++... g++\n",
            "checking whether we are using the GNU C++ compiler... yes\n",
            "checking whether g++ accepts -g... yes\n",
            "checking dependency style of g++... none\n",
            "checking how to run the C preprocessor... gcc -E\n",
            "checking for grep that handles long lines and -e... /bin/grep\n",
            "checking for egrep... /bin/grep -E\n",
            "checking whether gcc needs -traditional... no\n",
            "checking whether make sets $(MAKE)... (cached) yes\n",
            "checking build system type... x86_64-unknown-linux-gnu\n",
            "checking host system type... x86_64-unknown-linux-gnu\n",
            "checking how to print strings... printf\n",
            "checking for a sed that does not truncate output... /bin/sed\n",
            "checking for fgrep... /bin/grep -F\n",
            "checking for ld used by gcc... /usr/bin/ld\n",
            "checking if the linker (/usr/bin/ld) is GNU ld... yes\n",
            "checking for BSD- or MS-compatible name lister (nm)... /usr/bin/nm -B\n",
            "checking the name lister (/usr/bin/nm -B) interface... BSD nm\n",
            "checking whether ln -s works... yes\n",
            "checking the maximum length of command line arguments... 1572864\n",
            "checking whether the shell understands some XSI constructs... yes\n",
            "checking whether the shell understands \"+=\"... yes\n",
            "checking how to convert x86_64-unknown-linux-gnu file names to x86_64-unknown-linux-gnu format... func_convert_file_noop\n",
            "checking how to convert x86_64-unknown-linux-gnu file names to toolchain format... func_convert_file_noop\n",
            "checking for /usr/bin/ld option to reload object files... -r\n",
            "checking for objdump... objdump\n",
            "checking how to recognize dependent libraries... pass_all\n",
            "checking for dlltool... dlltool\n",
            "checking how to associate runtime and link libraries... printf %s\\n\n",
            "checking for ar... ar\n",
            "checking for archiver @FILE support... @\n",
            "checking for strip... strip\n",
            "checking for ranlib... ranlib\n",
            "checking command to parse /usr/bin/nm -B output from gcc object... ok\n",
            "checking for sysroot... no\n",
            "./configure: line 7378: /usr/bin/file: No such file or directory\n",
            "checking for mt... no\n",
            "checking if : is a manifest tool... no\n",
            "checking for ANSI C header files... yes\n",
            "checking for sys/types.h... yes\n",
            "checking for sys/stat.h... yes\n",
            "checking for stdlib.h... yes\n",
            "checking for string.h... yes\n",
            "checking for memory.h... yes\n",
            "checking for strings.h... yes\n",
            "checking for inttypes.h... yes\n",
            "checking for stdint.h... yes\n",
            "checking for unistd.h... yes\n",
            "checking for dlfcn.h... yes\n",
            "checking for objdir... .libs\n",
            "checking if gcc supports -fno-rtti -fno-exceptions... no\n",
            "checking for gcc option to produce PIC... -fPIC -DPIC\n",
            "checking if gcc PIC flag -fPIC -DPIC works... yes\n",
            "checking if gcc static flag -static works... yes\n",
            "checking if gcc supports -c -o file.o... yes\n",
            "checking if gcc supports -c -o file.o... (cached) yes\n",
            "checking whether the gcc linker (/usr/bin/ld) supports shared libraries... yes\n",
            "checking whether -lc should be explicitly linked in... no\n",
            "checking dynamic linker characteristics... GNU/Linux ld.so\n",
            "checking how to hardcode library paths into programs... immediate\n",
            "checking whether stripping libraries is possible... yes\n",
            "checking if libtool supports shared libraries... yes\n",
            "checking whether to build shared libraries... yes\n",
            "checking whether to build static libraries... yes\n",
            "checking how to run the C++ preprocessor... g++ -E\n",
            "checking for ld used by g++... /usr/bin/ld\n",
            "checking if the linker (/usr/bin/ld) is GNU ld... yes\n",
            "checking whether the g++ linker (/usr/bin/ld) supports shared libraries... yes\n",
            "checking for g++ option to produce PIC... -fPIC -DPIC\n",
            "checking if g++ PIC flag -fPIC -DPIC works... yes\n",
            "checking if g++ static flag -static works... yes\n",
            "checking if g++ supports -c -o file.o... yes\n",
            "checking if g++ supports -c -o file.o... (cached) yes\n",
            "checking whether the g++ linker (/usr/bin/ld) supports shared libraries... yes\n",
            "checking dynamic linker characteristics... (cached) GNU/Linux ld.so\n",
            "checking how to hardcode library paths into programs... immediate\n",
            "checking for library containing strerror... none required\n",
            "checking whether byte ordering is bigendian... no\n",
            "checking for ld used by GCC... /usr/bin/ld\n",
            "checking if the linker (/usr/bin/ld) is GNU ld... yes\n",
            "checking for shared library run path origin... done\n",
            "checking for iconv... yes\n",
            "checking for working iconv... yes\n",
            "checking for iconv declaration... \n",
            "         extern size_t iconv (iconv_t cd, char * *inbuf, size_t *inbytesleft, char * *outbuf, size_t *outbytesleft);\n",
            "checking for ANSI C header files... (cached) yes\n",
            "checking for an ANSI C-conforming const... yes\n",
            "checking whether byte ordering is bigendian... (cached) no\n",
            "checking for string.h... (cached) yes\n",
            "checking for stdlib.h... (cached) yes\n",
            "checking for unistd.h... (cached) yes\n",
            "checking fcntl.h usability... yes\n",
            "checking fcntl.h presence... yes\n",
            "checking for fcntl.h... yes\n",
            "checking for stdint.h... (cached) yes\n",
            "checking for sys/stat.h... (cached) yes\n",
            "checking sys/mman.h usability... yes\n",
            "checking sys/mman.h presence... yes\n",
            "checking for sys/mman.h... yes\n",
            "checking sys/times.h usability... yes\n",
            "checking sys/times.h presence... yes\n",
            "checking for sys/times.h... yes\n",
            "checking for sys/types.h... (cached) yes\n",
            "checking dirent.h usability... yes\n",
            "checking dirent.h presence... yes\n",
            "checking for dirent.h... yes\n",
            "checking ctype.h usability... yes\n",
            "checking ctype.h presence... yes\n",
            "checking for ctype.h... yes\n",
            "checking for sys/types.h... (cached) yes\n",
            "checking io.h usability... no\n",
            "checking io.h presence... no\n",
            "checking for io.h... no\n",
            "checking windows.h usability... no\n",
            "checking windows.h presence... no\n",
            "checking for windows.h... no\n",
            "checking pthread.h usability... yes\n",
            "checking pthread.h presence... yes\n",
            "checking for pthread.h... yes\n",
            "checking for off_t... yes\n",
            "checking for size_t... yes\n",
            "checking size of char... 1\n",
            "checking size of short... 2\n",
            "checking size of int... 4\n",
            "checking size of long... 8\n",
            "checking size of long long... 8\n",
            "checking size of size_t... 8\n",
            "checking for size_t... (cached) yes\n",
            "checking for unsigned long long int... yes\n",
            "checking for stdlib.h... (cached) yes\n",
            "checking for unistd.h... (cached) yes\n",
            "checking for sys/param.h... yes\n",
            "checking for getpagesize... yes\n",
            "checking for working mmap... yes\n",
            "checking for main in -lstdc++... yes\n",
            "checking for pthread_create in -lpthread... yes\n",
            "checking for pthread_join in -lpthread... yes\n",
            "checking for getenv... yes\n",
            "checking for opendir... yes\n",
            "checking whether make is GNU Make... yes\n",
            "checking if g++ supports stl <vector> (required)... yes\n",
            "checking if g++ supports stl <list> (required)... yes\n",
            "checking if g++ supports stl <map> (required)... yes\n",
            "checking if g++ supports stl <set> (required)... yes\n",
            "checking if g++ supports stl <queue> (required)... yes\n",
            "checking if g++ supports stl <functional> (required)... yes\n",
            "checking if g++ supports stl <algorithm> (required)... yes\n",
            "checking if g++ supports stl <string> (required)... yes\n",
            "checking if g++ supports stl <iostream> (required)... yes\n",
            "checking if g++ supports stl <sstream> (required)... yes\n",
            "checking if g++ supports stl <fstream> (required)... yes\n",
            "checking if g++ supports template <class T> (required)... yes\n",
            "checking if g++ supports const_cast<> (required)... yes\n",
            "checking if g++ supports static_cast<> (required)... yes\n",
            "checking if g++ supports reinterpret_cast<> (required)... yes\n",
            "checking if g++ supports namespaces (required) ... yes\n",
            "checking if g++ supports __thread (optional)... yes\n",
            "checking if g++ supports template <class T> (required)... yes\n",
            "checking if g++ supports GCC native atomic operations (optional)... yes\n",
            "checking if g++ supports OSX native atomic operations (optional)... no\n",
            "checking if g++ environment provides all required features... yes\n",
            "configure: creating ./config.status\n",
            "config.status: creating Makefile\n",
            "config.status: creating src/Makefile\n",
            "config.status: creating src/Makefile.msvc\n",
            "config.status: creating man/Makefile\n",
            "config.status: creating doc/Makefile\n",
            "config.status: creating tests/Makefile\n",
            "config.status: creating swig/version.h\n",
            "config.status: creating mecab.iss\n",
            "config.status: creating mecab-config\n",
            "config.status: creating mecabrc\n",
            "config.status: creating config.h\n",
            "config.status: executing depfiles commands\n",
            "config.status: executing libtool commands\n",
            "config.status: executing default commands\n",
            "make  all-recursive\n",
            "make[1]: Entering directory '/tmp/mecab-0.996-ko-0.9.2'\n",
            "Making all in src\n",
            "make[2]: Entering directory '/tmp/mecab-0.996-ko-0.9.2/src'\n",
            "/bin/bash ../libtool --tag=CXX   --mode=compile g++ -DHAVE_CONFIG_H -I. -I.. -DDIC_VERSION=102   -DMECAB_DEFAULT_RC=\"\\\"/usr/local/etc/mecabrc\\\"\"    -O3 -Wall  -c -o viterbi.lo viterbi.cpp\n",
            "libtool: compile:  g++ -DHAVE_CONFIG_H -I. -I.. -DDIC_VERSION=102 -DMECAB_DEFAULT_RC=\\\"/usr/local/etc/mecabrc\\\" -O3 -Wall -c viterbi.cpp  -fPIC -DPIC -o .libs/viterbi.o\n",
            "In file included from \u001b[01m\u001b[Kviterbi.cpp:14:0\u001b[m\u001b[K:\n",
            "\u001b[01m\u001b[Kparam.h:30:13:\u001b[m\u001b[K \u001b[01;35m\u001b[Kwarning: \u001b[m\u001b[K'\u001b[01m\u001b[KTarget {anonymous}::lexical_cast(Source) [with Target = std::__cxx11::basic_string<char>; Source = std::__cxx11::basic_string<char>]\u001b[m\u001b[K' defined but not used [\u001b[01;35m\u001b[K-Wunused-function\u001b[m\u001b[K]\n",
            " std::string \u001b[01;35m\u001b[Klexical_cast<std::string, std::string>\u001b[m\u001b[K(std::string arg) {\n",
            "             \u001b[01;35m\u001b[K^~~~~~~~~~~~~~~~~~~~~~~~~~~~~~~~~~~~~~\u001b[m\u001b[K\n",
            "libtool: compile:  g++ -DHAVE_CONFIG_H -I. -I.. -DDIC_VERSION=102 -DMECAB_DEFAULT_RC=\\\"/usr/local/etc/mecabrc\\\" -O3 -Wall -c viterbi.cpp -o viterbi.o >/dev/null 2>&1\n",
            "/bin/bash ../libtool --tag=CXX   --mode=compile g++ -DHAVE_CONFIG_H -I. -I.. -DDIC_VERSION=102   -DMECAB_DEFAULT_RC=\"\\\"/usr/local/etc/mecabrc\\\"\"    -O3 -Wall  -c -o tagger.lo tagger.cpp\n",
            "libtool: compile:  g++ -DHAVE_CONFIG_H -I. -I.. -DDIC_VERSION=102 -DMECAB_DEFAULT_RC=\\\"/usr/local/etc/mecabrc\\\" -O3 -Wall -c tagger.cpp  -fPIC -DPIC -o .libs/tagger.o\n",
            "libtool: compile:  g++ -DHAVE_CONFIG_H -I. -I.. -DDIC_VERSION=102 -DMECAB_DEFAULT_RC=\\\"/usr/local/etc/mecabrc\\\" -O3 -Wall -c tagger.cpp -o tagger.o >/dev/null 2>&1\n",
            "/bin/bash ../libtool --tag=CXX   --mode=compile g++ -DHAVE_CONFIG_H -I. -I.. -DDIC_VERSION=102   -DMECAB_DEFAULT_RC=\"\\\"/usr/local/etc/mecabrc\\\"\"    -O3 -Wall  -c -o utils.lo utils.cpp\n",
            "libtool: compile:  g++ -DHAVE_CONFIG_H -I. -I.. -DDIC_VERSION=102 -DMECAB_DEFAULT_RC=\\\"/usr/local/etc/mecabrc\\\" -O3 -Wall -c utils.cpp  -fPIC -DPIC -o .libs/utils.o\n",
            "libtool: compile:  g++ -DHAVE_CONFIG_H -I. -I.. -DDIC_VERSION=102 -DMECAB_DEFAULT_RC=\\\"/usr/local/etc/mecabrc\\\" -O3 -Wall -c utils.cpp -o utils.o >/dev/null 2>&1\n",
            "/bin/bash ../libtool --tag=CXX   --mode=compile g++ -DHAVE_CONFIG_H -I. -I.. -DDIC_VERSION=102   -DMECAB_DEFAULT_RC=\"\\\"/usr/local/etc/mecabrc\\\"\"    -O3 -Wall  -c -o eval.lo eval.cpp\n",
            "libtool: compile:  g++ -DHAVE_CONFIG_H -I. -I.. -DDIC_VERSION=102 -DMECAB_DEFAULT_RC=\\\"/usr/local/etc/mecabrc\\\" -O3 -Wall -c eval.cpp  -fPIC -DPIC -o .libs/eval.o\n",
            "libtool: compile:  g++ -DHAVE_CONFIG_H -I. -I.. -DDIC_VERSION=102 -DMECAB_DEFAULT_RC=\\\"/usr/local/etc/mecabrc\\\" -O3 -Wall -c eval.cpp -o eval.o >/dev/null 2>&1\n",
            "/bin/bash ../libtool --tag=CXX   --mode=compile g++ -DHAVE_CONFIG_H -I. -I.. -DDIC_VERSION=102   -DMECAB_DEFAULT_RC=\"\\\"/usr/local/etc/mecabrc\\\"\"    -O3 -Wall  -c -o iconv_utils.lo iconv_utils.cpp\n",
            "libtool: compile:  g++ -DHAVE_CONFIG_H -I. -I.. -DDIC_VERSION=102 -DMECAB_DEFAULT_RC=\\\"/usr/local/etc/mecabrc\\\" -O3 -Wall -c iconv_utils.cpp  -fPIC -DPIC -o .libs/iconv_utils.o\n",
            "libtool: compile:  g++ -DHAVE_CONFIG_H -I. -I.. -DDIC_VERSION=102 -DMECAB_DEFAULT_RC=\\\"/usr/local/etc/mecabrc\\\" -O3 -Wall -c iconv_utils.cpp -o iconv_utils.o >/dev/null 2>&1\n",
            "/bin/bash ../libtool --tag=CXX   --mode=compile g++ -DHAVE_CONFIG_H -I. -I.. -DDIC_VERSION=102   -DMECAB_DEFAULT_RC=\"\\\"/usr/local/etc/mecabrc\\\"\"    -O3 -Wall  -c -o dictionary_rewriter.lo dictionary_rewriter.cpp\n",
            "libtool: compile:  g++ -DHAVE_CONFIG_H -I. -I.. -DDIC_VERSION=102 -DMECAB_DEFAULT_RC=\\\"/usr/local/etc/mecabrc\\\" -O3 -Wall -c dictionary_rewriter.cpp  -fPIC -DPIC -o .libs/dictionary_rewriter.o\n",
            "libtool: compile:  g++ -DHAVE_CONFIG_H -I. -I.. -DDIC_VERSION=102 -DMECAB_DEFAULT_RC=\\\"/usr/local/etc/mecabrc\\\" -O3 -Wall -c dictionary_rewriter.cpp -o dictionary_rewriter.o >/dev/null 2>&1\n",
            "/bin/bash ../libtool --tag=CXX   --mode=compile g++ -DHAVE_CONFIG_H -I. -I.. -DDIC_VERSION=102   -DMECAB_DEFAULT_RC=\"\\\"/usr/local/etc/mecabrc\\\"\"    -O3 -Wall  -c -o dictionary_generator.lo dictionary_generator.cpp\n",
            "libtool: compile:  g++ -DHAVE_CONFIG_H -I. -I.. -DDIC_VERSION=102 -DMECAB_DEFAULT_RC=\\\"/usr/local/etc/mecabrc\\\" -O3 -Wall -c dictionary_generator.cpp  -fPIC -DPIC -o .libs/dictionary_generator.o\n",
            "libtool: compile:  g++ -DHAVE_CONFIG_H -I. -I.. -DDIC_VERSION=102 -DMECAB_DEFAULT_RC=\\\"/usr/local/etc/mecabrc\\\" -O3 -Wall -c dictionary_generator.cpp -o dictionary_generator.o >/dev/null 2>&1\n",
            "/bin/bash ../libtool --tag=CXX   --mode=compile g++ -DHAVE_CONFIG_H -I. -I.. -DDIC_VERSION=102   -DMECAB_DEFAULT_RC=\"\\\"/usr/local/etc/mecabrc\\\"\"    -O3 -Wall  -c -o dictionary_compiler.lo dictionary_compiler.cpp\n",
            "libtool: compile:  g++ -DHAVE_CONFIG_H -I. -I.. -DDIC_VERSION=102 -DMECAB_DEFAULT_RC=\\\"/usr/local/etc/mecabrc\\\" -O3 -Wall -c dictionary_compiler.cpp  -fPIC -DPIC -o .libs/dictionary_compiler.o\n",
            "libtool: compile:  g++ -DHAVE_CONFIG_H -I. -I.. -DDIC_VERSION=102 -DMECAB_DEFAULT_RC=\\\"/usr/local/etc/mecabrc\\\" -O3 -Wall -c dictionary_compiler.cpp -o dictionary_compiler.o >/dev/null 2>&1\n",
            "/bin/bash ../libtool --tag=CXX   --mode=compile g++ -DHAVE_CONFIG_H -I. -I.. -DDIC_VERSION=102   -DMECAB_DEFAULT_RC=\"\\\"/usr/local/etc/mecabrc\\\"\"    -O3 -Wall  -c -o context_id.lo context_id.cpp\n",
            "libtool: compile:  g++ -DHAVE_CONFIG_H -I. -I.. -DDIC_VERSION=102 -DMECAB_DEFAULT_RC=\\\"/usr/local/etc/mecabrc\\\" -O3 -Wall -c context_id.cpp  -fPIC -DPIC -o .libs/context_id.o\n",
            "libtool: compile:  g++ -DHAVE_CONFIG_H -I. -I.. -DDIC_VERSION=102 -DMECAB_DEFAULT_RC=\\\"/usr/local/etc/mecabrc\\\" -O3 -Wall -c context_id.cpp -o context_id.o >/dev/null 2>&1\n",
            "/bin/bash ../libtool --tag=CXX   --mode=compile g++ -DHAVE_CONFIG_H -I. -I.. -DDIC_VERSION=102   -DMECAB_DEFAULT_RC=\"\\\"/usr/local/etc/mecabrc\\\"\"    -O3 -Wall  -c -o connector.lo connector.cpp\n",
            "libtool: compile:  g++ -DHAVE_CONFIG_H -I. -I.. -DDIC_VERSION=102 -DMECAB_DEFAULT_RC=\\\"/usr/local/etc/mecabrc\\\" -O3 -Wall -c connector.cpp  -fPIC -DPIC -o .libs/connector.o\n",
            "libtool: compile:  g++ -DHAVE_CONFIG_H -I. -I.. -DDIC_VERSION=102 -DMECAB_DEFAULT_RC=\\\"/usr/local/etc/mecabrc\\\" -O3 -Wall -c connector.cpp -o connector.o >/dev/null 2>&1\n",
            "/bin/bash ../libtool --tag=CXX   --mode=compile g++ -DHAVE_CONFIG_H -I. -I.. -DDIC_VERSION=102   -DMECAB_DEFAULT_RC=\"\\\"/usr/local/etc/mecabrc\\\"\"    -O3 -Wall  -c -o nbest_generator.lo nbest_generator.cpp\n",
            "libtool: compile:  g++ -DHAVE_CONFIG_H -I. -I.. -DDIC_VERSION=102 -DMECAB_DEFAULT_RC=\\\"/usr/local/etc/mecabrc\\\" -O3 -Wall -c nbest_generator.cpp  -fPIC -DPIC -o .libs/nbest_generator.o\n",
            "libtool: compile:  g++ -DHAVE_CONFIG_H -I. -I.. -DDIC_VERSION=102 -DMECAB_DEFAULT_RC=\\\"/usr/local/etc/mecabrc\\\" -O3 -Wall -c nbest_generator.cpp -o nbest_generator.o >/dev/null 2>&1\n",
            "/bin/bash ../libtool --tag=CXX   --mode=compile g++ -DHAVE_CONFIG_H -I. -I.. -DDIC_VERSION=102   -DMECAB_DEFAULT_RC=\"\\\"/usr/local/etc/mecabrc\\\"\"    -O3 -Wall  -c -o writer.lo writer.cpp\n",
            "libtool: compile:  g++ -DHAVE_CONFIG_H -I. -I.. -DDIC_VERSION=102 -DMECAB_DEFAULT_RC=\\\"/usr/local/etc/mecabrc\\\" -O3 -Wall -c writer.cpp  -fPIC -DPIC -o .libs/writer.o\n",
            "libtool: compile:  g++ -DHAVE_CONFIG_H -I. -I.. -DDIC_VERSION=102 -DMECAB_DEFAULT_RC=\\\"/usr/local/etc/mecabrc\\\" -O3 -Wall -c writer.cpp -o writer.o >/dev/null 2>&1\n",
            "/bin/bash ../libtool --tag=CXX   --mode=compile g++ -DHAVE_CONFIG_H -I. -I.. -DDIC_VERSION=102   -DMECAB_DEFAULT_RC=\"\\\"/usr/local/etc/mecabrc\\\"\"    -O3 -Wall  -c -o string_buffer.lo string_buffer.cpp\n",
            "libtool: compile:  g++ -DHAVE_CONFIG_H -I. -I.. -DDIC_VERSION=102 -DMECAB_DEFAULT_RC=\\\"/usr/local/etc/mecabrc\\\" -O3 -Wall -c string_buffer.cpp  -fPIC -DPIC -o .libs/string_buffer.o\n",
            "libtool: compile:  g++ -DHAVE_CONFIG_H -I. -I.. -DDIC_VERSION=102 -DMECAB_DEFAULT_RC=\\\"/usr/local/etc/mecabrc\\\" -O3 -Wall -c string_buffer.cpp -o string_buffer.o >/dev/null 2>&1\n",
            "/bin/bash ../libtool --tag=CXX   --mode=compile g++ -DHAVE_CONFIG_H -I. -I.. -DDIC_VERSION=102   -DMECAB_DEFAULT_RC=\"\\\"/usr/local/etc/mecabrc\\\"\"    -O3 -Wall  -c -o param.lo param.cpp\n",
            "libtool: compile:  g++ -DHAVE_CONFIG_H -I. -I.. -DDIC_VERSION=102 -DMECAB_DEFAULT_RC=\\\"/usr/local/etc/mecabrc\\\" -O3 -Wall -c param.cpp  -fPIC -DPIC -o .libs/param.o\n",
            "libtool: compile:  g++ -DHAVE_CONFIG_H -I. -I.. -DDIC_VERSION=102 -DMECAB_DEFAULT_RC=\\\"/usr/local/etc/mecabrc\\\" -O3 -Wall -c param.cpp -o param.o >/dev/null 2>&1\n",
            "/bin/bash ../libtool --tag=CXX   --mode=compile g++ -DHAVE_CONFIG_H -I. -I.. -DDIC_VERSION=102   -DMECAB_DEFAULT_RC=\"\\\"/usr/local/etc/mecabrc\\\"\"    -O3 -Wall  -c -o tokenizer.lo tokenizer.cpp\n",
            "libtool: compile:  g++ -DHAVE_CONFIG_H -I. -I.. -DDIC_VERSION=102 -DMECAB_DEFAULT_RC=\\\"/usr/local/etc/mecabrc\\\" -O3 -Wall -c tokenizer.cpp  -fPIC -DPIC -o .libs/tokenizer.o\n",
            "libtool: compile:  g++ -DHAVE_CONFIG_H -I. -I.. -DDIC_VERSION=102 -DMECAB_DEFAULT_RC=\\\"/usr/local/etc/mecabrc\\\" -O3 -Wall -c tokenizer.cpp -o tokenizer.o >/dev/null 2>&1\n",
            "/bin/bash ../libtool --tag=CXX   --mode=compile g++ -DHAVE_CONFIG_H -I. -I.. -DDIC_VERSION=102   -DMECAB_DEFAULT_RC=\"\\\"/usr/local/etc/mecabrc\\\"\"    -O3 -Wall  -c -o char_property.lo char_property.cpp\n",
            "libtool: compile:  g++ -DHAVE_CONFIG_H -I. -I.. -DDIC_VERSION=102 -DMECAB_DEFAULT_RC=\\\"/usr/local/etc/mecabrc\\\" -O3 -Wall -c char_property.cpp  -fPIC -DPIC -o .libs/char_property.o\n",
            "libtool: compile:  g++ -DHAVE_CONFIG_H -I. -I.. -DDIC_VERSION=102 -DMECAB_DEFAULT_RC=\\\"/usr/local/etc/mecabrc\\\" -O3 -Wall -c char_property.cpp -o char_property.o >/dev/null 2>&1\n",
            "/bin/bash ../libtool --tag=CXX   --mode=compile g++ -DHAVE_CONFIG_H -I. -I.. -DDIC_VERSION=102   -DMECAB_DEFAULT_RC=\"\\\"/usr/local/etc/mecabrc\\\"\"    -O3 -Wall  -c -o dictionary.lo dictionary.cpp\n",
            "libtool: compile:  g++ -DHAVE_CONFIG_H -I. -I.. -DDIC_VERSION=102 -DMECAB_DEFAULT_RC=\\\"/usr/local/etc/mecabrc\\\" -O3 -Wall -c dictionary.cpp  -fPIC -DPIC -o .libs/dictionary.o\n",
            "libtool: compile:  g++ -DHAVE_CONFIG_H -I. -I.. -DDIC_VERSION=102 -DMECAB_DEFAULT_RC=\\\"/usr/local/etc/mecabrc\\\" -O3 -Wall -c dictionary.cpp -o dictionary.o >/dev/null 2>&1\n",
            "/bin/bash ../libtool --tag=CXX   --mode=compile g++ -DHAVE_CONFIG_H -I. -I.. -DDIC_VERSION=102   -DMECAB_DEFAULT_RC=\"\\\"/usr/local/etc/mecabrc\\\"\"    -O3 -Wall  -c -o feature_index.lo feature_index.cpp\n",
            "libtool: compile:  g++ -DHAVE_CONFIG_H -I. -I.. -DDIC_VERSION=102 -DMECAB_DEFAULT_RC=\\\"/usr/local/etc/mecabrc\\\" -O3 -Wall -c feature_index.cpp  -fPIC -DPIC -o .libs/feature_index.o\n",
            "libtool: compile:  g++ -DHAVE_CONFIG_H -I. -I.. -DDIC_VERSION=102 -DMECAB_DEFAULT_RC=\\\"/usr/local/etc/mecabrc\\\" -O3 -Wall -c feature_index.cpp -o feature_index.o >/dev/null 2>&1\n",
            "/bin/bash ../libtool --tag=CXX   --mode=compile g++ -DHAVE_CONFIG_H -I. -I.. -DDIC_VERSION=102   -DMECAB_DEFAULT_RC=\"\\\"/usr/local/etc/mecabrc\\\"\"    -O3 -Wall  -c -o lbfgs.lo lbfgs.cpp\n",
            "libtool: compile:  g++ -DHAVE_CONFIG_H -I. -I.. -DDIC_VERSION=102 -DMECAB_DEFAULT_RC=\\\"/usr/local/etc/mecabrc\\\" -O3 -Wall -c lbfgs.cpp  -fPIC -DPIC -o .libs/lbfgs.o\n",
            "libtool: compile:  g++ -DHAVE_CONFIG_H -I. -I.. -DDIC_VERSION=102 -DMECAB_DEFAULT_RC=\\\"/usr/local/etc/mecabrc\\\" -O3 -Wall -c lbfgs.cpp -o lbfgs.o >/dev/null 2>&1\n",
            "/bin/bash ../libtool --tag=CXX   --mode=compile g++ -DHAVE_CONFIG_H -I. -I.. -DDIC_VERSION=102   -DMECAB_DEFAULT_RC=\"\\\"/usr/local/etc/mecabrc\\\"\"    -O3 -Wall  -c -o learner_tagger.lo learner_tagger.cpp\n",
            "libtool: compile:  g++ -DHAVE_CONFIG_H -I. -I.. -DDIC_VERSION=102 -DMECAB_DEFAULT_RC=\\\"/usr/local/etc/mecabrc\\\" -O3 -Wall -c learner_tagger.cpp  -fPIC -DPIC -o .libs/learner_tagger.o\n",
            "\u001b[01m\u001b[Klearner_tagger.cpp:25:7:\u001b[m\u001b[K \u001b[01;35m\u001b[Kwarning: \u001b[m\u001b[K'\u001b[01m\u001b[Kchar* MeCab::{anonymous}::mystrdup(const string&)\u001b[m\u001b[K' defined but not used [\u001b[01;35m\u001b[K-Wunused-function\u001b[m\u001b[K]\n",
            " char *\u001b[01;35m\u001b[Kmystrdup\u001b[m\u001b[K(const std::string &str) {\n",
            "       \u001b[01;35m\u001b[K^~~~~~~~\u001b[m\u001b[K\n",
            "libtool: compile:  g++ -DHAVE_CONFIG_H -I. -I.. -DDIC_VERSION=102 -DMECAB_DEFAULT_RC=\\\"/usr/local/etc/mecabrc\\\" -O3 -Wall -c learner_tagger.cpp -o learner_tagger.o >/dev/null 2>&1\n",
            "/bin/bash ../libtool --tag=CXX   --mode=compile g++ -DHAVE_CONFIG_H -I. -I.. -DDIC_VERSION=102   -DMECAB_DEFAULT_RC=\"\\\"/usr/local/etc/mecabrc\\\"\"    -O3 -Wall  -c -o learner.lo learner.cpp\n",
            "libtool: compile:  g++ -DHAVE_CONFIG_H -I. -I.. -DDIC_VERSION=102 -DMECAB_DEFAULT_RC=\\\"/usr/local/etc/mecabrc\\\" -O3 -Wall -c learner.cpp  -fPIC -DPIC -o .libs/learner.o\n",
            "libtool: compile:  g++ -DHAVE_CONFIG_H -I. -I.. -DDIC_VERSION=102 -DMECAB_DEFAULT_RC=\\\"/usr/local/etc/mecabrc\\\" -O3 -Wall -c learner.cpp -o learner.o >/dev/null 2>&1\n",
            "/bin/bash ../libtool --tag=CXX   --mode=compile g++ -DHAVE_CONFIG_H -I. -I.. -DDIC_VERSION=102   -DMECAB_DEFAULT_RC=\"\\\"/usr/local/etc/mecabrc\\\"\"    -O3 -Wall  -c -o libmecab.lo libmecab.cpp\n",
            "libtool: compile:  g++ -DHAVE_CONFIG_H -I. -I.. -DDIC_VERSION=102 -DMECAB_DEFAULT_RC=\\\"/usr/local/etc/mecabrc\\\" -O3 -Wall -c libmecab.cpp  -fPIC -DPIC -o .libs/libmecab.o\n",
            "libtool: compile:  g++ -DHAVE_CONFIG_H -I. -I.. -DDIC_VERSION=102 -DMECAB_DEFAULT_RC=\\\"/usr/local/etc/mecabrc\\\" -O3 -Wall -c libmecab.cpp -o libmecab.o >/dev/null 2>&1\n",
            "/bin/bash ../libtool --tag=CXX   --mode=link g++  -O3 -Wall  -no-undefined -version-info 2:0:0  -o libmecab.la -rpath /usr/local/lib viterbi.lo tagger.lo utils.lo eval.lo iconv_utils.lo dictionary_rewriter.lo dictionary_generator.lo dictionary_compiler.lo context_id.lo connector.lo nbest_generator.lo writer.lo string_buffer.lo param.lo tokenizer.lo char_property.lo dictionary.lo feature_index.lo lbfgs.lo learner_tagger.lo learner.lo libmecab.lo  -lpthread -lpthread  -lstdc++ \n",
            "libtool: link: g++  -fPIC -DPIC -shared -nostdlib /usr/lib/gcc/x86_64-linux-gnu/7/../../../x86_64-linux-gnu/crti.o /usr/lib/gcc/x86_64-linux-gnu/7/crtbeginS.o  .libs/viterbi.o .libs/tagger.o .libs/utils.o .libs/eval.o .libs/iconv_utils.o .libs/dictionary_rewriter.o .libs/dictionary_generator.o .libs/dictionary_compiler.o .libs/context_id.o .libs/connector.o .libs/nbest_generator.o .libs/writer.o .libs/string_buffer.o .libs/param.o .libs/tokenizer.o .libs/char_property.o .libs/dictionary.o .libs/feature_index.o .libs/lbfgs.o .libs/learner_tagger.o .libs/learner.o .libs/libmecab.o   -lpthread -L/usr/lib/gcc/x86_64-linux-gnu/7 -L/usr/lib/gcc/x86_64-linux-gnu/7/../../../x86_64-linux-gnu -L/usr/lib/gcc/x86_64-linux-gnu/7/../../../../lib -L/lib/x86_64-linux-gnu -L/lib/../lib -L/usr/lib/x86_64-linux-gnu -L/usr/lib/../lib -L/usr/local/cuda/lib64/stubs -L/usr/lib/gcc/x86_64-linux-gnu/7/../../.. -lstdc++ -lm -lc -lgcc_s /usr/lib/gcc/x86_64-linux-gnu/7/crtendS.o /usr/lib/gcc/x86_64-linux-gnu/7/../../../x86_64-linux-gnu/crtn.o  -O3   -Wl,-soname -Wl,libmecab.so.2 -o .libs/libmecab.so.2.0.0\n",
            "libtool: link: (cd \".libs\" && rm -f \"libmecab.so.2\" && ln -s \"libmecab.so.2.0.0\" \"libmecab.so.2\")\n",
            "libtool: link: (cd \".libs\" && rm -f \"libmecab.so\" && ln -s \"libmecab.so.2.0.0\" \"libmecab.so\")\n",
            "libtool: link: ar cru .libs/libmecab.a  viterbi.o tagger.o utils.o eval.o iconv_utils.o dictionary_rewriter.o dictionary_generator.o dictionary_compiler.o context_id.o connector.o nbest_generator.o writer.o string_buffer.o param.o tokenizer.o char_property.o dictionary.o feature_index.o lbfgs.o learner_tagger.o learner.o libmecab.o\n",
            "ar: `u' modifier ignored since `D' is the default (see `U')\n",
            "libtool: link: ranlib .libs/libmecab.a\n",
            "libtool: link: ( cd \".libs\" && rm -f \"libmecab.la\" && ln -s \"../libmecab.la\" \"libmecab.la\" )\n",
            "g++ -DHAVE_CONFIG_H -I. -I.. -DDIC_VERSION=102   -DMECAB_DEFAULT_RC=\"\\\"/usr/local/etc/mecabrc\\\"\"    -O3 -Wall  -c -o mecab.o mecab.cpp\n",
            "/bin/bash ../libtool --tag=CXX   --mode=link g++  -O3 -Wall    -o mecab mecab.o libmecab.la -lpthread -lpthread  -lstdc++ \n",
            "libtool: link: g++ -O3 -Wall -o .libs/mecab mecab.o  ./.libs/libmecab.so -lpthread -lstdc++\n",
            "g++ -DHAVE_CONFIG_H -I. -I.. -DDIC_VERSION=102   -DMECAB_DEFAULT_RC=\"\\\"/usr/local/etc/mecabrc\\\"\"    -O3 -Wall  -c -o mecab-dict-index.o mecab-dict-index.cpp\n",
            "/bin/bash ../libtool --tag=CXX   --mode=link g++  -O3 -Wall    -o mecab-dict-index mecab-dict-index.o libmecab.la -lpthread -lpthread  -lstdc++ \n",
            "libtool: link: g++ -O3 -Wall -o .libs/mecab-dict-index mecab-dict-index.o  ./.libs/libmecab.so -lpthread -lstdc++\n",
            "g++ -DHAVE_CONFIG_H -I. -I.. -DDIC_VERSION=102   -DMECAB_DEFAULT_RC=\"\\\"/usr/local/etc/mecabrc\\\"\"    -O3 -Wall  -c -o mecab-dict-gen.o mecab-dict-gen.cpp\n",
            "/bin/bash ../libtool --tag=CXX   --mode=link g++  -O3 -Wall    -o mecab-dict-gen mecab-dict-gen.o libmecab.la -lpthread -lpthread  -lstdc++ \n",
            "libtool: link: g++ -O3 -Wall -o .libs/mecab-dict-gen mecab-dict-gen.o  ./.libs/libmecab.so -lpthread -lstdc++\n",
            "g++ -DHAVE_CONFIG_H -I. -I.. -DDIC_VERSION=102   -DMECAB_DEFAULT_RC=\"\\\"/usr/local/etc/mecabrc\\\"\"    -O3 -Wall  -c -o mecab-cost-train.o mecab-cost-train.cpp\n",
            "/bin/bash ../libtool --tag=CXX   --mode=link g++  -O3 -Wall    -o mecab-cost-train mecab-cost-train.o libmecab.la -lpthread -lpthread  -lstdc++ \n",
            "libtool: link: g++ -O3 -Wall -o .libs/mecab-cost-train mecab-cost-train.o  ./.libs/libmecab.so -lpthread -lstdc++\n",
            "g++ -DHAVE_CONFIG_H -I. -I.. -DDIC_VERSION=102   -DMECAB_DEFAULT_RC=\"\\\"/usr/local/etc/mecabrc\\\"\"    -O3 -Wall  -c -o mecab-system-eval.o mecab-system-eval.cpp\n",
            "/bin/bash ../libtool --tag=CXX   --mode=link g++  -O3 -Wall    -o mecab-system-eval mecab-system-eval.o libmecab.la -lpthread -lpthread  -lstdc++ \n",
            "libtool: link: g++ -O3 -Wall -o .libs/mecab-system-eval mecab-system-eval.o  ./.libs/libmecab.so -lpthread -lstdc++\n",
            "g++ -DHAVE_CONFIG_H -I. -I.. -DDIC_VERSION=102   -DMECAB_DEFAULT_RC=\"\\\"/usr/local/etc/mecabrc\\\"\"    -O3 -Wall  -c -o mecab-test-gen.o mecab-test-gen.cpp\n",
            "/bin/bash ../libtool --tag=CXX   --mode=link g++  -O3 -Wall    -o mecab-test-gen mecab-test-gen.o libmecab.la -lpthread -lpthread  -lstdc++ \n",
            "libtool: link: g++ -O3 -Wall -o .libs/mecab-test-gen mecab-test-gen.o  ./.libs/libmecab.so -lpthread -lstdc++\n",
            "make[2]: Leaving directory '/tmp/mecab-0.996-ko-0.9.2/src'\n",
            "Making all in man\n",
            "make[2]: Entering directory '/tmp/mecab-0.996-ko-0.9.2/man'\n",
            "make[2]: Nothing to be done for 'all'.\n",
            "make[2]: Leaving directory '/tmp/mecab-0.996-ko-0.9.2/man'\n",
            "Making all in doc\n",
            "make[2]: Entering directory '/tmp/mecab-0.996-ko-0.9.2/doc'\n",
            "make[2]: Nothing to be done for 'all'.\n",
            "make[2]: Leaving directory '/tmp/mecab-0.996-ko-0.9.2/doc'\n",
            "Making all in tests\n",
            "make[2]: Entering directory '/tmp/mecab-0.996-ko-0.9.2/tests'\n",
            "make[2]: Nothing to be done for 'all'.\n",
            "make[2]: Leaving directory '/tmp/mecab-0.996-ko-0.9.2/tests'\n",
            "make[2]: Entering directory '/tmp/mecab-0.996-ko-0.9.2'\n",
            "make[2]: Leaving directory '/tmp/mecab-0.996-ko-0.9.2'\n",
            "make[1]: Leaving directory '/tmp/mecab-0.996-ko-0.9.2'\n",
            "Making check in src\n",
            "make[1]: Entering directory '/tmp/mecab-0.996-ko-0.9.2/src'\n",
            "make[1]: Nothing to be done for 'check'.\n",
            "make[1]: Leaving directory '/tmp/mecab-0.996-ko-0.9.2/src'\n",
            "Making check in man\n",
            "make[1]: Entering directory '/tmp/mecab-0.996-ko-0.9.2/man'\n",
            "make[1]: Nothing to be done for 'check'.\n",
            "make[1]: Leaving directory '/tmp/mecab-0.996-ko-0.9.2/man'\n",
            "Making check in doc\n",
            "make[1]: Entering directory '/tmp/mecab-0.996-ko-0.9.2/doc'\n",
            "make[1]: Nothing to be done for 'check'.\n",
            "make[1]: Leaving directory '/tmp/mecab-0.996-ko-0.9.2/doc'\n",
            "Making check in tests\n",
            "make[1]: Entering directory '/tmp/mecab-0.996-ko-0.9.2/tests'\n",
            "make  check-TESTS\n",
            "make[2]: Entering directory '/tmp/mecab-0.996-ko-0.9.2/tests'\n",
            "./pos-id.def is not found. minimum setting is used\n",
            "reading ./unk.def ... 2\n",
            "emitting double-array: 100% |###########################################| \n",
            "./model.def is not found. skipped.\n",
            "./pos-id.def is not found. minimum setting is used\n",
            "reading ./dic.csv ... 177\n",
            "emitting double-array: 100% |###########################################| \n",
            "reading ./matrix.def ... 178x178\n",
            "emitting matrix      : 100% |###########################################| \n",
            "\n",
            "done!\n",
            "./pos-id.def is not found. minimum setting is used\n",
            "reading ./unk.def ... 2\n",
            "emitting double-array: 100% |###########################################| \n",
            "./model.def is not found. skipped.\n",
            "./pos-id.def is not found. minimum setting is used\n",
            "reading ./dic.csv ... 83\n",
            "emitting double-array: 100% |###########################################| \n",
            "reading ./matrix.def ... 84x84\n",
            "emitting matrix      : 100% |###########################################| \n",
            "\n",
            "done!\n",
            "./pos-id.def is not found. minimum setting is used\n",
            "reading ./unk.def ... 2\n",
            "emitting double-array: 100% |###########################################| \n",
            "./model.def is not found. skipped.\n",
            "./pos-id.def is not found. minimum setting is used\n",
            "reading ./dic.csv ... 450\n",
            "emitting double-array: 100% |###########################################| \n",
            "reading ./matrix.def ... 1x1\n",
            "\n",
            "done!\n",
            "./pos-id.def is not found. minimum setting is used\n",
            "reading ./unk.def ... 2\n",
            "emitting double-array: 100% |###########################################| \n",
            "./model.def is not found. skipped.\n",
            "./pos-id.def is not found. minimum setting is used\n",
            "reading ./dic.csv ... 162\n",
            "emitting double-array: 100% |###########################################| \n",
            "reading ./matrix.def ... 3x3\n",
            "emitting matrix      : 100% |###########################################| \n",
            "\n",
            "done!\n",
            "./pos-id.def is not found. minimum setting is used\n",
            "reading ./unk.def ... 2\n",
            "emitting double-array: 100% |###########################################| \n",
            "./model.def is not found. skipped.\n",
            "./pos-id.def is not found. minimum setting is used\n",
            "reading ./dic.csv ... 4\n",
            "emitting double-array: 100% |###########################################| \n",
            "reading ./matrix.def ... 1x1\n",
            "\n",
            "done!\n",
            "./pos-id.def is not found. minimum setting is used\n",
            "reading ./unk.def ... 11\n",
            "emitting double-array: 100% |###########################################| \n",
            "./model.def is not found. skipped.\n",
            "./pos-id.def is not found. minimum setting is used\n",
            "reading ./dic.csv ... 1\n",
            "reading ./matrix.def ... 1x1\n",
            "\n",
            "done!\n",
            "./pos-id.def is not found. minimum setting is used\n",
            "reading ./unk.def ... 2\n",
            "emitting double-array: 100% |###########################################| \n",
            "./model.def is not found. skipped.\n",
            "./pos-id.def is not found. minimum setting is used\n",
            "reading ./dic.csv ... 1\n",
            "reading ./matrix.def ... 1x1\n",
            "\n",
            "done!\n",
            "PASS: run-dics.sh\n",
            "PASS: run-eval.sh\n",
            "seed/pos-id.def is not found. minimum setting is used\n",
            "reading seed/unk.def ... 40\n",
            "emitting double-array: 100% |###########################################| \n",
            "seed/model.def is not found. skipped.\n",
            "seed/pos-id.def is not found. minimum setting is used\n",
            "reading seed/dic.csv ... 4335\n",
            "emitting double-array: 100% |###########################################| \n",
            "reading seed/matrix.def ... 1x1\n",
            "\n",
            "done!\n",
            "reading corpus ...\n",
            "Number of sentences: 34\n",
            "Number of features:  64108\n",
            "eta:                 0.00005\n",
            "freq:                1\n",
            "eval-size:           6\n",
            "unk-eval-size:       4\n",
            "threads:             1\n",
            "charset:             EUC-JP\n",
            "C(sigma^2):          1.00000\n",
            "\n",
            "iter=0 err=1.00000 F=0.35771 target=2406.28355 diff=1.00000\n",
            "iter=1 err=0.97059 F=0.65652 target=1484.25231 diff=0.38318\n",
            "iter=2 err=0.91176 F=0.79331 target=863.32765 diff=0.41834\n",
            "iter=3 err=0.85294 F=0.89213 target=596.72480 diff=0.30881\n",
            "iter=4 err=0.61765 F=0.95467 target=336.30744 diff=0.43641\n",
            "iter=5 err=0.50000 F=0.96702 target=246.53039 diff=0.26695\n",
            "iter=6 err=0.35294 F=0.95472 target=188.93963 diff=0.23361\n",
            "iter=7 err=0.20588 F=0.99106 target=168.62665 diff=0.10751\n",
            "iter=8 err=0.05882 F=0.99777 target=158.64865 diff=0.05917\n",
            "iter=9 err=0.08824 F=0.99665 target=154.14530 diff=0.02839\n",
            "iter=10 err=0.08824 F=0.99665 target=151.94257 diff=0.01429\n",
            "iter=11 err=0.02941 F=0.99888 target=147.20825 diff=0.03116\n",
            "iter=12 err=0.00000 F=1.00000 target=147.34956 diff=0.00096\n",
            "iter=13 err=0.02941 F=0.99888 target=146.32592 diff=0.00695\n",
            "iter=14 err=0.00000 F=1.00000 target=145.77299 diff=0.00378\n",
            "iter=15 err=0.02941 F=0.99888 target=145.24641 diff=0.00361\n",
            "iter=16 err=0.00000 F=1.00000 target=144.96490 diff=0.00194\n",
            "iter=17 err=0.02941 F=0.99888 target=144.90246 diff=0.00043\n",
            "iter=18 err=0.00000 F=1.00000 target=144.75959 diff=0.00099\n",
            "iter=19 err=0.00000 F=1.00000 target=144.71727 diff=0.00029\n",
            "iter=20 err=0.00000 F=1.00000 target=144.66337 diff=0.00037\n",
            "iter=21 err=0.00000 F=1.00000 target=144.61349 diff=0.00034\n",
            "iter=22 err=0.00000 F=1.00000 target=144.62987 diff=0.00011\n",
            "iter=23 err=0.00000 F=1.00000 target=144.60060 diff=0.00020\n",
            "iter=24 err=0.00000 F=1.00000 target=144.59125 diff=0.00006\n",
            "iter=25 err=0.00000 F=1.00000 target=144.58619 diff=0.00004\n",
            "iter=26 err=0.00000 F=1.00000 target=144.58219 diff=0.00003\n",
            "iter=27 err=0.00000 F=1.00000 target=144.58059 diff=0.00001\n",
            "\n",
            "Done! writing model file ... \n",
            "model-ipadic.c1.0.f1.model is not a binary model. reopen it as text mode...\n",
            "reading seed/unk.def ... 40\n",
            "reading seed/dic.csv ... 4335\n",
            "emitting model-ipadic.c1.0.f1.dic/left-id.def/ model-ipadic.c1.0.f1.dic/right-id.def\n",
            "emitting model-ipadic.c1.0.f1.dic/unk.def ... 40\n",
            "emitting model-ipadic.c1.0.f1.dic/dic.csv ... 4335\n",
            "emitting matrix      : 100% |###########################################| \n",
            "copying seed/char.def to model-ipadic.c1.0.f1.dic/char.def\n",
            "copying seed/rewrite.def to model-ipadic.c1.0.f1.dic/rewrite.def\n",
            "copying seed/dicrc to model-ipadic.c1.0.f1.dic/dicrc\n",
            "copying seed/feature.def to model-ipadic.c1.0.f1.dic/feature.def\n",
            "copying model-ipadic.c1.0.f1.model to model-ipadic.c1.0.f1.dic/model.def\n",
            "\n",
            "done!\n",
            "model-ipadic.c1.0.f1.dic/pos-id.def is not found. minimum setting is used\n",
            "reading model-ipadic.c1.0.f1.dic/unk.def ... 40\n",
            "emitting double-array: 100% |###########################################| \n",
            "model-ipadic.c1.0.f1.dic/pos-id.def is not found. minimum setting is used\n",
            "reading model-ipadic.c1.0.f1.dic/dic.csv ... 4335\n",
            "emitting double-array: 100% |###########################################| \n",
            "reading model-ipadic.c1.0.f1.dic/matrix.def ... 346x346\n",
            "emitting matrix      : 100% |###########################################| \n",
            "\n",
            "done!\n",
            "              precision          recall         F\n",
            "LEVEL 0:    12.8959(57/442) 11.8998(57/479) 12.3779\n",
            "LEVEL 1:    12.2172(54/442) 11.2735(54/479) 11.7264\n",
            "LEVEL 2:    11.7647(52/442) 10.8559(52/479) 11.2921\n",
            "LEVEL 4:    11.7647(52/442) 10.8559(52/479) 11.2921\n",
            "PASS: run-cost-train.sh\n",
            "==================\n",
            "All 3 tests passed\n",
            "==================\n",
            "make[2]: Leaving directory '/tmp/mecab-0.996-ko-0.9.2/tests'\n",
            "make[1]: Leaving directory '/tmp/mecab-0.996-ko-0.9.2/tests'\n",
            "make[1]: Entering directory '/tmp/mecab-0.996-ko-0.9.2'\n",
            "make[1]: Leaving directory '/tmp/mecab-0.996-ko-0.9.2'\n",
            "Making install in src\n",
            "make[1]: Entering directory '/tmp/mecab-0.996-ko-0.9.2/src'\n",
            "make[2]: Entering directory '/tmp/mecab-0.996-ko-0.9.2/src'\n",
            "test -z \"/usr/local/lib\" || /bin/mkdir -p \"/usr/local/lib\"\n",
            " /bin/bash ../libtool   --mode=install /usr/bin/install -c   libmecab.la '/usr/local/lib'\n",
            "libtool: install: /usr/bin/install -c .libs/libmecab.so.2.0.0 /usr/local/lib/libmecab.so.2.0.0\n",
            "libtool: install: (cd /usr/local/lib && { ln -s -f libmecab.so.2.0.0 libmecab.so.2 || { rm -f libmecab.so.2 && ln -s libmecab.so.2.0.0 libmecab.so.2; }; })\n",
            "libtool: install: (cd /usr/local/lib && { ln -s -f libmecab.so.2.0.0 libmecab.so || { rm -f libmecab.so && ln -s libmecab.so.2.0.0 libmecab.so; }; })\n",
            "libtool: install: /usr/bin/install -c .libs/libmecab.lai /usr/local/lib/libmecab.la\n",
            "libtool: install: /usr/bin/install -c .libs/libmecab.a /usr/local/lib/libmecab.a\n",
            "libtool: install: chmod 644 /usr/local/lib/libmecab.a\n",
            "libtool: install: ranlib /usr/local/lib/libmecab.a\n",
            "libtool: finish: PATH=\"/opt/bin:/usr/local/nvidia/bin:/usr/local/cuda/bin:/usr/local/sbin:/usr/local/bin:/usr/sbin:/usr/bin:/sbin:/bin:/tools/node/bin:/tools/google-cloud-sdk/bin:/sbin\" ldconfig -n /usr/local/lib\n",
            "----------------------------------------------------------------------\n",
            "Libraries have been installed in:\n",
            "   /usr/local/lib\n",
            "\n",
            "If you ever happen to want to link against installed libraries\n",
            "in a given directory, LIBDIR, you must either use libtool, and\n",
            "specify the full pathname of the library, or use the `-LLIBDIR'\n",
            "flag during linking and do at least one of the following:\n",
            "   - add LIBDIR to the `LD_LIBRARY_PATH' environment variable\n",
            "     during execution\n",
            "   - add LIBDIR to the `LD_RUN_PATH' environment variable\n",
            "     during linking\n",
            "   - use the `-Wl,-rpath -Wl,LIBDIR' linker flag\n",
            "   - have your system administrator add LIBDIR to `/etc/ld.so.conf'\n",
            "\n",
            "See any operating system documentation about shared libraries for\n",
            "more information, such as the ld(1) and ld.so(8) manual pages.\n",
            "----------------------------------------------------------------------\n",
            "test -z \"/usr/local/bin\" || /bin/mkdir -p \"/usr/local/bin\"\n",
            "  /bin/bash ../libtool   --mode=install /usr/bin/install -c mecab '/usr/local/bin'\n",
            "libtool: install: /usr/bin/install -c .libs/mecab /usr/local/bin/mecab\n",
            "test -z \"/usr/local/libexec/mecab\" || /bin/mkdir -p \"/usr/local/libexec/mecab\"\n",
            "  /bin/bash ../libtool   --mode=install /usr/bin/install -c mecab-dict-index mecab-dict-gen mecab-cost-train mecab-system-eval mecab-test-gen '/usr/local/libexec/mecab'\n",
            "libtool: install: /usr/bin/install -c .libs/mecab-dict-index /usr/local/libexec/mecab/mecab-dict-index\n",
            "libtool: install: /usr/bin/install -c .libs/mecab-dict-gen /usr/local/libexec/mecab/mecab-dict-gen\n",
            "libtool: install: /usr/bin/install -c .libs/mecab-cost-train /usr/local/libexec/mecab/mecab-cost-train\n",
            "libtool: install: /usr/bin/install -c .libs/mecab-system-eval /usr/local/libexec/mecab/mecab-system-eval\n",
            "libtool: install: /usr/bin/install -c .libs/mecab-test-gen /usr/local/libexec/mecab/mecab-test-gen\n",
            "test -z \"/usr/local/include\" || /bin/mkdir -p \"/usr/local/include\"\n",
            " /usr/bin/install -c -m 644 mecab.h '/usr/local/include'\n",
            "make[2]: Leaving directory '/tmp/mecab-0.996-ko-0.9.2/src'\n",
            "make[1]: Leaving directory '/tmp/mecab-0.996-ko-0.9.2/src'\n",
            "Making install in man\n",
            "make[1]: Entering directory '/tmp/mecab-0.996-ko-0.9.2/man'\n",
            "make[2]: Entering directory '/tmp/mecab-0.996-ko-0.9.2/man'\n",
            "make[2]: Nothing to be done for 'install-exec-am'.\n",
            "test -z \"/usr/local/share/man/man1\" || /bin/mkdir -p \"/usr/local/share/man/man1\"\n",
            " /usr/bin/install -c -m 644 mecab.1 '/usr/local/share/man/man1'\n",
            "make[2]: Leaving directory '/tmp/mecab-0.996-ko-0.9.2/man'\n",
            "make[1]: Leaving directory '/tmp/mecab-0.996-ko-0.9.2/man'\n",
            "Making install in doc\n",
            "make[1]: Entering directory '/tmp/mecab-0.996-ko-0.9.2/doc'\n",
            "make[2]: Entering directory '/tmp/mecab-0.996-ko-0.9.2/doc'\n",
            "make[2]: Nothing to be done for 'install-exec-am'.\n",
            "make[2]: Nothing to be done for 'install-data-am'.\n",
            "make[2]: Leaving directory '/tmp/mecab-0.996-ko-0.9.2/doc'\n",
            "make[1]: Leaving directory '/tmp/mecab-0.996-ko-0.9.2/doc'\n",
            "Making install in tests\n",
            "make[1]: Entering directory '/tmp/mecab-0.996-ko-0.9.2/tests'\n",
            "make[2]: Entering directory '/tmp/mecab-0.996-ko-0.9.2/tests'\n",
            "make[2]: Nothing to be done for 'install-exec-am'.\n",
            "make[2]: Nothing to be done for 'install-data-am'.\n",
            "make[2]: Leaving directory '/tmp/mecab-0.996-ko-0.9.2/tests'\n",
            "make[1]: Leaving directory '/tmp/mecab-0.996-ko-0.9.2/tests'\n",
            "make[1]: Entering directory '/tmp/mecab-0.996-ko-0.9.2'\n",
            "make[2]: Entering directory '/tmp/mecab-0.996-ko-0.9.2'\n",
            "test -z \"/usr/local/bin\" || /bin/mkdir -p \"/usr/local/bin\"\n",
            " /usr/bin/install -c mecab-config '/usr/local/bin'\n",
            "test -z \"/usr/local/etc\" || /bin/mkdir -p \"/usr/local/etc\"\n",
            " /usr/bin/install -c -m 644 mecabrc '/usr/local/etc'\n",
            "make[2]: Leaving directory '/tmp/mecab-0.996-ko-0.9.2'\n",
            "make[1]: Leaving directory '/tmp/mecab-0.996-ko-0.9.2'\n",
            "--2022-09-25 11:01:28--  https://www.dropbox.com/s/i8girnk5p80076c/mecab-ko-dic-2.1.1-20180720.tar.gz?dl=1\n",
            "Resolving www.dropbox.com (www.dropbox.com)... 162.125.1.18, 2620:100:6016:18::a27d:112\n",
            "Connecting to www.dropbox.com (www.dropbox.com)|162.125.1.18|:443... connected.\n",
            "HTTP request sent, awaiting response... 302 Found\n",
            "Location: /s/dl/i8girnk5p80076c/mecab-ko-dic-2.1.1-20180720.tar.gz [following]\n",
            "--2022-09-25 11:01:28--  https://www.dropbox.com/s/dl/i8girnk5p80076c/mecab-ko-dic-2.1.1-20180720.tar.gz\n",
            "Reusing existing connection to www.dropbox.com:443.\n",
            "HTTP request sent, awaiting response... 302 Found\n",
            "Location: https://ucb9b08548474ba4c9705a41dc6d.dl.dropboxusercontent.com/cd/0/get/BtlJdzwhIZbLS4vW_UUEBEZjDCToFvxWrFuEnbCAreZz5M6iUkrjDUFnfGABvtb05d-u5VwpK-7G0Qi2_UuxwQlrZqrGvzJc903U5zYz4sUANwSOmnIqSaMI5rcOC4VU-WVOGXyoI-BtSiLKkqhlZQtV70KD-4PrwgQeuHAvJC84M_GuyANwU2MCru3k9i2g2sg/file?dl=1# [following]\n",
            "--2022-09-25 11:01:28--  https://ucb9b08548474ba4c9705a41dc6d.dl.dropboxusercontent.com/cd/0/get/BtlJdzwhIZbLS4vW_UUEBEZjDCToFvxWrFuEnbCAreZz5M6iUkrjDUFnfGABvtb05d-u5VwpK-7G0Qi2_UuxwQlrZqrGvzJc903U5zYz4sUANwSOmnIqSaMI5rcOC4VU-WVOGXyoI-BtSiLKkqhlZQtV70KD-4PrwgQeuHAvJC84M_GuyANwU2MCru3k9i2g2sg/file?dl=1\n",
            "Resolving ucb9b08548474ba4c9705a41dc6d.dl.dropboxusercontent.com (ucb9b08548474ba4c9705a41dc6d.dl.dropboxusercontent.com)... 162.125.1.15, 2620:100:6035:15::a27d:550f\n",
            "Connecting to ucb9b08548474ba4c9705a41dc6d.dl.dropboxusercontent.com (ucb9b08548474ba4c9705a41dc6d.dl.dropboxusercontent.com)|162.125.1.15|:443... connected.\n",
            "HTTP request sent, awaiting response... 200 OK\n",
            "Length: 49775061 (47M) [application/binary]\n",
            "Saving to: ‘mecab-ko-dic-2.1.1-20180720.tar.gz?dl=1’\n",
            "\n",
            "mecab-ko-dic-2.1.1- 100%[===================>]  47.47M   217MB/s    in 0.2s    \n",
            "\n",
            "2022-09-25 11:01:29 (217 MB/s) - ‘mecab-ko-dic-2.1.1-20180720.tar.gz?dl=1’ saved [49775061/49775061]\n",
            "\n",
            "Reading package lists... Done\n",
            "Building dependency tree       \n",
            "Reading state information... Done\n",
            "The following package was automatically installed and is no longer required:\n",
            "  libnvidia-common-460\n",
            "Use 'apt autoremove' to remove it.\n",
            "The following additional packages will be installed:\n",
            "  automake autotools-dev libsigsegv2 m4\n",
            "Suggested packages:\n",
            "  autoconf-archive gnu-standards autoconf-doc libtool gettext m4-doc\n",
            "The following NEW packages will be installed:\n",
            "  autoconf automake autotools-dev libsigsegv2 m4\n",
            "0 upgraded, 5 newly installed, 0 to remove and 20 not upgraded.\n",
            "Need to get 1,082 kB of archives.\n",
            "After this operation, 3,994 kB of additional disk space will be used.\n",
            "Get:1 http://archive.ubuntu.com/ubuntu bionic/main amd64 libsigsegv2 amd64 2.12-1 [14.7 kB]\n",
            "Get:2 http://archive.ubuntu.com/ubuntu bionic/main amd64 m4 amd64 1.4.18-1 [197 kB]\n",
            "Get:3 http://archive.ubuntu.com/ubuntu bionic/main amd64 autoconf all 2.69-11 [322 kB]\n",
            "Get:4 http://archive.ubuntu.com/ubuntu bionic/main amd64 autotools-dev all 20180224.1 [39.6 kB]\n",
            "Get:5 http://archive.ubuntu.com/ubuntu bionic/main amd64 automake all 1:1.15.1-3ubuntu2 [509 kB]\n",
            "Fetched 1,082 kB in 1s (825 kB/s)\n",
            "Selecting previously unselected package libsigsegv2:amd64.\n",
            "(Reading database ... 157604 files and directories currently installed.)\n",
            "Preparing to unpack .../libsigsegv2_2.12-1_amd64.deb ...\n",
            "Unpacking libsigsegv2:amd64 (2.12-1) ...\n",
            "Selecting previously unselected package m4.\n",
            "Preparing to unpack .../archives/m4_1.4.18-1_amd64.deb ...\n",
            "Unpacking m4 (1.4.18-1) ...\n",
            "Selecting previously unselected package autoconf.\n",
            "Preparing to unpack .../autoconf_2.69-11_all.deb ...\n",
            "Unpacking autoconf (2.69-11) ...\n",
            "Selecting previously unselected package autotools-dev.\n",
            "Preparing to unpack .../autotools-dev_20180224.1_all.deb ...\n",
            "Unpacking autotools-dev (20180224.1) ...\n",
            "Selecting previously unselected package automake.\n",
            "Preparing to unpack .../automake_1%3a1.15.1-3ubuntu2_all.deb ...\n",
            "Unpacking automake (1:1.15.1-3ubuntu2) ...\n",
            "Setting up libsigsegv2:amd64 (2.12-1) ...\n",
            "Setting up m4 (1.4.18-1) ...\n",
            "Setting up autotools-dev (20180224.1) ...\n",
            "Setting up autoconf (2.69-11) ...\n",
            "Setting up automake (1:1.15.1-3ubuntu2) ...\n",
            "update-alternatives: using /usr/bin/automake-1.15 to provide /usr/bin/automake (automake) in auto mode\n",
            "Processing triggers for libc-bin (2.27-3ubuntu1.5) ...\n",
            "Processing triggers for man-db (2.8.3-2ubuntu0.1) ...\n",
            "mecab-ko-dic-2.1.1-20180720/\n",
            "mecab-ko-dic-2.1.1-20180720/configure\n",
            "mecab-ko-dic-2.1.1-20180720/COPYING\n",
            "mecab-ko-dic-2.1.1-20180720/autogen.sh\n",
            "mecab-ko-dic-2.1.1-20180720/Place-station.csv\n",
            "mecab-ko-dic-2.1.1-20180720/NNG.csv\n",
            "mecab-ko-dic-2.1.1-20180720/README\n",
            "mecab-ko-dic-2.1.1-20180720/EF.csv\n",
            "mecab-ko-dic-2.1.1-20180720/MAG.csv\n",
            "mecab-ko-dic-2.1.1-20180720/Preanalysis.csv\n",
            "mecab-ko-dic-2.1.1-20180720/NNB.csv\n",
            "mecab-ko-dic-2.1.1-20180720/Person-actor.csv\n",
            "mecab-ko-dic-2.1.1-20180720/VV.csv\n",
            "mecab-ko-dic-2.1.1-20180720/Makefile.in\n",
            "mecab-ko-dic-2.1.1-20180720/matrix.def\n",
            "mecab-ko-dic-2.1.1-20180720/EC.csv\n",
            "mecab-ko-dic-2.1.1-20180720/NNBC.csv\n",
            "mecab-ko-dic-2.1.1-20180720/clean\n",
            "mecab-ko-dic-2.1.1-20180720/ChangeLog\n",
            "mecab-ko-dic-2.1.1-20180720/J.csv\n",
            "mecab-ko-dic-2.1.1-20180720/.keep\n",
            "mecab-ko-dic-2.1.1-20180720/feature.def\n",
            "mecab-ko-dic-2.1.1-20180720/Foreign.csv\n",
            "mecab-ko-dic-2.1.1-20180720/XPN.csv\n",
            "mecab-ko-dic-2.1.1-20180720/EP.csv\n",
            "mecab-ko-dic-2.1.1-20180720/NR.csv\n",
            "mecab-ko-dic-2.1.1-20180720/left-id.def\n",
            "mecab-ko-dic-2.1.1-20180720/Place.csv\n",
            "mecab-ko-dic-2.1.1-20180720/Symbol.csv\n",
            "mecab-ko-dic-2.1.1-20180720/dicrc\n",
            "mecab-ko-dic-2.1.1-20180720/NP.csv\n",
            "mecab-ko-dic-2.1.1-20180720/ETM.csv\n",
            "mecab-ko-dic-2.1.1-20180720/IC.csv\n",
            "mecab-ko-dic-2.1.1-20180720/Place-address.csv\n",
            "mecab-ko-dic-2.1.1-20180720/Group.csv\n",
            "mecab-ko-dic-2.1.1-20180720/model.def\n",
            "mecab-ko-dic-2.1.1-20180720/XSN.csv\n",
            "mecab-ko-dic-2.1.1-20180720/INSTALL\n",
            "mecab-ko-dic-2.1.1-20180720/rewrite.def\n",
            "mecab-ko-dic-2.1.1-20180720/Inflect.csv\n",
            "mecab-ko-dic-2.1.1-20180720/configure.ac\n",
            "mecab-ko-dic-2.1.1-20180720/NNP.csv\n",
            "mecab-ko-dic-2.1.1-20180720/CoinedWord.csv\n",
            "mecab-ko-dic-2.1.1-20180720/XSV.csv\n",
            "mecab-ko-dic-2.1.1-20180720/pos-id.def\n",
            "mecab-ko-dic-2.1.1-20180720/Makefile.am\n",
            "mecab-ko-dic-2.1.1-20180720/unk.def\n",
            "mecab-ko-dic-2.1.1-20180720/missing\n",
            "mecab-ko-dic-2.1.1-20180720/VCP.csv\n",
            "mecab-ko-dic-2.1.1-20180720/install-sh\n",
            "mecab-ko-dic-2.1.1-20180720/Hanja.csv\n",
            "mecab-ko-dic-2.1.1-20180720/MAJ.csv\n",
            "mecab-ko-dic-2.1.1-20180720/XSA.csv\n",
            "mecab-ko-dic-2.1.1-20180720/Wikipedia.csv\n",
            "mecab-ko-dic-2.1.1-20180720/tools/\n",
            "mecab-ko-dic-2.1.1-20180720/tools/add-userdic.sh\n",
            "mecab-ko-dic-2.1.1-20180720/tools/mecab-bestn.sh\n",
            "mecab-ko-dic-2.1.1-20180720/tools/convert_for_using_store.sh\n",
            "mecab-ko-dic-2.1.1-20180720/user-dic/\n",
            "mecab-ko-dic-2.1.1-20180720/user-dic/nnp.csv\n",
            "mecab-ko-dic-2.1.1-20180720/user-dic/place.csv\n",
            "mecab-ko-dic-2.1.1-20180720/user-dic/person.csv\n",
            "mecab-ko-dic-2.1.1-20180720/user-dic/README.md\n",
            "mecab-ko-dic-2.1.1-20180720/NorthKorea.csv\n",
            "mecab-ko-dic-2.1.1-20180720/VX.csv\n",
            "mecab-ko-dic-2.1.1-20180720/right-id.def\n",
            "mecab-ko-dic-2.1.1-20180720/VA.csv\n",
            "mecab-ko-dic-2.1.1-20180720/char.def\n",
            "mecab-ko-dic-2.1.1-20180720/NEWS\n",
            "mecab-ko-dic-2.1.1-20180720/MM.csv\n",
            "mecab-ko-dic-2.1.1-20180720/ETN.csv\n",
            "mecab-ko-dic-2.1.1-20180720/AUTHORS\n",
            "mecab-ko-dic-2.1.1-20180720/Person.csv\n",
            "mecab-ko-dic-2.1.1-20180720/XR.csv\n",
            "mecab-ko-dic-2.1.1-20180720/VCN.csv\n",
            "Looking in current directory for macros.\n",
            "configure.ac:2: warning: AM_INIT_AUTOMAKE: two- and three-arguments forms are deprecated.  For more info, see:\n",
            "configure.ac:2: http://www.gnu.org/software/automake/manual/automake.html#Modernize-AM_005fINIT_005fAUTOMAKE-invocation\n",
            "checking for a BSD-compatible install... /usr/bin/install -c\n",
            "checking whether build environment is sane... yes\n",
            "/tmp/mecab-ko-dic-2.1.1-20180720/missing: Unknown `--is-lightweight' option\n",
            "Try `/tmp/mecab-ko-dic-2.1.1-20180720/missing --help' for more information\n",
            "configure: WARNING: 'missing' script is too old or missing\n",
            "checking for a thread-safe mkdir -p... /bin/mkdir -p\n",
            "checking for gawk... no\n",
            "checking for mawk... mawk\n",
            "checking whether make sets $(MAKE)... yes\n",
            "checking whether make supports nested variables... yes\n",
            "checking for mecab-config... /usr/local/bin/mecab-config\n",
            "checking that generated files are newer than configure... done\n",
            "configure: creating ./config.status\n",
            "config.status: creating Makefile\n",
            "/usr/local/libexec/mecab/mecab-dict-index -d . -o . -f UTF-8 -t UTF-8\n",
            "reading ./unk.def ... 13\n",
            "emitting double-array: 100% |###########################################| \n",
            "reading ./NR.csv ... 482\n",
            "reading ./NNG.csv ... 208524\n",
            "reading ./J.csv ... 416\n",
            "reading ./Person-actor.csv ... 99230\n",
            "reading ./Group.csv ... 3176\n",
            "reading ./Place.csv ... 30303\n",
            "reading ./ETM.csv ... 133\n",
            "reading ./Symbol.csv ... 16\n",
            "reading ./Preanalysis.csv ... 5\n",
            "reading ./XSA.csv ... 19\n",
            "reading ./NNBC.csv ... 677\n",
            "reading ./XSN.csv ... 124\n",
            "reading ./MM.csv ... 453\n",
            "reading ./VCP.csv ... 9\n",
            "reading ./EC.csv ... 2547\n",
            "reading ./VA.csv ... 2360\n",
            "reading ./NP.csv ... 342\n",
            "reading ./NorthKorea.csv ... 3\n",
            "reading ./VCN.csv ... 7\n",
            "reading ./EF.csv ... 1820\n",
            "reading ./NNP.csv ... 2371\n",
            "reading ./VV.csv ... 7331\n",
            "reading ./EP.csv ... 51\n",
            "reading ./Hanja.csv ... 125750\n",
            "reading ./Wikipedia.csv ... 36762\n",
            "reading ./XR.csv ... 3637\n",
            "reading ./Place-address.csv ... 19301\n",
            "reading ./XPN.csv ... 83\n",
            "reading ./CoinedWord.csv ... 148\n",
            "reading ./Person.csv ... 196459\n",
            "reading ./IC.csv ... 1305\n",
            "reading ./ETN.csv ... 14\n",
            "reading ./Inflect.csv ... 44820\n",
            "reading ./Place-station.csv ... 1145\n",
            "reading ./MAJ.csv ... 240\n",
            "reading ./Foreign.csv ... 11690\n",
            "reading ./MAG.csv ... 14242\n",
            "reading ./XSV.csv ... 23\n",
            "reading ./NNB.csv ... 140\n",
            "reading ./VX.csv ... 125\n",
            "emitting double-array: 100% |###########################################| \n",
            "reading ./matrix.def ... 3822x2693\n",
            "emitting matrix      : 100% |###########################################| \n",
            "\n",
            "done!\n",
            "echo To enable dictionary, rewrite /usr/local/etc/mecabrc as \\\"dicdir = /usr/local/lib/mecab/dic/mecab-ko-dic\\\"\n",
            "To enable dictionary, rewrite /usr/local/etc/mecabrc as \"dicdir = /usr/local/lib/mecab/dic/mecab-ko-dic\"\n",
            "make[1]: Entering directory '/tmp/mecab-ko-dic-2.1.1-20180720'\n",
            "make[1]: Nothing to be done for 'install-exec-am'.\n",
            " /bin/mkdir -p '/usr/local/lib/mecab/dic/mecab-ko-dic'\n",
            " /usr/bin/install -c -m 644 model.bin matrix.bin char.bin sys.dic unk.dic left-id.def right-id.def rewrite.def pos-id.def dicrc '/usr/local/lib/mecab/dic/mecab-ko-dic'\n",
            "make[1]: Leaving directory '/tmp/mecab-ko-dic-2.1.1-20180720'\n",
            "Cloning into 'mecab-python-0.996'...\n",
            "Unpacking objects: 100% (17/17), done.\n",
            "running build\n",
            "running build_py\n",
            "creating build\n",
            "creating build/lib.linux-x86_64-3.7\n",
            "copying MeCab.py -> build/lib.linux-x86_64-3.7\n",
            "running build_ext\n",
            "building '_MeCab' extension\n",
            "creating build/temp.linux-x86_64-3.7\n",
            "x86_64-linux-gnu-gcc -pthread -Wno-unused-result -Wsign-compare -DNDEBUG -g -fwrapv -O2 -Wall -g -fstack-protector-strong -Wformat -Werror=format-security -g -fwrapv -O2 -g -fstack-protector-strong -Wformat -Werror=format-security -Wdate-time -D_FORTIFY_SOURCE=2 -fPIC -I/usr/local/include -I/usr/include/python3.7m -c MeCab_wrap.cxx -o build/temp.linux-x86_64-3.7/MeCab_wrap.o\n",
            "x86_64-linux-gnu-g++ -pthread -shared -Wl,-O1 -Wl,-Bsymbolic-functions -Wl,-Bsymbolic-functions -g -fwrapv -O2 -Wl,-Bsymbolic-functions -g -fwrapv -O2 -g -fstack-protector-strong -Wformat -Werror=format-security -Wdate-time -D_FORTIFY_SOURCE=2 build/temp.linux-x86_64-3.7/MeCab_wrap.o -L/usr/local/lib -lmecab -lstdc++ -o build/lib.linux-x86_64-3.7/_MeCab.cpython-37m-x86_64-linux-gnu.so\n",
            "running install\n",
            "running build\n",
            "running build_py\n",
            "running build_ext\n",
            "running install_lib\n",
            "copying build/lib.linux-x86_64-3.7/_MeCab.cpython-37m-x86_64-linux-gnu.so -> /usr/local/lib/python3.7/dist-packages\n",
            "copying build/lib.linux-x86_64-3.7/MeCab.py -> /usr/local/lib/python3.7/dist-packages\n",
            "byte-compiling /usr/local/lib/python3.7/dist-packages/MeCab.py to MeCab.cpython-37.pyc\n",
            "running install_egg_info\n",
            "Writing /usr/local/lib/python3.7/dist-packages/mecab_python-0.996_ko_0.9.2.egg-info\n",
            "Looking in indexes: https://pypi.org/simple, https://us-python.pkg.dev/colab-wheels/public/simple/\n",
            "Collecting konlpy\n",
            "  Downloading konlpy-0.6.0-py2.py3-none-any.whl (19.4 MB)\n",
            "\u001b[K     |████████████████████████████████| 19.4 MB 6.4 MB/s \n",
            "\u001b[?25hRequirement already satisfied: lxml>=4.1.0 in /usr/local/lib/python3.7/dist-packages (from konlpy) (4.9.1)\n",
            "Collecting JPype1>=0.7.0\n",
            "  Downloading JPype1-1.4.0-cp37-cp37m-manylinux_2_5_x86_64.manylinux1_x86_64.whl (453 kB)\n",
            "\u001b[K     |████████████████████████████████| 453 kB 86.3 MB/s \n",
            "\u001b[?25hRequirement already satisfied: numpy>=1.6 in /usr/local/lib/python3.7/dist-packages (from konlpy) (1.21.6)\n",
            "Requirement already satisfied: typing-extensions in /usr/local/lib/python3.7/dist-packages (from JPype1>=0.7.0->konlpy) (4.1.1)\n",
            "Installing collected packages: JPype1, konlpy\n",
            "Successfully installed JPype1-1.4.0 konlpy-0.6.0\n"
          ]
        }
      ],
      "source": [
        "!curl -s https://raw.githubusercontent.com/teddylee777/machine-learning/master/99-Misc/01-Colab/mecab-colab.sh | bash"
      ]
    },
    {
      "cell_type": "code",
      "execution_count": 3,
      "metadata": {
        "colab": {
          "base_uri": "https://localhost:8080/"
        },
        "id": "6WFh4Ipq3c5l",
        "outputId": "6f61243d-32f8-49c1-e3e4-60ecd613a094"
      },
      "outputs": [
        {
          "output_type": "stream",
          "name": "stdout",
          "text": [
            "Looking in indexes: https://pypi.org/simple, https://us-python.pkg.dev/colab-wheels/public/simple/\n",
            "Collecting sentencepiece\n",
            "  Downloading sentencepiece-0.1.97-cp37-cp37m-manylinux_2_17_x86_64.manylinux2014_x86_64.whl (1.3 MB)\n",
            "\u001b[K     |████████████████████████████████| 1.3 MB 8.1 MB/s \n",
            "\u001b[?25hInstalling collected packages: sentencepiece\n",
            "Successfully installed sentencepiece-0.1.97\n"
          ]
        }
      ],
      "source": [
        "! pip install sentencepiece"
      ]
    },
    {
      "cell_type": "code",
      "execution_count": 4,
      "metadata": {
        "id": "-FBZtJOq2ON7"
      },
      "outputs": [],
      "source": [
        "import tensorflow as tf\n",
        "import numpy as np\n",
        "import matplotlib as plt\n",
        "import konlpy\n",
        "import matplotlib.pyplot as plt\n",
        "import numpy as np\n",
        "from konlpy.tag import Mecab\n",
        "import sentencepiece as spm\n",
        "import os\n",
        "import urllib.request\n",
        "import pandas as pd\n",
        "from collections import Counter\n",
        "mecab = Mecab()"
      ]
    },
    {
      "cell_type": "markdown",
      "source": [
        "## 2. 네이버 영화리뷰 감정 분석 문제에 SentencePiece 적용해 보기\n",
        "\n",
        "네이버 영화리뷰 감정 분석 태스크가 있습니다. 한국어로 된 corpus를 다루어야 하므로 주로 KoNLPy에서 제공하는 형태소 분석기를 사용하여 텍스트를 전처리해서 RNN 모델을 분류기로 사용하게 되는데요.\n",
        "\n",
        "만약 이 문제에서 tokenizer를 SentencePiece로 바꾸어 다시 풀어본다면 더 성능이 좋아질까요? KoNLPy에 있는 Mecab, kkma, Okt 등과 비교해보세요.\n",
        "\n",
        "- 네이버 영화리뷰 감정 분석 코퍼스에 SentencePiece를 적용시킨 모델 학습하기\n",
        "- 학습된 모델로 sp_tokenize() 메소드 구현하기\n",
        "- 구현된 토크나이저를 적용하여 네이버 영화리뷰 감정 분석 모델을 재학습하기\n",
        "- KoNLPy 형태소 분석기를 사용한 모델과 성능 비교하기\n",
        "- SentencePiece 모델의 model_type, vocab_size 등을 변경해 가면서 성능 개선 여부 확인하기\n",
        "\n",
        "Word Vector는 활용할 필요가 없습니다. 활용이 가능하지도 않을 것입니다."
      ],
      "metadata": {
        "id": "obb9kxl0SgrV"
      }
    },
    {
      "cell_type": "markdown",
      "metadata": {
        "id": "ULodAvDH4ehT"
      },
      "source": [
        "### 1) 데이터 다운로드 및 분석"
      ]
    },
    {
      "cell_type": "markdown",
      "metadata": {
        "id": "lcF-65x05m73"
      },
      "source": [
        "#### (1) 데이터 다운로드"
      ]
    },
    {
      "cell_type": "code",
      "execution_count": 5,
      "metadata": {
        "id": "eLwF1lPS6g9p"
      },
      "outputs": [],
      "source": [
        "urllib.request.urlretrieve(\"https://raw.githubusercontent.com/e9t/nsmc/master/ratings_train.txt\", filename=\"ratings_train.txt\")\n",
        "urllib.request.urlretrieve(\"https://raw.githubusercontent.com/e9t/nsmc/master/ratings_test.txt\", filename=\"ratings_test.txt\")\n",
        "\n",
        "\n",
        "train_data = pd.read_table('ratings_train.txt')\n",
        "test_data = pd.read_table('ratings_test.txt')\n"
      ]
    },
    {
      "cell_type": "code",
      "execution_count": 6,
      "metadata": {
        "colab": {
          "base_uri": "https://localhost:8080/",
          "height": 423
        },
        "id": "Sv_QJv2b_G31",
        "outputId": "2b830a0d-0508-4190-a999-3547d800214d"
      },
      "outputs": [
        {
          "output_type": "execute_result",
          "data": {
            "text/plain": [
              "              id                                           document  label\n",
              "0        9976970                                아 더빙.. 진짜 짜증나네요 목소리      0\n",
              "1        3819312                  흠...포스터보고 초딩영화줄....오버연기조차 가볍지 않구나      1\n",
              "2       10265843                                  너무재밓었다그래서보는것을추천한다      0\n",
              "3        9045019                      교도소 이야기구먼 ..솔직히 재미는 없다..평점 조정      0\n",
              "4        6483659  사이몬페그의 익살스런 연기가 돋보였던 영화!스파이더맨에서 늙어보이기만 했던 커스틴 ...      1\n",
              "...          ...                                                ...    ...\n",
              "149995   6222902                                인간이 문제지.. 소는 뭔죄인가..      0\n",
              "149996   8549745                                      평점이 너무 낮아서...      1\n",
              "149997   9311800                    이게 뭐요? 한국인은 거들먹거리고 필리핀 혼혈은 착하다?      0\n",
              "149998   2376369                        청춘 영화의 최고봉.방황과 우울했던 날들의 자화상      1\n",
              "149999   9619869                           한국 영화 최초로 수간하는 내용이 담긴 영화      0\n",
              "\n",
              "[150000 rows x 3 columns]"
            ],
            "text/html": [
              "\n",
              "  <div id=\"df-e5d332d6-654b-4611-b255-5fe8f3c8e9dc\">\n",
              "    <div class=\"colab-df-container\">\n",
              "      <div>\n",
              "<style scoped>\n",
              "    .dataframe tbody tr th:only-of-type {\n",
              "        vertical-align: middle;\n",
              "    }\n",
              "\n",
              "    .dataframe tbody tr th {\n",
              "        vertical-align: top;\n",
              "    }\n",
              "\n",
              "    .dataframe thead th {\n",
              "        text-align: right;\n",
              "    }\n",
              "</style>\n",
              "<table border=\"1\" class=\"dataframe\">\n",
              "  <thead>\n",
              "    <tr style=\"text-align: right;\">\n",
              "      <th></th>\n",
              "      <th>id</th>\n",
              "      <th>document</th>\n",
              "      <th>label</th>\n",
              "    </tr>\n",
              "  </thead>\n",
              "  <tbody>\n",
              "    <tr>\n",
              "      <th>0</th>\n",
              "      <td>9976970</td>\n",
              "      <td>아 더빙.. 진짜 짜증나네요 목소리</td>\n",
              "      <td>0</td>\n",
              "    </tr>\n",
              "    <tr>\n",
              "      <th>1</th>\n",
              "      <td>3819312</td>\n",
              "      <td>흠...포스터보고 초딩영화줄....오버연기조차 가볍지 않구나</td>\n",
              "      <td>1</td>\n",
              "    </tr>\n",
              "    <tr>\n",
              "      <th>2</th>\n",
              "      <td>10265843</td>\n",
              "      <td>너무재밓었다그래서보는것을추천한다</td>\n",
              "      <td>0</td>\n",
              "    </tr>\n",
              "    <tr>\n",
              "      <th>3</th>\n",
              "      <td>9045019</td>\n",
              "      <td>교도소 이야기구먼 ..솔직히 재미는 없다..평점 조정</td>\n",
              "      <td>0</td>\n",
              "    </tr>\n",
              "    <tr>\n",
              "      <th>4</th>\n",
              "      <td>6483659</td>\n",
              "      <td>사이몬페그의 익살스런 연기가 돋보였던 영화!스파이더맨에서 늙어보이기만 했던 커스틴 ...</td>\n",
              "      <td>1</td>\n",
              "    </tr>\n",
              "    <tr>\n",
              "      <th>...</th>\n",
              "      <td>...</td>\n",
              "      <td>...</td>\n",
              "      <td>...</td>\n",
              "    </tr>\n",
              "    <tr>\n",
              "      <th>149995</th>\n",
              "      <td>6222902</td>\n",
              "      <td>인간이 문제지.. 소는 뭔죄인가..</td>\n",
              "      <td>0</td>\n",
              "    </tr>\n",
              "    <tr>\n",
              "      <th>149996</th>\n",
              "      <td>8549745</td>\n",
              "      <td>평점이 너무 낮아서...</td>\n",
              "      <td>1</td>\n",
              "    </tr>\n",
              "    <tr>\n",
              "      <th>149997</th>\n",
              "      <td>9311800</td>\n",
              "      <td>이게 뭐요? 한국인은 거들먹거리고 필리핀 혼혈은 착하다?</td>\n",
              "      <td>0</td>\n",
              "    </tr>\n",
              "    <tr>\n",
              "      <th>149998</th>\n",
              "      <td>2376369</td>\n",
              "      <td>청춘 영화의 최고봉.방황과 우울했던 날들의 자화상</td>\n",
              "      <td>1</td>\n",
              "    </tr>\n",
              "    <tr>\n",
              "      <th>149999</th>\n",
              "      <td>9619869</td>\n",
              "      <td>한국 영화 최초로 수간하는 내용이 담긴 영화</td>\n",
              "      <td>0</td>\n",
              "    </tr>\n",
              "  </tbody>\n",
              "</table>\n",
              "<p>150000 rows × 3 columns</p>\n",
              "</div>\n",
              "      <button class=\"colab-df-convert\" onclick=\"convertToInteractive('df-e5d332d6-654b-4611-b255-5fe8f3c8e9dc')\"\n",
              "              title=\"Convert this dataframe to an interactive table.\"\n",
              "              style=\"display:none;\">\n",
              "        \n",
              "  <svg xmlns=\"http://www.w3.org/2000/svg\" height=\"24px\"viewBox=\"0 0 24 24\"\n",
              "       width=\"24px\">\n",
              "    <path d=\"M0 0h24v24H0V0z\" fill=\"none\"/>\n",
              "    <path d=\"M18.56 5.44l.94 2.06.94-2.06 2.06-.94-2.06-.94-.94-2.06-.94 2.06-2.06.94zm-11 1L8.5 8.5l.94-2.06 2.06-.94-2.06-.94L8.5 2.5l-.94 2.06-2.06.94zm10 10l.94 2.06.94-2.06 2.06-.94-2.06-.94-.94-2.06-.94 2.06-2.06.94z\"/><path d=\"M17.41 7.96l-1.37-1.37c-.4-.4-.92-.59-1.43-.59-.52 0-1.04.2-1.43.59L10.3 9.45l-7.72 7.72c-.78.78-.78 2.05 0 2.83L4 21.41c.39.39.9.59 1.41.59.51 0 1.02-.2 1.41-.59l7.78-7.78 2.81-2.81c.8-.78.8-2.07 0-2.86zM5.41 20L4 18.59l7.72-7.72 1.47 1.35L5.41 20z\"/>\n",
              "  </svg>\n",
              "      </button>\n",
              "      \n",
              "  <style>\n",
              "    .colab-df-container {\n",
              "      display:flex;\n",
              "      flex-wrap:wrap;\n",
              "      gap: 12px;\n",
              "    }\n",
              "\n",
              "    .colab-df-convert {\n",
              "      background-color: #E8F0FE;\n",
              "      border: none;\n",
              "      border-radius: 50%;\n",
              "      cursor: pointer;\n",
              "      display: none;\n",
              "      fill: #1967D2;\n",
              "      height: 32px;\n",
              "      padding: 0 0 0 0;\n",
              "      width: 32px;\n",
              "    }\n",
              "\n",
              "    .colab-df-convert:hover {\n",
              "      background-color: #E2EBFA;\n",
              "      box-shadow: 0px 1px 2px rgba(60, 64, 67, 0.3), 0px 1px 3px 1px rgba(60, 64, 67, 0.15);\n",
              "      fill: #174EA6;\n",
              "    }\n",
              "\n",
              "    [theme=dark] .colab-df-convert {\n",
              "      background-color: #3B4455;\n",
              "      fill: #D2E3FC;\n",
              "    }\n",
              "\n",
              "    [theme=dark] .colab-df-convert:hover {\n",
              "      background-color: #434B5C;\n",
              "      box-shadow: 0px 1px 3px 1px rgba(0, 0, 0, 0.15);\n",
              "      filter: drop-shadow(0px 1px 2px rgba(0, 0, 0, 0.3));\n",
              "      fill: #FFFFFF;\n",
              "    }\n",
              "  </style>\n",
              "\n",
              "      <script>\n",
              "        const buttonEl =\n",
              "          document.querySelector('#df-e5d332d6-654b-4611-b255-5fe8f3c8e9dc button.colab-df-convert');\n",
              "        buttonEl.style.display =\n",
              "          google.colab.kernel.accessAllowed ? 'block' : 'none';\n",
              "\n",
              "        async function convertToInteractive(key) {\n",
              "          const element = document.querySelector('#df-e5d332d6-654b-4611-b255-5fe8f3c8e9dc');\n",
              "          const dataTable =\n",
              "            await google.colab.kernel.invokeFunction('convertToInteractive',\n",
              "                                                     [key], {});\n",
              "          if (!dataTable) return;\n",
              "\n",
              "          const docLinkHtml = 'Like what you see? Visit the ' +\n",
              "            '<a target=\"_blank\" href=https://colab.research.google.com/notebooks/data_table.ipynb>data table notebook</a>'\n",
              "            + ' to learn more about interactive tables.';\n",
              "          element.innerHTML = '';\n",
              "          dataTable['output_type'] = 'display_data';\n",
              "          await google.colab.output.renderOutput(dataTable, element);\n",
              "          const docLink = document.createElement('div');\n",
              "          docLink.innerHTML = docLinkHtml;\n",
              "          element.appendChild(docLink);\n",
              "        }\n",
              "      </script>\n",
              "    </div>\n",
              "  </div>\n",
              "  "
            ]
          },
          "metadata": {},
          "execution_count": 6
        }
      ],
      "source": [
        "train_data"
      ]
    },
    {
      "cell_type": "markdown",
      "source": [
        "- map을 사용해서 str을 list에 담는다. : https://dojang.io/mod/page/view.php?id=2286"
      ],
      "metadata": {
        "id": "sCoYB-8MBiPe"
      }
    },
    {
      "cell_type": "markdown",
      "metadata": {
        "id": "fKg9Xsj-5pCp"
      },
      "source": [
        "#### (2) 분석"
      ]
    },
    {
      "cell_type": "code",
      "execution_count": 7,
      "metadata": {
        "id": "N08BP1Gp_5Ie"
      },
      "outputs": [],
      "source": [
        "train_raw = list(map(str,train_data.document))\n",
        "test_raw = list(map(str,test_data.document))"
      ]
    },
    {
      "cell_type": "code",
      "execution_count": 8,
      "metadata": {
        "colab": {
          "base_uri": "https://localhost:8080/",
          "height": 412
        },
        "id": "RVElvT0l-8rp",
        "outputId": "b4ac83d7-dda0-4685-8dd4-aaa62fe59d93"
      },
      "outputs": [
        {
          "output_type": "stream",
          "name": "stdout",
          "text": [
            "문장의 최단 길이: 1\n",
            "문장의 최장 길이: 146\n",
            "문장의 평균 길이: 35\n"
          ]
        },
        {
          "output_type": "stream",
          "name": "stderr",
          "text": [
            "/usr/local/lib/python3.7/dist-packages/ipykernel_launcher.py:15: DeprecationWarning: `np.int` is a deprecated alias for the builtin `int`. To silence this warning, use `int` by itself. Doing this will not modify any behavior and is safe. When replacing `np.int`, you may wish to use e.g. `np.int64` or `np.int32` to specify the precision. If you wish to review your current use, check the release note link for additional information.\n",
            "Deprecated in NumPy 1.20; for more details and guidance: https://numpy.org/devdocs/release/1.20.0-notes.html#deprecations\n",
            "  from ipykernel import kernelapp as app\n"
          ]
        },
        {
          "output_type": "display_data",
          "data": {
            "text/plain": [
              "<Figure size 432x288 with 1 Axes>"
            ],
            "image/png": "[encoded data removed]"
          },
          "metadata": {
            "needs_background": "light"
          }
        }
      ],
      "source": [
        "min_len = 999\n",
        "max_len = 0\n",
        "sum_len = 0\n",
        "\n",
        "for sen in train_raw:\n",
        "    length = len(sen)\n",
        "    if min_len > length: min_len = length\n",
        "    if max_len < length: max_len = length\n",
        "    sum_len += length\n",
        "\n",
        "print(\"문장의 최단 길이:\", min_len)\n",
        "print(\"문장의 최장 길이:\", max_len)\n",
        "print(\"문장의 평균 길이:\", sum_len // len(train_raw))\n",
        "\n",
        "sentence_length = np.zeros((max_len), dtype=np.int)\n",
        "\n",
        "for sen in train_raw:\n",
        "    sentence_length[len(sen)-1] += 1\n",
        "\n",
        "plt.bar(range(max_len), sentence_length, width=1.0)\n",
        "plt.title(\"Sentence Length Distribution\")\n",
        "plt.show()"
      ]
    },
    {
      "cell_type": "code",
      "source": [
        "def check_sentence_with_length(raw, length):\n",
        "    count = 0\n",
        "    \n",
        "    for sen in raw:\n",
        "        if len(sen) == length:\n",
        "            print(sen)\n",
        "            count += 1\n",
        "            if count > 100: return\n",
        "\n",
        "check_sentence_with_length(train_raw, 1)"
      ],
      "metadata": {
        "colab": {
          "base_uri": "https://localhost:8080/"
        },
        "id": "yvEuBZWsCnqe",
        "outputId": "1b14a4a4-ee02-44d4-963a-cad7e1ee5f62"
      },
      "execution_count": 9,
      "outputs": [
        {
          "output_type": "stream",
          "name": "stdout",
          "text": [
            "아\n",
            "잼\n",
            "1\n",
            "4\n",
            "4\n",
            "굿\n",
            "짱\n",
            "휴\n",
            ".\n",
            "1\n",
            "굿\n",
            "음\n",
            "?\n",
            "?\n",
            "ㅎ\n",
            "굿\n",
            "ㅋ\n",
            "굿\n",
            "즐\n",
            "♥\n",
            "굳\n",
            "ㅋ\n",
            "네\n",
            "ㅎ\n",
            "ㅋ\n",
            "굿\n",
            "ㅇ\n",
            "k\n",
            ".\n",
            "굿\n",
            "굿\n",
            "굳\n",
            "ㅠ\n",
            "?\n",
            "1\n",
            "ㅋ\n",
            "굿\n",
            "쒯\n",
            "굿\n",
            "굿\n",
            "굳\n",
            "♬\n",
            "굿\n",
            "토\n",
            "ㅋ\n",
            "ㅋ\n",
            "굿\n",
            "ㅋ\n",
            "굿\n",
            "O\n",
            "똥\n",
            "ㅎ\n",
            ".\n",
            "굿\n",
            "ㅎ\n",
            "짱\n",
            "굳\n",
            "굿\n",
            "굿\n",
            "짱\n",
            "?\n",
            "z\n",
            "굿\n",
            "짱\n",
            "음\n",
            "굳\n",
            "ㅇ\n",
            "헐\n",
            "굳\n",
            "굳\n",
            "굿\n",
            "굿\n",
            "굿\n",
            "삼\n",
            "꽝\n",
            "굿\n",
            "굿\n",
            "굿\n",
            "굿\n",
            "ㅎ\n",
            "굳\n",
            "굿\n",
            "4\n",
            "!\n",
            "?\n",
            "ㅎ\n",
            "1\n",
            "굳\n",
            ".\n",
            "ㅎ\n",
            "풉\n",
            "아\n",
            "굿\n",
            "똥\n",
            "ㅅ\n",
            "왜\n",
            "ㄴ\n",
            "굳\n",
            "쉣\n",
            "봐\n",
            "z\n"
          ]
        }
      ]
    },
    {
      "cell_type": "code",
      "source": [
        "for idx, _sum in enumerate(sentence_length):\n",
        "    # 문장의 수가 1500을 초과하는 문장 길이를 추출합니다.\n",
        "    if _sum > 2000:\n",
        "        print(\"Outlier Index:\", idx+1)"
      ],
      "metadata": {
        "colab": {
          "base_uri": "https://localhost:8080/"
        },
        "id": "pVv467rrCwEr",
        "outputId": "6f973b0d-2dd7-4bca-950e-6a921660fb0a"
      },
      "execution_count": 10,
      "outputs": [
        {
          "output_type": "stream",
          "name": "stdout",
          "text": [
            "Outlier Index: 10\n",
            "Outlier Index: 11\n",
            "Outlier Index: 12\n",
            "Outlier Index: 13\n",
            "Outlier Index: 14\n",
            "Outlier Index: 15\n",
            "Outlier Index: 16\n",
            "Outlier Index: 17\n",
            "Outlier Index: 18\n",
            "Outlier Index: 19\n",
            "Outlier Index: 20\n",
            "Outlier Index: 21\n",
            "Outlier Index: 22\n",
            "Outlier Index: 23\n",
            "Outlier Index: 24\n",
            "Outlier Index: 25\n",
            "Outlier Index: 26\n",
            "Outlier Index: 27\n",
            "Outlier Index: 28\n",
            "Outlier Index: 29\n",
            "Outlier Index: 30\n",
            "Outlier Index: 31\n",
            "Outlier Index: 32\n",
            "Outlier Index: 33\n",
            "Outlier Index: 34\n",
            "Outlier Index: 35\n",
            "Outlier Index: 36\n",
            "Outlier Index: 37\n",
            "Outlier Index: 38\n",
            "Outlier Index: 39\n",
            "Outlier Index: 40\n"
          ]
        }
      ]
    },
    {
      "cell_type": "code",
      "source": [
        "check_sentence_with_length(train_raw, 12)"
      ],
      "metadata": {
        "colab": {
          "base_uri": "https://localhost:8080/"
        },
        "id": "YDv9KfrkC2QA",
        "outputId": "4da15313-7d2d-47b6-a794-974fbaad039d"
      },
      "execution_count": 11,
      "outputs": [
        {
          "output_type": "stream",
          "name": "stdout",
          "text": [
            "아햏햏 아햏햏 아햏햏.\n",
            "단연 최고라고 할수있지\n",
            "용가리 진짜짱짱맨이다ㅋ\n",
            "나름 괜찮은 작품입니다\n",
            "정말 실망 스러웟음..\n",
            "무술인이 왜 총을드나?\n",
            "너무너무 훈훈하네요^^\n",
            "현실은 꿈, 꿈은 현실\n",
            "답없네, 뭐하는건지..\n",
            "엔딩이 넘 슬퍼요 :(\n",
            "감동감동감동의 도가니탕\n",
            "정말 최고의 영화...\n",
            "진짜 짜증나는 영화..\n",
            "상당히 재밌게 봤습니다\n",
            "영상미가 역시 최고네요\n",
            "감독ㅡㅡ다신영화찍지마라\n",
            "이런 영화가 참 좋다.\n",
            "정말 광해와 비슷한가?\n",
            "더빙이 똥이야 ....\n",
            "잠을 청할 수 있었다.\n",
            "나오코 진짜 집중안된다\n",
            "샬라샬라 나오다즁자쥬아\n",
            "지루하다.. 지루해..\n",
            "사과해요, 나한테!!!\n",
            "소재가 굉장히 신선했다\n",
            "솔직히 산만 하기만했다\n",
            "OST가 좋은 영화!!\n",
            "기적은 이미 일어났다.\n",
            "답을 알려고 하지마라.\n",
            "평점은 믿지마셈 재밌음\n",
            "재미 드럽게 없다ㅋㅋㅋ\n",
            "자식을 그렇게 때리냐?\n",
            "감동적이였고 좋았습니다\n",
            "울컥하는 사회현실 ㅠㅠ\n",
            "등장인물들 모두 짱~~\n",
            "막장드라마가 따로없구만\n",
            "말 필요엄따~~~~진정\n",
            "꿀잼 영화 추억이다ㅜㅜ\n",
            "맞추자 ㅍ?차븟ㅇㄱ디시\n",
            "순수하고 아름답다 :)\n",
            "변태적 성욕 자기합리화\n",
            "흠....나름 갠찬네요\n",
            "걍 10점 이라길래..\n",
            "실력이 필요없는 상황.\n",
            "감동과 웃음을 한방에!\n",
            "이거야 이거 ㅋㅋㅋㅋㅋ\n",
            "성동일딸 시르다...참\n",
            "평점알바들을 위해 1점\n",
            "볼만합니다 강추!!ㅋㅋ\n",
            "이거말고 겨울왕국을봐라\n",
            "좋은니다..^.,^~~\n",
            "2.3 (10자 제한)\n",
            "아무도 안달았네..ㄷㄷ\n",
            "엉성하고 어설프고...\n",
            "그냥 보통으로 보았다.\n",
            "너무 슬픈영화..울음ㅠ\n",
            "으리는 개뿔 ㅡ,.ㅡ^\n",
            "처음 본 에로 영화..\n",
            "평점 조정을 위해...\n",
            "그냥 쓰레기지 쓰레기~\n",
            "쵝오네요 최고 대박영화\n",
            "유전무죄 무전유죄!!!\n",
            "의외의 꿀잼 이였습니다\n",
            "어차피 우승은 송민호~\n",
            "이 때부터가 쓰레기였지\n",
            "완전 찝찝한 영화...\n",
            "이상형이 바뀌었습니다.\n",
            "역시 산드라블록 누님!\n",
            "결국 엄마가 죽인거네?\n",
            "그냥 그저 별시리...\n",
            "추천할만한 경제영화였음\n",
            "제대로 알아야할 역사임\n",
            "일본판이더재미있음...\n",
            "역시 재미있군요 >ㅁ<\n",
            "아깝다 나의 1점도ㅡㅡ\n",
            "마음이 따뜻해지는 영화\n",
            "죽었다. 참 재미없다.\n",
            "최고, 정말 최고다,,\n",
            "공유 보려고 보는 영화\n",
            "재밌습니다. 꿀잼 ㅋㅋ\n",
            "조정래와 임권택의 만남\n",
            "간만에쓰레기영화보네요ㅋ\n",
            "너무재밌게 봤어요...\n",
            "의미가 뭘까...///\n",
            "이건 범죄 수준이다..\n",
            "박평식-뚜껑열린다ㅋㅋㅋ\n",
            "볼수록 재밌는 마의!!\n",
            "짱~ 오늘 티비로 봤음\n",
            "말없이 눈물이 뚝뚝..\n",
            "이렇게 유쾌할수가ㅋㅋㅋ\n",
            "완죤 지루하고 재미없네\n",
            "보다가 나가는 영화??\n",
            "에휴..........\n",
            "재미도 없구만...에효\n",
            "옥보단 3D보다 쓰레기\n",
            "반전이 꽤나 신선했다.\n",
            "허접허접허접허접허접허접\n",
            "독특한 유머. 재밌다.\n",
            "좀 식상한 스릴러영화~\n",
            "하하하핳하햐하핯하핳하하\n",
            "이영화 어디서 보나요?\n"
          ]
        }
      ]
    },
    {
      "cell_type": "code",
      "source": [
        "min_len = 999\n",
        "max_len = 0\n",
        "sum_len = 0\n",
        "\n",
        "cleaned_corpus = list(set(train_raw))  # set를 사용해서 중복을 제거합니다.\n",
        "print(\"Data Size:\", len(cleaned_corpus))\n",
        "\n",
        "for sen in cleaned_corpus:\n",
        "    length = len(sen)\n",
        "    if min_len > length: min_len = length\n",
        "    if max_len < length: max_len = length\n",
        "    sum_len += length\n",
        "\n",
        "print(\"문장의 최단 길이:\", min_len)\n",
        "print(\"문장의 최장 길이:\", max_len)\n",
        "print(\"문장의 평균 길이:\", sum_len // len(cleaned_corpus))\n",
        "\n",
        "sentence_length = np.zeros((max_len), dtype=np.int)\n",
        "\n",
        "for sen in cleaned_corpus:   # 중복이 제거된 코퍼스 기준\n",
        "    sentence_length[len(sen)-1] += 1\n",
        "\n",
        "plt.bar(range(max_len), sentence_length, width=1.0)\n",
        "plt.title(\"Sentence Length Distribution\")\n",
        "plt.show()"
      ],
      "metadata": {
        "colab": {
          "base_uri": "https://localhost:8080/",
          "height": 412
        },
        "id": "xxTnh2vHDFb1",
        "outputId": "f16003bd-daba-406d-97e3-cb947d9a5d68"
      },
      "execution_count": 12,
      "outputs": [
        {
          "output_type": "stream",
          "name": "stdout",
          "text": [
            "Data Size: 146183\n",
            "문장의 최단 길이: 1\n",
            "문장의 최장 길이: 146\n",
            "문장의 평균 길이: 35\n"
          ]
        },
        {
          "output_type": "stream",
          "name": "stderr",
          "text": [
            "/usr/local/lib/python3.7/dist-packages/ipykernel_launcher.py:18: DeprecationWarning: `np.int` is a deprecated alias for the builtin `int`. To silence this warning, use `int` by itself. Doing this will not modify any behavior and is safe. When replacing `np.int`, you may wish to use e.g. `np.int64` or `np.int32` to specify the precision. If you wish to review your current use, check the release note link for additional information.\n",
            "Deprecated in NumPy 1.20; for more details and guidance: https://numpy.org/devdocs/release/1.20.0-notes.html#deprecations\n"
          ]
        },
        {
          "output_type": "display_data",
          "data": {
            "text/plain": [
              "<Figure size 432x288 with 1 Axes>"
            ],
            "image/png": "[encoded data removed]"
          },
          "metadata": {
            "needs_background": "light"
          }
        }
      ]
    },
    {
      "cell_type": "markdown",
      "source": [
        "#### (3) SentencePiece용 전처리"
      ],
      "metadata": {
        "id": "Mc7zhKvIS0sk"
      }
    },
    {
      "cell_type": "code",
      "source": [
        "max_len = 130\n",
        "min_len = 10\n",
        "\n",
        "# 길이 조건에 맞는 문장만 선택합니다.\n",
        "filtered_corpus = [s for s in cleaned_corpus if (len(s) < max_len) & (len(s) >= min_len)]\n",
        "\n",
        "# 분포도를 다시 그려봅니다.\n",
        "sentence_length = np.zeros((max_len), dtype=np.int)\n",
        "\n",
        "for sen in filtered_corpus:\n",
        "    sentence_length[len(sen)-1] += 1\n",
        "\n",
        "plt.bar(range(max_len), sentence_length, width=1.0)\n",
        "plt.title(\"Sentence Length Distribution\")\n",
        "plt.show()"
      ],
      "metadata": {
        "colab": {
          "base_uri": "https://localhost:8080/",
          "height": 356
        },
        "id": "NatkY-y_DHpm",
        "outputId": "1c1e9701-b77c-493a-8fd6-6e91cee1b5a0"
      },
      "execution_count": 13,
      "outputs": [
        {
          "output_type": "stream",
          "name": "stderr",
          "text": [
            "/usr/local/lib/python3.7/dist-packages/ipykernel_launcher.py:8: DeprecationWarning: `np.int` is a deprecated alias for the builtin `int`. To silence this warning, use `int` by itself. Doing this will not modify any behavior and is safe. When replacing `np.int`, you may wish to use e.g. `np.int64` or `np.int32` to specify the precision. If you wish to review your current use, check the release note link for additional information.\n",
            "Deprecated in NumPy 1.20; for more details and guidance: https://numpy.org/devdocs/release/1.20.0-notes.html#deprecations\n",
            "  \n"
          ]
        },
        {
          "output_type": "display_data",
          "data": {
            "text/plain": [
              "<Figure size 432x288 with 1 Axes>"
            ],
            "image/png": "[encoded data removed]"
          },
          "metadata": {
            "needs_background": "light"
          }
        }
      ]
    },
    {
      "cell_type": "markdown",
      "metadata": {
        "id": "6bkMjaP-5arV"
      },
      "source": [
        "### 2) SentencePiece 모델 학습"
      ]
    },
    {
      "cell_type": "markdown",
      "source": [
        "#### (1) 함수 구현"
      ],
      "metadata": {
        "id": "PEd1R1B4W9nT"
      }
    },
    {
      "cell_type": "code",
      "source": [
        "def SP_model_train(Mtype, vocab_size):\n",
        "  temp_file = '/content/drive/MyDrive/인공지능/아이펠/GoingDeeper/제출용/data/sp_tokenizer/data/ratings_train.txt.temp'\n",
        "\n",
        "  with open(temp_file, 'w') as f:\n",
        "      for row in filtered_corpus:   # 이전 스텝에서 정제했던 corpus를 활용합니다.\n",
        "          f.write(str(row) + '\\n')\n",
        "\n",
        "  if Mtype == 'bpe' or Mtype == 'unigram' or Mtype == 'char'or Mtype == 'word':\n",
        "    spm.SentencePieceTrainer.Train(\n",
        "        '--input={} --model_prefix=korean_spm --vocab_size={} --model_type={}'.format(temp_file, vocab_size, Mtype)    \n",
        "    )\n",
        "  else:\n",
        "    print(\"Mtype를 잘 못 입력 했습니다 'bpe', 'unigram', 'char', 'word' 중 하나를 입력해주세요\")\n",
        "    if __name__ == \"__main__\": # 참조 : https://www.delftstack.com/ko/howto/python/python-exit-if-statement/\n",
        "      load_data(0)  \n",
        "      print(\"Broken out\")\n",
        "  \n",
        "  #위 Train에서  --model_type = 'unigram'이 디폴트 적용되어 있습니다. --model_type = 'bpe' 로 옵션을 주어 변경할 수 있습니다.\n",
        "\n"
      ],
      "metadata": {
        "id": "5Pb8eadwCWKG"
      },
      "execution_count": 14,
      "outputs": []
    },
    {
      "cell_type": "markdown",
      "source": [
        "#### (2) model_type, vocab_size 실험 및 모델 학습\n",
        "\n",
        "> SentencePiece model_type : https://data-make.tistory.com/692\n",
        "<br><br>LMS에서는 unigram, bpe만 소개해했지만 해당 링크에서는 여기에 char, word를 추가로 소개해주고 있다. 따라서 나는 이 두개도 추가해서 실험해 볼 예정이다."
      ],
      "metadata": {
        "id": "V1bP6j-AQHKf"
      }
    },
    {
      "cell_type": "code",
      "source": [
        "# SP_model_train('unigram', 8000)\n",
        "# SP_model_train('bpe', 8000)\n",
        "# SP_model_train('char', 8000)\n",
        "# SP_model_train('word', 8000)\n",
        "SP_model_train('char', 16000)"
      ],
      "metadata": {
        "id": "2DhYsZb-DLxw"
      },
      "execution_count": 15,
      "outputs": []
    },
    {
      "cell_type": "code",
      "source": [
        "!ls -l korean_spm*\n",
        "s = spm.SentencePieceProcessor()\n",
        "s.Load('korean_spm.model')"
      ],
      "metadata": {
        "colab": {
          "base_uri": "https://localhost:8080/"
        },
        "id": "ocT19IsJDCX5",
        "outputId": "8bc10662-1403-4512-b352-73eab2bdaf62"
      },
      "execution_count": 16,
      "outputs": [
        {
          "output_type": "stream",
          "name": "stdout",
          "text": [
            "-rw-r--r-- 1 root root 258138 Sep 25 11:02 korean_spm.model\n",
            "-rw-r--r-- 1 root root  21876 Sep 25 11:02 korean_spm.vocab\n"
          ]
        },
        {
          "output_type": "execute_result",
          "data": {
            "text/plain": [
              "True"
            ]
          },
          "metadata": {},
          "execution_count": 16
        }
      ]
    },
    {
      "cell_type": "markdown",
      "source": [
        "#### (3) model_type, vocab_size 실험결과\n",
        "\n",
        "> LMS에서 소개하지 않은 char 모델이 가장 좋은 정확도를 보여주고 있는 것을 확인했다. vocab_size의 경우는 8000보다는 16000으로 했을 때 accuracy는 차이가 없지만 loss가 더 떨어진 것을 확인할 수 있었다. <br><br> **결론은 char, 16000을 사용**하기로 한다."
      ],
      "metadata": {
        "id": "YEdzz7M7Mi-g"
      }
    },
    {
      "cell_type": "markdown",
      "source": [
        "- unigram, 8000\n",
        "  - ![image.png](data:image/png;base64,iVBORw0KGgoAAAANSUhEUgAAAgQAAABzCAYAAADnuhrGAAAAAXNSR0IArs4c6QAAAARnQU1BAACxjwv8YQUAAAAJcEhZcwAAFiUAABYlAUlSJPAAAAv9SURBVHhe7d07kiS3EYDhGXrj6ga7F9ChaNDUDWToBjRp6FC6wB5B7ni76tR2BpMZyCwABaAe/X8RiO5C4l01VZie5vL98/PzxxsAAHhpvzxfAQDAC2NDAAAA2BAAAAA2BAAA4IENAQAAYEMAAADYEABDfXx8PN8B98a1fj+n+3cI5CJ7jOl5dF+t8+xdl7uv55nmVxqLz7v7+cA+Z7s+/vb7r893P/33H/9+vvuJ6/leLvMJgVx4WOOV1/pMc58xlquc21ee+1nIZkA2ADb5DQLuhT8ZAAPIw6b0m5Lk6YMoKgNclb2+cX3phsDeyPxJ1zyfL6LY1nFEy5XaFJpfikVsHZu22HKl8hofGZsh6k+Po5iNt9C6vl7NcaleprdNPS7FhOaXYqNpH1F/mt8S0+NSbIao/y1b49T8lpgel2K9oj6U9lXqT/NKcc3z+WJ0zObbJPyfB3B/6XcI9MLwv9VIvs2zx70xVcoTtflRuVG0ff9qY2pETJXyatS0VdO/0Hz/uiVrvzemavJa2iy1J3rrqa14Sc9YspiI2pxhT99R2azNrf6iNnvtHYvw4+ltszfWQv+E4PW2h/PZ/JPB3hO9+kLhwmx31jWbMa5Xuz5e+efh7HOfOb6RbctGINoM4F66v0Mgu0JNllyIUWyG3v5sHZuOsnIMq8+RiPrTsQh59TeyqN4evW3uqWfnOUI0liPObWTr3PaK5rd67lvzO2IsUX9RzObbpOwXC3F/3RsCuQBtsmy+vbhm6enP1rHpKKvHYftafY4k1ZBxtdbZsqdNW6+17mjZWGz+inO7mp2fJMvmHz13OxZJs9m+/NxtTJLy+ZoEnwq8niH/lYG9+Fb/EN7xhjd7TjPbr2nbl5EbkOTpjegKojl4dl5Rmb1sm3vbHz2+2ef26LnXzm/v2La0tD9yLDVzx3VsfqkwOtn2ovJlamOiFN/qs6W/0XR8/lVlY7ExUVtP+H6Eb0/5dqP2VBYvteVfrVKe0PZEFK+p58vV1BO+joraFL5dX8/z7YhS23ps27N8eVFqV7XERNSmkFgpf49Sm3aMli0XjdPWbYmJqE0hsVL+lqje1ji36ohSPTUqFpFPCErspwbRPHBNp/uXCoEru/INcvTY9SF0hfXgwdaONbsfNgQAAGDMdwgAAMC1sSEAAABsCAAAABsCAADwwIYAAACwIQAAAGwIAADAAxsCAADAhgAAALAhAAAAD2wIAAAAGwIAAMCGAAAAPLAhAAAAbAgAAAAbAgAA8MCGAAAAsCEAAABsCAAAwAMbAgAAwIYAAABccEPw8fHxfHcvd50XAOAapm0I/vXb35/vxpGH5ufn5/PoWKMf4DIvNgUAgKOc6hOCGZuI1XioAwCuaNqG4J9//Of5bowzfTowC58SAACO8v54CP14vv8L/9u6f8BLXPK0XBS3sja3+ss2BBrTh6ktZx+wvn4U8335YxHlWbX9WaV2AQCYLf2EQB7KmvwDW+hD3z+8M1Gb2obGWumD1D5MbZ4k+0DOYr2kHX3V92pGfwAAjLLrTwY9D+5Z/AO41d76rVb3BwBA5lRfKpxBfhPXZOlv6aXYDKv7AwCgxe03BPIgtsmy+as2BSv7AwCgVrohkL/xazr6zwMjHqK2/uoHck1/UkbmCQDAatVfKlxB+tENyAi6idBkH7YtsRa2rpX1BwDA0dL/7PDoTwVK7vowZZMAADhSuCEAAACv4/ZfKgQAANvYEAAAADYEAACADQEAAHhgQwAAANgQAAAANgQAAOCBDQEAAGBDAAAA2BAAAIAHNgQAAODt/cfD8z0AAHhRfEIAAADYEAAAADYEAADggQ0BAABgQwAAANgQAACABzYEAADg3BuCr1+/Pt8BAEbh3jrWXdZz8x8mkol++/btefRTNHkt5+NRvvLtK9/3kWMZIRrLUUrreUY948zWuuY8aBmN+TrqCut3NzXnr2TPNSHxqJ8sNlrv3L2VY7aO6lfo2s3o/8h5DSUbgsiXL1/+n7xSnsrKt7Tl8+W4pb7Iyre2tdfq/moc3X8NGWPrOLO1zmKW5Nn82nqYq/c8ZPW22pT3pTIii41W6qen71XjLTm67xn9t7R55PxrpH8yONOO5xa7L+eOc8rILlp36bWOWKPb7PYvoOeaWC27Fo6+TrhO6/AzXWf4dwhafniikzTq5I0YyyrSv6ajZWPpjQlZ3yPXeI8jrpdsPXtitcdR3VK+iGJbx+IM18RVr0kvOg+WxErXcqmezfcxMSO2kh1DaSwaL8WUxFrWU199TGi+j9l8Hxvu+UlBqPQRh370YpOXxVQUa8nXPmzyspjKYiPYMWhS9r3wx7OU+snG0hvbq7WtUnnNy2Iieu9lsRF8+9m4RsSEHPs8kdXrjfUqtVHbrpSzKVKKtZafQcdtk7LvhT9WW+Vq25wRmyXqX9/7V2HfC3+stsqNaKe2jRG6PyHQnb0mv3PJYhkpK3Va2L5K/WWxVlK/lGrYcWRjkVgNPwZNq2TjrJ3Darruq9bL96VpS8v6jTwPpfKjxnIkWXMZm03+POi5mT0H7cenGltzUKU5SNlS/mwj+rTrZNMqvet5xHrv0bUhGHWCR7SzeixSrpT2kPp6gUuq5cegaRZpOxpnFjsbu1aSlIzbHkdqywnbj001zrSePWOReWp5ea2d9xF0fCvGqP34tIfU1/Oja16rt95Kfq00bZE51ZTzpE7PuvTWE731Rhr+HYI9k5G6PScvcuTCtpJ5azrzuLNxZjEheWc/JzpGHedR45V+7XoeaeZY7FofRed3dfYc+TXN5mjrRWWuTK8xXRO/NhG7Jr6OHEdrldXL2HqSjtC1IWiZ5GxnGkuvq8whG2fNHGZc6K1rl5W3P4w6ztHjnWHveRnJ9yfrJ3nROtq1HmX1nM9g1Jx9O3Ksqfc8jRpbD72+7HVWM4/eMY+aq29HjjXVjL9X1z9MJPyAbZkspny7NRNdNZZZase5Yiwimnc2lt7YHtE4Rc0chC2Txays7ajOSHac0p/t18es2piwcdu+59u0ZbP+RNZuD9uf8G1H/UX1fL6ybWRzyGKjRXMQNlY7djG6nqhtc6uP0Wx/+t6/KjlWPt8ee1E9pXEf6+1vpM0NwSorJw1gvujGh7V6763ck8tWr8vK/k6zIQAAAMcZ/qVCAABwPWwIAAAAGwIAAFCxIZAvNEgCgFbcP4Dr6P7PDkUWi/ibg62fxZSWqann85Vvt9SmaulP9MZUa3+qtV5vrFdvm3vGKfGonywmtO1SGR/z41BR3LcZjSWr1xtTWmbvWHy+8uMptQngZGRDkMn+Zwyt/5OFUnnNy2KW5Nn8rF4WsySvlC98LKpvX62amCV5Nn9Gvd5Yr942s3pbbcr7UhmRxVRL/aytUszX3SqjNK83Zkmezy/liSyvpnypDIDz6f4OwRE7/trfNFrGlrU5o79M729SI8Y5ag5nsWeuI66JWivW3fcRzWHFWACc162/VFh7I8SfrrI+dx9nVu9Mc/dj4WcMuK7LbAi2fmuzqdZWm639SXkfq705tpS1snp2HJKsLCZsrGdcI7Ss56hx9vah49MUydrIlOrZ/mzM5kuyfFkAUKfZEMhNKruRZaSuTS11e0T9yWsUO0I2liwmstgqNespx1ruSLPGmdWL+rP5PtZD27AJwP2c6hMCfyNTcgOyxz18G1mbI/pr0dvf6nGejc5/1Br0XhNb/feOc+X8tug4svHsaR/A8S71JwNNerxX1mYWm6G3v956kb31V5Fxznj46FrqOtj1yGIRKdMzzqxeTb8RqatJjwFATNsQtN5osvJyY7RJ8/bI2sxiM/T211tvrxkPkTM8mLL1zGJXeahmc8hcZX4A9pn2DxNFMX9zsWWymOXbrqkXjUdl8Zb+emNWS39WS73emPD91OhtM6rn85VtIxtnFlMt9f14NObzla/r+9mqF/UnspgV9VsqX9NmVjcaA4DzqNoQCH6gIbi5owX3D+A6NjcEAADg/i7zpUIAADAPGwIAAMCGAAAAsCEAAAAPbAgAAAAbAgAAwIYAAAA8sCEAAABsCAAAABsCAADwwIYAAACwIQAAAG9v79+/f+d/bgQAwEt7e/sfqN4P6FhvcJEAAAAASUVORK5CYII=)\n",
        "- bpe, 8000\n",
        "  - ![image.png](data:image/png;base64,iVBORw0KGgoAAAANSUhEUgAAAgsAAACBCAYAAABO6/lZAAAAAXNSR0IArs4c6QAAAARnQU1BAACxjwv8YQUAAAAJcEhZcwAAFiUAABYlAUlSJPAAAAwnSURBVHhe7d07siO5EYXhaXntagczG9CiZMjUDmRoBzJlaFHaQC9BbpujPhpmKCMHyAJQAKqK/L8IBFlIvOpxWUle9u0vv/7wEwAAQMUfXo8AAABFJAsAACBFsgAAAFJfvn//zncWAABAFZ8sAACAFMkCAABIkSwAAIAUyQIAAEiRLAAAgBTJAgAASJEsAACAFMkCAABIkSwAAIAUyQIAAEiRLAAbfP369fUMeG9c6+/pMf83hC7AH2t9bb2v3v0cPS7vfjzvtH+ltcS6dz8fOOdu18cf//Hn17Pf/Oev/3o9+w3X8/t5/CcLuiixxycf6zvt+4q1POXcfvK+34USBSUHvsTkAe+HX0MAC+lGVHqHpTq7SdXaAE/lr2+8h6Fkwb/IxQvC6mK91GJH2zXWrjSmWH0pVuP7+HLEtyu1t/jM2Aq1+Wy7FvPxHtY39mvZLvXLjI5p26WYWH0pNpvNUZvP6ntitl2KrVCb/8jROq2+J2bbpdio2hzG5irNZ3WluNXFepkd8/W+SPyVAz7D0HcW7KKJ74ZU7+v89mjMlOqktb7WbhYbPz76mJkRM6W6Fi1jtcwvVh8fj2Tjj8ZMS13PmKXxZLSfOYqXjKwli0ltzBXOzF1rm415NF9tzFFn1yJxPaNjjsZ62K8lotHxcE/Dv4Y4exHsvoi4aPvd9ZitWNenXR+f/PNw931fub6ZYytJqCUKeD/Tv7OgbNKKp4u0FlthdD7fx5er7FzD7nMktflsLaLH+CJX63fG6Jhn+vn9nKG2livObc3RuR1V27/d+360f1espTZfLebrfTH+S474DNOTBV2cvni+3l94q4zM5/v4cpXd6/Bz7T5HKi20rt4+R86M6fv19p0tW4uv33Fud/P7p+L5+qv33a9FZTU/V9x3H1Mxsd6K8GnCZ1r6ryH8hbn7B/QdXwxX79PK8VvGjm304qQ6e5F6gto+RH6/am3O8mOeHX/2+laf26v3vXX/zq7tSM/4M9fSsu94luEvONYuBH/BxTatMSnFj+bsmW82W198NNlafExa+0mcR+J4Jo5bG89k8dJY8dEr1YmNJ7V4S7/YrqWfxD6mNqbEcWO/KI4jpbFt24/nxfZSGtf0xKQ2pihWqj+jNKZfo+fb1dbp+/bEpDamKFaqP1Lrd7TOoz5S6mdmxWr0yUKJ/7Shth94rsf8BUfgyZ784jl77XaDesLx4KbXj2P2nkgWAABAaul3FgAAwPORLAAAgBTJAgAASJEsAACAFMkCAABIkSwAAIAUyQIAAEiRLAAAgBTJAgAASJEsAACAFMkCAABIkSwAAIAUyQIAAEiRLAAAgBTJAgAASJEsAACAFMkCAABIkSwAAIAUyQIAAEiRLAAAgBTJAgAASL1NsvD169fXs/fyrvsFAHiO7cnC3//yp9ezeXRD/f79+2vrWrNv7tovEgYAwJUe8cnCigRjN274AICn2p4s/O2f/349m+NOnyqswqcLAIArfflxI/r19bxJfJcfb/6Kq87a1eJeNubRfFmyYDG70fp2/uYb+9dica64LbU6r3U+rzQuAAA7DH2yoBu2lXgzF0sI4o09UxvTxrBYL7vJ+hutr1PxN+ssNkrj2KM9NyvmAwBgpiW/hhi5qa8Sb869zvbvtXs+AACOPOILjivoHbwVz97dl2Ir7J4PAIBeH5ss6Cbti+frdyUMO+cDAKDHULKg7xRYufpXDjNusL7/7pt1y3xqo/0EAOAKp7/guIPmseRkBkswrPgbcU+sh+/rZfMBAHAHQ/908upPE0re9UZLAgEAuFp3sgAAAD7Lx37BEQAAtCFZAAAAKZIFAACQIlkAAAApkgUAAJAiWQAAACmSBQAAkCJZAAAAKZIFAACQIlkAAAApkgUAAJD68usPr+cAAAC/wycLAAAgRbIAAABSJAsAACBFsgAAAFIkCwAAIEWyAAAAUiQLAAAg9chk4Zdffnk9AwDMwmvrXO90PIf/KJMOwrdv315bv6kdGGsX47V6E8c3ce4r13LW7vlalI7nHY2ss3beJYsZa2Ox2Mc84fi9m5bzVzJyTRyd99G1jDhaSw+NtXKtNVfNK3b8Vsx/5X5Np2Sh188///y/EpXqTNa+Z6xYr+2e/pK17x3rrJVjj7rjmiKtsXedpfZWl8U81fn6Uhvs13r+oqxfb8xk/VaYNfbKNR65eu4V8/eMeeX+txr6NcSdMqW3ydo+mLJvy+5bXXHe3+pdws2NXBN3xnVzT/xMt9v2nYXshMRY7QTOOrEz1rKL5rdytWwtozHR8d1xjK88jzNlx3Mk1rpd61uql1rsaFt2XROZT7hejGJxf2v9fH2MyYrYTn4NpbVYvBQzivUcT3uMMbH6GPP1MbbE6xOGbqWPTezjHF+iLGZqsZ56m8OXKIuZLDaDX4MV459L3F6lNE+2ltHYWWfHytYptXh8HstKcXy/vSIm2o51kvUbjY0qjdE6rtr5UuNjsU9rbIVsPv9c4rY5atc65orYKrX57Xl8FP9c4rY5ajdjnNYxZpn+yYK9I7ASM54sllFb9enh5yrNl8V6qX+ptPDryNaiWIu4Biu7ZOts3YeV7HjMWovG8aXlWNsaYjnSs+asbc84Umo/ay1X0jHX2nyJ58HOTdyHrF8Wq7F5YmnROp9ikdqW6lebMac/Tr7sMno8rzjeZ01NFmad/Bnj7F6L2pXKkayNYnbxq7Ty8/uyisaurTOLXUFr6D0e1qekZxzP1hBLi7sdz961aD+tvR5b9/sKtr64xhVrtnliOZK1UczOjx3zVqP9dvLHyZcj2qeWdpH6jByX0X4y2m+2bd9ZOLOj6jtyYmuuPug9tN9W7rzubJ1ZTFS3Y980h9YwwtZo69yx3hLbBytXWrkWf6yvYvv3dP4cxWOa7aPvV2vzZHaN2TGJx6bGH5PYR9u1Y5X1y/h+KleZmiz0HIDV7rSWTLbOT9mHFT8EM4+d/0G1ddrjnc/R2fMyU5xPx091dhwjf6xnmbnPu49fJlvLrHXGcbRtZfQ8zVrbCLu+/HXWsh+ja561r3EcbVtpWf8ZU/8ok8Sd8W2ymInjthyEXWtZpXWdO9Yitf3O1jIaO6O2TinF/Do8axfjrWO39pvFz6e5/HpizGuNiY/78aM4pm+bzSfZuCP8fBLHrs1X6xfrTS3uxz5ay2yta4n12bpm95PWMY/mmM3PZ8/jo9G2ifV+O6r1MxaPsdH5ZhtOFnbZfUAArFV7UcReo6+tvCaX7T4uu+e7fbIAAACute0LjgAA4JlIFgAAQIpkAQAApIaTBX25QgUAevH6ATzL9H86KVmsJr5w+P5ZzFibllgcz9TiLWt5ypiyIjZqdMyRdcZ6o/hoTEbWIneKieKxTnbPB+CGlCyMyP7ji97/0KLU3uqymKe6Ur3EWK2/f/SI5bFRo2Nm/XpjZmYsm++OMdHzozbG6kZjptQGwD1N/87CFe8UsncovHsBjvEzAiBziy847n6hivPNSCiyMUfH3rHOVmfn3eUp61wh2/d3P+8A1rrlv4bouSlmbWfcXD2NpTF9GRnf95s15qjetWSxXVrWaWIs9vNGYj1rmaFlvtFYi9F+AB7u9euIbtnvG0d/F6l+Lb/X9HW155LFvKN2VpfFolrbWH9mTBvPF6uPYp1vb1r6eVmsRe98pqWftkt1kdWtiImex2L10dlYSU/sqG0pbvW+mCwmcRvAfd3mkwV7x9LzriV7l9P6DmjFO6XSmCP755XGtPF6xz27lrur7V+2v6OxI7YOK0+UXS9+32I8iwF4llskC6UbYSv1tWLbJovtpHnv8mI5uparjl2vOx3r3bJzNHr+Pvl4Avi/7cnCzJuOXsR8sTp7rMXewczjOMuKNc0cMxtrNJZZcTzuZMUxA3BP2/8oUylWe2GxdjE+a15pWY+Pt6wljhn7GGszMqZk/WqxM2vJYqJ4rDsyOmatX6w3tbgf+5NjoniprsTazZ4PwD2dShaEH3YIL/zowesH8CzDyQIAAPgMt/w7CwAA4D5IFgAAQIpkAQAApEgWAABAimQBAACkSBYAAECKZAEAAKRIFgAAQIpkAQAApEgWAABAimQBAACkSBYAAECKZAEAAKRIFgAAQIpkAQAApEgWAABAimQBAACkSBYAAECKZAEAACR++um/xvMXMPDniOgAAAAASUVORK5CYII=)\n",
        "- char, 8000\n",
        "  - ![image.png](data:image/png;base64,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)\n",
        "- word, 8000\n",
        "  - ![image.png](data:image/png;base64,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)\n",
        "- char, 16000\n",
        "  - ![image.png](data:image/png;base64,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)"
      ],
      "metadata": {
        "id": "xpnBAIFEFQa5"
      }
    },
    {
      "cell_type": "markdown",
      "metadata": {
        "id": "8F4O5rSmGQVX"
      },
      "source": [
        "### 3) Tokenizer 및 load_data"
      ]
    },
    {
      "cell_type": "markdown",
      "source": [
        "#### (1) Tokenizer\n",
        "- RNN은 입력데이터가 순차적으로 처리되어, 가장 마지막 입력이 최종 state 값에 가장 영향을 많이 미치게 됩니다. 그러므로 마지막 입력이 무의미한 padding으로 채워지는 것은 비효율적입니다. 따라서 'pre'가 훨씬 유리하다"
      ],
      "metadata": {
        "id": "NDXF6PpiYbwJ"
      }
    },
    {
      "cell_type": "code",
      "execution_count": 17,
      "metadata": {
        "id": "31DwIBVF3XH2"
      },
      "outputs": [],
      "source": [
        "def sp_tokenize(s, corpus):\n",
        "\n",
        "    tensor = []\n",
        "\n",
        "    for sen in corpus:\n",
        "        tensor.append(s.EncodeAsIds(sen))\n",
        "\n",
        "    with open(\"./korean_spm.vocab\", 'r') as f:\n",
        "        vocab = f.readlines()\n",
        "\n",
        "    word_index = {}\n",
        "    index_word = {}\n",
        "\n",
        "    for idx, line in enumerate(vocab):\n",
        "        word = line.split(\"\\t\")[0]\n",
        "\n",
        "        word_index.update({word:idx})\n",
        "        index_word.update({idx:word})\n",
        "\n",
        "    tensor = tf.keras.preprocessing.sequence.pad_sequences(tensor, padding='pre')\n",
        "\n",
        "    return tensor, word_index, index_word"
      ]
    },
    {
      "cell_type": "markdown",
      "source": [
        "- 매개변수로 토큰화된 문장의 list를 전달하는 대신 온전한 문장의 list 를 전달합니다.\n",
        "\n",
        "- 생성된 vocab 파일을 읽어와 { <word> : <idx> } 형태를 가지는 word_index 사전과 { <idx> : <word>} 형태를 가지는 index_word 사전을 생성하고 함께 반환합니다.\n",
        "\n",
        "- 리턴값인 tensor 는 앞의 함수와 동일하게 토큰화한 후 Encoding된 문장입니다. 바로 학습에 사용할 수 있게 Padding은 당연히 해야겠죠?"
      ],
      "metadata": {
        "id": "qVEzJkD7OXxB"
      }
    },
    {
      "cell_type": "markdown",
      "source": [
        "#### (2) load_data"
      ],
      "metadata": {
        "id": "ODEqNayQYeDO"
      }
    },
    {
      "cell_type": "code",
      "source": [
        "def load_data(train_data, test_data):\n",
        "\n",
        "    train_data.drop_duplicates(subset=['document'], inplace=True)\n",
        "    train_data = train_data.dropna(how = 'any') \n",
        "\n",
        "    test_data.drop_duplicates(subset=['document'], inplace=True)\n",
        "    test_data = test_data.dropna(how = 'any') \n",
        "    X_train, word_index, index_word = sp_tokenize(s,list(map(str,train_data['document']))) # 토큰화\n",
        "\n",
        "    X_test, word_index, index_word = sp_tokenize(s,list(map(str,test_data['document']))) # 토큰화\n",
        "\n",
        "        \n",
        "    return np.array(list(X_train)), np.array(list(train_data['label'])), np.array(list(X_test)), np.array(list(test_data['label']))  \n",
        "\n",
        "X_train, y_train, X_test, y_test= load_data(train_data, test_data) \n",
        "\n",
        "# validation set 10000건 분리\n",
        "X_val = X_train[:50000]   \n",
        "y_val = y_train[:50000]\n",
        "\n",
        "\n",
        "# validation set을 제외한 나머지 15000건\n",
        "partial_X_train = X_train[50000:]  \n",
        "partial_y_train = y_train[50000:]\n",
        "\n",
        "print(partial_X_train.shape)\n",
        "print(partial_y_train.shape)\n",
        "print(X_val.shape)\n",
        "print(y_val.shape)\n",
        "print(\"훈련 샘플 개수: {}, 테스트 개수: {}\".format(len(X_train), len(X_test)))"
      ],
      "metadata": {
        "id": "HGKp-KF4H7Ys",
        "colab": {
          "base_uri": "https://localhost:8080/"
        },
        "outputId": "86abd036-2600-4d77-f701-cd0e30768fcb"
      },
      "execution_count": 18,
      "outputs": [
        {
          "output_type": "stream",
          "name": "stdout",
          "text": [
            "(96182, 147)\n",
            "(96182,)\n",
            "(50000, 147)\n",
            "(50000,)\n",
            "훈련 샘플 개수: 146182, 테스트 개수: 49157\n"
          ]
        }
      ]
    },
    {
      "cell_type": "markdown",
      "source": [
        "### 4) 모델 설계 및 학습"
      ],
      "metadata": {
        "id": "29D7g6H1YkoD"
      }
    },
    {
      "cell_type": "markdown",
      "source": [
        "#### (1) 모델 설계"
      ],
      "metadata": {
        "id": "lplrMFr8Ysoy"
      }
    },
    {
      "cell_type": "code",
      "execution_count": 19,
      "metadata": {
        "colab": {
          "base_uri": "https://localhost:8080/"
        },
        "id": "IryB7pd12kup",
        "outputId": "1b45325f-c151-4baf-90d9-3fa3d47db8d8"
      },
      "outputs": [
        {
          "output_type": "stream",
          "name": "stdout",
          "text": [
            "Model: \"sequential\"\n",
            "_________________________________________________________________\n",
            " Layer (type)                Output Shape              Param #   \n",
            "=================================================================\n",
            " embedding (Embedding)       (None, None, 130)         1040000   \n",
            "                                                                 \n",
            " lstm (LSTM)                 (None, 16)                9408      \n",
            "                                                                 \n",
            " dense (Dense)               (None, 16)                272       \n",
            "                                                                 \n",
            " dense_1 (Dense)             (None, 1)                 17        \n",
            "                                                                 \n",
            "=================================================================\n",
            "Total params: 1,049,697\n",
            "Trainable params: 1,049,697\n",
            "Non-trainable params: 0\n",
            "_________________________________________________________________\n"
          ]
        }
      ],
      "source": [
        "vocab_size = 8000  # 어휘 사전의 크기입니다(10개의 단어)\n",
        "word_vector_dim = 130  # 단어 하나를 표현하는 임베딩 벡터의 차원수입니다. \n",
        "\n",
        "model_lstm = tf.keras.Sequential()\n",
        "model_lstm.add(tf.keras.layers.Embedding(vocab_size, word_vector_dim, input_shape=(None,)))\n",
        "model_lstm.add(tf.keras.layers.LSTM(16))   # 가장 널리 쓰이는 RNN인 LSTM 레이어를 사용하였습니다. 이때 LSTM state 벡터의 차원수는 8로 하였습니다. (변경 가능)\n",
        "model_lstm.add(tf.keras.layers.Dense(16, activation='relu'))\n",
        "model_lstm.add(tf.keras.layers.Dense(1, activation='sigmoid'))  # 최종 출력은 긍정/부정을 나타내는 1dim 입니다.\n",
        "\n",
        "model_lstm.summary()"
      ]
    },
    {
      "cell_type": "markdown",
      "source": [
        "#### (2) 모델 학습"
      ],
      "metadata": {
        "id": "UJpF9nluYucg"
      }
    },
    {
      "cell_type": "code",
      "execution_count": 20,
      "metadata": {
        "colab": {
          "base_uri": "https://localhost:8080/"
        },
        "id": "s54DEhO4BHtf",
        "outputId": "9ab620fe-7d38-463b-ed95-32fd58f93fd7"
      },
      "outputs": [
        {
          "output_type": "stream",
          "name": "stdout",
          "text": [
            "Epoch 1/20\n",
            "188/188 [==============================] - 11s 21ms/step - loss: 0.5179 - accuracy: 0.7518 - val_loss: 0.4445 - val_accuracy: 0.7959\n",
            "Epoch 2/20\n",
            "188/188 [==============================] - 3s 18ms/step - loss: 0.4318 - accuracy: 0.8021 - val_loss: 0.4208 - val_accuracy: 0.8067\n",
            "Epoch 3/20\n",
            "188/188 [==============================] - 3s 18ms/step - loss: 0.4090 - accuracy: 0.8119 - val_loss: 0.4063 - val_accuracy: 0.8123\n",
            "Epoch 4/20\n",
            "188/188 [==============================] - 4s 19ms/step - loss: 0.3902 - accuracy: 0.8217 - val_loss: 0.3942 - val_accuracy: 0.8182\n",
            "Epoch 5/20\n",
            "188/188 [==============================] - 3s 18ms/step - loss: 0.3739 - accuracy: 0.8307 - val_loss: 0.3874 - val_accuracy: 0.8243\n",
            "Epoch 6/20\n",
            "188/188 [==============================] - 4s 19ms/step - loss: 0.3593 - accuracy: 0.8392 - val_loss: 0.3799 - val_accuracy: 0.8281\n",
            "Epoch 7/20\n",
            "188/188 [==============================] - 4s 19ms/step - loss: 0.3470 - accuracy: 0.8464 - val_loss: 0.3818 - val_accuracy: 0.8260\n",
            "Epoch 8/20\n",
            "188/188 [==============================] - 4s 19ms/step - loss: 0.3378 - accuracy: 0.8514 - val_loss: 0.3721 - val_accuracy: 0.8336\n",
            "Epoch 9/20\n",
            "188/188 [==============================] - 3s 19ms/step - loss: 0.3270 - accuracy: 0.8574 - val_loss: 0.3785 - val_accuracy: 0.8325\n",
            "Epoch 10/20\n",
            "188/188 [==============================] - 4s 19ms/step - loss: 0.3179 - accuracy: 0.8624 - val_loss: 0.3718 - val_accuracy: 0.8347\n",
            "Epoch 11/20\n",
            "188/188 [==============================] - 4s 19ms/step - loss: 0.3092 - accuracy: 0.8667 - val_loss: 0.3686 - val_accuracy: 0.8382\n",
            "Epoch 12/20\n",
            "188/188 [==============================] - 4s 19ms/step - loss: 0.3007 - accuracy: 0.8717 - val_loss: 0.3779 - val_accuracy: 0.8363\n",
            "Epoch 13/20\n",
            "188/188 [==============================] - 4s 19ms/step - loss: 0.2939 - accuracy: 0.8755 - val_loss: 0.3792 - val_accuracy: 0.8393\n",
            "Epoch 14/20\n",
            "188/188 [==============================] - 4s 19ms/step - loss: 0.2854 - accuracy: 0.8790 - val_loss: 0.3756 - val_accuracy: 0.8384\n",
            "Epoch 15/20\n",
            "188/188 [==============================] - 3s 19ms/step - loss: 0.2786 - accuracy: 0.8824 - val_loss: 0.3788 - val_accuracy: 0.8396\n",
            "Epoch 16/20\n",
            "188/188 [==============================] - 3s 18ms/step - loss: 0.2716 - accuracy: 0.8864 - val_loss: 0.3843 - val_accuracy: 0.8399\n",
            "Epoch 17/20\n",
            "188/188 [==============================] - 3s 18ms/step - loss: 0.2747 - accuracy: 0.8845 - val_loss: 0.3852 - val_accuracy: 0.8393\n",
            "Epoch 18/20\n",
            "188/188 [==============================] - 4s 19ms/step - loss: 0.2589 - accuracy: 0.8932 - val_loss: 0.3915 - val_accuracy: 0.8403\n",
            "Epoch 19/20\n",
            "188/188 [==============================] - 4s 20ms/step - loss: 0.2520 - accuracy: 0.8969 - val_loss: 0.4033 - val_accuracy: 0.8365\n",
            "Epoch 20/20\n",
            "188/188 [==============================] - 4s 19ms/step - loss: 0.2462 - accuracy: 0.8994 - val_loss: 0.4015 - val_accuracy: 0.8390\n"
          ]
        }
      ],
      "source": [
        "model_lstm.compile(optimizer='adam',\n",
        "              loss='binary_crossentropy',\n",
        "              metrics=['accuracy'])\n",
        "\n",
        "epochs=20  # 몇 epoch를 훈련하면 좋을지 결과를 보면서 바꾸어 봅시다. \n",
        "\n",
        "history_lstm = model_lstm.fit(partial_X_train,\n",
        "                    partial_y_train,\n",
        "                    epochs=epochs,\n",
        "                    batch_size=512,\n",
        "                    validation_data=(X_val, y_val),\n",
        "                    verbose=1)"
      ]
    },
    {
      "cell_type": "markdown",
      "source": [
        "#### (3) val과 train 그래프 확인"
      ],
      "metadata": {
        "id": "Rc_7N3v0Ywov"
      }
    },
    {
      "cell_type": "code",
      "source": [
        "history_dict = history_lstm.history\n",
        "\n",
        "acc = history_dict['accuracy']\n",
        "val_acc = history_dict['val_accuracy']\n",
        "loss = history_dict['loss']\n",
        "val_loss = history_dict['val_loss']\n",
        "\n",
        "epochs = range(1, len(acc) + 1)\n",
        "\n",
        "f, ax = plt.subplots(1,2,figsize=(16,8))\n",
        "\n",
        "# \"bo\"는 \"파란색 점\"입니다\n",
        "ax[0].plot(epochs, loss, 'bo', label='Training loss')\n",
        "# b는 \"파란 실선\"입니다\n",
        "ax[0].plot(epochs, val_loss, 'b', label='Validation loss')\n",
        "ax[0].set_title('Training and validation loss')\n",
        "ax[0].set_xlabel('Epochs')\n",
        "ax[0].set_ylabel('Loss')\n",
        "ax[0].legend()\n",
        "\n",
        "\n",
        "ax[1].plot(epochs, acc, 'bo', label='Training acc')\n",
        "ax[1].plot(epochs, val_acc, 'b', label='Validation acc')\n",
        "ax[1].set_title('Training and validation accuracy')\n",
        "ax[1].set_xlabel('Epochs')\n",
        "ax[1].set_ylabel('Accuracy')\n",
        "ax[1].legend()\n",
        "\n",
        "plt.show()"
      ],
      "metadata": {
        "colab": {
          "base_uri": "https://localhost:8080/",
          "height": 513
        },
        "id": "R0BV1FILeb0q",
        "outputId": "2e7df7ff-017f-495a-ff8b-ab58a18c053d"
      },
      "execution_count": 21,
      "outputs": [
        {
          "output_type": "display_data",
          "data": {
            "text/plain": [
              "<Figure size 1152x576 with 2 Axes>"
            ],
            "image/png": "[encoded data removed]"
          },
          "metadata": {
            "needs_background": "light"
          }
        }
      ]
    },
    {
      "cell_type": "markdown",
      "source": [
        "#### (4) 모델 학습 결과 확인"
      ],
      "metadata": {
        "id": "WsbXM39HY1Bo"
      }
    },
    {
      "cell_type": "code",
      "execution_count": 22,
      "metadata": {
        "id": "tDbB_SqiQbfT",
        "colab": {
          "base_uri": "https://localhost:8080/"
        },
        "outputId": "6c5c8c5d-76e5-4ca9-dd3c-27d518cbcc0f"
      },
      "outputs": [
        {
          "output_type": "stream",
          "name": "stdout",
          "text": [
            "1537/1537 - 6s - loss: 0.4054 - accuracy: 0.8381 - 6s/epoch - 4ms/step\n",
            "[0.40540724992752075, 0.838090181350708]\n"
          ]
        }
      ],
      "source": [
        "results = model_lstm.evaluate(X_test,  y_test, verbose=2)\n",
        "\n",
        "print(results)"
      ]
    },
    {
      "cell_type": "markdown",
      "source": [
        "## 3. Konlpy(feat.Mecab) 분석\n",
        "> Konlpy에는 Hannanum, Kkma, Komoran, Mecab, Okt가 있다. 이 중에서 10만 단어를 기준으로 했을 때 속도 측면에서 가장 뛰어난 분석기는 Mecab이다. 다른 분석기에 비해서 성능이 압도적이다. 하지만 속도만 빠르면 안된다 리뷰 데이터와 같은 SNS성격이 띈 데이터에게 강한 분석기는 mecab와 Kkma가 있다. 하지만 Kkma는 시간이 너무 오래걸리는 **Macab를 사용하는 것이 가장 합리적**이다.\n",
        "\n",
        "- 성능분석 자료 : https://iostream.tistory.com/144"
      ],
      "metadata": {
        "id": "kzTv2fZiZEnw"
      }
    },
    {
      "cell_type": "markdown",
      "source": [
        "### 1) 데이터 다운로드"
      ],
      "metadata": {
        "id": "1auEjX8ETU_R"
      }
    },
    {
      "cell_type": "code",
      "source": [
        "urllib.request.urlretrieve(\"https://raw.githubusercontent.com/e9t/nsmc/master/ratings_train.txt\", filename=\"ratings_train.txt\")\n",
        "urllib.request.urlretrieve(\"https://raw.githubusercontent.com/e9t/nsmc/master/ratings_test.txt\", filename=\"ratings_test.txt\")\n",
        "\n",
        "\n",
        "Mtrain_data = pd.read_table('ratings_train.txt')\n",
        "Mtest_data = pd.read_table('ratings_test.txt')\n"
      ],
      "metadata": {
        "id": "YYgXk2BKZXoP"
      },
      "execution_count": 23,
      "outputs": []
    },
    {
      "cell_type": "markdown",
      "source": [
        "### 2) 데이터 전처리\n"
      ],
      "metadata": {
        "id": "ZKRcgClQTxyd"
      }
    },
    {
      "cell_type": "code",
      "source": [
        "tokenizer = Mecab()\n",
        "stopwords = ['의','가','이','은','들','는','좀','잘','걍','과','도','를','으로','자','에','와','한','하다']\n",
        "\n",
        "def load_data(train_data, test_data, num_words=10000):\n",
        "    train_data.drop_duplicates(subset=['document'], inplace=True)\n",
        "    train_data = train_data.dropna(how = 'any') \n",
        "    test_data.drop_duplicates(subset=['document'], inplace=True)\n",
        "    test_data = test_data.dropna(how = 'any') \n",
        "    \n",
        "    X_train = []\n",
        "    for sentence in train_data['document']:\n",
        "        temp_X = tokenizer.morphs(sentence) # 토큰화\n",
        "        temp_X = [word for word in temp_X if not word in stopwords] # 불용어 제거\n",
        "        X_train.append(temp_X)\n",
        "\n",
        "    X_test = []\n",
        "    for sentence in test_data['document']:\n",
        "        temp_X = tokenizer.morphs(sentence) # 토큰화\n",
        "        temp_X = [word for word in temp_X if not word in stopwords] # 불용어 제거\n",
        "        X_test.append(temp_X)\n",
        "    \n",
        "    words = np.concatenate(X_train).tolist()\n",
        "    counter = Counter(words)\n",
        "    counter = counter.most_common(10000-4)\n",
        "    vocab = ['<PAD>', '<BOS>', '<UNK>', '<UNUSED>'] + [key for key, _ in counter]\n",
        "    word_to_index = {word:index for index, word in enumerate(vocab)}\n",
        "        \n",
        "    def wordlist_to_indexlist(wordlist):\n",
        "        return [word_to_index[word] if word in word_to_index else word_to_index['<UNK>'] for word in wordlist]\n",
        "        \n",
        "    X_train = list(map(wordlist_to_indexlist, X_train))\n",
        "    X_test = list(map(wordlist_to_indexlist, X_test))\n",
        "        \n",
        "    return X_train, np.array(list(train_data['label'])), X_test, np.array(list(test_data['label'])), word_to_index\n",
        "    \n",
        "X_train, y_train, X_test, y_test, word_to_index = load_data(Mtrain_data, Mtest_data)"
      ],
      "metadata": {
        "id": "Rd9vRLU8Tgu6"
      },
      "execution_count": 25,
      "outputs": []
    },
    {
      "cell_type": "code",
      "source": [
        "index_to_word = {index:word for word, index in word_to_index.items()}"
      ],
      "metadata": {
        "id": "8yEDhn4iTtS8"
      },
      "execution_count": 26,
      "outputs": []
    },
    {
      "cell_type": "code",
      "source": [
        "def get_encoded_sentence(sentence, word_to_index):\n",
        "    return [word_to_index['<BOS>']]+[word_to_index[word] if word in word_to_index else word_to_index['<UNK>'] for word in sentence.split()]\n",
        "\n",
        "# 여러 개의 문장 리스트를 한꺼번에 단어 인덱스 리스트 벡터로 encode해 주는 함수입니다. \n",
        "def get_encoded_sentences(sentences, word_to_index):\n",
        "    return [get_encoded_sentence(sentence, word_to_index) for sentence in sentences]\n",
        "\n",
        "# 숫자 벡터로 encode된 문장을 원래대로 decode하는 함수입니다. \n",
        "def get_decoded_sentence(encoded_sentence, index_to_word):\n",
        "    return ' '.join(index_to_word[index] if index in index_to_word else '<UNK>' for index in encoded_sentence[1:])  #[1:]를 통해 <BOS>를 제외\n",
        "\n",
        "# 여러 개의 숫자 벡터로 encode된 문장을 한꺼번에 원래대로 decode하는 함수입니다. \n",
        "def get_decoded_sentences(encoded_sentences, index_to_word):\n",
        "    return [get_decoded_sentence(encoded_sentence, index_to_word) for encoded_sentence in encoded_sentences]"
      ],
      "metadata": {
        "id": "yvTmOzJ-T3q9"
      },
      "execution_count": 27,
      "outputs": []
    },
    {
      "cell_type": "markdown",
      "source": [
        "### 3) 데이터 분석 및 가공"
      ],
      "metadata": {
        "id": "1MBLVFaZT74n"
      }
    },
    {
      "cell_type": "code",
      "source": [
        "print(\"훈련 샘플 개수: {}, 테스트 개수: {}\".format(len(X_train), len(X_test)))"
      ],
      "metadata": {
        "colab": {
          "base_uri": "https://localhost:8080/"
        },
        "id": "6Hc3JnAnT_lk",
        "outputId": "9cfb0cf9-2abc-4583-8ba3-c234280659cc"
      },
      "execution_count": 28,
      "outputs": [
        {
          "output_type": "stream",
          "name": "stdout",
          "text": [
            "훈련 샘플 개수: 146182, 테스트 개수: 49157\n"
          ]
        }
      ]
    },
    {
      "cell_type": "code",
      "source": [
        "total_data_text = list(X_train) + list(X_test)\n",
        "# 텍스트데이터 문장길이의 리스트를 생성한 후\n",
        "num_tokens = [len(tokens) for tokens in total_data_text]\n",
        "num_tokens = np.array(num_tokens)\n",
        "# 문장길이의 평균값, 최대값, 표준편차를 계산해 본다. \n",
        "print('문장길이 평균 : ', np.mean(num_tokens))\n",
        "print('문장길이 최대 : ', np.max(num_tokens))\n",
        "print('문장길이 표준편차 : ', np.std(num_tokens))\n",
        "\n",
        "# 예를들어, 최대 길이를 (평균 + 2*표준편차)로 한다면,  \n",
        "max_tokens = np.mean(num_tokens) + 2 * np.std(num_tokens)\n",
        "maxlen = int(max_tokens)\n",
        "print('pad_sequences maxlen : ', maxlen)\n",
        "print('전체 문장의 {}%가 maxlen 설정값 이내에 포함됩니다. '.format(np.sum(num_tokens < max_tokens) / len(num_tokens)))"
      ],
      "metadata": {
        "colab": {
          "base_uri": "https://localhost:8080/"
        },
        "id": "XMuOnFGWUC9v",
        "outputId": "76d33d0a-38fc-4421-f9cb-e234f3fbbc28"
      },
      "execution_count": 31,
      "outputs": [
        {
          "output_type": "stream",
          "name": "stdout",
          "text": [
            "문장길이 평균 :  15.969376315021577\n",
            "문장길이 최대 :  116\n",
            "문장길이 표준편차 :  12.843535456326455\n",
            "pad_sequences maxlen :  41\n",
            "전체 문장의 0.9342988343341575%가 maxlen 설정값 이내에 포함됩니다. \n"
          ]
        }
      ]
    },
    {
      "cell_type": "code",
      "source": [
        "X_train = tf.keras.preprocessing.sequence.pad_sequences(X_train,\n",
        "                                                        value=word_to_index[\"<PAD>\"],\n",
        "                                                        padding='pre', # 혹은 'pre'\n",
        "                                                        maxlen=maxlen)\n",
        "\n",
        "X_test = tf.keras.preprocessing.sequence.pad_sequences(X_test,\n",
        "                                                       value=word_to_index[\"<PAD>\"],\n",
        "                                                       padding='pre', # 혹은 'pre'\n",
        "                                                       maxlen=maxlen)\n",
        "\n",
        "print(X_train.shape)"
      ],
      "metadata": {
        "colab": {
          "base_uri": "https://localhost:8080/"
        },
        "id": "XoeyRz30UFs2",
        "outputId": "477f5ee2-d72c-4cda-a410-d7c8cdab7721"
      },
      "execution_count": 32,
      "outputs": [
        {
          "output_type": "stream",
          "name": "stdout",
          "text": [
            "(146182, 41)\n"
          ]
        }
      ]
    },
    {
      "cell_type": "code",
      "source": [
        "# validation set 10000건 분리\n",
        "X_val = X_train[:50000]   \n",
        "y_val = y_train[:50000]\n",
        "\n",
        "# validation set을 제외한 나머지 15000건\n",
        "partial_X_train = X_train[50000:]  \n",
        "partial_y_train = y_train[50000:]\n",
        "\n",
        "print(partial_X_train.shape)\n",
        "print(partial_y_train.shape)"
      ],
      "metadata": {
        "colab": {
          "base_uri": "https://localhost:8080/"
        },
        "id": "I9sEWl33UU1V",
        "outputId": "52c59ca6-9acd-432b-929c-7a0b2a10bbcb"
      },
      "execution_count": 33,
      "outputs": [
        {
          "output_type": "stream",
          "name": "stdout",
          "text": [
            "(96182, 41)\n",
            "(96182,)\n"
          ]
        }
      ]
    },
    {
      "cell_type": "markdown",
      "source": [
        "### 4) 모델 구현(SentencePiece분석과 동일한 구현으로 하여 성능 분석비교)"
      ],
      "metadata": {
        "id": "qG1w_hNLUGJE"
      }
    },
    {
      "cell_type": "code",
      "source": [
        "vocab_size = 8000  # 어휘 사전의 크기입니다(10개의 단어)\n",
        "word_vector_dim = 130  # 단어 하나를 표현하는 임베딩 벡터의 차원수입니다. \n",
        "\n",
        "model_lstm = tf.keras.Sequential()\n",
        "model_lstm.add(tf.keras.layers.Embedding(vocab_size, word_vector_dim, input_shape=(None,)))\n",
        "model_lstm.add(tf.keras.layers.LSTM(16))   # 가장 널리 쓰이는 RNN인 LSTM 레이어를 사용하였습니다. 이때 LSTM state 벡터의 차원수는 8로 하였습니다. (변경 가능)\n",
        "model_lstm.add(tf.keras.layers.Dense(16, activation='relu'))\n",
        "model_lstm.add(tf.keras.layers.Dense(1, activation='sigmoid'))  # 최종 출력은 긍정/부정을 나타내는 1dim 입니다.\n",
        "\n",
        "model_lstm.summary()"
      ],
      "metadata": {
        "colab": {
          "base_uri": "https://localhost:8080/"
        },
        "id": "xrVqZlULUNop",
        "outputId": "9cb2be55-f122-4def-9555-939f9d9131b6"
      },
      "execution_count": 34,
      "outputs": [
        {
          "output_type": "stream",
          "name": "stdout",
          "text": [
            "Model: \"sequential_1\"\n",
            "_________________________________________________________________\n",
            " Layer (type)                Output Shape              Param #   \n",
            "=================================================================\n",
            " embedding_1 (Embedding)     (None, None, 130)         1040000   \n",
            "                                                                 \n",
            " lstm_1 (LSTM)               (None, 16)                9408      \n",
            "                                                                 \n",
            " dense_2 (Dense)             (None, 16)                272       \n",
            "                                                                 \n",
            " dense_3 (Dense)             (None, 1)                 17        \n",
            "                                                                 \n",
            "=================================================================\n",
            "Total params: 1,049,697\n",
            "Trainable params: 1,049,697\n",
            "Non-trainable params: 0\n",
            "_________________________________________________________________\n"
          ]
        }
      ]
    },
    {
      "cell_type": "markdown",
      "source": [
        "### 5) 모델 학습"
      ],
      "metadata": {
        "id": "pOkkFuy3UbS-"
      }
    },
    {
      "cell_type": "code",
      "source": [
        "model_lstm.compile(optimizer='adam',\n",
        "              loss='binary_crossentropy',\n",
        "              metrics=['accuracy'])\n",
        "\n",
        "epochs=20  # 몇 epoch를 훈련하면 좋을지 결과를 보면서 바꾸어 봅시다. \n",
        "\n",
        "history_lstm = model_lstm.fit(partial_X_train,\n",
        "                    partial_y_train,\n",
        "                    epochs=epochs,\n",
        "                    batch_size=512,\n",
        "                    validation_data=(X_val, y_val),\n",
        "                    verbose=1)"
      ],
      "metadata": {
        "colab": {
          "base_uri": "https://localhost:8080/"
        },
        "id": "ygKIQ6ECUScE",
        "outputId": "3a86b1f4-0ead-4884-8039-1b232e4456ad"
      },
      "execution_count": 35,
      "outputs": [
        {
          "output_type": "stream",
          "name": "stdout",
          "text": [
            "Epoch 1/20\n",
            "188/188 [==============================] - 3s 10ms/step - loss: 0.4498 - accuracy: 0.7992 - val_loss: 0.3533 - val_accuracy: 0.8478\n",
            "Epoch 2/20\n",
            "188/188 [==============================] - 1s 8ms/step - loss: 0.3302 - accuracy: 0.8592 - val_loss: 0.3434 - val_accuracy: 0.8503\n",
            "Epoch 3/20\n",
            "188/188 [==============================] - 1s 8ms/step - loss: 0.3016 - accuracy: 0.8736 - val_loss: 0.3416 - val_accuracy: 0.8520\n",
            "Epoch 4/20\n",
            "188/188 [==============================] - 1s 8ms/step - loss: 0.2793 - accuracy: 0.8839 - val_loss: 0.3441 - val_accuracy: 0.8517\n",
            "Epoch 5/20\n",
            "188/188 [==============================] - 1s 8ms/step - loss: 0.2580 - accuracy: 0.8932 - val_loss: 0.3485 - val_accuracy: 0.8529\n",
            "Epoch 6/20\n",
            "188/188 [==============================] - 1s 8ms/step - loss: 0.2367 - accuracy: 0.9012 - val_loss: 0.3626 - val_accuracy: 0.8505\n",
            "Epoch 7/20\n",
            "188/188 [==============================] - 1s 8ms/step - loss: 0.2178 - accuracy: 0.9096 - val_loss: 0.3874 - val_accuracy: 0.8511\n",
            "Epoch 8/20\n",
            "188/188 [==============================] - 1s 8ms/step - loss: 0.2011 - accuracy: 0.9161 - val_loss: 0.4091 - val_accuracy: 0.8504\n",
            "Epoch 9/20\n",
            "188/188 [==============================] - 1s 8ms/step - loss: 0.1826 - accuracy: 0.9243 - val_loss: 0.4352 - val_accuracy: 0.8487\n",
            "Epoch 10/20\n",
            "188/188 [==============================] - 2s 8ms/step - loss: 0.1675 - accuracy: 0.9304 - val_loss: 0.4736 - val_accuracy: 0.8483\n",
            "Epoch 11/20\n",
            "188/188 [==============================] - 1s 8ms/step - loss: 0.1542 - accuracy: 0.9353 - val_loss: 0.5276 - val_accuracy: 0.8451\n",
            "Epoch 12/20\n",
            "188/188 [==============================] - 1s 8ms/step - loss: 0.1418 - accuracy: 0.9426 - val_loss: 0.5649 - val_accuracy: 0.8452\n",
            "Epoch 13/20\n",
            "188/188 [==============================] - 1s 8ms/step - loss: 0.1297 - accuracy: 0.9468 - val_loss: 0.6008 - val_accuracy: 0.8437\n",
            "Epoch 14/20\n",
            "188/188 [==============================] - 1s 8ms/step - loss: 0.1210 - accuracy: 0.9507 - val_loss: 0.5936 - val_accuracy: 0.8417\n",
            "Epoch 15/20\n",
            "188/188 [==============================] - 1s 8ms/step - loss: 0.1097 - accuracy: 0.9555 - val_loss: 0.6623 - val_accuracy: 0.8398\n",
            "Epoch 16/20\n",
            "188/188 [==============================] - 1s 8ms/step - loss: 0.0978 - accuracy: 0.9613 - val_loss: 0.7139 - val_accuracy: 0.8410\n",
            "Epoch 17/20\n",
            "188/188 [==============================] - 1s 8ms/step - loss: 0.0903 - accuracy: 0.9646 - val_loss: 0.7694 - val_accuracy: 0.8391\n",
            "Epoch 18/20\n",
            "188/188 [==============================] - 2s 8ms/step - loss: 0.0858 - accuracy: 0.9670 - val_loss: 0.8052 - val_accuracy: 0.8374\n",
            "Epoch 19/20\n",
            "188/188 [==============================] - 1s 8ms/step - loss: 0.0795 - accuracy: 0.9693 - val_loss: 0.8440 - val_accuracy: 0.8373\n",
            "Epoch 20/20\n",
            "188/188 [==============================] - 2s 8ms/step - loss: 0.0747 - accuracy: 0.9712 - val_loss: 0.8692 - val_accuracy: 0.8367\n"
          ]
        }
      ]
    },
    {
      "cell_type": "markdown",
      "source": [
        "### 6) 학습 결과 그래프"
      ],
      "metadata": {
        "id": "w4T8yG5KUrtz"
      }
    },
    {
      "cell_type": "code",
      "source": [
        "history_dict = history_lstm.history\n",
        "\n",
        "acc = history_dict['accuracy']\n",
        "val_acc = history_dict['val_accuracy']\n",
        "loss = history_dict['loss']\n",
        "val_loss = history_dict['val_loss']\n",
        "\n",
        "epochs = range(1, len(acc) + 1)\n",
        "\n",
        "f, ax = plt.subplots(1,2,figsize=(16,8))\n",
        "\n",
        "# \"bo\"는 \"파란색 점\"입니다\n",
        "ax[0].plot(epochs, loss, 'bo', label='Training loss')\n",
        "# b는 \"파란 실선\"입니다\n",
        "ax[0].plot(epochs, val_loss, 'b', label='Validation loss')\n",
        "ax[0].set_title('Training and validation loss')\n",
        "ax[0].set_xlabel('Epochs')\n",
        "ax[0].set_ylabel('Loss')\n",
        "ax[0].legend()\n",
        "\n",
        "\n",
        "ax[1].plot(epochs, acc, 'bo', label='Training acc')\n",
        "ax[1].plot(epochs, val_acc, 'b', label='Validation acc')\n",
        "ax[1].set_title('Training and validation accuracy')\n",
        "ax[1].set_xlabel('Epochs')\n",
        "ax[1].set_ylabel('Accuracy')\n",
        "ax[1].legend()\n",
        "\n",
        "plt.show()"
      ],
      "metadata": {
        "colab": {
          "base_uri": "https://localhost:8080/",
          "height": 513
        },
        "id": "Hdb4j7r8UuFX",
        "outputId": "efbe0fe8-ef48-45a6-c8f6-d4d7d9d87db0"
      },
      "execution_count": 36,
      "outputs": [
        {
          "output_type": "display_data",
          "data": {
            "text/plain": [
              "<Figure size 1152x576 with 2 Axes>"
            ],
            "image/png": "[encoded data removed]"
          },
          "metadata": {
            "needs_background": "light"
          }
        }
      ]
    },
    {
      "cell_type": "markdown",
      "source": [
        "### 7) 모델 학습 결과 확인(test accuracy)"
      ],
      "metadata": {
        "id": "Fys-EHG8UzSo"
      }
    },
    {
      "cell_type": "code",
      "source": [
        "results_mecab = model_lstm.evaluate(X_test,  y_test, verbose=2)\n",
        "\n",
        "print(results_mecab)"
      ],
      "metadata": {
        "colab": {
          "base_uri": "https://localhost:8080/"
        },
        "id": "ZXpwX5F2U66T",
        "outputId": "968e66b6-96b2-4dd4-a751-151bb7bd6475"
      },
      "execution_count": 38,
      "outputs": [
        {
          "output_type": "stream",
          "name": "stdout",
          "text": [
            "1537/1537 - 3s - loss: 0.8840 - accuracy: 0.8314 - 3s/epoch - 2ms/step\n",
            "[0.8839556574821472, 0.8313770294189453]\n"
          ]
        }
      ]
    },
    {
      "cell_type": "markdown",
      "source": [
        "## 4.Konlpy(Mecab)와 SentencePiece 성능 비교"
      ],
      "metadata": {
        "id": "HPnfeajpV3Z2"
      }
    },
    {
      "cell_type": "markdown",
      "source": [
        "### 1) val, train의 그래프 비교"
      ],
      "metadata": {
        "id": "fg_W1wcIWObm"
      }
    },
    {
      "cell_type": "markdown",
      "source": [
        "- SentencePiece\n",
        "  - ![image.png](data:image/png;base64,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)\n",
        "\n",
        "- Konlpy(Mecab)\n",
        "  - ![image.png](data:image/png;base64,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)"
      ],
      "metadata": {
        "id": "HoI7m2c2WxN9"
      }
    },
    {
      "cell_type": "markdown",
      "source": [
        "### 2) test accuracy 비교"
      ],
      "metadata": {
        "id": "CKGDGEqkXJ2G"
      }
    },
    {
      "cell_type": "markdown",
      "source": [
        "- SentencePiece\n",
        "  - ![image.png](data:image/png;base64,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)\n",
        "- Konlpy(Mecab)\n",
        "  - ![image.png](data:image/png;base64,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)"
      ],
      "metadata": {
        "id": "JlbygbApXb5a"
      }
    },
    {
      "cell_type": "markdown",
      "source": [
        "### 3) 결과 비교\n",
        "- 그래프\n",
        "  - SentencePiece의 val loss는 우하향, val accuracy는 우상향의 경향을 보인다.\n",
        "  - 반면 Konlp는 val loss는 우상향, val accuracy는 우하향의 성능을 보인다.\n",
        "  - 즉, Konlp의 경우는 과적합의 문제가 보여 SentencePiece가 더 뛰어난 성능을 보인다.\n",
        "- test accuracy\n",
        "  - SentencePiece의 loss는 0,40, accuracy는 0.8381\n",
        "  - Konlpy(Mecab)의 loss는 0.88, accuracy는 0.8314\n",
        "  - 즉, loss는 SentencePiece가 월등히 뛰어난 성능을 보여주고 있고 accuracy의 성능의 차이는 거의 미미한 것으로 보인다. 하지만 Mecab는 val값을 보았을 때 과적합으로 추정된다.\n",
        "- 고려사항\n",
        "  - 전처리 과정에서 조금 다른 결과를 낼 수 있다고 생각한다. Mecab 전처리를 조금 더 디테일하게 조정하면 성능이 더 좋아질지도 모른다. \n",
        "  - 하지만 두 분석기 모두 기본 전처리 기법을 사용하였기 때문에 이것을 감안한다면 결론은 SentencePiece가 더 좋은 성능을 보여주고 있다.\n",
        "  - 다른분들의 결과도 함께 비교해보면 좋을 듯 하다."
      ],
      "metadata": {
        "id": "zU_jjDieYD2t"
      }
    },
    {
      "cell_type": "markdown",
      "source": [
        "## 5. 회고"
      ],
      "metadata": {
        "id": "x8RiK2laZj_t"
      }
    },
    {
      "cell_type": "markdown",
      "source": [
        "- 어려웠던 점\n",
        "  - SentencePiece 모델 학습과 load_data를 하나의 함수로 만들려고 시도를 해보았지만 코드가 꼬여서 실패했다.\n",
        "  - 여러가지 경우의 수를 두고 시도를 하다보니 시간이 많이 걸렸다.\n",
        "- 루브릭 조건을 맞추기 위해서 시도한 점\n",
        "  - LSM에 나와있는 SentencePiece 모델을 분석, 전처리 등을 통해서 학습을 시켰다.\n",
        "    - 문장 길이가 짧은 데이터는 감정을 분석할 수 없는 불필요한 단어가 많기 때문에 길이 10미만은 제거하였다.\n",
        "    - 그래프를 확인했을 때 쌍봉으로 나왔는데 문자길이가 긴쪽에 생긴 봉우리는 제거하고 분석을 진행하였다.\n",
        "  - test accuracy가 80% 이상이 나왔다.\n",
        "    - 처음에는 padding를 post로 해서 성능이 좋지 않았지만 pre로 하니까 성능이 올라간 것을 확인할 수 있었다. \n",
        "    - RNN은 입력데이터가 순차적으로 처리되어, 가장 마지막 입력이 최종 state 값에 가장 영향을 많이 미치게 됩니다. 그러므로 마지막 입력이 무의미한 padding으로 채워지는 것은 비효율적입니다. 따라서 'pre'가 훨씬 유리하다\n",
        "  - 다양한 시도와 비교분석을 진행하였다.\n",
        "    - sentencePiece의 4가지 모델 옵션과 8000과 16000이라는 두 경우의 vocab_size를 가지고 실험을 했다.\n",
        "    - 그리고 SentencePiece 뿐만 아니라 konlpy의 Mecab를 사용하여 비교분석을 진행하였다.\n",
        "- 결론 \n",
        "  - 다른 사람의 결과도 확인해봐야 겠지만 나의 코드에서는 SentencePiece가 더 좋은 성능을 보여주고 있다."
      ],
      "metadata": {
        "id": "RJEHfANnZu95"
      }
    },
    {
      "cell_type": "markdown",
      "source": [
        "## 루브릭 조건"
      ],
      "metadata": {
        "id": "LkhpwaTHa7EI"
      }
    },
    {
      "cell_type": "markdown",
      "source": [
        "1. SentencePiece를 이용하여 모델을 만들기까지의 과정이 정상적으로 진행되었는가?\n",
        "  - 코퍼스 분석, 전처리, SentencePiece 적용, 토크나이저 구현 및 동작이 빠짐없이 진행되었는가?\n",
        "\n",
        "2. SentencePiece를 통해 만든 Tokenizer가 자연어처리 모델과 결합하여 동작하는가?\n",
        "  - SentencePiece 토크나이저가 적용된 Text Classifier 모델이 정상적으로 수렴하여 80% 이상의 test accuracy가 확인되었다.\n",
        "  \n",
        "3. SentencePiece의 성능을 다각도로 비교분석하였는가?\n",
        "  - SentencePiece 토크나이저를 활용했을 때의 성능을 다른 토크나이저 혹은 SentencePiece의 다른 옵션의 경우와 비교하여 분석을 체계적으로 진행하였다."
      ],
      "metadata": {
        "id": "3hjuGJi_Odbd"
      }
    }
  ],
  "metadata": {
    "accelerator": "GPU",
    "colab": {
      "collapsed_sections": [],
      "machine_shape": "hm",
      "provenance": [],
      "mount_file_id": "1wQAJEBBtJLhf6aRAXLGgCuQw6ipRMKG3",
      "authorship_tag": "ABX9TyNij4R8V1af2PMY80jdwdnM",
      "include_colab_link": true
    },
    "kernelspec": {
      "display_name": "Python 3",
      "name": "python3"
    },
    "language_info": {
      "name": "python"
    }
  },
  "nbformat": 4,
  "nbformat_minor": 0
}