{
  "cells": [
    {
      "cell_type": "markdown",
      "metadata": {
        "id": "view-in-github",
        "colab_type": "text"
      },
      "source": [
        "<a href=\"https://colab.research.google.com/github/jx-dohwan/Aiffel_NLP_Project/blob/main/%5BNLP_02%5DUsing_SentencePiece.ipynb\" target=\"_parent\"><img src=\"https://colab.research.google.com/assets/colab-badge.svg\" alt=\"Open In Colab\"/></a>"
      ]
    },
    {
      "cell_type": "markdown",
      "metadata": {
        "id": "Tdgv1vy-322D"
      },
      "source": [
        "## 1. 라이브러리 설치 및 import "
      ]
    },
    {
      "cell_type": "code",
      "execution_count": 1,
      "metadata": {
        "id": "FSX9Vc_Q3NoE"
      },
      "outputs": [],
      "source": [
        "# !curl -s https://raw.githubusercontent.com/teddylee777/machine-learning/master/99-Misc/01-Colab/mecab-colab.sh | bash"
      ]
    },
    {
      "cell_type": "code",
      "execution_count": 2,
      "metadata": {
        "colab": {
          "base_uri": "https://localhost:8080/"
        },
        "id": "6WFh4Ipq3c5l",
        "outputId": "4fb203e1-f2e3-4474-dc5f-23526b75805b"
      },
      "outputs": [
        {
          "output_type": "stream",
          "name": "stdout",
          "text": [
            "Looking in indexes: https://pypi.org/simple, https://us-python.pkg.dev/colab-wheels/public/simple/\n",
            "Requirement already satisfied: sentencepiece in /usr/local/lib/python3.7/dist-packages (0.1.97)\n"
          ]
        }
      ],
      "source": [
        "! pip install sentencepiece"
      ]
    },
    {
      "cell_type": "code",
      "execution_count": 3,
      "metadata": {
        "id": "FUuQ-mHr9Y3o"
      },
      "outputs": [],
      "source": [
        "# !ls -l korean_spm*"
      ]
    },
    {
      "cell_type": "code",
      "execution_count": 4,
      "metadata": {
        "id": "-FBZtJOq2ON7"
      },
      "outputs": [],
      "source": [
        "import tensorflow as tf\n",
        "import numpy as np\n",
        "import matplotlib as plt\n",
        "#import konlpy\n",
        "import matplotlib.pyplot as plt\n",
        "import numpy as np\n",
        "#from konlpy.tag import Mecab\n",
        "import sentencepiece as spm\n",
        "import os\n",
        "import urllib.request\n",
        "import pandas as pd\n",
        "from collections import Counter\n",
        "#mecab = Mecab()"
      ]
    },
    {
      "cell_type": "markdown",
      "metadata": {
        "id": "ULodAvDH4ehT"
      },
      "source": [
        "## 2. 데이터 다운로드 및 분석"
      ]
    },
    {
      "cell_type": "markdown",
      "metadata": {
        "id": "lcF-65x05m73"
      },
      "source": [
        "### 1) 데이터 다운로드"
      ]
    },
    {
      "cell_type": "code",
      "execution_count": 5,
      "metadata": {
        "id": "eLwF1lPS6g9p"
      },
      "outputs": [],
      "source": [
        "urllib.request.urlretrieve(\"https://raw.githubusercontent.com/e9t/nsmc/master/ratings_train.txt\", filename=\"ratings_train.txt\")\n",
        "urllib.request.urlretrieve(\"https://raw.githubusercontent.com/e9t/nsmc/master/ratings_test.txt\", filename=\"ratings_test.txt\")\n",
        "\n",
        "\n",
        "train_data = pd.read_table('ratings_train.txt')\n",
        "test_data = pd.read_table('ratings_test.txt')\n"
      ]
    },
    {
      "cell_type": "code",
      "execution_count": 6,
      "metadata": {
        "colab": {
          "base_uri": "https://localhost:8080/",
          "height": 423
        },
        "id": "Sv_QJv2b_G31",
        "outputId": "2b8d0722-0ac2-4346-e656-e1e930c4aaee"
      },
      "outputs": [
        {
          "output_type": "execute_result",
          "data": {
            "text/plain": [
              "              id                                           document  label\n",
              "0        9976970                                아 더빙.. 진짜 짜증나네요 목소리      0\n",
              "1        3819312                  흠...포스터보고 초딩영화줄....오버연기조차 가볍지 않구나      1\n",
              "2       10265843                                  너무재밓었다그래서보는것을추천한다      0\n",
              "3        9045019                      교도소 이야기구먼 ..솔직히 재미는 없다..평점 조정      0\n",
              "4        6483659  사이몬페그의 익살스런 연기가 돋보였던 영화!스파이더맨에서 늙어보이기만 했던 커스틴 ...      1\n",
              "...          ...                                                ...    ...\n",
              "149995   6222902                                인간이 문제지.. 소는 뭔죄인가..      0\n",
              "149996   8549745                                      평점이 너무 낮아서...      1\n",
              "149997   9311800                    이게 뭐요? 한국인은 거들먹거리고 필리핀 혼혈은 착하다?      0\n",
              "149998   2376369                        청춘 영화의 최고봉.방황과 우울했던 날들의 자화상      1\n",
              "149999   9619869                           한국 영화 최초로 수간하는 내용이 담긴 영화      0\n",
              "\n",
              "[150000 rows x 3 columns]"
            ],
            "text/html": [
              "\n",
              "  <div id=\"df-78b49138-6d22-43c1-bffe-b085e08f0ef3\">\n",
              "    <div class=\"colab-df-container\">\n",
              "      <div>\n",
              "<style scoped>\n",
              "    .dataframe tbody tr th:only-of-type {\n",
              "        vertical-align: middle;\n",
              "    }\n",
              "\n",
              "    .dataframe tbody tr th {\n",
              "        vertical-align: top;\n",
              "    }\n",
              "\n",
              "    .dataframe thead th {\n",
              "        text-align: right;\n",
              "    }\n",
              "</style>\n",
              "<table border=\"1\" class=\"dataframe\">\n",
              "  <thead>\n",
              "    <tr style=\"text-align: right;\">\n",
              "      <th></th>\n",
              "      <th>id</th>\n",
              "      <th>document</th>\n",
              "      <th>label</th>\n",
              "    </tr>\n",
              "  </thead>\n",
              "  <tbody>\n",
              "    <tr>\n",
              "      <th>0</th>\n",
              "      <td>9976970</td>\n",
              "      <td>아 더빙.. 진짜 짜증나네요 목소리</td>\n",
              "      <td>0</td>\n",
              "    </tr>\n",
              "    <tr>\n",
              "      <th>1</th>\n",
              "      <td>3819312</td>\n",
              "      <td>흠...포스터보고 초딩영화줄....오버연기조차 가볍지 않구나</td>\n",
              "      <td>1</td>\n",
              "    </tr>\n",
              "    <tr>\n",
              "      <th>2</th>\n",
              "      <td>10265843</td>\n",
              "      <td>너무재밓었다그래서보는것을추천한다</td>\n",
              "      <td>0</td>\n",
              "    </tr>\n",
              "    <tr>\n",
              "      <th>3</th>\n",
              "      <td>9045019</td>\n",
              "      <td>교도소 이야기구먼 ..솔직히 재미는 없다..평점 조정</td>\n",
              "      <td>0</td>\n",
              "    </tr>\n",
              "    <tr>\n",
              "      <th>4</th>\n",
              "      <td>6483659</td>\n",
              "      <td>사이몬페그의 익살스런 연기가 돋보였던 영화!스파이더맨에서 늙어보이기만 했던 커스틴 ...</td>\n",
              "      <td>1</td>\n",
              "    </tr>\n",
              "    <tr>\n",
              "      <th>...</th>\n",
              "      <td>...</td>\n",
              "      <td>...</td>\n",
              "      <td>...</td>\n",
              "    </tr>\n",
              "    <tr>\n",
              "      <th>149995</th>\n",
              "      <td>6222902</td>\n",
              "      <td>인간이 문제지.. 소는 뭔죄인가..</td>\n",
              "      <td>0</td>\n",
              "    </tr>\n",
              "    <tr>\n",
              "      <th>149996</th>\n",
              "      <td>8549745</td>\n",
              "      <td>평점이 너무 낮아서...</td>\n",
              "      <td>1</td>\n",
              "    </tr>\n",
              "    <tr>\n",
              "      <th>149997</th>\n",
              "      <td>9311800</td>\n",
              "      <td>이게 뭐요? 한국인은 거들먹거리고 필리핀 혼혈은 착하다?</td>\n",
              "      <td>0</td>\n",
              "    </tr>\n",
              "    <tr>\n",
              "      <th>149998</th>\n",
              "      <td>2376369</td>\n",
              "      <td>청춘 영화의 최고봉.방황과 우울했던 날들의 자화상</td>\n",
              "      <td>1</td>\n",
              "    </tr>\n",
              "    <tr>\n",
              "      <th>149999</th>\n",
              "      <td>9619869</td>\n",
              "      <td>한국 영화 최초로 수간하는 내용이 담긴 영화</td>\n",
              "      <td>0</td>\n",
              "    </tr>\n",
              "  </tbody>\n",
              "</table>\n",
              "<p>150000 rows × 3 columns</p>\n",
              "</div>\n",
              "      <button class=\"colab-df-convert\" onclick=\"convertToInteractive('df-78b49138-6d22-43c1-bffe-b085e08f0ef3')\"\n",
              "              title=\"Convert this dataframe to an interactive table.\"\n",
              "              style=\"display:none;\">\n",
              "        \n",
              "  <svg xmlns=\"http://www.w3.org/2000/svg\" height=\"24px\"viewBox=\"0 0 24 24\"\n",
              "       width=\"24px\">\n",
              "    <path d=\"M0 0h24v24H0V0z\" fill=\"none\"/>\n",
              "    <path d=\"M18.56 5.44l.94 2.06.94-2.06 2.06-.94-2.06-.94-.94-2.06-.94 2.06-2.06.94zm-11 1L8.5 8.5l.94-2.06 2.06-.94-2.06-.94L8.5 2.5l-.94 2.06-2.06.94zm10 10l.94 2.06.94-2.06 2.06-.94-2.06-.94-.94-2.06-.94 2.06-2.06.94z\"/><path d=\"M17.41 7.96l-1.37-1.37c-.4-.4-.92-.59-1.43-.59-.52 0-1.04.2-1.43.59L10.3 9.45l-7.72 7.72c-.78.78-.78 2.05 0 2.83L4 21.41c.39.39.9.59 1.41.59.51 0 1.02-.2 1.41-.59l7.78-7.78 2.81-2.81c.8-.78.8-2.07 0-2.86zM5.41 20L4 18.59l7.72-7.72 1.47 1.35L5.41 20z\"/>\n",
              "  </svg>\n",
              "      </button>\n",
              "      \n",
              "  <style>\n",
              "    .colab-df-container {\n",
              "      display:flex;\n",
              "      flex-wrap:wrap;\n",
              "      gap: 12px;\n",
              "    }\n",
              "\n",
              "    .colab-df-convert {\n",
              "      background-color: #E8F0FE;\n",
              "      border: none;\n",
              "      border-radius: 50%;\n",
              "      cursor: pointer;\n",
              "      display: none;\n",
              "      fill: #1967D2;\n",
              "      height: 32px;\n",
              "      padding: 0 0 0 0;\n",
              "      width: 32px;\n",
              "    }\n",
              "\n",
              "    .colab-df-convert:hover {\n",
              "      background-color: #E2EBFA;\n",
              "      box-shadow: 0px 1px 2px rgba(60, 64, 67, 0.3), 0px 1px 3px 1px rgba(60, 64, 67, 0.15);\n",
              "      fill: #174EA6;\n",
              "    }\n",
              "\n",
              "    [theme=dark] .colab-df-convert {\n",
              "      background-color: #3B4455;\n",
              "      fill: #D2E3FC;\n",
              "    }\n",
              "\n",
              "    [theme=dark] .colab-df-convert:hover {\n",
              "      background-color: #434B5C;\n",
              "      box-shadow: 0px 1px 3px 1px rgba(0, 0, 0, 0.15);\n",
              "      filter: drop-shadow(0px 1px 2px rgba(0, 0, 0, 0.3));\n",
              "      fill: #FFFFFF;\n",
              "    }\n",
              "  </style>\n",
              "\n",
              "      <script>\n",
              "        const buttonEl =\n",
              "          document.querySelector('#df-78b49138-6d22-43c1-bffe-b085e08f0ef3 button.colab-df-convert');\n",
              "        buttonEl.style.display =\n",
              "          google.colab.kernel.accessAllowed ? 'block' : 'none';\n",
              "\n",
              "        async function convertToInteractive(key) {\n",
              "          const element = document.querySelector('#df-78b49138-6d22-43c1-bffe-b085e08f0ef3');\n",
              "          const dataTable =\n",
              "            await google.colab.kernel.invokeFunction('convertToInteractive',\n",
              "                                                     [key], {});\n",
              "          if (!dataTable) return;\n",
              "\n",
              "          const docLinkHtml = 'Like what you see? Visit the ' +\n",
              "            '<a target=\"_blank\" href=https://colab.research.google.com/notebooks/data_table.ipynb>data table notebook</a>'\n",
              "            + ' to learn more about interactive tables.';\n",
              "          element.innerHTML = '';\n",
              "          dataTable['output_type'] = 'display_data';\n",
              "          await google.colab.output.renderOutput(dataTable, element);\n",
              "          const docLink = document.createElement('div');\n",
              "          docLink.innerHTML = docLinkHtml;\n",
              "          element.appendChild(docLink);\n",
              "        }\n",
              "      </script>\n",
              "    </div>\n",
              "  </div>\n",
              "  "
            ]
          },
          "metadata": {},
          "execution_count": 6
        }
      ],
      "source": [
        "train_data"
      ]
    },
    {
      "cell_type": "markdown",
      "source": [
        "- map을 사용해서 str을 list에 담는다. : https://dojang.io/mod/page/view.php?id=2286"
      ],
      "metadata": {
        "id": "sCoYB-8MBiPe"
      }
    },
    {
      "cell_type": "code",
      "execution_count": 7,
      "metadata": {
        "id": "N08BP1Gp_5Ie"
      },
      "outputs": [],
      "source": [
        "train_raw = list(map(str,train_data.document))\n",
        "test_raw = list(map(str,test_data.document))"
      ]
    },
    {
      "cell_type": "markdown",
      "metadata": {
        "id": "fKg9Xsj-5pCp"
      },
      "source": [
        "### 2) 분석"
      ]
    },
    {
      "cell_type": "code",
      "execution_count": 8,
      "metadata": {
        "colab": {
          "base_uri": "https://localhost:8080/",
          "height": 412
        },
        "id": "RVElvT0l-8rp",
        "outputId": "30102ecd-08e7-4074-e4b9-e627c0e472cc"
      },
      "outputs": [
        {
          "output_type": "stream",
          "name": "stdout",
          "text": [
            "문장의 최단 길이: 1\n",
            "문장의 최장 길이: 146\n",
            "문장의 평균 길이: 35\n"
          ]
        },
        {
          "output_type": "stream",
          "name": "stderr",
          "text": [
            "/usr/local/lib/python3.7/dist-packages/ipykernel_launcher.py:15: DeprecationWarning: `np.int` is a deprecated alias for the builtin `int`. To silence this warning, use `int` by itself. Doing this will not modify any behavior and is safe. When replacing `np.int`, you may wish to use e.g. `np.int64` or `np.int32` to specify the precision. If you wish to review your current use, check the release note link for additional information.\n",
            "Deprecated in NumPy 1.20; for more details and guidance: https://numpy.org/devdocs/release/1.20.0-notes.html#deprecations\n",
            "  from ipykernel import kernelapp as app\n"
          ]
        },
        {
          "output_type": "display_data",
          "data": {
            "text/plain": [
              "<Figure size 432x288 with 1 Axes>"
            ],
            "image/png": "[encoded data removed]"
          },
          "metadata": {
            "needs_background": "light"
          }
        }
      ],
      "source": [
        "min_len = 999\n",
        "max_len = 0\n",
        "sum_len = 0\n",
        "\n",
        "for sen in train_raw:\n",
        "    length = len(sen)\n",
        "    if min_len > length: min_len = length\n",
        "    if max_len < length: max_len = length\n",
        "    sum_len += length\n",
        "\n",
        "print(\"문장의 최단 길이:\", min_len)\n",
        "print(\"문장의 최장 길이:\", max_len)\n",
        "print(\"문장의 평균 길이:\", sum_len // len(train_raw))\n",
        "\n",
        "sentence_length = np.zeros((max_len), dtype=np.int)\n",
        "\n",
        "for sen in train_raw:\n",
        "    sentence_length[len(sen)-1] += 1\n",
        "\n",
        "plt.bar(range(max_len), sentence_length, width=1.0)\n",
        "plt.title(\"Sentence Length Distribution\")\n",
        "plt.show()"
      ]
    },
    {
      "cell_type": "code",
      "source": [
        "def check_sentence_with_length(raw, length):\n",
        "    count = 0\n",
        "    \n",
        "    for sen in raw:\n",
        "        if len(sen) == length:\n",
        "            print(sen)\n",
        "            count += 1\n",
        "            if count > 100: return\n",
        "\n",
        "check_sentence_with_length(train_raw, 1)"
      ],
      "metadata": {
        "colab": {
          "base_uri": "https://localhost:8080/"
        },
        "id": "yvEuBZWsCnqe",
        "outputId": "c0b570a9-2599-4fec-fbd8-02d0ac55bc50"
      },
      "execution_count": 9,
      "outputs": [
        {
          "output_type": "stream",
          "name": "stdout",
          "text": [
            "아\n",
            "잼\n",
            "1\n",
            "4\n",
            "4\n",
            "굿\n",
            "짱\n",
            "휴\n",
            ".\n",
            "1\n",
            "굿\n",
            "음\n",
            "?\n",
            "?\n",
            "ㅎ\n",
            "굿\n",
            "ㅋ\n",
            "굿\n",
            "즐\n",
            "♥\n",
            "굳\n",
            "ㅋ\n",
            "네\n",
            "ㅎ\n",
            "ㅋ\n",
            "굿\n",
            "ㅇ\n",
            "k\n",
            ".\n",
            "굿\n",
            "굿\n",
            "굳\n",
            "ㅠ\n",
            "?\n",
            "1\n",
            "ㅋ\n",
            "굿\n",
            "쒯\n",
            "굿\n",
            "굿\n",
            "굳\n",
            "♬\n",
            "굿\n",
            "토\n",
            "ㅋ\n",
            "ㅋ\n",
            "굿\n",
            "ㅋ\n",
            "굿\n",
            "O\n",
            "똥\n",
            "ㅎ\n",
            ".\n",
            "굿\n",
            "ㅎ\n",
            "짱\n",
            "굳\n",
            "굿\n",
            "굿\n",
            "짱\n",
            "?\n",
            "z\n",
            "굿\n",
            "짱\n",
            "음\n",
            "굳\n",
            "ㅇ\n",
            "헐\n",
            "굳\n",
            "굳\n",
            "굿\n",
            "굿\n",
            "굿\n",
            "삼\n",
            "꽝\n",
            "굿\n",
            "굿\n",
            "굿\n",
            "굿\n",
            "ㅎ\n",
            "굳\n",
            "굿\n",
            "4\n",
            "!\n",
            "?\n",
            "ㅎ\n",
            "1\n",
            "굳\n",
            ".\n",
            "ㅎ\n",
            "풉\n",
            "아\n",
            "굿\n",
            "똥\n",
            "ㅅ\n",
            "왜\n",
            "ㄴ\n",
            "굳\n",
            "쉣\n",
            "봐\n",
            "z\n"
          ]
        }
      ]
    },
    {
      "cell_type": "code",
      "source": [
        "for idx, _sum in enumerate(sentence_length):\n",
        "    # 문장의 수가 1500을 초과하는 문장 길이를 추출합니다.\n",
        "    if _sum > 2000:\n",
        "        print(\"Outlier Index:\", idx+1)"
      ],
      "metadata": {
        "colab": {
          "base_uri": "https://localhost:8080/"
        },
        "id": "pVv467rrCwEr",
        "outputId": "bd1b0046-e706-4170-a84f-001ba465cb6e"
      },
      "execution_count": 10,
      "outputs": [
        {
          "output_type": "stream",
          "name": "stdout",
          "text": [
            "Outlier Index: 10\n",
            "Outlier Index: 11\n",
            "Outlier Index: 12\n",
            "Outlier Index: 13\n",
            "Outlier Index: 14\n",
            "Outlier Index: 15\n",
            "Outlier Index: 16\n",
            "Outlier Index: 17\n",
            "Outlier Index: 18\n",
            "Outlier Index: 19\n",
            "Outlier Index: 20\n",
            "Outlier Index: 21\n",
            "Outlier Index: 22\n",
            "Outlier Index: 23\n",
            "Outlier Index: 24\n",
            "Outlier Index: 25\n",
            "Outlier Index: 26\n",
            "Outlier Index: 27\n",
            "Outlier Index: 28\n",
            "Outlier Index: 29\n",
            "Outlier Index: 30\n",
            "Outlier Index: 31\n",
            "Outlier Index: 32\n",
            "Outlier Index: 33\n",
            "Outlier Index: 34\n",
            "Outlier Index: 35\n",
            "Outlier Index: 36\n",
            "Outlier Index: 37\n",
            "Outlier Index: 38\n",
            "Outlier Index: 39\n",
            "Outlier Index: 40\n"
          ]
        }
      ]
    },
    {
      "cell_type": "code",
      "source": [
        "check_sentence_with_length(train_raw, 12)"
      ],
      "metadata": {
        "colab": {
          "base_uri": "https://localhost:8080/"
        },
        "id": "YDv9KfrkC2QA",
        "outputId": "d2364492-9b23-4f41-8667-2fe9a18fd8b7"
      },
      "execution_count": 11,
      "outputs": [
        {
          "output_type": "stream",
          "name": "stdout",
          "text": [
            "아햏햏 아햏햏 아햏햏.\n",
            "단연 최고라고 할수있지\n",
            "용가리 진짜짱짱맨이다ㅋ\n",
            "나름 괜찮은 작품입니다\n",
            "정말 실망 스러웟음..\n",
            "무술인이 왜 총을드나?\n",
            "너무너무 훈훈하네요^^\n",
            "현실은 꿈, 꿈은 현실\n",
            "답없네, 뭐하는건지..\n",
            "엔딩이 넘 슬퍼요 :(\n",
            "감동감동감동의 도가니탕\n",
            "정말 최고의 영화...\n",
            "진짜 짜증나는 영화..\n",
            "상당히 재밌게 봤습니다\n",
            "영상미가 역시 최고네요\n",
            "감독ㅡㅡ다신영화찍지마라\n",
            "이런 영화가 참 좋다.\n",
            "정말 광해와 비슷한가?\n",
            "더빙이 똥이야 ....\n",
            "잠을 청할 수 있었다.\n",
            "나오코 진짜 집중안된다\n",
            "샬라샬라 나오다즁자쥬아\n",
            "지루하다.. 지루해..\n",
            "사과해요, 나한테!!!\n",
            "소재가 굉장히 신선했다\n",
            "솔직히 산만 하기만했다\n",
            "OST가 좋은 영화!!\n",
            "기적은 이미 일어났다.\n",
            "답을 알려고 하지마라.\n",
            "평점은 믿지마셈 재밌음\n",
            "재미 드럽게 없다ㅋㅋㅋ\n",
            "자식을 그렇게 때리냐?\n",
            "감동적이였고 좋았습니다\n",
            "울컥하는 사회현실 ㅠㅠ\n",
            "등장인물들 모두 짱~~\n",
            "막장드라마가 따로없구만\n",
            "말 필요엄따~~~~진정\n",
            "꿀잼 영화 추억이다ㅜㅜ\n",
            "맞추자 ㅍ?차븟ㅇㄱ디시\n",
            "순수하고 아름답다 :)\n",
            "변태적 성욕 자기합리화\n",
            "흠....나름 갠찬네요\n",
            "걍 10점 이라길래..\n",
            "실력이 필요없는 상황.\n",
            "감동과 웃음을 한방에!\n",
            "이거야 이거 ㅋㅋㅋㅋㅋ\n",
            "성동일딸 시르다...참\n",
            "평점알바들을 위해 1점\n",
            "볼만합니다 강추!!ㅋㅋ\n",
            "이거말고 겨울왕국을봐라\n",
            "좋은니다..^.,^~~\n",
            "2.3 (10자 제한)\n",
            "아무도 안달았네..ㄷㄷ\n",
            "엉성하고 어설프고...\n",
            "그냥 보통으로 보았다.\n",
            "너무 슬픈영화..울음ㅠ\n",
            "으리는 개뿔 ㅡ,.ㅡ^\n",
            "처음 본 에로 영화..\n",
            "평점 조정을 위해...\n",
            "그냥 쓰레기지 쓰레기~\n",
            "쵝오네요 최고 대박영화\n",
            "유전무죄 무전유죄!!!\n",
            "의외의 꿀잼 이였습니다\n",
            "어차피 우승은 송민호~\n",
            "이 때부터가 쓰레기였지\n",
            "완전 찝찝한 영화...\n",
            "이상형이 바뀌었습니다.\n",
            "역시 산드라블록 누님!\n",
            "결국 엄마가 죽인거네?\n",
            "그냥 그저 별시리...\n",
            "추천할만한 경제영화였음\n",
            "제대로 알아야할 역사임\n",
            "일본판이더재미있음...\n",
            "역시 재미있군요 >ㅁ<\n",
            "아깝다 나의 1점도ㅡㅡ\n",
            "마음이 따뜻해지는 영화\n",
            "죽었다. 참 재미없다.\n",
            "최고, 정말 최고다,,\n",
            "공유 보려고 보는 영화\n",
            "재밌습니다. 꿀잼 ㅋㅋ\n",
            "조정래와 임권택의 만남\n",
            "간만에쓰레기영화보네요ㅋ\n",
            "너무재밌게 봤어요...\n",
            "의미가 뭘까...///\n",
            "이건 범죄 수준이다..\n",
            "박평식-뚜껑열린다ㅋㅋㅋ\n",
            "볼수록 재밌는 마의!!\n",
            "짱~ 오늘 티비로 봤음\n",
            "말없이 눈물이 뚝뚝..\n",
            "이렇게 유쾌할수가ㅋㅋㅋ\n",
            "완죤 지루하고 재미없네\n",
            "보다가 나가는 영화??\n",
            "에휴..........\n",
            "재미도 없구만...에효\n",
            "옥보단 3D보다 쓰레기\n",
            "반전이 꽤나 신선했다.\n",
            "허접허접허접허접허접허접\n",
            "독특한 유머. 재밌다.\n",
            "좀 식상한 스릴러영화~\n",
            "하하하핳하햐하핯하핳하하\n",
            "이영화 어디서 보나요?\n"
          ]
        }
      ]
    },
    {
      "cell_type": "code",
      "source": [
        "min_len = 999\n",
        "max_len = 0\n",
        "sum_len = 0\n",
        "\n",
        "cleaned_corpus = list(set(train_raw))  # set를 사용해서 중복을 제거합니다.\n",
        "print(\"Data Size:\", len(cleaned_corpus))\n",
        "\n",
        "for sen in cleaned_corpus:\n",
        "    length = len(sen)\n",
        "    if min_len > length: min_len = length\n",
        "    if max_len < length: max_len = length\n",
        "    sum_len += length\n",
        "\n",
        "print(\"문장의 최단 길이:\", min_len)\n",
        "print(\"문장의 최장 길이:\", max_len)\n",
        "print(\"문장의 평균 길이:\", sum_len // len(cleaned_corpus))\n",
        "\n",
        "sentence_length = np.zeros((max_len), dtype=np.int)\n",
        "\n",
        "for sen in cleaned_corpus:   # 중복이 제거된 코퍼스 기준\n",
        "    sentence_length[len(sen)-1] += 1\n",
        "\n",
        "plt.bar(range(max_len), sentence_length, width=1.0)\n",
        "plt.title(\"Sentence Length Distribution\")\n",
        "plt.show()"
      ],
      "metadata": {
        "colab": {
          "base_uri": "https://localhost:8080/",
          "height": 412
        },
        "id": "xxTnh2vHDFb1",
        "outputId": "8eb7b167-e714-403a-f00e-eb43179340f7"
      },
      "execution_count": 12,
      "outputs": [
        {
          "output_type": "stream",
          "name": "stdout",
          "text": [
            "Data Size: 146183\n",
            "문장의 최단 길이: 1\n",
            "문장의 최장 길이: 146\n",
            "문장의 평균 길이: 35\n"
          ]
        },
        {
          "output_type": "stream",
          "name": "stderr",
          "text": [
            "/usr/local/lib/python3.7/dist-packages/ipykernel_launcher.py:18: DeprecationWarning: `np.int` is a deprecated alias for the builtin `int`. To silence this warning, use `int` by itself. Doing this will not modify any behavior and is safe. When replacing `np.int`, you may wish to use e.g. `np.int64` or `np.int32` to specify the precision. If you wish to review your current use, check the release note link for additional information.\n",
            "Deprecated in NumPy 1.20; for more details and guidance: https://numpy.org/devdocs/release/1.20.0-notes.html#deprecations\n"
          ]
        },
        {
          "output_type": "display_data",
          "data": {
            "text/plain": [
              "<Figure size 432x288 with 1 Axes>"
            ],
            "image/png": "[encoded data removed]"
          },
          "metadata": {
            "needs_background": "light"
          }
        }
      ]
    },
    {
      "cell_type": "code",
      "source": [
        "max_len = 130\n",
        "min_len = 10\n",
        "\n",
        "# 길이 조건에 맞는 문장만 선택합니다.\n",
        "filtered_corpus = [s for s in cleaned_corpus if (len(s) < max_len) & (len(s) >= min_len)]\n",
        "\n",
        "# 분포도를 다시 그려봅니다.\n",
        "sentence_length = np.zeros((max_len), dtype=np.int)\n",
        "\n",
        "for sen in filtered_corpus:\n",
        "    sentence_length[len(sen)-1] += 1\n",
        "\n",
        "plt.bar(range(max_len), sentence_length, width=1.0)\n",
        "plt.title(\"Sentence Length Distribution\")\n",
        "plt.show()"
      ],
      "metadata": {
        "colab": {
          "base_uri": "https://localhost:8080/",
          "height": 356
        },
        "id": "NatkY-y_DHpm",
        "outputId": "8e58b71a-5562-4914-d98d-61450d691b32"
      },
      "execution_count": 13,
      "outputs": [
        {
          "output_type": "stream",
          "name": "stderr",
          "text": [
            "/usr/local/lib/python3.7/dist-packages/ipykernel_launcher.py:8: DeprecationWarning: `np.int` is a deprecated alias for the builtin `int`. To silence this warning, use `int` by itself. Doing this will not modify any behavior and is safe. When replacing `np.int`, you may wish to use e.g. `np.int64` or `np.int32` to specify the precision. If you wish to review your current use, check the release note link for additional information.\n",
            "Deprecated in NumPy 1.20; for more details and guidance: https://numpy.org/devdocs/release/1.20.0-notes.html#deprecations\n",
            "  \n"
          ]
        },
        {
          "output_type": "display_data",
          "data": {
            "text/plain": [
              "<Figure size 432x288 with 1 Axes>"
            ],
            "image/png": "[encoded data removed]"
          },
          "metadata": {
            "needs_background": "light"
          }
        }
      ]
    },
    {
      "cell_type": "code",
      "source": [
        "def SP_model_train(Mtype, vocab_size):\n",
        "  temp_file = '/content/drive/MyDrive/인공지능/아이펠/GoingDeeper/제출용/data/sp_tokenizer/data/ratings_train.txt.temp'\n",
        "\n",
        "  with open(temp_file, 'w') as f:\n",
        "      for row in filtered_corpus:   # 이전 스텝에서 정제했던 corpus를 활용합니다.\n",
        "          f.write(str(row) + '\\n')\n",
        "\n",
        "  if Mtype == 'bpe' or Mtype == 'unigram' or Mtype == 'char'or Mtype == 'word':\n",
        "    spm.SentencePieceTrainer.Train(\n",
        "        '--input={} --model_prefix=korean_spm --vocab_size={} --model_type={}'.format(temp_file, vocab_size, Mtype)    \n",
        "    )\n",
        "  else:\n",
        "    print(\"Mtype를 잘 못 입력 했습니다 'bpe', 'unigram', 'char', 'word' 중 하나를 입력해주세요\")\n",
        "    if __name__ == \"__main__\": # 참조 : https://www.delftstack.com/ko/howto/python/python-exit-if-statement/\n",
        "      load_data(0)  \n",
        "      print(\"Broken out\")\n",
        "  \n",
        "  #위 Train에서  --model_type = 'unigram'이 디폴트 적용되어 있습니다. --model_type = 'bpe' 로 옵션을 주어 변경할 수 있습니다.\n",
        "\n"
      ],
      "metadata": {
        "id": "5Pb8eadwCWKG"
      },
      "execution_count": 14,
      "outputs": []
    },
    {
      "cell_type": "markdown",
      "source": [
        "### model_type 실험\n",
        "\n",
        "> SentencePiece model_type : https://data-make.tistory.com/692\n",
        "<br><br>LMS에서는 unigram, bpe만 소개해했지만 해당 링크에서는 여기에 char, word를 추가로 소개해주고 있다. 따라서 나는 이 두개도 추가해서 실험해 볼 예정이다."
      ],
      "metadata": {
        "id": "V1bP6j-AQHKf"
      }
    },
    {
      "cell_type": "code",
      "source": [
        "# SP_model_train('unigram', 8000)\n",
        "# SP_model_train('bpe', 8000)\n",
        "# SP_model_train('char', 8000)\n",
        "# SP_model_train('word', 8000)\n",
        "SP_model_train('char', 16000)"
      ],
      "metadata": {
        "id": "2DhYsZb-DLxw"
      },
      "execution_count": 15,
      "outputs": []
    },
    {
      "cell_type": "markdown",
      "source": [
        "- unigram, 8000\n",
        "  - ![image.png](data:image/png;base64,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)\n",
        "- bpe, 8000\n",
        "  - ![image.png](data:image/png;base64,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)\n",
        "- char, 8000\n",
        "  - ![image.png](data:image/png;base64,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)\n",
        "- word, 8000\n",
        "  - ![image.png](data:image/png;base64,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)\n",
        "- char, 16000\n",
        "  - ![image.png](data:image/png;base64,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)"
      ],
      "metadata": {
        "id": "xpnBAIFEFQa5"
      }
    },
    {
      "cell_type": "markdown",
      "source": [
        "#### model_type 실험결과\n",
        "\n",
        "> LMS에서 소개하지 않은 char 모델이 가장 좋은 정확도를 보여주고 있는 것을 확인했다. vocab_size의 경우는 8000보다는 16000으로 했을 때 accuracy는 차이가 없지만 loss가 더 떨어진 것을 확인할 수 있었다. <br><br> 결론은 char, 16000을 사용하기로 한다."
      ],
      "metadata": {
        "id": "YEdzz7M7Mi-g"
      }
    },
    {
      "cell_type": "code",
      "source": [
        "!ls -l korean_spm*\n",
        "s = spm.SentencePieceProcessor()\n",
        "s.Load('korean_spm.model')"
      ],
      "metadata": {
        "colab": {
          "base_uri": "https://localhost:8080/"
        },
        "id": "ocT19IsJDCX5",
        "outputId": "b277c461-f640-4be2-9da7-2d4280414b6f"
      },
      "execution_count": 16,
      "outputs": [
        {
          "output_type": "stream",
          "name": "stdout",
          "text": [
            "-rw-r--r-- 1 root root 258138 Sep 24 01:55 korean_spm.model\n",
            "-rw-r--r-- 1 root root  21876 Sep 24 01:55 korean_spm.vocab\n"
          ]
        },
        {
          "output_type": "execute_result",
          "data": {
            "text/plain": [
              "True"
            ]
          },
          "metadata": {},
          "execution_count": 16
        }
      ]
    },
    {
      "cell_type": "code",
      "execution_count": 17,
      "metadata": {
        "id": "31DwIBVF3XH2"
      },
      "outputs": [],
      "source": [
        "def sp_tokenize(s, corpus):\n",
        "\n",
        "    tensor = []\n",
        "\n",
        "    for sen in corpus:\n",
        "        tensor.append(s.EncodeAsIds(sen))\n",
        "\n",
        "    with open(\"./korean_spm.vocab\", 'r') as f:\n",
        "        vocab = f.readlines()\n",
        "\n",
        "    word_index = {}\n",
        "    index_word = {}\n",
        "\n",
        "    for idx, line in enumerate(vocab):\n",
        "        word = line.split(\"\\t\")[0]\n",
        "\n",
        "        word_index.update({word:idx})\n",
        "        index_word.update({idx:word})\n",
        "\n",
        "    tensor = tf.keras.preprocessing.sequence.pad_sequences(tensor, padding='pre')\n",
        "\n",
        "    return tensor, word_index, index_word"
      ]
    },
    {
      "cell_type": "code",
      "source": [
        "def load_data(train_data, test_data):\n",
        "\n",
        "    train_data.drop_duplicates(subset=['document'], inplace=True)\n",
        "    train_data = train_data.dropna(how = 'any') \n",
        "\n",
        "    test_data.drop_duplicates(subset=['document'], inplace=True)\n",
        "    test_data = test_data.dropna(how = 'any') \n",
        "    X_train, word_index, index_word = sp_tokenize(s,list(map(str,train_data['document']))) # 토큰화\n",
        "\n",
        "    X_test, word_index, index_word = sp_tokenize(s,list(map(str,test_data['document']))) # 토큰화\n",
        "\n",
        "        \n",
        "    return np.array(list(X_train)), np.array(list(train_data['label'])), np.array(list(X_test)), np.array(list(test_data['label']))  \n",
        "\n",
        "X_train, y_train, X_test, y_test= load_data(train_data, test_data) "
      ],
      "metadata": {
        "id": "HGKp-KF4H7Ys"
      },
      "execution_count": 18,
      "outputs": []
    },
    {
      "cell_type": "markdown",
      "source": [
        "### vocab_size 실험\n",
        "> 기본값 8000으로 지정 하고 4000, 8000, 16000, 24000으로 총 4가지 경우의 수로 실험"
      ],
      "metadata": {
        "id": "cKttMljpQdGP"
      }
    },
    {
      "cell_type": "code",
      "source": [],
      "metadata": {
        "id": "E3YSjvASQ7Xb"
      },
      "execution_count": 18,
      "outputs": []
    },
    {
      "cell_type": "markdown",
      "source": [
        "- 4000\n",
        "  - ![image.png](data:image/png;base64,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)\n",
        "- 8000\n",
        "  - model_type 실험 참고\n",
        "- 16000\n",
        "  - \n",
        "- 24000\n",
        "  - "
      ],
      "metadata": {
        "id": "NTSPVFmSR9pG"
      }
    },
    {
      "cell_type": "code",
      "source": [
        "# validation set 10000건 분리\n",
        "X_val = X_train[:50000]   \n",
        "y_val = y_train[:50000]\n",
        "\n",
        "\n",
        "# validation set을 제외한 나머지 15000건\n",
        "partial_X_train = X_train[50000:]  \n",
        "partial_y_train = y_train[50000:]\n",
        "\n",
        "print(partial_X_train.shape)\n",
        "print(partial_y_train.shape)\n",
        "print(X_val.shape)\n",
        "print(y_val.shape)"
      ],
      "metadata": {
        "colab": {
          "base_uri": "https://localhost:8080/"
        },
        "id": "rc_J4W_-Fijr",
        "outputId": "5c0d1ef9-5d1f-47a8-b52a-683e0936923e"
      },
      "execution_count": 19,
      "outputs": [
        {
          "output_type": "stream",
          "name": "stdout",
          "text": [
            "(96182, 147)\n",
            "(96182,)\n",
            "(50000, 147)\n",
            "(50000,)\n"
          ]
        }
      ]
    },
    {
      "cell_type": "code",
      "source": [
        "print(\"훈련 샘플 개수: {}, 테스트 개수: {}\".format(len(X_train), len(X_test)))"
      ],
      "metadata": {
        "colab": {
          "base_uri": "https://localhost:8080/"
        },
        "id": "kFd39kBg_nF5",
        "outputId": "f776767a-546c-4172-e35e-07f6590207fd"
      },
      "execution_count": 20,
      "outputs": [
        {
          "output_type": "stream",
          "name": "stdout",
          "text": [
            "훈련 샘플 개수: 146182, 테스트 개수: 49157\n"
          ]
        }
      ]
    },
    {
      "cell_type": "markdown",
      "metadata": {
        "id": "6bkMjaP-5arV"
      },
      "source": [
        "## 4.SentencePiece 모델 학습"
      ]
    },
    {
      "cell_type": "markdown",
      "metadata": {
        "id": "8F4O5rSmGQVX"
      },
      "source": [
        "## 5. Tokenizer 함수 작성"
      ]
    },
    {
      "cell_type": "markdown",
      "metadata": {
        "id": "HfoSlsZkJLn8"
      },
      "source": [
        "## 6. 네이버 영화리뷰 감정 분석 문제에 SentencePiece 적용해 보기\n",
        "\n",
        "네이버 영화리뷰 감정 분석 태스크가 있습니다. 한국어로 된 corpus를 다루어야 하므로 주로 KoNLPy에서 제공하는 형태소 분석기를 사용하여 텍스트를 전처리해서 RNN 모델을 분류기로 사용하게 되는데요.\n",
        "\n",
        "만약 이 문제에서 tokenizer를 SentencePiece로 바꾸어 다시 풀어본다면 더 성능이 좋아질까요? KoNLPy에 있는 Mecab, kkma, Okt 등과 비교해보세요.\n",
        "\n",
        "- 네이버 영화리뷰 감정 분석 코퍼스에 SentencePiece를 적용시킨 모델 학습하기\n",
        "- 학습된 모델로 sp_tokenize() 메소드 구현하기\n",
        "- 구현된 토크나이저를 적용하여 네이버 영화리뷰 감정 분석 모델을 재학습하기\n",
        "- KoNLPy 형태소 분석기를 사용한 모델과 성능 비교하기\n",
        "- SentencePiece 모델의 model_type, vocab_size 등을 변경해 가면서 성능 개선 여부 확인하기\n",
        "\n",
        "Word Vector는 활용할 필요가 없습니다. 활용이 가능하지도 않을 것입니다."
      ]
    },
    {
      "cell_type": "markdown",
      "metadata": {
        "id": "Q6VyYlcY-hq8"
      },
      "source": [
        "중복제거 넘 값 제거"
      ]
    },
    {
      "cell_type": "code",
      "execution_count": 21,
      "metadata": {
        "colab": {
          "base_uri": "https://localhost:8080/"
        },
        "id": "IryB7pd12kup",
        "outputId": "2f2ec1a2-eda8-4843-d0a1-c87dc3a7bc7f"
      },
      "outputs": [
        {
          "output_type": "stream",
          "name": "stdout",
          "text": [
            "Model: \"sequential\"\n",
            "_________________________________________________________________\n",
            " Layer (type)                Output Shape              Param #   \n",
            "=================================================================\n",
            " embedding (Embedding)       (None, None, 130)         1040000   \n",
            "                                                                 \n",
            " lstm (LSTM)                 (None, 16)                9408      \n",
            "                                                                 \n",
            " dense (Dense)               (None, 16)                272       \n",
            "                                                                 \n",
            " dense_1 (Dense)             (None, 1)                 17        \n",
            "                                                                 \n",
            "=================================================================\n",
            "Total params: 1,049,697\n",
            "Trainable params: 1,049,697\n",
            "Non-trainable params: 0\n",
            "_________________________________________________________________\n"
          ]
        }
      ],
      "source": [
        "vocab_size = 8000  # 어휘 사전의 크기입니다(10개의 단어)\n",
        "word_vector_dim = 130  # 단어 하나를 표현하는 임베딩 벡터의 차원수입니다. \n",
        "\n",
        "model_lstm = tf.keras.Sequential()\n",
        "model_lstm.add(tf.keras.layers.Embedding(vocab_size, word_vector_dim, input_shape=(None,)))\n",
        "model_lstm.add(tf.keras.layers.LSTM(16))   # 가장 널리 쓰이는 RNN인 LSTM 레이어를 사용하였습니다. 이때 LSTM state 벡터의 차원수는 8로 하였습니다. (변경 가능)\n",
        "model_lstm.add(tf.keras.layers.Dense(16, activation='relu'))\n",
        "model_lstm.add(tf.keras.layers.Dense(1, activation='sigmoid'))  # 최종 출력은 긍정/부정을 나타내는 1dim 입니다.\n",
        "\n",
        "model_lstm.summary()"
      ]
    },
    {
      "cell_type": "code",
      "source": [
        "model_lstm.compile(optimizer='adam',\n",
        "              loss='binary_crossentropy',\n",
        "              metrics=['accuracy'])"
      ],
      "metadata": {
        "id": "7RhJMKhrMp-n"
      },
      "execution_count": 22,
      "outputs": []
    },
    {
      "cell_type": "code",
      "execution_count": 23,
      "metadata": {
        "colab": {
          "base_uri": "https://localhost:8080/"
        },
        "id": "s54DEhO4BHtf",
        "outputId": "712fa994-7846-49f0-e639-72d4b68c8369"
      },
      "outputs": [
        {
          "output_type": "stream",
          "name": "stdout",
          "text": [
            "Epoch 1/20\n",
            "188/188 [==============================] - 6s 22ms/step - loss: 0.5315 - accuracy: 0.7364 - val_loss: 0.4517 - val_accuracy: 0.7929\n",
            "Epoch 2/20\n",
            "188/188 [==============================] - 4s 20ms/step - loss: 0.4421 - accuracy: 0.7982 - val_loss: 0.4294 - val_accuracy: 0.8028\n",
            "Epoch 3/20\n",
            "188/188 [==============================] - 3s 18ms/step - loss: 0.4167 - accuracy: 0.8092 - val_loss: 0.4127 - val_accuracy: 0.8077\n",
            "Epoch 4/20\n",
            "188/188 [==============================] - 3s 17ms/step - loss: 0.3948 - accuracy: 0.8195 - val_loss: 0.4170 - val_accuracy: 0.8073\n",
            "Epoch 5/20\n",
            "188/188 [==============================] - 3s 17ms/step - loss: 0.3802 - accuracy: 0.8274 - val_loss: 0.3911 - val_accuracy: 0.8220\n",
            "Epoch 6/20\n",
            "188/188 [==============================] - 3s 17ms/step - loss: 0.3673 - accuracy: 0.8342 - val_loss: 0.3844 - val_accuracy: 0.8260\n",
            "Epoch 7/20\n",
            "188/188 [==============================] - 3s 17ms/step - loss: 0.3564 - accuracy: 0.8408 - val_loss: 0.3799 - val_accuracy: 0.8285\n",
            "Epoch 8/20\n",
            "188/188 [==============================] - 3s 17ms/step - loss: 0.3459 - accuracy: 0.8463 - val_loss: 0.3789 - val_accuracy: 0.8297\n",
            "Epoch 9/20\n",
            "188/188 [==============================] - 3s 18ms/step - loss: 0.3374 - accuracy: 0.8512 - val_loss: 0.3758 - val_accuracy: 0.8318\n",
            "Epoch 10/20\n",
            "188/188 [==============================] - 3s 18ms/step - loss: 0.3290 - accuracy: 0.8549 - val_loss: 0.3848 - val_accuracy: 0.8300\n",
            "Epoch 11/20\n",
            "188/188 [==============================] - 3s 17ms/step - loss: 0.3220 - accuracy: 0.8589 - val_loss: 0.3765 - val_accuracy: 0.8347\n",
            "Epoch 12/20\n",
            "188/188 [==============================] - 3s 17ms/step - loss: 0.3145 - accuracy: 0.8626 - val_loss: 0.3729 - val_accuracy: 0.8350\n",
            "Epoch 13/20\n",
            "188/188 [==============================] - 3s 18ms/step - loss: 0.3064 - accuracy: 0.8673 - val_loss: 0.3735 - val_accuracy: 0.8374\n",
            "Epoch 14/20\n",
            "188/188 [==============================] - 3s 17ms/step - loss: 0.2981 - accuracy: 0.8724 - val_loss: 0.3772 - val_accuracy: 0.8376\n",
            "Epoch 15/20\n",
            "188/188 [==============================] - 3s 17ms/step - loss: 0.2933 - accuracy: 0.8739 - val_loss: 0.3758 - val_accuracy: 0.8387\n",
            "Epoch 16/20\n",
            "188/188 [==============================] - 3s 17ms/step - loss: 0.2845 - accuracy: 0.8787 - val_loss: 0.3817 - val_accuracy: 0.8376\n",
            "Epoch 17/20\n",
            "188/188 [==============================] - 3s 17ms/step - loss: 0.2766 - accuracy: 0.8828 - val_loss: 0.3803 - val_accuracy: 0.8380\n",
            "Epoch 18/20\n",
            "188/188 [==============================] - 3s 17ms/step - loss: 0.2714 - accuracy: 0.8852 - val_loss: 0.3896 - val_accuracy: 0.8385\n",
            "Epoch 19/20\n",
            "188/188 [==============================] - 3s 17ms/step - loss: 0.2635 - accuracy: 0.8907 - val_loss: 0.3908 - val_accuracy: 0.8397\n",
            "Epoch 20/20\n",
            "188/188 [==============================] - 3s 17ms/step - loss: 0.2577 - accuracy: 0.8934 - val_loss: 0.3902 - val_accuracy: 0.8373\n"
          ]
        }
      ],
      "source": [
        "epochs=20  # 몇 epoch를 훈련하면 좋을지 결과를 보면서 바꾸어 봅시다. \n",
        "\n",
        "history_lstm = model_lstm.fit(partial_X_train,\n",
        "                    partial_y_train,\n",
        "                    epochs=epochs,\n",
        "                    batch_size=512,\n",
        "                    validation_data=(X_val, y_val),\n",
        "                    verbose=1)"
      ]
    },
    {
      "cell_type": "code",
      "source": [
        "history_dict = history_lstm.history\n",
        "\n",
        "acc = history_dict['accuracy']\n",
        "val_acc = history_dict['val_accuracy']\n",
        "loss = history_dict['loss']\n",
        "val_loss = history_dict['val_loss']\n",
        "\n",
        "epochs = range(1, len(acc) + 1)\n",
        "\n",
        "f, ax = plt.subplots(1,2,figsize=(16,8))\n",
        "\n",
        "# \"bo\"는 \"파란색 점\"입니다\n",
        "ax[0].plot(epochs, loss, 'bo', label='Training loss')\n",
        "# b는 \"파란 실선\"입니다\n",
        "ax[0].plot(epochs, val_loss, 'b', label='Validation loss')\n",
        "ax[0].set_title('Training and validation loss')\n",
        "ax[0].set_xlabel('Epochs')\n",
        "ax[0].set_ylabel('Loss')\n",
        "ax[0].legend()\n",
        "\n",
        "\n",
        "ax[1].plot(epochs, acc, 'bo', label='Training acc')\n",
        "ax[1].plot(epochs, val_acc, 'b', label='Validation acc')\n",
        "ax[1].set_title('Training and validation accuracy')\n",
        "ax[1].set_xlabel('Epochs')\n",
        "ax[1].set_ylabel('Accuracy')\n",
        "ax[1].legend()\n",
        "\n",
        "plt.show()"
      ],
      "metadata": {
        "colab": {
          "base_uri": "https://localhost:8080/",
          "height": 513
        },
        "id": "R0BV1FILeb0q",
        "outputId": "9302f1c6-8bc3-4892-8023-6ace71f67851"
      },
      "execution_count": 24,
      "outputs": [
        {
          "output_type": "display_data",
          "data": {
            "text/plain": [
              "<Figure size 1152x576 with 2 Axes>"
            ],
            "image/png": "[encoded data removed]"
          },
          "metadata": {
            "needs_background": "light"
          }
        }
      ]
    },
    {
      "cell_type": "code",
      "execution_count": 25,
      "metadata": {
        "id": "tDbB_SqiQbfT",
        "colab": {
          "base_uri": "https://localhost:8080/"
        },
        "outputId": "34b95e94-4e70-4acb-b1ab-00e8f3274516"
      },
      "outputs": [
        {
          "output_type": "stream",
          "name": "stdout",
          "text": [
            "1537/1537 - 6s - loss: 0.3936 - accuracy: 0.8355 - 6s/epoch - 4ms/step\n",
            "[0.39356380701065063, 0.8355473279953003]\n"
          ]
        }
      ],
      "source": [
        "results = model_lstm.evaluate(X_test,  y_test, verbose=2)\n",
        "\n",
        "print(results)"
      ]
    },
    {
      "cell_type": "code",
      "source": [],
      "metadata": {
        "id": "H92nuWmi_8Cf"
      },
      "execution_count": 25,
      "outputs": []
    }
  ],
  "metadata": {
    "accelerator": "GPU",
    "colab": {
      "collapsed_sections": [],
      "machine_shape": "hm",
      "provenance": [],
      "mount_file_id": "1wQAJEBBtJLhf6aRAXLGgCuQw6ipRMKG3",
      "authorship_tag": "ABX9TyMNTVMuGOfxRpKEdU+mOHxH",
      "include_colab_link": true
    },
    "kernelspec": {
      "display_name": "Python 3",
      "name": "python3"
    },
    "language_info": {
      "name": "python"
    }
  },
  "nbformat": 4,
  "nbformat_minor": 0
}